{
  "nbformat": 4,
  "nbformat_minor": 0,
  "metadata": {
    "colab": {
      "provenance": [],
      "include_colab_link": true
    },
    "kernelspec": {
      "name": "python3",
      "display_name": "Python 3"
    },
    "language_info": {
      "name": "python"
    }
  },
  "cells": [
    {
      "cell_type": "markdown",
      "metadata": {
        "id": "view-in-github",
        "colab_type": "text"
      },
      "source": [
        "<a href=\"https://colab.research.google.com/github/poudyaldiksha/Data-Science-project/blob/main/Lesson_4_b2.ipynb\" target=\"_parent\"><img src=\"https://colab.research.google.com/assets/colab-badge.svg\" alt=\"Open In Colab\"/></a>"
      ]
    },
    {
      "cell_type": "markdown",
      "source": [
        "# Lesson 4:Global keyword,lamba function, Module, Lists, Features of Lists, Nested Lists"
      ],
      "metadata": {
        "id": "mriLK0LaIeMq"
      }
    },
    {
      "cell_type": "markdown",
      "source": [
        "### Activity 1:The `global` Keyword\n",
        "\n",
        "<b><font color=green>What is  meant by global variables?</b></font>\n",
        "\n",
        "Global vs Local Variables\n",
        "\n",
        "- The variables declared outside  user-defined functions are called the global variables.\n",
        "- The variables declared inside user-defined functions are called the local variables.\n",
        "\n",
        "**Note:**\n",
        "\n",
        "To modify the value stored in a variable using a user-defined function, we need to declare that variable with the `global` keyword inside the function."
      ],
      "metadata": {
        "id": "x8X39QoZpY7M"
      }
    },
    {
      "cell_type": "code",
      "source": [
        "# example\n",
        "global_var = \"I am global\" # global variable\n",
        "\n",
        "def func():\n",
        "    local_var = \"I am local\" # local variable\n",
        "    print(global_var) # Accessible\n",
        "    print(local_var)  # Accessible\n",
        "\n",
        "func()"
      ],
      "metadata": {
        "id": "lp5WA2sZ4K0-",
        "colab": {
          "base_uri": "https://localhost:8080/"
        },
        "outputId": "c98aceb2-a58b-4cba-e643-7364da8297d3"
      },
      "execution_count": null,
      "outputs": [
        {
          "output_type": "stream",
          "name": "stdout",
          "text": [
            "I am global\n",
            "I am local\n"
          ]
        }
      ]
    },
    {
      "cell_type": "code",
      "source": [
        "#Write a function that uses a global variable and changes its value.\n",
        "\n",
        "a = 5 # global variable\n",
        "def add_n(b,c):\n",
        "    d = 2 # local variable\n",
        "    global a\n",
        "\n",
        "    a= a+2\n",
        "    sum = b+c+a+d\n",
        "\n",
        "    return sum\n",
        "add_n(1,2)"
      ],
      "metadata": {
        "id": "ahR0sOyL5yBb",
        "colab": {
          "base_uri": "https://localhost:8080/"
        },
        "outputId": "17c10f1f-008c-4309-a500-f942bd6d706f"
      },
      "execution_count": null,
      "outputs": [
        {
          "output_type": "execute_result",
          "data": {
            "text/plain": [
              "12"
            ]
          },
          "metadata": {},
          "execution_count": 27
        }
      ]
    },
    {
      "cell_type": "code",
      "source": [
        "id(a)"
      ],
      "metadata": {
        "colab": {
          "base_uri": "https://localhost:8080/"
        },
        "id": "W4lRfxI7qewp",
        "outputId": "2989c79f-5a5b-48b4-dbc2-e6d179d594e1"
      },
      "execution_count": null,
      "outputs": [
        {
          "output_type": "execute_result",
          "data": {
            "text/plain": [
              "136464883089776"
            ]
          },
          "metadata": {},
          "execution_count": 24
        }
      ]
    },
    {
      "cell_type": "code",
      "source": [
        "a"
      ],
      "metadata": {
        "colab": {
          "base_uri": "https://localhost:8080/"
        },
        "id": "wdtUE0ukq5Zf",
        "outputId": "a55a232a-606a-46a0-aa0f-8ebc4d40b827"
      },
      "execution_count": null,
      "outputs": [
        {
          "output_type": "execute_result",
          "data": {
            "text/plain": [
              "5"
            ]
          },
          "metadata": {},
          "execution_count": 25
        }
      ]
    },
    {
      "cell_type": "markdown",
      "source": [
        "### Activity 2: Anonymous Functions | Lambda\n",
        "\n",
        "Lambda functions are small anonymous functions defined with the lambda keyword.\n",
        "\n",
        " They are useful for short, simple operations and are typically used in situations where you need a small function for a short period of time, often as an argument to higher-order functions.\n",
        "\n",
        " Syntax\n",
        "```\n",
        "lambda arguments: expression\n",
        "```\n",
        "- **arguments:** A comma-separated list of arguments.\n",
        "- **expression:** An expression executed and returned by the function.`"
      ],
      "metadata": {
        "id": "utEDm13n5F4b"
      }
    },
    {
      "cell_type": "code",
      "source": [
        "# Lambda function to add two numbers\n",
        "add = lambda x,y : x+y\n",
        "print(add(4,5))\n",
        "# Lambda function to square a number\n",
        "square = lambda x: x**2\n",
        "print(square(4))"
      ],
      "metadata": {
        "id": "8NQ4vutM5JcS",
        "colab": {
          "base_uri": "https://localhost:8080/"
        },
        "outputId": "3b8d41e5-b650-49c6-a674-e32ca1f18e16"
      },
      "execution_count": null,
      "outputs": [
        {
          "output_type": "stream",
          "name": "stdout",
          "text": [
            "9\n",
            "16\n"
          ]
        }
      ]
    },
    {
      "cell_type": "code",
      "source": [
        "#Write a function that acts as a simple calculator.\n",
        "#It should take three arguments: two numbers and an operation (+, -, *, /), and return the result.\n",
        "def calculator(a ,b , o):\n",
        "  if o == \"+\":\n",
        "    return a+b\n",
        "  elif o ==\"-\":\n",
        "    return a - b\n",
        "  elif o == \"*\":\n",
        "    return a*b\n",
        "  elif o ==\"/\":\n",
        "    return a/b\n",
        "  else:\n",
        "    return \"invalid operation\"\n",
        "\n"
      ],
      "metadata": {
        "id": "ExoK4z4u5ad3"
      },
      "execution_count": null,
      "outputs": []
    },
    {
      "cell_type": "code",
      "source": [
        "calculator(3,4,\"+\")"
      ],
      "metadata": {
        "colab": {
          "base_uri": "https://localhost:8080/"
        },
        "id": "rZ3Wj3HSr9Tz",
        "outputId": "2049a902-7211-4790-eb34-5734a9f40d23"
      },
      "execution_count": null,
      "outputs": [
        {
          "output_type": "execute_result",
          "data": {
            "text/plain": [
              "7"
            ]
          },
          "metadata": {},
          "execution_count": 31
        }
      ]
    },
    {
      "cell_type": "markdown",
      "source": [
        "### Activity 3: Importing A Module\n",
        "\n",
        "Some functions in Python cannot be used directly. To use such a function, you first need to import a module in which that function exists and then use the required function.\n",
        "\n",
        "*For all practical purposes, a module is a collection of some special functions which are used occasionally.*\n",
        "\n",
        "The **syntax** for using a special function which exists in a module is\n",
        "\n",
        "`import module_name`    \n",
        "\n",
        "`module_name.function_name`\n",
        "\n",
        "\n",
        "**NOTE:**\n",
        "<font color=\"Green\">\n",
        "<ol>\n",
        "\n",
        "<li>Always import a module at the very beginning in your code.</li>\n",
        "\n",
        "<li> A module needs to be imported only once. However, everybody has to import a module at-least-once at their respective ends.</li>\n",
        "\n",
        "<li>The dot (`.`) operator is used to call a function from a module.</li>\n",
        "\n",
        "</ol>\n",
        "\n",
        "</font>\n",
        "\n",
        "Let's try to generate a random number between `1` and `6` using the `randint()` function. It will return either `1, 2, 3, 4, 5,` or `6`. In case you have noticed, this is a simulation of a die roll."
      ],
      "metadata": {
        "id": "lMu_YVmm7Lrg"
      }
    },
    {
      "cell_type": "code",
      "source": [
        "a = 7\n",
        "b= 6"
      ],
      "metadata": {
        "id": "Dpo7_jdjt2Xh"
      },
      "execution_count": null,
      "outputs": []
    },
    {
      "cell_type": "code",
      "source": [
        "random.randint(1,6)\n"
      ],
      "metadata": {
        "colab": {
          "base_uri": "https://localhost:8080/"
        },
        "id": "goHyuOuCt57L",
        "outputId": "11f4cd17-8d58-4639-a21d-09f827122855"
      },
      "execution_count": null,
      "outputs": [
        {
          "output_type": "execute_result",
          "data": {
            "text/plain": [
              "5"
            ]
          },
          "metadata": {},
          "execution_count": 41
        }
      ]
    },
    {
      "cell_type": "code",
      "source": [
        "# Activity: Import the 'random' module to use the 'randint()' function to generate an integer between 1 and 6 randomly.\n",
        "import random\n",
        "d = random.randint(1,6)\n",
        "d"
      ],
      "metadata": {
        "id": "2wFBB1Lf7-7U",
        "colab": {
          "base_uri": "https://localhost:8080/"
        },
        "outputId": "9c73fb7b-b8e3-4552-e1e4-a9b2a8061201"
      },
      "execution_count": null,
      "outputs": [
        {
          "output_type": "execute_result",
          "data": {
            "text/plain": [
              "2"
            ]
          },
          "metadata": {},
          "execution_count": 40
        }
      ]
    },
    {
      "cell_type": "markdown",
      "source": [
        "In the above code,\n",
        "\n",
        "- We have first imported the `random` module.\n",
        "\n",
        "- Then we have generated an integer between `1` and `6` and stored it in a variable called `die_roll`.\n",
        "\n",
        "- Then, we have printed the value stored in the `die_roll` variable using the `print()` function.\n",
        "\n",
        "<font color=green><b>You may get a different number as an output every time you run the above code. </b></font>\n"
      ],
      "metadata": {
        "id": "GZNlP7JI8DeQ"
      }
    },
    {
      "cell_type": "markdown",
      "source": [
        " <font color= purple>**NOTE:** We have to import a module just once before using its functions. We don't have to import it again and again.</font>"
      ],
      "metadata": {
        "id": "DtdccFKF8PZT"
      }
    },
    {
      "cell_type": "markdown",
      "source": [
        "### Activity 4: Python Lists\n",
        "\n",
        "Before starting Python lists, let us understand the concept of Data Structure.\n",
        "\n",
        "**Data Structure:**\n",
        "- We know that variables can store only 1 value at a time.\n",
        "- Data structures are used to store **multiple** values inside a single variable in an organised way such that the values can be easily accessed and modified.\n",
        "\n",
        "**What is a Python List?**\n",
        "\n",
        "A Python list is a **data structure** which can contain more than one value at-a-time.\n",
        "\n",
        "A value in a list is generally referred to as an **item** or an **element**.\n",
        "\n",
        "A Python list is created using the square brackets `[]`. Each item in a Python list is separated by a comma.\n",
        "\n",
        "**Key Features of Python Lists**\n",
        "- **Ordered:** Elements in a list have a defined order, and this order will not change unless explicitly modified.\n",
        "- **Mutable:** Lists can be changed after their creation by adding, removing, or modifying elements.\n",
        "- **Heterogeneous:** Lists can contain elements of different data types, including numbers, strings, other lists, and objects.\n",
        "- **Dynamic:** Lists can grow and shrink in size as needed.\n"
      ],
      "metadata": {
        "id": "whN50VtyCdVE"
      }
    },
    {
      "cell_type": "code",
      "source": [
        "q = [1,2,3,4]"
      ],
      "metadata": {
        "id": "bSwKca5SvONj"
      },
      "execution_count": null,
      "outputs": []
    },
    {
      "cell_type": "code",
      "source": [
        "print(q)"
      ],
      "metadata": {
        "colab": {
          "base_uri": "https://localhost:8080/"
        },
        "id": "l0pzHYOXvb8p",
        "outputId": "6c802653-4671-4c74-c9b1-ba4ad9ba94a4"
      },
      "execution_count": null,
      "outputs": [
        {
          "output_type": "stream",
          "name": "stdout",
          "text": [
            "[1, 2, 3, 4]\n"
          ]
        }
      ]
    },
    {
      "cell_type": "code",
      "source": [
        "type(q)"
      ],
      "metadata": {
        "colab": {
          "base_uri": "https://localhost:8080/"
        },
        "id": "omSsISPMvWv7",
        "outputId": "7eadf7df-940a-4533-a63b-29d3dbf3b0a4"
      },
      "execution_count": null,
      "outputs": [
        {
          "output_type": "execute_result",
          "data": {
            "text/plain": [
              "list"
            ]
          },
          "metadata": {},
          "execution_count": 43
        }
      ]
    },
    {
      "cell_type": "code",
      "source": [
        "# example of a list\n",
        "groceries_list = [\"rice\",\"wheat\",\"milk\",\"honey\",\"fruits\"]\n",
        "groceries_list"
      ],
      "metadata": {
        "id": "5z3NFr-mC4DM",
        "colab": {
          "base_uri": "https://localhost:8080/"
        },
        "outputId": "a63a4cc3-06d3-4f40-fe97-2d1b6b42e4b9"
      },
      "execution_count": null,
      "outputs": [
        {
          "output_type": "execute_result",
          "data": {
            "text/plain": [
              "['rice', 'wheat', 'milk', 'honey', 'fruits']"
            ]
          },
          "metadata": {},
          "execution_count": 46
        }
      ]
    },
    {
      "cell_type": "markdown",
      "source": [
        "###Activity 5: The `in` And `not in` Keywords\n",
        "\n",
        "\n",
        "\n",
        "Now, let's learn the `in` and `not in` keywords.\n",
        "\n",
        "These keywords are used to check whether an item exists in a Python list or not.\n",
        "\n",
        "\n",
        "\n",
        "<b><u>The `in` Keyword:</u></b>\n",
        "\n",
        "If an item exists in a list, then `in` returns `True` otherwise it returns `False`.\n",
        "\n",
        "<b><u>The `not in` Keyword:</u></b>\n",
        "\n",
        "The `not in` keyword is the exact opposite of the `in` keyword. If an item exists in a list, then `not in` returns `False` otherwise it returns `True`."
      ],
      "metadata": {
        "id": "X0b_51TQDKKF"
      }
    },
    {
      "cell_type": "code",
      "source": [
        "groceries_list"
      ],
      "metadata": {
        "colab": {
          "base_uri": "https://localhost:8080/"
        },
        "id": "ikcyeNT_v_8x",
        "outputId": "1f490311-a65a-4f0a-b7ca-e79ec644aef9"
      },
      "execution_count": null,
      "outputs": [
        {
          "output_type": "execute_result",
          "data": {
            "text/plain": [
              "['rice', 'wheat', 'milk', 'honey', 'fruits']"
            ]
          },
          "metadata": {},
          "execution_count": 47
        }
      ]
    },
    {
      "cell_type": "code",
      "source": [
        "# create a list and use in keyword\n",
        "\"Rice\" in groceries_list"
      ],
      "metadata": {
        "id": "5tpPv2DjDjnQ",
        "colab": {
          "base_uri": "https://localhost:8080/"
        },
        "outputId": "9dff7f8c-d1d6-430d-daaf-6573b7f28e7f"
      },
      "execution_count": null,
      "outputs": [
        {
          "output_type": "execute_result",
          "data": {
            "text/plain": [
              "False"
            ]
          },
          "metadata": {},
          "execution_count": 50
        }
      ]
    },
    {
      "cell_type": "code",
      "source": [
        "\"rice\" not in groceries_list"
      ],
      "metadata": {
        "id": "REMNQ-DrQNfM",
        "colab": {
          "base_uri": "https://localhost:8080/"
        },
        "outputId": "9b57d9ea-c504-482d-947c-d010fb0cd508"
      },
      "execution_count": null,
      "outputs": [
        {
          "output_type": "execute_result",
          "data": {
            "text/plain": [
              "False"
            ]
          },
          "metadata": {},
          "execution_count": 49
        }
      ]
    },
    {
      "cell_type": "markdown",
      "source": [
        "### Activity 6: Features of Python List\n",
        "\n",
        "Before moving to activities, let us explore some basic features of Python list.\n",
        "\n",
        "1. List can store elements of same type or of different types.\n",
        "\n",
        "2. You can count the number of times an element appears in the list using `count()` function.\n",
        "\n",
        "3. You can add an object at the end of the list using `append()` function.\n",
        "\n",
        "4. You can count the number of items stored in the list using `len()` function.\n",
        "\n",
        "5. You can remove an item from the list using `remove()` and `pop()` function.\n",
        "\n",
        "6. You can replace an existing item in a list with a new item.\n"
      ],
      "metadata": {
        "id": "ikqKFWWLD8iX"
      }
    },
    {
      "cell_type": "markdown",
      "source": [
        " **1.Multiple Data Types**\n",
        "\n",
        "A Python list can store values of different types."
      ],
      "metadata": {
        "id": "G6oc_SL-HeW-"
      }
    },
    {
      "cell_type": "code",
      "source": [
        "help(\"keywords\")"
      ],
      "metadata": {
        "colab": {
          "base_uri": "https://localhost:8080/"
        },
        "id": "afzbms3Vw71i",
        "outputId": "1b78c1ac-4519-4b85-ac3f-878eb159c576"
      },
      "execution_count": null,
      "outputs": [
        {
          "output_type": "stream",
          "name": "stdout",
          "text": [
            "\n",
            "Here is a list of the Python keywords.  Enter any keyword to get more help.\n",
            "\n",
            "False               class               from                or\n",
            "None                continue            global              pass\n",
            "True                def                 if                  raise\n",
            "and                 del                 import              return\n",
            "as                  elif                in                  try\n",
            "assert              else                is                  while\n",
            "async               except              lambda              with\n",
            "await               finally             nonlocal            yield\n",
            "break               for                 not                 \n",
            "\n"
          ]
        }
      ]
    },
    {
      "cell_type": "code",
      "source": [
        "# Activity: Create a list and Store elements of different types in it\n",
        "list_1 = [\"Hello\",7,8.9,True]\n",
        "list_1"
      ],
      "metadata": {
        "id": "dStpy9s4GecU",
        "colab": {
          "base_uri": "https://localhost:8080/"
        },
        "outputId": "8b2b4c97-955d-4b43-be5f-910e0e443306"
      },
      "execution_count": null,
      "outputs": [
        {
          "output_type": "execute_result",
          "data": {
            "text/plain": [
              "['Hello', 7, 8.9, True]"
            ]
          },
          "metadata": {},
          "execution_count": 54
        }
      ]
    },
    {
      "cell_type": "markdown",
      "source": [
        "**2. The `count()` Function**\n",
        "\n",
        "To use the `count()` function, you just need to write the list followed by the dot (.) operator followed by the `count()` function. Enter the item as an input to the `count()` function whose occurrence you wish to count.\n",
        "\n",
        "`Syntax: list_name.count(item)`"
      ],
      "metadata": {
        "id": "xEXHhk4-Eb6f"
      }
    },
    {
      "cell_type": "code",
      "source": [
        "#Activity:\n",
        "numbers = [1,2,34,5,6,6,6,7,8,9,3,6]\n",
        "numbers.count(10)"
      ],
      "metadata": {
        "id": "hC-8qIBdENHM",
        "colab": {
          "base_uri": "https://localhost:8080/"
        },
        "outputId": "0f266071-6839-483a-c038-17fac2959b4a"
      },
      "execution_count": null,
      "outputs": [
        {
          "output_type": "execute_result",
          "data": {
            "text/plain": [
              "0"
            ]
          },
          "metadata": {},
          "execution_count": 59
        }
      ]
    },
    {
      "cell_type": "code",
      "source": [
        "len(numbers)"
      ],
      "metadata": {
        "colab": {
          "base_uri": "https://localhost:8080/"
        },
        "id": "n4Y4QKbcyg3O",
        "outputId": "f46ff734-519a-42fd-bde9-f1d13fb87a13"
      },
      "execution_count": null,
      "outputs": [
        {
          "output_type": "execute_result",
          "data": {
            "text/plain": [
              "12"
            ]
          },
          "metadata": {},
          "execution_count": 69
        }
      ]
    },
    {
      "cell_type": "markdown",
      "source": [
        "**3. The `append()` Function**\n",
        "\n",
        "To add an item to a Python list, you can use the `append()` function. A new item always gets added at the right-most end of a list.\n",
        "\n",
        "To use the `append()` function, you just need to write the list followed by the dot (`.`) operator followed by the `append()` function. Enter the item as an input to the `append()` function which you need to add to a list.\n",
        "\n",
        "**Syntax:** `list_name.append(item)`"
      ],
      "metadata": {
        "id": "Oss1mIWZEvZW"
      }
    },
    {
      "cell_type": "code",
      "source": [
        "# Activity:\n",
        "fruits = [\"orange\",\"apple\",\"banana\"]\n",
        "\n"
      ],
      "metadata": {
        "id": "_arqGF-OG4Vd"
      },
      "execution_count": null,
      "outputs": []
    },
    {
      "cell_type": "code",
      "source": [
        "fruits.append(\"mangos\")"
      ],
      "metadata": {
        "id": "yj7dfSsox4J9"
      },
      "execution_count": null,
      "outputs": []
    },
    {
      "cell_type": "code",
      "source": [
        "fruits"
      ],
      "metadata": {
        "colab": {
          "base_uri": "https://localhost:8080/"
        },
        "id": "zbX3g7rHxyd3",
        "outputId": "2486206b-5185-4f13-c3be-a948942ff359"
      },
      "execution_count": null,
      "outputs": [
        {
          "output_type": "execute_result",
          "data": {
            "text/plain": [
              "['orange', 'apple', 'banana', 'mangos', 'mangos']"
            ]
          },
          "metadata": {},
          "execution_count": 67
        }
      ]
    },
    {
      "cell_type": "markdown",
      "source": [
        "**4.List Length**\n",
        "To see how many items are stored in a list, you can use a function called `len()`.\n",
        "\n",
        "**Syntax:** `len(list_name)`"
      ],
      "metadata": {
        "id": "nTYgzavfHwmv"
      }
    },
    {
      "cell_type": "code",
      "source": [
        "# Activity:\n",
        "len(fruits)"
      ],
      "metadata": {
        "id": "tLtO5KbpH4Zv",
        "colab": {
          "base_uri": "https://localhost:8080/"
        },
        "outputId": "76cf9e9f-f9f8-4d2e-a101-a056879e13bc"
      },
      "execution_count": null,
      "outputs": [
        {
          "output_type": "execute_result",
          "data": {
            "text/plain": [
              "5"
            ]
          },
          "metadata": {},
          "execution_count": 68
        }
      ]
    },
    {
      "cell_type": "markdown",
      "source": [
        "**5.List Indexing**\n",
        "\n",
        "In a list, the index which indicates the location of the element always starts with **0** and **not 1**. This is called as **Zero-Based Indexing.**\n",
        "\n",
        "To get an item located at each index in a list, just write the list name followed by the square brackets `[]` and inside the brackets, enter the index number.\n",
        "\n",
        "**Syntax:** `list_name[index_number]`\n"
      ],
      "metadata": {
        "id": "I6OdDfUZIAKk"
      }
    },
    {
      "cell_type": "code",
      "source": [
        "# Activity\n",
        "indian_lang = [\"Hindi\", \"Bengali\", \"Telugu\", \"Marathi\", \"Tamil\", \"Gujarati\", \"Kannada\", \"Malayalam\", \"Odia\", \"Punjabi\"]\n",
        "indian_lang[0]"
      ],
      "metadata": {
        "id": "i8mVqFnaIRbF",
        "colab": {
          "base_uri": "https://localhost:8080/",
          "height": 35
        },
        "outputId": "693ad381-d573-4011-d0ec-eb89d0f78b3e"
      },
      "execution_count": null,
      "outputs": [
        {
          "output_type": "execute_result",
          "data": {
            "text/plain": [
              "'Hindi'"
            ],
            "application/vnd.google.colaboratory.intrinsic+json": {
              "type": "string"
            }
          },
          "metadata": {},
          "execution_count": 71
        }
      ]
    },
    {
      "cell_type": "markdown",
      "source": [
        "**6.Negative Indexing:**\n",
        "\n",
        "You can also use negative indices to get items from a list.\n",
        "\n",
        "The negative indices begin with `-1` and go till `-n` where `n` is the number of items in a list.\n",
        "\n",
        "- The last item in a list is located at `-1` index.\n",
        "- The first item in a list is located at `-n` index."
      ],
      "metadata": {
        "id": "XKwOQvPII_wE"
      }
    },
    {
      "cell_type": "code",
      "source": [
        "#Activity\n",
        "indian_lang[-1]"
      ],
      "metadata": {
        "id": "kFuPQf-mjnkB",
        "colab": {
          "base_uri": "https://localhost:8080/",
          "height": 35
        },
        "outputId": "f98796ab-b818-4adc-ab64-b196fcc7e474"
      },
      "execution_count": null,
      "outputs": [
        {
          "output_type": "execute_result",
          "data": {
            "text/plain": [
              "'Punjabi'"
            ],
            "application/vnd.google.colaboratory.intrinsic+json": {
              "type": "string"
            }
          },
          "metadata": {},
          "execution_count": 72
        }
      ]
    },
    {
      "cell_type": "code",
      "source": [
        "indian_lang[-10]"
      ],
      "metadata": {
        "id": "yoArBLgSz1l-",
        "outputId": "62fef3dd-0bae-4984-87d0-1c4cc7842060",
        "colab": {
          "base_uri": "https://localhost:8080/",
          "height": 35
        }
      },
      "execution_count": null,
      "outputs": [
        {
          "output_type": "execute_result",
          "data": {
            "text/plain": [
              "'Hindi'"
            ],
            "application/vnd.google.colaboratory.intrinsic+json": {
              "type": "string"
            }
          },
          "metadata": {},
          "execution_count": 73
        }
      ]
    },
    {
      "cell_type": "markdown",
      "source": [
        "----"
      ],
      "metadata": {
        "id": "01B2AXmZIxAA"
      }
    },
    {
      "cell_type": "markdown",
      "source": [
        "\n",
        "\n",
        "### Activity:7 For Loops\n",
        "\n",
        "\n",
        "The `for` loop is used to repeat or iterate a set of statements for a fixed number of times.\n",
        "\n",
        "**For e.g:** If we want to print first `5` natural numbers using `for` loop.\n",
        "- First, we will use a ready-made function called `range()` inside `for` loop which generates consecutive natural numbers between two specific numbers.\n",
        "\n",
        "```python\n",
        "for i in range(1, 6):\n",
        "  print(i)\n",
        "```\n",
        "\n",
        "\n",
        "The above code can be read as *for every number in the range of `1` to `6` and except `6`, print a number.* So, in the range of `1` to `6` and except `6`, there are `5` numbers starting from `1` to `5`. So, all these numbers in this range will get printed one-by-one.\n",
        "\n",
        "**The range function:**\n",
        "\n",
        "It is used to generate a range of numbers.\n",
        "\n",
        "**Syntax:** `range(start, end)`\n",
        "\n",
        "where,\n",
        "\n",
        "- `start` (optional):  An integer which specifies from which position to start. Default is 0.\n",
        "- `end` (required): An integer which specifies at which position to stop. This number is not included in the range.\n",
        "\n",
        "**For e.g:**\n",
        "1. `range(0,6)` $\\Rightarrow$ generates numbers from 0 to 5.\n",
        "2.`range(6)` $\\Rightarrow$ generates numbers from 0 to 5.\n",
        "3. `range(1,11)` $\\Rightarrow$ generates numbers from 1 to 10.\n",
        "4. `range(11)` $\\Rightarrow$ generates numbers from 0 to 10.\n",
        "\n",
        "\n"
      ],
      "metadata": {
        "id": "fXTpcHojIYiv"
      }
    },
    {
      "cell_type": "code",
      "source": [
        "#Activity:\n"
      ],
      "metadata": {
        "id": "tEaQQOUCkr9n"
      },
      "execution_count": null,
      "outputs": []
    },
    {
      "cell_type": "markdown",
      "source": [
        "**while Loop**\n",
        "\n",
        "The while loop is used when you want to repeat a block of code as long as a condition is true. It is useful when the number of iterations is not known beforehand and depends on a condition.\n",
        "\n",
        "**for Loop**\n",
        "\n",
        "The for loop is used for iterating over a sequence (such as a list, tuple, dictionary, set, or string) or other iterable objects. It is useful when the number of iterations is known or can be determined by the size of the iterable."
      ],
      "metadata": {
        "id": "cemu6LqJnUjR"
      }
    },
    {
      "cell_type": "code",
      "source": [
        "#Activity: Using the 'for' loop and negative indices, retrieve all the items from the 'indian_lang' list in the reverse order.\n",
        "\n",
        "n = len(indian_lang)\n",
        "for i in range(0,n):\n",
        "  print(indian_lang[i])"
      ],
      "metadata": {
        "id": "YvQJU1vSoaJ_"
      },
      "execution_count": null,
      "outputs": []
    },
    {
      "cell_type": "code",
      "source": [
        "n = len(indian_lang)\n",
        "for i in range(1,n+1):\n",
        "  print(indian_lang[-i])"
      ],
      "metadata": {
        "id": "AJ1yN2EHUbwa"
      },
      "execution_count": null,
      "outputs": []
    },
    {
      "cell_type": "markdown",
      "source": [
        "### Activity 8: List Slicing\n",
        "Suppose that I have a list of `10` Indian languages.\n",
        "\n",
        "`indian_lang = [\"Hindi\", \"Bengali\", \"Telugu\", \"Marathi\", \"Tamil\", \"Gujarati\", \"Kannada\", \"Malayalam\", \"Odia\", \"Punjabi\"]\n",
        "`\n",
        "\n",
        "Let's say, I want to see a list of only first languages, then I can use the concept of **list slicing**.\n",
        "\n",
        "To slice a list, write the name of the list followed by square brackets and inside the square brackets, enter the **starting point** (in this case it is zero) followed by a colon sign (`:`) and the **ending point**.\n",
        "\n",
        "**Syntax:** `list_name[start_index:end_index]`\n",
        "\n",
        "**For e.g:** `indian_lang[0:5]`\n",
        "\n",
        "Note that the item at the `end-index` will not be a part of the sub-list."
      ],
      "metadata": {
        "id": "jyrzldo7KNbA"
      }
    },
    {
      "cell_type": "code",
      "source": [
        "# Activity: Retrieve the items from a list using the slicing method by mentioning both the starting and ending indices.\n",
        "indian_lang = [\"Hindi\", \"Bengali\", \"Telugu\", \"Marathi\", \"Tamil\", \"Gujarati\", \"Kannada\", \"Malayalam\", \"Odia\", \"Punjabi\"]\n",
        "\n"
      ],
      "metadata": {
        "id": "kMIspylULEfO"
      },
      "execution_count": null,
      "outputs": []
    },
    {
      "cell_type": "markdown",
      "source": [
        "If you do not specify the starting point, then Python assumes that you want to get the items starting from the first item of the list."
      ],
      "metadata": {
        "id": "pQi3P6K5LTHU"
      }
    },
    {
      "cell_type": "code",
      "source": [
        "#Activity : Retrieve the first 5 items from the 'indian_lang' Python list without mentioning the starting index.\n"
      ],
      "metadata": {
        "id": "JLNUCd8cLT7I"
      },
      "execution_count": null,
      "outputs": []
    },
    {
      "cell_type": "code",
      "source": [
        "#Activity: Write a code to see all the languages in the list starting from 'Bengali' to 'Kannada'.\n"
      ],
      "metadata": {
        "id": "wsU0VZoYLgPq"
      },
      "execution_count": null,
      "outputs": []
    },
    {
      "cell_type": "markdown",
      "source": [
        "You can also skip intermediate items while retrieving a few other items from a list.\n",
        "\n",
        "Suppose you want to retrieve alternate items from a list starting from the first item, then you can use the list slicing method.\n",
        "\n",
        "Inside the square brackets, after the ending point, you have to include another colon (`:`) sign followed by the number of items to be skipped.\n",
        "\n",
        "**Syntax:** `list_name[start_index:end_index:num_of_items_to_be_skipped]`"
      ],
      "metadata": {
        "id": "98PyiC0wLs6P"
      }
    },
    {
      "cell_type": "code",
      "source": [
        "# Activity: Retrieve all the alternate items from the 'indian_lang' list.\n"
      ],
      "metadata": {
        "id": "h5tbFWRnLnHl"
      },
      "execution_count": null,
      "outputs": []
    },
    {
      "cell_type": "markdown",
      "source": [
        "**Note:** If you are retrieving all the items from a list, then you actually do not have to mention the start and end indices. Just put the colon (`:`) signs and Python will know that you wish to retrieve all the items.\n",
        "\n",
        "To retrieve all the items from a list in the reverse order, you can also use the list slicing method with a negative index `-1` after the second colon (`:`) sign."
      ],
      "metadata": {
        "id": "Z8pL5iM3L7Ji"
      }
    },
    {
      "cell_type": "code",
      "source": [
        "#Activity:\n",
        "indian_lang[:]"
      ],
      "metadata": {
        "id": "zcuYUcaAL2sf"
      },
      "execution_count": null,
      "outputs": []
    },
    {
      "cell_type": "code",
      "source": [
        "# Activity: Retrieve all the items from the 'indian_lang' list in the reverse order.\n",
        "indian_lang[::-1]"
      ],
      "metadata": {
        "id": "PoRxbuA4MEzv"
      },
      "execution_count": null,
      "outputs": []
    },
    {
      "cell_type": "markdown",
      "source": [
        "### Activity 9: Index Of An Item\n",
        "\n",
        "Suppose that you want to find the index of `Tamil` in the `indian_lang` list, then you can use the `index()` function.\n",
        "\n",
        "To find an index of an item, write the name of the list followed by the dot `(.)` operator followed by the `index()` function. Inside the `index()` function, enter the item whose index you wish to find.\n",
        "\n",
        "**Syntax:** `list_name.index(item)`\n"
      ],
      "metadata": {
        "id": "6Z184tm6MRya"
      }
    },
    {
      "cell_type": "code",
      "source": [
        "# Activity: Find index of Tamil\n",
        "indian_lang.index(\"Tamil\")"
      ],
      "metadata": {
        "id": "UmkSdNg5Mn2V"
      },
      "execution_count": null,
      "outputs": []
    },
    {
      "cell_type": "markdown",
      "source": [
        "### Activity 10: Removing An Item\n",
        "\n",
        "To remove an item from a list, use the `remove()` function followed by the item that you wish to remove.\n",
        "\n",
        "**Syntax:** `list_name.remove(item)`\n"
      ],
      "metadata": {
        "id": "Izwys8YCMxEg"
      }
    },
    {
      "cell_type": "code",
      "source": [
        "#Activity:\n",
        "indian_lang.remove(\"Tamil\")"
      ],
      "metadata": {
        "id": "jhFco3klM33s"
      },
      "execution_count": null,
      "outputs": []
    },
    {
      "cell_type": "markdown",
      "source": [
        "### Activity 11: The `pop()` Function1\n",
        "\n",
        "You can also remove an item from a list using another function called `pop()`. It has two behaviours.\n",
        "\n",
        "**Behaviour I:** If you do not specify any input, it will always remove only the last item from a Python list.\n",
        "\n",
        "**Syntax:** `list_name.pop()`"
      ],
      "metadata": {
        "id": "P_eJ9gevM8tw"
      }
    },
    {
      "cell_type": "code",
      "source": [
        "# Activity : Remove the last item from the 'indian_lang' list using the 'pop()' function.\n",
        "print(\"List of all languages before using the pop() function.\")\n",
        "print(indian_lang)\n",
        "\n",
        "indian_lang.pop()\n",
        "\n",
        "print(\"List of languages after using the pop() function.\")\n",
        "print(indian_lang)"
      ],
      "metadata": {
        "id": "xuUk0njPNGee"
      },
      "execution_count": null,
      "outputs": []
    },
    {
      "cell_type": "markdown",
      "source": [
        "**Behaviour II:** If you want to remove an item from a list located at a specific index, then pass the index of that item as an input to the `pop()` function.\n",
        "\n",
        "**For example:** To remove the item at index = 3 from the 'indian_lang' list:\n",
        "\n",
        "**Syntax:** `list_name.pop(item_index)`"
      ],
      "metadata": {
        "id": "TX_sRRkBNYHP"
      }
    },
    {
      "cell_type": "code",
      "source": [
        "#Activity:\n",
        "indian_lang.pop(1)"
      ],
      "metadata": {
        "id": "-vRzD_zUNX4a"
      },
      "execution_count": null,
      "outputs": []
    },
    {
      "cell_type": "markdown",
      "source": [
        "### Activity 12: Item Replacement\n",
        "\n",
        "You can replace an existing item in a list with a new item.\n",
        "\n",
        "To replace an item, first get the index of that item. Then using the list indexing method, replace the existing item with the new one.\n",
        "\n",
        "**Syntax:** `list_name[list_name.index('current_item')] = new_item`\n"
      ],
      "metadata": {
        "id": "4w_KohvKNp9Y"
      }
    },
    {
      "cell_type": "code",
      "source": [
        "#Activity:\n",
        "cars = ['Ford', 'Toyota', 'BMW']\n",
        "cars[1] = 'Honda'\n",
        "print(cars)"
      ],
      "metadata": {
        "id": "W86fxCU6N0Dm"
      },
      "execution_count": null,
      "outputs": []
    },
    {
      "cell_type": "code",
      "source": [
        "cars[cars.index(\"BMW\")]= \"Merc\"\n",
        "cars"
      ],
      "metadata": {
        "id": "PJI8Tw31W_zF"
      },
      "execution_count": null,
      "outputs": []
    },
    {
      "cell_type": "markdown",
      "source": [
        "### Activity 13: Sorting a List\n",
        "The `sort()` function sorts the elements of a list in ascending order by default.\n",
        "\n",
        "You can also sort the list in descending order by passing the `reverse=True` parameter.\n",
        "\n"
      ],
      "metadata": {
        "id": "DPN1qJgWsL-k"
      }
    },
    {
      "cell_type": "code",
      "source": [
        "#Activity: Sorting in Ascending Order\n",
        "numbers = [4, 2, 9, 1, 5, 6]\n",
        "numbers.sort()\n",
        "print(numbers)"
      ],
      "metadata": {
        "id": "0ZXCsGYisWm6"
      },
      "execution_count": null,
      "outputs": []
    },
    {
      "cell_type": "code",
      "source": [
        "#Activity: Sorting in Descending Order\n",
        "numbers = [4, 2, 9, 1, 5, 6]\n",
        "numbers.sort(reverse=True)\n",
        "print(numbers)"
      ],
      "metadata": {
        "id": "gy5M9R6vsbi9"
      },
      "execution_count": null,
      "outputs": []
    },
    {
      "cell_type": "markdown",
      "source": [
        "###Activity 14:Inserting an Element into a List\n",
        "\n",
        "The `insert()` function inserts an element at a specified position in the list. It takes two parameters: the index at which to insert the element and the element to be inserted.\n",
        "\n"
      ],
      "metadata": {
        "id": "ifL5ZQA6suBV"
      }
    },
    {
      "cell_type": "code",
      "source": [
        "#Activity\n",
        "letters = ['a', 'b', 'd', 'e']\n",
        "letters.insert(2, 'c')  # Insert 'c' at index 2\n",
        "print(letters)"
      ],
      "metadata": {
        "id": "WIGMv9Cjs4JE"
      },
      "execution_count": null,
      "outputs": []
    },
    {
      "cell_type": "markdown",
      "source": [
        "----"
      ],
      "metadata": {
        "id": "MVlXYvme0FqS"
      }
    },
    {
      "cell_type": "markdown",
      "source": [
        "## NESTED LISTS"
      ],
      "metadata": {
        "id": "5dLaloLJz_Ef"
      }
    },
    {
      "cell_type": "markdown",
      "source": [
        "### Activity 15: Data Representation In Two-Dimensions Using Python Lists\n",
        "\n",
        "A two-dimensional (or a tabular) data can be represented using a Python list.A nested list is a list that contains other lists as its elements.\n",
        "\n",
        "**Nested lists** can be used to represent matrices or tables having values arranged in rows and columns.\n",
        "\n",
        "\n",
        "**For example:**\n",
        "1. `list1=[[10,20,30],[40,50],[60,70]]` $\\Rightarrow$ Here `list1` is a nested list having `3` **inner list** or **sublist**.\n",
        "\n",
        "2. `list2=[['orange','apple'],['mango']]` $\\Rightarrow$ Here `list2` is a nested list having `2` sublist.\n",
        "\n",
        "3. `list3=['peter', 3.0, 15, [1, 2]]` $\\Rightarrow$ Here `list3` contains a string, a float, an integer and another list\n",
        "\n",
        "\n",
        "\n",
        "\n",
        "\n"
      ],
      "metadata": {
        "id": "Ynmop8WFz2mh"
      }
    },
    {
      "cell_type": "code",
      "source": [
        "#Activity: Create a nested list\n",
        "list1 = [[2,3,7],[4,5,6],[6,6,8,9,9,9]]\n",
        "list1"
      ],
      "metadata": {
        "id": "eaqoIuRgz1_9"
      },
      "execution_count": null,
      "outputs": []
    },
    {
      "cell_type": "code",
      "source": [
        "#Example\n",
        "colours = [[\"Red\", \"Pink\"],[\"Yellow\",\"Orange\"],[\"Blue\",\"White\"]]\n",
        "colours"
      ],
      "metadata": {
        "id": "suWnBZZp2Ytr"
      },
      "execution_count": null,
      "outputs": []
    },
    {
      "cell_type": "markdown",
      "source": [
        "### Activity 16: Indexing A Nested List\n",
        "\n",
        "**List Indexing for 2D list:**\n",
        "\n",
        "To get an item of a 1D list, we need to specify one index. Similarly, to get a specific item from a 2D list, we need to specify two indices.\n",
        "\n",
        "For this, write the list name followed by two consecutive square brackets `[][]`.\n",
        "\n",
        "- In the first square bracket, enter the row index.\n",
        "\n",
        "- In the second square bracket, enter the column index.\n",
        "\n",
        "\n",
        "**Syntax:** `list_name[row_index][col_index]`\n",
        "\n"
      ],
      "metadata": {
        "id": "9F9pLE7s2kPa"
      }
    },
    {
      "cell_type": "code",
      "source": [
        "#Activity:\n",
        "list2 = [ [3,2,8],\n",
        "          [4,5,9],\n",
        "          [7,8,4]]\n",
        "list2[1][1]"
      ],
      "metadata": {
        "id": "AMNpZVXe2yJa"
      },
      "execution_count": null,
      "outputs": []
    },
    {
      "cell_type": "code",
      "source": [
        "list2[2][1]"
      ],
      "metadata": {
        "id": "qnLB3YzLY_CF"
      },
      "execution_count": null,
      "outputs": []
    },
    {
      "cell_type": "markdown",
      "source": [
        "To get all the items of a row from a 2D list, just enter the row index of that row in the first square bracket after writing the name of the list. No need to enter the column index in this case.\n",
        "\n",
        "**Syntax:** `list_name[row_index]`"
      ],
      "metadata": {
        "id": "64zAEWub3NXf"
      }
    },
    {
      "cell_type": "code",
      "source": [
        "#Activity:\n",
        "list2[1]"
      ],
      "metadata": {
        "id": "U_xMEahx3Oag"
      },
      "execution_count": null,
      "outputs": []
    },
    {
      "cell_type": "markdown",
      "source": [
        "### Activity 17: Length Of Nested Python Lists\n",
        "\n",
        "The length of a nested list is the number of sublists it contains.\n",
        "\n",
        "**Syntax:** `len(list_name)`"
      ],
      "metadata": {
        "id": "lkvlDvm43ZU5"
      }
    },
    {
      "cell_type": "code",
      "source": [
        "my_list = [1, 2, 3, 4]\n",
        "print(len(my_list))\n",
        "\n",
        "nested_list = [[1, 2], [3, 4]]\n",
        "print(len(nested_list))"
      ],
      "metadata": {
        "id": "mTWOrYKBRyE4"
      },
      "execution_count": null,
      "outputs": []
    }
  ]
}