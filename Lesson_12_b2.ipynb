{
  "nbformat": 4,
  "nbformat_minor": 0,
  "metadata": {
    "colab": {
      "provenance": [],
      "include_colab_link": true
    },
    "kernelspec": {
      "name": "python3",
      "display_name": "Python 3"
    },
    "language_info": {
      "name": "python"
    }
  },
  "cells": [
    {
      "cell_type": "markdown",
      "metadata": {
        "id": "view-in-github",
        "colab_type": "text"
      },
      "source": [
        "<a href=\"https://colab.research.google.com/github/poudyaldiksha/Data-Science-project/blob/main/Lesson_12_b2.ipynb\" target=\"_parent\"><img src=\"https://colab.research.google.com/assets/colab-badge.svg\" alt=\"Open In Colab\"/></a>"
      ]
    },
    {
      "cell_type": "markdown",
      "source": [
        "# Lesson 12: String Methods and Functions"
      ],
      "metadata": {
        "id": "eOhbMQeHz2_X"
      }
    },
    {
      "cell_type": "markdown",
      "source": [
        "**Strings**\n",
        "\n",
        "So far, we have been calling strings a data-type. But technically, in Python, a string is another data structure just like a list, a tuple, and a dictionary. Therefore, it means a string also stores data. Essentially, a string is an array containing some items. Any character (whether a letter, a number, or a special symbol like space, brackets, etc.) enclosed within double quotes `(\"\")` or single quotes `('')` is considered a string.\n",
        "\n"
      ],
      "metadata": {
        "id": "atxmVzTBvIsj"
      }
    },
    {
      "cell_type": "markdown",
      "metadata": {
        "id": "g5D1KJm0C5PH"
      },
      "source": [
        "#### Activity 1: Common Data Structure Operations on Strings\n",
        "\n",
        "\n",
        "\n",
        "**1. String Length:**\n",
        "\n",
        "The length of a string refers to the number of characters it contains."
      ]
    },
    {
      "cell_type": "code",
      "metadata": {
        "id": "uU_TcNO7TxQy",
        "colab": {
          "base_uri": "https://localhost:8080/"
        },
        "outputId": "e0761f33-ae6a-4ce0-8e6e-fb7ae5b4ce9f"
      },
      "source": [
        "# Create an alphanumeric string and find its length.\n",
        "sentence = \"Python programming is fun!\"\n",
        "print(\"Length of the string:\", len(sentence))"
      ],
      "execution_count": null,
      "outputs": [
        {
          "output_type": "stream",
          "name": "stdout",
          "text": [
            "Length of the string: 26\n"
          ]
        }
      ]
    },
    {
      "cell_type": "code",
      "source": [
        "sentence[2]"
      ],
      "metadata": {
        "colab": {
          "base_uri": "https://localhost:8080/",
          "height": 35
        },
        "id": "uc-evZjsvLlP",
        "outputId": "3d49ba58-b8ea-4ddc-8506-7c080eb5a08a"
      },
      "execution_count": null,
      "outputs": [
        {
          "output_type": "execute_result",
          "data": {
            "text/plain": [
              "'t'"
            ],
            "application/vnd.google.colaboratory.intrinsic+json": {
              "type": "string"
            }
          },
          "metadata": {},
          "execution_count": 2
        }
      ]
    },
    {
      "cell_type": "markdown",
      "metadata": {
        "id": "u8WU1MYlFMZ9"
      },
      "source": [
        "**2. Indexing**:\n",
        "\n",
        "Each character in a string has a position, known as its index.\n"
      ]
    },
    {
      "cell_type": "code",
      "source": [
        "for i in range(26):\n",
        "    print(i,sentence[i])"
      ],
      "metadata": {
        "colab": {
          "base_uri": "https://localhost:8080/"
        },
        "id": "gzYeHZjtvF6k",
        "outputId": "f6ac457c-1419-4a4e-b8d4-b8d5d2bf9e1b"
      },
      "execution_count": null,
      "outputs": [
        {
          "output_type": "stream",
          "name": "stdout",
          "text": [
            "0 P\n",
            "1 y\n",
            "2 t\n",
            "3 h\n",
            "4 o\n",
            "5 n\n",
            "6  \n",
            "7 p\n",
            "8 r\n",
            "9 o\n",
            "10 g\n",
            "11 r\n",
            "12 a\n",
            "13 m\n",
            "14 m\n",
            "15 i\n",
            "16 n\n",
            "17 g\n",
            "18  \n",
            "19 i\n",
            "20 s\n",
            "21  \n",
            "22 f\n",
            "23 u\n",
            "24 n\n",
            "25 !\n"
          ]
        }
      ]
    },
    {
      "cell_type": "code",
      "metadata": {
        "id": "uYRMrXEaXe51",
        "colab": {
          "base_uri": "https://localhost:8080/"
        },
        "outputId": "2f82a9e2-6b78-4363-e478-a0790babd338"
      },
      "source": [
        "#Print every item (or character) of the above string using a loop and the indexing method. Also, print the indices.\n",
        "for i in range(len(sentence)):\n",
        "    print(i,sentence[i])"
      ],
      "execution_count": null,
      "outputs": [
        {
          "output_type": "stream",
          "name": "stdout",
          "text": [
            "0 P\n",
            "1 y\n",
            "2 t\n",
            "3 h\n",
            "4 o\n",
            "5 n\n",
            "6  \n",
            "7 p\n",
            "8 r\n",
            "9 o\n",
            "10 g\n",
            "11 r\n",
            "12 a\n",
            "13 m\n",
            "14 m\n",
            "15 i\n",
            "16 n\n",
            "17 g\n",
            "18  \n",
            "19 i\n",
            "20 s\n",
            "21  \n",
            "22 f\n",
            "23 u\n",
            "24 n\n",
            "25 !\n"
          ]
        }
      ]
    },
    {
      "cell_type": "markdown",
      "metadata": {
        "id": "DQVtMw0aGFiD"
      },
      "source": [
        "**Note:** Even the spaces occupy an index because they are also a part of the string."
      ]
    },
    {
      "cell_type": "markdown",
      "metadata": {
        "id": "FJnZY6yTIh2e"
      },
      "source": [
        "**3. String Slicing:**\n",
        "\n",
        "String slicing allows you to extract parts of a string."
      ]
    },
    {
      "cell_type": "code",
      "source": [
        "sentence"
      ],
      "metadata": {
        "colab": {
          "base_uri": "https://localhost:8080/",
          "height": 35
        },
        "id": "mb4D_AKM8OU6",
        "outputId": "a434ffd5-449d-4e56-bc12-80986af275a9"
      },
      "execution_count": null,
      "outputs": [
        {
          "output_type": "execute_result",
          "data": {
            "text/plain": [
              "'Python programming is fun!'"
            ],
            "application/vnd.google.colaboratory.intrinsic+json": {
              "type": "string"
            }
          },
          "metadata": {},
          "execution_count": 5
        }
      ]
    },
    {
      "cell_type": "code",
      "metadata": {
        "id": "_u4_5mr_IeLf",
        "colab": {
          "base_uri": "https://localhost:8080/",
          "height": 35
        },
        "outputId": "24bcac01-e1b1-4100-a444-967e0767c23a"
      },
      "source": [
        "#Get the first 6 characters (or items) of the above string.\n",
        "sentence[:6]"
      ],
      "execution_count": null,
      "outputs": [
        {
          "output_type": "execute_result",
          "data": {
            "text/plain": [
              "'Python'"
            ],
            "application/vnd.google.colaboratory.intrinsic+json": {
              "type": "string"
            }
          },
          "metadata": {},
          "execution_count": 6
        }
      ]
    },
    {
      "cell_type": "code",
      "source": [
        "sentence"
      ],
      "metadata": {
        "colab": {
          "base_uri": "https://localhost:8080/",
          "height": 35
        },
        "id": "Hrkshoph8-Z7",
        "outputId": "ba72dec1-d547-4792-eb55-ca2777936871"
      },
      "execution_count": null,
      "outputs": [
        {
          "output_type": "execute_result",
          "data": {
            "text/plain": [
              "'Python programming is fun!'"
            ],
            "application/vnd.google.colaboratory.intrinsic+json": {
              "type": "string"
            }
          },
          "metadata": {},
          "execution_count": 7
        }
      ]
    },
    {
      "cell_type": "code",
      "source": [
        "sentence[::-1]"
      ],
      "metadata": {
        "colab": {
          "base_uri": "https://localhost:8080/",
          "height": 35
        },
        "id": "yp3cc7kGv2Nb",
        "outputId": "93c20e1e-b47d-4ceb-ecc6-1c08db20e2f8"
      },
      "execution_count": null,
      "outputs": [
        {
          "output_type": "execute_result",
          "data": {
            "text/plain": [
              "'!nuf si gnimmargorp nohtyP'"
            ],
            "application/vnd.google.colaboratory.intrinsic+json": {
              "type": "string"
            }
          },
          "metadata": {},
          "execution_count": 9
        }
      ]
    },
    {
      "cell_type": "code",
      "source": [
        "a = [1,2,3,4,5,6,7,8]\n",
        "a[5::-1]"
      ],
      "metadata": {
        "colab": {
          "base_uri": "https://localhost:8080/"
        },
        "id": "eXdtaXNXwvOs",
        "outputId": "d1a48ba9-d108-43a4-8c13-04d5f237ed18"
      },
      "execution_count": null,
      "outputs": [
        {
          "output_type": "execute_result",
          "data": {
            "text/plain": [
              "[6, 5, 4, 3, 2, 1]"
            ]
          },
          "metadata": {},
          "execution_count": 14
        }
      ]
    },
    {
      "cell_type": "code",
      "metadata": {
        "id": "CXiH4PSFIzzE",
        "colab": {
          "base_uri": "https://localhost:8080/",
          "height": 35
        },
        "outputId": "5a6bc960-db1d-4199-8c92-e0092bd07fe0"
      },
      "source": [
        "#Example\n",
        "sentence[5::-1]"
      ],
      "execution_count": null,
      "outputs": [
        {
          "output_type": "execute_result",
          "data": {
            "text/plain": [
              "'nohtyP'"
            ],
            "application/vnd.google.colaboratory.intrinsic+json": {
              "type": "string"
            }
          },
          "metadata": {},
          "execution_count": 10
        }
      ]
    },
    {
      "cell_type": "code",
      "source": [
        "sentence[10::-2]"
      ],
      "metadata": {
        "colab": {
          "base_uri": "https://localhost:8080/",
          "height": 35
        },
        "id": "e7_r4jlTwF6Z",
        "outputId": "97aef11d-85a9-4557-facf-502511a5a758"
      },
      "execution_count": null,
      "outputs": [
        {
          "output_type": "execute_result",
          "data": {
            "text/plain": [
              "'gr otP'"
            ],
            "application/vnd.google.colaboratory.intrinsic+json": {
              "type": "string"
            }
          },
          "metadata": {},
          "execution_count": 11
        }
      ]
    },
    {
      "cell_type": "code",
      "source": [
        "sentence[10::-1]"
      ],
      "metadata": {
        "colab": {
          "base_uri": "https://localhost:8080/",
          "height": 35
        },
        "id": "SGFAYwDvwZtf",
        "outputId": "f5d34a54-e9a9-4ad8-d73b-a658345916d2"
      },
      "execution_count": null,
      "outputs": [
        {
          "output_type": "execute_result",
          "data": {
            "text/plain": [
              "'gorp nohtyP'"
            ],
            "application/vnd.google.colaboratory.intrinsic+json": {
              "type": "string"
            }
          },
          "metadata": {},
          "execution_count": 12
        }
      ]
    },
    {
      "cell_type": "code",
      "source": [
        "sentence[10::]"
      ],
      "metadata": {
        "colab": {
          "base_uri": "https://localhost:8080/",
          "height": 35
        },
        "id": "jberjTJhwgox",
        "outputId": "e1ad8403-5dec-4443-cccb-c8f7234ec678"
      },
      "execution_count": null,
      "outputs": [
        {
          "output_type": "execute_result",
          "data": {
            "text/plain": [
              "'gramming is fun!'"
            ],
            "application/vnd.google.colaboratory.intrinsic+json": {
              "type": "string"
            }
          },
          "metadata": {},
          "execution_count": 13
        }
      ]
    },
    {
      "cell_type": "code",
      "source": [
        "#Example\n",
        "s= \"Hello ,World!\"\n",
        "s[5]"
      ],
      "metadata": {
        "colab": {
          "base_uri": "https://localhost:8080/",
          "height": 35
        },
        "id": "dPhob6z4oEhv",
        "outputId": "bad5bf40-62bc-47ef-b259-bbfb6b4a5450"
      },
      "execution_count": null,
      "outputs": [
        {
          "output_type": "execute_result",
          "data": {
            "text/plain": [
              "' '"
            ],
            "application/vnd.google.colaboratory.intrinsic+json": {
              "type": "string"
            }
          },
          "metadata": {},
          "execution_count": 15
        }
      ]
    },
    {
      "cell_type": "code",
      "source": [
        "s[5:]"
      ],
      "metadata": {
        "colab": {
          "base_uri": "https://localhost:8080/",
          "height": 35
        },
        "id": "_o19nw7XxBuW",
        "outputId": "c49bd8c0-4acf-499f-92a9-defd12e3122c"
      },
      "execution_count": null,
      "outputs": [
        {
          "output_type": "execute_result",
          "data": {
            "text/plain": [
              "' ,World!'"
            ],
            "application/vnd.google.colaboratory.intrinsic+json": {
              "type": "string"
            }
          },
          "metadata": {},
          "execution_count": 16
        }
      ]
    },
    {
      "cell_type": "code",
      "source": [
        "s[5:-1]"
      ],
      "metadata": {
        "colab": {
          "base_uri": "https://localhost:8080/",
          "height": 35
        },
        "id": "BRI9hqEaxE4J",
        "outputId": "62b5359f-e0d4-4952-e8aa-68eecff0eeaa"
      },
      "execution_count": null,
      "outputs": [
        {
          "output_type": "execute_result",
          "data": {
            "text/plain": [
              "' ,World'"
            ],
            "application/vnd.google.colaboratory.intrinsic+json": {
              "type": "string"
            }
          },
          "metadata": {},
          "execution_count": 17
        }
      ]
    },
    {
      "cell_type": "code",
      "source": [
        "s[5:-1:-1]"
      ],
      "metadata": {
        "colab": {
          "base_uri": "https://localhost:8080/",
          "height": 35
        },
        "id": "iVHfTcu6xKO3",
        "outputId": "bc602af5-14c8-4fcb-c3e9-5c3c5c68ff6a"
      },
      "execution_count": null,
      "outputs": [
        {
          "output_type": "execute_result",
          "data": {
            "text/plain": [
              "''"
            ],
            "application/vnd.google.colaboratory.intrinsic+json": {
              "type": "string"
            }
          },
          "metadata": {},
          "execution_count": 18
        }
      ]
    },
    {
      "cell_type": "code",
      "source": [
        "s[5:7:-1]"
      ],
      "metadata": {
        "colab": {
          "base_uri": "https://localhost:8080/",
          "height": 35
        },
        "id": "ujhh6TaYySET",
        "outputId": "9e70cbf5-c35a-43db-a31b-8d1374bc9efe"
      },
      "execution_count": null,
      "outputs": [
        {
          "output_type": "execute_result",
          "data": {
            "text/plain": [
              "''"
            ],
            "application/vnd.google.colaboratory.intrinsic+json": {
              "type": "string"
            }
          },
          "metadata": {},
          "execution_count": 20
        }
      ]
    },
    {
      "cell_type": "code",
      "source": [
        "s[8:5:-1]"
      ],
      "metadata": {
        "colab": {
          "base_uri": "https://localhost:8080/",
          "height": 35
        },
        "id": "iS0SF8VNyfH9",
        "outputId": "af387a5d-acaa-478a-b10f-d2130f180f29"
      },
      "execution_count": null,
      "outputs": [
        {
          "output_type": "execute_result",
          "data": {
            "text/plain": [
              "'oW,'"
            ],
            "application/vnd.google.colaboratory.intrinsic+json": {
              "type": "string"
            }
          },
          "metadata": {},
          "execution_count": 21
        }
      ]
    },
    {
      "cell_type": "markdown",
      "source": [
        "However, this particular slice will produce an empty result. Here’s why:\n",
        "\n",
        "- With a negative step (-1), Python expects the start index to be greater than the stop index to create a valid reverse slice.\n",
        "- In this case, start = 5 is less than stop = -1, which means there is no valid range to reverse between index 5 and -1."
      ],
      "metadata": {
        "id": "sj1-E6K0x1Cy"
      }
    },
    {
      "cell_type": "code",
      "source": [
        "s[5::-1]"
      ],
      "metadata": {
        "colab": {
          "base_uri": "https://localhost:8080/",
          "height": 35
        },
        "id": "_7eZSGIWxTTx",
        "outputId": "80b62059-76d4-4add-8604-4e55b3ac2921"
      },
      "execution_count": null,
      "outputs": [
        {
          "output_type": "execute_result",
          "data": {
            "text/plain": [
              "' olleH'"
            ],
            "application/vnd.google.colaboratory.intrinsic+json": {
              "type": "string"
            }
          },
          "metadata": {},
          "execution_count": 19
        }
      ]
    },
    {
      "cell_type": "code",
      "metadata": {
        "id": "NUIt-yWBJhjT"
      },
      "source": [
        "#Get all the characters (or items) of the above string in the reverse order.\n",
        "sentence[::-1]"
      ],
      "execution_count": null,
      "outputs": []
    },
    {
      "cell_type": "code",
      "source": [
        "sentence[::-1]"
      ],
      "metadata": {
        "id": "fcPnwT42_Bu7"
      },
      "execution_count": null,
      "outputs": []
    },
    {
      "cell_type": "markdown",
      "metadata": {
        "id": "awt5qmUzKBNP"
      },
      "source": [
        "\n",
        "You cannot change a character in a string directly using indexing. Strings are immutable. For changing characters, use the replace() function."
      ]
    },
    {
      "cell_type": "code",
      "metadata": {
        "id": "3-nJOCEmK5W9"
      },
      "source": [
        "#Try to replace the item at index = 3 with 'W'. You should get 'TypeError' because 'str' object does not support item assignment.\n",
        "#sentence[3]=\"W\""
      ],
      "execution_count": null,
      "outputs": []
    },
    {
      "cell_type": "code",
      "source": [
        "sentence[5::-1]"
      ],
      "metadata": {
        "id": "Z82ZZqbb9TZz"
      },
      "execution_count": null,
      "outputs": []
    },
    {
      "cell_type": "code",
      "source": [
        "sentence"
      ],
      "metadata": {
        "id": "pVFdl6yE9YfC"
      },
      "execution_count": null,
      "outputs": []
    },
    {
      "cell_type": "code",
      "source": [
        "sentence[5::-1]"
      ],
      "metadata": {
        "id": "DzLpQ1bA92Pe"
      },
      "execution_count": null,
      "outputs": []
    },
    {
      "cell_type": "code",
      "source": [
        "sentence[5::]"
      ],
      "metadata": {
        "id": "Awn2B7Mk-E6-"
      },
      "execution_count": null,
      "outputs": []
    },
    {
      "cell_type": "code",
      "source": [
        "sentence[5:]"
      ],
      "metadata": {
        "id": "ipDCLnt9-ZC6"
      },
      "execution_count": null,
      "outputs": []
    },
    {
      "cell_type": "markdown",
      "source": [
        "**Get the first 6 characters (or items) of the above string in the reverse order.**\n",
        "`sentence[5::-1]`\n",
        "detailed explanation\n",
        "\n",
        "`5` : This part specifies the starting index from where the slicing begins. In this case, it starts from the 6th character/item of the string (sentence). Remember, Python indexing is zero-based, so `sentence[5]` refers to the 6th character.\n",
        "\n",
        "`::-1`: This part specifies the step size and direction of the slicing.\n",
        "\n",
        "`-1` :The negative step size -1 means the slicing goes backwards, from right to left.\n",
        "\n",
        "`::`: The empty space before the first : means start from the default start position (which is the beginning of the string)."
      ],
      "metadata": {
        "id": "ovA_lSWInC_l"
      }
    },
    {
      "cell_type": "markdown",
      "metadata": {
        "id": "zvzKPHe9LgqO"
      },
      "source": [
        "**4. String Index:**\n",
        "\n",
        " The `index()` function returns the index at which the item is located. In case of the repeated item, it returns the index at which it appears the first time in the string. The same is true in case of a list and a tuple."
      ]
    },
    {
      "cell_type": "code",
      "metadata": {
        "id": "uD5Ld2S3LxHm",
        "colab": {
          "base_uri": "https://localhost:8080/"
        },
        "outputId": "71bf122a-c195-43fd-d696-5f7231bb3ed5"
      },
      "source": [
        "# Student Action: Get the index of any item in the string that you created.\n",
        "sentence.index(\"n\")"
      ],
      "execution_count": null,
      "outputs": [
        {
          "output_type": "execute_result",
          "data": {
            "text/plain": [
              "5"
            ]
          },
          "metadata": {},
          "execution_count": 22
        }
      ]
    },
    {
      "cell_type": "markdown",
      "metadata": {
        "id": "oNa1cgFTNMXi"
      },
      "source": [
        "**5. String Concatenation:**\n",
        "\n",
        "The process of joining two or more strings to get one string using the `+` operator is called string concatenation.\n",
        "\n",
        "**Note:** Before the string concatenation operation, you need to ensure that the objects to be concatenated are all strings. If a data-type that needs to be concatenated is not a string then, you first need to convert it into a string using the `str()` function."
      ]
    },
    {
      "cell_type": "code",
      "metadata": {
        "id": "MFk2vzm0OuvK",
        "colab": {
          "base_uri": "https://localhost:8080/"
        },
        "outputId": "fcd97db7-aae1-4ebc-d2dd-d1b06512b45f"
      },
      "source": [
        "#Concatenate the following objects to get the \"Hello, World!\"\n",
        "greeting = \"Hello\"\n",
        "punctuation = \",\"\n",
        "space = \" \"\n",
        "world = \"World\"\n",
        "exclamation = \"!\"\n",
        "full_sentence = greeting + punctuation + space + world + exclamation\n",
        "print(full_sentence)"
      ],
      "execution_count": null,
      "outputs": [
        {
          "output_type": "stream",
          "name": "stdout",
          "text": [
            "Hello, World!\n"
          ]
        }
      ]
    },
    {
      "cell_type": "markdown",
      "metadata": {
        "id": "eQ2Hn1sefX6t"
      },
      "source": [
        "**6. The `enumerate()` Function**:\n",
        "\n",
        "The `enumerate()` function pairs each character in a string with its index, returning a collection of tuples."
      ]
    },
    {
      "cell_type": "code",
      "source": [
        "list(enumerate(a))"
      ],
      "metadata": {
        "colab": {
          "base_uri": "https://localhost:8080/"
        },
        "id": "8E50hzR6zBAH",
        "outputId": "0d48b7ed-cbb0-4ece-c905-da609906fb70"
      },
      "execution_count": null,
      "outputs": [
        {
          "output_type": "execute_result",
          "data": {
            "text/plain": [
              "[(0, 1), (1, 2), (2, 3), (3, 4), (4, 5), (5, 6), (6, 7), (7, 8)]"
            ]
          },
          "metadata": {},
          "execution_count": 27
        }
      ]
    },
    {
      "cell_type": "code",
      "metadata": {
        "id": "cbB4VwB2gEjh",
        "colab": {
          "base_uri": "https://localhost:8080/"
        },
        "outputId": "44f3ee12-4cad-4334-864d-5170fbb8ac1e"
      },
      "source": [
        "#Apply the 'enumerate()' function on above string thrice: On top of it apply the 'list()', 'dict()' &  'tuple()' functions.\n",
        "#Store all of three of them in different variables.\n",
        "s = \"Hello, World!\"\n",
        "\n",
        "enum_list = list(enumerate(s))\n",
        "enum_dict = dict(enumerate(s))\n",
        "enum_tuple = tuple(enumerate(s))\n",
        "enum_list\n",
        "print(\"List of tuples:\\n\", enum_list,\n",
        "      \"\\n\\nDictionary:\\n\", enum_dict,\n",
        "      \"\\n\\nTuple of tuples:\\n\", enum_tuple)"
      ],
      "execution_count": null,
      "outputs": [
        {
          "output_type": "stream",
          "name": "stdout",
          "text": [
            "List of tuples:\n",
            " [(0, 'H'), (1, 'e'), (2, 'l'), (3, 'l'), (4, 'o'), (5, ','), (6, ' '), (7, 'W'), (8, 'o'), (9, 'r'), (10, 'l'), (11, 'd'), (12, '!')] \n",
            "\n",
            "Dictionary:\n",
            " {0: 'H', 1: 'e', 2: 'l', 3: 'l', 4: 'o', 5: ',', 6: ' ', 7: 'W', 8: 'o', 9: 'r', 10: 'l', 11: 'd', 12: '!'} \n",
            "\n",
            "Tuple of tuples:\n",
            " ((0, 'H'), (1, 'e'), (2, 'l'), (3, 'l'), (4, 'o'), (5, ','), (6, ' '), (7, 'W'), (8, 'o'), (9, 'r'), (10, 'l'), (11, 'd'), (12, '!'))\n"
          ]
        }
      ]
    },
    {
      "cell_type": "markdown",
      "metadata": {
        "id": "47fwac30rP7R"
      },
      "source": [
        "**7. The `count()` Function:** It returns the number of times an item (or a character) appears in a string.  "
      ]
    },
    {
      "cell_type": "code",
      "source": [
        "s"
      ],
      "metadata": {
        "colab": {
          "base_uri": "https://localhost:8080/",
          "height": 35
        },
        "id": "Ycm-zONvziGw",
        "outputId": "8b4f62da-28ae-421f-a038-095d897c22a5"
      },
      "execution_count": null,
      "outputs": [
        {
          "output_type": "execute_result",
          "data": {
            "text/plain": [
              "'Hello, World!'"
            ],
            "application/vnd.google.colaboratory.intrinsic+json": {
              "type": "string"
            }
          },
          "metadata": {},
          "execution_count": 29
        }
      ]
    },
    {
      "cell_type": "code",
      "metadata": {
        "id": "u6jwT9VEq0cW",
        "colab": {
          "base_uri": "https://localhost:8080/"
        },
        "outputId": "48a87684-03c9-406c-ce43-5af3243c1b40"
      },
      "source": [
        "# Count the number of spaces in the above string.\n",
        "s.count(\"l\")"
      ],
      "execution_count": null,
      "outputs": [
        {
          "output_type": "execute_result",
          "data": {
            "text/plain": [
              "3"
            ]
          },
          "metadata": {},
          "execution_count": 30
        }
      ]
    },
    {
      "cell_type": "markdown",
      "metadata": {
        "id": "Q42qBPhNVMjz"
      },
      "source": [
        "---"
      ]
    },
    {
      "cell_type": "markdown",
      "metadata": {
        "id": "ThWR9mIBVOX1"
      },
      "source": [
        "### Activity 2: Empty String\n",
        "\n",
        "An empty string contains no characters. It can be created by either using single quotes or double quotes without enclosing anything between them. Not even space."
      ]
    },
    {
      "cell_type": "code",
      "metadata": {
        "id": "o-_NmJhSVkNN",
        "colab": {
          "base_uri": "https://localhost:8080/"
        },
        "outputId": "c612ff4e-ee35-4509-d361-979e7b8c797b"
      },
      "source": [
        "#Create an empty string. Print the string and also print its length.\n",
        "a = \" \"\n",
        "len(a)"
      ],
      "execution_count": null,
      "outputs": [
        {
          "output_type": "execute_result",
          "data": {
            "text/plain": [
              "1"
            ]
          },
          "metadata": {},
          "execution_count": 31
        }
      ]
    },
    {
      "cell_type": "code",
      "source": [
        "a = \"\"\n",
        "len(a)"
      ],
      "metadata": {
        "colab": {
          "base_uri": "https://localhost:8080/"
        },
        "id": "-wwPCKtqBDLB",
        "outputId": "93f2fc09-3fc3-480c-9534-57bfdd44d99e"
      },
      "execution_count": null,
      "outputs": [
        {
          "output_type": "execute_result",
          "data": {
            "text/plain": [
              "0"
            ]
          },
          "metadata": {},
          "execution_count": 32
        }
      ]
    },
    {
      "cell_type": "markdown",
      "source": [
        "### Activity 3: Multiline String"
      ],
      "metadata": {
        "id": "B65m_CRuAYqF"
      }
    },
    {
      "cell_type": "markdown",
      "metadata": {
        "id": "jnZrU2FXkB9D"
      },
      "source": [
        "You may require to write a very long string in multiple lines in a code cell. Such a string is called a multiline string. To create a multiline string, use three single quotes (`''' '''`) or three double quotes (`\"\"\" \"\"\"`).\n",
        "\n",
        "Here's one of the wonderful Quote.\n",
        "```\n",
        "quote =To be yourself in a world\n",
        "that is constantly trying to make you something else\n",
        "is the greatest accomplishment.\n",
        "\n",
        "```\n",
        "\n"
      ]
    },
    {
      "cell_type": "code",
      "source": [
        "quote =\"To be yourself in a world that /i/s constantly trying to make you something /e/l/s/e /i/s the greatest accomplishment.\"\n",
        "quote"
      ],
      "metadata": {
        "colab": {
          "base_uri": "https://localhost:8080/",
          "height": 35
        },
        "id": "_rBMyTts0B2J",
        "outputId": "919f1eb6-ad8d-4578-8282-14b6f3ca9971"
      },
      "execution_count": null,
      "outputs": [
        {
          "output_type": "execute_result",
          "data": {
            "text/plain": [
              "'To be yourself in a world that /i/s constantly trying to make you something /e/l/s/e /i/s the greatest accomplishment.'"
            ],
            "application/vnd.google.colaboratory.intrinsic+json": {
              "type": "string"
            }
          },
          "metadata": {},
          "execution_count": 33
        }
      ]
    },
    {
      "cell_type": "code",
      "source": [
        "z =\" hey how are you?\"\n",
        "print(z)"
      ],
      "metadata": {
        "colab": {
          "base_uri": "https://localhost:8080/"
        },
        "id": "ycULtUC60b9n",
        "outputId": "6e82c02d-a65c-4afc-81e6-a5512370621e"
      },
      "execution_count": null,
      "outputs": [
        {
          "output_type": "stream",
          "name": "stdout",
          "text": [
            " hey how are you?\n"
          ]
        }
      ]
    },
    {
      "cell_type": "code",
      "source": [
        "z"
      ],
      "metadata": {
        "colab": {
          "base_uri": "https://localhost:8080/",
          "height": 35
        },
        "id": "pq3VITur0he6",
        "outputId": "1d7ccd58-be23-4e7b-bf3c-633cbcf23c29"
      },
      "execution_count": null,
      "outputs": [
        {
          "output_type": "execute_result",
          "data": {
            "text/plain": [
              "' hey how are you?'"
            ],
            "application/vnd.google.colaboratory.intrinsic+json": {
              "type": "string"
            }
          },
          "metadata": {},
          "execution_count": 36
        }
      ]
    },
    {
      "cell_type": "code",
      "metadata": {
        "id": "hJlxpFfmmN7-",
        "colab": {
          "base_uri": "https://localhost:8080/"
        },
        "outputId": "f0aecdba-7412-4d00-9f65-2ddb9c2c5364"
      },
      "source": [
        "# Create and print the following multiline string..\n",
        "quote =\"\"\"To be yourself in a world\n",
        "that is constantly trying to make you something else\n",
        "is the greatest accomplishment.\"\"\"\n",
        "print(quote)"
      ],
      "execution_count": null,
      "outputs": [
        {
          "output_type": "stream",
          "name": "stdout",
          "text": [
            "To be yourself in a world\n",
            "that is constantly trying to make you something else\n",
            "is the greatest accomplishment.\n"
          ]
        }
      ]
    },
    {
      "cell_type": "code",
      "source": [
        "quote"
      ],
      "metadata": {
        "colab": {
          "base_uri": "https://localhost:8080/",
          "height": 35
        },
        "id": "xW279b-jB0pe",
        "outputId": "19d4b1f5-f4ee-47ab-bd80-f2cfe789eb2a"
      },
      "execution_count": null,
      "outputs": [
        {
          "output_type": "execute_result",
          "data": {
            "text/plain": [
              "'To be yourself in a world\\nthat is constantly trying to make you something else\\nis the greatest accomplishment.'"
            ],
            "application/vnd.google.colaboratory.intrinsic+json": {
              "type": "string"
            }
          },
          "metadata": {},
          "execution_count": 37
        }
      ]
    },
    {
      "cell_type": "markdown",
      "metadata": {
        "id": "6igTWqxBmo7s"
      },
      "source": [
        "The way you indent a multiline string is a way it gets printed in the output.\n"
      ]
    },
    {
      "cell_type": "code",
      "metadata": {
        "id": "MTCL0R8Kmwm9"
      },
      "source": [
        "# Activity\n",
        "quote_1 = \"To be yourself in a world that is constantly trying to make you something else is the greatest accomplishment                                           ** .\"\n",
        "quote_1"
      ],
      "execution_count": null,
      "outputs": []
    },
    {
      "cell_type": "markdown",
      "metadata": {
        "id": "XV9GyuzxaRxk"
      },
      "source": [
        "---"
      ]
    },
    {
      "cell_type": "markdown",
      "metadata": {
        "id": "mZ4NjAtWsSMG"
      },
      "source": [
        "### Activity 3: Repetition\n",
        "\n",
        "You can repeat a string several times by using the `*` operator. Using this concept you can create many incredible patterns such as a triangle, a rectangle etc.\n",
        "\n",
        "Let's learn this concept by creating the following triangle.\n",
        "\n",
        "```\n",
        "#\n",
        "##\n",
        "###\n",
        "####\n",
        "#####\n",
        "```\n",
        "\n",
        "Here, the `#` string appears only once in the first line, twice in the second line, thrice in the third line, four times in the fourth line and five times in the fifth line."
      ]
    },
    {
      "cell_type": "code",
      "source": [
        "\"#\"*3"
      ],
      "metadata": {
        "colab": {
          "base_uri": "https://localhost:8080/",
          "height": 35
        },
        "id": "Yas8zv8PCT1F",
        "outputId": "7ac20ed7-965d-475d-e085-7b403384f781"
      },
      "execution_count": null,
      "outputs": [
        {
          "output_type": "execute_result",
          "data": {
            "text/plain": [
              "'###'"
            ],
            "application/vnd.google.colaboratory.intrinsic+json": {
              "type": "string"
            }
          },
          "metadata": {},
          "execution_count": 38
        }
      ]
    },
    {
      "cell_type": "code",
      "source": [
        "\"u\"*3"
      ],
      "metadata": {
        "colab": {
          "base_uri": "https://localhost:8080/",
          "height": 35
        },
        "id": "RtGu9vuQCHbo",
        "outputId": "c4a4c759-a623-4e51-9334-6be7f97947bb",
        "collapsed": true
      },
      "execution_count": null,
      "outputs": [
        {
          "output_type": "execute_result",
          "data": {
            "text/plain": [
              "'uuu'"
            ],
            "application/vnd.google.colaboratory.intrinsic+json": {
              "type": "string"
            }
          },
          "metadata": {},
          "execution_count": 39
        }
      ]
    },
    {
      "cell_type": "code",
      "metadata": {
        "id": "JfepSinHstil",
        "colab": {
          "base_uri": "https://localhost:8080/"
        },
        "outputId": "51a8475d-50af-4cac-ab26-582d7482ba61"
      },
      "source": [
        "# Create the above triangle.\n",
        "for i in range(1,6):\n",
        "    print(i*\"  #\")"
      ],
      "execution_count": null,
      "outputs": [
        {
          "output_type": "stream",
          "name": "stdout",
          "text": [
            "  #\n",
            "  #  #\n",
            "  #  #  #\n",
            "  #  #  #  #\n",
            "  #  #  #  #  #\n"
          ]
        }
      ]
    },
    {
      "cell_type": "markdown",
      "source": [
        "   ```\n",
        "    #\n",
        "   ##\n",
        "  ###\n",
        " ####\n",
        "#####\n",
        "```"
      ],
      "metadata": {
        "id": "hS0eiH-uGMIT"
      }
    },
    {
      "cell_type": "code",
      "source": [
        "print( \" \" * 4, \"#\"*1)\n",
        "print( \" \" * 3, \"#\"*2)\n",
        "print( \" \" * 2, \"#\"*3)\n",
        "print( \" \" * 1, \"#\"*4)\n",
        "print( \" \" * 0, \"#\"*5)"
      ],
      "metadata": {
        "colab": {
          "base_uri": "https://localhost:8080/"
        },
        "id": "Zs7ieamyDX2g",
        "outputId": "7a63d409-26e9-476d-868a-da0ad5193084"
      },
      "execution_count": null,
      "outputs": [
        {
          "output_type": "stream",
          "name": "stdout",
          "text": [
            "     #\n",
            "    ##\n",
            "   ###\n",
            "  ####\n",
            " #####\n"
          ]
        }
      ]
    },
    {
      "cell_type": "code",
      "source": [
        "#Create the following mirrored triangle.\n",
        "for i in range(1,6):\n",
        "    print(\" \"*  (5-i) +\"#\"*i )"
      ],
      "metadata": {
        "colab": {
          "base_uri": "https://localhost:8080/"
        },
        "id": "dlXa4Aj0GH71",
        "outputId": "e5eeab3d-667f-463b-e5f1-1590d0dc5fa5"
      },
      "execution_count": null,
      "outputs": [
        {
          "output_type": "stream",
          "name": "stdout",
          "text": [
            "    #\n",
            "   ##\n",
            "  ###\n",
            " ####\n",
            "#####\n"
          ]
        }
      ]
    },
    {
      "cell_type": "code",
      "metadata": {
        "id": "DNX97jn-St3h",
        "colab": {
          "base_uri": "https://localhost:8080/"
        },
        "outputId": "753b574b-932a-4825-b7ee-44a3e88a3d12"
      },
      "source": [
        "# Create a list containing three items and repeat them twice.\n",
        "my_list = [1, 2, 3]\n",
        "my_list * 2"
      ],
      "execution_count": null,
      "outputs": [
        {
          "output_type": "execute_result",
          "data": {
            "text/plain": [
              "[1, 2, 3, 1, 2, 3]"
            ]
          },
          "metadata": {},
          "execution_count": 45
        }
      ]
    },
    {
      "cell_type": "code",
      "metadata": {
        "id": "bK7ovlG1SJ-w",
        "colab": {
          "base_uri": "https://localhost:8080/"
        },
        "outputId": "8204ebb8-8eaf-45c7-8033-1065f664fd41"
      },
      "source": [
        "# Create a tuple containing three items and repeat them four times.\n",
        "my_tuple = (1, 2, 3)\n",
        "my_tuple * 4"
      ],
      "execution_count": null,
      "outputs": [
        {
          "output_type": "execute_result",
          "data": {
            "text/plain": [
              "(1, 2, 3, 1, 2, 3, 1, 2, 3, 1, 2, 3)"
            ]
          },
          "metadata": {},
          "execution_count": 46
        }
      ]
    },
    {
      "cell_type": "code",
      "source": [
        "import numpy as np\n",
        "lis_arr = np.array(my_list)\n",
        "lis_arr * 2"
      ],
      "metadata": {
        "colab": {
          "base_uri": "https://localhost:8080/"
        },
        "id": "2171242q2N8i",
        "outputId": "ece3baaa-e4f8-4c2f-bf64-937465e66260"
      },
      "execution_count": null,
      "outputs": [
        {
          "output_type": "execute_result",
          "data": {
            "text/plain": [
              "array([2, 4, 6])"
            ]
          },
          "metadata": {},
          "execution_count": 47
        }
      ]
    },
    {
      "cell_type": "markdown",
      "metadata": {
        "id": "CFg0CuZyh1o5"
      },
      "source": [
        "### Activity 4: The `strip(), lstrip()` & `rstrip()` Functions\n",
        "\n",
        "The `strip()` function removes any unwanted item from a string present at both ends of a string. By-default it removes the whitespaces unless otherwise specified.\n",
        "\n",
        "\n",
        "\n",
        "Let's remove the whitespaces and `#` symbols from both ends of the string using the `strip()` function.\n",
        "\n",
        "**Syntax:** `string.strip(character)`\n",
        "\n",
        "where `character` is the character to be removed from both ends of a string."
      ]
    },
    {
      "cell_type": "code",
      "source": [
        "w = \"      Hello world \"\n",
        "w_clean  = w.strip()\n",
        "w_clean"
      ],
      "metadata": {
        "colab": {
          "base_uri": "https://localhost:8080/",
          "height": 35
        },
        "id": "DA1VE-1f24dw",
        "outputId": "47383b92-59b4-4352-8855-8037a7098712"
      },
      "execution_count": null,
      "outputs": [
        {
          "output_type": "execute_result",
          "data": {
            "text/plain": [
              "'Hello world'"
            ],
            "application/vnd.google.colaboratory.intrinsic+json": {
              "type": "string"
            }
          },
          "metadata": {},
          "execution_count": 50
        }
      ]
    },
    {
      "cell_type": "code",
      "metadata": {
        "id": "mxbTH791h0cD",
        "colab": {
          "base_uri": "https://localhost:8080/"
        },
        "outputId": "25848547-84f3-411e-af18-a5afca66cf83"
      },
      "source": [
        "# Example: Removing leading and trailing whitespaces and '#' symbols using strip()\n",
        "text = \"### Hello, World! ,,,,,##uuuu#!!!\"\n",
        "cleaned_text = text.strip(\"#,!\")\n",
        "print(cleaned_text)"
      ],
      "execution_count": null,
      "outputs": [
        {
          "output_type": "stream",
          "name": "stdout",
          "text": [
            " Hello, World! ,,,,,##uuuu\n"
          ]
        }
      ]
    },
    {
      "cell_type": "code",
      "source": [
        "# Example: Removing leading and trailing whitespaces and '#' symbols using strip()\n",
        "text = \"Wooooo### Hello, World! ,,,,,##uuuu#!!!ooopppppppoooWp\"\n",
        "cleaned_text = text.strip(\"Wop!u#, \")\n",
        "print(cleaned_text)"
      ],
      "metadata": {
        "colab": {
          "base_uri": "https://localhost:8080/"
        },
        "id": "sOHoDYlgF9ki",
        "outputId": "f3a5bf72-088f-467a-f868-b9f24eb3a86a"
      },
      "execution_count": null,
      "outputs": [
        {
          "output_type": "stream",
          "name": "stdout",
          "text": [
            "Hello, World\n"
          ]
        }
      ]
    },
    {
      "cell_type": "code",
      "source": [
        "text = \" ### Hello, World! ### \"\n",
        "cleaned_text = text.strip()\n",
        "print(cleaned_text)"
      ],
      "metadata": {
        "id": "kDlLpRNnEvgm"
      },
      "execution_count": null,
      "outputs": []
    },
    {
      "cell_type": "markdown",
      "metadata": {
        "id": "aoY0M97aokd_"
      },
      "source": [
        "If you want to remove some character only from the rightmost end side of a string, then you can use the `rstrip()` function.\n",
        "\n",
        "**Syntax:** `string.rstrip(character)`\n",
        "\n",
        "where `character` is the character to be removed from the rightmost end of a string."
      ]
    },
    {
      "cell_type": "code",
      "metadata": {
        "id": "xrGmZ3v2eujm",
        "colab": {
          "base_uri": "https://localhost:8080/",
          "height": 35
        },
        "outputId": "186c4821-9889-497e-b2a7-9b8cbde4a784"
      },
      "source": [
        "s = \"    Ramu is a Gentle man     \"\n",
        "h=s.rstrip()\n",
        "h"
      ],
      "execution_count": null,
      "outputs": [
        {
          "output_type": "execute_result",
          "data": {
            "text/plain": [
              "'    Ramu is a Gentle man'"
            ],
            "application/vnd.google.colaboratory.intrinsic+json": {
              "type": "string"
            }
          },
          "metadata": {},
          "execution_count": 57
        }
      ]
    },
    {
      "cell_type": "code",
      "metadata": {
        "id": "n0TMCqhlleeb",
        "colab": {
          "base_uri": "https://localhost:8080/"
        },
        "outputId": "d3140db8-a27b-4231-a29d-9a1ba7c5892e"
      },
      "source": [
        "# Example: Removing trailing '-' from the right end of a string using rstrip()\n",
        "text = \"Python is amazing----\"\n",
        "cleaned_text = text.rstrip('-')\n",
        "print(cleaned_text)"
      ],
      "execution_count": null,
      "outputs": [
        {
          "output_type": "stream",
          "name": "stdout",
          "text": [
            "Python is amazing\n"
          ]
        }
      ]
    },
    {
      "cell_type": "markdown",
      "metadata": {
        "id": "GoYtEnCRuklj"
      },
      "source": [
        "If you want to remove some character only from the leftmost end side of a string, then you can use the `lstrip()` function.\n",
        "\n",
        "**Syntax:** `string.lstrip(character)`\n",
        "\n",
        "where `character` is the character to be removed from the leftmost end of a string."
      ]
    },
    {
      "cell_type": "code",
      "metadata": {
        "id": "cJpIOHAspGhN",
        "colab": {
          "base_uri": "https://localhost:8080/"
        },
        "outputId": "e5eb56af-db66-4433-dd57-c3bc20af6fa1"
      },
      "source": [
        "# Example: Removing leading '#' symbols from the left end of a string using lstrip()\n",
        "text = \"### Python is powerful\"\n",
        "cleaned_text = text.lstrip('# ')\n",
        "print(cleaned_text)"
      ],
      "execution_count": null,
      "outputs": [
        {
          "output_type": "stream",
          "name": "stdout",
          "text": [
            "Python is powerful\n"
          ]
        }
      ]
    },
    {
      "cell_type": "markdown",
      "metadata": {
        "id": "yCZ_uXveu-fz"
      },
      "source": [
        "---"
      ]
    },
    {
      "cell_type": "markdown",
      "metadata": {
        "id": "ZiFoVm3Iu_v6"
      },
      "source": [
        "### Activity 5: The `split()` Function\n",
        "\n",
        "The `split()` function splits a string and returns a list of splitted strings.\n",
        "\n",
        "Basic Usage of `split()`:\n",
        "The `split()` function splits a string into a list of substrings based on whitespace."
      ]
    },
    {
      "cell_type": "code",
      "metadata": {
        "id": "XYMb7xHPu_Hu",
        "colab": {
          "base_uri": "https://localhost:8080/"
        },
        "outputId": "02db80d8-2764-44c4-e8a1-a8078f993408"
      },
      "source": [
        "# Example: Splitting a string into words using split()\n",
        "sentence = \"Helloworld, how are you?\"\n",
        "words = sentence.split()\n",
        "print(words)"
      ],
      "execution_count": null,
      "outputs": [
        {
          "output_type": "stream",
          "name": "stdout",
          "text": [
            "['Helloworld,', 'how', 'are', 'you?']\n"
          ]
        }
      ]
    },
    {
      "cell_type": "code",
      "source": [
        "sentence = \"Hello world, how are you?\"\n",
        "words = sentence.split(\",\")\n",
        "print(words)\n"
      ],
      "metadata": {
        "colab": {
          "base_uri": "https://localhost:8080/"
        },
        "id": "vgDv-JcqHJuv",
        "outputId": "393300ab-ec00-415b-83a5-c17dadb9f9c0"
      },
      "execution_count": null,
      "outputs": [
        {
          "output_type": "stream",
          "name": "stdout",
          "text": [
            "['Hello world', ' how are you?']\n"
          ]
        }
      ]
    },
    {
      "cell_type": "code",
      "source": [
        "sentence = \"hello+ world, how+are you?\"\n",
        "words = sentence.split(\"+\")\n",
        "print(words)"
      ],
      "metadata": {
        "colab": {
          "base_uri": "https://localhost:8080/"
        },
        "id": "wSxRsymLHe5U",
        "outputId": "b694891e-4ad9-48b4-84db-c158ff9968ca"
      },
      "execution_count": null,
      "outputs": [
        {
          "output_type": "stream",
          "name": "stdout",
          "text": [
            "['hello', ' world, how', 'are you?']\n"
          ]
        }
      ]
    },
    {
      "cell_type": "code",
      "source": [
        "type(words)"
      ],
      "metadata": {
        "colab": {
          "base_uri": "https://localhost:8080/"
        },
        "id": "SJw3jZTNG-lz",
        "outputId": "9ee7d9bb-c586-49d7-8a29-5ea9946fcc32"
      },
      "execution_count": null,
      "outputs": [
        {
          "output_type": "execute_result",
          "data": {
            "text/plain": [
              "list"
            ]
          },
          "metadata": {},
          "execution_count": 63
        }
      ]
    },
    {
      "cell_type": "markdown",
      "metadata": {
        "id": "wVMLyWJzvqGu"
      },
      "source": [
        "By default, the `split()` function splits a string about whitespace. If you want to split a string about a particular item, then you have to specify that item as an input to the `split()` function.\n"
      ]
    },
    {
      "cell_type": "markdown",
      "source": [
        "**Splitting Based on a Specific Character**\n",
        "\n",
        "You can split a string based on a specific character using `split()`"
      ],
      "metadata": {
        "id": "Hs_B_XUVPdQW"
      }
    },
    {
      "cell_type": "code",
      "metadata": {
        "id": "Fa6QhswjdeLX",
        "colab": {
          "base_uri": "https://localhost:8080/"
        },
        "outputId": "5464e2bb-234b-4f7c-cbec-deda17f27ebc"
      },
      "source": [
        "# Example: Splitting a string based on ','\n",
        "sentence = \"apple,banana,orange,grape\"\n",
        "fruits = sentence.split(',')\n",
        "print(fruits)"
      ],
      "execution_count": null,
      "outputs": [
        {
          "output_type": "stream",
          "name": "stdout",
          "text": [
            "['apple', 'banana', 'orange', 'grape']\n"
          ]
        }
      ]
    },
    {
      "cell_type": "markdown",
      "metadata": {
        "id": "Q0bB5qCCwQ5G"
      },
      "source": [
        "---"
      ]
    },
    {
      "cell_type": "markdown",
      "metadata": {
        "id": "4cDLkzOHwbeY"
      },
      "source": [
        "### Activity 6: The `join()` Function\n",
        "\n",
        "To join the items contained in a list to form a string, you can use the `join()` function.\n",
        "\n",
        "**Syntax:** `joining_character.join(list)`\n",
        "\n",
        "\n",
        "**Note:** This function works on the lists containing only the string items.\n"
      ]
    },
    {
      "cell_type": "code",
      "metadata": {
        "id": "Cs48MLoFvU6_",
        "colab": {
          "base_uri": "https://localhost:8080/"
        },
        "outputId": "d4fd90b3-a267-4364-a468-eb66c4a25da5"
      },
      "source": [
        "# Example: Joining words from a list into a sentence using join()\n",
        "words = [\"Python\", \"is\", \"awesome\"]\n",
        "sentence = \"@@@@@@@\".join(words)\n",
        "print(sentence)"
      ],
      "execution_count": null,
      "outputs": [
        {
          "output_type": "stream",
          "name": "stdout",
          "text": [
            "Python@@@@@@@is@@@@@@@awesome\n"
          ]
        }
      ]
    },
    {
      "cell_type": "markdown",
      "source": [
        "### Activity 7: Generate a password"
      ],
      "metadata": {
        "id": "swCaQ-E4R_Hd"
      }
    },
    {
      "cell_type": "markdown",
      "metadata": {
        "id": "Ve4pjwAKkx6I"
      },
      "source": [
        "Let's write a code to create a 12 character long password containing a combination of lowercase & uppercase English letters numbers and special characters.\n",
        "\n",
        "For this exercise, we have to import the `string` module that contains the following string constants.\n",
        "\n",
        "1. `string.ascii_lowercase`: A constant string of lowercase letters, i.e.,`'abcdefghijklmnopqrstuvwxyz'`\n",
        "\n",
        "2. `string.ascii_uppercase`: A constant string of uppercase letters, i.e., `'ABCDEFGHIJKLMNOPQRSTUVWXYZ'`\n",
        "\n",
        "3. `string.ascii_letters`: A constant string containing the concatenation of the `ascii_lowercase` and `ascii_uppercase` constants, i.e., `'abcdefghijklmnopqrstuvwxyzABCDEFGHIJKLMNOPQRSTUVWXYZ'`\n",
        "\n",
        "4. `string.digits`: A constant string of the digits, i.e, `'0123456789'`\n",
        "\n",
        "5. `string.punctuation`: A constant string of ASCII characters which are considered as punctuation characters, i.e., ``!\"#$%&'()*+,-./:;<=>?@[\\]^_`{|}~``\n",
        "\n",
        "The constants are those values which are universally true. E.g., value of `pi = 3.141` etc.\n",
        "\n",
        "Of course, you can create all of the above on your own by typing them individually. But then it would be tedious."
      ]
    },
    {
      "cell_type": "code",
      "source": [
        "import string\n",
        "string.ascii_letters"
      ],
      "metadata": {
        "colab": {
          "base_uri": "https://localhost:8080/",
          "height": 35
        },
        "id": "LtJkWZBlIQdg",
        "outputId": "e5dee842-6295-40df-879f-239f279d2ddc"
      },
      "execution_count": null,
      "outputs": [
        {
          "output_type": "execute_result",
          "data": {
            "text/plain": [
              "'abcdefghijklmnopqrstuvwxyzABCDEFGHIJKLMNOPQRSTUVWXYZ'"
            ],
            "application/vnd.google.colaboratory.intrinsic+json": {
              "type": "string"
            }
          },
          "metadata": {},
          "execution_count": 70
        }
      ]
    },
    {
      "cell_type": "code",
      "source": [
        "string.punctuation"
      ],
      "metadata": {
        "colab": {
          "base_uri": "https://localhost:8080/",
          "height": 35
        },
        "id": "fK8DYtbUIVbB",
        "outputId": "3891b909-242a-4750-dad1-e1a187600d6d"
      },
      "execution_count": null,
      "outputs": [
        {
          "output_type": "execute_result",
          "data": {
            "text/plain": [
              "'!\"#$%&\\'()*+,-./:;<=>?@[\\\\]^_`{|}~'"
            ],
            "application/vnd.google.colaboratory.intrinsic+json": {
              "type": "string"
            }
          },
          "metadata": {},
          "execution_count": 71
        }
      ]
    },
    {
      "cell_type": "code",
      "source": [
        "string.digits"
      ],
      "metadata": {
        "colab": {
          "base_uri": "https://localhost:8080/",
          "height": 35
        },
        "id": "Qwp4mnTSIZJ2",
        "outputId": "e232b74d-eee7-4213-ec17-2b77021a8624"
      },
      "execution_count": null,
      "outputs": [
        {
          "output_type": "execute_result",
          "data": {
            "text/plain": [
              "'0123456789'"
            ],
            "application/vnd.google.colaboratory.intrinsic+json": {
              "type": "string"
            }
          },
          "metadata": {},
          "execution_count": 72
        }
      ]
    },
    {
      "cell_type": "code",
      "metadata": {
        "id": "l7UvAgLqthax"
      },
      "source": [
        "# Write a code to generate a 12 character long random password containing a combination of lowercase &\n",
        "# uppercase English letters numbers and special characters.\n",
        "\n"
      ],
      "execution_count": null,
      "outputs": []
    },
    {
      "cell_type": "markdown",
      "metadata": {
        "id": "VqSTUpO-o-8X"
      },
      "source": [
        "In the above code:\n",
        "\n",
        "- An alphanumeric string is created by concatenating the `string.ascii_letters, string.digits, string.punctuation` constants.\n",
        "\n",
        "- A list is created using the list comprehension method:\n",
        "\n",
        "    - By first generating 12 random integers between `0` and `93`. They act as indices for any 12 items of the alphanumeric string.\n",
        "\n",
        "    - Then, by adding the items to the list that are retrieved from the alphanumeric string.\n",
        "\n",
        "- The `join()` function joins the items of the above list about an empty string."
      ]
    },
    {
      "cell_type": "markdown",
      "metadata": {
        "id": "ASoiuhx3yPzV"
      },
      "source": [
        "---"
      ]
    },
    {
      "cell_type": "markdown",
      "metadata": {
        "id": "JEnaq7CeyQ9Q"
      },
      "source": [
        "### Activity 9: The `capitalize(), lower(), upper()` & `title()` Functions\n",
        "\n",
        "The `capitalize()` function, capitalizes only the item at `index = 0` provided that the item is a lowercase English letter. The syntax is `string.capitalize()`."
      ]
    },
    {
      "cell_type": "code",
      "metadata": {
        "id": "ln7sQZkV9h-_"
      },
      "source": [
        "# Example: Capitalizing the first character of a string\n",
        "text = \"python programming is fun\"\n",
        "capitalized_text = text.capitalize()\n",
        "print(capitalized_text)"
      ],
      "execution_count": null,
      "outputs": []
    },
    {
      "cell_type": "markdown",
      "metadata": {
        "id": "CyONvRyCJCB-"
      },
      "source": [
        "`lower()` and `upper()` Functions:\n",
        "\n",
        "The `lower()` function converts all characters in a string to lowercase, while `upper()` converts them to uppercase.\n",
        "\n"
      ]
    },
    {
      "cell_type": "code",
      "metadata": {
        "id": "2nFS5jxiw0Kt"
      },
      "source": [
        "# Example: Converting a string to lowercase and uppercase\n",
        "text = \"Hello World\"\n",
        "lowercase_text = text.lower()\n",
        "uppercase_text = text.upper()\n",
        "print(lowercase_text)  # Output: 'hello world'\n",
        "print(uppercase_text)"
      ],
      "execution_count": null,
      "outputs": []
    },
    {
      "cell_type": "markdown",
      "source": [
        "`title()` Function:\n",
        "\n",
        "The `title()` function capitalizes the first letter of each word in a string."
      ],
      "metadata": {
        "id": "3IX9rcivSjS7"
      }
    },
    {
      "cell_type": "code",
      "metadata": {
        "id": "G3NPpHQPZwMK"
      },
      "source": [
        "# Example: Converting a string to title case\n",
        "text = \"python programming is awesome\"\n",
        "title_case_text = text.title()\n",
        "print(title_case_text)"
      ],
      "execution_count": null,
      "outputs": []
    },
    {
      "cell_type": "markdown",
      "metadata": {
        "id": "jw7jMsa2NQ1q"
      },
      "source": [
        "---"
      ]
    },
    {
      "cell_type": "markdown",
      "metadata": {
        "id": "DtKI0JeVN9U5"
      },
      "source": [
        "### Activity 10: The `isupper(), islower()` & `istitle()` Functions\n",
        "\n",
        "The `istitle()` function returns `True` if the words in a string are in a title case. Otherwise, it returns `False`."
      ]
    },
    {
      "cell_type": "code",
      "metadata": {
        "id": "9Rg7h5KHNipJ"
      },
      "source": [
        "# Example: Checking if a string is in title case\n",
        "text = \"Python Programming Is Fun\"\n",
        "print(text.istitle())"
      ],
      "execution_count": null,
      "outputs": []
    },
    {
      "cell_type": "markdown",
      "metadata": {
        "id": "FXNvpkRgPQto"
      },
      "source": [
        "While applying the `istitle()` function on each English letter one-by-one, it returns `True` if the letter is in uppercase. Otherwise, it returns `False`."
      ]
    },
    {
      "cell_type": "markdown",
      "source": [
        "`isupper()` and `islower()` Functions\n",
        "The `isupper()` function checks if all characters in a string are uppercase, while `islower()` checks if all are lowercase."
      ],
      "metadata": {
        "id": "Cg8GPuvqS8IV"
      }
    },
    {
      "cell_type": "code",
      "metadata": {
        "id": "soYffnhONsmM"
      },
      "source": [
        "# Example: Checking if a string is uppercase or lowercase\n",
        "uppercase_text = \"PYTHON\"\n",
        "lowercase_text = \"python\"\n",
        "print(uppercase_text.isupper())\n",
        "print(lowercase_text.islower())"
      ],
      "execution_count": null,
      "outputs": []
    },
    {
      "cell_type": "markdown",
      "metadata": {
        "id": "Mcn0DPyIQK4h"
      },
      "source": [
        "Similarly, the `isupper()` function returns `True` if an English letter is in uppercase and the `islower()` function returns `True` if an English letter is in lowercase. Otherwise, they return `False`."
      ]
    },
    {
      "cell_type": "markdown",
      "metadata": {
        "id": "UChMXLiTaWe3"
      },
      "source": [
        "---"
      ]
    },
    {
      "cell_type": "markdown",
      "metadata": {
        "id": "FppweQm1RI-U"
      },
      "source": [
        "### Activity 11: The `ljust(), rjust()` & `center()` Functions\n",
        "\n",
        "The `ljust()` function returns a fixed-length string padded with some special character and justifies (or aligns) it on the left-hand side of the output console. The syntax is `string.ljust(length, character)`\n",
        "\n",
        "Let's write a code to get the following output using the `ljust()` function.\n",
        "\n",
        "```\n",
        "1000\n",
        "2000\n",
        "3000\n",
        "4000\n",
        "5000\n",
        "```\n",
        "\n",
        "Each item in the above output is a string of length `4` padded with `0` and left justified.\n"
      ]
    },
    {
      "cell_type": "code",
      "metadata": {
        "id": "5fL3Lxkklr0q"
      },
      "source": [
        "\"1\".ljust(4,\"0\")"
      ],
      "execution_count": null,
      "outputs": []
    },
    {
      "cell_type": "code",
      "metadata": {
        "id": "cuyFG-I2VaBP"
      },
      "source": [
        "# Activity: Write a code to get the above output using the 'ljust()' function.\n"
      ],
      "execution_count": null,
      "outputs": []
    },
    {
      "cell_type": "markdown",
      "metadata": {
        "id": "ZXwRU3aaWjxQ"
      },
      "source": [
        "**The `rjust()` function** returns a fixed-length string padded with some special character and justifies (or aligns) it on the right-hand side of the output console. The syntax is `string.rjust(length, character)`\n",
        "\n",
        "Now, write a code to get the following output using the `rjust()` function.\n",
        "\n",
        "```\n",
        "00001\n",
        "00002\n",
        "00003\n",
        "00004\n",
        "00005\n",
        "```\n",
        "\n",
        "Each item in the above output is a string of length `5` padded with `0` and right justified."
      ]
    },
    {
      "cell_type": "code",
      "source": [
        "# Activity: Write a code to get the above output using the 'rjust()' function.\n",
        "for i in range(1,6):\n",
        "  print(str(i).rjust(4,\"0\"))"
      ],
      "metadata": {
        "id": "SbmbjJMOT6P9"
      },
      "execution_count": null,
      "outputs": []
    },
    {
      "cell_type": "markdown",
      "metadata": {
        "id": "BC-_dts8XKQ5"
      },
      "source": [
        "**The `center()` function** returns a fixed-length string padded with some special character and justifies (or aligns) it at the center of the output console. The syntax is `string.center(length, character)`\n",
        "\n"
      ]
    },
    {
      "cell_type": "code",
      "source": [
        "# Example: Centering a string with padding characters\n",
        "text = \"Python\"\n",
        "centered_text = text.center(10, '#')\n",
        "print(centered_text)"
      ],
      "metadata": {
        "id": "3vybBcRRUMry"
      },
      "execution_count": null,
      "outputs": []
    },
    {
      "cell_type": "markdown",
      "metadata": {
        "id": "1gvWPJgHZY2R"
      },
      "source": [
        "**Note:** If the `character` value is not defined in the `ljust(), rjust()` and `center()` functions, then they take whitespace as the default character."
      ]
    },
    {
      "cell_type": "markdown",
      "metadata": {
        "id": "BXxvHiMXZHyC"
      },
      "source": [
        "---"
      ]
    },
    {
      "cell_type": "markdown",
      "metadata": {
        "id": "Wql1_zNhFaYO"
      },
      "source": [
        "### Activity 12: The `replace()` Function\n",
        "\n",
        "If you want to replace an item in a string with some other item, then you can use the `replace()` function.\n",
        "\n",
        "**Syntax:** `string.replace(item_to_be_replaced, new_item)`\n",
        "\n",
        "Let's learn this concept with the help of an example. Consider the text below.\n",
        "\n",
        "*Who invented the sole? How can we scientifically prove that a sole exists? If the sole is an energy, then what kind of energy it is? The laws of physics state that energy can neither be created nor be destroyed. So, if the sole is an energy, then how does it transfer from one form to another after the death of a person? We know that the laws of physics are universally true. So, it means either the sole is not an energy or it doesn't exist.*\n",
        "\n",
        "The word *soul* has been mistakenly reported as *sole* by a machine because they are *homophone*. Two or more words having the same pronunciation are called *homophone*.\n",
        "\n",
        "We can replace the word *sole* with *soul* using the `replace()` function."
      ]
    },
    {
      "cell_type": "code",
      "metadata": {
        "id": "-SSWzWCWFzQX"
      },
      "source": [
        "# Replace the word 'sole' with 'soul' in the given paragraph.\n",
        "p = \"\"\"\n",
        "Who invented the sole? How can we scientifically prove that a sole exists?\n",
        "If the sole is an energy, then what kind of energy it is?\n",
        "The laws of physics state that energy can neither be created nor be destroyed.\n",
        "So, if the sole is an energy, then how does it transfer from one form to another after the death of a person?\n",
        "We know that the laws of physics are universally true. So, it means either the sole is not an energy or it doesn't exist.\n",
        "\"\"\"\n"
      ],
      "execution_count": null,
      "outputs": []
    },
    {
      "cell_type": "markdown",
      "source": [
        "**Note:** If you print a multiline string without using the `print()` function, then you will get a single-line string containing the newline `\\n` character. In fact, this is how all the multiline strings are stored in Python."
      ],
      "metadata": {
        "id": "PfoEekpOylQy"
      }
    },
    {
      "cell_type": "markdown",
      "metadata": {
        "id": "g7Ke-E7hpwS8"
      },
      "source": [
        "---"
      ]
    },
    {
      "cell_type": "markdown",
      "metadata": {
        "id": "WZuh0OGvpxqo"
      },
      "source": [
        "### Activity 13: The Escape Character (`\\`)\n",
        "\n",
        "Sometimes you might have to create a string which would contain a combination of single quotes (`''`), double quotes (`\"\"`) or an apostrophe (`'`). In such cases, Python will terminate the string before it is complete. To create such strings, you can use the **escape character** represented by backslash sign (`\\`).\n"
      ]
    },
    {
      "cell_type": "code",
      "metadata": {
        "id": "1fm0xW6ip2_V"
      },
      "source": [
        "# Example: Creating a string with single quotes using the escape character\n",
        "sentence_single_quotes = 'She said \\'That\\'s fine\\' and left.'\n",
        "print(sentence_single_quotes)"
      ],
      "execution_count": null,
      "outputs": []
    },
    {
      "cell_type": "markdown",
      "metadata": {
        "id": "g15ezx0gdLHR"
      },
      "source": [
        "To create the given string using single-quotes, you will have to put one backslash before `'That...` as shown below\n",
        "\n",
        "`\\'That...`\n",
        "\n",
        "and one backslash before `' and...\"` as shown below\n",
        "\n",
        "`\\' and...'`"
      ]
    },
    {
      "cell_type": "markdown",
      "metadata": {
        "id": "0OMi1V9osRiW"
      },
      "source": [
        "---"
      ]
    },
    {
      "cell_type": "markdown",
      "metadata": {
        "id": "uSbF9A2m8Hm4"
      },
      "source": [
        "### Activity 14: The `format()` Function\n",
        "\n",
        "The format() function allows you to format strings by placing placeholders in the string and replacing them with specified values.\n",
        "\n",
        "**Syntax:**\n",
        "\n",
        "`formatted_string = \"String with {} placeholders\".format(value)`\n",
        "\n",
        "Here's a breakdown of its components:\n",
        "\n",
        "- `{}`: This is a placeholder where values will be inserted.\n",
        "- `.format(value)`: This method replaces the placeholder {} with the value provided.\n"
      ]
    },
    {
      "cell_type": "code",
      "source": [
        "#Example\n",
        "\n",
        "name = input(\"please enter your name:\")\n",
        "age = input(\"please mention your age:\")\n",
        "formatted_string = \"My name is {} and I am {} years old.\".format(name, age)\n",
        "print(formatted_string)"
      ],
      "metadata": {
        "id": "3DtvncOmg6da"
      },
      "execution_count": null,
      "outputs": []
    },
    {
      "cell_type": "code",
      "source": [
        "# Example: Formatting a Greeting Message\n",
        "#Data\n",
        "name = \"Alice\"\n",
        "age = 25\n",
        "city = \"New York\"\n",
        "\n",
        "# Using format() function\n",
        "greeting = \"Hello, my name is {}. I am {} years old and I live in {}.\".format(name, age, city)\n",
        "\n",
        "# Printing the formatted string\n",
        "print(greeting)"
      ],
      "metadata": {
        "id": "IwQMXy6pKtY_"
      },
      "execution_count": null,
      "outputs": []
    },
    {
      "cell_type": "markdown",
      "source": [
        "**Labelling Placeholders**\n",
        "\n",
        "When there are too many placeholders to fill, you might lose a track of what value to put to what placeholder. In such cases, the better approach is to label the placeholders in such a way that they describe the values to put to the placeholders."
      ],
      "metadata": {
        "id": "Ne6ZdUEnK4Ya"
      }
    },
    {
      "cell_type": "code",
      "source": [
        "# Example: Formatting a Greeting Message\n",
        "#Data\n",
        "name = \"Alice\"\n",
        "age = 25\n",
        "city = \"New York\"\n",
        "\n",
        "# Using format() function\n",
        "greeting = \"Hello, my name is {a}. I am {b} years old and I live in {c}.\".format(a = name, b=age, c=city)\n",
        "\n",
        "# Printing the formatted string\n",
        "print(greeting)"
      ],
      "metadata": {
        "id": "VlT4m4gThSD_"
      },
      "execution_count": null,
      "outputs": []
    },
    {
      "cell_type": "code",
      "source": [
        "#Example: Formatting a Product Listing\n",
        "\n",
        "# Data\n",
        "product = \"Laptop\"\n",
        "price = 79999\n",
        "quantity = 5\n",
        "\n",
        "# Using format() function with labeled placeholders\n",
        "product_listing = \"Product: {product}, Price: {price}, Quantity: {quantity}\".format(\n",
        "    product=product, price=price, quantity=quantity)\n",
        "\n",
        "# Printing the formatted string\n",
        "print(product_listing)"
      ],
      "metadata": {
        "id": "E1yvwsUxKzO5"
      },
      "execution_count": null,
      "outputs": []
    },
    {
      "cell_type": "markdown",
      "source": [
        "As you can see, we have labelled the placeholders with the to determine which value to assign to which placeholder. Then, using the `format()` function, we have assigned the values to their respective placeholders.\n"
      ],
      "metadata": {
        "id": "Lwy-95VJixWw"
      }
    }
  ]
}