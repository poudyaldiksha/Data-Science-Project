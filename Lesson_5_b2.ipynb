{
  "nbformat": 4,
  "nbformat_minor": 0,
  "metadata": {
    "colab": {
      "provenance": [],
      "include_colab_link": true
    },
    "kernelspec": {
      "name": "python3",
      "display_name": "Python 3"
    },
    "language_info": {
      "name": "python"
    }
  },
  "cells": [
    {
      "cell_type": "markdown",
      "metadata": {
        "id": "view-in-github",
        "colab_type": "text"
      },
      "source": [
        "<a href=\"https://colab.research.google.com/github/poudyaldiksha/Data-Science-project/blob/main/Lesson_5_b2.ipynb\" target=\"_parent\"><img src=\"https://colab.research.google.com/assets/colab-badge.svg\" alt=\"Open In Colab\"/></a>"
      ]
    },
    {
      "cell_type": "markdown",
      "source": [
        "# Lesson 5: Features of Lists, 2D & 3D lists,Nested Lists,Indexing List,List Comprehension"
      ],
      "metadata": {
        "id": "mriLK0LaIeMq"
      }
    },
    {
      "cell_type": "markdown",
      "source": [
        "----"
      ],
      "metadata": {
        "id": "01B2AXmZIxAA"
      }
    },
    {
      "cell_type": "markdown",
      "source": [
        "\n",
        "\n",
        "### Activity:1 For Loops\n",
        "\n",
        "\n",
        "The `for` loop is used to repeat or iterate a set of statements for a fixed number of times.\n",
        "\n",
        "**For e.g:** If we want to print first `5` natural numbers using `for` loop.\n",
        "- First, we will use a ready-made function called `range()` inside `for` loop which generates consecutive natural numbers between two specific numbers.\n",
        "\n",
        "```python\n",
        "for i in range(1, 6):\n",
        "  print(i)\n",
        "```\n",
        "\n",
        "\n",
        "The above code can be read as *for every number in the range of `1` to `6` and except `6`, print a number.* So, in the range of `1` to `6` and except `6`, there are `5` numbers starting from `1` to `5`. So, all these numbers in this range will get printed one-by-one.\n",
        "\n",
        "**The range function:**\n",
        "\n",
        "It is used to generate a range of numbers.\n",
        "\n",
        "**Syntax:** `range(start, end)`\n",
        "\n",
        "where,\n",
        "\n",
        "- `start` (optional):  An integer which specifies from which position to start. Default is 0.\n",
        "- `end` (required): An integer which specifies at which position to stop. This number is not included in the range.\n",
        "\n",
        "**For e.g:**\n",
        "1. `range(0,6)` $\\Rightarrow$ generates numbers from 0 to 5.\n",
        "2.`range(6)` $\\Rightarrow$ generates numbers from 0 to 5.\n",
        "3. `range(1,11)` $\\Rightarrow$ generates numbers from 1 to 10.\n",
        "4. `range(11)` $\\Rightarrow$ generates numbers from 0 to 10.\n",
        "\n",
        "\n"
      ],
      "metadata": {
        "id": "fXTpcHojIYiv"
      }
    },
    {
      "cell_type": "code",
      "source": [
        "#Activity:\n",
        "for i in range(1,6):\n",
        "    print(i)"
      ],
      "metadata": {
        "id": "tEaQQOUCkr9n",
        "colab": {
          "base_uri": "https://localhost:8080/"
        },
        "outputId": "e45d7615-e083-44d2-b65a-9f03274f74e6"
      },
      "execution_count": null,
      "outputs": [
        {
          "output_type": "stream",
          "name": "stdout",
          "text": [
            "1\n",
            "2\n",
            "3\n",
            "4\n",
            "5\n"
          ]
        }
      ]
    },
    {
      "cell_type": "code",
      "source": [
        "for i in range(0,6):\n",
        "    print(i)"
      ],
      "metadata": {
        "colab": {
          "base_uri": "https://localhost:8080/"
        },
        "id": "bbuCtjVRx-RY",
        "outputId": "f99a63a8-8dc5-4a38-a9f5-f4ff43db2cb8"
      },
      "execution_count": null,
      "outputs": [
        {
          "output_type": "stream",
          "name": "stdout",
          "text": [
            "0\n",
            "1\n",
            "2\n",
            "3\n",
            "4\n",
            "5\n"
          ]
        }
      ]
    },
    {
      "cell_type": "code",
      "source": [
        "i = 1\n",
        "while i<=5:\n",
        "    print(i)\n",
        "    i+=1 # i=i+1"
      ],
      "metadata": {
        "colab": {
          "base_uri": "https://localhost:8080/"
        },
        "id": "D6ktGYWZyDG6",
        "outputId": "55114263-0b17-49a1-9e9d-c7fd9d6d0e44"
      },
      "execution_count": null,
      "outputs": [
        {
          "output_type": "stream",
          "name": "stdout",
          "text": [
            "1\n",
            "2\n",
            "3\n",
            "4\n",
            "5\n"
          ]
        }
      ]
    },
    {
      "cell_type": "markdown",
      "source": [
        "**while Loop**\n",
        "\n",
        "The while loop is used when you want to repeat a block of code as long as a condition is true. It is useful when the number of iterations is not known beforehand and depends on a condition.\n",
        "\n",
        "**for Loop**\n",
        "\n",
        "The for loop is used for iterating over a sequence (such as a list, tuple, dictionary, set, or string) or other iterable objects. It is useful when the number of iterations is known or can be determined by the size of the iterable."
      ],
      "metadata": {
        "id": "cemu6LqJnUjR"
      }
    },
    {
      "cell_type": "markdown",
      "source": [],
      "metadata": {
        "id": "uExQBNZlyr2c"
      }
    },
    {
      "cell_type": "code",
      "source": [
        "# Activity\n",
        "indian_lang = [\"Hindi\", \"Bengali\", \"Telugu\", \"Marathi\", \"Tamil\", \"Gujarati\", \"Kannada\", \"Malayalam\", \"Odia\", \"Punjabi\"]\n",
        "type(indian_lang)"
      ],
      "metadata": {
        "colab": {
          "base_uri": "https://localhost:8080/"
        },
        "id": "HplOvapxhOC2",
        "outputId": "f465ecf4-b690-42de-a0fc-bec7ed7c16f9"
      },
      "execution_count": null,
      "outputs": [
        {
          "output_type": "execute_result",
          "data": {
            "text/plain": [
              "list"
            ]
          },
          "metadata": {},
          "execution_count": 12
        }
      ]
    },
    {
      "cell_type": "code",
      "source": [
        "len(indian_lang)"
      ],
      "metadata": {
        "colab": {
          "base_uri": "https://localhost:8080/"
        },
        "id": "wsoXWMHJzMAr",
        "outputId": "9a943bc7-515e-42a9-bd2f-f10ac7b8b077"
      },
      "execution_count": null,
      "outputs": [
        {
          "output_type": "execute_result",
          "data": {
            "text/plain": [
              "10"
            ]
          },
          "metadata": {},
          "execution_count": 13
        }
      ]
    },
    {
      "cell_type": "code",
      "source": [
        "indian_lang[0]"
      ],
      "metadata": {
        "colab": {
          "base_uri": "https://localhost:8080/",
          "height": 35
        },
        "id": "LqrxYwiPzSrO",
        "outputId": "b9f61aaa-5b9d-4d30-c08f-40a987ddda40"
      },
      "execution_count": null,
      "outputs": [
        {
          "output_type": "execute_result",
          "data": {
            "text/plain": [
              "'Hindi'"
            ],
            "application/vnd.google.colaboratory.intrinsic+json": {
              "type": "string"
            }
          },
          "metadata": {},
          "execution_count": 14
        }
      ]
    },
    {
      "cell_type": "code",
      "source": [
        "indian_lang[1]"
      ],
      "metadata": {
        "colab": {
          "base_uri": "https://localhost:8080/",
          "height": 35
        },
        "id": "0FL2s_-LzXjO",
        "outputId": "577cdebb-81a1-4040-c352-5609c8030c3d"
      },
      "execution_count": null,
      "outputs": [
        {
          "output_type": "execute_result",
          "data": {
            "text/plain": [
              "'Bengali'"
            ],
            "application/vnd.google.colaboratory.intrinsic+json": {
              "type": "string"
            }
          },
          "metadata": {},
          "execution_count": 15
        }
      ]
    },
    {
      "cell_type": "code",
      "source": [
        "indian_lang[9]"
      ],
      "metadata": {
        "colab": {
          "base_uri": "https://localhost:8080/",
          "height": 35
        },
        "id": "sU2xuge7zeHn",
        "outputId": "7f8d0a55-94ca-49df-9c1a-b547f317a686"
      },
      "execution_count": null,
      "outputs": [
        {
          "output_type": "execute_result",
          "data": {
            "text/plain": [
              "'Punjabi'"
            ],
            "application/vnd.google.colaboratory.intrinsic+json": {
              "type": "string"
            }
          },
          "metadata": {},
          "execution_count": 16
        }
      ]
    },
    {
      "cell_type": "code",
      "source": [
        "for i in range(len(indian_lang)):\n",
        "    print(indian_lang[i])"
      ],
      "metadata": {
        "colab": {
          "base_uri": "https://localhost:8080/"
        },
        "id": "YENM4jXCy3cK",
        "outputId": "04314c9a-06c7-44ca-98dd-6d5edb140971"
      },
      "execution_count": null,
      "outputs": [
        {
          "output_type": "stream",
          "name": "stdout",
          "text": [
            "Hindi\n",
            "Bengali\n",
            "Telugu\n",
            "Marathi\n",
            "Tamil\n",
            "Gujarati\n",
            "Kannada\n",
            "Malayalam\n",
            "Odia\n",
            "Punjabi\n"
          ]
        }
      ]
    },
    {
      "cell_type": "code",
      "source": [
        "for i in range(1,len(indian_lang)+1):\n",
        "    print(indian_lang[-i])"
      ],
      "metadata": {
        "colab": {
          "base_uri": "https://localhost:8080/"
        },
        "id": "oebnomJY1IGG",
        "outputId": "d45a11cd-af87-42fd-9489-63615f11807a"
      },
      "execution_count": null,
      "outputs": [
        {
          "output_type": "stream",
          "name": "stdout",
          "text": [
            "Punjabi\n",
            "Odia\n",
            "Malayalam\n",
            "Kannada\n",
            "Gujarati\n",
            "Tamil\n",
            "Marathi\n",
            "Telugu\n",
            "Bengali\n",
            "Hindi\n"
          ]
        }
      ]
    },
    {
      "cell_type": "code",
      "source": [
        "import random\n",
        "d = random.randint(0,10)\n",
        "print(d)\n",
        "indian_lang[d]"
      ],
      "metadata": {
        "colab": {
          "base_uri": "https://localhost:8080/",
          "height": 53
        },
        "id": "yRJmNe3X0hWP",
        "outputId": "9a3ae193-72d9-437a-f671-660bd6698bff"
      },
      "execution_count": null,
      "outputs": [
        {
          "output_type": "stream",
          "name": "stdout",
          "text": [
            "2\n"
          ]
        },
        {
          "output_type": "execute_result",
          "data": {
            "text/plain": [
              "'Telugu'"
            ],
            "application/vnd.google.colaboratory.intrinsic+json": {
              "type": "string"
            }
          },
          "metadata": {},
          "execution_count": 23
        }
      ]
    },
    {
      "cell_type": "code",
      "source": [
        "#Activity:\n",
        "n = len(indian_lang)\n",
        "for i in range(0,n):\n",
        "  print(indian_lang[i])"
      ],
      "metadata": {
        "id": "YvQJU1vSoaJ_"
      },
      "execution_count": null,
      "outputs": []
    },
    {
      "cell_type": "code",
      "source": [
        "#Activity: Using the 'for' loop and negative indices, retrieve all the items from the 'indian_lang' list in the reverse order.\n",
        "n = len(indian_lang)\n",
        "for i in range(1,n+1):\n",
        "  print(indian_lang[-i])"
      ],
      "metadata": {
        "id": "AJ1yN2EHUbwa"
      },
      "execution_count": null,
      "outputs": []
    },
    {
      "cell_type": "markdown",
      "source": [
        "### Activity 2: List Slicing\n",
        "Suppose that I have a list of `10` Indian languages.\n",
        "\n",
        "`indian_lang = [\"Hindi\", \"Bengali\", \"Telugu\", \"Marathi\", \"Tamil\", \"Gujarati\", \"Kannada\", \"Malayalam\", \"Odia\", \"Punjabi\"]\n",
        "`\n",
        "\n",
        "Let's say, I want to see a list of only first languages, then I can use the concept of **list slicing**.\n",
        "\n",
        "To slice a list, write the name of the list followed by square brackets and inside the square brackets, enter the **starting point** (in this case it is zero) followed by a colon sign (`:`) and the **ending point**.\n",
        "\n",
        "**Syntax:** `list_name[start_index:end_index]`\n",
        "\n",
        "**For e.g:** `indian_lang[0:5]`\n",
        "\n",
        "Note that the item at the `end-index` will not be a part of the sub-list."
      ],
      "metadata": {
        "id": "jyrzldo7KNbA"
      }
    },
    {
      "cell_type": "code",
      "source": [
        "# Activity:\n",
        "indian_lang = [\"Hindi\", \"Bengali\", \"Telugu\", \"Marathi\", \"Tamil\", \"Gujarati\", \"Kannada\", \"Malayalam\", \"Odia\", \"Punjabi\"]\n",
        "indian_lang[0:5]"
      ],
      "metadata": {
        "id": "kMIspylULEfO",
        "colab": {
          "base_uri": "https://localhost:8080/"
        },
        "outputId": "412ea2dd-b146-40bc-b75f-b397eed2adfc"
      },
      "execution_count": null,
      "outputs": [
        {
          "output_type": "execute_result",
          "data": {
            "text/plain": [
              "['Hindi', 'Bengali', 'Telugu', 'Marathi', 'Tamil']"
            ]
          },
          "metadata": {},
          "execution_count": 25
        }
      ]
    },
    {
      "cell_type": "code",
      "source": [
        "indian_lang[:5]"
      ],
      "metadata": {
        "colab": {
          "base_uri": "https://localhost:8080/"
        },
        "id": "atcvasgU2R8O",
        "outputId": "f17fb2c5-ca08-40f1-e1cc-ffe27ffb3734"
      },
      "execution_count": null,
      "outputs": [
        {
          "output_type": "execute_result",
          "data": {
            "text/plain": [
              "['Hindi', 'Bengali', 'Telugu', 'Marathi', 'Tamil']"
            ]
          },
          "metadata": {},
          "execution_count": 26
        }
      ]
    },
    {
      "cell_type": "markdown",
      "source": [
        "If you do not specify the starting point, then Python assumes that you want to get the items starting from the first item of the list."
      ],
      "metadata": {
        "id": "pQi3P6K5LTHU"
      }
    },
    {
      "cell_type": "code",
      "source": [
        "#Activity : Retrieve the first 5 items from the 'indian_lang' Python list without mentioning the starting index.\n",
        "indian_lang[:5]"
      ],
      "metadata": {
        "id": "JLNUCd8cLT7I"
      },
      "execution_count": null,
      "outputs": []
    },
    {
      "cell_type": "code",
      "source": [
        "#Activity: Write a code to see all the languages in the list starting from 'Bengali' to 'Kannada'.\n",
        "indian_lang[1:7]"
      ],
      "metadata": {
        "id": "wsU0VZoYLgPq",
        "colab": {
          "base_uri": "https://localhost:8080/"
        },
        "outputId": "246d75fc-b941-4e46-c46f-ffae17423de5"
      },
      "execution_count": null,
      "outputs": [
        {
          "output_type": "execute_result",
          "data": {
            "text/plain": [
              "['Bengali', 'Telugu', 'Marathi', 'Tamil', 'Gujarati', 'Kannada']"
            ]
          },
          "metadata": {},
          "execution_count": 27
        }
      ]
    },
    {
      "cell_type": "code",
      "source": [
        "indian_lang[1:8]"
      ],
      "metadata": {
        "colab": {
          "base_uri": "https://localhost:8080/"
        },
        "id": "yUvV2bYx2kEr",
        "outputId": "4aeff399-5061-4e5e-ee7b-38dcd228ad1b"
      },
      "execution_count": null,
      "outputs": [
        {
          "output_type": "execute_result",
          "data": {
            "text/plain": [
              "['Bengali', 'Telugu', 'Marathi', 'Tamil', 'Gujarati', 'Kannada', 'Malayalam']"
            ]
          },
          "metadata": {},
          "execution_count": 28
        }
      ]
    },
    {
      "cell_type": "markdown",
      "source": [
        "You can also skip intermediate items while retrieving a few other items from a list.\n",
        "\n",
        "Suppose you want to retrieve alternate items from a list starting from the first item, then you can use the list slicing method.\n",
        "\n",
        "Inside the square brackets, after the ending point, you have to include another colon (`:`) sign followed by the number of items to be skipped.\n",
        "\n",
        "**Syntax:** `list_name[start_index:end_index:num_of_items_to_be_skipped]`"
      ],
      "metadata": {
        "id": "98PyiC0wLs6P"
      }
    },
    {
      "cell_type": "code",
      "source": [
        "indian_lang"
      ],
      "metadata": {
        "colab": {
          "base_uri": "https://localhost:8080/"
        },
        "id": "-V1ZNg4q26B7",
        "outputId": "0e764d73-45fa-418e-863e-b0509d352616"
      },
      "execution_count": null,
      "outputs": [
        {
          "output_type": "execute_result",
          "data": {
            "text/plain": [
              "['Hindi',\n",
              " 'Bengali',\n",
              " 'Telugu',\n",
              " 'Marathi',\n",
              " 'Tamil',\n",
              " 'Gujarati',\n",
              " 'Kannada',\n",
              " 'Malayalam',\n",
              " 'Odia',\n",
              " 'Punjabi']"
            ]
          },
          "metadata": {},
          "execution_count": 30
        }
      ]
    },
    {
      "cell_type": "code",
      "source": [
        "# Activity: Retrieve all the alternate items from the 'indian_lang' list.\n",
        "indian_lang[0:9:3]"
      ],
      "metadata": {
        "id": "h5tbFWRnLnHl",
        "colab": {
          "base_uri": "https://localhost:8080/"
        },
        "outputId": "b55cfed1-d9a6-444a-e588-ae4fd882744d"
      },
      "execution_count": null,
      "outputs": [
        {
          "output_type": "execute_result",
          "data": {
            "text/plain": [
              "['Hindi', 'Marathi', 'Kannada']"
            ]
          },
          "metadata": {},
          "execution_count": 33
        }
      ]
    },
    {
      "cell_type": "code",
      "source": [
        "indian_lang[1:7:2]"
      ],
      "metadata": {
        "colab": {
          "base_uri": "https://localhost:8080/"
        },
        "id": "Y4p3uAaU3KT8",
        "outputId": "e53dbcaa-f383-494a-d0f0-084beffac608"
      },
      "execution_count": null,
      "outputs": [
        {
          "output_type": "execute_result",
          "data": {
            "text/plain": [
              "['Bengali', 'Marathi', 'Gujarati']"
            ]
          },
          "metadata": {},
          "execution_count": 31
        }
      ]
    },
    {
      "cell_type": "code",
      "source": [
        "indian_lang[0:9:2]"
      ],
      "metadata": {
        "colab": {
          "base_uri": "https://localhost:8080/"
        },
        "id": "SAxXcwxV3ec_",
        "outputId": "9c6141e3-3544-4300-d524-04a05c903be0"
      },
      "execution_count": null,
      "outputs": [
        {
          "output_type": "execute_result",
          "data": {
            "text/plain": [
              "['Hindi', 'Telugu', 'Tamil', 'Kannada', 'Odia']"
            ]
          },
          "metadata": {},
          "execution_count": 34
        }
      ]
    },
    {
      "cell_type": "code",
      "source": [
        "indian_lang[::2]"
      ],
      "metadata": {
        "colab": {
          "base_uri": "https://localhost:8080/"
        },
        "id": "XvaPJYrH3iLS",
        "outputId": "cc37ba3c-94ac-4b84-eb5d-2f846fb5d068"
      },
      "execution_count": null,
      "outputs": [
        {
          "output_type": "execute_result",
          "data": {
            "text/plain": [
              "['Hindi', 'Telugu', 'Tamil', 'Kannada', 'Odia']"
            ]
          },
          "metadata": {},
          "execution_count": 35
        }
      ]
    },
    {
      "cell_type": "code",
      "source": [
        "indian_lang[:9:5]"
      ],
      "metadata": {
        "colab": {
          "base_uri": "https://localhost:8080/"
        },
        "id": "glnl0djn3oNU",
        "outputId": "6a876224-4479-4484-ac48-1cdbe9298a35"
      },
      "execution_count": null,
      "outputs": [
        {
          "output_type": "execute_result",
          "data": {
            "text/plain": [
              "['Hindi', 'Gujarati']"
            ]
          },
          "metadata": {},
          "execution_count": 37
        }
      ]
    },
    {
      "cell_type": "code",
      "source": [],
      "metadata": {
        "id": "Pz8aR5hu3r--"
      },
      "execution_count": null,
      "outputs": []
    },
    {
      "cell_type": "markdown",
      "source": [
        "**Note:** If you are retrieving all the items from a list, then you actually do not have to mention the start and end indices. Just put the colon (`:`) signs and Python will know that you wish to retrieve all the items.\n",
        "\n",
        "To retrieve all the items from a list in the reverse order, you can also use the list slicing method with a negative index `-1` after the second colon (`:`) sign."
      ],
      "metadata": {
        "id": "Z8pL5iM3L7Ji"
      }
    },
    {
      "cell_type": "code",
      "source": [
        "#Activity:\n",
        "indian_lang[:]"
      ],
      "metadata": {
        "id": "zcuYUcaAL2sf"
      },
      "execution_count": null,
      "outputs": []
    },
    {
      "cell_type": "code",
      "source": [
        "indian_lang"
      ],
      "metadata": {
        "colab": {
          "base_uri": "https://localhost:8080/"
        },
        "id": "jQ03mV0M4EYm",
        "outputId": "acf90e82-a2a0-4d88-bbb5-afdbc2154b72"
      },
      "execution_count": null,
      "outputs": [
        {
          "output_type": "execute_result",
          "data": {
            "text/plain": [
              "['Hindi',\n",
              " 'Bengali',\n",
              " 'Telugu',\n",
              " 'Marathi',\n",
              " 'Tamil',\n",
              " 'Gujarati',\n",
              " 'Kannada',\n",
              " 'Malayalam',\n",
              " 'Odia',\n",
              " 'Punjabi']"
            ]
          },
          "metadata": {},
          "execution_count": 40
        }
      ]
    },
    {
      "cell_type": "code",
      "source": [
        "# Activity: Retrieve all the items from the 'indian_lang' list in the reverse order.\n",
        "indian_lang[::-2]"
      ],
      "metadata": {
        "id": "PoRxbuA4MEzv",
        "colab": {
          "base_uri": "https://localhost:8080/"
        },
        "outputId": "900a4c93-12ec-46e7-bd4c-cd056ef7821f"
      },
      "execution_count": null,
      "outputs": [
        {
          "output_type": "execute_result",
          "data": {
            "text/plain": [
              "['Punjabi', 'Malayalam', 'Gujarati', 'Marathi', 'Bengali']"
            ]
          },
          "metadata": {},
          "execution_count": 39
        }
      ]
    },
    {
      "cell_type": "markdown",
      "source": [
        "### Activity 3: Index Of An Item\n",
        "\n",
        "Suppose that you want to find the index of `Tamil` in the `indian_lang` list, then you can use the `index()` function.\n",
        "\n",
        "To find an index of an item, write the name of the list followed by the dot `(.)` operator followed by the `index()` function. Inside the `index()` function, enter the item whose index you wish to find.\n",
        "\n",
        "**Syntax:** `list_name.index(item)`\n"
      ],
      "metadata": {
        "id": "6Z184tm6MRya"
      }
    },
    {
      "cell_type": "code",
      "source": [
        "# Activity: Find index of Tamil\n",
        "indian_lang.index(\"Tamil\")"
      ],
      "metadata": {
        "id": "UmkSdNg5Mn2V",
        "colab": {
          "base_uri": "https://localhost:8080/"
        },
        "outputId": "08963835-d712-4b6c-86b2-0eea8c4309d4"
      },
      "execution_count": null,
      "outputs": [
        {
          "output_type": "execute_result",
          "data": {
            "text/plain": [
              "4"
            ]
          },
          "metadata": {},
          "execution_count": 41
        }
      ]
    },
    {
      "cell_type": "code",
      "source": [
        "a = [ 1,2,3,3,\"3\",4,5,6]\n",
        "a.index(3)"
      ],
      "metadata": {
        "colab": {
          "base_uri": "https://localhost:8080/"
        },
        "id": "ecIXZGv_4ipn",
        "outputId": "9b625fea-feae-4867-c432-a5f3e2c8057c"
      },
      "execution_count": null,
      "outputs": [
        {
          "output_type": "execute_result",
          "data": {
            "text/plain": [
              "2"
            ]
          },
          "metadata": {},
          "execution_count": 44
        }
      ]
    },
    {
      "cell_type": "markdown",
      "source": [
        "### Activity 4: Removing An Item\n",
        "\n",
        "To remove an item from a list, use the `remove()` function followed by the item that you wish to remove.\n",
        "\n",
        "**Syntax:** `list_name.remove(item)`\n"
      ],
      "metadata": {
        "id": "Izwys8YCMxEg"
      }
    },
    {
      "cell_type": "code",
      "source": [
        "a.remove(5)\n",
        "a"
      ],
      "metadata": {
        "colab": {
          "base_uri": "https://localhost:8080/"
        },
        "id": "4srXPgsO5gHs",
        "outputId": "1ac2b68c-3de6-478b-9bd3-b8a49f5b005e"
      },
      "execution_count": null,
      "outputs": [
        {
          "output_type": "execute_result",
          "data": {
            "text/plain": [
              "[1, 2, 3, 3, '3', 4, 6]"
            ]
          },
          "metadata": {},
          "execution_count": 52
        }
      ]
    },
    {
      "cell_type": "code",
      "source": [
        "a.pop()\n",
        "a"
      ],
      "metadata": {
        "colab": {
          "base_uri": "https://localhost:8080/"
        },
        "id": "Daz05G4B5ktt",
        "outputId": "2693b7ef-7df7-4872-d708-3e59d64ce7b8"
      },
      "execution_count": null,
      "outputs": [
        {
          "output_type": "execute_result",
          "data": {
            "text/plain": [
              "[1, 2, 3, 3, '3', 4]"
            ]
          },
          "metadata": {},
          "execution_count": 53
        }
      ]
    },
    {
      "cell_type": "code",
      "source": [
        "a.pop(-2)"
      ],
      "metadata": {
        "colab": {
          "base_uri": "https://localhost:8080/",
          "height": 35
        },
        "id": "6kUN7BYX5oJb",
        "outputId": "8fb79afa-125a-498d-abc9-0b61528f71f8"
      },
      "execution_count": null,
      "outputs": [
        {
          "output_type": "execute_result",
          "data": {
            "text/plain": [
              "'3'"
            ],
            "application/vnd.google.colaboratory.intrinsic+json": {
              "type": "string"
            }
          },
          "metadata": {},
          "execution_count": 54
        }
      ]
    },
    {
      "cell_type": "code",
      "source": [
        "a"
      ],
      "metadata": {
        "colab": {
          "base_uri": "https://localhost:8080/"
        },
        "id": "ooP3vlYt5uOy",
        "outputId": "b0c906f0-85bc-4417-80aa-56176c3b174c"
      },
      "execution_count": null,
      "outputs": [
        {
          "output_type": "execute_result",
          "data": {
            "text/plain": [
              "[1, 2, 3, 3, 4]"
            ]
          },
          "metadata": {},
          "execution_count": 55
        }
      ]
    },
    {
      "cell_type": "code",
      "source": [
        "#Activity:\n",
        "indian_lang.remove(\"Hindi\")"
      ],
      "metadata": {
        "id": "jhFco3klM33s"
      },
      "execution_count": null,
      "outputs": []
    },
    {
      "cell_type": "code",
      "source": [
        "indian_lang"
      ],
      "metadata": {
        "colab": {
          "base_uri": "https://localhost:8080/"
        },
        "id": "NJsbyBAq5Akx",
        "outputId": "b8427e1f-b37c-42ad-da0d-27cdf54c9880"
      },
      "execution_count": null,
      "outputs": [
        {
          "output_type": "execute_result",
          "data": {
            "text/plain": [
              "['Bengali',\n",
              " 'Telugu',\n",
              " 'Marathi',\n",
              " 'Gujarati',\n",
              " 'Kannada',\n",
              " 'Malayalam',\n",
              " 'Odia',\n",
              " 'Punjabi']"
            ]
          },
          "metadata": {},
          "execution_count": 49
        }
      ]
    },
    {
      "cell_type": "markdown",
      "source": [
        "### Activity 5: The `pop()` Function\n",
        "\n",
        "You can also remove an item from a list using another function called `pop()`. It has two behaviours.\n",
        "\n",
        "**Behaviour I:** If you do not specify any input, it will always remove only the last item from a Python list.\n",
        "\n",
        "**Syntax:** `list_name.pop()`"
      ],
      "metadata": {
        "id": "P_eJ9gevM8tw"
      }
    },
    {
      "cell_type": "code",
      "source": [
        "# Activity : Remove the last item from the 'indian_lang' list using the 'pop()' function.\n",
        "print(\"List of all languages before using the pop() function.\")\n",
        "print(indian_lang)\n",
        "\n",
        "indian_lang.pop()\n",
        "\n",
        "print(\"List of languages after using the pop() function.\")\n",
        "print(indian_lang)"
      ],
      "metadata": {
        "id": "xuUk0njPNGee",
        "colab": {
          "base_uri": "https://localhost:8080/"
        },
        "outputId": "810ed324-18db-4374-95f7-10924c99699f"
      },
      "execution_count": null,
      "outputs": [
        {
          "output_type": "stream",
          "name": "stdout",
          "text": [
            "List of all languages before using the pop() function.\n",
            "['Bengali', 'Telugu', 'Marathi', 'Gujarati', 'Kannada', 'Malayalam', 'Odia', 'Punjabi']\n",
            "List of languages after using the pop() function.\n",
            "['Bengali', 'Telugu', 'Marathi', 'Gujarati', 'Kannada', 'Malayalam', 'Odia']\n"
          ]
        }
      ]
    },
    {
      "cell_type": "markdown",
      "source": [
        "**Behaviour II:** If you want to remove an item from a list located at a specific index, then pass the index of that item as an input to the `pop()` function.\n",
        "\n",
        "**For example:** To remove the item at index = 3 from the 'indian_lang' list:\n",
        "\n",
        "**Syntax:** `list_name.pop(item_index)`"
      ],
      "metadata": {
        "id": "TX_sRRkBNYHP"
      }
    },
    {
      "cell_type": "code",
      "source": [
        "#Activity:\n",
        "indian_lang.pop(2)"
      ],
      "metadata": {
        "id": "-vRzD_zUNX4a",
        "colab": {
          "base_uri": "https://localhost:8080/",
          "height": 35
        },
        "outputId": "0069df15-2945-45f4-ffd8-a197305ae296"
      },
      "execution_count": null,
      "outputs": [
        {
          "output_type": "execute_result",
          "data": {
            "text/plain": [
              "'Marathi'"
            ],
            "application/vnd.google.colaboratory.intrinsic+json": {
              "type": "string"
            }
          },
          "metadata": {},
          "execution_count": 56
        }
      ]
    },
    {
      "cell_type": "markdown",
      "source": [
        "### Activity 6: Item Replacement\n",
        "\n",
        "You can replace an existing item in a list with a new item.\n",
        "\n",
        "To replace an item, first get the index of that item. Then using the list indexing method, replace the existing item with the new one.\n",
        "\n",
        "**Syntax:** `list_name[list_name.index('current_item')] = new_item`\n"
      ],
      "metadata": {
        "id": "4w_KohvKNp9Y"
      }
    },
    {
      "cell_type": "code",
      "source": [
        "#Activity:\n",
        "cars = ['Ford', 'Toyota', 'BMW']\n",
        "cars[1] = 'Honda'\n",
        "print(cars)"
      ],
      "metadata": {
        "id": "W86fxCU6N0Dm",
        "colab": {
          "base_uri": "https://localhost:8080/"
        },
        "outputId": "113e8d42-757f-4eee-95a0-e6cce9a91ee6"
      },
      "execution_count": null,
      "outputs": [
        {
          "output_type": "stream",
          "name": "stdout",
          "text": [
            "['Ford', 'Honda', 'BMW']\n"
          ]
        }
      ]
    },
    {
      "cell_type": "code",
      "source": [
        "cars.index(\"BMW\")"
      ],
      "metadata": {
        "colab": {
          "base_uri": "https://localhost:8080/"
        },
        "id": "HVk8gcH-6dRN",
        "outputId": "0a378899-5cbb-4ee5-d617-eae2f90ac109"
      },
      "execution_count": null,
      "outputs": [
        {
          "output_type": "execute_result",
          "data": {
            "text/plain": [
              "2"
            ]
          },
          "metadata": {},
          "execution_count": 58
        }
      ]
    },
    {
      "cell_type": "code",
      "source": [
        "cars[cars.index(\"BMW\")]= \"Merc\"\n",
        "cars"
      ],
      "metadata": {
        "id": "PJI8Tw31W_zF",
        "colab": {
          "base_uri": "https://localhost:8080/"
        },
        "outputId": "977ce02e-6f39-4b6b-e51c-ef6514822f6c"
      },
      "execution_count": null,
      "outputs": [
        {
          "output_type": "execute_result",
          "data": {
            "text/plain": [
              "['Ford', 'Honda', 'Merc']"
            ]
          },
          "metadata": {},
          "execution_count": 59
        }
      ]
    },
    {
      "cell_type": "markdown",
      "source": [
        "### Activity 7: Sorting a List\n",
        "The `sort()` function sorts the elements of a list in ascending order by default.\n",
        "\n",
        "You can also sort the list in descending order by passing the `reverse=True` parameter.\n",
        "\n"
      ],
      "metadata": {
        "id": "DPN1qJgWsL-k"
      }
    },
    {
      "cell_type": "code",
      "source": [
        "#Activity: Sorting in Ascending Order\n",
        "numbers = [4, 2, 9, 1, 5, 6]\n",
        "numbers.sort()\n",
        "print(numbers)"
      ],
      "metadata": {
        "id": "0ZXCsGYisWm6",
        "colab": {
          "base_uri": "https://localhost:8080/"
        },
        "outputId": "8cc031fb-665a-415a-9214-b47a0b849976"
      },
      "execution_count": null,
      "outputs": [
        {
          "output_type": "stream",
          "name": "stdout",
          "text": [
            "[1, 2, 4, 5, 6, 9]\n"
          ]
        }
      ]
    },
    {
      "cell_type": "code",
      "source": [
        "#Activity: Sorting in Descending Order\n",
        "numbers = [4, 2, 9, 1, 5, 6]\n",
        "numbers.sort(reverse=True)\n",
        "print(numbers)"
      ],
      "metadata": {
        "id": "gy5M9R6vsbi9",
        "colab": {
          "base_uri": "https://localhost:8080/"
        },
        "outputId": "16728c32-bb7b-426b-f871-50803eafdd84"
      },
      "execution_count": null,
      "outputs": [
        {
          "output_type": "stream",
          "name": "stdout",
          "text": [
            "[9, 6, 5, 4, 2, 1]\n"
          ]
        }
      ]
    },
    {
      "cell_type": "code",
      "source": [
        "w = [\"a\",\"z\",\"Z\",\"b\",\"l\"]\n",
        "w.sort()\n",
        "print(w)"
      ],
      "metadata": {
        "colab": {
          "base_uri": "https://localhost:8080/"
        },
        "id": "WtzqcNaB6uUs",
        "outputId": "a4e2ddce-a6ca-470c-9e76-46cda746f153"
      },
      "execution_count": null,
      "outputs": [
        {
          "output_type": "stream",
          "name": "stdout",
          "text": [
            "['Z', 'a', 'b', 'l', 'z']\n"
          ]
        }
      ]
    },
    {
      "cell_type": "markdown",
      "source": [
        "###Activity 8:Inserting an Element into a List\n",
        "\n",
        "The `insert()` function inserts an element at a specified position in the list. It takes two parameters: the index at which to insert the element and the element to be inserted.\n",
        "\n"
      ],
      "metadata": {
        "id": "ifL5ZQA6suBV"
      }
    },
    {
      "cell_type": "code",
      "source": [
        "c = [1,2,3,4,5]\n",
        "c.append(\"p\")\n",
        "c"
      ],
      "metadata": {
        "colab": {
          "base_uri": "https://localhost:8080/"
        },
        "id": "baBw59th7KEZ",
        "outputId": "a4f87281-ee31-405c-83de-b4d60b3d17a0"
      },
      "execution_count": null,
      "outputs": [
        {
          "output_type": "execute_result",
          "data": {
            "text/plain": [
              "[1, 2, 3, 4, 5, 'p']"
            ]
          },
          "metadata": {},
          "execution_count": 65
        }
      ]
    },
    {
      "cell_type": "code",
      "source": [
        "#Activity\n",
        "letters = ['a', 'b', 'd', 'e']\n",
        "letters.insert(2, 'c')  # Insert 'c' at index 2\n",
        "print(letters)"
      ],
      "metadata": {
        "id": "WIGMv9Cjs4JE",
        "colab": {
          "base_uri": "https://localhost:8080/"
        },
        "outputId": "b7afdb13-96bb-4c3f-bf6d-9029c1ca9888"
      },
      "execution_count": null,
      "outputs": [
        {
          "output_type": "stream",
          "name": "stdout",
          "text": [
            "['a', 'b', 'c', 'd', 'e']\n"
          ]
        }
      ]
    },
    {
      "cell_type": "code",
      "source": [
        "gro_list = [[\"mango,apple,banana\"],\n",
        "            [\"brocoli\",\"cabbage\"],\n",
        "            [\"milk\",\"diary\"]]\n",
        "gro_list"
      ],
      "metadata": {
        "colab": {
          "base_uri": "https://localhost:8080/"
        },
        "id": "2e4KV14i7kbm",
        "outputId": "815c678d-e904-4bfd-dddd-cde2a9dea0d4"
      },
      "execution_count": null,
      "outputs": [
        {
          "output_type": "execute_result",
          "data": {
            "text/plain": [
              "[['mango,apple,banana'], ['brocoli', 'cabbage'], ['milk', 'diary']]"
            ]
          },
          "metadata": {},
          "execution_count": 67
        }
      ]
    },
    {
      "cell_type": "code",
      "source": [
        "len(gro_list)"
      ],
      "metadata": {
        "colab": {
          "base_uri": "https://localhost:8080/"
        },
        "id": "mioJqJLd70vB",
        "outputId": "2d7c194a-cd26-4c93-c7fb-bd5e6178a998"
      },
      "execution_count": null,
      "outputs": [
        {
          "output_type": "execute_result",
          "data": {
            "text/plain": [
              "3"
            ]
          },
          "metadata": {},
          "execution_count": 68
        }
      ]
    },
    {
      "cell_type": "markdown",
      "source": [
        "----"
      ],
      "metadata": {
        "id": "MVlXYvme0FqS"
      }
    },
    {
      "cell_type": "markdown",
      "source": [
        "##NESTED LISTS"
      ],
      "metadata": {
        "id": "vgUIOBLmiP6v"
      }
    },
    {
      "cell_type": "markdown",
      "source": [
        "### Activity 1: Data Representation In Two-Dimensions Using Python Lists\n",
        "\n",
        "A two-dimensional (or a tabular) data can be represented using a Python list.A nested list is a list that contains other lists as its elements.\n",
        "\n",
        "**Nested lists** can be used to represent matrices or tables having values arranged in rows and columns.\n",
        "\n",
        "\n",
        "**For example:**\n",
        "1. `list1=[[10,20,30],[40,50],[60,70]]` $\\Rightarrow$ Here `list1` is a nested list having `3` **inner list** or **sublist**.\n",
        "\n",
        "2. `list2=[['orange','apple'],['mango']]` $\\Rightarrow$ Here `list2` is a nested list having `2` sublist.\n",
        "\n",
        "3. `list3=['peter', 3.0, 15, [1, 2]]` $\\Rightarrow$ Here `list3` contains a string, a float, an integer and another list\n",
        "\n",
        "\n",
        "\n",
        "\n",
        "\n"
      ],
      "metadata": {
        "id": "jhxG6A1WiP6w"
      }
    },
    {
      "cell_type": "code",
      "source": [
        "list3=['peter', 3.0, 15, [1, 2]]\n",
        "len(list3)"
      ],
      "metadata": {
        "colab": {
          "base_uri": "https://localhost:8080/"
        },
        "id": "TncymCP58RcU",
        "outputId": "53d55ed0-fcdb-4787-970c-6682f250113a"
      },
      "execution_count": null,
      "outputs": [
        {
          "output_type": "execute_result",
          "data": {
            "text/plain": [
              "4"
            ]
          },
          "metadata": {},
          "execution_count": 69
        }
      ]
    },
    {
      "cell_type": "code",
      "source": [
        "#Activity: Create a nested list\n",
        "list1 = [[2,3,7],[4,5,6],[6,6,8,9,9,9]]\n",
        "list1"
      ],
      "metadata": {
        "colab": {
          "base_uri": "https://localhost:8080/"
        },
        "id": "M46JrdCWiP6w",
        "outputId": "454c2f32-b2d8-42c7-f123-64163ba26c4b"
      },
      "execution_count": null,
      "outputs": [
        {
          "output_type": "execute_result",
          "data": {
            "text/plain": [
              "[[2, 3, 7], [4, 5, 6], [6, 6, 8, 9, 9, 9]]"
            ]
          },
          "metadata": {},
          "execution_count": 70
        }
      ]
    },
    {
      "cell_type": "code",
      "source": [
        "#Example\n",
        "colours = [[\"Red\", \"Pink\"],[\"Yellow\",\"Orange\"],[\"Blue\",\"White\"]]\n",
        "colours"
      ],
      "metadata": {
        "colab": {
          "base_uri": "https://localhost:8080/"
        },
        "id": "q_7T1mcFPDfd",
        "outputId": "5068ef39-d82d-4e31-b9ba-496cc4de194b"
      },
      "execution_count": null,
      "outputs": [
        {
          "output_type": "execute_result",
          "data": {
            "text/plain": [
              "[['Red', 'Pink'], ['Yellow', 'Orange'], ['Blue', 'White']]"
            ]
          },
          "metadata": {},
          "execution_count": 71
        }
      ]
    },
    {
      "cell_type": "code",
      "source": [
        "colours[0]"
      ],
      "metadata": {
        "colab": {
          "base_uri": "https://localhost:8080/"
        },
        "id": "wvb4Zlfm8ev9",
        "outputId": "77c85628-3afb-42a9-9dce-0df1b457971e"
      },
      "execution_count": null,
      "outputs": [
        {
          "output_type": "execute_result",
          "data": {
            "text/plain": [
              "['Red', 'Pink']"
            ]
          },
          "metadata": {},
          "execution_count": 73
        }
      ]
    },
    {
      "cell_type": "code",
      "source": [
        "colours[2]"
      ],
      "metadata": {
        "colab": {
          "base_uri": "https://localhost:8080/"
        },
        "id": "0sqbSMCj8maj",
        "outputId": "8a9d0268-7c49-4deb-d86e-0c2cafce3769"
      },
      "execution_count": null,
      "outputs": [
        {
          "output_type": "execute_result",
          "data": {
            "text/plain": [
              "['Blue', 'White']"
            ]
          },
          "metadata": {},
          "execution_count": 74
        }
      ]
    },
    {
      "cell_type": "code",
      "source": [
        "colours[1][1]"
      ],
      "metadata": {
        "colab": {
          "base_uri": "https://localhost:8080/",
          "height": 35
        },
        "id": "Cz3cUZzp8orX",
        "outputId": "c0c57289-6657-4588-aab9-e5b6f3bb50b9"
      },
      "execution_count": null,
      "outputs": [
        {
          "output_type": "execute_result",
          "data": {
            "text/plain": [
              "'Orange'"
            ],
            "application/vnd.google.colaboratory.intrinsic+json": {
              "type": "string"
            }
          },
          "metadata": {},
          "execution_count": 76
        }
      ]
    },
    {
      "cell_type": "code",
      "source": [
        "colours[0][-1]"
      ],
      "metadata": {
        "colab": {
          "base_uri": "https://localhost:8080/",
          "height": 35
        },
        "id": "yihNMjIM9llS",
        "outputId": "588057e1-e8ec-4ebf-86c6-1c750de0685a"
      },
      "execution_count": null,
      "outputs": [
        {
          "output_type": "execute_result",
          "data": {
            "text/plain": [
              "'Pink'"
            ],
            "application/vnd.google.colaboratory.intrinsic+json": {
              "type": "string"
            }
          },
          "metadata": {},
          "execution_count": 83
        }
      ]
    },
    {
      "cell_type": "code",
      "source": [
        "colours[0][1]"
      ],
      "metadata": {
        "colab": {
          "base_uri": "https://localhost:8080/",
          "height": 35
        },
        "id": "gVpQn9nv9zss",
        "outputId": "b826b902-b006-4bcc-fd98-ff0fa4b8093f"
      },
      "execution_count": null,
      "outputs": [
        {
          "output_type": "execute_result",
          "data": {
            "text/plain": [
              "'Pink'"
            ],
            "application/vnd.google.colaboratory.intrinsic+json": {
              "type": "string"
            }
          },
          "metadata": {},
          "execution_count": 84
        }
      ]
    },
    {
      "cell_type": "code",
      "source": [
        "w = [1,2,3]\n",
        "w"
      ],
      "metadata": {
        "colab": {
          "base_uri": "https://localhost:8080/"
        },
        "id": "T38ggJTI87Cj",
        "outputId": "5bfde7fd-0c85-4544-bbb4-4a3fb2cf2a76"
      },
      "execution_count": null,
      "outputs": [
        {
          "output_type": "execute_result",
          "data": {
            "text/plain": [
              "[1, 2, 3]"
            ]
          },
          "metadata": {},
          "execution_count": 80
        }
      ]
    },
    {
      "cell_type": "code",
      "source": [
        "w[2]"
      ],
      "metadata": {
        "colab": {
          "base_uri": "https://localhost:8080/"
        },
        "id": "Y2X62cJl9XRu",
        "outputId": "49d52055-28f2-4389-f57f-71e630c8f78f"
      },
      "execution_count": null,
      "outputs": [
        {
          "output_type": "execute_result",
          "data": {
            "text/plain": [
              "3"
            ]
          },
          "metadata": {},
          "execution_count": 81
        }
      ]
    },
    {
      "cell_type": "code",
      "source": [
        "w[-1]"
      ],
      "metadata": {
        "colab": {
          "base_uri": "https://localhost:8080/"
        },
        "id": "lv9yKLfF9ZsY",
        "outputId": "d3cd6699-7823-45d5-e9c3-be19cdde0924"
      },
      "execution_count": null,
      "outputs": [
        {
          "output_type": "execute_result",
          "data": {
            "text/plain": [
              "3"
            ]
          },
          "metadata": {},
          "execution_count": 82
        }
      ]
    },
    {
      "cell_type": "markdown",
      "source": [
        "### Activity 2: Indexing A Nested List\n",
        "\n",
        "**List Indexing for 2D list:**\n",
        "\n",
        "To get an item of a 1D list, we need to specify one index. Similarly, to get a specific item from a 2D list, we need to specify two indices.\n",
        "\n",
        "For this, write the list name followed by two consecutive square brackets `[][]`.\n",
        "\n",
        "- In the first square bracket, enter the row index.\n",
        "\n",
        "- In the second square bracket, enter the column index.\n",
        "\n",
        "\n",
        "**Syntax:** `list_name[row_index][col_index]`\n",
        "\n"
      ],
      "metadata": {
        "id": "U6UAqqABiP6y"
      }
    },
    {
      "cell_type": "code",
      "source": [
        "#Activity:\n",
        "list3 = [ [3,2,8],\n",
        "          [4,5,9],\n",
        "          [7,8,4]]\n"
      ],
      "metadata": {
        "id": "wMcyisUZiP6y"
      },
      "execution_count": null,
      "outputs": []
    },
    {
      "cell_type": "code",
      "source": [
        "list3[1][1]"
      ],
      "metadata": {
        "colab": {
          "base_uri": "https://localhost:8080/"
        },
        "id": "rbRO0mVmSjNB",
        "outputId": "f7a944c6-c1de-45b8-c703-0523a417892b"
      },
      "execution_count": null,
      "outputs": [
        {
          "output_type": "execute_result",
          "data": {
            "text/plain": [
              "5"
            ]
          },
          "metadata": {},
          "execution_count": 86
        }
      ]
    },
    {
      "cell_type": "markdown",
      "source": [
        "**Note:** The indentation for a nested list is not necessary. We indent a nested list to make it more readable."
      ],
      "metadata": {
        "id": "dyeHklvX35H1"
      }
    },
    {
      "cell_type": "markdown",
      "source": [
        "To get all the items of a row from a 2D list, just enter the row index of that row in the first square bracket after writing the name of the list. No need to enter the column index in this case.\n",
        "\n",
        "**Syntax:** `list_name[row_index]`"
      ],
      "metadata": {
        "id": "d6SyplPriP6y"
      }
    },
    {
      "cell_type": "code",
      "source": [
        "#Activity:\n",
        "list3[1]"
      ],
      "metadata": {
        "colab": {
          "base_uri": "https://localhost:8080/"
        },
        "outputId": "84db08f8-a252-49b7-cee3-86285a60ba40",
        "id": "_K6tIHediP6z"
      },
      "execution_count": null,
      "outputs": [
        {
          "output_type": "execute_result",
          "data": {
            "text/plain": [
              "[4, 5, 9]"
            ]
          },
          "metadata": {},
          "execution_count": 87
        }
      ]
    },
    {
      "cell_type": "markdown",
      "source": [
        "###Activity 3: Length Of Nested Python Lists\n",
        "\n",
        "The length of a nested list is the number of sublists it contains.\n",
        "\n",
        "**Syntax:** `len(list_name)`"
      ],
      "metadata": {
        "id": "-nDUoSHjiP6z"
      }
    },
    {
      "cell_type": "code",
      "source": [
        "# 1D list\n",
        "a = [\"Diksha\",15,\"play\"]"
      ],
      "metadata": {
        "id": "YJfg3leZZn4M"
      },
      "execution_count": null,
      "outputs": []
    },
    {
      "cell_type": "code",
      "source": [
        "len(a)"
      ],
      "metadata": {
        "colab": {
          "base_uri": "https://localhost:8080/"
        },
        "id": "_XaCGjBtTZEK",
        "outputId": "eca8934f-2812-4576-be28-3326628380e3"
      },
      "execution_count": null,
      "outputs": [
        {
          "output_type": "execute_result",
          "data": {
            "text/plain": [
              "3"
            ]
          },
          "metadata": {},
          "execution_count": 89
        }
      ]
    },
    {
      "cell_type": "code",
      "source": [
        "#Activity: 2D list\n",
        "family_details = [ [\"Diksha\",15,\"play\"],\n",
        "                   [\"father\",40,\"reading\"],\n",
        "                   [\"mother\",38,\"gardening\"],\n",
        "                   [\"bro\",17,\"swimming\"] ]\n",
        "\n"
      ],
      "metadata": {
        "id": "DckXluMYycV3"
      },
      "execution_count": null,
      "outputs": []
    },
    {
      "cell_type": "code",
      "source": [
        "len(family_details)"
      ],
      "metadata": {
        "colab": {
          "base_uri": "https://localhost:8080/"
        },
        "id": "gyYMwlQATcYs",
        "outputId": "00490f5b-ae8b-4abd-e9e6-7686c14f553d"
      },
      "execution_count": null,
      "outputs": [
        {
          "output_type": "execute_result",
          "data": {
            "text/plain": [
              "4"
            ]
          },
          "metadata": {},
          "execution_count": 91
        }
      ]
    },
    {
      "cell_type": "markdown",
      "source": [
        "### Activity 4: Three-Dimensional Python Lists\n",
        "\n",
        "Let's learn about three-dimensional lists in Python.\n",
        "\n",
        "*For all practical purposes, a three-dimensional list is a collection of equal-sized two-dimensional lists* where the **size** of a two-dimensional list is the number of rows and columns contained in a two-dimensional list. E.g., if there are 2 two-dimensional lists having 3 rows and 2 columns, then you can create a three-dimensional list using them.\n",
        "\n",
        "Hence, the equal-sized two-dimensional lists will always have the same number of rows and columns.\n",
        "\n",
        "**Note:** In a three-dimensional list, we can refer a two-dimensional list as a **block** for the ease of understanding.\n",
        "\n",
        "Now, let's create a three-dimensional list which contains three equal-sized two-dimensional lists. Let the size of each two-dimensional list be 3 rows and 3 columns. Let each item in the three-dimensional list indicate the position it acquires in the list.\n",
        "\n",
        "<img src=\"https://drive.google.com/uc?export=view&id=1PEgi6l1wM-J-HNECNNAMOe8352qECB0J\" />\n",
        "\n",
        "\n",
        "So each item will be of the form $ijk$, where $ijk$ indicates that the item is present in the $i^{th}$ block, $j^{th}$ row and $k^{th}$ column.\n",
        "\n",
        "\n",
        "Hence,\n",
        "\n",
        "- if $i = 1, j = 1, k = 1$, then it means the item exists in the first block, first row and first column.\n",
        "\n",
        "- if $i = 1, j = 1, k = 2$, then it means the item exists in the first block, first row and second column.\n",
        "\n",
        "- if $i = 1, j = 1, k = 3$, then it means the item exists in the first block, first row and third column.\n",
        "\n",
        "  -  \n",
        "\n",
        "  -  \n",
        "\n",
        "  -  \n",
        "\n",
        "- if $i = 3, j = 3, k = 1$, then it means the item exists in the third block, third row and first column.\n",
        "\n",
        "- if $i = 3, j = 3, k = 2$, then it means the item exists in the third block, third row and second column.\n",
        "\n",
        "- if $i = 3, j = 3, k = 3$, then it means the item exists in the third block, third row and third column."
      ],
      "metadata": {
        "id": "ASK0fpCaiP60"
      }
    },
    {
      "cell_type": "markdown",
      "source": [
        "**NOTE**\n",
        "While Python allows for non-uniform 3D lists, having uniform 2D lists within a 3D list simplifies many operations, including iteration, indexing, and compatibility with external libraries. Uniform dimensions ensure consistency and ease of manipulation, especially when performing mathematical computations or when the data structure is being processed in a systematic way."
      ],
      "metadata": {
        "id": "kH2KrNAsLrWW"
      }
    },
    {
      "cell_type": "code",
      "source": [
        "#Activity : Create a three-dimensional list in Python.\n",
        "three_dim_list = [\n",
        "                  [[111, 112, 113],\n",
        "                   [121, 122, 123],\n",
        "                   [131, 132, 133]],\n",
        "\n",
        "                  [[211, 212, 213],\n",
        "                   [221, 222, 223],\n",
        "                   [231, 232, 233]],\n",
        "\n",
        "                  [[311, 312, 313],\n",
        "                   [321, 322, 323],\n",
        "                   [331, 332, 333]]\n",
        "                  ]\n",
        "\n",
        "three_dim_list"
      ],
      "metadata": {
        "colab": {
          "base_uri": "https://localhost:8080/"
        },
        "outputId": "2cdc939c-e476-4fc6-cfea-4f55aec823fc",
        "id": "Qg7pdYziiP60"
      },
      "execution_count": null,
      "outputs": [
        {
          "output_type": "execute_result",
          "data": {
            "text/plain": [
              "[[[111, 112, 113], [121, 122, 123], [131, 132, 133]],\n",
              " [[211, 212, 213], [221, 222, 223], [231, 232, 233]],\n",
              " [[311, 312, 313], [321, 322, 323], [331, 332, 333]]]"
            ]
          },
          "metadata": {},
          "execution_count": 93
        }
      ]
    },
    {
      "cell_type": "code",
      "source": [
        "three_dim_list[0][2][2]"
      ],
      "metadata": {
        "colab": {
          "base_uri": "https://localhost:8080/"
        },
        "id": "dP5BsDy8T4Ea",
        "outputId": "c28cdd94-08ec-4415-8ad5-824db19aea62"
      },
      "execution_count": null,
      "outputs": [
        {
          "output_type": "execute_result",
          "data": {
            "text/plain": [
              "133"
            ]
          },
          "metadata": {},
          "execution_count": 95
        }
      ]
    },
    {
      "cell_type": "markdown",
      "source": [
        "**Note:** The indentation for a nested list is not necessary. We indent a nested list to make it more readable.\n",
        "\n",
        "\n",
        "In the above example, the number `111` means the item exists in the first block, first row and first column. Similarly, `121` means the item exists in the first block, second row and first column and so on ...\n",
        "\n",
        "We have 3 blocks where each block is a two-dimensional list. So the blocks represent the third dimension. You can compute the number of blocks contained in a three-dimensional list using the `len()` function."
      ],
      "metadata": {
        "id": "6WBeFwGAiP61"
      }
    },
    {
      "cell_type": "code",
      "source": [
        "#Activity: find the length of 3d list\n",
        "len(three_dim_list)"
      ],
      "metadata": {
        "colab": {
          "base_uri": "https://localhost:8080/"
        },
        "outputId": "2067c32d-d634-43b6-d1ff-0d63acbf2192",
        "id": "IsLeHn9RiP62"
      },
      "execution_count": null,
      "outputs": [
        {
          "output_type": "execute_result",
          "data": {
            "text/plain": [
              "3"
            ]
          },
          "metadata": {},
          "execution_count": 96
        }
      ]
    },
    {
      "cell_type": "markdown",
      "source": [
        "\n",
        "We can retrieve the items from a three-dimensional list using the list indexing method.\n",
        "\n",
        "To retrieve an item from a three-dimensional list, you need to write the name of the list, followed by three square brackets. Inside the square brackets, you have to enter the block index, row index and column index in that order.\n",
        "\n",
        "**Syntax:** `list_name[block_index][row_index][col_index]`\n",
        "\n",
        "**Note:** The block, row and column indices begin from `0`.\n",
        "\n"
      ],
      "metadata": {
        "id": "x_nKf6JPiP62"
      }
    },
    {
      "cell_type": "code",
      "source": [
        "#Activity : Retrieve 121 from 'three_dim_list' using the list indexing method.\n",
        "three_dim_list[0][1][0]"
      ],
      "metadata": {
        "colab": {
          "base_uri": "https://localhost:8080/"
        },
        "id": "GlStzvLtiP62",
        "outputId": "260b8d12-ec3a-4676-930b-ae220a724de9"
      },
      "execution_count": null,
      "outputs": [
        {
          "output_type": "execute_result",
          "data": {
            "text/plain": [
              "121"
            ]
          },
          "metadata": {},
          "execution_count": 97
        }
      ]
    },
    {
      "cell_type": "markdown",
      "source": [
        "---"
      ],
      "metadata": {
        "id": "u4COdcwqMkJK"
      }
    },
    {
      "cell_type": "markdown",
      "source": [
        " ## List Comprehension\n",
        "\n",
        " It is one of the great features of Python programming as it can create the most complicated lists through only a few lines of code."
      ],
      "metadata": {
        "id": "fVYquR0aMYuA"
      }
    },
    {
      "cell_type": "markdown",
      "source": [
        "### Activity 1: The List Comprehension Method\n",
        "\n",
        "The list comprehension method creates a Python list in a single line of code. It does not solve a new problem. It only provides a new syntax to solve an existing problem.\n",
        "\n",
        "The core component of a list comprehension is the `for` loop. To create a list using the list comprehension method, first, write the square brackets `[]`. Then inside the brackets, use the `for` loop.\n",
        "\n",
        "**Syntax:**\n",
        "```python\n",
        "[expression for variable_name in list_or_sequence]\n",
        "```\n",
        "\n",
        "\n",
        "\n",
        "\n",
        "Let's create a list of the first `10` natural numbers using the list comprehension method."
      ],
      "metadata": {
        "id": "rMTqjGnUMzrU"
      }
    },
    {
      "cell_type": "code",
      "source": [
        "for i in range(1,11):\n",
        "  print(i)"
      ],
      "metadata": {
        "id": "mrvmbUJKUzl7"
      },
      "execution_count": null,
      "outputs": []
    },
    {
      "cell_type": "code",
      "source": [
        "# Create a Python list containing the first 10 natural numbers using the 'for' loop.\n"
      ],
      "metadata": {
        "id": "Xjzef-mnM-Zf"
      },
      "execution_count": null,
      "outputs": []
    },
    {
      "cell_type": "code",
      "source": [
        " #Create a Python list containing the first 10 natural numbers using the list comprehension method.\n",
        "\n"
      ],
      "metadata": {
        "id": "KkBrcW1fNEO2"
      },
      "execution_count": null,
      "outputs": []
    },
    {
      "cell_type": "markdown",
      "source": [
        "The list comprehension `[i for i in range(1, 11)]` should be read as \"*Append `i` to the list, for every value of `i` in the range of `1` to `10`.*\"\n",
        "\n",
        "You will notice that the list comprehension eliminated the need of `append()` function.\n",
        "\n"
      ],
      "metadata": {
        "id": "g6RJ0neANZJd"
      }
    },
    {
      "cell_type": "code",
      "source": [
        "old_list = [ 10,20,30,40,50]\n",
        "new_list = []\n",
        "for i in old_list:\n",
        "  new_list.append(i)\n",
        "print(new_list)\n"
      ],
      "metadata": {
        "id": "Xsetwf6OV07Q"
      },
      "execution_count": null,
      "outputs": []
    },
    {
      "cell_type": "code",
      "source": [
        "# Copy items to a new list using list comprehension method\n",
        "\n",
        "old_list = [50,67,89,87,34]\n",
        "new_list = [ i for i in old_list]\n",
        "new_list"
      ],
      "metadata": {
        "id": "VTx8KdWVNivi"
      },
      "execution_count": null,
      "outputs": []
    },
    {
      "cell_type": "markdown",
      "source": [
        "**Using conditional statement in list comprehension:**\n",
        "\n",
        "You can also use a conditional statement in a list comprehension.\n",
        "\n",
        "**Syntax:**\n",
        "```python\n",
        "[expression for variable_name in list_or_sequence if condition]\n",
        "```"
      ],
      "metadata": {
        "id": "7t038F8eN6EX"
      }
    },
    {
      "cell_type": "code",
      "source": [
        "# Example:\n",
        "cube = [ i**3 for i in [1,2,3,4,5] if i>2]\n",
        "cube"
      ],
      "metadata": {
        "id": "s67YFEBVOGnK"
      },
      "execution_count": null,
      "outputs": []
    },
    {
      "cell_type": "code",
      "source": [
        "#Create a list of even numbers from 1 to 20 using the conventional list creation method.\n",
        "even_numbers = []\n",
        "for i in range(1,21):\n",
        "  if i % 2 == 0:\n",
        "    even_numbers.append(i)\n",
        "even_numbers"
      ],
      "metadata": {
        "id": "bDZ9DByLOSfR"
      },
      "execution_count": null,
      "outputs": []
    },
    {
      "cell_type": "code",
      "source": [
        "#Create a list of even numbers from 1 and 20 using the list comprehension method.\n",
        "\n",
        "even_numbers = [ i for i in range(1,21) if i%2 == 0]\n",
        "even_numbers"
      ],
      "metadata": {
        "id": "nmrrWyg7OaEg"
      },
      "execution_count": null,
      "outputs": []
    },
    {
      "cell_type": "markdown",
      "source": [
        "The list comprehension `[i for i in range(1, 21) if i % 2 == 0]` should be read as \"*Add `i` to the list, for every value of `i` in the range of numbers from `1` to `20`, if `i` is divisible by 2*\"."
      ],
      "metadata": {
        "id": "baXYOE7iOhSS"
      }
    },
    {
      "cell_type": "markdown",
      "source": [
        "### Activity 2: Nested Lists Using List Comprehension\n",
        "\n",
        "We can also create nested lists using the list comprehension method.\n",
        "\n",
        "The creation of nested lists manually is a tedious job. We have to take care of indentation so that the list is readable in the code form. You may miss out on commas, brackets, spaces, etc. while creating a nested list. Hence, the manual nested list creation process becomes time-consuming.\n",
        "\n",
        "Using list comprehension method, we can create a nested list more neatly and quickly.\n",
        "\n",
        "Suppose you have two lists and you want to join them into one nested list, then you can use the list comprehension method.\n"
      ],
      "metadata": {
        "id": "2SKdOg9zOl_s"
      }
    },
    {
      "cell_type": "markdown",
      "source": [
        " Let's consider an example with cars, where we have lists of car models, their engine sizes (in liters), fuel efficiency (in kilometers per liter), and top speeds (in kilometers per hour).\n",
        "\n",
        "We will create a nested list using list comprehension to store this data.\n",
        "\n",
        "\n",
        "```\n",
        "car_models = ['Toyota Camry', 'Honda Accord', 'Ford Mustang', 'Chevrolet Malibu', 'BMW 3 Series']\n",
        "engine_sizes = [2.5, 1.5, 5.0, 2.0, 3.0]\n",
        "fuel_efficiency = [12.3, 14.0, 6.4, 11.5, 10.6]  \n",
        "top_speeds = [210, 201, 249, 193, 249]  per hour\n",
        "```"
      ],
      "metadata": {
        "id": "rmj3kZbeSigU"
      }
    },
    {
      "cell_type": "code",
      "source": [
        "# Define lists for car data\n",
        "car_models = ['Toyota Camry', 'Honda Accord', 'Ford Mustang', 'Chevrolet Malibu', 'BMW 3 Series']\n",
        "engine_sizes = [2.5, 1.5, 5.0, 2.0, 3.0]\n",
        "fuel_efficiency = [12.3, 14.0, 6.4, 11.5, 10.6]  # Fuel efficiency in kilometers per liter\n",
        "top_speeds = [210, 201, 249, 193]  # Top speeds in kilometers per hour\n",
        "\n",
        "n = len(car_models)\n",
        "\n",
        "car_data = [ [car_models[i],engine_sizes[i],fuel_efficiency[i]  ] for i in range(n)]\n",
        "car_data\n",
        "\n"
      ],
      "metadata": {
        "id": "uMqw2QlEUTuR"
      },
      "execution_count": null,
      "outputs": []
    },
    {
      "cell_type": "markdown",
      "source": [
        "Now, let's create a nested list using the list comprehension method which has 4 identical sublists containing `0` as its every item.\n",
        "\n",
        "Here's the desired output:\n",
        "\n",
        "```\n",
        "[[0, 0, 0], [0, 0, 0], [0, 0, 0], [0, 0, 0]]\n",
        "```"
      ],
      "metadata": {
        "id": "o0O8SfWYUxOi"
      }
    },
    {
      "cell_type": "code",
      "source": [
        "#Create a nested Python list using the list comprehension method,\n",
        "#which contains 4 identical lists containing 0 as its every item.\n",
        "z = [0,0,0]"
      ],
      "metadata": {
        "id": "2oB0YyudUxk6"
      },
      "execution_count": null,
      "outputs": []
    },
    {
      "cell_type": "code",
      "source": [
        "z = [[[ 0 for i in range(3)] for i in range(4)]for i in range(4)]\n",
        "z"
      ],
      "metadata": {
        "id": "X8f_NlERZYzl"
      },
      "execution_count": null,
      "outputs": []
    },
    {
      "cell_type": "code",
      "source": [
        "list5 = [1,2,3,4]\n",
        "list5 * 3"
      ],
      "metadata": {
        "id": "SfSB1ROcaF9p"
      },
      "execution_count": null,
      "outputs": []
    },
    {
      "cell_type": "code",
      "source": [
        "list6 = [4,5,6,7]\n",
        "list5 + list6"
      ],
      "metadata": {
        "id": "XRJ_MOYAaQ3X"
      },
      "execution_count": null,
      "outputs": []
    },
    {
      "cell_type": "code",
      "source": [
        "import numpy as np\n",
        "list5_arr = np.array(list5)\n",
        "list5_arr*5"
      ],
      "metadata": {
        "id": "hAhzMY2uaZYE"
      },
      "execution_count": null,
      "outputs": []
    }
  ]
}