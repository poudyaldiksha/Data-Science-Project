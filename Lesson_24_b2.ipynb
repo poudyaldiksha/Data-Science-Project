{
  "nbformat": 4,
  "nbformat_minor": 0,
  "metadata": {
    "colab": {
      "provenance": [],
      "include_colab_link": true
    },
    "kernelspec": {
      "name": "python3",
      "display_name": "Python 3"
    },
    "language_info": {
      "name": "python"
    }
  },
  "cells": [
    {
      "cell_type": "markdown",
      "metadata": {
        "id": "view-in-github",
        "colab_type": "text"
      },
      "source": [
        "<a href=\"https://colab.research.google.com/github/poudyaldiksha/Data-Science-project/blob/main/Lesson_24_b2.ipynb\" target=\"_parent\"><img src=\"https://colab.research.google.com/assets/colab-badge.svg\" alt=\"Open In Colab\"/></a>"
      ]
    },
    {
      "cell_type": "markdown",
      "source": [
        "# Lesson 24: Concatenate DataFrames,Count & Pie Plot, Boxplots and Quartiles"
      ],
      "metadata": {
        "id": "ZDZ22ho0QoOt"
      }
    },
    {
      "cell_type": "markdown",
      "metadata": {
        "id": "5h22-EVcczSF"
      },
      "source": [
        "### Activity 1: Concatenate DataFrames\n",
        "\n",
        "\n",
        "\n",
        "**The `pd.concat()` Function**\n",
        "\n",
        "The `pd.concat() `function in pandas is used to concatenate two or more DataFrames. This can be done either along rows (vertical concatenation) or along columns (horizontal concatenation). This function is quite flexible and provides several options to control how the concatenation is performed.\n",
        "\n",
        "**Syntax:** `pd.concat([df1, df2, df3 ... dfN])`\n",
        "\n",
        "where `df1, df2, df3 ... dfN` are `N` different DataFrames having the exact same columns.\n",
        "\n"
      ]
    },
    {
      "cell_type": "markdown",
      "source": [
        "**Basic Concatenation**\n",
        "\n",
        "Let's start with a simple example of concatenating two DataFrames along the rows."
      ],
      "metadata": {
        "id": "_HPMBeQP_tys"
      }
    },
    {
      "cell_type": "code",
      "source": [
        "import pandas as pd\n",
        "# Creating two sample DataFrames\n",
        "df1 = pd.DataFrame({\n",
        "    'A': ['A1', 'A2', 'A3'],\n",
        "    'B': ['B1', 'B2', 'B3']\n",
        "})\n",
        "\n",
        "df2 = pd.DataFrame({\n",
        "    'A': ['A4', 'A5', 'A6'],\n",
        "    'B': ['B4', 'B5', 'B6']\n",
        "})\n",
        "\n",
        "# Concatenating the DataFrames\n",
        "result = pd.concat([df1, df2])\n",
        "\n",
        "print(result)"
      ],
      "metadata": {
        "id": "cRx_ebKj_x9N",
        "colab": {
          "base_uri": "https://localhost:8080/"
        },
        "outputId": "af169caf-1da3-4f57-c28f-514cf909631b"
      },
      "execution_count": null,
      "outputs": [
        {
          "output_type": "stream",
          "name": "stdout",
          "text": [
            "    A   B\n",
            "0  A1  B1\n",
            "1  A2  B2\n",
            "2  A3  B3\n",
            "0  A4  B4\n",
            "1  A5  B5\n",
            "2  A6  B6\n"
          ]
        }
      ]
    },
    {
      "cell_type": "markdown",
      "source": [
        "**Concatenation Along Columns**\n",
        "\n",
        "You can also concatenate DataFrames along columns by using the axis parameter."
      ],
      "metadata": {
        "id": "_P-3c9Gp_8Ys"
      }
    },
    {
      "cell_type": "code",
      "source": [
        "\n",
        "# Creating two sample DataFrames\n",
        "df1 = pd.DataFrame({\n",
        "    'A': ['A1', 'A2', 'A3'],\n",
        "    'B': ['B1', 'B2', 'B3']\n",
        "})\n",
        "\n",
        "df2 = pd.DataFrame({\n",
        "    'A': ['A4', 'A5', 'A6'],\n",
        "    'B': ['B4', 'B5', 'B6']\n",
        "})\n",
        "\n",
        "# Concatenating the DataFrames along columns\n",
        "result = pd.concat([df1, df2], axis=1)\n",
        "\n",
        "print(result)"
      ],
      "metadata": {
        "id": "jObA3kNVAAeE",
        "colab": {
          "base_uri": "https://localhost:8080/"
        },
        "outputId": "88d4c495-07c7-461f-b8ba-9ce3c0c97c13"
      },
      "execution_count": null,
      "outputs": [
        {
          "output_type": "stream",
          "name": "stdout",
          "text": [
            "    A   B   A   B\n",
            "0  A1  B1  A4  B4\n",
            "1  A2  B2  A5  B5\n",
            "2  A3  B3  A6  B6\n"
          ]
        }
      ]
    },
    {
      "cell_type": "code",
      "source": [
        "#Example\n",
        "df1 = pd.DataFrame({\n",
        "    'X': ['X1', 'X2', 'X3']\n",
        "})\n",
        "\n",
        "df2 = pd.DataFrame({\n",
        "    'Y': ['Y1', 'Y2', 'Y3']\n",
        "})\n",
        "\n",
        "result = pd.concat([df1, df2], axis=0)\n",
        "print(result)"
      ],
      "metadata": {
        "id": "Xzlf_drgBT8p",
        "colab": {
          "base_uri": "https://localhost:8080/"
        },
        "outputId": "f4975494-e19b-4382-8855-e0f30e6d80f5"
      },
      "execution_count": null,
      "outputs": [
        {
          "output_type": "stream",
          "name": "stdout",
          "text": [
            "     X    Y\n",
            "0   X1  NaN\n",
            "1   X2  NaN\n",
            "2   X3  NaN\n",
            "0  NaN   Y1\n",
            "1  NaN   Y2\n",
            "2  NaN   Y3\n"
          ]
        }
      ]
    },
    {
      "cell_type": "code",
      "source": [
        "df1 = pd.DataFrame({\n",
        "    'X': ['X1', 'X2', 'X3']\n",
        "})\n",
        "\n",
        "df2 = pd.DataFrame({\n",
        "    'Y': ['Y1', 'Y2', 'Y3']\n",
        "})\n",
        "\n",
        "result = pd.concat([df1, df2], axis=1)\n",
        "print(result)"
      ],
      "metadata": {
        "colab": {
          "base_uri": "https://localhost:8080/"
        },
        "id": "1G_XTeyECCUC",
        "outputId": "7f264222-d02f-4afb-f459-f89d4034ff9b"
      },
      "execution_count": null,
      "outputs": [
        {
          "output_type": "stream",
          "name": "stdout",
          "text": [
            "    X   Y\n",
            "0  X1  Y1\n",
            "1  X2  Y2\n",
            "2  X3  Y3\n"
          ]
        }
      ]
    },
    {
      "cell_type": "markdown",
      "source": [
        "**Ignoring Index**\n",
        "\n",
        "By default, the original indices are preserved. However, you can ignore the index and create a new one using the ignore_index parameter."
      ],
      "metadata": {
        "id": "dnfYdkvKAOQL"
      }
    },
    {
      "cell_type": "code",
      "source": [
        "\n",
        "# Creating two sample DataFrames\n",
        "df1 = pd.DataFrame({\n",
        "    'A': ['A1', 'A2', 'A3'],\n",
        "    'B': ['B1', 'B2', 'B3']\n",
        "})\n",
        "\n",
        "df2 = pd.DataFrame({\n",
        "    'A': ['A4', 'A5', 'A6'],\n",
        "    'B': ['B4', 'B5', 'B6']\n",
        "})\n",
        "\n",
        "# Concatenating the DataFrames with new index\n",
        "result = pd.concat([df1, df2], ignore_index=True)\n",
        "\n",
        "print(result)"
      ],
      "metadata": {
        "id": "no9wpa5qATre",
        "colab": {
          "base_uri": "https://localhost:8080/"
        },
        "outputId": "bb4c7125-165e-4e94-ddd8-80a7e679bd8e"
      },
      "execution_count": null,
      "outputs": [
        {
          "output_type": "stream",
          "name": "stdout",
          "text": [
            "    A   B\n",
            "0  A1  B1\n",
            "1  A2  B2\n",
            "2  A3  B3\n",
            "3  A4  B4\n",
            "4  A5  B5\n",
            "5  A6  B6\n"
          ]
        }
      ]
    },
    {
      "cell_type": "code",
      "source": [
        "# Creating two sample DataFrames\n",
        "df1 = pd.DataFrame({\n",
        "    'A': ['A1', 'A2', 'A3'],\n",
        "    'B': ['B1', 'B2', 'B3']\n",
        "})\n",
        "\n",
        "df2 = pd.DataFrame({\n",
        "    'A': ['A4', 'A5', 'A6'],\n",
        "    'B': ['B4', 'B5', 'B6']\n",
        "})\n",
        "\n",
        "# Concatenating the DataFrames with new index\n",
        "result =  df1 +df2\n",
        "\n",
        "print(result)"
      ],
      "metadata": {
        "colab": {
          "base_uri": "https://localhost:8080/"
        },
        "id": "d08YAxQSDNwx",
        "outputId": "f2edfbe7-295e-479c-dd57-0c1093a68590"
      },
      "execution_count": null,
      "outputs": [
        {
          "output_type": "stream",
          "name": "stdout",
          "text": [
            "      A     B\n",
            "0  A1A4  B1B4\n",
            "1  A2A5  B2B5\n",
            "2  A3A6  B3B6\n"
          ]
        }
      ]
    },
    {
      "cell_type": "code",
      "source": [
        "#Example\n",
        "df1 = pd.DataFrame({\n",
        "    'A': ['A1', 'A2', 'A3'],\n",
        "    'B': ['B1', 'B2', 'B3']\n",
        "}, index=[\"a\",\"b\",\"c\"])\n",
        "\n",
        "df2 = pd.DataFrame({\n",
        "    'A': ['A4', 'A5', 'A6'],\n",
        "    'B': ['B4', 'B5', 'B6']\n",
        "}, index=[3, 4, 5])\n",
        "\n",
        "result = pd.concat([df1, df2])\n",
        "print(result)"
      ],
      "metadata": {
        "collapsed": true,
        "id": "vKvNt8g2BFSg",
        "colab": {
          "base_uri": "https://localhost:8080/"
        },
        "outputId": "56b21bc0-0590-4554-b2df-cd6dff6858e7"
      },
      "execution_count": null,
      "outputs": [
        {
          "output_type": "stream",
          "name": "stdout",
          "text": [
            "    A   B\n",
            "a  A1  B1\n",
            "b  A2  B2\n",
            "c  A3  B3\n",
            "3  A4  B4\n",
            "4  A5  B5\n",
            "5  A6  B6\n"
          ]
        }
      ]
    },
    {
      "cell_type": "markdown",
      "source": [
        "**Concatenation with Different Columns**\n",
        "\n",
        "When concatenating DataFrames with different columns, missing values will be filled with NaN."
      ],
      "metadata": {
        "id": "pyvoXY8AAdlZ"
      }
    },
    {
      "cell_type": "code",
      "source": [
        "# Creating two sample DataFrames with different columns\n",
        "df1 = pd.DataFrame({\n",
        "    'A': ['A1', 'A2', 'A3'],\n",
        "    'B': ['B1', 'B2', 'B3']\n",
        "})\n",
        "\n",
        "df2 = pd.DataFrame({\n",
        "    'A': ['A4', 'A5', 'A6'],\n",
        "    'C': ['C4', 'C5', 'C6']\n",
        "})\n",
        "\n",
        "# Concatenating the DataFrames\n",
        "result = pd.concat([df1, df2],ignore_index = True)\n",
        "\n",
        "print(result)"
      ],
      "metadata": {
        "id": "ruaLNogfAdFr",
        "colab": {
          "base_uri": "https://localhost:8080/"
        },
        "outputId": "cfddeeb2-4998-48ec-b342-97a8c9e381ef"
      },
      "execution_count": null,
      "outputs": [
        {
          "output_type": "stream",
          "name": "stdout",
          "text": [
            "    A    B    C\n",
            "0  A1   B1  NaN\n",
            "1  A2   B2  NaN\n",
            "2  A3   B3  NaN\n",
            "3  A4  NaN   C4\n",
            "4  A5  NaN   C5\n",
            "5  A6  NaN   C6\n"
          ]
        }
      ]
    },
    {
      "cell_type": "code",
      "source": [
        "df1 = pd.DataFrame({\n",
        "    'A': ['A1', 'A2', 'A3'],\n",
        "    'B': ['B1', 'B2', 'B3']\n",
        "})\n",
        "\n",
        "df2 = pd.DataFrame({\n",
        "    'A': ['A4', 'A5', 'A6'],\n",
        "    'C': ['C4', 'C5', 'C6']\n",
        "})\n",
        "\n",
        "# Concatenating the DataFrames\n",
        "result = df1+df2\n",
        "\n",
        "print(result)\n",
        "print(result.shape)"
      ],
      "metadata": {
        "colab": {
          "base_uri": "https://localhost:8080/"
        },
        "id": "vKBMLe6KC9CX",
        "outputId": "03a82bf6-412f-4cb1-9090-a90a3dd8048d"
      },
      "execution_count": null,
      "outputs": [
        {
          "output_type": "stream",
          "name": "stdout",
          "text": [
            "      A   B   C\n",
            "0  A1A4 NaN NaN\n",
            "1  A2A5 NaN NaN\n",
            "2  A3A6 NaN NaN\n",
            "(3, 3)\n"
          ]
        }
      ]
    },
    {
      "cell_type": "markdown",
      "source": [
        "**Adding Keys to the DataFrames**\n",
        "\n",
        "You can use the keys parameter to add a hierarchical index to the concatenated DataFrames.\n",
        "\n",
        "\n"
      ],
      "metadata": {
        "id": "j3mpV1YLAqu3"
      }
    },
    {
      "cell_type": "code",
      "source": [
        "\n",
        "# Creating two sample DataFrames\n",
        "df1 = pd.DataFrame({\n",
        "    'A': ['A1', 'A2', 'A3'],\n",
        "    'B': ['B1', 'B2', 'B3']\n",
        "})\n",
        "\n",
        "df2 = pd.DataFrame({\n",
        "    'A': ['A4', 'A5', 'A6'],\n",
        "    'B': ['B4', 'B5', 'B6']\n",
        "})\n",
        "\n",
        "# Concatenating the DataFrames with keys\n",
        "result = pd.concat([df1, df2], keys=['df1', 'df2'])\n",
        "\n",
        "print(result)"
      ],
      "metadata": {
        "id": "fd1A6RsbAvZR"
      },
      "execution_count": null,
      "outputs": []
    },
    {
      "cell_type": "markdown",
      "source": [
        "### Activity 2: Count plots\n",
        "\n",
        "Count plots are a type of bar plot used to display the frequency distribution of a categorical variable. They are helpful in visualizing the count of occurrences for each category within a dataset.\n",
        "\n",
        "Let's dive into some examples to understand how to create and interpret count plots using seaborn in Python."
      ],
      "metadata": {
        "id": "-o5wdqMBCyrQ"
      }
    },
    {
      "cell_type": "markdown",
      "source": [
        " **Basic Count Plot**\n",
        "\n",
        "Suppose we have a DataFrame with a column Category that contains different categories."
      ],
      "metadata": {
        "id": "HCKrIvRNC-rv"
      }
    },
    {
      "cell_type": "code",
      "source": [
        "sns.countplot(data[\"Category\"])\n",
        "plt.show()"
      ],
      "metadata": {
        "colab": {
          "base_uri": "https://localhost:8080/",
          "height": 453
        },
        "id": "o0s8fHiqFHcb",
        "outputId": "0c6cd10b-2cb0-44c2-f91b-3fc5c7139dff"
      },
      "execution_count": null,
      "outputs": [
        {
          "output_type": "display_data",
          "data": {
            "text/plain": [
              "<Figure size 640x480 with 1 Axes>"
            ],
            "image/png": "[encoded data removed]"
          },
          "metadata": {}
        }
      ]
    },
    {
      "cell_type": "code",
      "source": [
        "data = pd.DataFrame({\n",
        "    'Category': ['A', 'B', 'A', 'C', 'B', 'A', 'C', 'C', 'B', 'A']\n",
        "})\n",
        "data"
      ],
      "metadata": {
        "colab": {
          "base_uri": "https://localhost:8080/",
          "height": 363
        },
        "id": "D86a1cUSFLC2",
        "outputId": "965414c6-dd59-4e33-9df7-587065c46f1f"
      },
      "execution_count": null,
      "outputs": [
        {
          "output_type": "execute_result",
          "data": {
            "text/plain": [
              "  Category\n",
              "0        A\n",
              "1        B\n",
              "2        A\n",
              "3        C\n",
              "4        B\n",
              "5        A\n",
              "6        C\n",
              "7        C\n",
              "8        B\n",
              "9        A"
            ],
            "text/html": [
              "\n",
              "  <div id=\"df-a6fb3f31-5c22-4450-897f-a11886175b96\" class=\"colab-df-container\">\n",
              "    <div>\n",
              "<style scoped>\n",
              "    .dataframe tbody tr th:only-of-type {\n",
              "        vertical-align: middle;\n",
              "    }\n",
              "\n",
              "    .dataframe tbody tr th {\n",
              "        vertical-align: top;\n",
              "    }\n",
              "\n",
              "    .dataframe thead th {\n",
              "        text-align: right;\n",
              "    }\n",
              "</style>\n",
              "<table border=\"1\" class=\"dataframe\">\n",
              "  <thead>\n",
              "    <tr style=\"text-align: right;\">\n",
              "      <th></th>\n",
              "      <th>Category</th>\n",
              "    </tr>\n",
              "  </thead>\n",
              "  <tbody>\n",
              "    <tr>\n",
              "      <th>0</th>\n",
              "      <td>A</td>\n",
              "    </tr>\n",
              "    <tr>\n",
              "      <th>1</th>\n",
              "      <td>B</td>\n",
              "    </tr>\n",
              "    <tr>\n",
              "      <th>2</th>\n",
              "      <td>A</td>\n",
              "    </tr>\n",
              "    <tr>\n",
              "      <th>3</th>\n",
              "      <td>C</td>\n",
              "    </tr>\n",
              "    <tr>\n",
              "      <th>4</th>\n",
              "      <td>B</td>\n",
              "    </tr>\n",
              "    <tr>\n",
              "      <th>5</th>\n",
              "      <td>A</td>\n",
              "    </tr>\n",
              "    <tr>\n",
              "      <th>6</th>\n",
              "      <td>C</td>\n",
              "    </tr>\n",
              "    <tr>\n",
              "      <th>7</th>\n",
              "      <td>C</td>\n",
              "    </tr>\n",
              "    <tr>\n",
              "      <th>8</th>\n",
              "      <td>B</td>\n",
              "    </tr>\n",
              "    <tr>\n",
              "      <th>9</th>\n",
              "      <td>A</td>\n",
              "    </tr>\n",
              "  </tbody>\n",
              "</table>\n",
              "</div>\n",
              "    <div class=\"colab-df-buttons\">\n",
              "\n",
              "  <div class=\"colab-df-container\">\n",
              "    <button class=\"colab-df-convert\" onclick=\"convertToInteractive('df-a6fb3f31-5c22-4450-897f-a11886175b96')\"\n",
              "            title=\"Convert this dataframe to an interactive table.\"\n",
              "            style=\"display:none;\">\n",
              "\n",
              "  <svg xmlns=\"http://www.w3.org/2000/svg\" height=\"24px\" viewBox=\"0 -960 960 960\">\n",
              "    <path d=\"M120-120v-720h720v720H120Zm60-500h600v-160H180v160Zm220 220h160v-160H400v160Zm0 220h160v-160H400v160ZM180-400h160v-160H180v160Zm440 0h160v-160H620v160ZM180-180h160v-160H180v160Zm440 0h160v-160H620v160Z\"/>\n",
              "  </svg>\n",
              "    </button>\n",
              "\n",
              "  <style>\n",
              "    .colab-df-container {\n",
              "      display:flex;\n",
              "      gap: 12px;\n",
              "    }\n",
              "\n",
              "    .colab-df-convert {\n",
              "      background-color: #E8F0FE;\n",
              "      border: none;\n",
              "      border-radius: 50%;\n",
              "      cursor: pointer;\n",
              "      display: none;\n",
              "      fill: #1967D2;\n",
              "      height: 32px;\n",
              "      padding: 0 0 0 0;\n",
              "      width: 32px;\n",
              "    }\n",
              "\n",
              "    .colab-df-convert:hover {\n",
              "      background-color: #E2EBFA;\n",
              "      box-shadow: 0px 1px 2px rgba(60, 64, 67, 0.3), 0px 1px 3px 1px rgba(60, 64, 67, 0.15);\n",
              "      fill: #174EA6;\n",
              "    }\n",
              "\n",
              "    .colab-df-buttons div {\n",
              "      margin-bottom: 4px;\n",
              "    }\n",
              "\n",
              "    [theme=dark] .colab-df-convert {\n",
              "      background-color: #3B4455;\n",
              "      fill: #D2E3FC;\n",
              "    }\n",
              "\n",
              "    [theme=dark] .colab-df-convert:hover {\n",
              "      background-color: #434B5C;\n",
              "      box-shadow: 0px 1px 3px 1px rgba(0, 0, 0, 0.15);\n",
              "      filter: drop-shadow(0px 1px 2px rgba(0, 0, 0, 0.3));\n",
              "      fill: #FFFFFF;\n",
              "    }\n",
              "  </style>\n",
              "\n",
              "    <script>\n",
              "      const buttonEl =\n",
              "        document.querySelector('#df-a6fb3f31-5c22-4450-897f-a11886175b96 button.colab-df-convert');\n",
              "      buttonEl.style.display =\n",
              "        google.colab.kernel.accessAllowed ? 'block' : 'none';\n",
              "\n",
              "      async function convertToInteractive(key) {\n",
              "        const element = document.querySelector('#df-a6fb3f31-5c22-4450-897f-a11886175b96');\n",
              "        const dataTable =\n",
              "          await google.colab.kernel.invokeFunction('convertToInteractive',\n",
              "                                                    [key], {});\n",
              "        if (!dataTable) return;\n",
              "\n",
              "        const docLinkHtml = 'Like what you see? Visit the ' +\n",
              "          '<a target=\"_blank\" href=https://colab.research.google.com/notebooks/data_table.ipynb>data table notebook</a>'\n",
              "          + ' to learn more about interactive tables.';\n",
              "        element.innerHTML = '';\n",
              "        dataTable['output_type'] = 'display_data';\n",
              "        await google.colab.output.renderOutput(dataTable, element);\n",
              "        const docLink = document.createElement('div');\n",
              "        docLink.innerHTML = docLinkHtml;\n",
              "        element.appendChild(docLink);\n",
              "      }\n",
              "    </script>\n",
              "  </div>\n",
              "\n",
              "\n",
              "<div id=\"df-d06ba619-db77-4c99-8afc-a848df6d0386\">\n",
              "  <button class=\"colab-df-quickchart\" onclick=\"quickchart('df-d06ba619-db77-4c99-8afc-a848df6d0386')\"\n",
              "            title=\"Suggest charts\"\n",
              "            style=\"display:none;\">\n",
              "\n",
              "<svg xmlns=\"http://www.w3.org/2000/svg\" height=\"24px\"viewBox=\"0 0 24 24\"\n",
              "     width=\"24px\">\n",
              "    <g>\n",
              "        <path d=\"M19 3H5c-1.1 0-2 .9-2 2v14c0 1.1.9 2 2 2h14c1.1 0 2-.9 2-2V5c0-1.1-.9-2-2-2zM9 17H7v-7h2v7zm4 0h-2V7h2v10zm4 0h-2v-4h2v4z\"/>\n",
              "    </g>\n",
              "</svg>\n",
              "  </button>\n",
              "\n",
              "<style>\n",
              "  .colab-df-quickchart {\n",
              "      --bg-color: #E8F0FE;\n",
              "      --fill-color: #1967D2;\n",
              "      --hover-bg-color: #E2EBFA;\n",
              "      --hover-fill-color: #174EA6;\n",
              "      --disabled-fill-color: #AAA;\n",
              "      --disabled-bg-color: #DDD;\n",
              "  }\n",
              "\n",
              "  [theme=dark] .colab-df-quickchart {\n",
              "      --bg-color: #3B4455;\n",
              "      --fill-color: #D2E3FC;\n",
              "      --hover-bg-color: #434B5C;\n",
              "      --hover-fill-color: #FFFFFF;\n",
              "      --disabled-bg-color: #3B4455;\n",
              "      --disabled-fill-color: #666;\n",
              "  }\n",
              "\n",
              "  .colab-df-quickchart {\n",
              "    background-color: var(--bg-color);\n",
              "    border: none;\n",
              "    border-radius: 50%;\n",
              "    cursor: pointer;\n",
              "    display: none;\n",
              "    fill: var(--fill-color);\n",
              "    height: 32px;\n",
              "    padding: 0;\n",
              "    width: 32px;\n",
              "  }\n",
              "\n",
              "  .colab-df-quickchart:hover {\n",
              "    background-color: var(--hover-bg-color);\n",
              "    box-shadow: 0 1px 2px rgba(60, 64, 67, 0.3), 0 1px 3px 1px rgba(60, 64, 67, 0.15);\n",
              "    fill: var(--button-hover-fill-color);\n",
              "  }\n",
              "\n",
              "  .colab-df-quickchart-complete:disabled,\n",
              "  .colab-df-quickchart-complete:disabled:hover {\n",
              "    background-color: var(--disabled-bg-color);\n",
              "    fill: var(--disabled-fill-color);\n",
              "    box-shadow: none;\n",
              "  }\n",
              "\n",
              "  .colab-df-spinner {\n",
              "    border: 2px solid var(--fill-color);\n",
              "    border-color: transparent;\n",
              "    border-bottom-color: var(--fill-color);\n",
              "    animation:\n",
              "      spin 1s steps(1) infinite;\n",
              "  }\n",
              "\n",
              "  @keyframes spin {\n",
              "    0% {\n",
              "      border-color: transparent;\n",
              "      border-bottom-color: var(--fill-color);\n",
              "      border-left-color: var(--fill-color);\n",
              "    }\n",
              "    20% {\n",
              "      border-color: transparent;\n",
              "      border-left-color: var(--fill-color);\n",
              "      border-top-color: var(--fill-color);\n",
              "    }\n",
              "    30% {\n",
              "      border-color: transparent;\n",
              "      border-left-color: var(--fill-color);\n",
              "      border-top-color: var(--fill-color);\n",
              "      border-right-color: var(--fill-color);\n",
              "    }\n",
              "    40% {\n",
              "      border-color: transparent;\n",
              "      border-right-color: var(--fill-color);\n",
              "      border-top-color: var(--fill-color);\n",
              "    }\n",
              "    60% {\n",
              "      border-color: transparent;\n",
              "      border-right-color: var(--fill-color);\n",
              "    }\n",
              "    80% {\n",
              "      border-color: transparent;\n",
              "      border-right-color: var(--fill-color);\n",
              "      border-bottom-color: var(--fill-color);\n",
              "    }\n",
              "    90% {\n",
              "      border-color: transparent;\n",
              "      border-bottom-color: var(--fill-color);\n",
              "    }\n",
              "  }\n",
              "</style>\n",
              "\n",
              "  <script>\n",
              "    async function quickchart(key) {\n",
              "      const quickchartButtonEl =\n",
              "        document.querySelector('#' + key + ' button');\n",
              "      quickchartButtonEl.disabled = true;  // To prevent multiple clicks.\n",
              "      quickchartButtonEl.classList.add('colab-df-spinner');\n",
              "      try {\n",
              "        const charts = await google.colab.kernel.invokeFunction(\n",
              "            'suggestCharts', [key], {});\n",
              "      } catch (error) {\n",
              "        console.error('Error during call to suggestCharts:', error);\n",
              "      }\n",
              "      quickchartButtonEl.classList.remove('colab-df-spinner');\n",
              "      quickchartButtonEl.classList.add('colab-df-quickchart-complete');\n",
              "    }\n",
              "    (() => {\n",
              "      let quickchartButtonEl =\n",
              "        document.querySelector('#df-d06ba619-db77-4c99-8afc-a848df6d0386 button');\n",
              "      quickchartButtonEl.style.display =\n",
              "        google.colab.kernel.accessAllowed ? 'block' : 'none';\n",
              "    })();\n",
              "  </script>\n",
              "</div>\n",
              "\n",
              "  <div id=\"id_3d521ebd-87df-4200-84af-ef7aa6fc94ed\">\n",
              "    <style>\n",
              "      .colab-df-generate {\n",
              "        background-color: #E8F0FE;\n",
              "        border: none;\n",
              "        border-radius: 50%;\n",
              "        cursor: pointer;\n",
              "        display: none;\n",
              "        fill: #1967D2;\n",
              "        height: 32px;\n",
              "        padding: 0 0 0 0;\n",
              "        width: 32px;\n",
              "      }\n",
              "\n",
              "      .colab-df-generate:hover {\n",
              "        background-color: #E2EBFA;\n",
              "        box-shadow: 0px 1px 2px rgba(60, 64, 67, 0.3), 0px 1px 3px 1px rgba(60, 64, 67, 0.15);\n",
              "        fill: #174EA6;\n",
              "      }\n",
              "\n",
              "      [theme=dark] .colab-df-generate {\n",
              "        background-color: #3B4455;\n",
              "        fill: #D2E3FC;\n",
              "      }\n",
              "\n",
              "      [theme=dark] .colab-df-generate:hover {\n",
              "        background-color: #434B5C;\n",
              "        box-shadow: 0px 1px 3px 1px rgba(0, 0, 0, 0.15);\n",
              "        filter: drop-shadow(0px 1px 2px rgba(0, 0, 0, 0.3));\n",
              "        fill: #FFFFFF;\n",
              "      }\n",
              "    </style>\n",
              "    <button class=\"colab-df-generate\" onclick=\"generateWithVariable('data')\"\n",
              "            title=\"Generate code using this dataframe.\"\n",
              "            style=\"display:none;\">\n",
              "\n",
              "  <svg xmlns=\"http://www.w3.org/2000/svg\" height=\"24px\"viewBox=\"0 0 24 24\"\n",
              "       width=\"24px\">\n",
              "    <path d=\"M7,19H8.4L18.45,9,17,7.55,7,17.6ZM5,21V16.75L18.45,3.32a2,2,0,0,1,2.83,0l1.4,1.43a1.91,1.91,0,0,1,.58,1.4,1.91,1.91,0,0,1-.58,1.4L9.25,21ZM18.45,9,17,7.55Zm-12,3A5.31,5.31,0,0,0,4.9,8.1,5.31,5.31,0,0,0,1,6.5,5.31,5.31,0,0,0,4.9,4.9,5.31,5.31,0,0,0,6.5,1,5.31,5.31,0,0,0,8.1,4.9,5.31,5.31,0,0,0,12,6.5,5.46,5.46,0,0,0,6.5,12Z\"/>\n",
              "  </svg>\n",
              "    </button>\n",
              "    <script>\n",
              "      (() => {\n",
              "      const buttonEl =\n",
              "        document.querySelector('#id_3d521ebd-87df-4200-84af-ef7aa6fc94ed button.colab-df-generate');\n",
              "      buttonEl.style.display =\n",
              "        google.colab.kernel.accessAllowed ? 'block' : 'none';\n",
              "\n",
              "      buttonEl.onclick = () => {\n",
              "        google.colab.notebook.generateWithVariable('data');\n",
              "      }\n",
              "      })();\n",
              "    </script>\n",
              "  </div>\n",
              "\n",
              "    </div>\n",
              "  </div>\n"
            ],
            "application/vnd.google.colaboratory.intrinsic+json": {
              "type": "dataframe",
              "variable_name": "data",
              "summary": "{\n  \"name\": \"data\",\n  \"rows\": 10,\n  \"fields\": [\n    {\n      \"column\": \"Category\",\n      \"properties\": {\n        \"dtype\": \"category\",\n        \"num_unique_values\": 3,\n        \"samples\": [\n          \"A\",\n          \"B\",\n          \"C\"\n        ],\n        \"semantic_type\": \"\",\n        \"description\": \"\"\n      }\n    }\n  ]\n}"
            }
          },
          "metadata": {},
          "execution_count": 49
        }
      ]
    },
    {
      "cell_type": "code",
      "source": [
        "from os import EX_DATAERR\n",
        "\n",
        "import seaborn as sns\n",
        "import matplotlib.pyplot as plt\n",
        "\n",
        "# Sample DataFrame\n",
        "ex_data = pd.DataFrame({\n",
        "    'Category': ['A', 'B', 'A', 'C', 'B', 'A', 'C', 'C', 'B', 'A']\n",
        "})\n",
        "\n",
        "# Create a count plot\n",
        "sns.countplot(x='Category', data=ex_data)\n",
        "plt.title('Count of Each Category')\n",
        "plt.xlabel('Category')\n",
        "plt.ylabel('Count')\n",
        "plt.show()"
      ],
      "metadata": {
        "id": "IjUsa8dfDC-N",
        "colab": {
          "base_uri": "https://localhost:8080/",
          "height": 477
        },
        "outputId": "63eb6acf-02f4-476c-d205-606ecd1cbcfb"
      },
      "execution_count": null,
      "outputs": [
        {
          "output_type": "display_data",
          "data": {
            "text/plain": [
              "<Figure size 640x480 with 1 Axes>"
            ],
            "image/png": "[encoded data removed]"
          },
          "metadata": {}
        }
      ]
    },
    {
      "cell_type": "markdown",
      "source": [
        "**Count Plot with Hue**\n",
        "\n",
        "You can also use the hue parameter to group the counts by another categorical variable. Let's add another column Type to our DataFrame.\n",
        "\n"
      ],
      "metadata": {
        "id": "BPG0-0aQDS02"
      }
    },
    {
      "cell_type": "code",
      "source": [
        "# Sample DataFrame\n",
        "data1 = pd.DataFrame({\n",
        "    'Category': ['A', 'B', 'A', 'C', 'B', 'A', 'C', 'C', 'B', 'A'],\n",
        "    'Type': ['X', 'Y', 'X', 'X', 'Y', 'Y', 'X', 'Y', 'Y', 'X']\n",
        "})\n",
        "data1\n"
      ],
      "metadata": {
        "id": "VP7grXn5DXUf",
        "colab": {
          "base_uri": "https://localhost:8080/",
          "height": 363
        },
        "outputId": "ebc6a9d7-9574-4395-cf7b-7a2af8cb127a"
      },
      "execution_count": null,
      "outputs": [
        {
          "output_type": "execute_result",
          "data": {
            "text/plain": [
              "  Category Type\n",
              "0        A    X\n",
              "1        B    Y\n",
              "2        A    X\n",
              "3        C    X\n",
              "4        B    Y\n",
              "5        A    Y\n",
              "6        C    X\n",
              "7        C    Y\n",
              "8        B    Y\n",
              "9        A    X"
            ],
            "text/html": [
              "\n",
              "  <div id=\"df-49e8a0e9-c91c-4176-ad0d-cd1849043552\" class=\"colab-df-container\">\n",
              "    <div>\n",
              "<style scoped>\n",
              "    .dataframe tbody tr th:only-of-type {\n",
              "        vertical-align: middle;\n",
              "    }\n",
              "\n",
              "    .dataframe tbody tr th {\n",
              "        vertical-align: top;\n",
              "    }\n",
              "\n",
              "    .dataframe thead th {\n",
              "        text-align: right;\n",
              "    }\n",
              "</style>\n",
              "<table border=\"1\" class=\"dataframe\">\n",
              "  <thead>\n",
              "    <tr style=\"text-align: right;\">\n",
              "      <th></th>\n",
              "      <th>Category</th>\n",
              "      <th>Type</th>\n",
              "    </tr>\n",
              "  </thead>\n",
              "  <tbody>\n",
              "    <tr>\n",
              "      <th>0</th>\n",
              "      <td>A</td>\n",
              "      <td>X</td>\n",
              "    </tr>\n",
              "    <tr>\n",
              "      <th>1</th>\n",
              "      <td>B</td>\n",
              "      <td>Y</td>\n",
              "    </tr>\n",
              "    <tr>\n",
              "      <th>2</th>\n",
              "      <td>A</td>\n",
              "      <td>X</td>\n",
              "    </tr>\n",
              "    <tr>\n",
              "      <th>3</th>\n",
              "      <td>C</td>\n",
              "      <td>X</td>\n",
              "    </tr>\n",
              "    <tr>\n",
              "      <th>4</th>\n",
              "      <td>B</td>\n",
              "      <td>Y</td>\n",
              "    </tr>\n",
              "    <tr>\n",
              "      <th>5</th>\n",
              "      <td>A</td>\n",
              "      <td>Y</td>\n",
              "    </tr>\n",
              "    <tr>\n",
              "      <th>6</th>\n",
              "      <td>C</td>\n",
              "      <td>X</td>\n",
              "    </tr>\n",
              "    <tr>\n",
              "      <th>7</th>\n",
              "      <td>C</td>\n",
              "      <td>Y</td>\n",
              "    </tr>\n",
              "    <tr>\n",
              "      <th>8</th>\n",
              "      <td>B</td>\n",
              "      <td>Y</td>\n",
              "    </tr>\n",
              "    <tr>\n",
              "      <th>9</th>\n",
              "      <td>A</td>\n",
              "      <td>X</td>\n",
              "    </tr>\n",
              "  </tbody>\n",
              "</table>\n",
              "</div>\n",
              "    <div class=\"colab-df-buttons\">\n",
              "\n",
              "  <div class=\"colab-df-container\">\n",
              "    <button class=\"colab-df-convert\" onclick=\"convertToInteractive('df-49e8a0e9-c91c-4176-ad0d-cd1849043552')\"\n",
              "            title=\"Convert this dataframe to an interactive table.\"\n",
              "            style=\"display:none;\">\n",
              "\n",
              "  <svg xmlns=\"http://www.w3.org/2000/svg\" height=\"24px\" viewBox=\"0 -960 960 960\">\n",
              "    <path d=\"M120-120v-720h720v720H120Zm60-500h600v-160H180v160Zm220 220h160v-160H400v160Zm0 220h160v-160H400v160ZM180-400h160v-160H180v160Zm440 0h160v-160H620v160ZM180-180h160v-160H180v160Zm440 0h160v-160H620v160Z\"/>\n",
              "  </svg>\n",
              "    </button>\n",
              "\n",
              "  <style>\n",
              "    .colab-df-container {\n",
              "      display:flex;\n",
              "      gap: 12px;\n",
              "    }\n",
              "\n",
              "    .colab-df-convert {\n",
              "      background-color: #E8F0FE;\n",
              "      border: none;\n",
              "      border-radius: 50%;\n",
              "      cursor: pointer;\n",
              "      display: none;\n",
              "      fill: #1967D2;\n",
              "      height: 32px;\n",
              "      padding: 0 0 0 0;\n",
              "      width: 32px;\n",
              "    }\n",
              "\n",
              "    .colab-df-convert:hover {\n",
              "      background-color: #E2EBFA;\n",
              "      box-shadow: 0px 1px 2px rgba(60, 64, 67, 0.3), 0px 1px 3px 1px rgba(60, 64, 67, 0.15);\n",
              "      fill: #174EA6;\n",
              "    }\n",
              "\n",
              "    .colab-df-buttons div {\n",
              "      margin-bottom: 4px;\n",
              "    }\n",
              "\n",
              "    [theme=dark] .colab-df-convert {\n",
              "      background-color: #3B4455;\n",
              "      fill: #D2E3FC;\n",
              "    }\n",
              "\n",
              "    [theme=dark] .colab-df-convert:hover {\n",
              "      background-color: #434B5C;\n",
              "      box-shadow: 0px 1px 3px 1px rgba(0, 0, 0, 0.15);\n",
              "      filter: drop-shadow(0px 1px 2px rgba(0, 0, 0, 0.3));\n",
              "      fill: #FFFFFF;\n",
              "    }\n",
              "  </style>\n",
              "\n",
              "    <script>\n",
              "      const buttonEl =\n",
              "        document.querySelector('#df-49e8a0e9-c91c-4176-ad0d-cd1849043552 button.colab-df-convert');\n",
              "      buttonEl.style.display =\n",
              "        google.colab.kernel.accessAllowed ? 'block' : 'none';\n",
              "\n",
              "      async function convertToInteractive(key) {\n",
              "        const element = document.querySelector('#df-49e8a0e9-c91c-4176-ad0d-cd1849043552');\n",
              "        const dataTable =\n",
              "          await google.colab.kernel.invokeFunction('convertToInteractive',\n",
              "                                                    [key], {});\n",
              "        if (!dataTable) return;\n",
              "\n",
              "        const docLinkHtml = 'Like what you see? Visit the ' +\n",
              "          '<a target=\"_blank\" href=https://colab.research.google.com/notebooks/data_table.ipynb>data table notebook</a>'\n",
              "          + ' to learn more about interactive tables.';\n",
              "        element.innerHTML = '';\n",
              "        dataTable['output_type'] = 'display_data';\n",
              "        await google.colab.output.renderOutput(dataTable, element);\n",
              "        const docLink = document.createElement('div');\n",
              "        docLink.innerHTML = docLinkHtml;\n",
              "        element.appendChild(docLink);\n",
              "      }\n",
              "    </script>\n",
              "  </div>\n",
              "\n",
              "\n",
              "<div id=\"df-be2c3b28-118b-4c25-ace6-a9f1a168e368\">\n",
              "  <button class=\"colab-df-quickchart\" onclick=\"quickchart('df-be2c3b28-118b-4c25-ace6-a9f1a168e368')\"\n",
              "            title=\"Suggest charts\"\n",
              "            style=\"display:none;\">\n",
              "\n",
              "<svg xmlns=\"http://www.w3.org/2000/svg\" height=\"24px\"viewBox=\"0 0 24 24\"\n",
              "     width=\"24px\">\n",
              "    <g>\n",
              "        <path d=\"M19 3H5c-1.1 0-2 .9-2 2v14c0 1.1.9 2 2 2h14c1.1 0 2-.9 2-2V5c0-1.1-.9-2-2-2zM9 17H7v-7h2v7zm4 0h-2V7h2v10zm4 0h-2v-4h2v4z\"/>\n",
              "    </g>\n",
              "</svg>\n",
              "  </button>\n",
              "\n",
              "<style>\n",
              "  .colab-df-quickchart {\n",
              "      --bg-color: #E8F0FE;\n",
              "      --fill-color: #1967D2;\n",
              "      --hover-bg-color: #E2EBFA;\n",
              "      --hover-fill-color: #174EA6;\n",
              "      --disabled-fill-color: #AAA;\n",
              "      --disabled-bg-color: #DDD;\n",
              "  }\n",
              "\n",
              "  [theme=dark] .colab-df-quickchart {\n",
              "      --bg-color: #3B4455;\n",
              "      --fill-color: #D2E3FC;\n",
              "      --hover-bg-color: #434B5C;\n",
              "      --hover-fill-color: #FFFFFF;\n",
              "      --disabled-bg-color: #3B4455;\n",
              "      --disabled-fill-color: #666;\n",
              "  }\n",
              "\n",
              "  .colab-df-quickchart {\n",
              "    background-color: var(--bg-color);\n",
              "    border: none;\n",
              "    border-radius: 50%;\n",
              "    cursor: pointer;\n",
              "    display: none;\n",
              "    fill: var(--fill-color);\n",
              "    height: 32px;\n",
              "    padding: 0;\n",
              "    width: 32px;\n",
              "  }\n",
              "\n",
              "  .colab-df-quickchart:hover {\n",
              "    background-color: var(--hover-bg-color);\n",
              "    box-shadow: 0 1px 2px rgba(60, 64, 67, 0.3), 0 1px 3px 1px rgba(60, 64, 67, 0.15);\n",
              "    fill: var(--button-hover-fill-color);\n",
              "  }\n",
              "\n",
              "  .colab-df-quickchart-complete:disabled,\n",
              "  .colab-df-quickchart-complete:disabled:hover {\n",
              "    background-color: var(--disabled-bg-color);\n",
              "    fill: var(--disabled-fill-color);\n",
              "    box-shadow: none;\n",
              "  }\n",
              "\n",
              "  .colab-df-spinner {\n",
              "    border: 2px solid var(--fill-color);\n",
              "    border-color: transparent;\n",
              "    border-bottom-color: var(--fill-color);\n",
              "    animation:\n",
              "      spin 1s steps(1) infinite;\n",
              "  }\n",
              "\n",
              "  @keyframes spin {\n",
              "    0% {\n",
              "      border-color: transparent;\n",
              "      border-bottom-color: var(--fill-color);\n",
              "      border-left-color: var(--fill-color);\n",
              "    }\n",
              "    20% {\n",
              "      border-color: transparent;\n",
              "      border-left-color: var(--fill-color);\n",
              "      border-top-color: var(--fill-color);\n",
              "    }\n",
              "    30% {\n",
              "      border-color: transparent;\n",
              "      border-left-color: var(--fill-color);\n",
              "      border-top-color: var(--fill-color);\n",
              "      border-right-color: var(--fill-color);\n",
              "    }\n",
              "    40% {\n",
              "      border-color: transparent;\n",
              "      border-right-color: var(--fill-color);\n",
              "      border-top-color: var(--fill-color);\n",
              "    }\n",
              "    60% {\n",
              "      border-color: transparent;\n",
              "      border-right-color: var(--fill-color);\n",
              "    }\n",
              "    80% {\n",
              "      border-color: transparent;\n",
              "      border-right-color: var(--fill-color);\n",
              "      border-bottom-color: var(--fill-color);\n",
              "    }\n",
              "    90% {\n",
              "      border-color: transparent;\n",
              "      border-bottom-color: var(--fill-color);\n",
              "    }\n",
              "  }\n",
              "</style>\n",
              "\n",
              "  <script>\n",
              "    async function quickchart(key) {\n",
              "      const quickchartButtonEl =\n",
              "        document.querySelector('#' + key + ' button');\n",
              "      quickchartButtonEl.disabled = true;  // To prevent multiple clicks.\n",
              "      quickchartButtonEl.classList.add('colab-df-spinner');\n",
              "      try {\n",
              "        const charts = await google.colab.kernel.invokeFunction(\n",
              "            'suggestCharts', [key], {});\n",
              "      } catch (error) {\n",
              "        console.error('Error during call to suggestCharts:', error);\n",
              "      }\n",
              "      quickchartButtonEl.classList.remove('colab-df-spinner');\n",
              "      quickchartButtonEl.classList.add('colab-df-quickchart-complete');\n",
              "    }\n",
              "    (() => {\n",
              "      let quickchartButtonEl =\n",
              "        document.querySelector('#df-be2c3b28-118b-4c25-ace6-a9f1a168e368 button');\n",
              "      quickchartButtonEl.style.display =\n",
              "        google.colab.kernel.accessAllowed ? 'block' : 'none';\n",
              "    })();\n",
              "  </script>\n",
              "</div>\n",
              "\n",
              "  <div id=\"id_3b80b051-a72a-48c3-9fbc-334d3e767077\">\n",
              "    <style>\n",
              "      .colab-df-generate {\n",
              "        background-color: #E8F0FE;\n",
              "        border: none;\n",
              "        border-radius: 50%;\n",
              "        cursor: pointer;\n",
              "        display: none;\n",
              "        fill: #1967D2;\n",
              "        height: 32px;\n",
              "        padding: 0 0 0 0;\n",
              "        width: 32px;\n",
              "      }\n",
              "\n",
              "      .colab-df-generate:hover {\n",
              "        background-color: #E2EBFA;\n",
              "        box-shadow: 0px 1px 2px rgba(60, 64, 67, 0.3), 0px 1px 3px 1px rgba(60, 64, 67, 0.15);\n",
              "        fill: #174EA6;\n",
              "      }\n",
              "\n",
              "      [theme=dark] .colab-df-generate {\n",
              "        background-color: #3B4455;\n",
              "        fill: #D2E3FC;\n",
              "      }\n",
              "\n",
              "      [theme=dark] .colab-df-generate:hover {\n",
              "        background-color: #434B5C;\n",
              "        box-shadow: 0px 1px 3px 1px rgba(0, 0, 0, 0.15);\n",
              "        filter: drop-shadow(0px 1px 2px rgba(0, 0, 0, 0.3));\n",
              "        fill: #FFFFFF;\n",
              "      }\n",
              "    </style>\n",
              "    <button class=\"colab-df-generate\" onclick=\"generateWithVariable('data1')\"\n",
              "            title=\"Generate code using this dataframe.\"\n",
              "            style=\"display:none;\">\n",
              "\n",
              "  <svg xmlns=\"http://www.w3.org/2000/svg\" height=\"24px\"viewBox=\"0 0 24 24\"\n",
              "       width=\"24px\">\n",
              "    <path d=\"M7,19H8.4L18.45,9,17,7.55,7,17.6ZM5,21V16.75L18.45,3.32a2,2,0,0,1,2.83,0l1.4,1.43a1.91,1.91,0,0,1,.58,1.4,1.91,1.91,0,0,1-.58,1.4L9.25,21ZM18.45,9,17,7.55Zm-12,3A5.31,5.31,0,0,0,4.9,8.1,5.31,5.31,0,0,0,1,6.5,5.31,5.31,0,0,0,4.9,4.9,5.31,5.31,0,0,0,6.5,1,5.31,5.31,0,0,0,8.1,4.9,5.31,5.31,0,0,0,12,6.5,5.46,5.46,0,0,0,6.5,12Z\"/>\n",
              "  </svg>\n",
              "    </button>\n",
              "    <script>\n",
              "      (() => {\n",
              "      const buttonEl =\n",
              "        document.querySelector('#id_3b80b051-a72a-48c3-9fbc-334d3e767077 button.colab-df-generate');\n",
              "      buttonEl.style.display =\n",
              "        google.colab.kernel.accessAllowed ? 'block' : 'none';\n",
              "\n",
              "      buttonEl.onclick = () => {\n",
              "        google.colab.notebook.generateWithVariable('data1');\n",
              "      }\n",
              "      })();\n",
              "    </script>\n",
              "  </div>\n",
              "\n",
              "    </div>\n",
              "  </div>\n"
            ],
            "application/vnd.google.colaboratory.intrinsic+json": {
              "type": "dataframe",
              "variable_name": "data1",
              "summary": "{\n  \"name\": \"data1\",\n  \"rows\": 10,\n  \"fields\": [\n    {\n      \"column\": \"Category\",\n      \"properties\": {\n        \"dtype\": \"category\",\n        \"num_unique_values\": 3,\n        \"samples\": [\n          \"A\",\n          \"B\",\n          \"C\"\n        ],\n        \"semantic_type\": \"\",\n        \"description\": \"\"\n      }\n    },\n    {\n      \"column\": \"Type\",\n      \"properties\": {\n        \"dtype\": \"category\",\n        \"num_unique_values\": 2,\n        \"samples\": [\n          \"Y\",\n          \"X\"\n        ],\n        \"semantic_type\": \"\",\n        \"description\": \"\"\n      }\n    }\n  ]\n}"
            }
          },
          "metadata": {},
          "execution_count": 56
        }
      ]
    },
    {
      "cell_type": "code",
      "source": [
        "# Create a count plot with hue\n",
        "sns.countplot(x='Category', hue='Type', data=data1)\n",
        "plt.title('Count of Each Category by Type')\n",
        "plt.xlabel('Category')\n",
        "plt.ylabel('Count')\n",
        "plt.show()"
      ],
      "metadata": {
        "id": "gk1WLtTsZUq1",
        "colab": {
          "base_uri": "https://localhost:8080/",
          "height": 477
        },
        "outputId": "136798f5-9bda-4a83-db8e-9ad6a26cc955"
      },
      "execution_count": null,
      "outputs": [
        {
          "output_type": "display_data",
          "data": {
            "text/plain": [
              "<Figure size 640x480 with 1 Axes>"
            ],
            "image/png": "[encoded data removed]"
          },
          "metadata": {}
        }
      ]
    },
    {
      "cell_type": "markdown",
      "source": [
        "Here, the `hue `parameter differentiates the bars based on the `Type` column, allowing us to see the distribution of `Type` within each `Category`.\n",
        "\n"
      ],
      "metadata": {
        "id": "S38cO1mwDkta"
      }
    },
    {
      "cell_type": "markdown",
      "source": [
        " **Horizontal Count Plot**\n",
        "\n",
        "You can also create horizontal count plots by switching the axes."
      ],
      "metadata": {
        "id": "NZsGH-QIDq0v"
      }
    },
    {
      "cell_type": "code",
      "source": [
        "# Sample DataFrame\n",
        "data = pd.DataFrame({\n",
        "    'Category': ['A', 'B', 'A', 'C', 'B', 'A', 'C', 'C', 'B', 'A']\n",
        "})\n",
        "\n",
        "# Create a horizontal count plot\n",
        "sns.countplot(y='Category', data=data)\n",
        "plt.title('Count of Each Category (Horizontal)')\n",
        "plt.xlabel('Count')\n",
        "plt.ylabel('Category')\n",
        "plt.show()"
      ],
      "metadata": {
        "id": "ppPHKsgaDveV",
        "colab": {
          "base_uri": "https://localhost:8080/",
          "height": 477
        },
        "outputId": "68171f9b-6409-4c59-e4d0-0eccbb00408e"
      },
      "execution_count": null,
      "outputs": [
        {
          "output_type": "display_data",
          "data": {
            "text/plain": [
              "<Figure size 640x480 with 1 Axes>"
            ],
            "image/png": "[encoded data removed]"
          },
          "metadata": {}
        }
      ]
    },
    {
      "cell_type": "markdown",
      "source": [
        "**Count Plot with Custom Colors**\n",
        "\n",
        "You can customize the color of the bars in the count plot."
      ],
      "metadata": {
        "id": "pNPU0I_vDzyx"
      }
    },
    {
      "cell_type": "code",
      "source": [
        "data = pd.DataFrame({\n",
        "    'Category': ['A', 'B', 'A', 'C', 'B', 'A', 'C', 'C', 'B', 'A'],\n",
        "    'Type': ['X', 'Y', 'X', 'X', 'Y', 'Y', 'X', 'Y', 'Y', 'X']\n",
        "})\n",
        "# Create a count plot with custom colors\n",
        "sns.countplot(x='Category', data=data, palette='grey',hue=\"Type\")\n",
        "plt.title('Count of Each Category with Custom Colors')\n",
        "plt.xlabel('Category')\n",
        "plt.ylabel('Count')\n",
        "plt.show()"
      ],
      "metadata": {
        "id": "E4_Bm95zD5CU",
        "colab": {
          "base_uri": "https://localhost:8080/",
          "height": 477
        },
        "outputId": "ee07d43c-3d09-40c1-b3aa-1fe13d991520"
      },
      "execution_count": null,
      "outputs": [
        {
          "output_type": "display_data",
          "data": {
            "text/plain": [
              "<Figure size 640x480 with 1 Axes>"
            ],
            "image/png": "[encoded data removed]"
          },
          "metadata": {}
        }
      ]
    },
    {
      "cell_type": "markdown",
      "source": [
        "### Activity 3: Pie Charts\n",
        "\n",
        "Pie charts are a way to visualize data proportions in a circular format, where each segment of the circle (slice) represents a portion of the whole dataset. The size of each slice corresponds to its proportion relative to the entire dataset. Larger slices indicate larger proportions.\n",
        "\n",
        "**Syntax:** `plt.pie(sizes)`\n",
        "\n",
        "In this syntax, sizes refers to the values representing the proportions of each slice. These can be raw counts or percentages. The `pie()` function generates a pie chart where each slice's size reflects its proportion of the total.\n",
        "\n",
        "To enhance the appearance of the pie charts or other plots, you can adjust the **dpi** (dots per inch) setting. This parameter controls the resolution of the plot. Higher `dpi` values result in clearer and more detailed plots.\n"
      ],
      "metadata": {
        "id": "aO8J4q8IbM6q"
      }
    },
    {
      "cell_type": "code",
      "source": [
        "# Example data\n",
        "grades = ['7th Grade', '8th Grade', '9th Grade']\n",
        "number_of_students = [50, 60, 70]"
      ],
      "metadata": {
        "id": "5hfN9L-scXL9"
      },
      "execution_count": null,
      "outputs": []
    },
    {
      "cell_type": "code",
      "source": [
        "plt.pie(number_of_students)"
      ],
      "metadata": {
        "colab": {
          "base_uri": "https://localhost:8080/",
          "height": 513
        },
        "id": "BJqefau2HndA",
        "outputId": "f4a7583c-aeed-4301-a797-ef5f70f5749e"
      },
      "execution_count": null,
      "outputs": [
        {
          "output_type": "execute_result",
          "data": {
            "text/plain": [
              "([<matplotlib.patches.Wedge at 0x7f82a5d1f970>,\n",
              "  <matplotlib.patches.Wedge at 0x7f82a5d1d0f0>,\n",
              "  <matplotlib.patches.Wedge at 0x7f82a5d1f640>],\n",
              " [Text(0.7070663355909782, 0.8426489168532447, ''),\n",
              "  Text(-1.033661925916611, 0.3762220393735098, ''),\n",
              "  Text(0.376222329708737, -1.033661820243222, '')])"
            ]
          },
          "metadata": {},
          "execution_count": 62
        },
        {
          "output_type": "display_data",
          "data": {
            "text/plain": [
              "<Figure size 640x480 with 1 Axes>"
            ],
            "image/png": "[encoded data removed]"
          },
          "metadata": {}
        }
      ]
    },
    {
      "cell_type": "code",
      "source": [
        "#Example\n",
        "plt.style.use(\"ggplot\")\n",
        "plt.pie(number_of_students)\n",
        "plt.title('Number of Students by Grade')\n",
        "plt.show()"
      ],
      "metadata": {
        "id": "FOOlU5NTcZ5U",
        "colab": {
          "base_uri": "https://localhost:8080/",
          "height": 429
        },
        "outputId": "6e3979c1-e21e-4bb4-b2e5-acc4b12b6199"
      },
      "execution_count": null,
      "outputs": [
        {
          "output_type": "display_data",
          "data": {
            "text/plain": [
              "<Figure size 640x480 with 1 Axes>"
            ],
            "image/png": "[encoded data removed]"
          },
          "metadata": {}
        }
      ]
    },
    {
      "cell_type": "code",
      "source": [
        "#example\n",
        "colors = ['#ff9999','#66b3ff','#99ff99']  # Custom colors for each slice\n",
        "explode = (0.1, 0.2, 0.3)  # Explode the first slice (7th Grade)\n",
        "\n",
        "plt.pie(number_of_students, labels=grades, autopct='%1.3f%%', colors=colors, explode=explode)\n",
        "plt.title('Number of Students by Grade')\n",
        "plt.show()"
      ],
      "metadata": {
        "id": "sz5Xv02kdMyd",
        "colab": {
          "base_uri": "https://localhost:8080/",
          "height": 446
        },
        "outputId": "a2bf77b3-d823-41e9-b72d-a8410b18a664"
      },
      "execution_count": null,
      "outputs": [
        {
          "output_type": "display_data",
          "data": {
            "text/plain": [
              "<Figure size 640x480 with 1 Axes>"
            ],
            "image/png": "[encoded data removed]"
          },
          "metadata": {}
        }
      ]
    },
    {
      "cell_type": "code",
      "source": [
        "#example\n",
        "colors = ['green','blue','red']  # Custom colors for each slice\n",
        "explode = (0.1, 0, 0)  # Explode the first slice (7th Grade)\n",
        "plt.pie(number_of_students, labels=grades, autopct='%1.1f%%', colors=colors, explode=explode,textprops = {'color': 'violet'} )\n",
        "plt.title('Number of Students by Grade')\n",
        "plt.show()"
      ],
      "metadata": {
        "id": "QrZzsDFTguFM",
        "colab": {
          "base_uri": "https://localhost:8080/",
          "height": 429
        },
        "outputId": "4e5e6877-94aa-43e8-d43b-84a490be68ae"
      },
      "execution_count": null,
      "outputs": [
        {
          "output_type": "display_data",
          "data": {
            "text/plain": [
              "<Figure size 640x480 with 1 Axes>"
            ],
            "image/png": "[encoded data removed]"
          },
          "metadata": {}
        }
      ]
    },
    {
      "cell_type": "markdown",
      "source": [
        "we can visualise the percentages of observations recorded in 2004 and 2005 using a pie chart.\n",
        "\n",
        "To create a pie chart first you need to define the slice proportions through a list, a tuple, a series or an array and pass it as an input to the `pie()` function."
      ],
      "metadata": {
        "id": "Iof24ffUePi6"
      }
    },
    {
      "cell_type": "code",
      "metadata": {
        "id": "vH3CKV_YiJIO",
        "colab": {
          "base_uri": "https://localhost:8080/",
          "height": 429
        },
        "outputId": "0cb39758-9b67-4c3f-bb96-166e136952f5"
      },
      "source": [
        "#set 'black' as the outline colour of the chart.\n",
        "#wedgeprops={'edgecolor':'red'}\n",
        "plt.figure(dpi=100)\n",
        "plt.pie(number_of_students, labels=grades,wedgeprops={'edgecolor': 'black'})\n",
        "plt.title('Number of Students by Grade')\n",
        "plt.show()\n"
      ],
      "execution_count": null,
      "outputs": [
        {
          "output_type": "display_data",
          "data": {
            "text/plain": [
              "<Figure size 640x480 with 1 Axes>"
            ],
            "image/png": "[encoded data removed]"
          },
          "metadata": {}
        }
      ]
    },
    {
      "cell_type": "markdown",
      "metadata": {
        "id": "w8oXw6hPrNjS"
      },
      "source": [
        "You can add the percentage values in the corresponding slices by passing `autopct='%1.1f%%'` as another parameter to the `pie()` function. If you change the numeral after the dot (or period) to `2`, then the pie chart will display the percentage value upto 2 places after the decimal."
      ]
    },
    {
      "cell_type": "code",
      "metadata": {
        "id": "8kvEAs2Yomc_"
      },
      "source": [
        "#Add percentage values to the corresponding slices.\n",
        "#autopct1.='%1.1f%%'\n",
        "plt.figure(dpi=100)\n",
        "plt.pie(number_of_students, labels=grades,wedgeprops={'edgecolor':'black'},autopct='%1.2f%%')\n",
        "plt.show()\n"
      ],
      "execution_count": null,
      "outputs": []
    },
    {
      "cell_type": "markdown",
      "metadata": {
        "id": "VZyjaU_LsvI8"
      },
      "source": [
        "You can separate a slice (or more slices) from a pie by passing another parameter called `explode` to the `pie()` function. The input to the `explode` parameter should be a list, tuple etc. containing the amount by which a slice should move away from the centre of a pie.\n",
        "\n"
      ]
    },
    {
      "cell_type": "code",
      "metadata": {
        "id": "RsucbwN1nLpD"
      },
      "source": [
        "# Activity\n",
        "plt.figure(dpi=100)\n",
        "plt.pie(number_of_students, labels=grades,wedgeprops={'edgecolor':'purple'},autopct='%1.3f%%',explode=[0,0.90,0.8])\n",
        "plt.show()"
      ],
      "execution_count": null,
      "outputs": []
    },
    {
      "cell_type": "markdown",
      "metadata": {
        "id": "6DC-OAC5t5xs"
      },
      "source": [
        "You can also provide the 3D effect to the pie by adding the `shadow=True` parameter to the `pie()` function."
      ]
    },
    {
      "cell_type": "code",
      "metadata": {
        "id": "Lfg7WwuUnwwA",
        "colab": {
          "base_uri": "https://localhost:8080/",
          "height": 423
        },
        "outputId": "53cda770-8133-422a-9ab1-61dacb606cc1"
      },
      "source": [
        "# Add 3D effect to the pie.\n",
        "plt.figure(dpi=100)\n",
        "plt.pie(number_of_students, labels=grades,wedgeprops={'edgecolor':'purple'},autopct='%1.3f%%',explode=[0,0.20,0.3],shadow=True)\n",
        "plt.show()\n"
      ],
      "execution_count": null,
      "outputs": [
        {
          "output_type": "display_data",
          "data": {
            "text/plain": [
              "<Figure size 640x480 with 1 Axes>"
            ],
            "image/png": "[encoded data removed]"
          },
          "metadata": {}
        }
      ]
    },
    {
      "cell_type": "markdown",
      "metadata": {
        "id": "WEs_Mfi_aeQM"
      },
      "source": [
        "**Note:** The sum of all the percentages in a pie chart will be and should be 100.\n",
        "\n",
        "**When not to create a pie chart?**\n",
        "\n",
        "A pie chart has its limited use. It should be used to plot the proportion of a few categories. If there are more category proportions to be visualised then don't use the pie chart."
      ]
    },
    {
      "cell_type": "markdown",
      "source": [
        "---"
      ],
      "metadata": {
        "id": "69fgwTxfrcyX"
      }
    },
    {
      "cell_type": "markdown",
      "source": [
        "### Activity 1:  Mounting the drive"
      ],
      "metadata": {
        "id": "L1erqEcLmSpe"
      }
    },
    {
      "cell_type": "code",
      "source": [
        "\n",
        "#Mounting the google drive\n",
        "from google.colab import drive\n",
        "drive.mount('/content/drive/')"
      ],
      "metadata": {
        "colab": {
          "base_uri": "https://localhost:8080/"
        },
        "id": "TrwK4K5x1jt4",
        "outputId": "241c73b8-801e-476f-bbdb-2b158b1c80c2"
      },
      "execution_count": null,
      "outputs": [
        {
          "output_type": "stream",
          "name": "stdout",
          "text": [
            "Mounted at /content/drive/\n"
          ]
        }
      ]
    },
    {
      "cell_type": "markdown",
      "source": [
        "### Activity 2: Meteorite Landings Dataset  "
      ],
      "metadata": {
        "id": "4-KXPjkCmV0M"
      }
    },
    {
      "cell_type": "markdown",
      "source": [
        "**Acknowledgements**\n",
        "This dataset was downloaded from NASA's Data Portal, and is based on The Meteoritical Society's Meteoritical Bulletin Database (this latter database provides additional information such as meteorite images, links to primary sources, etc.).\n",
        "\n",
        "**Source:** NASA's Data Portal\n",
        "\n",
        "   https://data.nasa.gov/Space-Science/Meteorite-Landings/gh4g-9sfh\n",
        "\n",
        "\n",
        "\n",
        "**About Data Set:** **Meteorite Landings**\n",
        "\n",
        "This comprehensive data set from The Meteoritical Society contains information on all of the known meteorite landings."
      ],
      "metadata": {
        "id": "rcjTIHXj4J_p"
      }
    },
    {
      "cell_type": "markdown",
      "source": [
        "Before diving into the meteorite landings dataset, it's essential to understand the differences between a meteoroid, a meteor, and a meteorite.\n",
        "\n",
        "**What is a Meteoroid?**\n",
        "\n",
        "A meteoroid is a small rocky or metallic body traveling through space. These objects often break off from larger bodies like asteroids due to collisions. When these space rocks come close to Earth, they are known as near-Earth objects.\n",
        "\n",
        "**What is a Meteor?**\n",
        "\n",
        "When a meteoroid enters Earth's atmosphere, it heats up and glows due to friction with the air. This glowing object is called a meteor, commonly known as a shooting star or fireball.\n",
        "\n",
        "**What is a Meteorite?**\n",
        "\n",
        "If a meteor survives its fiery passage through the atmosphere and lands on Earth's surface, it is called a meteorite.\n",
        "\n",
        "**Summary**\n",
        "\n",
        "- Meteoroid: When it is in space.\n",
        "- Meteor: When it is burning up in Earth's atmosphere.\n",
        "- Meteorite: When it has landed on Earth.\n",
        "\n",
        "\n",
        "**Why are meteorites important to scientists?**"
      ],
      "metadata": {
        "id": "t1HWOwCP5PIY"
      }
    },
    {
      "cell_type": "code",
      "source": [
        "# Import the required modules and Create a Pandas DataFrame.\n",
        "import pandas as pd\n",
        "import matplotlib.pyplot as plt\n",
        "\n",
        "m_df=pd.read_csv(\"/content/drive/MyDrive/datasets/meteorite-landings.csv\")\n",
        "m_df.head()"
      ],
      "metadata": {
        "colab": {
          "base_uri": "https://localhost:8080/",
          "height": 206
        },
        "id": "sK55irP03ygi",
        "outputId": "4b444ff6-7163-4048-e41e-49580cbe5510"
      },
      "execution_count": null,
      "outputs": [
        {
          "output_type": "execute_result",
          "data": {
            "text/plain": [
              "       name   id nametype     recclass      mass  fall    year    reclat  \\\n",
              "0    Aachen    1    Valid           L5      21.0  Fell  1880.0  50.77500   \n",
              "1    Aarhus    2    Valid           H6     720.0  Fell  1951.0  56.18333   \n",
              "2      Abee    6    Valid          EH4  107000.0  Fell  1952.0  54.21667   \n",
              "3  Acapulco   10    Valid  Acapulcoite    1914.0  Fell  1976.0  16.88333   \n",
              "4   Achiras  370    Valid           L6     780.0  Fell  1902.0 -33.16667   \n",
              "\n",
              "     reclong               GeoLocation  \n",
              "0    6.08333     (50.775000, 6.083330)  \n",
              "1   10.23333    (56.183330, 10.233330)  \n",
              "2 -113.00000  (54.216670, -113.000000)  \n",
              "3  -99.90000   (16.883330, -99.900000)  \n",
              "4  -64.95000  (-33.166670, -64.950000)  "
            ],
            "text/html": [
              "\n",
              "  <div id=\"df-3049bed3-a323-464c-b112-4a0a16f3ac83\" class=\"colab-df-container\">\n",
              "    <div>\n",
              "<style scoped>\n",
              "    .dataframe tbody tr th:only-of-type {\n",
              "        vertical-align: middle;\n",
              "    }\n",
              "\n",
              "    .dataframe tbody tr th {\n",
              "        vertical-align: top;\n",
              "    }\n",
              "\n",
              "    .dataframe thead th {\n",
              "        text-align: right;\n",
              "    }\n",
              "</style>\n",
              "<table border=\"1\" class=\"dataframe\">\n",
              "  <thead>\n",
              "    <tr style=\"text-align: right;\">\n",
              "      <th></th>\n",
              "      <th>name</th>\n",
              "      <th>id</th>\n",
              "      <th>nametype</th>\n",
              "      <th>recclass</th>\n",
              "      <th>mass</th>\n",
              "      <th>fall</th>\n",
              "      <th>year</th>\n",
              "      <th>reclat</th>\n",
              "      <th>reclong</th>\n",
              "      <th>GeoLocation</th>\n",
              "    </tr>\n",
              "  </thead>\n",
              "  <tbody>\n",
              "    <tr>\n",
              "      <th>0</th>\n",
              "      <td>Aachen</td>\n",
              "      <td>1</td>\n",
              "      <td>Valid</td>\n",
              "      <td>L5</td>\n",
              "      <td>21.0</td>\n",
              "      <td>Fell</td>\n",
              "      <td>1880.0</td>\n",
              "      <td>50.77500</td>\n",
              "      <td>6.08333</td>\n",
              "      <td>(50.775000, 6.083330)</td>\n",
              "    </tr>\n",
              "    <tr>\n",
              "      <th>1</th>\n",
              "      <td>Aarhus</td>\n",
              "      <td>2</td>\n",
              "      <td>Valid</td>\n",
              "      <td>H6</td>\n",
              "      <td>720.0</td>\n",
              "      <td>Fell</td>\n",
              "      <td>1951.0</td>\n",
              "      <td>56.18333</td>\n",
              "      <td>10.23333</td>\n",
              "      <td>(56.183330, 10.233330)</td>\n",
              "    </tr>\n",
              "    <tr>\n",
              "      <th>2</th>\n",
              "      <td>Abee</td>\n",
              "      <td>6</td>\n",
              "      <td>Valid</td>\n",
              "      <td>EH4</td>\n",
              "      <td>107000.0</td>\n",
              "      <td>Fell</td>\n",
              "      <td>1952.0</td>\n",
              "      <td>54.21667</td>\n",
              "      <td>-113.00000</td>\n",
              "      <td>(54.216670, -113.000000)</td>\n",
              "    </tr>\n",
              "    <tr>\n",
              "      <th>3</th>\n",
              "      <td>Acapulco</td>\n",
              "      <td>10</td>\n",
              "      <td>Valid</td>\n",
              "      <td>Acapulcoite</td>\n",
              "      <td>1914.0</td>\n",
              "      <td>Fell</td>\n",
              "      <td>1976.0</td>\n",
              "      <td>16.88333</td>\n",
              "      <td>-99.90000</td>\n",
              "      <td>(16.883330, -99.900000)</td>\n",
              "    </tr>\n",
              "    <tr>\n",
              "      <th>4</th>\n",
              "      <td>Achiras</td>\n",
              "      <td>370</td>\n",
              "      <td>Valid</td>\n",
              "      <td>L6</td>\n",
              "      <td>780.0</td>\n",
              "      <td>Fell</td>\n",
              "      <td>1902.0</td>\n",
              "      <td>-33.16667</td>\n",
              "      <td>-64.95000</td>\n",
              "      <td>(-33.166670, -64.950000)</td>\n",
              "    </tr>\n",
              "  </tbody>\n",
              "</table>\n",
              "</div>\n",
              "    <div class=\"colab-df-buttons\">\n",
              "\n",
              "  <div class=\"colab-df-container\">\n",
              "    <button class=\"colab-df-convert\" onclick=\"convertToInteractive('df-3049bed3-a323-464c-b112-4a0a16f3ac83')\"\n",
              "            title=\"Convert this dataframe to an interactive table.\"\n",
              "            style=\"display:none;\">\n",
              "\n",
              "  <svg xmlns=\"http://www.w3.org/2000/svg\" height=\"24px\" viewBox=\"0 -960 960 960\">\n",
              "    <path d=\"M120-120v-720h720v720H120Zm60-500h600v-160H180v160Zm220 220h160v-160H400v160Zm0 220h160v-160H400v160ZM180-400h160v-160H180v160Zm440 0h160v-160H620v160ZM180-180h160v-160H180v160Zm440 0h160v-160H620v160Z\"/>\n",
              "  </svg>\n",
              "    </button>\n",
              "\n",
              "  <style>\n",
              "    .colab-df-container {\n",
              "      display:flex;\n",
              "      gap: 12px;\n",
              "    }\n",
              "\n",
              "    .colab-df-convert {\n",
              "      background-color: #E8F0FE;\n",
              "      border: none;\n",
              "      border-radius: 50%;\n",
              "      cursor: pointer;\n",
              "      display: none;\n",
              "      fill: #1967D2;\n",
              "      height: 32px;\n",
              "      padding: 0 0 0 0;\n",
              "      width: 32px;\n",
              "    }\n",
              "\n",
              "    .colab-df-convert:hover {\n",
              "      background-color: #E2EBFA;\n",
              "      box-shadow: 0px 1px 2px rgba(60, 64, 67, 0.3), 0px 1px 3px 1px rgba(60, 64, 67, 0.15);\n",
              "      fill: #174EA6;\n",
              "    }\n",
              "\n",
              "    .colab-df-buttons div {\n",
              "      margin-bottom: 4px;\n",
              "    }\n",
              "\n",
              "    [theme=dark] .colab-df-convert {\n",
              "      background-color: #3B4455;\n",
              "      fill: #D2E3FC;\n",
              "    }\n",
              "\n",
              "    [theme=dark] .colab-df-convert:hover {\n",
              "      background-color: #434B5C;\n",
              "      box-shadow: 0px 1px 3px 1px rgba(0, 0, 0, 0.15);\n",
              "      filter: drop-shadow(0px 1px 2px rgba(0, 0, 0, 0.3));\n",
              "      fill: #FFFFFF;\n",
              "    }\n",
              "  </style>\n",
              "\n",
              "    <script>\n",
              "      const buttonEl =\n",
              "        document.querySelector('#df-3049bed3-a323-464c-b112-4a0a16f3ac83 button.colab-df-convert');\n",
              "      buttonEl.style.display =\n",
              "        google.colab.kernel.accessAllowed ? 'block' : 'none';\n",
              "\n",
              "      async function convertToInteractive(key) {\n",
              "        const element = document.querySelector('#df-3049bed3-a323-464c-b112-4a0a16f3ac83');\n",
              "        const dataTable =\n",
              "          await google.colab.kernel.invokeFunction('convertToInteractive',\n",
              "                                                    [key], {});\n",
              "        if (!dataTable) return;\n",
              "\n",
              "        const docLinkHtml = 'Like what you see? Visit the ' +\n",
              "          '<a target=\"_blank\" href=https://colab.research.google.com/notebooks/data_table.ipynb>data table notebook</a>'\n",
              "          + ' to learn more about interactive tables.';\n",
              "        element.innerHTML = '';\n",
              "        dataTable['output_type'] = 'display_data';\n",
              "        await google.colab.output.renderOutput(dataTable, element);\n",
              "        const docLink = document.createElement('div');\n",
              "        docLink.innerHTML = docLinkHtml;\n",
              "        element.appendChild(docLink);\n",
              "      }\n",
              "    </script>\n",
              "  </div>\n",
              "\n",
              "\n",
              "<div id=\"df-e35792e7-1770-4c96-a149-ae70bdc89539\">\n",
              "  <button class=\"colab-df-quickchart\" onclick=\"quickchart('df-e35792e7-1770-4c96-a149-ae70bdc89539')\"\n",
              "            title=\"Suggest charts\"\n",
              "            style=\"display:none;\">\n",
              "\n",
              "<svg xmlns=\"http://www.w3.org/2000/svg\" height=\"24px\"viewBox=\"0 0 24 24\"\n",
              "     width=\"24px\">\n",
              "    <g>\n",
              "        <path d=\"M19 3H5c-1.1 0-2 .9-2 2v14c0 1.1.9 2 2 2h14c1.1 0 2-.9 2-2V5c0-1.1-.9-2-2-2zM9 17H7v-7h2v7zm4 0h-2V7h2v10zm4 0h-2v-4h2v4z\"/>\n",
              "    </g>\n",
              "</svg>\n",
              "  </button>\n",
              "\n",
              "<style>\n",
              "  .colab-df-quickchart {\n",
              "      --bg-color: #E8F0FE;\n",
              "      --fill-color: #1967D2;\n",
              "      --hover-bg-color: #E2EBFA;\n",
              "      --hover-fill-color: #174EA6;\n",
              "      --disabled-fill-color: #AAA;\n",
              "      --disabled-bg-color: #DDD;\n",
              "  }\n",
              "\n",
              "  [theme=dark] .colab-df-quickchart {\n",
              "      --bg-color: #3B4455;\n",
              "      --fill-color: #D2E3FC;\n",
              "      --hover-bg-color: #434B5C;\n",
              "      --hover-fill-color: #FFFFFF;\n",
              "      --disabled-bg-color: #3B4455;\n",
              "      --disabled-fill-color: #666;\n",
              "  }\n",
              "\n",
              "  .colab-df-quickchart {\n",
              "    background-color: var(--bg-color);\n",
              "    border: none;\n",
              "    border-radius: 50%;\n",
              "    cursor: pointer;\n",
              "    display: none;\n",
              "    fill: var(--fill-color);\n",
              "    height: 32px;\n",
              "    padding: 0;\n",
              "    width: 32px;\n",
              "  }\n",
              "\n",
              "  .colab-df-quickchart:hover {\n",
              "    background-color: var(--hover-bg-color);\n",
              "    box-shadow: 0 1px 2px rgba(60, 64, 67, 0.3), 0 1px 3px 1px rgba(60, 64, 67, 0.15);\n",
              "    fill: var(--button-hover-fill-color);\n",
              "  }\n",
              "\n",
              "  .colab-df-quickchart-complete:disabled,\n",
              "  .colab-df-quickchart-complete:disabled:hover {\n",
              "    background-color: var(--disabled-bg-color);\n",
              "    fill: var(--disabled-fill-color);\n",
              "    box-shadow: none;\n",
              "  }\n",
              "\n",
              "  .colab-df-spinner {\n",
              "    border: 2px solid var(--fill-color);\n",
              "    border-color: transparent;\n",
              "    border-bottom-color: var(--fill-color);\n",
              "    animation:\n",
              "      spin 1s steps(1) infinite;\n",
              "  }\n",
              "\n",
              "  @keyframes spin {\n",
              "    0% {\n",
              "      border-color: transparent;\n",
              "      border-bottom-color: var(--fill-color);\n",
              "      border-left-color: var(--fill-color);\n",
              "    }\n",
              "    20% {\n",
              "      border-color: transparent;\n",
              "      border-left-color: var(--fill-color);\n",
              "      border-top-color: var(--fill-color);\n",
              "    }\n",
              "    30% {\n",
              "      border-color: transparent;\n",
              "      border-left-color: var(--fill-color);\n",
              "      border-top-color: var(--fill-color);\n",
              "      border-right-color: var(--fill-color);\n",
              "    }\n",
              "    40% {\n",
              "      border-color: transparent;\n",
              "      border-right-color: var(--fill-color);\n",
              "      border-top-color: var(--fill-color);\n",
              "    }\n",
              "    60% {\n",
              "      border-color: transparent;\n",
              "      border-right-color: var(--fill-color);\n",
              "    }\n",
              "    80% {\n",
              "      border-color: transparent;\n",
              "      border-right-color: var(--fill-color);\n",
              "      border-bottom-color: var(--fill-color);\n",
              "    }\n",
              "    90% {\n",
              "      border-color: transparent;\n",
              "      border-bottom-color: var(--fill-color);\n",
              "    }\n",
              "  }\n",
              "</style>\n",
              "\n",
              "  <script>\n",
              "    async function quickchart(key) {\n",
              "      const quickchartButtonEl =\n",
              "        document.querySelector('#' + key + ' button');\n",
              "      quickchartButtonEl.disabled = true;  // To prevent multiple clicks.\n",
              "      quickchartButtonEl.classList.add('colab-df-spinner');\n",
              "      try {\n",
              "        const charts = await google.colab.kernel.invokeFunction(\n",
              "            'suggestCharts', [key], {});\n",
              "      } catch (error) {\n",
              "        console.error('Error during call to suggestCharts:', error);\n",
              "      }\n",
              "      quickchartButtonEl.classList.remove('colab-df-spinner');\n",
              "      quickchartButtonEl.classList.add('colab-df-quickchart-complete');\n",
              "    }\n",
              "    (() => {\n",
              "      let quickchartButtonEl =\n",
              "        document.querySelector('#df-e35792e7-1770-4c96-a149-ae70bdc89539 button');\n",
              "      quickchartButtonEl.style.display =\n",
              "        google.colab.kernel.accessAllowed ? 'block' : 'none';\n",
              "    })();\n",
              "  </script>\n",
              "</div>\n",
              "\n",
              "    </div>\n",
              "  </div>\n"
            ],
            "application/vnd.google.colaboratory.intrinsic+json": {
              "type": "dataframe",
              "variable_name": "m_df",
              "summary": "{\n  \"name\": \"m_df\",\n  \"rows\": 45716,\n  \"fields\": [\n    {\n      \"column\": \"name\",\n      \"properties\": {\n        \"dtype\": \"string\",\n        \"num_unique_values\": 45716,\n        \"samples\": [\n          \"Grove Mountains 024448\",\n          \"LaPaz Icefield 02399\",\n          \"Yamato 86739\"\n        ],\n        \"semantic_type\": \"\",\n        \"description\": \"\"\n      }\n    },\n    {\n      \"column\": \"id\",\n      \"properties\": {\n        \"dtype\": \"number\",\n        \"std\": 16860,\n        \"min\": 1,\n        \"max\": 57458,\n        \"num_unique_values\": 45716,\n        \"samples\": [\n          50219,\n          12666,\n          30245\n        ],\n        \"semantic_type\": \"\",\n        \"description\": \"\"\n      }\n    },\n    {\n      \"column\": \"nametype\",\n      \"properties\": {\n        \"dtype\": \"category\",\n        \"num_unique_values\": 2,\n        \"samples\": [\n          \"Relict\",\n          \"Valid\"\n        ],\n        \"semantic_type\": \"\",\n        \"description\": \"\"\n      }\n    },\n    {\n      \"column\": \"recclass\",\n      \"properties\": {\n        \"dtype\": \"category\",\n        \"num_unique_values\": 466,\n        \"samples\": [\n          \"H5-6\",\n          \"CO3.3\"\n        ],\n        \"semantic_type\": \"\",\n        \"description\": \"\"\n      }\n    },\n    {\n      \"column\": \"mass\",\n      \"properties\": {\n        \"dtype\": \"number\",\n        \"std\": 574988.8764104699,\n        \"min\": 0.0,\n        \"max\": 60000000.0,\n        \"num_unique_values\": 12576,\n        \"samples\": [\n          1521.1,\n          42.66\n        ],\n        \"semantic_type\": \"\",\n        \"description\": \"\"\n      }\n    },\n    {\n      \"column\": \"fall\",\n      \"properties\": {\n        \"dtype\": \"category\",\n        \"num_unique_values\": 2,\n        \"samples\": [\n          \"Found\",\n          \"Fell\"\n        ],\n        \"semantic_type\": \"\",\n        \"description\": \"\"\n      }\n    },\n    {\n      \"column\": \"year\",\n      \"properties\": {\n        \"dtype\": \"number\",\n        \"std\": 27.181247276035737,\n        \"min\": 301.0,\n        \"max\": 2501.0,\n        \"num_unique_values\": 268,\n        \"samples\": [\n          1861.0,\n          1801.0\n        ],\n        \"semantic_type\": \"\",\n        \"description\": \"\"\n      }\n    },\n    {\n      \"column\": \"reclat\",\n      \"properties\": {\n        \"dtype\": \"number\",\n        \"std\": 46.37851135669297,\n        \"min\": -87.36667,\n        \"max\": 81.16667,\n        \"num_unique_values\": 12738,\n        \"samples\": [\n          21.06917,\n          20.53877\n        ],\n        \"semantic_type\": \"\",\n        \"description\": \"\"\n      }\n    },\n    {\n      \"column\": \"reclong\",\n      \"properties\": {\n        \"dtype\": \"number\",\n        \"std\": 80.64729807906366,\n        \"min\": -165.43333,\n        \"max\": 354.47333,\n        \"num_unique_values\": 14640,\n        \"samples\": [\n          54.70452,\n          161.37957\n        ],\n        \"semantic_type\": \"\",\n        \"description\": \"\"\n      }\n    },\n    {\n      \"column\": \"GeoLocation\",\n      \"properties\": {\n        \"dtype\": \"category\",\n        \"num_unique_values\": 17100,\n        \"samples\": [\n          \"(18.588330, 54.018330)\",\n          \"(-72.777780, 75.326390)\"\n        ],\n        \"semantic_type\": \"\",\n        \"description\": \"\"\n      }\n    }\n  ]\n}"
            }
          },
          "metadata": {},
          "execution_count": 73
        }
      ]
    },
    {
      "cell_type": "code",
      "source": [
        "#Find the number of rows and columns in the DataFrame.\n",
        "m_df.shape"
      ],
      "metadata": {
        "colab": {
          "base_uri": "https://localhost:8080/"
        },
        "id": "iixuBJaPQcgq",
        "outputId": "7ed21f95-786c-4f3c-c6a8-caec31eeec68"
      },
      "execution_count": null,
      "outputs": [
        {
          "output_type": "execute_result",
          "data": {
            "text/plain": [
              "(45716, 10)"
            ]
          },
          "metadata": {},
          "execution_count": 74
        }
      ]
    },
    {
      "cell_type": "markdown",
      "source": [
        "**The Data**\n",
        "\n",
        "\n",
        "Note that a few column names start with `rec`(e.g., `recclass`, `reclat`, `reclong` ). These are the recommended values of these variables, according to The Meteoritical Society. In some cases, there were historical reclassification of a meteorite, or small changes in the data on where it was recovered; this dataset gives the currently recommended values.\n",
        "\n",
        "\n",
        "\n",
        "The dataset contains the following variables:\n",
        "\n",
        "1. `name`: the name of the place where a meteorite was found or observed.\n",
        "\n",
        "2. `id`: a unique identifier for a meteorite.\n",
        "\n",
        "3. `nametype`: one of the following:\n",
        "    \n",
        "    - `valid`: a typical meteorite.\n",
        "    \n",
        "    - `relict`: a meteorite that has been highly degraded by the weather on Earth.\n",
        "\n",
        "4. `recclass`: the class of the meteorite; one of a large number of classes based on physical, chemical, and other characteristics.  (see the Wikipedia article on meteorite classification for a primer) to learn about the meteorite classification.\n",
        "\n",
        "5. `mass:` the mass of the meteorite, in grams\n",
        "\n",
        "6. `fall`: whether the meteorite was seen falling, or was discovered after its impact; one of the following:\n",
        "\n",
        "    - `Fell`: the meteorite's fall was observed.\n",
        "    \n",
        "    - `Found`: the meteorite's fall was not observed.\n",
        "\n",
        "7. `year`: the year the meteorite fell, or the year it was found (depending on the value of fell).\n",
        "\n",
        "8. `reclat`: the latitude of the meteorite's landing.\n",
        "\n",
        "9. `reclong`: the longitude of the meteorite's landing.\n",
        "\n",
        "10. `GeoLocation`: a parentheses-enclose, comma-separated tuple that combines reclat and reclong.\n"
      ],
      "metadata": {
        "id": "OJh4pLq3NfWk"
      }
    },
    {
      "cell_type": "markdown",
      "source": [
        "**About Dataset**\n",
        "\n",
        "The Meteoritical Society collects data on meteorites that have fallen to Earth from outer space. This dataset includes the location, mass, composition, and fall year for over 45,000 meteorites that have struck our planet.\n",
        "\n",
        "**Notes on missing or incorrect data points:**\n",
        "\n",
        "- a few entries here contain date information that was incorrectly parsed into the NASA database. As a spot check: any date that is before 860 CE or after 2016 are incorrect; these should actually be BCE years. There may be other errors and we are looking for a way to identify them.\n",
        "- a few entries have latitude and longitude of 0N/0E (off the western coast of Africa, where it would be quite difficult to recover meteorites). Many of these were actually discovered in Antarctica, but exact coordinates were not given. 0N/0E locations should probably be treated as NA."
      ],
      "metadata": {
        "id": "9NmZ469tOlWw"
      }
    },
    {
      "cell_type": "markdown",
      "source": [
        "**What can we do with this data?**\n",
        "\n",
        "Here are a couple of thoughts on questions to ask and ways to look at this data:\n",
        "\n",
        "- How does the geographical distribution of observed falls differ from that of found meteorites?\n",
        "- This would be great overlaid on a cartogram and\n",
        "are there any geographical differences or differences over time in the class of meteorites that have fallen to Earth?"
      ],
      "metadata": {
        "id": "K8jkvdlkOzMz"
      }
    },
    {
      "cell_type": "markdown",
      "source": [
        "### Activity 3: Percentiles (or Quartiles)"
      ],
      "metadata": {
        "id": "MOxDhqw0mgR4"
      }
    },
    {
      "cell_type": "code",
      "source": [
        "m_df.head()"
      ],
      "metadata": {
        "colab": {
          "base_uri": "https://localhost:8080/",
          "height": 206
        },
        "id": "R6ky6YIfMWPC",
        "outputId": "07f0c652-4e4f-4120-e33e-d3c7a8df2b88"
      },
      "execution_count": null,
      "outputs": [
        {
          "output_type": "execute_result",
          "data": {
            "text/plain": [
              "       name   id nametype     recclass      mass  fall    year    reclat  \\\n",
              "0    Aachen    1    Valid           L5      21.0  Fell  1880.0  50.77500   \n",
              "1    Aarhus    2    Valid           H6     720.0  Fell  1951.0  56.18333   \n",
              "2      Abee    6    Valid          EH4  107000.0  Fell  1952.0  54.21667   \n",
              "3  Acapulco   10    Valid  Acapulcoite    1914.0  Fell  1976.0  16.88333   \n",
              "4   Achiras  370    Valid           L6     780.0  Fell  1902.0 -33.16667   \n",
              "\n",
              "     reclong               GeoLocation  \n",
              "0    6.08333     (50.775000, 6.083330)  \n",
              "1   10.23333    (56.183330, 10.233330)  \n",
              "2 -113.00000  (54.216670, -113.000000)  \n",
              "3  -99.90000   (16.883330, -99.900000)  \n",
              "4  -64.95000  (-33.166670, -64.950000)  "
            ],
            "text/html": [
              "\n",
              "  <div id=\"df-1bf06399-3a16-4bfd-9b3f-46fe556aaf57\" class=\"colab-df-container\">\n",
              "    <div>\n",
              "<style scoped>\n",
              "    .dataframe tbody tr th:only-of-type {\n",
              "        vertical-align: middle;\n",
              "    }\n",
              "\n",
              "    .dataframe tbody tr th {\n",
              "        vertical-align: top;\n",
              "    }\n",
              "\n",
              "    .dataframe thead th {\n",
              "        text-align: right;\n",
              "    }\n",
              "</style>\n",
              "<table border=\"1\" class=\"dataframe\">\n",
              "  <thead>\n",
              "    <tr style=\"text-align: right;\">\n",
              "      <th></th>\n",
              "      <th>name</th>\n",
              "      <th>id</th>\n",
              "      <th>nametype</th>\n",
              "      <th>recclass</th>\n",
              "      <th>mass</th>\n",
              "      <th>fall</th>\n",
              "      <th>year</th>\n",
              "      <th>reclat</th>\n",
              "      <th>reclong</th>\n",
              "      <th>GeoLocation</th>\n",
              "    </tr>\n",
              "  </thead>\n",
              "  <tbody>\n",
              "    <tr>\n",
              "      <th>0</th>\n",
              "      <td>Aachen</td>\n",
              "      <td>1</td>\n",
              "      <td>Valid</td>\n",
              "      <td>L5</td>\n",
              "      <td>21.0</td>\n",
              "      <td>Fell</td>\n",
              "      <td>1880.0</td>\n",
              "      <td>50.77500</td>\n",
              "      <td>6.08333</td>\n",
              "      <td>(50.775000, 6.083330)</td>\n",
              "    </tr>\n",
              "    <tr>\n",
              "      <th>1</th>\n",
              "      <td>Aarhus</td>\n",
              "      <td>2</td>\n",
              "      <td>Valid</td>\n",
              "      <td>H6</td>\n",
              "      <td>720.0</td>\n",
              "      <td>Fell</td>\n",
              "      <td>1951.0</td>\n",
              "      <td>56.18333</td>\n",
              "      <td>10.23333</td>\n",
              "      <td>(56.183330, 10.233330)</td>\n",
              "    </tr>\n",
              "    <tr>\n",
              "      <th>2</th>\n",
              "      <td>Abee</td>\n",
              "      <td>6</td>\n",
              "      <td>Valid</td>\n",
              "      <td>EH4</td>\n",
              "      <td>107000.0</td>\n",
              "      <td>Fell</td>\n",
              "      <td>1952.0</td>\n",
              "      <td>54.21667</td>\n",
              "      <td>-113.00000</td>\n",
              "      <td>(54.216670, -113.000000)</td>\n",
              "    </tr>\n",
              "    <tr>\n",
              "      <th>3</th>\n",
              "      <td>Acapulco</td>\n",
              "      <td>10</td>\n",
              "      <td>Valid</td>\n",
              "      <td>Acapulcoite</td>\n",
              "      <td>1914.0</td>\n",
              "      <td>Fell</td>\n",
              "      <td>1976.0</td>\n",
              "      <td>16.88333</td>\n",
              "      <td>-99.90000</td>\n",
              "      <td>(16.883330, -99.900000)</td>\n",
              "    </tr>\n",
              "    <tr>\n",
              "      <th>4</th>\n",
              "      <td>Achiras</td>\n",
              "      <td>370</td>\n",
              "      <td>Valid</td>\n",
              "      <td>L6</td>\n",
              "      <td>780.0</td>\n",
              "      <td>Fell</td>\n",
              "      <td>1902.0</td>\n",
              "      <td>-33.16667</td>\n",
              "      <td>-64.95000</td>\n",
              "      <td>(-33.166670, -64.950000)</td>\n",
              "    </tr>\n",
              "  </tbody>\n",
              "</table>\n",
              "</div>\n",
              "    <div class=\"colab-df-buttons\">\n",
              "\n",
              "  <div class=\"colab-df-container\">\n",
              "    <button class=\"colab-df-convert\" onclick=\"convertToInteractive('df-1bf06399-3a16-4bfd-9b3f-46fe556aaf57')\"\n",
              "            title=\"Convert this dataframe to an interactive table.\"\n",
              "            style=\"display:none;\">\n",
              "\n",
              "  <svg xmlns=\"http://www.w3.org/2000/svg\" height=\"24px\" viewBox=\"0 -960 960 960\">\n",
              "    <path d=\"M120-120v-720h720v720H120Zm60-500h600v-160H180v160Zm220 220h160v-160H400v160Zm0 220h160v-160H400v160ZM180-400h160v-160H180v160Zm440 0h160v-160H620v160ZM180-180h160v-160H180v160Zm440 0h160v-160H620v160Z\"/>\n",
              "  </svg>\n",
              "    </button>\n",
              "\n",
              "  <style>\n",
              "    .colab-df-container {\n",
              "      display:flex;\n",
              "      gap: 12px;\n",
              "    }\n",
              "\n",
              "    .colab-df-convert {\n",
              "      background-color: #E8F0FE;\n",
              "      border: none;\n",
              "      border-radius: 50%;\n",
              "      cursor: pointer;\n",
              "      display: none;\n",
              "      fill: #1967D2;\n",
              "      height: 32px;\n",
              "      padding: 0 0 0 0;\n",
              "      width: 32px;\n",
              "    }\n",
              "\n",
              "    .colab-df-convert:hover {\n",
              "      background-color: #E2EBFA;\n",
              "      box-shadow: 0px 1px 2px rgba(60, 64, 67, 0.3), 0px 1px 3px 1px rgba(60, 64, 67, 0.15);\n",
              "      fill: #174EA6;\n",
              "    }\n",
              "\n",
              "    .colab-df-buttons div {\n",
              "      margin-bottom: 4px;\n",
              "    }\n",
              "\n",
              "    [theme=dark] .colab-df-convert {\n",
              "      background-color: #3B4455;\n",
              "      fill: #D2E3FC;\n",
              "    }\n",
              "\n",
              "    [theme=dark] .colab-df-convert:hover {\n",
              "      background-color: #434B5C;\n",
              "      box-shadow: 0px 1px 3px 1px rgba(0, 0, 0, 0.15);\n",
              "      filter: drop-shadow(0px 1px 2px rgba(0, 0, 0, 0.3));\n",
              "      fill: #FFFFFF;\n",
              "    }\n",
              "  </style>\n",
              "\n",
              "    <script>\n",
              "      const buttonEl =\n",
              "        document.querySelector('#df-1bf06399-3a16-4bfd-9b3f-46fe556aaf57 button.colab-df-convert');\n",
              "      buttonEl.style.display =\n",
              "        google.colab.kernel.accessAllowed ? 'block' : 'none';\n",
              "\n",
              "      async function convertToInteractive(key) {\n",
              "        const element = document.querySelector('#df-1bf06399-3a16-4bfd-9b3f-46fe556aaf57');\n",
              "        const dataTable =\n",
              "          await google.colab.kernel.invokeFunction('convertToInteractive',\n",
              "                                                    [key], {});\n",
              "        if (!dataTable) return;\n",
              "\n",
              "        const docLinkHtml = 'Like what you see? Visit the ' +\n",
              "          '<a target=\"_blank\" href=https://colab.research.google.com/notebooks/data_table.ipynb>data table notebook</a>'\n",
              "          + ' to learn more about interactive tables.';\n",
              "        element.innerHTML = '';\n",
              "        dataTable['output_type'] = 'display_data';\n",
              "        await google.colab.output.renderOutput(dataTable, element);\n",
              "        const docLink = document.createElement('div');\n",
              "        docLink.innerHTML = docLinkHtml;\n",
              "        element.appendChild(docLink);\n",
              "      }\n",
              "    </script>\n",
              "  </div>\n",
              "\n",
              "\n",
              "<div id=\"df-01446a2a-684f-4ce8-92c2-013514f67a2c\">\n",
              "  <button class=\"colab-df-quickchart\" onclick=\"quickchart('df-01446a2a-684f-4ce8-92c2-013514f67a2c')\"\n",
              "            title=\"Suggest charts\"\n",
              "            style=\"display:none;\">\n",
              "\n",
              "<svg xmlns=\"http://www.w3.org/2000/svg\" height=\"24px\"viewBox=\"0 0 24 24\"\n",
              "     width=\"24px\">\n",
              "    <g>\n",
              "        <path d=\"M19 3H5c-1.1 0-2 .9-2 2v14c0 1.1.9 2 2 2h14c1.1 0 2-.9 2-2V5c0-1.1-.9-2-2-2zM9 17H7v-7h2v7zm4 0h-2V7h2v10zm4 0h-2v-4h2v4z\"/>\n",
              "    </g>\n",
              "</svg>\n",
              "  </button>\n",
              "\n",
              "<style>\n",
              "  .colab-df-quickchart {\n",
              "      --bg-color: #E8F0FE;\n",
              "      --fill-color: #1967D2;\n",
              "      --hover-bg-color: #E2EBFA;\n",
              "      --hover-fill-color: #174EA6;\n",
              "      --disabled-fill-color: #AAA;\n",
              "      --disabled-bg-color: #DDD;\n",
              "  }\n",
              "\n",
              "  [theme=dark] .colab-df-quickchart {\n",
              "      --bg-color: #3B4455;\n",
              "      --fill-color: #D2E3FC;\n",
              "      --hover-bg-color: #434B5C;\n",
              "      --hover-fill-color: #FFFFFF;\n",
              "      --disabled-bg-color: #3B4455;\n",
              "      --disabled-fill-color: #666;\n",
              "  }\n",
              "\n",
              "  .colab-df-quickchart {\n",
              "    background-color: var(--bg-color);\n",
              "    border: none;\n",
              "    border-radius: 50%;\n",
              "    cursor: pointer;\n",
              "    display: none;\n",
              "    fill: var(--fill-color);\n",
              "    height: 32px;\n",
              "    padding: 0;\n",
              "    width: 32px;\n",
              "  }\n",
              "\n",
              "  .colab-df-quickchart:hover {\n",
              "    background-color: var(--hover-bg-color);\n",
              "    box-shadow: 0 1px 2px rgba(60, 64, 67, 0.3), 0 1px 3px 1px rgba(60, 64, 67, 0.15);\n",
              "    fill: var(--button-hover-fill-color);\n",
              "  }\n",
              "\n",
              "  .colab-df-quickchart-complete:disabled,\n",
              "  .colab-df-quickchart-complete:disabled:hover {\n",
              "    background-color: var(--disabled-bg-color);\n",
              "    fill: var(--disabled-fill-color);\n",
              "    box-shadow: none;\n",
              "  }\n",
              "\n",
              "  .colab-df-spinner {\n",
              "    border: 2px solid var(--fill-color);\n",
              "    border-color: transparent;\n",
              "    border-bottom-color: var(--fill-color);\n",
              "    animation:\n",
              "      spin 1s steps(1) infinite;\n",
              "  }\n",
              "\n",
              "  @keyframes spin {\n",
              "    0% {\n",
              "      border-color: transparent;\n",
              "      border-bottom-color: var(--fill-color);\n",
              "      border-left-color: var(--fill-color);\n",
              "    }\n",
              "    20% {\n",
              "      border-color: transparent;\n",
              "      border-left-color: var(--fill-color);\n",
              "      border-top-color: var(--fill-color);\n",
              "    }\n",
              "    30% {\n",
              "      border-color: transparent;\n",
              "      border-left-color: var(--fill-color);\n",
              "      border-top-color: var(--fill-color);\n",
              "      border-right-color: var(--fill-color);\n",
              "    }\n",
              "    40% {\n",
              "      border-color: transparent;\n",
              "      border-right-color: var(--fill-color);\n",
              "      border-top-color: var(--fill-color);\n",
              "    }\n",
              "    60% {\n",
              "      border-color: transparent;\n",
              "      border-right-color: var(--fill-color);\n",
              "    }\n",
              "    80% {\n",
              "      border-color: transparent;\n",
              "      border-right-color: var(--fill-color);\n",
              "      border-bottom-color: var(--fill-color);\n",
              "    }\n",
              "    90% {\n",
              "      border-color: transparent;\n",
              "      border-bottom-color: var(--fill-color);\n",
              "    }\n",
              "  }\n",
              "</style>\n",
              "\n",
              "  <script>\n",
              "    async function quickchart(key) {\n",
              "      const quickchartButtonEl =\n",
              "        document.querySelector('#' + key + ' button');\n",
              "      quickchartButtonEl.disabled = true;  // To prevent multiple clicks.\n",
              "      quickchartButtonEl.classList.add('colab-df-spinner');\n",
              "      try {\n",
              "        const charts = await google.colab.kernel.invokeFunction(\n",
              "            'suggestCharts', [key], {});\n",
              "      } catch (error) {\n",
              "        console.error('Error during call to suggestCharts:', error);\n",
              "      }\n",
              "      quickchartButtonEl.classList.remove('colab-df-spinner');\n",
              "      quickchartButtonEl.classList.add('colab-df-quickchart-complete');\n",
              "    }\n",
              "    (() => {\n",
              "      let quickchartButtonEl =\n",
              "        document.querySelector('#df-01446a2a-684f-4ce8-92c2-013514f67a2c button');\n",
              "      quickchartButtonEl.style.display =\n",
              "        google.colab.kernel.accessAllowed ? 'block' : 'none';\n",
              "    })();\n",
              "  </script>\n",
              "</div>\n",
              "\n",
              "    </div>\n",
              "  </div>\n"
            ],
            "application/vnd.google.colaboratory.intrinsic+json": {
              "type": "dataframe",
              "variable_name": "m_df",
              "summary": "{\n  \"name\": \"m_df\",\n  \"rows\": 45716,\n  \"fields\": [\n    {\n      \"column\": \"name\",\n      \"properties\": {\n        \"dtype\": \"string\",\n        \"num_unique_values\": 45716,\n        \"samples\": [\n          \"Grove Mountains 024448\",\n          \"LaPaz Icefield 02399\",\n          \"Yamato 86739\"\n        ],\n        \"semantic_type\": \"\",\n        \"description\": \"\"\n      }\n    },\n    {\n      \"column\": \"id\",\n      \"properties\": {\n        \"dtype\": \"number\",\n        \"std\": 16860,\n        \"min\": 1,\n        \"max\": 57458,\n        \"num_unique_values\": 45716,\n        \"samples\": [\n          50219,\n          12666,\n          30245\n        ],\n        \"semantic_type\": \"\",\n        \"description\": \"\"\n      }\n    },\n    {\n      \"column\": \"nametype\",\n      \"properties\": {\n        \"dtype\": \"category\",\n        \"num_unique_values\": 2,\n        \"samples\": [\n          \"Relict\",\n          \"Valid\"\n        ],\n        \"semantic_type\": \"\",\n        \"description\": \"\"\n      }\n    },\n    {\n      \"column\": \"recclass\",\n      \"properties\": {\n        \"dtype\": \"category\",\n        \"num_unique_values\": 466,\n        \"samples\": [\n          \"H5-6\",\n          \"CO3.3\"\n        ],\n        \"semantic_type\": \"\",\n        \"description\": \"\"\n      }\n    },\n    {\n      \"column\": \"mass\",\n      \"properties\": {\n        \"dtype\": \"number\",\n        \"std\": 574988.8764104699,\n        \"min\": 0.0,\n        \"max\": 60000000.0,\n        \"num_unique_values\": 12576,\n        \"samples\": [\n          1521.1,\n          42.66\n        ],\n        \"semantic_type\": \"\",\n        \"description\": \"\"\n      }\n    },\n    {\n      \"column\": \"fall\",\n      \"properties\": {\n        \"dtype\": \"category\",\n        \"num_unique_values\": 2,\n        \"samples\": [\n          \"Found\",\n          \"Fell\"\n        ],\n        \"semantic_type\": \"\",\n        \"description\": \"\"\n      }\n    },\n    {\n      \"column\": \"year\",\n      \"properties\": {\n        \"dtype\": \"number\",\n        \"std\": 27.181247276035737,\n        \"min\": 301.0,\n        \"max\": 2501.0,\n        \"num_unique_values\": 268,\n        \"samples\": [\n          1861.0,\n          1801.0\n        ],\n        \"semantic_type\": \"\",\n        \"description\": \"\"\n      }\n    },\n    {\n      \"column\": \"reclat\",\n      \"properties\": {\n        \"dtype\": \"number\",\n        \"std\": 46.37851135669297,\n        \"min\": -87.36667,\n        \"max\": 81.16667,\n        \"num_unique_values\": 12738,\n        \"samples\": [\n          21.06917,\n          20.53877\n        ],\n        \"semantic_type\": \"\",\n        \"description\": \"\"\n      }\n    },\n    {\n      \"column\": \"reclong\",\n      \"properties\": {\n        \"dtype\": \"number\",\n        \"std\": 80.64729807906366,\n        \"min\": -165.43333,\n        \"max\": 354.47333,\n        \"num_unique_values\": 14640,\n        \"samples\": [\n          54.70452,\n          161.37957\n        ],\n        \"semantic_type\": \"\",\n        \"description\": \"\"\n      }\n    },\n    {\n      \"column\": \"GeoLocation\",\n      \"properties\": {\n        \"dtype\": \"category\",\n        \"num_unique_values\": 17100,\n        \"samples\": [\n          \"(18.588330, 54.018330)\",\n          \"(-72.777780, 75.326390)\"\n        ],\n        \"semantic_type\": \"\",\n        \"description\": \"\"\n      }\n    }\n  ]\n}"
            }
          },
          "metadata": {},
          "execution_count": 75
        }
      ]
    },
    {
      "cell_type": "code",
      "source": [
        "m_df[\"year\"].describe()"
      ],
      "metadata": {
        "colab": {
          "base_uri": "https://localhost:8080/",
          "height": 335
        },
        "id": "GtsjaoPkMZjY",
        "outputId": "6e62602c-50ca-4417-a04e-dcf7bad15beb"
      },
      "execution_count": null,
      "outputs": [
        {
          "output_type": "execute_result",
          "data": {
            "text/plain": [
              "count    45428.000000\n",
              "mean      1991.772189\n",
              "std         27.181247\n",
              "min        301.000000\n",
              "25%       1987.000000\n",
              "50%       1998.000000\n",
              "75%       2003.000000\n",
              "max       2501.000000\n",
              "Name: year, dtype: float64"
            ],
            "text/html": [
              "<div>\n",
              "<style scoped>\n",
              "    .dataframe tbody tr th:only-of-type {\n",
              "        vertical-align: middle;\n",
              "    }\n",
              "\n",
              "    .dataframe tbody tr th {\n",
              "        vertical-align: top;\n",
              "    }\n",
              "\n",
              "    .dataframe thead th {\n",
              "        text-align: right;\n",
              "    }\n",
              "</style>\n",
              "<table border=\"1\" class=\"dataframe\">\n",
              "  <thead>\n",
              "    <tr style=\"text-align: right;\">\n",
              "      <th></th>\n",
              "      <th>year</th>\n",
              "    </tr>\n",
              "  </thead>\n",
              "  <tbody>\n",
              "    <tr>\n",
              "      <th>count</th>\n",
              "      <td>45428.000000</td>\n",
              "    </tr>\n",
              "    <tr>\n",
              "      <th>mean</th>\n",
              "      <td>1991.772189</td>\n",
              "    </tr>\n",
              "    <tr>\n",
              "      <th>std</th>\n",
              "      <td>27.181247</td>\n",
              "    </tr>\n",
              "    <tr>\n",
              "      <th>min</th>\n",
              "      <td>301.000000</td>\n",
              "    </tr>\n",
              "    <tr>\n",
              "      <th>25%</th>\n",
              "      <td>1987.000000</td>\n",
              "    </tr>\n",
              "    <tr>\n",
              "      <th>50%</th>\n",
              "      <td>1998.000000</td>\n",
              "    </tr>\n",
              "    <tr>\n",
              "      <th>75%</th>\n",
              "      <td>2003.000000</td>\n",
              "    </tr>\n",
              "    <tr>\n",
              "      <th>max</th>\n",
              "      <td>2501.000000</td>\n",
              "    </tr>\n",
              "  </tbody>\n",
              "</table>\n",
              "</div><br><label><b>dtype:</b> float64</label>"
            ]
          },
          "metadata": {},
          "execution_count": 77
        }
      ]
    },
    {
      "cell_type": "code",
      "source": [
        "#Get the descriptive statistics for the 'year' values in the 'met_df' DataFrame.\n",
        "m_df['year'].describe()"
      ],
      "metadata": {
        "id": "FeOcjWZy6Y5V"
      },
      "execution_count": null,
      "outputs": []
    },
    {
      "cell_type": "markdown",
      "source": [
        "We can also spot some of the values against the `25%, 50%` and `75%` parameters. They are called percentiles (or quartiles). Let's learn each of them one-by-one. Let's start with `25%`.\n",
        "\n",
        "**Percentiles (or Quartiles)**\n",
        "\n",
        "`25%` refers to the\n",
        "$25^{th}$\n",
        "percentile value. It is also called the **first quartile** value. *The first quartile is defined as the middle number between the smallest number and the median of the dataset.*\n",
        "\n",
        "Let's understand this concept through an example. Consider the following series of numbers,\n",
        "\n",
        "$3, 9, 6, 10, 7, 9, 7, 6, 1$\n",
        "\n",
        "After arranging them in the increasing order, we have the following series\n",
        "\n",
        "$1, 3, 6, 6, 7, 7, 9, 9, 10$\n",
        "\n",
        "The median value of the series is\n",
        "$7$\n",
        "because it is the middle value. So, the\n",
        "$25^{th}$\n",
        "percentile (or first quartile) value will be the median of the following values\n",
        "\n",
        "$1, 3, 6, 6, 7$\n",
        "\n",
        "Therefore, first quartile or\n",
        "$Q1 = 6$\n",
        "because\n",
        "$6$\n",
        "is the median of the above sub-series.\n",
        "\n",
        "**Note:** The median value is also referred to as the **second quartile** (or\n",
        "$50^{th}$\n",
        "percentile) value.\n",
        "\n",
        "Similarly, `75%` refers to the\n",
        "$75^{th}$\n",
        "percentile value. It is also called the **third quartile** value. *The third quartile is the middle value between the median and the highest value of the dataset.*\n",
        "\n",
        "So, the\n",
        "$75^{th}$\n",
        "percentile (or third quartile) value will be the median of the following values\n",
        "\n",
        "$7, 7, 9, 9, 10$\n",
        "\n",
        "Therefore, third quartile or\n",
        "$Q3 = 9$\n",
        "because\n",
        "$9$\n",
        "is the median of the above sub-series.\n",
        "\n",
        "*The first, second and third quartile values together tell the spread of the data. If a majority of the data points are spread apart from each other, then there will be a significantly large difference between the three quartile values whereas if a majority of the data points are close to each other, then all three quartile values will also be close to each other.*\n",
        "\n",
        "In the\n",
        "\n",
        "$3, 9, 6, 10, 7, 9, 7, 6, 1$\n",
        "\n",
        "series, the first, second and third quartile values are\n",
        "$Q1=6, Q2=7$\n",
        "and\n",
        "$Q3=9$\n",
        "respectively. This means the majority of the data points are quite close to each other which is quite evident from the series.\n",
        "\n",
        "Similarly, in the case of the `year` column in the `met_df` DataFrame, the three quartile values are\n",
        "$Q1=1987, Q2=1998$\n",
        "and\n",
        "$Q3=2003$\n",
        ". This also suggests that the majority of the `year` values are quite close to each other.\n",
        "\n",
        "\n",
        "\n",
        "**Standard Deviation (or `std`)**\n",
        "\n",
        "*The standard deviation is the square root of the mean of squared deviations.* It tells us how far away a data point is from the mean value. Larger the standard deviation, farther the data point from the mean value.\n",
        "\n",
        "For the above series, the mean value\n",
        "$(\\mu)$\n",
        "is\n",
        "\n",
        "$\\mu = \\frac{3+9+6+10+7+9+7+6+1}{9} = 6.44$\n",
        "\n",
        "The **deviation** is the difference between the mean value and the individual data points in a series, i.e.,\n",
        "\n",
        "$(3 - 6.44), (9 - 6.44), (6 - 6.44), (10 - 6.44), (7 - 6.44), (9 - 6.44), (7 - 6.44), (6 - 6.44), (1 - 6.44)$\n",
        "\n",
        "are the deviations in the series.\n",
        "\n",
        "The **squared deviation** is the square of deviations, i.e.,\n",
        "\n",
        "$(3 - 6.44)^2, (9 - 6.44)^2, (6 - 6.44)^2, (10 - 6.44)^2, (7 - 6.44)^2, (9 - 6.44)^2, (7 - 6.44)^2, (6 - 6.44)^2, (1 - 6.44)^2$\n",
        "\n",
        "are the squared deviations in the series.\n",
        "\n",
        "The **mean of squared deviations (or MSD)** is a sum of all the squared deviations divided by the number number of values, i.e.,\n",
        "\n",
        "$\\frac{(3 - 6.44)^2 + (9 - 6.44)^2 + (6 - 6.44)^2 + (10 - 6.44)^2 + (7 - 6.44)^2 + (9 - 6.44)^2 + (7 - 6.44)^2 + (6 - 6.44)^2 + (1 - 6.44)^2}{9}$\n",
        "\n",
        "So, the standard deviation (or\n",
        "$std$\n",
        ") is\n",
        "\n",
        "$\\sqrt{\\frac{(3 - 6.44)^2 + (9 - 6.44)^2 + (6 - 6.44)^2 + (10 - 6.44)^2 + (7 - 6.44)^2 + (9 - 6.44)^2 + (7 - 6.44)^2 + (6 - 6.44)^2 + (1 - 6.44)^2}{9}}$\n",
        "\n",
        "$\\Rightarrow std = 2.92$\n",
        "\n",
        "The significance of the standard deviation is that the numbers,\n",
        "$9, 6, 7, 9, 7, 6$\n",
        ", from the series, lie in the range\n",
        "$(mean - std)$\n",
        "and\n",
        "$(mean + std)$\n",
        ", i.e.,\n",
        "$6.44 - 2.92 = 3.52$\n",
        "and\n",
        "$6.44 + 2.92 = 9.36$\n",
        "\n",
        "So, these numbers are closest to the mean value.\n",
        "\n",
        "The remaining three numbers,\n",
        "$1, 3$\n",
        "and\n",
        "$10$\n",
        "lie in the range\n",
        "$(mean - 2\\times std)$\n",
        "and\n",
        "$(mean + 2\\times std)$\n",
        ". So, these three numbers are farthest from the mean value.\n",
        "\n",
        "We can verify the above calculations by first creating a Pandas series using the `pd.Series()` function and then by applying the `describe()` function on the\n",
        "$3, 9, 6, 10, 7, 9, 7, 6, 1$\n",
        "series.\n",
        "\n",
        "**Note:** The MSD is also called **variance**. Therefore,\n",
        "$variance = \\sigma^2$\n",
        "where\n",
        "$\\sigma$\n",
        "is the standard deviation."
      ],
      "metadata": {
        "id": "UdZsUKY4l0xw"
      }
    },
    {
      "cell_type": "code",
      "source": [
        "pd_series = pd.Series([-8,3, 9, 6, 10, 7, 9, 7, 6, 1,20,25])\n",
        "pd_series.describe()"
      ],
      "metadata": {
        "id": "j-u-R4TI6iOj"
      },
      "execution_count": null,
      "outputs": []
    },
    {
      "cell_type": "markdown",
      "source": [
        "### Activity 4: The Boxplot\n",
        "\n",
        "Boxplots will plot the minimum, first quartile, second quartile, third quartile and maximum values in the form of a box.\n",
        "\n",
        "\n",
        "\n",
        "In a boxplot:\n",
        "\n",
        "1. The leftmost vertical line denotes the\n",
        "$Q1 - 1.5 \\times IQR$\n",
        "value where\n",
        "    \n",
        "    - $IQR$\n",
        "      stands for *inter-quartile range*. Its value is equal to\n",
        "      $Q3 - Q1$\n",
        "\n",
        "    - $Q1$\n",
        "      denotes the first quartile value\n",
        "\n",
        "    - $Q3$\n",
        "      denotes the third quartile value\n",
        "\n",
        "2. The left edge of the rectangle denotes the first quartile\n",
        "   $(Q1)$\n",
        "   value\n",
        "\n",
        "3. The middle edge in the rectangle denotes the median\n",
        "   $(Q2)$\n",
        "   value\n",
        "\n",
        "4. The right edge of the rectangle denotes the third quartile\n",
        "   $(Q3)$\n",
        "   value\n",
        "\n",
        "5. The rightmost vertical line denotes the\n",
        "   $Q3 + 1.5 \\times IQR$\n",
        "   value in the series\n",
        "\n",
        "6. The two horizontal lines are called whiskers. The length of these whiskers represent the number of values lying between the\n",
        "$Q1$ and $Q1 - 1.5 \\times IQR$\n",
        "values and the\n",
        "$Q3$\n",
        "and\n",
        "$Q3 + 1.5 \\times IQR$\n",
        "values. **Smaller the length, the fewer number of values. Larger the length, more the number of values.**\n",
        "\n",
        "7. The length of the rectangle also represents the number of values lying between the first and third quartile values.\n",
        "\n",
        "8. The filled-circles beyond the vertical lines denote the **outliers**. The outliers in a dataset are those values which are unusually too large or too small. For example in the series\n",
        "\n",
        "$$1, 3, 2, 8, 4, 8, 3, 7, 9, 3, 912109, 458825$$\n",
        "\n",
        "   the numbers $912109, 458825$ are unusually high values compared to the majority of values.\n",
        "\n",
        "To create a boxplot, we will use the `boxplot()` function from the `seaborn` library. The `seaborn` is another library for data visualisation. It is built on top of the `matplotlib.pyplot` library. For all practical purposes, the `seaborn` library is an extension to the `matplotlib.pyplot` library.\n",
        "\n",
        "Seaborn Documentation\n",
        "\n",
        "   https://seaborn.pydata.org/"
      ],
      "metadata": {
        "id": "LYaiZPjzmHfN"
      }
    },
    {
      "cell_type": "code",
      "source": [
        "pd_series.describe()"
      ],
      "metadata": {
        "id": "4hStrpTWo-Rm"
      },
      "execution_count": null,
      "outputs": []
    },
    {
      "cell_type": "code",
      "source": [
        "# create a boxplot for series\n",
        "import seaborn as sns\n",
        "plt.figure(figsize =(15,2))\n",
        "sns.boxplot(pd_series,orient=\"h\")\n",
        "plt.show()"
      ],
      "metadata": {
        "id": "0CpPI0Bl6k-P"
      },
      "execution_count": null,
      "outputs": []
    },
    {
      "cell_type": "markdown",
      "source": [
        "As you can see, the boxplot helps us in knowing the spread of the data."
      ],
      "metadata": {
        "id": "vpPSLlQYpNhD"
      }
    },
    {
      "cell_type": "code",
      "source": [
        "#Create a boxplot for the 'year' values.\n",
        "plt.figure(figsize=(15,3))\n",
        "sns.boxplot(m_df[\"year\"],orient = \"h\",)\n",
        "plt.show()"
      ],
      "metadata": {
        "id": "9dwwzQ-_6thP"
      },
      "execution_count": null,
      "outputs": []
    },
    {
      "cell_type": "code",
      "source": [
        "help(sns.boxplot)"
      ],
      "metadata": {
        "id": "5FsaJcHCaW0A"
      },
      "execution_count": null,
      "outputs": []
    },
    {
      "cell_type": "code",
      "source": [
        "#Create a boxplot for the 'mass' column\n",
        "plt.figure(figsize=(15,3))\n",
        "sns.boxplot(m_df[\"mass\"],orient = \"h\")\n",
        "plt.show()"
      ],
      "metadata": {
        "id": "lc2Rocvn6zXj"
      },
      "execution_count": null,
      "outputs": []
    },
    {
      "cell_type": "code",
      "source": [
        "#Create a descriptive statistics summary for the 'mass' column.\n",
        "m_df[\"mass\"].describe()"
      ],
      "metadata": {
        "id": "5KOAFivl66Dc"
      },
      "execution_count": null,
      "outputs": []
    },
    {
      "cell_type": "markdown",
      "metadata": {
        "id": "UGMsfDIBGCEs"
      },
      "source": [
        "---"
      ]
    }
  ]
}