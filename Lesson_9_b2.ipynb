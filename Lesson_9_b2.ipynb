{
  "nbformat": 4,
  "nbformat_minor": 0,
  "metadata": {
    "colab": {
      "provenance": [],
      "include_colab_link": true
    },
    "kernelspec": {
      "name": "python3",
      "display_name": "Python 3"
    },
    "language_info": {
      "name": "python"
    }
  },
  "cells": [
    {
      "cell_type": "markdown",
      "metadata": {
        "id": "view-in-github",
        "colab_type": "text"
      },
      "source": [
        "<a href=\"https://colab.research.google.com/github/poudyaldiksha/Data-Science-project/blob/main/Lesson_9_b2.ipynb\" target=\"_parent\"><img src=\"https://colab.research.google.com/assets/colab-badge.svg\" alt=\"Open In Colab\"/></a>"
      ]
    },
    {
      "cell_type": "markdown",
      "source": [
        "#Lesson 9: Numpy, Python Dictionaries"
      ],
      "metadata": {
        "id": "vhvSMMkg57m9"
      }
    },
    {
      "cell_type": "markdown",
      "source": [
        "###Activity 1: `reshape()`,` ravel()`,` flatten()`"
      ],
      "metadata": {
        "id": "IsTpOi5NEN13"
      }
    },
    {
      "cell_type": "code",
      "source": [
        "array_1 = np.arange(1,10)\n",
        "array_1"
      ],
      "metadata": {
        "colab": {
          "base_uri": "https://localhost:8080/"
        },
        "id": "j89IkMI7-GrY",
        "outputId": "d1143c13-d606-4d11-b107-63bd79e5a8d2"
      },
      "execution_count": null,
      "outputs": [
        {
          "output_type": "execute_result",
          "data": {
            "text/plain": [
              "array([1, 2, 3, 4, 5, 6, 7, 8, 9])"
            ]
          },
          "metadata": {},
          "execution_count": 13
        }
      ]
    },
    {
      "cell_type": "code",
      "source": [
        "# Activity: Reshape()\n",
        "import numpy as np\n",
        "array_1 = np.arange(1,10).reshape(3,3)\n",
        "array_1"
      ],
      "metadata": {
        "id": "ioMGbjzF1FbO",
        "colab": {
          "base_uri": "https://localhost:8080/"
        },
        "outputId": "1342aba3-e391-4f70-9058-ed5ac5128285"
      },
      "execution_count": null,
      "outputs": [
        {
          "output_type": "execute_result",
          "data": {
            "text/plain": [
              "array([[1, 2, 3],\n",
              "       [4, 5, 6],\n",
              "       [7, 8, 9]])"
            ]
          },
          "metadata": {},
          "execution_count": 11
        }
      ]
    },
    {
      "cell_type": "code",
      "source": [
        "array_1 = np.arange(1,10).reshape(-1,3)\n",
        "array_1"
      ],
      "metadata": {
        "colab": {
          "base_uri": "https://localhost:8080/"
        },
        "id": "6o4eX-ZR_i7t",
        "outputId": "09c4316d-db88-423a-8237-dae224674d8c"
      },
      "execution_count": null,
      "outputs": [
        {
          "output_type": "execute_result",
          "data": {
            "text/plain": [
              "array([[1, 2, 3],\n",
              "       [4, 5, 6],\n",
              "       [7, 8, 9]])"
            ]
          },
          "metadata": {},
          "execution_count": 17
        }
      ]
    },
    {
      "cell_type": "code",
      "source": [
        "arr_3 = np.arange(1,89).reshape(-1)\n",
        "arr_3.ndim"
      ],
      "metadata": {
        "colab": {
          "base_uri": "https://localhost:8080/"
        },
        "id": "-nRkviG-_rjA",
        "outputId": "d0f5aa33-e9f2-4440-cb94-2258c37a969c"
      },
      "execution_count": null,
      "outputs": [
        {
          "output_type": "execute_result",
          "data": {
            "text/plain": [
              "1"
            ]
          },
          "metadata": {},
          "execution_count": 24
        }
      ]
    },
    {
      "cell_type": "code",
      "source": [
        "# Activity: Ravel()\n",
        "arr_ravel = array_1.ravel()\n",
        "arr_ravel[2] = 8989\n",
        "print(arr_ravel,array_1)"
      ],
      "metadata": {
        "id": "gqKrYUxf1-qg",
        "colab": {
          "base_uri": "https://localhost:8080/"
        },
        "outputId": "f135489f-4307-4fc7-9da3-5086e6799774"
      },
      "execution_count": null,
      "outputs": [
        {
          "output_type": "stream",
          "name": "stdout",
          "text": [
            "[   1    2 8989    4    5    6    7    8    9] [   1    2 8989    4    5    6    7    8    9]\n"
          ]
        }
      ]
    },
    {
      "cell_type": "code",
      "source": [
        "#Activity: Flatten()\n",
        "arr_flatten = array_1.flatten()\n",
        "arr_flatten[2] = 90000\n",
        "print(arr_flatten,array_1)"
      ],
      "metadata": {
        "id": "mMIkdS1x2CYG",
        "colab": {
          "base_uri": "https://localhost:8080/"
        },
        "outputId": "71356ea7-4a78-4223-cee4-253a9cbdf7cc"
      },
      "execution_count": null,
      "outputs": [
        {
          "output_type": "stream",
          "name": "stdout",
          "text": [
            "[    1     2 90000     4     5     6     7     8     9] [   1    2 8989    4    5    6    7    8    9]\n"
          ]
        }
      ]
    },
    {
      "cell_type": "markdown",
      "source": [
        "The `ravel()` and `flatten() `functions in NumPy both return a flattened array, but they have some key differences in terms of how they handle memory:\n",
        "\n",
        "`ravel()`\n",
        "\n",
        "- Returns a flattened array.\n",
        "- Returns a view whenever possible: This means that `ravel()` tries to avoid creating a new array if it can. If the array is already contiguous in memory, it will return a view of the original array. If it can't return a view, it will return a copy.\n",
        "- Changes to the raveled array may affect the original array if it returns a view.\n",
        "\n",
        "`flatten()`\n",
        "\n",
        "- Returns a flattened array.\n",
        "- Always returns a copy: This means that `flatten()` creates a new array and the changes to the flattened array will not affect the original array.\n",
        "- Does not affect the original array: Since it returns a copy, any modifications to the flattened array will not impact the original array."
      ],
      "metadata": {
        "id": "KMqgfQZ7EN14"
      }
    },
    {
      "cell_type": "code",
      "source": [
        "# Create a 2x2 array\n",
        "arr = np.array([[1, 2],\n",
        "                [3, 4]])\n",
        "\n",
        "# Use ravel() to flatten the array\n",
        "raveled_arr = arr.ravel()\n",
        "print(\"Raveled array:\", raveled_arr)\n",
        "\n",
        "# Modify the raveled array\n",
        "raveled_arr[0] = 10\n",
        "print(\"Modified raveled array:\", raveled_arr)\n",
        "print(\"Original array after ravel modification:\", arr)\n",
        "\n"
      ],
      "metadata": {
        "id": "_lVnHkJpEN14",
        "colab": {
          "base_uri": "https://localhost:8080/"
        },
        "outputId": "3f5774f4-5b26-4a79-feba-811c379d28b2"
      },
      "execution_count": null,
      "outputs": [
        {
          "output_type": "stream",
          "name": "stdout",
          "text": [
            "Raveled array: [1 2 3 4]\n",
            "Modified raveled array: [10  2  3  4]\n",
            "Original array after ravel modification: [[10  2]\n",
            " [ 3  4]]\n"
          ]
        }
      ]
    },
    {
      "cell_type": "code",
      "source": [
        "# Create a 2x2 array\n",
        "arr = np.array([[1, 2],\n",
        "                [3, 4]])\n",
        "\n",
        "# Use flatten() to flatten the array\n",
        "flattened_arr = arr.flatten()\n",
        "print(\"Flattened array:\", flattened_arr)\n",
        "\n",
        "# Modify the flattened array\n",
        "flattened_arr[0] = 20\n",
        "print(\"Modified flattened array:\", flattened_arr)\n",
        "print(\"Original array after flatten modification:\", arr)"
      ],
      "metadata": {
        "id": "HgCLNfwt2w9A",
        "collapsed": true,
        "colab": {
          "base_uri": "https://localhost:8080/"
        },
        "outputId": "29943197-571a-4682-b608-ce4536d5b58e"
      },
      "execution_count": null,
      "outputs": [
        {
          "output_type": "stream",
          "name": "stdout",
          "text": [
            "Flattened array: [1 2 3 4]\n",
            "Modified flattened array: [20  2  3  4]\n",
            "Original array after flatten modification: [[1 2]\n",
            " [3 4]]\n"
          ]
        }
      ]
    },
    {
      "cell_type": "code",
      "source": [
        "arr = np.array([[1, 2, 3], [4, 5, 6]])\n",
        "arr"
      ],
      "metadata": {
        "colab": {
          "base_uri": "https://localhost:8080/"
        },
        "id": "rtVE68HwAcy0",
        "outputId": "772a5cc4-679d-4a91-8e6f-c42f85044632"
      },
      "execution_count": null,
      "outputs": [
        {
          "output_type": "execute_result",
          "data": {
            "text/plain": [
              "array([[1, 2, 3],\n",
              "       [4, 5, 6]])"
            ]
          },
          "metadata": {},
          "execution_count": 27
        }
      ]
    },
    {
      "cell_type": "code",
      "source": [
        "# Create a 2x3 array\n",
        "arr = np.array([[1, 2, 3], [4, 5, 6]])\n",
        "\n",
        "# C order (default)\n",
        "c_order = np.ravel(arr, order='C')\n",
        "print(\"C order:\", c_order)\n",
        "\n",
        "# F order\n",
        "f_order = np.ravel(arr, order='F')\n",
        "print(\"F order:\", f_order)"
      ],
      "metadata": {
        "id": "lGqO-ZsTusWB",
        "colab": {
          "base_uri": "https://localhost:8080/"
        },
        "outputId": "8530f8c4-a1e9-4a42-9a40-652e3c2cd3af"
      },
      "execution_count": null,
      "outputs": [
        {
          "output_type": "stream",
          "name": "stdout",
          "text": [
            "C order: [1 2 3 4 5 6]\n",
            "F order: [1 4 2 5 3 6]\n"
          ]
        }
      ]
    },
    {
      "cell_type": "markdown",
      "source": [
        "C Order: [1, 2, 3, 4, 5, 6]\n",
        "- Rows are stored sequentially: first row [1, 2, 3] followed by the second row [4, 5, 6].\n",
        "\n",
        "F Order: [1, 4, 2, 5, 3, 6]\n",
        "- Columns are stored sequentially: first column [1, 4], second column [2, 5], and third column [3, 6]."
      ],
      "metadata": {
        "id": "52lu_JN6uxl7"
      }
    },
    {
      "cell_type": "markdown",
      "source": [
        "**Practical Use Cases:**\n",
        "\n",
        "**C Order:**\n",
        "\n",
        "- Typically used when performing operations that process rows of an array.\n",
        "- Common in many numerical and scientific computations\n",
        "\n",
        "**F Order:**\n",
        "\n",
        "- Useful in linear algebra and matrix operations where column-wise processing is needed.\n",
        "\n"
      ],
      "metadata": {
        "id": "u-tgJDsyu7MM"
      }
    },
    {
      "cell_type": "markdown",
      "source": [
        "### Activity 2: Addition of arrays"
      ],
      "metadata": {
        "id": "wCWQ0Fdwpu12"
      }
    },
    {
      "cell_type": "code",
      "source": [
        "# Activity\n",
        "arr1 = np.arange(1,10).reshape(3,3)\n",
        "arr1"
      ],
      "metadata": {
        "id": "akpxqKHPunKq",
        "colab": {
          "base_uri": "https://localhost:8080/"
        },
        "outputId": "448d57c0-999d-4c05-e62f-fdffcb9b52cd"
      },
      "execution_count": null,
      "outputs": [
        {
          "output_type": "execute_result",
          "data": {
            "text/plain": [
              "array([[1, 2, 3],\n",
              "       [4, 5, 6],\n",
              "       [7, 8, 9]])"
            ]
          },
          "metadata": {},
          "execution_count": 39
        }
      ]
    },
    {
      "cell_type": "code",
      "source": [
        "arr2 = np.arange(11,20).reshape(3,3)\n",
        "arr2"
      ],
      "metadata": {
        "id": "gwSTw3d6I05G",
        "colab": {
          "base_uri": "https://localhost:8080/"
        },
        "outputId": "6a008a25-ded6-4cd5-9696-8913ffa404ef"
      },
      "execution_count": null,
      "outputs": [
        {
          "output_type": "execute_result",
          "data": {
            "text/plain": [
              "array([[11, 12, 13],\n",
              "       [14, 15, 16],\n",
              "       [17, 18, 19]])"
            ]
          },
          "metadata": {},
          "execution_count": 37
        }
      ]
    },
    {
      "cell_type": "code",
      "source": [
        "arr1 + arr2"
      ],
      "metadata": {
        "id": "-Y3fuaSMI4ln",
        "colab": {
          "base_uri": "https://localhost:8080/"
        },
        "outputId": "a9e5d264-2754-45d1-826b-4a1c29956670"
      },
      "execution_count": null,
      "outputs": [
        {
          "output_type": "execute_result",
          "data": {
            "text/plain": [
              "array([[12, 14, 16],\n",
              "       [18, 20, 22],\n",
              "       [24, 26, 28]])"
            ]
          },
          "metadata": {},
          "execution_count": 40
        }
      ]
    },
    {
      "cell_type": "code",
      "source": [
        "np.add(arr1,arr2)"
      ],
      "metadata": {
        "id": "IJXVUuIcI7JM",
        "colab": {
          "base_uri": "https://localhost:8080/"
        },
        "outputId": "f03c9bce-2f9d-4749-af6f-519fec60976d"
      },
      "execution_count": null,
      "outputs": [
        {
          "output_type": "execute_result",
          "data": {
            "text/plain": [
              "array([[12, 14, 16],\n",
              "       [18, 20, 22],\n",
              "       [24, 26, 28]])"
            ]
          },
          "metadata": {},
          "execution_count": 32
        }
      ]
    },
    {
      "cell_type": "code",
      "source": [
        "np.subtract(arr1,arr2)"
      ],
      "metadata": {
        "id": "868togPTI_xX",
        "colab": {
          "base_uri": "https://localhost:8080/"
        },
        "outputId": "61efa5b0-f944-4a30-c881-a1c448823222"
      },
      "execution_count": null,
      "outputs": [
        {
          "output_type": "execute_result",
          "data": {
            "text/plain": [
              "array([[-10, -10, -10],\n",
              "       [-10, -10, -10],\n",
              "       [-10, -10, -10]])"
            ]
          },
          "metadata": {},
          "execution_count": 33
        }
      ]
    },
    {
      "cell_type": "code",
      "source": [
        "np.multiply(arr1,arr2) # elementwise"
      ],
      "metadata": {
        "id": "gFDxvA0DJOSB",
        "colab": {
          "base_uri": "https://localhost:8080/"
        },
        "outputId": "d610ea3c-9001-4041-a38f-84045b7b86f7"
      },
      "execution_count": null,
      "outputs": [
        {
          "output_type": "execute_result",
          "data": {
            "text/plain": [
              "array([[ 11,  24,  39],\n",
              "       [ 56,  75,  96],\n",
              "       [119, 144, 171]])"
            ]
          },
          "metadata": {},
          "execution_count": 34
        }
      ]
    },
    {
      "cell_type": "code",
      "source": [
        "np.divide(arr1,arr2)"
      ],
      "metadata": {
        "id": "cQRZ45XkJUG1",
        "colab": {
          "base_uri": "https://localhost:8080/"
        },
        "outputId": "43404efb-db6c-4608-9d0e-a9b60b91ea38"
      },
      "execution_count": null,
      "outputs": [
        {
          "output_type": "execute_result",
          "data": {
            "text/plain": [
              "array([[0.09090909, 0.16666667, 0.23076923],\n",
              "       [0.28571429, 0.33333333, 0.375     ],\n",
              "       [0.41176471, 0.44444444, 0.47368421]])"
            ]
          },
          "metadata": {},
          "execution_count": 35
        }
      ]
    },
    {
      "cell_type": "code",
      "source": [
        "# Define two arrays\n",
        "array1 = np.array([[1, 2, 3], [4, 5, 6]])\n",
        "array2 = np.array([[7, 8, 9], [10, 11, 12]])\n",
        "\n",
        "# Add the arrays\n",
        "result_add = array1 + array2\n",
        "print(\"Addition:\\n\", result_add)"
      ],
      "metadata": {
        "id": "kQZ1b47GqJqq",
        "colab": {
          "base_uri": "https://localhost:8080/"
        },
        "outputId": "0b60644f-a738-489e-8863-c058d47db5ed"
      },
      "execution_count": null,
      "outputs": [
        {
          "output_type": "stream",
          "name": "stdout",
          "text": [
            "Addition:\n",
            " [[ 8 10 12]\n",
            " [14 16 18]]\n"
          ]
        }
      ]
    },
    {
      "cell_type": "markdown",
      "source": [
        "### Activity 3: Subtraction of Arrays"
      ],
      "metadata": {
        "id": "spaiJ5bKqJYs"
      }
    },
    {
      "cell_type": "code",
      "source": [
        "\n",
        "# Define two arrays\n",
        "array1 = np.array([[1, 2, 3], [4, 5, 6]])\n",
        "array2 = np.array([[7, 8, 9], [10, 11, 12]])\n",
        "\n",
        "# Subtract the arrays\n",
        "result_subtract = array1 - array2\n",
        "print(\"Subtraction:\\n\", result_subtract)"
      ],
      "metadata": {
        "id": "BtCgLEeVqUQG",
        "colab": {
          "base_uri": "https://localhost:8080/"
        },
        "outputId": "362648d3-b8b0-462c-f3ba-8436e786dcb9"
      },
      "execution_count": null,
      "outputs": [
        {
          "output_type": "stream",
          "name": "stdout",
          "text": [
            "Subtraction:\n",
            " [[-6 -6 -6]\n",
            " [-6 -6 -6]]\n"
          ]
        }
      ]
    },
    {
      "cell_type": "markdown",
      "source": [
        "### Activity 4: Multiplication of Arrays"
      ],
      "metadata": {
        "id": "r0IKrCySqVIy"
      }
    },
    {
      "cell_type": "code",
      "source": [
        "import numpy as np\n",
        "# Define two arrays\n",
        "array1 = np.array([[1, 2, 3], [4, 5, 6]])\n",
        "array2 = np.array([[7, 8, 9], [10, 11, 12]])\n",
        "\n",
        "# Multiply the arrays element-wise\n",
        "result_multiply = array1 * array2\n",
        "print(\"Element-wise Multiplication:\\n\", result_multiply)"
      ],
      "metadata": {
        "id": "ga2vrtJtqcEg",
        "colab": {
          "base_uri": "https://localhost:8080/"
        },
        "outputId": "c9cfb130-1b1c-4386-d854-e1e16774543e"
      },
      "execution_count": null,
      "outputs": [
        {
          "output_type": "stream",
          "name": "stdout",
          "text": [
            "Element-wise Multiplication:\n",
            " [[ 7 16 27]\n",
            " [40 55 72]]\n"
          ]
        }
      ]
    },
    {
      "cell_type": "markdown",
      "source": [
        "### Activity 5: Division of Arrays"
      ],
      "metadata": {
        "id": "VelsWX46qgW2"
      }
    },
    {
      "cell_type": "code",
      "source": [
        "\n",
        "# Define two arrays\n",
        "array1 = np.array([[1, 2, 3], [4, 5, 6]])\n",
        "array2 = np.array([[7, 8, 9], [10, 11, 12]])\n",
        "\n",
        "# Divide the arrays element-wise\n",
        "result_divide = array1 / array2\n",
        "print(\"Element-wise Division:\\n\", result_divide)"
      ],
      "metadata": {
        "id": "DYG-vcbMqlXj",
        "colab": {
          "base_uri": "https://localhost:8080/"
        },
        "outputId": "d4b0859e-f2f4-441d-a519-eb70f4e92178"
      },
      "execution_count": null,
      "outputs": [
        {
          "output_type": "stream",
          "name": "stdout",
          "text": [
            "Element-wise Division:\n",
            " [[0.14285714 0.25       0.33333333]\n",
            " [0.4        0.45454545 0.5       ]]\n"
          ]
        }
      ]
    },
    {
      "cell_type": "markdown",
      "source": [
        "### Activity 6: Array Multiplication (using @ operator)"
      ],
      "metadata": {
        "id": "TkW-mUZbqsnl"
      }
    },
    {
      "cell_type": "markdown",
      "source": [
        "- The @ operator in Python for numpy arrays is used for matrix multiplication, which is also known as the dot product when applied to 2D arrays (matrices).\n",
        "- While the dot product of two vectors results in a scalar, the matrix multiplication of two matrices results in another matrix.\n",
        "\n",
        "Array Multiplication Using @ Operator\n",
        "In the context of numpy, when you use the @ operator with two 2D arrays (matrices), it performs matrix multiplication."
      ],
      "metadata": {
        "id": "oL0IOJiMxlvU"
      }
    },
    {
      "cell_type": "code",
      "source": [
        "# Define two vectors\n",
        "vector_a = np.array([1, 2, 3])\n",
        "vector_b = np.array([4, 5, 6])\n",
        "\n",
        "# Dot product using @ operator\n",
        "dot_product = vector_a @ vector_b\n",
        "\n",
        "print(\"Vector A:\", vector_a)\n",
        "print(\"Vector B:\", vector_b)\n",
        "print(\"Dot Product:\", dot_product)"
      ],
      "metadata": {
        "id": "y5mJ1rQIyF3p",
        "colab": {
          "base_uri": "https://localhost:8080/"
        },
        "outputId": "8cfb2ad4-71eb-4316-a9af-f1c3a9001d65"
      },
      "execution_count": null,
      "outputs": [
        {
          "output_type": "stream",
          "name": "stdout",
          "text": [
            "Vector A: [1 2 3]\n",
            "Vector B: [4 5 6]\n",
            "Dot Product: 32\n"
          ]
        }
      ]
    },
    {
      "cell_type": "code",
      "source": [
        "# Define two arrays\n",
        "array1 = np.array([[1, 2], [3, 4], [5, 6]])\n",
        "array2 = np.array([[7, 8], [9, 10]])\n",
        "\n",
        "# Matrix multiplication using @ operator\n",
        "result_matrix_multiplication = array1 @ array2\n",
        "print(\"Matrix Multiplication (using @ operator):\\n\", result_matrix_multiplication)"
      ],
      "metadata": {
        "id": "2qsx5jLhq1On",
        "colab": {
          "base_uri": "https://localhost:8080/"
        },
        "outputId": "063287e6-815b-459a-f96b-20b0133a85a4"
      },
      "execution_count": null,
      "outputs": [
        {
          "output_type": "stream",
          "name": "stdout",
          "text": [
            "Matrix Multiplication (using @ operator):\n",
            " [[ 25  28]\n",
            " [ 57  64]\n",
            " [ 89 100]]\n"
          ]
        }
      ]
    },
    {
      "cell_type": "code",
      "source": [
        "array1 = np.array([[1, 2, 3],\n",
        "                   [4, 5, 6],\n",
        "                   [7,8,9]])\n",
        "array2 = np.array( [[11, 12, 13],\n",
        "                    [14,15,16],\n",
        "                    [17,18,19]])\n",
        "array1 @ array2"
      ],
      "metadata": {
        "colab": {
          "base_uri": "https://localhost:8080/"
        },
        "id": "1Er9cWCrlxZU",
        "outputId": "e30c5881-a9f6-4053-937a-646dc039df14"
      },
      "execution_count": null,
      "outputs": [
        {
          "output_type": "execute_result",
          "data": {
            "text/plain": [
              "array([[ 90,  96, 102],\n",
              "       [216, 231, 246],\n",
              "       [342, 366, 390]])"
            ]
          },
          "metadata": {},
          "execution_count": 47
        }
      ]
    },
    {
      "cell_type": "markdown",
      "source": [
        "Step-by-Step Calculation\n",
        "\n",
        "𝐶\n",
        "11 = (1 * 11) + (2 * 14) + (3 * 17) = 11 + 28 + 51 = 90\n",
        "\n",
        "Element\n",
        "\n",
        "𝐶\n",
        "12 = (1 * 12) + (2 * 15) + (3 * 18) = 12 + 30 + 54 = 96\n",
        "\n",
        "Element\n",
        "\n",
        "𝐶\n",
        "13 = (1 * 13) + (2 * 16) + (3 * 19)= 13 + 32 + 57 = 102\n",
        "\n",
        "Element\n",
        "\n",
        "𝐶\n",
        "21 =(4 * 11) + (5 * 14) + (6 * 17)= 44 + 70 + 102 = 216\n",
        "\n",
        "Element\n",
        "\n",
        "𝐶\n",
        "22 =(4 * 12)+(5 * 15)+(6 * 18)= 48 +75 + 108 =231\n",
        "\n",
        "\n",
        "Element\n",
        "\n",
        "𝐶\n",
        "23 =(4 * 13)+(5 * 16)+(6 * 19)= 52 + 80 + 114 = 246\n",
        "\n",
        "Element\n",
        "\n",
        "𝐶\n",
        "31 =(7 * 11)+(8 * 14)+(9 * 17)= 77 +112 +153 = 342\n",
        "\n",
        "Element\n",
        "\n",
        "𝐶\n",
        "32 =(7 * 12)+(8 * 15)+(9 * 18)= 84 + 120 +162 = 366\n",
        "\n",
        "Element\n",
        "\n",
        "𝐶\n",
        "33 =(7 * 13)+(8 * 16)+(9 * 19)= 91 + 128 + 171 = 390\n",
        "\n"
      ],
      "metadata": {
        "id": "g7R423Opy3k_"
      }
    },
    {
      "cell_type": "markdown",
      "source": [
        "### Activity 7: `argmax()` and `argmin()`"
      ],
      "metadata": {
        "id": "oerSJMKc3FDz"
      }
    },
    {
      "cell_type": "markdown",
      "source": [
        "- The `argmax()`function in NumPy is used to find the index of the maximum value in an array. It can be used with 1-dimensional arrays to return a single index or with multi-dimensional arrays to return indices along a specified axis.\n",
        "\n",
        "- The `argmin()`function in NumPy is used to find the index of the minimum value in an array."
      ],
      "metadata": {
        "id": "hRygWrhu3-I-"
      }
    },
    {
      "cell_type": "markdown",
      "source": [
        "**1D Array Example**\n",
        "For a 1D array, argmax() returns the index of the maximum value."
      ],
      "metadata": {
        "id": "DAQ52h-k5Rcb"
      }
    },
    {
      "cell_type": "code",
      "source": [
        "# For a 1D array, argmax() returns the index of the maximum value.\n",
        "arr3 =  np.array([1,3,7,2,5])\n",
        "np.max(arr3)"
      ],
      "metadata": {
        "id": "QIcbBDRV4EOq",
        "colab": {
          "base_uri": "https://localhost:8080/"
        },
        "outputId": "4bc4aab6-1dc1-432b-9ee9-c96d158b2519"
      },
      "execution_count": null,
      "outputs": [
        {
          "output_type": "execute_result",
          "data": {
            "text/plain": [
              "7"
            ]
          },
          "metadata": {},
          "execution_count": 48
        }
      ]
    },
    {
      "cell_type": "code",
      "source": [
        "np.argmax(arr3)"
      ],
      "metadata": {
        "id": "1S8FBe_oLnuK",
        "colab": {
          "base_uri": "https://localhost:8080/"
        },
        "outputId": "bb58cf99-6392-449a-f18d-2f617769a36a"
      },
      "execution_count": null,
      "outputs": [
        {
          "output_type": "execute_result",
          "data": {
            "text/plain": [
              "2"
            ]
          },
          "metadata": {},
          "execution_count": 49
        }
      ]
    },
    {
      "cell_type": "code",
      "source": [
        "np.argmin(arr3)"
      ],
      "metadata": {
        "id": "54cOx8ReLsEo",
        "colab": {
          "base_uri": "https://localhost:8080/"
        },
        "outputId": "9bfd8432-61b9-4bb7-ab22-740f8b31f3ff"
      },
      "execution_count": null,
      "outputs": [
        {
          "output_type": "execute_result",
          "data": {
            "text/plain": [
              "0"
            ]
          },
          "metadata": {},
          "execution_count": 50
        }
      ]
    },
    {
      "cell_type": "markdown",
      "source": [
        "**2D Array Example**\n",
        "\n",
        "For a 2D array, argmax() can be used to find the index of the maximum value along a specified axis."
      ],
      "metadata": {
        "id": "QWVJarhi5A0p"
      }
    },
    {
      "cell_type": "code",
      "source": [
        "matrix = np.matrix(\" 4 2; 6 -3\")\n",
        "type(matrix)"
      ],
      "metadata": {
        "colab": {
          "base_uri": "https://localhost:8080/"
        },
        "id": "byK09lAQFzht",
        "outputId": "14444471-8fae-4794-cab8-9ed6a35509ef"
      },
      "execution_count": null,
      "outputs": [
        {
          "output_type": "execute_result",
          "data": {
            "text/plain": [
              "numpy.matrix"
            ]
          },
          "metadata": {},
          "execution_count": 56
        }
      ]
    },
    {
      "cell_type": "code",
      "source": [
        "np.array(\" 4 2; 6 -3\")"
      ],
      "metadata": {
        "colab": {
          "base_uri": "https://localhost:8080/"
        },
        "id": "Dx-CtvajF6xe",
        "outputId": "9a6ba03b-91b7-4883-ad44-d86181341343"
      },
      "execution_count": null,
      "outputs": [
        {
          "output_type": "execute_result",
          "data": {
            "text/plain": [
              "array(' 4 2; 6 -3', dtype='<U10')"
            ]
          },
          "metadata": {},
          "execution_count": 55
        }
      ]
    },
    {
      "cell_type": "code",
      "source": [
        "arr = np.array([[1, 2, 3],\n",
        "                [4, 5, 6],\n",
        "                 [7, 8, 9]])\n",
        "\n",
        "# Find the index of the maximum value in the entire array\n",
        "index_of_max_flat = np.argmax(arr)\n",
        "\n",
        "# Find the index of the maximum value along each column\n",
        "index_of_max_axis0 = np.argmax(arr, axis=0)\n",
        "\n",
        "# Find the index of the maximum value along each row\n",
        "index_of_max_axis1 = np.argmax(arr, axis=1)\n",
        "\n",
        "print(\"Array:\")\n",
        "print(arr)\n",
        "print(\"\\nIndex of maximum value in the flattened array:\", index_of_max_flat)\n",
        "print(\"Index of maximum values along axis 0 (columns):\", index_of_max_axis0)\n",
        "print(\"Index of maximum values along axis 1 (rows):\", index_of_max_axis1)"
      ],
      "metadata": {
        "id": "euLR8YRe4QCd",
        "colab": {
          "base_uri": "https://localhost:8080/"
        },
        "outputId": "73fecb27-8f24-43e5-9a54-5dae36c9e231"
      },
      "execution_count": null,
      "outputs": [
        {
          "output_type": "stream",
          "name": "stdout",
          "text": [
            "Array:\n",
            "[[1 2 3]\n",
            " [4 5 6]\n",
            " [7 8 9]]\n",
            "\n",
            "Index of maximum value in the flattened array: 8\n",
            "Index of maximum values along axis 0 (columns): [2 2 2]\n",
            "Index of maximum values along axis 1 (rows): [2 2 2]\n"
          ]
        }
      ]
    },
    {
      "cell_type": "code",
      "source": [
        "index_of_max_flat = np.argmax(arr)\n",
        "index_of_max_flat"
      ],
      "metadata": {
        "id": "WSKXnuLQMB1I"
      },
      "execution_count": null,
      "outputs": []
    },
    {
      "cell_type": "code",
      "source": [
        "arr.shape"
      ],
      "metadata": {
        "id": "_MtyRZl8L4gW",
        "colab": {
          "base_uri": "https://localhost:8080/"
        },
        "outputId": "3d874e98-2168-41e3-cacb-8607bae662ec"
      },
      "execution_count": null,
      "outputs": [
        {
          "output_type": "execute_result",
          "data": {
            "text/plain": [
              "(3, 3)"
            ]
          },
          "metadata": {},
          "execution_count": 52
        }
      ]
    },
    {
      "cell_type": "markdown",
      "source": [
        "**Multi-Dimensional Array Example**\n",
        "\n",
        "For higher-dimensional arrays, argmax() can still be applied along specified axes."
      ],
      "metadata": {
        "id": "8px0XcoH5JMw"
      }
    },
    {
      "cell_type": "code",
      "source": [
        "arr = np.array([[[1, 2, 3], [4, 5, 6]],\n",
        "               [[7, 8, 9], [10, 11, 12]]])\n",
        "\n",
        "# Find the index of the maximum value in the entire array\n",
        "index_of_max_flat = np.argmax(arr)\n",
        "\n",
        "# Find the index of the maximum value along the first axis\n",
        "index_of_max_axis0 = np.argmax(arr, axis=0)\n",
        "\n",
        "# Find the index of the maximum value along the second axis\n",
        "index_of_max_axis1 = np.argmax(arr, axis=1)\n",
        "\n",
        "print(\"Array:\")\n",
        "print(arr)\n",
        "print(\"\\nIndex of maximum value in the flattened array:\", index_of_max_flat)\n",
        "print(\"Index of maximum values along axis 0:\", index_of_max_axis0)\n",
        "print(\"Index of maximum values along axis 1:\", index_of_max_axis1)"
      ],
      "metadata": {
        "id": "68yJajar47vc"
      },
      "execution_count": null,
      "outputs": []
    },
    {
      "cell_type": "code",
      "source": [
        "arr = np.array([[[1, 2, 3], [4, 5, 6]],\n",
        "               [[7, 8, 9], [10, 11, 12]]])\n",
        "\n",
        "# Find the index of the maximum value in the entire array\n",
        "index_of_max_flat = np.argmax(arr)\n",
        "index_of_max_flat"
      ],
      "metadata": {
        "id": "neH-sEDZNJNq"
      },
      "execution_count": null,
      "outputs": []
    },
    {
      "cell_type": "code",
      "source": [
        "arr = np.array([[[1, 2, 3],\n",
        "                 [4, 5, 6]],\n",
        "\n",
        "               [[7, 8, 9],\n",
        "               [10, 11, 12]]])\n",
        "index_of_max_axis0 = np.argmax(arr, axis=0)\n",
        "index_of_max_axis0"
      ],
      "metadata": {
        "id": "Rq9cASpmNS_k"
      },
      "execution_count": null,
      "outputs": []
    },
    {
      "cell_type": "code",
      "source": [
        "arr_7 = np.array([[[19, 11, 31],\n",
        "                 [42, 5, 64]],\n",
        "\n",
        "               [[7, 80, 9],\n",
        "               [10, 111, 12]]])\n",
        "index_of_max_axis0 = np.argmax(arr_7, axis=0)\n",
        "index_of_max_axis0"
      ],
      "metadata": {
        "id": "h4YD8mQlN0DU"
      },
      "execution_count": null,
      "outputs": []
    },
    {
      "cell_type": "code",
      "source": [
        "arr_7 = np.array([[[19, 11, 31],\n",
        "                 [42, 5, 64]],\n",
        "\n",
        "               [[7, 80, 9],\n",
        "               [10, 111, 12]]])\n",
        "index_of_max_axis0 = np.argmax(arr_7, axis=1)\n",
        "index_of_max_axis0"
      ],
      "metadata": {
        "id": "GPqSXNhDOON7"
      },
      "execution_count": null,
      "outputs": []
    },
    {
      "cell_type": "markdown",
      "source": [
        "**Summary**\n",
        "\n",
        "- np.argmax(array) returns the index of the maximum value in a flattened array.\n",
        "- np.argmax(array, axis=0) returns the indices of the maximum values along the specified axis 0 (columns).\n",
        "- np.argmax(array, axis=1) returns the indices of the maximum values along the specified axis 1 (rows)."
      ],
      "metadata": {
        "id": "s5MYRLE64u2N"
      }
    },
    {
      "cell_type": "markdown",
      "source": [
        "### Activity 8: Concatenate Two array"
      ],
      "metadata": {
        "id": "QpuNs9cPcIJR"
      }
    },
    {
      "cell_type": "code",
      "source": [
        "# Concatenate using concatenate() function\n",
        "np.concatenate((arr1,arr2))"
      ],
      "metadata": {
        "id": "0LrMmbp7cH5o",
        "colab": {
          "base_uri": "https://localhost:8080/"
        },
        "outputId": "b5a025ff-bf23-4651-a698-09a476cbfb2a"
      },
      "execution_count": null,
      "outputs": [
        {
          "output_type": "execute_result",
          "data": {
            "text/plain": [
              "array([[ 1,  2,  3],\n",
              "       [ 4,  5,  6],\n",
              "       [ 7,  8,  9],\n",
              "       [11, 12, 13],\n",
              "       [14, 15, 16],\n",
              "       [17, 18, 19]])"
            ]
          },
          "metadata": {},
          "execution_count": 57
        }
      ]
    },
    {
      "cell_type": "markdown",
      "source": [
        "**Row wise concatenate**"
      ],
      "metadata": {
        "id": "HPWSaLzAcTR_"
      }
    },
    {
      "cell_type": "code",
      "source": [
        "# Activity\n",
        "np.concatenate((arr1,arr2), axis= 1)"
      ],
      "metadata": {
        "id": "ie4YTM5lcQmg",
        "colab": {
          "base_uri": "https://localhost:8080/"
        },
        "outputId": "19fad4a0-7c16-419b-9472-55b7eeaac228"
      },
      "execution_count": null,
      "outputs": [
        {
          "output_type": "execute_result",
          "data": {
            "text/plain": [
              "array([[ 1,  2,  3, 11, 12, 13],\n",
              "       [ 4,  5,  6, 14, 15, 16],\n",
              "       [ 7,  8,  9, 17, 18, 19]])"
            ]
          },
          "metadata": {},
          "execution_count": 58
        }
      ]
    },
    {
      "cell_type": "markdown",
      "source": [
        "**Column wise concatenate**"
      ],
      "metadata": {
        "id": "7dSlqroMmd9l"
      }
    },
    {
      "cell_type": "code",
      "source": [
        "#Activity\n",
        "np.concatenate((arr1,arr2), axis= 0)"
      ],
      "metadata": {
        "id": "WssbroD8mkxS",
        "colab": {
          "base_uri": "https://localhost:8080/"
        },
        "outputId": "de638965-269c-4bd2-cf2f-8512afd9062b"
      },
      "execution_count": null,
      "outputs": [
        {
          "output_type": "execute_result",
          "data": {
            "text/plain": [
              "array([[ 1,  2,  3],\n",
              "       [ 4,  5,  6],\n",
              "       [ 7,  8,  9],\n",
              "       [11, 12, 13],\n",
              "       [14, 15, 16],\n",
              "       [17, 18, 19]])"
            ]
          },
          "metadata": {},
          "execution_count": 59
        }
      ]
    },
    {
      "cell_type": "markdown",
      "source": [
        "**Concatenate Two array by using Stack function**\n",
        "`vstack()` and `hstack()` are functions in NumPy used for stacking arrays either vertically or horizontally, respectively."
      ],
      "metadata": {
        "id": "GHrYFAkqcX6Z"
      }
    },
    {
      "cell_type": "markdown",
      "source": [
        "**`np.vstack()`**\n",
        "\n",
        "- Function: np.vstack() stacks arrays vertically (row-wise).\n",
        "- Usage: It takes a sequence of arrays and stacks them vertically to make a single array. The arrays must have the same number of columns (i.e., the same shape along all but the first axis)."
      ],
      "metadata": {
        "id": "eLsg0h6mm_vm"
      }
    },
    {
      "cell_type": "code",
      "source": [
        "# np.vstack() it will concatenate two array vertically\n",
        "np.vstack((arr1,arr2))\n"
      ],
      "metadata": {
        "id": "IIUiS-CCcasY",
        "colab": {
          "base_uri": "https://localhost:8080/"
        },
        "outputId": "817a9160-0d7e-436b-8f9a-2b24ce288331"
      },
      "execution_count": null,
      "outputs": [
        {
          "output_type": "execute_result",
          "data": {
            "text/plain": [
              "array([[ 1,  2,  3],\n",
              "       [ 4,  5,  6],\n",
              "       [ 7,  8,  9],\n",
              "       [11, 12, 13],\n",
              "       [14, 15, 16],\n",
              "       [17, 18, 19]])"
            ]
          },
          "metadata": {},
          "execution_count": 60
        }
      ]
    },
    {
      "cell_type": "code",
      "source": [
        "#Activity\n",
        "\n",
        "arr1 = np.array([[1, 2, 3],\n",
        "                 [4, 5, 6]])\n",
        "\n",
        "arr2 = np.array([[7, 8, 9],\n",
        "                 [10, 11, 12]])\n",
        "\n",
        "result = np.vstack((arr1, arr2))\n",
        "\n",
        "print(result)"
      ],
      "metadata": {
        "id": "cyYuWH0UnJaJ",
        "colab": {
          "base_uri": "https://localhost:8080/"
        },
        "outputId": "abb60feb-e72c-42c4-d403-0e8d0236ee65"
      },
      "execution_count": null,
      "outputs": [
        {
          "output_type": "stream",
          "name": "stdout",
          "text": [
            "[[ 1  2  3]\n",
            " [ 4  5  6]\n",
            " [ 7  8  9]\n",
            " [10 11 12]]\n"
          ]
        }
      ]
    },
    {
      "cell_type": "markdown",
      "source": [
        "**`np.hstack()`**\n",
        "\n",
        "- Function: np.hstack() stacks arrays horizontally (column-wise).\n",
        "- Usage: It takes a sequence of arrays and stacks them horizontally to make a single array. The arrays must have the same number of rows (i.e., the same shape along all but the second axis)."
      ],
      "metadata": {
        "id": "o3NZcRMInHE1"
      }
    },
    {
      "cell_type": "code",
      "source": [
        "# np.hstack() it will concatenate two array horizontally\n",
        "np.hstack((arr1,arr2))\n"
      ],
      "metadata": {
        "id": "wso7ljBoccx_",
        "colab": {
          "base_uri": "https://localhost:8080/"
        },
        "outputId": "f2d5ae81-08c7-497c-c261-a076b109ee36"
      },
      "execution_count": null,
      "outputs": [
        {
          "output_type": "execute_result",
          "data": {
            "text/plain": [
              "array([[ 1,  2,  3,  7,  8,  9],\n",
              "       [ 4,  5,  6, 10, 11, 12]])"
            ]
          },
          "metadata": {},
          "execution_count": 62
        }
      ]
    },
    {
      "cell_type": "code",
      "source": [
        "#Activity\n",
        "arr1 = np.array([[1, 2],\n",
        "                 [3, 4]])\n",
        "\n",
        "arr2 = np.array([[5, 6],\n",
        "                 [7, 8]])\n",
        "\n",
        "result = np.hstack((arr1, arr2))\n",
        "\n",
        "print(result)"
      ],
      "metadata": {
        "id": "nE0siuNbnXnd",
        "colab": {
          "base_uri": "https://localhost:8080/"
        },
        "outputId": "25e9357f-be19-4f6e-aeb2-c0fada62d3ea"
      },
      "execution_count": null,
      "outputs": [
        {
          "output_type": "stream",
          "name": "stdout",
          "text": [
            "[[1 2 5 6]\n",
            " [3 4 7 8]]\n"
          ]
        }
      ]
    },
    {
      "cell_type": "markdown",
      "source": [
        "#  Python Dictionaries\n",
        "\n"
      ],
      "metadata": {
        "id": "83FXo2hbBzyP"
      }
    },
    {
      "cell_type": "markdown",
      "source": [
        "**What are Data Structures?**\n",
        "\n",
        "In Python, data structures are used to store and organize data. They help in managing large amounts of data efficiently. Here are the main types of data structures in Python:\n",
        "\n",
        "**Built-in Data Structures:**\n",
        "- List: Ordered, mutable collection of items. Example: [1, 2, 3]\n",
        "- Tuple: Ordered, immutable collection of items. Example: (1, 2, 3)\n",
        "- Dictionary: Unordered collection of key-value pairs. Example: {'a': 1, 'b': 2}\n",
        "- Set: Unordered collection of unique items. Example: {1, 2, 3}"
      ],
      "metadata": {
        "id": "cVZzRHYabvj6"
      }
    },
    {
      "cell_type": "markdown",
      "source": [
        "**NOTE**\n",
        "\n",
        "NumPy arrays are not considered built-in data structures in Python because they are not part of the Python standard library. Instead, they are provided by an external library called NumPy, which needs to be installed separately"
      ],
      "metadata": {
        "id": "Irz7jaDUt3PL"
      }
    },
    {
      "cell_type": "markdown",
      "source": [
        "### Activity 1: Python Dictionary\n",
        "\n",
        "Similar to a Python list, a Python dictionary is also a data structure, i.e., it stores multiple values in it. **A python dictionary is a collection of key-value pairs** where each key-value pair collectively constitutes an item stored in it.\n",
        "\n",
        "So far, you learnt about Python lists in detail. In this class , you will learn about a Python dictionary and its usefulness in terms of data storage.\n",
        "\n",
        "An example of a key-value pair would be a specification of a laptop, as shown in the table below.\n",
        "\n",
        "|Key         |Value                  |\n",
        "|------------|-----------------------|\n",
        "|Ram         |16 GB                  |\n",
        "|Storage     |512 GB SSD             |\n",
        "|Graphics Card|NVIDIA GTX 1650       |\n",
        "|Display     |15.6 inches            |\n",
        "|Battery     |4000 mAh               |\n",
        "|Weight      |1.8 kg                 |\n",
        "|Price (INR) |96000                  |\n",
        "|Fast Charge |True                   |\n",
        "|Processor   |Intel Core i7          |\n",
        "\n",
        "Using the example shown in the table here, let's create a dictionary as a collection of key-value pairs.\n",
        "\n",
        "A dictionary is created using curly brackets (`{}`). A key and its corresponding value are mapped using the colon (`:`) sign and each key-value pair is separated by a comma."
      ],
      "metadata": {
        "id": "gfcBCLUSuo2a"
      }
    },
    {
      "cell_type": "code",
      "source": [
        "a ={-1:\"negative\",1:\"positive\",0:\"zero\"}\n",
        "a"
      ],
      "metadata": {
        "colab": {
          "base_uri": "https://localhost:8080/"
        },
        "id": "9R52XjPBIJ_b",
        "outputId": "f1ebff28-b99b-4347-a322-749948339338"
      },
      "execution_count": null,
      "outputs": [
        {
          "output_type": "execute_result",
          "data": {
            "text/plain": [
              "{-1: 'negative', 1: 'positive', 0: 'zero'}"
            ]
          },
          "metadata": {},
          "execution_count": 66
        }
      ]
    },
    {
      "cell_type": "code",
      "source": [
        "type(a)"
      ],
      "metadata": {
        "colab": {
          "base_uri": "https://localhost:8080/"
        },
        "id": "2kMM_v5QIT0O",
        "outputId": "bfcf5fd0-0d6d-4f63-a15e-99d9073e0e5a"
      },
      "execution_count": null,
      "outputs": [
        {
          "output_type": "execute_result",
          "data": {
            "text/plain": [
              "dict"
            ]
          },
          "metadata": {},
          "execution_count": 67
        }
      ]
    },
    {
      "cell_type": "code",
      "source": [
        "# Activity: Create a sample dictionary\n",
        "diet = { \"breakfast\" : \" dosa\", \"lunch\" : \" roti\", \"dinner \" : \"rice\"}\n",
        "diet\n"
      ],
      "metadata": {
        "colab": {
          "base_uri": "https://localhost:8080/"
        },
        "id": "xaTFTkONCRMw",
        "outputId": "17647df6-723d-4bbb-e78e-998e50d71858"
      },
      "execution_count": null,
      "outputs": [
        {
          "output_type": "execute_result",
          "data": {
            "text/plain": [
              "{'breakfast': ' dosa', 'lunch': ' roti', 'dinner ': 'rice'}"
            ]
          },
          "metadata": {},
          "execution_count": 64
        }
      ]
    },
    {
      "cell_type": "code",
      "source": [
        "type(diet)"
      ],
      "metadata": {
        "colab": {
          "base_uri": "https://localhost:8080/"
        },
        "id": "FrgzpwNKUAcw",
        "outputId": "1729e609-b936-43b7-e16d-ee89b380ac5c"
      },
      "execution_count": null,
      "outputs": [
        {
          "output_type": "execute_result",
          "data": {
            "text/plain": [
              "dict"
            ]
          },
          "metadata": {},
          "execution_count": 65
        }
      ]
    },
    {
      "cell_type": "code",
      "source": [
        "student = { \"name\" : \"john\",\n",
        "             \"age\": 25,\n",
        "             \"city\": \"newyork\"}\n",
        "student"
      ],
      "metadata": {
        "colab": {
          "base_uri": "https://localhost:8080/"
        },
        "id": "DoCBkRLWUFYp",
        "outputId": "61f657b2-4cda-4766-b2ae-04706ab180a0"
      },
      "execution_count": null,
      "outputs": [
        {
          "output_type": "execute_result",
          "data": {
            "text/plain": [
              "{'name': 'john', 'age': 25, 'city': 'newyork'}"
            ]
          },
          "metadata": {},
          "execution_count": 68
        }
      ]
    },
    {
      "cell_type": "code",
      "source": [
        "#Create a dictionary as a collection of key-value pairs containing the items shown in the table above.\n",
        "\n",
        "laptop_specs = {\n",
        "    \"Ram\": \"16 GB\",# First key-value pair\n",
        "    \"Storage\": \"512 GB SSD\",# Second key-value pair\n",
        "    \"Graphics Card\": \"NVIDIA GTX 1650\",# Third key-value pair\n",
        "    \"Display\": \"15.6 inches\",# Fourth key-value pair\n",
        "    \"Battery\": \"4000 mAh\", # Fifth key-value pair\n",
        "    \"Weight\": \"1.8 kg\",# Sixth key-value pair\n",
        "    \"Price (INR)\": 96000,# Seventh key-value pair\n",
        "    \"Fast Charge\": True,# Eighth key-value pair\n",
        "\n",
        "\n",
        "}\n",
        "\n",
        "# Printing he dictionary\n",
        "laptop_specs"
      ],
      "metadata": {
        "colab": {
          "base_uri": "https://localhost:8080/"
        },
        "id": "MHRBQ63-wIqb",
        "outputId": "0af5e102-d332-40d3-af46-7f09dac61898"
      },
      "execution_count": null,
      "outputs": [
        {
          "output_type": "execute_result",
          "data": {
            "text/plain": [
              "{'Ram': '16 GB',\n",
              " 'Storage': '512 GB SSD',\n",
              " 'Graphics Card': 'NVIDIA GTX 1650',\n",
              " 'Display': '15.6 inches',\n",
              " 'Battery': '4000 mAh',\n",
              " 'Weight': '1.8 kg',\n",
              " 'Price (INR)': 96000,\n",
              " 'Fast Charge': True}"
            ]
          },
          "metadata": {},
          "execution_count": 70
        }
      ]
    },
    {
      "cell_type": "code",
      "source": [
        "\n",
        "laptop_specs = {\n",
        "    \"Ram\": \"16 GB\",\n",
        "    \"Storage\": \"512 GB SSD\",\n",
        "    \"Graphics Card\": \"NVIDIA GTX 1650\",\n",
        "    \"Display\": \"15.6 inches\",\n",
        "    \"Battery\": \"4000 mAh\",\n",
        "    \"Weight\": \"1.8 kg\",\n",
        "    \"Price (INR)\": 96000,\n",
        "    \"Fast Charge\": True,\n",
        "\n",
        "\n",
        "}"
      ],
      "metadata": {
        "id": "bxHWjKL8FRmT"
      },
      "execution_count": null,
      "outputs": []
    },
    {
      "cell_type": "markdown",
      "source": [
        "In the above code, we have created a Python dictionary and stored it in `laptop_specs` variable. The dictionary contains 8 key-value pairs separated by a comma. The keys are of `string` data-type and the values are a mix of `string`, `int` and `bool` data types.\n",
        "\n",
        "**Note:**\n",
        "-  Even though you store an item (a key-value pair) in a specific order, a Python dictionary disregards the order. Hence, unlike a Python list, a Python dictionary is a data structure containing an **unordered** collection of items.\n",
        "-  lists maintain order based on their indices, dictionaries do not guarantee any specific order for their elements.\n",
        "-  It means that you can't retreive an item from a dictionary using indices.\n"
      ],
      "metadata": {
        "id": "BgL50K0sxwqM"
      }
    },
    {
      "cell_type": "markdown",
      "source": [
        "\n",
        "\n",
        "Behavior in Google Colab (or similar environments):\n",
        "\n",
        "- In environments like Google Colab, you might notice that dictionaries sometimes appear to maintain the order in which items were added.\n",
        "- This is due to how the environment or specific Python versions implement dictionaries. It can give the impression of order, but this behavior is not guaranteed in all Python environments or versions.\n",
        "\n",
        "**Important Note:**\n",
        "\n",
        "- When learning and using dictionaries, it’s important to understand and expect this unordered behavior, even if specific environments may show them differently.\n"
      ],
      "metadata": {
        "id": "q4YWix7z0CCv"
      }
    },
    {
      "cell_type": "markdown",
      "source": [
        "### Activity 2: Empty Python Dictionary\n",
        "\n",
        "You can also create an empty dictionary$—$a dictionary which does not have any key-value pair$—$by simply writing curly brackets `{}` only."
      ],
      "metadata": {
        "id": "_WTJA3pT0bFC"
      }
    },
    {
      "cell_type": "code",
      "source": [
        "# Create an empty dictionary.\n",
        "emp_dict = {}\n",
        "emp_dict"
      ],
      "metadata": {
        "colab": {
          "base_uri": "https://localhost:8080/"
        },
        "id": "w3BOk34m0az4",
        "outputId": "34d2a407-59ff-4609-b798-6a101305bf96"
      },
      "execution_count": null,
      "outputs": [
        {
          "output_type": "execute_result",
          "data": {
            "text/plain": [
              "{}"
            ]
          },
          "metadata": {},
          "execution_count": 71
        }
      ]
    },
    {
      "cell_type": "code",
      "source": [
        "a =(1,2,3)\n",
        "a"
      ],
      "metadata": {
        "colab": {
          "base_uri": "https://localhost:8080/"
        },
        "id": "WObegGR0JK2N",
        "outputId": "ff2fdd45-e597-47a9-9286-9e40bc0d3c79"
      },
      "execution_count": null,
      "outputs": [
        {
          "output_type": "execute_result",
          "data": {
            "text/plain": [
              "(1, 2, 3)"
            ]
          },
          "metadata": {},
          "execution_count": 72
        }
      ]
    },
    {
      "cell_type": "markdown",
      "source": [
        "### Activity 3: Important Points About Python Dictionary\n",
        "\n",
        "Here are some of the important points about a Python dictionary:\n",
        "\n",
        "1. A key in a Python dictionary can be a `str` (string), `int` (integer), `float` (a floating-point number) and a `bool` (boolean) data-type. Additionally, it can also be a tuple. In general, any immutable Python object can be a key in a Python dictionary. The term **immutable** means **unchangeable**.\n",
        "\n",
        "2. Any Python object (whether mutable or immutable) or a data-type can be a value in a Python dictionary.\n",
        "\n",
        "Let's go through a few examples for keys and values in a Python dictionary.\n",
        "\n",
        "**Booleans as keys**"
      ],
      "metadata": {
        "id": "zcloh3Om0sHG"
      }
    },
    {
      "cell_type": "code",
      "source": [
        "# Create a Python dictionary whose keys are 'True' and 'False'. You can assign them any values.\n",
        "bool_as_keys = { True : \"yes \", False :\"no\"}\n",
        "bool_as_keys"
      ],
      "metadata": {
        "colab": {
          "base_uri": "https://localhost:8080/"
        },
        "id": "3sZfoFqk0_Dm",
        "outputId": "ceeb623b-a672-4257-eace-e0eb82d1d414"
      },
      "execution_count": null,
      "outputs": [
        {
          "output_type": "execute_result",
          "data": {
            "text/plain": [
              "{True: 'yes ', False: 'no'}"
            ]
          },
          "metadata": {},
          "execution_count": 73
        }
      ]
    },
    {
      "cell_type": "markdown",
      "metadata": {
        "id": "KLyYUQloNDbm"
      },
      "source": [
        "**Float-point numbers as keys**"
      ]
    },
    {
      "cell_type": "code",
      "metadata": {
        "id": "Lvln1LueNEAl",
        "colab": {
          "base_uri": "https://localhost:8080/"
        },
        "outputId": "961ad00a-da8f-4034-e596-279c523e233c"
      },
      "source": [
        "#Create a Python dictionary whose keys are some floating-point numbers. You can assign them any values.\n",
        "float_as_key = {3.14:\"pi\",2.71:\"e\"}\n",
        "float_as_key"
      ],
      "execution_count": null,
      "outputs": [
        {
          "output_type": "execute_result",
          "data": {
            "text/plain": [
              "{3.14: 'pi', 2.71: 'e'}"
            ]
          },
          "metadata": {},
          "execution_count": 74
        }
      ]
    },
    {
      "cell_type": "markdown",
      "metadata": {
        "id": "hUPhZrCuNPBf"
      },
      "source": [
        "**Integers as keys**"
      ]
    },
    {
      "cell_type": "code",
      "metadata": {
        "id": "n8hEcX31NMMb",
        "colab": {
          "base_uri": "https://localhost:8080/"
        },
        "outputId": "9ae4ffdd-24f7-4bc9-fa81-ec30ed01910b"
      },
      "source": [
        "#Create a Python dictionary whose keys are integer values. You can assign them any values.\n",
        "i = { 1:\"one\",2:\"two\"}\n",
        "i"
      ],
      "execution_count": null,
      "outputs": [
        {
          "output_type": "execute_result",
          "data": {
            "text/plain": [
              "{1: 'one', 2: 'two'}"
            ]
          },
          "metadata": {},
          "execution_count": 75
        }
      ]
    },
    {
      "cell_type": "markdown",
      "metadata": {
        "id": "KZfgcSgTNQPc"
      },
      "source": [
        "**Tuples as keys**"
      ]
    },
    {
      "cell_type": "code",
      "metadata": {
        "id": "a_cP7ej7NUrd",
        "colab": {
          "base_uri": "https://localhost:8080/"
        },
        "outputId": "705bb968-6a82-428f-8090-9700020598cc"
      },
      "source": [
        "# Create a Python dictionary whose keys are some tuples. You can assign them any values.\n",
        "t = {(2,4,6):\"even\",(3,5,7):\"odd\"}\n",
        "t"
      ],
      "execution_count": null,
      "outputs": [
        {
          "output_type": "execute_result",
          "data": {
            "text/plain": [
              "{(2, 4, 6): 'even', (3, 5, 7): 'odd'}"
            ]
          },
          "metadata": {},
          "execution_count": 76
        }
      ]
    },
    {
      "cell_type": "code",
      "source": [
        "#t = {[2,4,6]:\"even\",[3,5,7]:\"odd\"} # List cannot be a key\n",
        "#t"
      ],
      "metadata": {
        "id": "PXJgYmJaJr7J"
      },
      "execution_count": null,
      "outputs": []
    },
    {
      "cell_type": "markdown",
      "metadata": {
        "id": "wCjwng15NaLp"
      },
      "source": [
        "**Lists as values**"
      ]
    },
    {
      "cell_type": "code",
      "metadata": {
        "id": "2Z90nsMNNa2B",
        "colab": {
          "base_uri": "https://localhost:8080/"
        },
        "outputId": "da7e7421-58b2-4902-9421-9617b7f765f5"
      },
      "source": [
        "# Create a Python dictionary whose values are some lists.\n",
        "l = { \"prime\": [2,3,5,7,11],\"odd\":[1,3,5,7,9]}\n",
        "l"
      ],
      "execution_count": null,
      "outputs": [
        {
          "output_type": "execute_result",
          "data": {
            "text/plain": [
              "{'prime': [2, 3, 5, 7, 11], 'odd': [1, 3, 5, 7, 9]}"
            ]
          },
          "metadata": {},
          "execution_count": 79
        }
      ]
    },
    {
      "cell_type": "markdown",
      "metadata": {
        "id": "VpJMLu59NfeC"
      },
      "source": [
        "**Dictionaries as values**"
      ]
    },
    {
      "cell_type": "code",
      "source": [
        "diet"
      ],
      "metadata": {
        "colab": {
          "base_uri": "https://localhost:8080/"
        },
        "id": "-I_vkfzYXun6",
        "outputId": "154751b2-cbbc-4599-9206-2cea2f01e1b0"
      },
      "execution_count": null,
      "outputs": [
        {
          "output_type": "execute_result",
          "data": {
            "text/plain": [
              "{'breakfast': ' dosa', 'lunch': ' roti', 'dinner ': 'rice'}"
            ]
          },
          "metadata": {},
          "execution_count": 81
        }
      ]
    },
    {
      "cell_type": "code",
      "source": [
        "# Create a Python dictionary whose values are some other dictionaries.\n",
        "a = {\"rina\": diet, \"john\": {\"a\": 34,\"b\":45}}\n",
        "a"
      ],
      "metadata": {
        "colab": {
          "base_uri": "https://localhost:8080/"
        },
        "id": "ouWf6koH_9Qf",
        "outputId": "0ae34974-3844-4acd-94a5-b5e5aed2f306"
      },
      "execution_count": null,
      "outputs": [
        {
          "output_type": "execute_result",
          "data": {
            "text/plain": [
              "{'rina': {'breakfast': ' dosa', 'lunch': ' roti', 'dinner ': 'rice'},\n",
              " 'john': {'a': 34, 'b': 45}}"
            ]
          },
          "metadata": {},
          "execution_count": 80
        }
      ]
    },
    {
      "cell_type": "markdown",
      "metadata": {
        "id": "7knd5IaTNmYK"
      },
      "source": [
        "**Tuples as values**\n",
        "\n",
        "You will learn about tuples in detail in the upcoming classes."
      ]
    },
    {
      "cell_type": "code",
      "metadata": {
        "id": "2vnuhu8ONliv",
        "colab": {
          "base_uri": "https://localhost:8080/"
        },
        "outputId": "621308cd-b134-42c8-e947-131cceae3139"
      },
      "source": [
        "# Create a Python dictionary whose values are tuples.\n",
        "l = { \"prime\": (2,3,5,7,11),\"odd\":(1,3,5,7,9)}\n",
        "l"
      ],
      "execution_count": null,
      "outputs": [
        {
          "output_type": "execute_result",
          "data": {
            "text/plain": [
              "{'prime': (2, 3, 5, 7, 11), 'odd': (1, 3, 5, 7, 9)}"
            ]
          },
          "metadata": {},
          "execution_count": 82
        }
      ]
    },
    {
      "cell_type": "markdown",
      "metadata": {
        "id": "L20L60oENq6y"
      },
      "source": [
        "**Note:**\n",
        "\n",
        "- A **key** in a dictionary must be unique. In other words, two items in a dictionary cannot have the same **key**.\n",
        "- If a dictionary contains two items having the same key, then the item at the **higher index** will be accepted by the dictionary and the item at the **lower index** will be discarded.\n"
      ]
    },
    {
      "cell_type": "code",
      "metadata": {
        "id": "X8uuoiS7Numn",
        "colab": {
          "base_uri": "https://localhost:8080/"
        },
        "outputId": "69b69836-2cbc-4970-cfd5-50614e120231"
      },
      "source": [
        "# Create a dictionary having two identical keys but different values.\n",
        "dict_with_identical_keys = {'Super': 'Man', 'Hot' : 'Chocolate', 'Super' : 'Woman'}\n",
        "dict_with_identical_keys"
      ],
      "execution_count": null,
      "outputs": [
        {
          "output_type": "execute_result",
          "data": {
            "text/plain": [
              "{'Super': 'Woman', 'Hot': 'Chocolate'}"
            ]
          },
          "metadata": {},
          "execution_count": 83
        }
      ]
    },
    {
      "cell_type": "code",
      "source": [
        "#Activity: values are identical\n",
        "dict_with_identical_keys = {'Apple': 'Fruit', 'Apple': 'Tech Company', 'Banana': 'Fruit'}\n",
        "dict_with_identical_keys"
      ],
      "metadata": {
        "colab": {
          "base_uri": "https://localhost:8080/"
        },
        "id": "7SoQQnWWGbn1",
        "outputId": "b49df104-f67e-4417-a555-7a853f524452"
      },
      "execution_count": null,
      "outputs": [
        {
          "output_type": "execute_result",
          "data": {
            "text/plain": [
              "{'Apple': 'Tech Company', 'Banana': 'Fruit'}"
            ]
          },
          "metadata": {},
          "execution_count": 84
        }
      ]
    },
    {
      "cell_type": "markdown",
      "metadata": {
        "id": "vPS6tLnvN0BG"
      },
      "source": [
        "As you can see, the latest value for a key overrides its previous value.\n",
        "\n",
        "**Note:** Two different keys in a dictionary can have the same value."
      ]
    },
    {
      "cell_type": "code",
      "metadata": {
        "id": "ioxsPx6pN3VH",
        "colab": {
          "base_uri": "https://localhost:8080/"
        },
        "outputId": "4f5beb95-b575-47b7-bfd5-73aabea436f4"
      },
      "source": [
        "# Create a dictionary having two identical values but different keys.\n",
        "dict_with_identical_values = {'Super' : 'Man', 'Hot' : 'Chocolate', 'Bat' : 'Man'}\n",
        "dict_with_identical_values"
      ],
      "execution_count": null,
      "outputs": [
        {
          "output_type": "execute_result",
          "data": {
            "text/plain": [
              "{'Super': 'Man', 'Hot': 'Chocolate', 'Bat': 'Man'}"
            ]
          },
          "metadata": {},
          "execution_count": 85
        }
      ]
    },
    {
      "cell_type": "code",
      "source": [
        "#Activity\n",
        "dict_with_identical_values = {'Apple': 'Fruit', 'Orange': 'Fruit', 'Banana': 'Fruit'}\n",
        "dict_with_identical_values\n"
      ],
      "metadata": {
        "colab": {
          "base_uri": "https://localhost:8080/"
        },
        "id": "Oss0wxkcGxUa",
        "outputId": "49df6fbf-38d0-4582-88db-6e078f943329"
      },
      "execution_count": null,
      "outputs": [
        {
          "output_type": "execute_result",
          "data": {
            "text/plain": [
              "{'Apple': 'Fruit', 'Orange': 'Fruit', 'Banana': 'Fruit'}"
            ]
          },
          "metadata": {},
          "execution_count": 86
        }
      ]
    },
    {
      "cell_type": "markdown",
      "source": [
        "### Activity 4: Dictionary Length\n",
        "The length of a dictionary is the number of key-value pairs contained in the dictionary.\n",
        "\n",
        "To calculate the length of a dictionary (or number of key-value pairs contained in a dictionary), you can use the `len()`  function."
      ],
      "metadata": {
        "id": "YnZrkT7EIR5v"
      }
    },
    {
      "cell_type": "code",
      "metadata": {
        "id": "J-Z09gTba5Gt"
      },
      "source": [
        "# Calculate the length of the 'laptop_specs' dictionary.\n",
        "len(laptop_specs)"
      ],
      "execution_count": null,
      "outputs": []
    },
    {
      "cell_type": "markdown",
      "metadata": {
        "id": "XveK9Hlq1FJ8"
      },
      "source": [
        "---"
      ]
    },
    {
      "cell_type": "markdown",
      "metadata": {
        "id": "-zt8rlVq1GZ2"
      },
      "source": [
        "###Activity 5: The `keys()` Function\n",
        "To get a list of all the keys in a dictionary, you can use the `keys()` function using the `dictionary_name.keys()` method.\n",
        "\n"
      ]
    },
    {
      "cell_type": "code",
      "metadata": {
        "id": "1ZzL1vPh1l4x"
      },
      "source": [
        "#Get the list of all the keys contained in 'laptop_specs' dictionary.\n",
        "s= laptop_specs.keys()\n",
        "type(s)"
      ],
      "execution_count": null,
      "outputs": []
    },
    {
      "cell_type": "markdown",
      "metadata": {
        "id": "YWuUG13w1o3N"
      },
      "source": [
        "\n",
        "\n",
        "**Note** that the list returned by the `keys()` function is not the same as a Python list. It behaves differently as compared to a conventional Python list.\n",
        "\n",
        "You can also use a `for` loop to print all the keys of a dictionary one after the other.\n"
      ]
    },
    {
      "cell_type": "code",
      "metadata": {
        "id": "7779cZ6_aVte"
      },
      "source": [
        "# Get the list of all the keys contained in 'laptop_specs' dictionary using 'for' loop.\n",
        "for i in laptop_specs.keys():\n",
        "    print(i)"
      ],
      "execution_count": null,
      "outputs": []
    },
    {
      "cell_type": "markdown",
      "metadata": {
        "id": "LLFdNjdeZ1HR"
      },
      "source": [
        "Actually, even if you don't use the `keys()` function, you can retrieve all the keys from a Python dictionary using a `for` loop. Let's retrieve all the keys from the `laptop_specs` dictionary without using the `keys()` function."
      ]
    },
    {
      "cell_type": "code",
      "metadata": {
        "id": "pSm5-vrcZ_nH"
      },
      "source": [
        "# Retrieve all the keys present in 'laptop_specs' dictionary without using the 'keys()' function but using 'for' loop.\n",
        "for i in laptop_specs:\n",
        "    print(i)"
      ],
      "execution_count": null,
      "outputs": []
    },
    {
      "cell_type": "markdown",
      "metadata": {
        "id": "axkkh0lFbN9m"
      },
      "source": [
        "---"
      ]
    },
    {
      "cell_type": "markdown",
      "metadata": {
        "id": "zX2UYla-ZZr7"
      },
      "source": [
        "### Activity 6: Getting A Value For A Key\n",
        "\n",
        "Now let's learn how to retrieve a value for a key from a Python dictionary. There are two methods to do this. They are:\n",
        "\n",
        "1. The square brackets method\n",
        "\n",
        "2. The `get()` function\n",
        "\n",
        "\n",
        "**Method I: The Square Brackets**\n",
        "\n",
        "For a key, in a dictionary, you can retrieve its corresponding value by using the `dictionary_name[key]` method where `dictionary_name` is the variable storing a Python dictionary and `key` is the key stored in the dictionary.\n"
      ]
    },
    {
      "cell_type": "code",
      "source": [
        "laptop_specs[\"Ram\"]"
      ],
      "metadata": {
        "id": "yycb5JqkahYe"
      },
      "execution_count": null,
      "outputs": []
    },
    {
      "cell_type": "code",
      "metadata": {
        "id": "r9YReDgvYbnJ"
      },
      "source": [
        "# Print the corresponding values to each key contained in the 'my_dict' dictionary.\n",
        "\n",
        "# Value for the first key.\n",
        "print(laptop_specs['Ram'])\n",
        "\n",
        "# Value for the second key.\n",
        "print(laptop_specs['Storage'])\n",
        "\n",
        "# Value for the third key.\n",
        "print(laptop_specs['Graphics Card'])\n",
        "\n",
        "print(laptop_specs['Display'])\n",
        "\n",
        "# Value for the fifth key.\n",
        "print(laptop_specs['Battery'])\n",
        "# Value for the sixth key.\n",
        "print(laptop_specs['Weight'])\n",
        "\n",
        "# Value for the seventh key.\n",
        "print(laptop_specs['Price (INR)'])\n",
        "\n",
        "# Value for the eighth key.\n",
        "print(laptop_specs['Fast Charge'])\n",
        "\n"
      ],
      "execution_count": null,
      "outputs": []
    },
    {
      "cell_type": "markdown",
      "metadata": {
        "id": "b4je-GXVgeC2"
      },
      "source": [
        "Instead of retrieving all the values one-by-one, you can get them using a `for` loop along with keys enclosed in square brackets."
      ]
    },
    {
      "cell_type": "code",
      "metadata": {
        "id": "Quj1UIqZvr4y"
      },
      "source": [
        "# Print all the values contained in the 'laptop_specs' dictionary using a 'for' loop, 'keys()' function & square brackets.\n",
        "for i in laptop_specs.keys():\n",
        "    print(laptop_specs[i])"
      ],
      "execution_count": null,
      "outputs": []
    },
    {
      "cell_type": "code",
      "metadata": {
        "id": "SI_Eiwvlndcz"
      },
      "source": [
        "# Print all the values stored in the 'laptop_specs' dictionary using 'for' loop & the square brackets.\n",
        "for i in laptop_specs:\n",
        "    print(laptop_specs[i])\n"
      ],
      "execution_count": null,
      "outputs": []
    },
    {
      "cell_type": "markdown",
      "metadata": {
        "id": "d5v0XkTloRql"
      },
      "source": [
        "**Note:** In a way, the keys act like indices for a Python dictionary. Unlike a Python list, a Python dictionary does not have indices of their own because a dictionary is an **unordered** collection of items. An only ordered collection of items have indices. Also, since a Python dictionary does not have indices, it is best to use `for` loop over `while` loop to iterate through each item that is stored in a dictionary."
      ]
    },
    {
      "cell_type": "markdown",
      "metadata": {
        "id": "_Rv7qabdcnoD"
      },
      "source": [
        "**Method II: The `get()` Function**\n",
        "\n",
        "You can also use the `get()` function to get a value of a key by using the `dictionary_name.get(key)` method.\n"
      ]
    },
    {
      "cell_type": "code",
      "metadata": {
        "id": "oV_NMDsjgS86"
      },
      "source": [
        "# Print the corresponding values to each key contained in the 'my_dict' dictionary using the 'get()' function.\n",
        "\n",
        "# Value for the first key.\n",
        "print(laptop_specs.get('Ram'))\n",
        "\n",
        "# Value for the second key.\n",
        "print(laptop_specs.get('Storage'))\n",
        "\n",
        "# Value for the third key.\n",
        "print(laptop_specs.get('Graphics Card'))\n"
      ],
      "execution_count": null,
      "outputs": []
    },
    {
      "cell_type": "markdown",
      "metadata": {
        "id": "A9GPlohcvxU7"
      },
      "source": [
        "\n",
        "Similarly, you can also use the `get()` function with `for` loop to get the value for a key."
      ]
    },
    {
      "cell_type": "code",
      "metadata": {
        "id": "dOQoESx4wmOr"
      },
      "source": [
        "# Print all the values contained in the 'laptop_specs' dictionary using 'for' loop and the 'get()' function.\n",
        "for i in laptop_specs.keys():\n",
        "    print(laptop_specs.get(i))"
      ],
      "execution_count": null,
      "outputs": []
    },
    {
      "cell_type": "markdown",
      "metadata": {
        "id": "sYV3l7iRwrn8"
      },
      "source": [
        "In the code above, `for` loop iterates through each key in the list generated by the `keys()` function. Then, the `get()` function returns the value for a key. Finally, the `print()` function prints the corresponding value for each key."
      ]
    },
    {
      "cell_type": "markdown",
      "metadata": {
        "id": "M2XeNqgIGHjy"
      },
      "source": [
        "---"
      ]
    },
    {
      "cell_type": "markdown",
      "metadata": {
        "id": "qRMpE6OVGLic"
      },
      "source": [
        "### Activity 7: The `values()` Function\n",
        "\n",
        "Let's learn how to get the collection of all the values contained in a Python dictionary. You can do this by using the `values()` function.\n",
        "\n",
        "**Syntax:** `dictionary_name.values()`\n"
      ]
    },
    {
      "cell_type": "code",
      "metadata": {
        "id": "lDEhrMF_F4By"
      },
      "source": [
        "#  Retrieve a collection of all the values stored in the 'laptop_specs' dictionary using the 'values()' function.\n",
        "laptop_specs.values()"
      ],
      "execution_count": null,
      "outputs": []
    },
    {
      "cell_type": "markdown",
      "metadata": {
        "id": "syJQsIZkGIP9"
      },
      "source": [
        "As you can see, the `values()` function has returned a list of all the values contained in the `my_dict` dictionary.\n",
        "\n",
        "**Note** that the list returned by the `values()` function is not the same as a Python list. This list behaves differently as compared to a conventional Python list.\n"
      ]
    },
    {
      "cell_type": "markdown",
      "metadata": {
        "id": "GjesGxsJEmnT"
      },
      "source": [
        "---"
      ]
    },
    {
      "cell_type": "markdown",
      "metadata": {
        "id": "Gl6PMYFzdcuY"
      },
      "source": [
        "### Activity 8: The `items()` Function\n",
        "\n",
        "You can also retrieve all the key-value pairs from a dictionary as a collection of tuples by using the `items()` function.\n",
        "\n",
        "**Syntax:** `dictionary_name.items()` method.\n"
      ]
    },
    {
      "cell_type": "code",
      "metadata": {
        "id": "g4St23LCckp5"
      },
      "source": [
        "# Retrieve all the items stored in the 'laptop_specs' dictionary as a collection of tuples.\n",
        "laptop_specs.items()"
      ],
      "execution_count": null,
      "outputs": []
    },
    {
      "cell_type": "markdown",
      "metadata": {
        "id": "5D2Ibq31fKvA"
      },
      "source": [
        "As you can see, the `items()` function has returned a list of key-value pairs contained in the dictionary. Each key-value pair is a tuple because a pair is written inside the common brackets, i.e., `()`.\n",
        "\n",
        "**Note** that the list returned by the `items()` function is not the same as a Python list. This list behaves differently as compared to a conventional Python list.\n",
        "\n",
        "You can also use a `for` loop to print each item contained in the list returned by the `items()` function.\n"
      ]
    },
    {
      "cell_type": "code",
      "metadata": {
        "id": "568a8Stm_u8s"
      },
      "source": [
        "# Loop through each item stored in the list returned by the 'items()' function.\n",
        "for item in laptop_specs.items():\n",
        "  print(item)"
      ],
      "execution_count": null,
      "outputs": []
    },
    {
      "cell_type": "markdown",
      "metadata": {
        "id": "tuA8xI7dl4kT"
      },
      "source": [
        "As you can see, using `for` loop, we have retrieved every tuple containing a key-value pair, from the `laptop_specs` dictionary.\n",
        "\n",
        "You can also simultaneously iterate through each key-value contained in the list returned by the `items()` function."
      ]
    },
    {
      "cell_type": "code",
      "source": [
        "for i,j in laptop_specs.items():\n",
        "    print(i,j)"
      ],
      "metadata": {
        "id": "CDxhgvNNdY0P"
      },
      "execution_count": null,
      "outputs": []
    },
    {
      "cell_type": "code",
      "metadata": {
        "id": "lMH9ZUKBDDE8"
      },
      "source": [
        "# Simultaneously iterate through each key-value pair contained in the list returned by the 'items()' function.\n",
        "for key, value in laptop_specs.items():\n",
        "  print(key, value)"
      ],
      "execution_count": null,
      "outputs": []
    },
    {
      "cell_type": "markdown",
      "metadata": {
        "id": "xx5v38qXDWoW"
      },
      "source": [
        "As you can see, in the `for` loop, the `key` variable iterates through each key in each item and the `value` variable iterates through each value in each item contained in the list,\n",
        "\n",
        "\n",
        "Then, the `print()` function prints the values stored in the `key` and `value` variables.\n",
        "\n",
        "If you apply the same method of retrieving key-value pairs simultaneously directly from the `laptop_specs` dictionary, then you will get `ValueError`."
      ]
    },
    {
      "cell_type": "code",
      "metadata": {
        "id": "gXr9YOhVhDIG"
      },
      "source": [
        "#Simultaneously retrieve all the key-value pairs directly from the 'laptop_specs' dictionary.\n",
        "for key in laptop_specs:\n",
        "  print(key)"
      ],
      "execution_count": null,
      "outputs": []
    },
    {
      "cell_type": "markdown",
      "metadata": {
        "id": "GvX5Y3Ojhmmr"
      },
      "source": [
        "Hence, to simultaneously iterate through multiple items (or key-value pairs), it is best to have each item (or key-value pair) as a collection of tuples. You will learn about tuples in detail in the upcoming classes.\n"
      ]
    },
    {
      "cell_type": "markdown",
      "metadata": {
        "id": "gLsIDUXaxQtu"
      },
      "source": [
        "### Activity 9: Adding New Item\n",
        "\n",
        "Let's also add the Processor of the laptop to the `laptop_specs` dictionary. So the new item is `\"Processor\"` and the corresponding value is `'Intel Core i7'`.\n",
        "\n",
        "To add a new item to a dictionary, you simply have to use the square brackets as shown in the syntax below.\n",
        "\n",
        "**Syntax:** `dictionary_name[key] = value`\n",
        "\n",
        "where `dictionary_name` is some variable storing a dictionary."
      ]
    },
    {
      "cell_type": "code",
      "execution_count": null,
      "metadata": {
        "id": "CMM1DD7Vu9MB"
      },
      "outputs": [],
      "source": [
        "# Add 'processor' and 'Intel Core i7' as keys and values respectively to the 'laptop_specs' dictionary.\n",
        "laptop_specs[\"processor\"] = \"Intel Core i7\"\n",
        "laptop_specs"
      ]
    },
    {
      "cell_type": "markdown",
      "metadata": {
        "id": "WYvjalPzou0g"
      },
      "source": [
        "---"
      ]
    }
  ]
}