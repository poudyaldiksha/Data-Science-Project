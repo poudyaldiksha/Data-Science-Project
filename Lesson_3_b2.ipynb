{
  "nbformat": 4,
  "nbformat_minor": 0,
  "metadata": {
    "colab": {
      "provenance": [],
      "include_colab_link": true
    },
    "kernelspec": {
      "name": "python3",
      "display_name": "Python 3"
    },
    "language_info": {
      "name": "python"
    }
  },
  "cells": [
    {
      "cell_type": "markdown",
      "metadata": {
        "id": "view-in-github",
        "colab_type": "text"
      },
      "source": [
        "<a href=\"https://colab.research.google.com/github/poudyaldiksha/Data-Science-project/blob/main/Lesson_3_b2.ipynb\" target=\"_parent\"><img src=\"https://colab.research.google.com/assets/colab-badge.svg\" alt=\"Open In Colab\"/></a>"
      ]
    },
    {
      "cell_type": "markdown",
      "source": [
        "# Lesson 3: Conditional Statements,Break Keyword, Nested while loops,Functions, Module, Lists, Features of Lists, Nested Lists"
      ],
      "metadata": {
        "id": "mriLK0LaIeMq"
      }
    },
    {
      "cell_type": "markdown",
      "source": [
        "### Activity 1: The Conditional Statements\n",
        "\n",
        "We will learn about conditional statements in Python. Conditional statements allow us to make decisions in our code based on certain conditions. We will start with understanding why conditional statements are important, then dive into if, else, and elif statements, and see how they work.\n",
        "\n",
        "\n",
        "To compare two or more values, we use conditional statements.\n",
        "\n",
        "They are of two types:\n",
        "\n",
        "1. `if-else` statement\n",
        "\n",
        "2. `if-elif-else` statement\n",
        "\n",
        "The `if-else` statement tells us that **if** a condition is **true**, it will execute a block of statements **else** it will execute another block of statements.\n",
        "\n",
        "\n",
        "\n",
        "\n"
      ],
      "metadata": {
        "id": "RbLh7p7dukAg"
      }
    },
    {
      "cell_type": "markdown",
      "source": [
        "**Introduction to if Statements**\n",
        "\n",
        "An if statement executes a block of code if a specified condition is true.\n",
        "\n",
        "syntax of `if`:\n",
        "```python\n",
        "if condition:\n",
        "    # code block to be executed if condition is true\n",
        "```"
      ],
      "metadata": {
        "id": "HNztjBOF4mUh"
      }
    },
    {
      "cell_type": "code",
      "source": [
        "# Example of if statement\n",
        "age = 18\n",
        "if age >= 18:\n",
        "    print(\"You are eligible to vote.\")"
      ],
      "metadata": {
        "id": "NispS8hl4oKV",
        "colab": {
          "base_uri": "https://localhost:8080/"
        },
        "outputId": "bbc5667e-f944-49ac-a593-25e986757efb"
      },
      "execution_count": null,
      "outputs": [
        {
          "output_type": "stream",
          "name": "stdout",
          "text": [
            "You are eligible to vote.\n"
          ]
        }
      ]
    },
    {
      "cell_type": "code",
      "source": [
        "# take age as input from user\n",
        "age = int(input(\"enter your age\"))\n",
        "if age>= 18:\n",
        "  print(\"you are eligible to vote\")"
      ],
      "metadata": {
        "id": "tbala0Yr5y5C",
        "colab": {
          "base_uri": "https://localhost:8080/"
        },
        "outputId": "e45e6c57-42ed-42b5-953d-5acd5e50c913"
      },
      "execution_count": null,
      "outputs": [
        {
          "output_type": "stream",
          "name": "stdout",
          "text": [
            "enter your age78\n",
            "you are eligible to vote\n"
          ]
        }
      ]
    },
    {
      "cell_type": "code",
      "source": [
        "#Activity : Write a program that checks if a number is positive.\n",
        "n = 10\n",
        "if n>0:\n",
        "  print(\"positive\")"
      ],
      "metadata": {
        "id": "YA7wZOxF543F",
        "colab": {
          "base_uri": "https://localhost:8080/"
        },
        "outputId": "0b60dff5-21c8-44aa-a70c-174e056f0f46"
      },
      "execution_count": null,
      "outputs": [
        {
          "output_type": "stream",
          "name": "stdout",
          "text": [
            "positive\n"
          ]
        }
      ]
    },
    {
      "cell_type": "markdown",
      "source": [
        " **Introduction to else Statements**\n",
        "\n",
        "An else statement can be combined with an if statement to execute a block of code if the condition is false.\n",
        "\n",
        "Syntax of`if-else`:\n",
        "\n",
        "```python\n",
        "\n",
        "if condition:\n",
        "    # code block to be executed if condition is true\n",
        "else:\n",
        "    # code block to be executed if condition is false\n",
        "```"
      ],
      "metadata": {
        "id": "5xJGYITi6Ay3"
      }
    },
    {
      "cell_type": "code",
      "source": [
        "# Example of if-else statement\n",
        "age = 16\n",
        "if age >= 18:\n",
        "    print(\"You are eligible to vote.\")\n",
        "else:\n",
        "    print(\"You are not eligible to vote.\")\n",
        "print(\"Hi\")"
      ],
      "metadata": {
        "id": "oI53ngHc57yE",
        "colab": {
          "base_uri": "https://localhost:8080/"
        },
        "outputId": "01cffd03-31c4-433b-e167-d681ad4db601"
      },
      "execution_count": null,
      "outputs": [
        {
          "output_type": "stream",
          "name": "stdout",
          "text": [
            "You are not eligible to vote.\n",
            "Hi\n"
          ]
        }
      ]
    },
    {
      "cell_type": "code",
      "source": [
        "#Activity : Write a program that checks if a number is positive or negative.\n",
        "\n",
        "n = 0\n",
        "if n>=0:\n",
        "  print(\"positive\")\n",
        "else:\n",
        "  print(\"negative\")"
      ],
      "metadata": {
        "id": "X4ktCrmr6TZ-",
        "colab": {
          "base_uri": "https://localhost:8080/"
        },
        "outputId": "09099976-f3e9-49a3-96e8-238892b12395"
      },
      "execution_count": null,
      "outputs": [
        {
          "output_type": "stream",
          "name": "stdout",
          "text": [
            "positive\n"
          ]
        }
      ]
    },
    {
      "cell_type": "markdown",
      "source": [
        "**Introduction to elif Statements**\n",
        "An elif (short for \"else if\") statement can be used to check multiple conditions. It comes after an if statement and before an else statement.\n",
        "\n",
        "Syntax of `if-elif-else`:\n",
        "\n",
        "```python\n",
        "\n",
        "if condition1:\n",
        "    # code block to be executed if condition1 is true\n",
        "elif condition2:\n",
        "    # code block to be executed if condition2 is true\n",
        "else:\n",
        "    # code block to be executed if both condition1 and condition2 are false\n",
        "```"
      ],
      "metadata": {
        "id": "5HPMxC8b6lQv"
      }
    },
    {
      "cell_type": "code",
      "source": [
        "# Example of if-elif-else statement\n",
        "age = 20\n",
        "if age < 13:\n",
        "    print(\"You are a child.\")\n",
        "elif age < 18:\n",
        "    print(\"You are a teenager.\")\n",
        "else:\n",
        "    print(\"You are an adult.\")"
      ],
      "metadata": {
        "id": "8qUCfX2M6by5",
        "colab": {
          "base_uri": "https://localhost:8080/"
        },
        "outputId": "f091b1f0-fcd3-4445-f491-1cba907bd6b6"
      },
      "execution_count": null,
      "outputs": [
        {
          "output_type": "stream",
          "name": "stdout",
          "text": [
            "You are an adult.\n"
          ]
        }
      ]
    },
    {
      "cell_type": "code",
      "source": [
        "age = 11\n",
        "if age < 13:\n",
        "    print(\"You are a child.\")\n",
        "elif age < 18:\n",
        "    print(\"You are a teenager.\")\n",
        "else:\n",
        "    print(\"You are an adult.\")"
      ],
      "metadata": {
        "colab": {
          "base_uri": "https://localhost:8080/"
        },
        "id": "mmJeCYRbNRjC",
        "outputId": "20eb7c87-9865-41d5-baec-1c027bf54161"
      },
      "execution_count": null,
      "outputs": [
        {
          "output_type": "stream",
          "name": "stdout",
          "text": [
            "You are a child.\n"
          ]
        }
      ]
    },
    {
      "cell_type": "code",
      "source": [
        "#Activity : Write a program that checks if a number is positive, negative, or zero by taking it as input\n",
        "number = int(input(\"pls enter a num\"))\n",
        "if number>0:\n",
        "    print(\" positive\")\n",
        "elif number <0:\n",
        "    print(\"negative\")\n",
        "    print(\"2\")\n",
        "else:\n",
        "    print(\"zero\")\n"
      ],
      "metadata": {
        "id": "QLC7DBzW7ro7",
        "colab": {
          "base_uri": "https://localhost:8080/"
        },
        "outputId": "bc839beb-2a8b-4b06-cd80-daac0eaef766"
      },
      "execution_count": null,
      "outputs": [
        {
          "output_type": "stream",
          "name": "stdout",
          "text": [
            "pls enter a num99\n",
            " positive\n"
          ]
        }
      ]
    },
    {
      "cell_type": "code",
      "source": [
        "#Activity: Create a program that checks the user's grade based on their score.\n",
        "score = 85\n",
        "if score >= 90:\n",
        "    print(\"Grade: A\")\n",
        "elif score >= 80:\n",
        "    print(\"Grade: B\")\n",
        "elif score >= 70:\n",
        "    print(\"Grade: C\")\n",
        "elif score >= 60:\n",
        "    print(\"Grade: D\")\n",
        "else:\n",
        "    print(\"Grade: F\")"
      ],
      "metadata": {
        "id": "FI5gsKJ55wR8",
        "colab": {
          "base_uri": "https://localhost:8080/"
        },
        "outputId": "c5edd102-6bb7-48c6-c351-e1d82710d583"
      },
      "execution_count": null,
      "outputs": [
        {
          "output_type": "stream",
          "name": "stdout",
          "text": [
            "Grade: B\n"
          ]
        }
      ]
    },
    {
      "cell_type": "code",
      "source": [
        "#Write a program that takes a user's age and prints a different message for each age group (child, teenager, adult, senior).\n",
        "age = int(input(\"Enter your age: \"))\n",
        "\n",
        "\n",
        "if age < 13:\n",
        "   print(\"You are a child.\")\n",
        "elif age < 18:\n",
        "   print(\"You are a teenager.\")\n",
        "elif age < 65:\n",
        "   print(\"You are an adult.\")\n",
        "else:\n",
        "   print(\"You are a senior.\")\n"
      ],
      "metadata": {
        "id": "_qnZW_yj8Cio"
      },
      "execution_count": null,
      "outputs": []
    },
    {
      "cell_type": "markdown",
      "source": [
        "### Activity 2: The `break` Keyword\n",
        "\n",
        "There's another way to stop a loop whether it is an infinite loop or a finite loop. A finite loop executes for a fixed number of times. To stop a loop, use the `break` keyword.\n",
        "\n",
        "\n",
        "Let's stop the infinite `while` loop in the previous code when the `num` value reaches `70` using the `break` keyword."
      ],
      "metadata": {
        "id": "pwjSxGcG_b7y"
      }
    },
    {
      "cell_type": "code",
      "source": [
        "# Activity: Stop the 'while' loop when the 'num' value reaches 70, using the 'break' keyword.\n",
        "\n",
        "i = 0\n",
        "while True:\n",
        "    i+=1\n",
        "    if i == 70:\n",
        "        break\n",
        "print(i)"
      ],
      "metadata": {
        "id": "FvGMDL0mtr_D",
        "colab": {
          "base_uri": "https://localhost:8080/"
        },
        "outputId": "2adea044-e68c-4762-f24a-bfc86cb01e38"
      },
      "execution_count": null,
      "outputs": [
        {
          "output_type": "stream",
          "name": "stdout",
          "text": [
            "70\n"
          ]
        }
      ]
    },
    {
      "cell_type": "code",
      "source": [
        "i = 1\n",
        "while i<=10:\n",
        "    print(i)\n",
        "    i = i+2\n"
      ],
      "metadata": {
        "colab": {
          "base_uri": "https://localhost:8080/"
        },
        "id": "44hvmbaaPlxf",
        "outputId": "061283b5-a932-42eb-f139-cb63624ae10d"
      },
      "execution_count": null,
      "outputs": [
        {
          "output_type": "stream",
          "name": "stdout",
          "text": [
            "1\n",
            "3\n",
            "5\n",
            "7\n",
            "9\n"
          ]
        }
      ]
    },
    {
      "cell_type": "code",
      "source": [
        "i = 1\n",
        "while i<=10:\n",
        "    print(i)\n",
        "    i = i+2\n",
        "    if i == 5:\n",
        "        break"
      ],
      "metadata": {
        "colab": {
          "base_uri": "https://localhost:8080/"
        },
        "id": "i0ttn4TXQUvU",
        "outputId": "8c13081d-39ae-46a8-fa9b-5a02358fb17f"
      },
      "execution_count": null,
      "outputs": [
        {
          "output_type": "stream",
          "name": "stdout",
          "text": [
            "1\n",
            "3\n"
          ]
        }
      ]
    },
    {
      "cell_type": "code",
      "source": [
        "i"
      ],
      "metadata": {
        "colab": {
          "base_uri": "https://localhost:8080/"
        },
        "id": "nWHs8_pqO41u",
        "outputId": "d88ae7de-cba0-4ec5-cbec-505e5877fba0"
      },
      "execution_count": null,
      "outputs": [
        {
          "output_type": "execute_result",
          "data": {
            "text/plain": [
              "101187793"
            ]
          },
          "metadata": {},
          "execution_count": 22
        }
      ]
    },
    {
      "cell_type": "markdown",
      "source": [
        "### Activity 3: The Nested `while` Loops\n",
        "\n",
        "The term nested means something inside something like a  box inside another  box.\n",
        "\n",
        "Hence, a nested `while` loop means a `while` loop inside another `while` loop.\n",
        "\n",
        "Let us first understand how nested loop works:\n",
        "\n",
        "Consider a small multiplication table of `2` and `3`.\n",
        "\n",
        "|2|3|\n",
        "|-|-|\n",
        "|2 x 1 = 2|3 x 1 = 3|\n",
        "|2 x 2 = 4|3 x 2 = 6|\n",
        "|2 x 3 = 6|3 x 3 = 9|\n",
        "\n",
        "To print this table, we will use two variables:\n",
        "1. `first_num` for the first number.\n",
        "2. `sec_num` for the second number.\n",
        "\n",
        "\n",
        "- `first_num` will range from `2` to `3`.\n",
        "- `sec_num` will range from `1` to `3` for each `first_num`.\n",
        "\n",
        "So, the `sec_num` will loop using *inner loop* and `first_num` will loop using *outer loop*.\n",
        "\n",
        "In nested loops, the inner loop runs many times inside the outer loop. The inner loop must finish all its iterations before the outer loop can continue its next iteration.[The \"outer\" loop runs first, and then the \"inner\" loop runs repeatedly within the outer loop until the inner loop's condition is false. Once the inner loop finishes, the outer loop proceeds to its next iteration, and the process repeats.]\n",
        "\n",
        "syntax of nested while:\n",
        "```\n",
        "while condition1:\n",
        "    # Outer loop body\n",
        "    while condition2:\n",
        "        # Inner loop body\n",
        "```\n",
        "\n",
        "Similarly, you can print the complete multiplication table of `2`, `3` and `4` using nested `while` loop.\n",
        "\n",
        "\n",
        "|2|3|4|\n",
        "|-|-|-|\n",
        "|2 x 1 = 2|3 x 1 = 3|4 x 1 = 4|\n",
        "|2 x 2 = 4|3 x 2 = 6|4 x 2 = 8|\n",
        "|2 x 3 = 6|3 x 3 = 9|4 x 3 = 12|\n",
        "|2 x 4 = 8|3 x 4 = 12|4 x 4 = 16|\n",
        "|2 x 5 = 10|3 x 5 = 15|4 x 5 = 20|\n",
        "|2 x 6 = 12|3 x 6 = 18|4 x 6 = 24|\n",
        "|2 x 7 = 14|3 x 7 = 21|4 x 7 = 28|\n",
        "|2 x 8 = 16|3 x 8 = 24|4 x 8 = 32|\n",
        "|2 x 9 = 18|3 x 9 = 27|4 x 9 = 36|\n",
        "|2 x 10 = 20|3 x 10 = 30|4 x 10 = 40|\n"
      ],
      "metadata": {
        "id": "I5BAu6jjOZpa"
      }
    },
    {
      "cell_type": "code",
      "source": [
        "# Activity: try making 2,3,4 table using nested while loop\n",
        "\n",
        "a = 2\n",
        "\n",
        "while a<=5:\n",
        "    print(\"table of\", a)\n",
        "    b = 1\n",
        "    while b<=5:\n",
        "       print(a ,\"X\", b,\"=\", a * b)\n",
        "       b+=1\n",
        "       #a+=1\n",
        "    print(\"******************\")\n",
        "    a+=1"
      ],
      "metadata": {
        "id": "x0Nd20sHQ3jO",
        "colab": {
          "base_uri": "https://localhost:8080/"
        },
        "outputId": "04d4bd78-56d1-46df-f1ca-57fe2eee6a04"
      },
      "execution_count": null,
      "outputs": [
        {
          "output_type": "stream",
          "name": "stdout",
          "text": [
            "table of 2\n",
            "2 X 1 = 2\n",
            "2 X 2 = 4\n",
            "2 X 3 = 6\n",
            "2 X 4 = 8\n",
            "2 X 5 = 10\n",
            "******************\n",
            "table of 3\n",
            "3 X 1 = 3\n",
            "3 X 2 = 6\n",
            "3 X 3 = 9\n",
            "3 X 4 = 12\n",
            "3 X 5 = 15\n",
            "******************\n",
            "table of 4\n",
            "4 X 1 = 4\n",
            "4 X 2 = 8\n",
            "4 X 3 = 12\n",
            "4 X 4 = 16\n",
            "4 X 5 = 20\n",
            "******************\n",
            "table of 5\n",
            "5 X 1 = 5\n",
            "5 X 2 = 10\n",
            "5 X 3 = 15\n",
            "5 X 4 = 20\n",
            "5 X 5 = 25\n",
            "******************\n"
          ]
        }
      ]
    },
    {
      "cell_type": "code",
      "source": [
        "a = 3\n",
        "b = 1\n",
        "while b<=10:\n",
        "    print(a ,\"X\", b,\"=\", a * b)\n",
        "    b+=1"
      ],
      "metadata": {
        "colab": {
          "base_uri": "https://localhost:8080/"
        },
        "id": "qMOQH-mWS4K-",
        "outputId": "ddeb7b22-6094-457d-bd87-a80396d0d39a"
      },
      "execution_count": null,
      "outputs": [
        {
          "output_type": "stream",
          "name": "stdout",
          "text": [
            "3 X 1 = 3\n",
            "3 X 2 = 6\n",
            "3 X 3 = 9\n",
            "3 X 4 = 12\n",
            "3 X 5 = 15\n",
            "3 X 6 = 18\n",
            "3 X 7 = 21\n",
            "3 X 8 = 24\n",
            "3 X 9 = 27\n",
            "3 X 10 = 30\n"
          ]
        }
      ]
    },
    {
      "cell_type": "code",
      "source": [
        "a = 0\n",
        "while a<=15:\n",
        "    print(a)\n",
        "    a= a+5"
      ],
      "metadata": {
        "colab": {
          "base_uri": "https://localhost:8080/"
        },
        "id": "OTLfBkgRRK6h",
        "outputId": "a0c159ac-1826-4c90-c183-706d3bbf38c0"
      },
      "execution_count": null,
      "outputs": [
        {
          "output_type": "stream",
          "name": "stdout",
          "text": [
            "0\n",
            "5\n",
            "10\n",
            "15\n"
          ]
        }
      ]
    },
    {
      "cell_type": "code",
      "source": [
        "a = 2\n",
        "while a<=10:\n",
        "\n",
        "    a= a*2\n",
        "    print(a)"
      ],
      "metadata": {
        "colab": {
          "base_uri": "https://localhost:8080/"
        },
        "id": "CNZ_drOSQ87Q",
        "outputId": "18978143-4642-48f8-b132-efcef1784812"
      },
      "execution_count": null,
      "outputs": [
        {
          "output_type": "stream",
          "name": "stdout",
          "text": [
            "4\n",
            "8\n",
            "16\n"
          ]
        }
      ]
    },
    {
      "cell_type": "markdown",
      "source": [
        "###Activity 4: Functions\n",
        "\n",
        "A function is a block of organized, reusable code that is used to perform a single, related action.\n",
        "\n",
        "\n",
        "####  Why Learn Functions?\n",
        "- Functions help in reducing code repetition\n",
        "- Organizing code\n",
        "- Improving readability, and reusability.\n",
        "\n",
        "#### Inbuilt vs User-Defined Functions\n",
        "\n",
        "**Inbuilt Functions:**\n",
        "\n",
        "Python has a set of built-in functions like print( ), len( ), type( ), etc., that are always available for use.\n",
        "\n",
        "**User-Defined Functions:**\n",
        "\n",
        "To create a user-defined function, we use a keyword called `def` followed by the name of the function, followed by common brackets, followed by the colon `(:)` symbol.\n",
        "\n",
        "The input(s) to the function is/are provided within the common brackets.\n",
        "\n",
        "The syntax for creating a user-defined function is\n",
        "\n",
        "`def function_name(input1, input2, ..., inputN):`\n",
        "\n",
        "**Note**:\n",
        "\n",
        "1. The function attributes must be written in the subsequent lines after leaving two blank spaces between the code cell and the code. To exit the function, remove the blank spaces between the code cell and the code in the subsequent lines.\n",
        "\n",
        "2. The function name must begin with a lowercase letter.\n",
        "\n",
        "\n",
        "\n",
        "\n",
        "**Let us understand different categories of User defined functions.**\n"
      ],
      "metadata": {
        "id": "zM6cojWvm6gx"
      }
    },
    {
      "cell_type": "markdown",
      "source": [
        "<ul><b><h3><font color=Green><li>Function which takes input and returns output:</h3></font></b>\n",
        "</li>\n",
        "\n",
        "   Let's create a function which takes  two numbers as inputs and   returns their addition as an output."
      ],
      "metadata": {
        "id": "JEfoTQdHnlXX"
      }
    },
    {
      "cell_type": "code",
      "source": [
        "a = 6\n",
        "b = 7\n",
        "c = a+b\n",
        "c"
      ],
      "metadata": {
        "colab": {
          "base_uri": "https://localhost:8080/"
        },
        "id": "XNnmnM8sIXAE",
        "outputId": "f5e7c5ce-fef8-4d3f-a788-cace88ec93f5"
      },
      "execution_count": null,
      "outputs": [
        {
          "output_type": "execute_result",
          "data": {
            "text/plain": [
              "13"
            ]
          },
          "metadata": {},
          "execution_count": 44
        }
      ]
    },
    {
      "cell_type": "code",
      "source": [
        "#Activity: Write a user-defined function that takes two numbers as arguments and returns their sum.\n",
        "def add_numbers(a,b):\n",
        "    result = a+b\n",
        "    return result"
      ],
      "metadata": {
        "id": "X_6Mh2KsnwHH"
      },
      "execution_count": null,
      "outputs": []
    },
    {
      "cell_type": "code",
      "source": [
        "# Activity : Call the add_numbers() function and pass two numbers as input.\n",
        "add_numbers(76877879,78787978)\n"
      ],
      "metadata": {
        "colab": {
          "base_uri": "https://localhost:8080/"
        },
        "id": "7V7oC14MRo1W",
        "outputId": "501aad53-921f-4e11-b4d1-d12f1827c93a"
      },
      "execution_count": null,
      "outputs": [
        {
          "output_type": "execute_result",
          "data": {
            "text/plain": [
              "155665857"
            ]
          },
          "metadata": {},
          "execution_count": 46
        }
      ]
    },
    {
      "cell_type": "code",
      "source": [
        "add_numbers(3,5)"
      ],
      "metadata": {
        "colab": {
          "base_uri": "https://localhost:8080/"
        },
        "id": "iw3R3HnVWtUO",
        "outputId": "b76c3d19-07af-4467-bc47-267fb9eef46a"
      },
      "execution_count": null,
      "outputs": [
        {
          "output_type": "execute_result",
          "data": {
            "text/plain": [
              "8"
            ]
          },
          "metadata": {},
          "execution_count": 47
        }
      ]
    },
    {
      "cell_type": "code",
      "source": [
        "add_numbers(3,5)"
      ],
      "metadata": {
        "colab": {
          "base_uri": "https://localhost:8080/"
        },
        "id": "sq_mSyItWxJ2",
        "outputId": "a5561c9a-3a6d-4c25-d5af-16413446b764"
      },
      "execution_count": null,
      "outputs": [
        {
          "output_type": "execute_result",
          "data": {
            "text/plain": [
              "8"
            ]
          },
          "metadata": {},
          "execution_count": 49
        }
      ]
    },
    {
      "cell_type": "markdown",
      "source": [
        "Here:\n",
        "\n",
        "1. The `add_numbers()` is a function which takes two inputs, `a` and `b`. You can provide any name of your choice to the function. However, some of the function names are reserved for the ready-made functions in Python. So, you need to avoid those names for naming a function such as `print(), input(), sum()` etc.\n",
        "\n",
        "2. The `+` operator adds the values stored in the `a` and `b` variables.\n",
        "\n",
        "3. The variable `result` stores the sum of the values stored in the `a` and `b` variables.\n",
        "\n",
        "4. The `return` keyword returns the output. If you don't write the `return` statement, then this function will only add the numbers but won't give any output.\n",
        "\n",
        "5. While creating a function, make sure that you follow indentation, i.e., after declaring the function, leave two blank spaces between the code cell and the code in the subsequent lines. Otherwise, your code will throw the `IndentationError` at the time of its execution.\n",
        "\n",
        "6. To exit from the function, remove the blank spaces between the code cell and the code in the subsequent lines.\n",
        "\n",
        "<font color= blue>When we run the above code, we do not get anything in the output. This is because, to use a function, you need to **call** the function.</font>\n",
        "\n",
        "**Calling a function:**\n",
        "\n",
        "You can call a function by using function name followed by the inputs in the parenthesis. As `add_number()` function needs two inputs, let's call this function by passing two integers as input."
      ],
      "metadata": {
        "id": "AzLnVkVTnvvL"
      }
    },
    {
      "cell_type": "markdown",
      "source": [
        "<ul><b><h3><font color=green><li>Function which takes input but does not returns any output:</h3></font></b>\n",
        "</li>\n",
        "\n",
        "For some problem statements, a function may take one or more input, but it may not return any output.\n",
        "\n",
        "Let's create a function which takes two numbers as inputs and   stores their sum in a variable, but does not return any output."
      ],
      "metadata": {
        "id": "XtcKaf9Vo0Ao"
      }
    },
    {
      "cell_type": "code",
      "source": [
        "# Activity: Write a function which adds two numbers but does not returns their addition as an output.\n",
        "def add_numbers(num1, num2):\n",
        "  result = num1 + num2\n",
        "  return num1,num2\n"
      ],
      "metadata": {
        "id": "GSVIt41fo77G"
      },
      "execution_count": null,
      "outputs": []
    },
    {
      "cell_type": "code",
      "source": [
        "print(add_numbers(10,15))\n",
        "add_numbers(9,5)"
      ],
      "metadata": {
        "colab": {
          "base_uri": "https://localhost:8080/"
        },
        "id": "QQb8MG5kXIlZ",
        "outputId": "b6a8f920-78f9-438c-acfd-192e3ecb9545"
      },
      "execution_count": null,
      "outputs": [
        {
          "output_type": "stream",
          "name": "stdout",
          "text": [
            "(10, 15)\n"
          ]
        },
        {
          "output_type": "execute_result",
          "data": {
            "text/plain": [
              "(9, 5)"
            ]
          },
          "metadata": {},
          "execution_count": 62
        }
      ]
    },
    {
      "cell_type": "code",
      "source": [
        "a = 5\n",
        "b = 6\n",
        "print(a)\n",
        "b"
      ],
      "metadata": {
        "colab": {
          "base_uri": "https://localhost:8080/"
        },
        "id": "YvFToJDnYVbi",
        "outputId": "c1ad3ce3-4cd3-4b33-8251-ff2034eeb4f3"
      },
      "execution_count": null,
      "outputs": [
        {
          "output_type": "stream",
          "name": "stdout",
          "text": [
            "5\n"
          ]
        },
        {
          "output_type": "execute_result",
          "data": {
            "text/plain": [
              "6"
            ]
          },
          "metadata": {},
          "execution_count": 65
        }
      ]
    },
    {
      "cell_type": "markdown",
      "source": [
        "<ul><b><h3><font color=green><li>Function which does not take any input but returns output:</h3></font></b>\n",
        "</li>\n",
        "\n",
        "For some problem statements, a function does not take any input, yet it produces the output.\n",
        "\n",
        "Let's create a function which returns `\"Python\"` whenever you call it."
      ],
      "metadata": {
        "id": "D44reYDeo_R7"
      }
    },
    {
      "cell_type": "code",
      "source": [
        "#Activity: Create a function and name it \"no_input()\". It should not take any input and should return \"Python\" as an output.\n",
        "def no_input():\n",
        "  return \"Python\"\n",
        "\n",
        "print(no_input())\n",
        "print(no_input())\n",
        "print(no_input())"
      ],
      "metadata": {
        "colab": {
          "base_uri": "https://localhost:8080/"
        },
        "id": "vsvgvdfqpJeP",
        "outputId": "e130d0c5-8c9d-48be-e9fa-4c8599dcb7ed"
      },
      "execution_count": null,
      "outputs": [
        {
          "output_type": "stream",
          "name": "stdout",
          "text": [
            "Python\n",
            "Python\n",
            "Python\n"
          ]
        }
      ]
    },
    {
      "cell_type": "code",
      "source": [
        "def no_input():\n",
        "  return \"Python\"\n",
        "print(no_input())\n",
        "no_input()"
      ],
      "metadata": {
        "colab": {
          "base_uri": "https://localhost:8080/",
          "height": 53
        },
        "id": "DRuhw1aGX7Pb",
        "outputId": "33b093a9-902c-4b0a-fb68-f65c858ce22c"
      },
      "execution_count": null,
      "outputs": [
        {
          "output_type": "stream",
          "name": "stdout",
          "text": [
            "Python\n"
          ]
        },
        {
          "output_type": "execute_result",
          "data": {
            "text/plain": [
              "'Python'"
            ],
            "application/vnd.google.colaboratory.intrinsic+json": {
              "type": "string"
            }
          },
          "metadata": {},
          "execution_count": 60
        }
      ]
    },
    {
      "cell_type": "markdown",
      "source": [
        "As you can see, we called the `no_input()` function thrice and thrice it returned an output without taking an input.\n"
      ],
      "metadata": {
        "id": "LRl-Z2DSpIPp"
      }
    }
  ]
}