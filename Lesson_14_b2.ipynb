{
  "nbformat": 4,
  "nbformat_minor": 0,
  "metadata": {
    "colab": {
      "provenance": [],
      "include_colab_link": true
    },
    "kernelspec": {
      "name": "python3",
      "display_name": "Python 3"
    },
    "language_info": {
      "name": "python"
    }
  },
  "cells": [
    {
      "cell_type": "markdown",
      "metadata": {
        "id": "view-in-github",
        "colab_type": "text"
      },
      "source": [
        "<a href=\"https://colab.research.google.com/github/poudyaldiksha/Data-Science-project/blob/main/Lesson_14_b2.ipynb\" target=\"_parent\"><img src=\"https://colab.research.google.com/assets/colab-badge.svg\" alt=\"Open In Colab\"/></a>"
      ]
    },
    {
      "cell_type": "markdown",
      "source": [
        "# Lesson 14: String Methods and Functions- III, Sets"
      ],
      "metadata": {
        "id": "eOhbMQeHz2_X"
      }
    },
    {
      "cell_type": "markdown",
      "source": [
        "**Strings**\n",
        "\n",
        "So far, we have been calling strings a data-type. But technically, in Python, a string is another data structure just like a list, a tuple, and a dictionary. Therefore, it means a string also stores data. Essentially, a string is an array containing some items. Any character (whether a letter, a number, or a special symbol like space, brackets, etc.) enclosed within double quotes `(\"\")` or single quotes `('')` is considered a string.\n",
        "\n"
      ],
      "metadata": {
        "id": "atxmVzTBvIsj"
      }
    },
    {
      "cell_type": "markdown",
      "metadata": {
        "id": "0OMi1V9osRiW"
      },
      "source": [
        "---"
      ]
    },
    {
      "cell_type": "markdown",
      "metadata": {
        "id": "uSbF9A2m8Hm4"
      },
      "source": [
        "### Activity 1: The `format()` Function\n",
        "\n",
        "The `format()` function allows you to format strings by placing placeholders in the string and replacing them with specified values.\n",
        "\n",
        "**Syntax:**\n",
        "\n",
        "`formatted_string = \"String with {} placeholders\".format(value)`\n",
        "\n",
        "Here's a breakdown of its components:\n",
        "\n",
        "- `{}`: This is a placeholder where values will be inserted.\n",
        "- `.format(value)`: This method replaces the placeholder {} with the value provided.\n"
      ]
    },
    {
      "cell_type": "code",
      "source": [
        "#Example\n",
        "\n",
        "name = input(\"please enter your name:\")\n",
        "age = input(\"please mention your age:\")\n",
        "formatted_string = \"My name is {} and I am {} years old.\".format(name, age)\n",
        "print(formatted_string)"
      ],
      "metadata": {
        "id": "3DtvncOmg6da",
        "colab": {
          "base_uri": "https://localhost:8080/"
        },
        "outputId": "a573a0e1-6b5f-4ed7-a0d0-a6c1b91c8a79"
      },
      "execution_count": null,
      "outputs": [
        {
          "output_type": "stream",
          "name": "stdout",
          "text": [
            "please enter your name:45\n",
            "please mention your age:john\n",
            "My name is 45 and I am john years old.\n"
          ]
        }
      ]
    },
    {
      "cell_type": "code",
      "source": [
        "# Example: Formatting a Greeting Message\n",
        "#Data\n",
        "name = \"Alice\"\n",
        "age = 25\n",
        "city = \"New York\"\n",
        "\n",
        "# Using format() function\n",
        "greeting = \"Hello, my name is {}. I am {} years old and I live in {}.\".format(name, age, city)\n",
        "\n",
        "# Printing the formatted string\n",
        "print(greeting)"
      ],
      "metadata": {
        "id": "IwQMXy6pKtY_",
        "colab": {
          "base_uri": "https://localhost:8080/"
        },
        "outputId": "b79efe39-5b54-48c5-c0f9-d5195969a09f"
      },
      "execution_count": null,
      "outputs": [
        {
          "output_type": "stream",
          "name": "stdout",
          "text": [
            "Hello, my name is Alice. I am 25 years old and I live in New York.\n"
          ]
        }
      ]
    },
    {
      "cell_type": "markdown",
      "source": [
        "**Labelling Placeholders**\n",
        "\n",
        "When there are too many placeholders to fill, you might lose a track of what value to put to what placeholder. In such cases, the better approach is to label the placeholders in such a way that they describe the values to put to the placeholders."
      ],
      "metadata": {
        "id": "Ne6ZdUEnK4Ya"
      }
    },
    {
      "cell_type": "code",
      "source": [
        "# Example: Formatting a Greeting Message\n",
        "#Data\n",
        "name = \"Alice\"\n",
        "age = 25\n",
        "city = \"New York\"\n",
        "\n",
        "# Using format() function\n",
        "greeting = \"Hello, my name is {a}. I am {b} years old and I live in {c}.\".format( b=age, c=city,a = name)\n",
        "\n",
        "# Printing the formatted string\n",
        "print(greeting)"
      ],
      "metadata": {
        "id": "VlT4m4gThSD_",
        "colab": {
          "base_uri": "https://localhost:8080/"
        },
        "outputId": "390c3814-6bf6-4271-bf43-bcb270dc24e5"
      },
      "execution_count": null,
      "outputs": [
        {
          "output_type": "stream",
          "name": "stdout",
          "text": [
            "Hello, my name is Alice. I am 25 years old and I live in New York.\n"
          ]
        }
      ]
    },
    {
      "cell_type": "code",
      "source": [
        "#Example: Formatting a Product Listing\n",
        "\n",
        "# Data\n",
        "product = \"Laptop\"\n",
        "price = 79999\n",
        "quantity = 5\n",
        "\n",
        "# Using format() function with labeled placeholders\n",
        "product_listing = \"Product: {product}, Price: {price}, Quantity: {quantity}\".format(\n",
        "    product=product, price=price, quantity=quantity)\n",
        "\n",
        "# Printing the formatted string\n",
        "print(product_listing)"
      ],
      "metadata": {
        "id": "E1yvwsUxKzO5",
        "colab": {
          "base_uri": "https://localhost:8080/"
        },
        "outputId": "c83a683b-f3d7-4c9d-87e5-10b90265ca13"
      },
      "execution_count": null,
      "outputs": [
        {
          "output_type": "stream",
          "name": "stdout",
          "text": [
            "Product: Laptop, Price: 79999, Quantity: 5\n"
          ]
        }
      ]
    },
    {
      "cell_type": "markdown",
      "source": [
        "As you can see, we have labelled the placeholders with the to determine which value to assign to which placeholder. Then, using the `format()` function, we have assigned the values to their respective placeholders.\n"
      ],
      "metadata": {
        "id": "Lwy-95VJixWw"
      }
    },
    {
      "cell_type": "markdown",
      "metadata": {
        "id": "lmAATGWoRaoh"
      },
      "source": [
        "### Activity 2: Zero Padding\n",
        "\n",
        "Zero padding is a technique used to ensure that numbers are displayed with a fixed width by adding leading zeros if necessary. This is particularly useful when you want to align numbers in a table or when you need to format numbers in a specific way.\n",
        "\n",
        "You can print a single-digit number as an $n$-digit number, such that the first $(n - 1)$ digits are zeros, using the `format()` function. E.g., you can print 5 as 005. To do this, you have to put the `:0n` flag inside a placeholder where `n` is the number of digits to be displayed in the final number.\n",
        "\n",
        "\n",
        "To zero pad a number using the `format()` function, you use the `:0n` flag inside the placeholder. Here, n is the total width of the final number, including the zeros and the original number.\n",
        "\n",
        "**Syntax:** `\"{:0n}\".format(number)`\n",
        "\n",
        "`{}` is the placeholder for the value to be formatted.\n",
        "\n",
        "`:` introduces the format specification.\n",
        "\n",
        "`0` indicates that you want to pad with zeros.\n",
        "\n",
        "`n` is the total width of the final number.\n"
      ]
    },
    {
      "cell_type": "code",
      "source": [
        "print(\"{:05}\".format(\"t\"))"
      ],
      "metadata": {
        "id": "4gXwV2p0eNt7",
        "colab": {
          "base_uri": "https://localhost:8080/"
        },
        "outputId": "bc75b608-15ce-4870-a8f0-192a8295636d"
      },
      "execution_count": null,
      "outputs": [
        {
          "output_type": "stream",
          "name": "stdout",
          "text": [
            "t0000\n"
          ]
        }
      ]
    },
    {
      "cell_type": "code",
      "source": [
        "print(\"{:05}\".format(\"2\"))"
      ],
      "metadata": {
        "colab": {
          "base_uri": "https://localhost:8080/"
        },
        "id": "rene10hbNrz1",
        "outputId": "85e45e83-664e-4e1d-d064-eb3fa271849d"
      },
      "execution_count": null,
      "outputs": [
        {
          "output_type": "stream",
          "name": "stdout",
          "text": [
            "20000\n"
          ]
        }
      ]
    },
    {
      "cell_type": "code",
      "source": [
        "t= \"{:05}\".format(2)\n",
        "type(t)"
      ],
      "metadata": {
        "id": "RdbmCqSPNvOu",
        "colab": {
          "base_uri": "https://localhost:8080/"
        },
        "outputId": "52e3e29d-00cd-494e-8a0a-43877604c3d8"
      },
      "execution_count": null,
      "outputs": [
        {
          "output_type": "execute_result",
          "data": {
            "text/plain": [
              "str"
            ]
          },
          "metadata": {},
          "execution_count": 7
        }
      ]
    },
    {
      "cell_type": "code",
      "source": [
        "print(\"{:05}\".format(2))"
      ],
      "metadata": {
        "id": "cva_lYW4N4Xa",
        "colab": {
          "base_uri": "https://localhost:8080/"
        },
        "outputId": "2ee55fea-9c9f-4413-c5ee-282e8ab797c6"
      },
      "execution_count": null,
      "outputs": [
        {
          "output_type": "stream",
          "name": "stdout",
          "text": [
            "00002\n"
          ]
        }
      ]
    },
    {
      "cell_type": "code",
      "source": [
        "a = \"{:05}\".format(\"2\")\n",
        "type(a)"
      ],
      "metadata": {
        "id": "g-XiArvvOl8s"
      },
      "execution_count": null,
      "outputs": []
    },
    {
      "cell_type": "code",
      "metadata": {
        "id": "X3fcNxgeUnSM",
        "colab": {
          "base_uri": "https://localhost:8080/"
        },
        "outputId": "660a9bb3-378d-444f-a8c9-e4d685d3ed57"
      },
      "source": [
        "#Print the natural numbers between 5 and 15 as three-digit numbers.\n",
        "for i in range(5,16):\n",
        "  print(\"{:03}\".format(i))"
      ],
      "execution_count": null,
      "outputs": [
        {
          "output_type": "stream",
          "name": "stdout",
          "text": [
            "005\n",
            "006\n",
            "007\n",
            "008\n",
            "009\n",
            "010\n",
            "011\n",
            "012\n",
            "013\n",
            "014\n",
            "015\n"
          ]
        }
      ]
    },
    {
      "cell_type": "markdown",
      "source": [
        "**Aligning Numbers in a Table**\n",
        "When printing numbers in a table, zero padding ensures that all numbers align correctly in their respective columns, making the table easier to read."
      ],
      "metadata": {
        "id": "l-DFhAcAGr3k"
      }
    },
    {
      "cell_type": "code",
      "source": [
        "#Example\n",
        "numbers = [1, 23, 456, 7890]\n",
        "for num in numbers:\n",
        "    print(\"{:04}\".format(num))"
      ],
      "metadata": {
        "id": "bMHS-gCgGme3",
        "colab": {
          "base_uri": "https://localhost:8080/"
        },
        "outputId": "78e5bcda-c937-4e82-d6c4-cf177c0ebe75"
      },
      "execution_count": null,
      "outputs": [
        {
          "output_type": "stream",
          "name": "stdout",
          "text": [
            "0001\n",
            "0023\n",
            "0456\n",
            "7890\n"
          ]
        }
      ]
    },
    {
      "cell_type": "code",
      "source": [
        "#Example\n",
        "data = [\n",
        "    [1, 23, 456],\n",
        "    [78, 9, 345],\n",
        "    [12, 34, 5]\n",
        "]\n",
        "\n",
        "# Print the table with zero-padded numbers\n",
        "for row in data:\n",
        "    for number in row:\n",
        "        print(\"{:04}\".format(number), end=\"@@@\")\n",
        "    print()"
      ],
      "metadata": {
        "id": "q_1-Q_15HKeV",
        "colab": {
          "base_uri": "https://localhost:8080/"
        },
        "outputId": "e74614cf-7dee-4b01-f8d6-331e14c3708a"
      },
      "execution_count": null,
      "outputs": [
        {
          "output_type": "stream",
          "name": "stdout",
          "text": [
            "0001@@@0023@@@0456@@@\n",
            "0078@@@0009@@@0345@@@\n",
            "0012@@@0034@@@0005@@@\n"
          ]
        }
      ]
    },
    {
      "cell_type": "code",
      "source": [
        "#Example\n",
        "data = [\n",
        "    [1, 23, 456],\n",
        "    [78, 9, 345],\n",
        "    [12, 34, 5]\n",
        "]\n",
        "\n",
        "# Print the table with zero-padded numbers\n",
        "for row in data:\n",
        "    for number in row:\n",
        "        print(\"{:04}\".format(number))\n",
        "    print()"
      ],
      "metadata": {
        "colab": {
          "base_uri": "https://localhost:8080/"
        },
        "id": "oshWuEG_D3d_",
        "outputId": "e6458490-872a-44b1-838c-bc99851f87f8"
      },
      "execution_count": null,
      "outputs": [
        {
          "output_type": "stream",
          "name": "stdout",
          "text": [
            "0001\n",
            "0023\n",
            "0456\n",
            "\n",
            "0078\n",
            "0009\n",
            "0345\n",
            "\n",
            "0012\n",
            "0034\n",
            "0005\n",
            "\n"
          ]
        }
      ]
    },
    {
      "cell_type": "markdown",
      "source": [
        "**Formatting Dates**\n",
        "Zero padding is often used in date formatting to ensure that day and month numbers are always two digits.\n",
        "\n"
      ],
      "metadata": {
        "id": "m39Wdfh-G1Nw"
      }
    },
    {
      "cell_type": "code",
      "source": [
        "#Example\n",
        "day = 7\n",
        "month = 12\n",
        "year = 2024\n",
        "formatted_date = \"{:02}/{:02}/{}\".format(day, month, year)\n",
        "print(formatted_date)"
      ],
      "metadata": {
        "colab": {
          "base_uri": "https://localhost:8080/"
        },
        "id": "wyJFDQJdG0sb",
        "outputId": "3c6c9345-5970-4199-ae80-e3f3c7c84376"
      },
      "execution_count": null,
      "outputs": [
        {
          "output_type": "stream",
          "name": "stdout",
          "text": [
            "07/12/2024\n"
          ]
        }
      ]
    },
    {
      "cell_type": "markdown",
      "metadata": {
        "id": "zyv1zQ-OchO0"
      },
      "source": [
        "---"
      ]
    },
    {
      "cell_type": "markdown",
      "metadata": {
        "id": "1y6V_VjtSJKA"
      },
      "source": [
        "### Activity 3: Digits After Decimal\n",
        "\n",
        "\n",
        "Similarly `format()` function in Python allows you to control the number of digits displayed after the decimal point. This is particularly useful when you need to present numerical data in a standardized format, such as rounding values to a specific precision for reporting or display purposes.\n",
        "\n",
        "\n",
        "\n",
        "To do this, you have to put the `:.nf` flag inside a placeholder where `n` is the number of digits to be displayed after the decimal point.\n",
        "\n",
        "**Syntax:** `\"{:.nf}\".format(number)`\n",
        "\n",
        "`{} `is the placeholder for the value to be formatted.\n",
        "\n",
        "`:` introduces the format specification.\n",
        "\n",
        "`.n` specifies the number of digits after the decimal point.\n",
        "\n",
        "`f `indicates that the number is a floating-point number."
      ]
    },
    {
      "cell_type": "code",
      "source": [
        "print(\"{:.3f}\".format(5.6783456))"
      ],
      "metadata": {
        "id": "QHjJtyH0eYJa",
        "colab": {
          "base_uri": "https://localhost:8080/"
        },
        "outputId": "162bb950-1361-410e-f9f6-f9751e63d88e"
      },
      "execution_count": null,
      "outputs": [
        {
          "output_type": "stream",
          "name": "stdout",
          "text": [
            "5.678\n"
          ]
        }
      ]
    },
    {
      "cell_type": "code",
      "source": [
        "print(\"{:.1f}\".format(5.6783456))"
      ],
      "metadata": {
        "id": "C9BnvJTreaT-",
        "colab": {
          "base_uri": "https://localhost:8080/"
        },
        "outputId": "50d621c9-6326-496d-f398-2f24e1dbf2e2"
      },
      "execution_count": null,
      "outputs": [
        {
          "output_type": "stream",
          "name": "stdout",
          "text": [
            "5.7\n"
          ]
        }
      ]
    },
    {
      "cell_type": "code",
      "source": [
        "round(5.67834,2)"
      ],
      "metadata": {
        "colab": {
          "base_uri": "https://localhost:8080/"
        },
        "id": "SiLZ33p3EfwH",
        "outputId": "7b16512a-3e12-414c-a361-5ea6c4a3a1b4"
      },
      "execution_count": null,
      "outputs": [
        {
          "output_type": "execute_result",
          "data": {
            "text/plain": [
              "5.68"
            ]
          },
          "metadata": {},
          "execution_count": 17
        }
      ]
    },
    {
      "cell_type": "markdown",
      "source": [
        "Let's say you have a list of average monthly temperatures (in Celsius) for a city and you want to print them rounded to one decimal place."
      ],
      "metadata": {
        "id": "I0rH0gjqIXUN"
      }
    },
    {
      "cell_type": "code",
      "metadata": {
        "id": "9wiB5tbDYtFL",
        "colab": {
          "base_uri": "https://localhost:8080/"
        },
        "outputId": "a022e9d8-e945-4fcf-bf5a-edb049606d13"
      },
      "source": [
        "temperatures = [23.456, 24.789, 22.334, 21.567, 23.987]\n",
        "\n",
        "# Using format() function to display temperatures rounded to one decimal place\n",
        "for temp in temperatures:\n",
        "    formatted_temp = \"{:.1f}\".format(temp)\n",
        "    print(formatted_temp)"
      ],
      "execution_count": null,
      "outputs": [
        {
          "output_type": "stream",
          "name": "stdout",
          "text": [
            "23.5\n",
            "24.8\n",
            "22.3\n",
            "21.6\n",
            "24.0\n"
          ]
        }
      ]
    },
    {
      "cell_type": "markdown",
      "metadata": {
        "id": "9wMFHOlAclWs"
      },
      "source": [
        "---"
      ]
    },
    {
      "cell_type": "markdown",
      "metadata": {
        "id": "Ib4wDLMobzq2"
      },
      "source": [
        "###  Activity 4: Commas After Digits\n",
        "When dealing with large numbers, it's often useful to format them with commas to make them easier to read. The `format()` function in Python provides a simple way to insert commas in large numbers.\n",
        "\n",
        "To do this, you need to put the `:,` flag inside a placeholder.\n",
        "\n",
        "**Syntax:** `\"{:,}\".format(number)`"
      ]
    },
    {
      "cell_type": "code",
      "source": [
        "print(\"{:,}\".format(2898392090909099999090900))\n"
      ],
      "metadata": {
        "id": "XKzuI5czeiE9",
        "colab": {
          "base_uri": "https://localhost:8080/"
        },
        "outputId": "61d06d39-0139-4cfa-e82b-011096b793b3"
      },
      "execution_count": null,
      "outputs": [
        {
          "output_type": "stream",
          "name": "stdout",
          "text": [
            "2,898,392,090,909,099,999,090,900\n"
          ]
        }
      ]
    },
    {
      "cell_type": "code",
      "source": [
        "o = \"{:,}\".format(2898392090909099999090900)\n",
        "type(o)\n",
        "#t = int(o)\n",
        "type(t)"
      ],
      "metadata": {
        "colab": {
          "base_uri": "https://localhost:8080/"
        },
        "id": "U3u9hnIxE8rh",
        "outputId": "e766ef17-2ba2-49bb-ee74-08e8cceeb553"
      },
      "execution_count": null,
      "outputs": [
        {
          "output_type": "execute_result",
          "data": {
            "text/plain": [
              "str"
            ]
          },
          "metadata": {},
          "execution_count": 22
        }
      ]
    },
    {
      "cell_type": "markdown",
      "source": [
        "\n",
        "Let's Consider a list of population data for different countries. You can format each population number with commas for clarity.\n",
        "\n"
      ],
      "metadata": {
        "id": "f080xs5aJRy0"
      }
    },
    {
      "cell_type": "code",
      "metadata": {
        "id": "_i1G90u9dSlO",
        "colab": {
          "base_uri": "https://localhost:8080/"
        },
        "outputId": "06b3154d-5a77-4de3-b352-e32746d4c7df"
      },
      "source": [
        "#Example\n",
        "populations = [331002651, 1380004385, 212559417, 145934462]\n",
        "\n",
        "# Using format() function to add commas to each population number\n",
        "for population in populations:\n",
        "    formatted_population = \"{:,}\".format(population)\n",
        "    print(formatted_population)"
      ],
      "execution_count": null,
      "outputs": [
        {
          "output_type": "stream",
          "name": "stdout",
          "text": [
            "331,002,651\n",
            "1,380,004,385\n",
            "212,559,417\n",
            "145,934,462\n"
          ]
        }
      ]
    },
    {
      "cell_type": "markdown",
      "metadata": {
        "id": "ktVEwIyve-Ac"
      },
      "source": [
        "In the above case, you can also print digits after the decimal point along with the commas."
      ]
    },
    {
      "cell_type": "markdown",
      "metadata": {
        "id": "iPN_Ns0gTmRx"
      },
      "source": [
        "### Activity 5: The `f-strings` or f-literals\n",
        "\n",
        "The `f-strings` is a cleaner and a faster way of formatting a string as compared to the `format()` function. The concepts of zero paddings, digits after the decimal point, commas after digits etc. are also applicable in case of the formatting through `f` literal in the exact same way.  However, the `f-strings` are applicable only to the newer versions of Python, specifically, version 3.6 and above. f-strings provide a more readable and concise way to embed expressions inside string literals using curly braces `{}`.\n",
        "\n",
        "Introduction of `f-string` does not necessarily mean that the `format()` function has become irrelevant. Many Python programmers still use the `format()` function to make their code compatible with the older versions of Python. It is also more convenient while working with multiline strings.\n",
        "\n",
        "Before we learn formatting through the literal `f`, let's check the Python version installed on Colab notebooks by Google. You can do this by writing the `!python --version` bash command.\n",
        "\n",
        "**Note:**\n",
        "\n",
        "1. Every notebook has the same version of Python installed.\n",
        "\n",
        "2. If you are working on a terminal window of a Linux/Unix based machine, then you don't have to use the exclamation mark in the bash command, i.e., the command becomes `python --version`."
      ]
    },
    {
      "cell_type": "markdown",
      "source": [
        "**Why Use f-strings?**\n",
        "- Readability: `f-strings` are more readable and easier to understand.\n",
        "- Performance: `f-strings` are faster than the `format()` function.\n",
        "- Flexibility: All formatting options available in the `format()` function are also available in `f-strings`.\n"
      ],
      "metadata": {
        "id": "QZIlSoOyVABh"
      }
    },
    {
      "cell_type": "code",
      "metadata": {
        "id": "O6BSGQXnrtMQ",
        "colab": {
          "base_uri": "https://localhost:8080/"
        },
        "outputId": "5ada96b1-81e6-4bf4-92cf-b1616a61b4a9"
      },
      "source": [
        "#Check the version of Python installed on Colab notebooks.\n",
        "!python --version"
      ],
      "execution_count": null,
      "outputs": [
        {
          "output_type": "stream",
          "name": "stdout",
          "text": [
            "Python 3.10.12\n"
          ]
        }
      ]
    },
    {
      "cell_type": "code",
      "source": [
        "# formatting using f literal\n",
        "name = \"John\"\n",
        "age = 25\n",
        "greeting = f\"Hello, my name is {name} and I am {age} years old.\"\n",
        "print(greeting)"
      ],
      "metadata": {
        "colab": {
          "base_uri": "https://localhost:8080/"
        },
        "id": "OkRVXclyVfep",
        "outputId": "821eaaf5-c26b-4b50-d608-d20c6220e40d"
      },
      "execution_count": null,
      "outputs": [
        {
          "output_type": "stream",
          "name": "stdout",
          "text": [
            "Hello, my name is John and I am 25 years old.\n"
          ]
        }
      ]
    },
    {
      "cell_type": "markdown",
      "source": [
        "Notice how variables name and age are directly embedded inside the string using curly braces `{}`.\n",
        "\n"
      ],
      "metadata": {
        "id": "pKutybZ2bMNi"
      }
    },
    {
      "cell_type": "code",
      "source": [
        "#formatting using format() function\n",
        "a = \"John\"\n",
        "b = 15\n",
        "greet=\"hello, my name is {} and I am {}\".format(a,b)\n",
        "greet"
      ],
      "metadata": {
        "id": "MfcocPdxUKUm"
      },
      "execution_count": null,
      "outputs": []
    },
    {
      "cell_type": "markdown",
      "source": [
        "**Zero Padding with f-strings**\n",
        "\n",
        "You can use f-strings to format numbers with leading zeros. The syntax is the same as with the `format()` function:"
      ],
      "metadata": {
        "id": "2OQmEgeTbbIZ"
      }
    },
    {
      "cell_type": "code",
      "source": [
        "#Example\n",
        "number = 5\n",
        "formatted_number = f\"{number:03}\"\n",
        "print(formatted_number)"
      ],
      "metadata": {
        "colab": {
          "base_uri": "https://localhost:8080/"
        },
        "id": "aqS3q6a5bgOH",
        "outputId": "28a05ca0-5dd1-43b2-88e1-98d45b434600",
        "collapsed": true
      },
      "execution_count": null,
      "outputs": [
        {
          "output_type": "stream",
          "name": "stdout",
          "text": [
            "005\n"
          ]
        }
      ]
    },
    {
      "cell_type": "code",
      "source": [
        "f\"{3:05}\""
      ],
      "metadata": {
        "colab": {
          "base_uri": "https://localhost:8080/",
          "height": 35
        },
        "id": "BVhVK1vASu4y",
        "outputId": "7112bf86-1ba6-4ef9-ed13-7f614c6b99f5"
      },
      "execution_count": null,
      "outputs": [
        {
          "output_type": "execute_result",
          "data": {
            "text/plain": [
              "'00003'"
            ],
            "application/vnd.google.colaboratory.intrinsic+json": {
              "type": "string"
            }
          },
          "metadata": {},
          "execution_count": 29
        }
      ]
    },
    {
      "cell_type": "code",
      "source": [
        "\"how {:03}\".format(5)"
      ],
      "metadata": {
        "colab": {
          "base_uri": "https://localhost:8080/",
          "height": 35
        },
        "id": "pzJeJJedSftc",
        "outputId": "3e6076a6-7734-4cb9-9ebc-78147fcafce6"
      },
      "execution_count": null,
      "outputs": [
        {
          "output_type": "execute_result",
          "data": {
            "text/plain": [
              "'how 005'"
            ],
            "application/vnd.google.colaboratory.intrinsic+json": {
              "type": "string"
            }
          },
          "metadata": {},
          "execution_count": 28
        }
      ]
    },
    {
      "cell_type": "markdown",
      "source": [
        "**Rounding Off Decimals with f-strings**\n",
        "\n",
        "You can control the number of digits after the decimal point in floating-point numbers:"
      ],
      "metadata": {
        "id": "WuUH_EUIboKK"
      }
    },
    {
      "cell_type": "code",
      "source": [
        "#Example\n",
        "pi = 3.14159\n",
        "formatted_pi = f\"{pi:.2f}\"\n",
        "print(formatted_pi)"
      ],
      "metadata": {
        "colab": {
          "base_uri": "https://localhost:8080/"
        },
        "id": "eQjpMqpLbvZN",
        "outputId": "137166a1-cf0e-4159-cf2d-c39b5a2a0445"
      },
      "execution_count": null,
      "outputs": [
        {
          "output_type": "stream",
          "name": "stdout",
          "text": [
            "3.14\n"
          ]
        }
      ]
    },
    {
      "cell_type": "markdown",
      "source": [
        "**Adding Commas with f-strings**\n",
        "\n",
        "For large numbers, you can add commas to separate thousands:"
      ],
      "metadata": {
        "id": "we6KCGYGb0lp"
      }
    },
    {
      "cell_type": "code",
      "source": [
        "#Example\n",
        "large_number = 1234567890\n",
        "formatted_number = f\"{large_number:,}\"\n",
        "print(formatted_number)"
      ],
      "metadata": {
        "colab": {
          "base_uri": "https://localhost:8080/"
        },
        "id": "tdSgx8tmb4-1",
        "outputId": "90b84016-7252-4ce9-961e-172a865088f5"
      },
      "execution_count": null,
      "outputs": [
        {
          "output_type": "stream",
          "name": "stdout",
          "text": [
            "1,234,567,890\n"
          ]
        }
      ]
    },
    {
      "cell_type": "markdown",
      "source": [
        "Imagine you are creating a price list for a store. You want to format the prices to include two decimal places and commas."
      ],
      "metadata": {
        "id": "DNLEfnOxb_aq"
      }
    },
    {
      "cell_type": "code",
      "source": [
        "#Example\n",
        "prices = [1234.5, 56789.123, 987654.321]\n",
        "formatted_prices = [f\"${price:,.2f}\" for price in prices]\n",
        "for price in formatted_prices:\n",
        "    print(price)"
      ],
      "metadata": {
        "colab": {
          "base_uri": "https://localhost:8080/"
        },
        "id": "FELPEC92cB41",
        "outputId": "fca3fd83-7172-4219-9241-11a1a0f89941"
      },
      "execution_count": null,
      "outputs": [
        {
          "output_type": "stream",
          "name": "stdout",
          "text": [
            "$1,234.50\n",
            "$56,789.12\n",
            "$987,654.32\n"
          ]
        }
      ]
    },
    {
      "cell_type": "markdown",
      "source": [
        "You are creating a scoreboard for a game. You want to display the scores with leading zeros so that they are always three digits long."
      ],
      "metadata": {
        "id": "rhhk_1PAcLCZ"
      }
    },
    {
      "cell_type": "code",
      "source": [
        "#Example\n",
        "scores = [7, 42, 105]\n",
        "formatted_scores = [f\"{score:03}\" for score in scores]\n",
        "for score in formatted_scores:\n",
        "    print(score)\n"
      ],
      "metadata": {
        "colab": {
          "base_uri": "https://localhost:8080/"
        },
        "id": "ETJfyxHfcNzp",
        "outputId": "f4a2979c-106b-4eda-83a1-a2e8a810ab05"
      },
      "execution_count": null,
      "outputs": [
        {
          "output_type": "stream",
          "name": "stdout",
          "text": [
            "007\n",
            "042\n",
            "105\n"
          ]
        }
      ]
    },
    {
      "cell_type": "markdown",
      "source": [
        "Format a list of dates to include leading zeros for single-digit days and months."
      ],
      "metadata": {
        "id": "r48EuO7vcnXO"
      }
    },
    {
      "cell_type": "code",
      "source": [
        "#Example\n",
        "dates = [(1, 2, 2024), (12, 11, 2023), (7, 8, 2025)]\n",
        "formatted_dates = [f\"{day:02}/{month:02}/{year}\" for day, month, year in dates]\n",
        "for date in formatted_dates:\n",
        "    print(date)"
      ],
      "metadata": {
        "colab": {
          "base_uri": "https://localhost:8080/"
        },
        "id": "pR0FhFKxce-u",
        "outputId": "e4ac5418-77d6-4c03-a6e6-0256fdd58009"
      },
      "execution_count": null,
      "outputs": [
        {
          "output_type": "stream",
          "name": "stdout",
          "text": [
            "01/02/2024\n",
            "12/11/2023\n",
            "07/08/2025\n"
          ]
        }
      ]
    },
    {
      "cell_type": "markdown",
      "metadata": {
        "id": "n6UohjVSsS9N"
      },
      "source": [
        "The literal `f`, works exactly like the `format()` function. You simply have to write a final version of a string containing placeholders. The placeholders need to be labelled with the variable names that contain the values to be placed in the respective placeholders.\n",
        "\n"
      ]
    },
    {
      "cell_type": "markdown",
      "metadata": {
        "id": "4wmQBtbRSoWm"
      },
      "source": [
        "---"
      ]
    },
    {
      "cell_type": "markdown",
      "metadata": {
        "id": "axbwCPPkSpRh"
      },
      "source": [
        "### Activity 6: Mathematical Operations Inside Placeholders\n",
        "\n",
        "You can also perform mathematical operations inside the placeholders.\n",
        "\n",
        "In Python, `f-strings` (formatted string literals) offer a powerful feature where you can embed expressions, including mathematical operations, directly inside the placeholders. This makes it convenient to compute values on-the-fly and include them in your formatted strings. Let's explore this feature in detail with examples."
      ]
    },
    {
      "cell_type": "markdown",
      "source": [
        "**Mathematical Operations Inside f-strings**\n",
        "\n",
        "You can perform mathematical operations directly inside the curly braces `{}` of an `f-string`. This allows you to compute values and format them dynamically within your string."
      ],
      "metadata": {
        "id": "heQDDakaeBdg"
      }
    },
    {
      "cell_type": "markdown",
      "source": [
        "Let's start with a simple example of adding two numbers inside an `f-string`:"
      ],
      "metadata": {
        "id": "P7LN_C0neJJQ"
      }
    },
    {
      "cell_type": "code",
      "source": [
        "#Example 1: Addition\n",
        "a = 10\n",
        "b = 20\n",
        "\n",
        "result = f\"The sum of {a} and {b} is {a + b}.\"\n",
        "print(result)"
      ],
      "metadata": {
        "colab": {
          "base_uri": "https://localhost:8080/"
        },
        "id": "wHnkMLvieN13",
        "outputId": "e0e655aa-871a-44b4-8d68-c2e11eac30de"
      },
      "execution_count": null,
      "outputs": [
        {
          "output_type": "stream",
          "name": "stdout",
          "text": [
            "The sum of 10 and 20 is 30.\n"
          ]
        }
      ]
    },
    {
      "cell_type": "markdown",
      "source": [
        "You can also perform multiplication and division operations:"
      ],
      "metadata": {
        "id": "QvbxuygceWuK"
      }
    },
    {
      "cell_type": "code",
      "source": [
        "#You can also perform mathematical operations inside the placeholders.\n",
        "print(f\"{2 * 10}\")"
      ],
      "metadata": {
        "colab": {
          "base_uri": "https://localhost:8080/"
        },
        "id": "V0ZJmYc3dKsx",
        "outputId": "9b7f5a3d-a534-48cd-f875-282dd5b35edd"
      },
      "execution_count": null,
      "outputs": [
        {
          "output_type": "stream",
          "name": "stdout",
          "text": [
            "20\n"
          ]
        }
      ]
    },
    {
      "cell_type": "code",
      "source": [
        "#Example 2: Multiplication and Division\n",
        "num1 = 15\n",
        "num2 = 3\n",
        "result_mult = f\"The product of {num1} and {num2} is {num1 * num2}.\"\n",
        "result_div = f\"The division of {num1} by {num2} is {num1 / num2}.\"\n",
        "print(result_mult)\n",
        "print(result_div)\n"
      ],
      "metadata": {
        "colab": {
          "base_uri": "https://localhost:8080/"
        },
        "id": "B_0j1H8ZeaFa",
        "outputId": "90f3aaa0-e4a6-471c-d293-40e62793d14c"
      },
      "execution_count": null,
      "outputs": [
        {
          "output_type": "stream",
          "name": "stdout",
          "text": [
            "The product of 15 and 3 is 45.\n",
            "The division of 15 by 3 is 5.0.\n"
          ]
        }
      ]
    },
    {
      "cell_type": "code",
      "source": [
        "#example\n",
        "num_of_pens = 5\n",
        "cost_of_each = 3\n",
        "total_cost = \" Since you have purchased {} pens, total cost is {} Rs \"\n",
        "print(total_cost.format(num_of_pens, num_of_pens * cost_of_each))"
      ],
      "metadata": {
        "colab": {
          "base_uri": "https://localhost:8080/"
        },
        "id": "Tq9EErKIdMa8",
        "outputId": "a384a455-405a-4ced-ad11-c4530cdcbc0f"
      },
      "execution_count": null,
      "outputs": [
        {
          "output_type": "stream",
          "name": "stdout",
          "text": [
            " Since you have purchased 5 pens, total cost is 15 Rs \n"
          ]
        }
      ]
    },
    {
      "cell_type": "code",
      "source": [
        "\" Since you have purchased {} pens, total cost is {} Rs \".format(num_of_pens, num_of_pens * cost_of_each)"
      ],
      "metadata": {
        "colab": {
          "base_uri": "https://localhost:8080/",
          "height": 35
        },
        "id": "RDcTtj5eHKvK",
        "outputId": "dfa12791-9c20-4774-e49f-0acc8ce3c6c1"
      },
      "execution_count": null,
      "outputs": [
        {
          "output_type": "execute_result",
          "data": {
            "text/plain": [
              "' Since you have purchased 5 pens, total cost is 15 Rs '"
            ],
            "application/vnd.google.colaboratory.intrinsic+json": {
              "type": "string"
            }
          },
          "metadata": {},
          "execution_count": 40
        }
      ]
    },
    {
      "cell_type": "code",
      "source": [
        "# temperature conversion\n",
        "fahrenheit = 103\n",
        "celsius = (fahrenheit - 32) * 5 / 9\n",
        "result = f\"{fahrenheit} degrees Fahrenheit is {celsius:.2f} degrees Celsius.\"\n",
        "print(result)"
      ],
      "metadata": {
        "colab": {
          "base_uri": "https://localhost:8080/"
        },
        "id": "BDAx_NuLels8",
        "outputId": "90815001-7109-4b59-cc10-6083e1eac523"
      },
      "execution_count": null,
      "outputs": [
        {
          "output_type": "stream",
          "name": "stdout",
          "text": [
            "103 degrees Fahrenheit is 39.44 degrees Celsius.\n"
          ]
        }
      ]
    },
    {
      "cell_type": "code",
      "source": [
        "celsius = (98.6 - 32) * 5 / 9\n",
        "celsius"
      ],
      "metadata": {
        "colab": {
          "base_uri": "https://localhost:8080/"
        },
        "id": "OFkMt_toHx_l",
        "outputId": "e6672dbd-1c91-464b-fc98-1ac17be7765b"
      },
      "execution_count": null,
      "outputs": [
        {
          "output_type": "execute_result",
          "data": {
            "text/plain": [
              "37.0"
            ]
          },
          "metadata": {},
          "execution_count": 43
        }
      ]
    },
    {
      "cell_type": "code",
      "source": [
        "#simple interest calculator\n",
        "principal = 1000\n",
        "rate = 5\n",
        "time = 2\n",
        "simple_interest = principal * rate * time / 100\n",
        "result = f\"Simple Interest: {simple_interest}.\"\n",
        "print(result)"
      ],
      "metadata": {
        "colab": {
          "base_uri": "https://localhost:8080/"
        },
        "id": "1uUFP-ccergc",
        "outputId": "c472eafd-d82f-482d-81f8-eefd6a538f51"
      },
      "execution_count": null,
      "outputs": [
        {
          "output_type": "stream",
          "name": "stdout",
          "text": [
            "Simple Interest: 100.0.\n"
          ]
        }
      ]
    },
    {
      "cell_type": "code",
      "source": [
        "a = \"python\""
      ],
      "metadata": {
        "id": "AEAObNIWIN3d"
      },
      "execution_count": null,
      "outputs": []
    },
    {
      "cell_type": "markdown",
      "source": [
        "#Sets in Python, Operators"
      ],
      "metadata": {
        "id": "rNSLa43Jjyly"
      }
    },
    {
      "cell_type": "markdown",
      "source": [
        "A set is a unique collection of items that is both unordered and unindexed. This means that each element in a set is unique (no duplicates allowed), and the elements have no specific order. Sets are a fundamental data structure in Python, providing an efficient way to store and manipulate collections of distinct items."
      ],
      "metadata": {
        "id": "ybGhlnaukg7l"
      }
    },
    {
      "cell_type": "markdown",
      "source": [
        "### Activity 1:\n",
        "\n",
        "Creating a Set with Elements: Use curly braces `{} `with elements separated by commas."
      ],
      "metadata": {
        "id": "9BnRtZqOCxTO"
      }
    },
    {
      "cell_type": "code",
      "execution_count": null,
      "metadata": {
        "colab": {
          "base_uri": "https://localhost:8080/"
        },
        "id": "LyYPeemvjq_G",
        "outputId": "34675132-3380-4ef8-9c18-2ec86c0ee904"
      },
      "outputs": [
        {
          "output_type": "execute_result",
          "data": {
            "text/plain": [
              "{1, 2, 3}"
            ]
          },
          "metadata": {},
          "execution_count": 49
        }
      ],
      "source": [
        "# Example of set\n",
        "a = {1,2,3}\n",
        "a"
      ]
    },
    {
      "cell_type": "code",
      "source": [
        "type(a)"
      ],
      "metadata": {
        "colab": {
          "base_uri": "https://localhost:8080/"
        },
        "id": "3v_5QY6NO2IK",
        "outputId": "2084743f-c48a-4856-c60e-03f528e9796d"
      },
      "execution_count": null,
      "outputs": [
        {
          "output_type": "execute_result",
          "data": {
            "text/plain": [
              "set"
            ]
          },
          "metadata": {},
          "execution_count": 50
        }
      ]
    },
    {
      "cell_type": "code",
      "source": [
        "# Example of set\n",
        "fruits = { \"apple\",\"mango\",\"cherry\"}\n",
        "fruits\n"
      ],
      "metadata": {
        "colab": {
          "base_uri": "https://localhost:8080/"
        },
        "id": "DCbf0sBiCrKC",
        "outputId": "bf9ab101-ac93-4553-c7e5-356887776894"
      },
      "execution_count": null,
      "outputs": [
        {
          "output_type": "execute_result",
          "data": {
            "text/plain": [
              "{'apple', 'cherry', 'mango'}"
            ]
          },
          "metadata": {},
          "execution_count": 51
        }
      ]
    },
    {
      "cell_type": "code",
      "source": [
        "type(fruits)"
      ],
      "metadata": {
        "colab": {
          "base_uri": "https://localhost:8080/"
        },
        "id": "QxyYQwQyPGQo",
        "outputId": "8e5c6f19-8921-48d4-cbc7-e81ca1ab6ec1"
      },
      "execution_count": null,
      "outputs": [
        {
          "output_type": "execute_result",
          "data": {
            "text/plain": [
              "set"
            ]
          },
          "metadata": {},
          "execution_count": 52
        }
      ]
    },
    {
      "cell_type": "code",
      "source": [
        "b = {1:1,2:2}\n",
        "type(b)"
      ],
      "metadata": {
        "colab": {
          "base_uri": "https://localhost:8080/"
        },
        "id": "yNa1-7uuPAhb",
        "outputId": "a5eee386-981b-4616-dfa6-a2ae2ae697d0"
      },
      "execution_count": null,
      "outputs": [
        {
          "output_type": "execute_result",
          "data": {
            "text/plain": [
              "dict"
            ]
          },
          "metadata": {},
          "execution_count": 53
        }
      ]
    },
    {
      "cell_type": "markdown",
      "source": [
        "\n",
        "\n",
        "###Activity 2: Key Characteristics of Sets\n",
        "\n",
        "**1. Unordered:**\n",
        "\n",
        "Unlike lists or tuples, sets do not maintain any particular order. The elements in a set do not have a defined sequence."
      ],
      "metadata": {
        "id": "jBvF7t98k48W"
      }
    },
    {
      "cell_type": "code",
      "source": [
        "#Example\n",
        "my_set = {3, 1, 4,7,0,2,10}\n",
        "print(my_set)"
      ],
      "metadata": {
        "colab": {
          "base_uri": "https://localhost:8080/"
        },
        "id": "_1iRKuvPlFrt",
        "outputId": "59f9077d-30b6-40c7-ed76-ebe2c3bab48a"
      },
      "execution_count": null,
      "outputs": [
        {
          "output_type": "stream",
          "name": "stdout",
          "text": [
            "{0, 1, 2, 3, 4, 7, 10}\n"
          ]
        }
      ]
    },
    {
      "cell_type": "markdown",
      "source": [
        "**NOTE:**\n",
        "\n",
        "In Python, sets are unordered collections, which means that the elements have no specific order when they are stored. However, when you print a set, the elements might appear in a seemingly ordered manner due to the way the internal hashing mechanism of sets works. This behavior is not guaranteed, and you should not rely on sets to maintain any particular order of elements.\n",
        "\n",
        "In some environments like Google Colab, Jupyter notebooks, or even certain Python implementations, the printed order of a set's elements can appear sorted, but this is purely coincidental. The actual order is determined by the underlying hashing algorithm and how it manages the elements in the memory.\n",
        "\n"
      ],
      "metadata": {
        "id": "2mYMvoaz8LK3"
      }
    },
    {
      "cell_type": "markdown",
      "source": [
        "**2. Unique Elements:**\n",
        "\n",
        "A set cannot have duplicate elements. If you try to add a duplicate element, it will be ignored."
      ],
      "metadata": {
        "id": "L2Y6JkodlJuW"
      }
    },
    {
      "cell_type": "code",
      "source": [
        "#Example\n",
        "my_set = {1, 2, 2, 3,5,6,8,8,8}\n",
        "print(my_set)"
      ],
      "metadata": {
        "colab": {
          "base_uri": "https://localhost:8080/"
        },
        "id": "ZOmtjqeFlUe7",
        "outputId": "7dcd6f00-e053-4ef9-903d-4ffbde271c49"
      },
      "execution_count": null,
      "outputs": [
        {
          "output_type": "stream",
          "name": "stdout",
          "text": [
            "{1, 2, 3, 5, 6, 8}\n"
          ]
        }
      ]
    },
    {
      "cell_type": "markdown",
      "source": [
        "**3. Mutable:**\n",
        "\n",
        "Sets are mutable, meaning you can add, remove, or modify elements after the set has been created."
      ],
      "metadata": {
        "id": "tqI8AbN6lYwT"
      }
    },
    {
      "cell_type": "code",
      "source": [
        "#Example\n",
        "my_set = {1, 2, 3}\n",
        "my_set.add(4)\n",
        "print(my_set)"
      ],
      "metadata": {
        "colab": {
          "base_uri": "https://localhost:8080/"
        },
        "id": "17zMJD4Elitd",
        "outputId": "981c4930-8c90-4ded-888a-1f7936212c6e"
      },
      "execution_count": null,
      "outputs": [
        {
          "output_type": "stream",
          "name": "stdout",
          "text": [
            "{1, 2, 3, 4}\n"
          ]
        }
      ]
    },
    {
      "cell_type": "markdown",
      "source": [
        "**4. Unindexed:**\n",
        " Sets do not support indexing, slicing, or other sequence-like behavior."
      ],
      "metadata": {
        "id": "_Lp4S4gtlnbf"
      }
    },
    {
      "cell_type": "code",
      "source": [
        "#Example\n",
        "\n",
        "my_set = {1, 2, 3}\n",
        "#my_set[0]"
      ],
      "metadata": {
        "id": "cka5PWyTlulE"
      },
      "execution_count": null,
      "outputs": []
    },
    {
      "cell_type": "markdown",
      "source": [
        "**Note:** It will raise an error since sets are unindexed"
      ],
      "metadata": {
        "id": "ZJjqQfgAlzs0"
      }
    },
    {
      "cell_type": "markdown",
      "source": [
        "### Activity 3: Eliminating Duplicates\n",
        "\n"
      ],
      "metadata": {
        "id": "_Feq7Scsl_ba"
      }
    },
    {
      "cell_type": "markdown",
      "source": [
        "\n",
        "\n",
        " Sets automatically handle duplicate entries, which can be particularly useful for filtering unique items from a list."
      ],
      "metadata": {
        "id": "VE48UJyzBNf2"
      }
    },
    {
      "cell_type": "code",
      "source": [
        "#Example\n",
        "\n",
        "my_list = [1, 2, 2, 3, 3, 3]\n",
        "unique_set = set(my_list)\n",
        "print(unique_set)"
      ],
      "metadata": {
        "colab": {
          "base_uri": "https://localhost:8080/"
        },
        "id": "Nt2h1pkYBVZE",
        "outputId": "ddaaab60-76a0-4f78-beea-0d419c81b959"
      },
      "execution_count": null,
      "outputs": [
        {
          "output_type": "stream",
          "name": "stdout",
          "text": [
            "{1, 2, 3}\n"
          ]
        }
      ]
    },
    {
      "cell_type": "code",
      "source": [
        "#Unique Words in a Text\n",
        "text = \"This is a sample text with several words. This text is just a sample.\"\n",
        "words = text.split()\n",
        "print(words)\n",
        "unique_words = set(words)\n",
        "print(unique_words)"
      ],
      "metadata": {
        "colab": {
          "base_uri": "https://localhost:8080/"
        },
        "id": "EX0p2WAuD_mo",
        "outputId": "a7193ced-67a3-4344-f36c-dba5db019a7e"
      },
      "execution_count": null,
      "outputs": [
        {
          "output_type": "stream",
          "name": "stdout",
          "text": [
            "['This', 'is', 'a', 'sample', 'text', 'with', 'several', 'words.', 'This', 'text', 'is', 'just', 'a', 'sample.']\n",
            "{'a', 'text', 'sample', 'with', 'sample.', 'just', 'This', 'is', 'words.', 'several'}\n"
          ]
        }
      ]
    },
    {
      "cell_type": "markdown",
      "source": [
        "### Activity 4: Mathematical Operations\n",
        "\n",
        "\n",
        "Sets in Python support various mathematical operations that are commonly used in set theory. These operations include union, intersection, difference, and symmetric difference. Here are some detailed examples of these operations:"
      ],
      "metadata": {
        "id": "5wMUAgzuBhZM"
      }
    },
    {
      "cell_type": "markdown",
      "source": [
        "**1. Union**\n",
        "\n",
        "The union of two sets is a set containing all elements from both sets, without duplicates."
      ],
      "metadata": {
        "id": "HUBbPOFPFA5D"
      }
    },
    {
      "cell_type": "markdown",
      "source": [
        "**Using `union()` Method:**"
      ],
      "metadata": {
        "id": "Lz6KbKEcG_5x"
      }
    },
    {
      "cell_type": "code",
      "source": [
        "#Example\n",
        "set1 = {1, 2, 3}\n",
        "set2 = {3, 4, 5}\n",
        "union_set = set1.union(set2)\n",
        "print(union_set)"
      ],
      "metadata": {
        "colab": {
          "base_uri": "https://localhost:8080/"
        },
        "id": "wHRY5paSBnoM",
        "outputId": "f3892cca-6e47-49dd-b2c4-9c4a6e88855a"
      },
      "execution_count": null,
      "outputs": [
        {
          "output_type": "stream",
          "name": "stdout",
          "text": [
            "{1, 2, 3, 4, 5}\n"
          ]
        }
      ]
    },
    {
      "cell_type": "markdown",
      "source": [
        "**Using ` | ` Operator:**"
      ],
      "metadata": {
        "id": "NCRzBLCCFKI8"
      }
    },
    {
      "cell_type": "code",
      "source": [
        "#Example\n",
        "set1 = {1, 2, 3}\n",
        "set2 = {3, 4, 5}\n",
        "union_set = set1 | set2\n",
        "print(union_set)"
      ],
      "metadata": {
        "colab": {
          "base_uri": "https://localhost:8080/"
        },
        "id": "9cCqDJ9sFPfL",
        "outputId": "1a00ce4b-c3c5-4fbd-ff94-5fe308cd2e0f"
      },
      "execution_count": null,
      "outputs": [
        {
          "output_type": "stream",
          "name": "stdout",
          "text": [
            "{1, 2, 3, 4, 5}\n"
          ]
        }
      ]
    },
    {
      "cell_type": "markdown",
      "source": [
        "**2. Intersection**\n",
        "\n",
        "The intersection of two sets is a set containing only the elements that are present in both sets."
      ],
      "metadata": {
        "id": "EC5GqSEVFSeO"
      }
    },
    {
      "cell_type": "markdown",
      "source": [
        "**Using `intersection()` Method:**"
      ],
      "metadata": {
        "id": "lkauL9yaHFt8"
      }
    },
    {
      "cell_type": "code",
      "source": [
        "#Example\n",
        "set1 = {1, 2, 3}\n",
        "set2 = {3, 4, 5}\n",
        "intersection_set = set1.intersection(set2)\n",
        "print(intersection_set)"
      ],
      "metadata": {
        "colab": {
          "base_uri": "https://localhost:8080/"
        },
        "id": "d9rqXLsDFZiu",
        "outputId": "d6cfd961-3f2b-4f62-ddef-7e3f991a7428"
      },
      "execution_count": null,
      "outputs": [
        {
          "output_type": "stream",
          "name": "stdout",
          "text": [
            "{3}\n"
          ]
        }
      ]
    },
    {
      "cell_type": "markdown",
      "source": [
        "**Using ` & ` Operator:**\n",
        "\n"
      ],
      "metadata": {
        "id": "Pg9tYlYsFeL8"
      }
    },
    {
      "cell_type": "code",
      "source": [
        "#Example\n",
        "set1 = {1, 2, 3}\n",
        "set2 = {3, 4, 5}\n",
        "intersection_set = set1 & set2\n",
        "print(intersection_set)"
      ],
      "metadata": {
        "id": "rK09FB4RFjVC",
        "colab": {
          "base_uri": "https://localhost:8080/"
        },
        "outputId": "5d401f99-8fec-4c04-df69-e537785ba8cd"
      },
      "execution_count": null,
      "outputs": [
        {
          "output_type": "stream",
          "name": "stdout",
          "text": [
            "{3}\n"
          ]
        }
      ]
    },
    {
      "cell_type": "markdown",
      "source": [
        "**3. Difference**\n",
        "\n",
        "The difference of two sets is a set containing elements that are in the first set but not in the second set."
      ],
      "metadata": {
        "id": "edfEUybkFo3F"
      }
    },
    {
      "cell_type": "markdown",
      "source": [
        "**Using `difference()` Method:**"
      ],
      "metadata": {
        "id": "8X9OUz3NHSa0"
      }
    },
    {
      "cell_type": "code",
      "source": [
        "#Example\n",
        "set1 = {1, 2, 3}\n",
        "set2 = {3, 4, 5}\n",
        "difference_set = set1.difference(set2)\n",
        "print(difference_set)"
      ],
      "metadata": {
        "colab": {
          "base_uri": "https://localhost:8080/"
        },
        "id": "B6ft29DRFuYW",
        "outputId": "65070f25-1019-4d1a-831b-ebfea4f69538"
      },
      "execution_count": null,
      "outputs": [
        {
          "output_type": "stream",
          "name": "stdout",
          "text": [
            "{1, 2}\n"
          ]
        }
      ]
    },
    {
      "cell_type": "code",
      "source": [
        "set1 = {1, 2, 3,5,6,7,8}\n",
        "set2 = {3, 4, 5,8}\n",
        "difference_set = set1.difference(set2)\n",
        "print(difference_set)"
      ],
      "metadata": {
        "colab": {
          "base_uri": "https://localhost:8080/"
        },
        "id": "T_0BCF3NSEJu",
        "outputId": "a1718f9a-a8c2-4109-a97b-aa7bb165a7b9"
      },
      "execution_count": null,
      "outputs": [
        {
          "output_type": "stream",
          "name": "stdout",
          "text": [
            "{1, 2, 6, 7}\n"
          ]
        }
      ]
    },
    {
      "cell_type": "markdown",
      "source": [
        "**Using  `-`  Operator:**\n",
        "\n"
      ],
      "metadata": {
        "id": "8tlLGq6oF0hj"
      }
    },
    {
      "cell_type": "code",
      "source": [
        "#Example\n",
        "set1 = {1, 2, 3}\n",
        "set2 = {3, 4, 5}\n",
        "difference_set = set1 - set2\n",
        "print(difference_set)"
      ],
      "metadata": {
        "id": "2TQ38HclF4ih",
        "colab": {
          "base_uri": "https://localhost:8080/"
        },
        "outputId": "98020b45-1060-4f36-8803-06131765cbd6"
      },
      "execution_count": null,
      "outputs": [
        {
          "output_type": "stream",
          "name": "stdout",
          "text": [
            "{1, 2}\n"
          ]
        }
      ]
    },
    {
      "cell_type": "markdown",
      "source": [
        "**4. Symmetric Difference**\n",
        "\n",
        "The symmetric difference of two sets is a set containing elements that are in either of the sets but not in both."
      ],
      "metadata": {
        "id": "qyLdFExzF-So"
      }
    },
    {
      "cell_type": "markdown",
      "source": [
        "**Using `symmetric_difference()` Method:**"
      ],
      "metadata": {
        "id": "NTBmdgT7HXw8"
      }
    },
    {
      "cell_type": "code",
      "source": [
        "#Example\n",
        "set1 = {1, 2, 3}\n",
        "set2 = {3, 4, 5}\n",
        "sym_diff_set = set1.symmetric_difference(set2)\n",
        "print(sym_diff_set)"
      ],
      "metadata": {
        "colab": {
          "base_uri": "https://localhost:8080/"
        },
        "id": "0LMwcQ0bGDV_",
        "outputId": "aac33836-15ed-417c-a767-44d9f541a38b"
      },
      "execution_count": null,
      "outputs": [
        {
          "output_type": "stream",
          "name": "stdout",
          "text": [
            "{1, 2, 4, 5}\n"
          ]
        }
      ]
    },
    {
      "cell_type": "markdown",
      "source": [
        "**Using `^` Operator:**\n",
        "`^` circumflex"
      ],
      "metadata": {
        "id": "QIbtvoMUGKRW"
      }
    },
    {
      "cell_type": "code",
      "source": [
        "#Example\n",
        "set1 = {1, 2, 3}\n",
        "set2 = {3, 4, 5}\n",
        "sym_diff_set = set1 ^ set2\n",
        "print(sym_diff_set)"
      ],
      "metadata": {
        "id": "IKnOHx2iGNmG",
        "colab": {
          "base_uri": "https://localhost:8080/"
        },
        "outputId": "72f282cb-9a6d-422e-b10b-5ce366488ce4"
      },
      "execution_count": null,
      "outputs": [
        {
          "output_type": "stream",
          "name": "stdout",
          "text": [
            "{1, 2, 4, 5}\n"
          ]
        }
      ]
    },
    {
      "cell_type": "markdown",
      "source": [
        "**5. Subset and Superset**\n",
        "\n",
        "- A set is a **subset** of another set if all elements of the first set are in the second set.\n",
        "- A set is a **superset** of another set if it contains all elements of the second set."
      ],
      "metadata": {
        "id": "bvrc46MjGXDP"
      }
    },
    {
      "cell_type": "markdown",
      "source": [
        "**Subset:**"
      ],
      "metadata": {
        "id": "0_y1-MYRGk2y"
      }
    },
    {
      "cell_type": "code",
      "source": [
        "#Example\n",
        "set1 = {1, 2, 3}\n",
        "set2 = {1, 2, 3, 4, 5}\n",
        "is_subset = set1.issubset(set2)\n",
        "print(is_subset)"
      ],
      "metadata": {
        "colab": {
          "base_uri": "https://localhost:8080/"
        },
        "id": "-ftXDJuvGfWv",
        "outputId": "35391311-89cc-4aa8-dfb0-2e749ea091f9"
      },
      "execution_count": null,
      "outputs": [
        {
          "output_type": "stream",
          "name": "stdout",
          "text": [
            "True\n"
          ]
        }
      ]
    },
    {
      "cell_type": "markdown",
      "source": [
        "**Superset:**"
      ],
      "metadata": {
        "id": "fzmzapVjGoYs"
      }
    },
    {
      "cell_type": "code",
      "source": [
        "#Example\n",
        "set1 = {1, 2, 3, 4, 5}\n",
        "set2 = {1, 2, 3}\n",
        "is_superset = set1.issuperset(set2)\n",
        "print(is_superset)"
      ],
      "metadata": {
        "colab": {
          "base_uri": "https://localhost:8080/"
        },
        "id": "0HO3IqMwGhfD",
        "outputId": "5affdd7b-f89f-4f99-db9c-909f6bf67c9a"
      },
      "execution_count": null,
      "outputs": [
        {
          "output_type": "stream",
          "name": "stdout",
          "text": [
            "True\n"
          ]
        }
      ]
    },
    {
      "cell_type": "markdown",
      "source": [
        "**6. Disjoint Sets**\n",
        "\n",
        "Two sets are disjoint if they have no elements in common.\n"
      ],
      "metadata": {
        "id": "WxZZUFL9Gv-X"
      }
    },
    {
      "cell_type": "markdown",
      "source": [
        "**Using `isdisjoint()` Method:**"
      ],
      "metadata": {
        "id": "uWCuoGNNG5Hf"
      }
    },
    {
      "cell_type": "code",
      "source": [
        "#Example\n",
        "set1 = {1, 2, 3}\n",
        "set2 = {4, 5, 6}\n",
        "are_disjoint = set1.isdisjoint(set2)\n",
        "print(are_disjoint)"
      ],
      "metadata": {
        "colab": {
          "base_uri": "https://localhost:8080/"
        },
        "id": "VX49YqvAGz9q",
        "outputId": "9d817cec-fb55-456d-c6ac-02f451d970c0"
      },
      "execution_count": null,
      "outputs": [
        {
          "output_type": "stream",
          "name": "stdout",
          "text": [
            "True\n"
          ]
        }
      ]
    },
    {
      "cell_type": "markdown",
      "source": [
        "### Activity 5: Membership Testing\n",
        "\n",
        "Sets provide a fast way to check if an element is part of the collection.\n",
        "\n",
        "\n"
      ],
      "metadata": {
        "id": "upGCbBa3ERUU"
      }
    },
    {
      "cell_type": "code",
      "source": [
        "#Example\n",
        "my_set = {1, 2, 3}\n",
        "print(2 in my_set)\n",
        "print(4 in my_set)"
      ],
      "metadata": {
        "id": "Y8d3JJ1UEYBx"
      },
      "execution_count": null,
      "outputs": []
    },
    {
      "cell_type": "markdown",
      "source": [
        "### Activity 6: Creating an Empty Set\n",
        "\n",
        " Use the `set()` function."
      ],
      "metadata": {
        "id": "xa8eF2IlC5bb"
      }
    },
    {
      "cell_type": "code",
      "source": [
        "#Example\n",
        "empty_set = set()\n",
        "type(empty_set)"
      ],
      "metadata": {
        "id": "pErI7mM_C53w"
      },
      "execution_count": null,
      "outputs": []
    },
    {
      "cell_type": "markdown",
      "source": [
        "### Activity 7: `len()`, `add()`, `remove()`, `pop()`"
      ],
      "metadata": {
        "id": "LhS67TZhIzIY"
      }
    },
    {
      "cell_type": "markdown",
      "source": [
        "**1. `len()`**\n",
        "\n",
        "The `len()` function returns the number of elements in a set."
      ],
      "metadata": {
        "id": "a84TMaVOI6IY"
      }
    },
    {
      "cell_type": "code",
      "source": [
        "#Example\n",
        "my_set = {1, 2, 3, 4, 5, 6,6,6,6}\n",
        "print(len(my_set))\n",
        "my_set"
      ],
      "metadata": {
        "id": "EyG0v21xI5qo"
      },
      "execution_count": null,
      "outputs": []
    },
    {
      "cell_type": "markdown",
      "source": [
        "**2. `add()`**\n",
        "\n",
        "The `add()` method adds a single element to the set. If the element is already present, the set remains unchanged since sets do not allow duplicate elements."
      ],
      "metadata": {
        "id": "ezzmnFGPJGoj"
      }
    },
    {
      "cell_type": "code",
      "source": [
        "#Example\n",
        "my_set = {1, 2, 3}\n",
        "my_set.add(4)\n",
        "print(my_set)\n",
        "\n",
        "my_set.add(3)  # Adding a duplicate element\n",
        "print(my_set)"
      ],
      "metadata": {
        "id": "jAhBO6ztJMJ3"
      },
      "execution_count": null,
      "outputs": []
    },
    {
      "cell_type": "markdown",
      "source": [
        "**3. `remove()`**\n",
        "\n",
        "The `remove()` method removes a specified element from the set. If the element is not present, it raises a KeyError."
      ],
      "metadata": {
        "id": "uz8ZSBQ7JUil"
      }
    },
    {
      "cell_type": "code",
      "source": [
        "#Example\n",
        "my_set = {1, 2, 3, 4}\n",
        "my_set.remove(3)\n",
        "print(my_set)\n",
        "\n",
        "#my_set.remove(5)  # This will raise a KeyError"
      ],
      "metadata": {
        "id": "ZeCnyAAFJa9L"
      },
      "execution_count": null,
      "outputs": []
    },
    {
      "cell_type": "markdown",
      "source": [
        "**Note:**\n",
        "To avoid the KeyError, you can use the `discard()` method, which works like `remove()` but does not raise an error if the element is not found."
      ],
      "metadata": {
        "id": "hqUdYiyTJiqe"
      }
    },
    {
      "cell_type": "code",
      "source": [
        "#Example\n",
        "my_set.discard(5)  # No error even though 5 is not in the set\n",
        "print(my_set)"
      ],
      "metadata": {
        "id": "dS1ysvjLXt-7"
      },
      "execution_count": null,
      "outputs": []
    },
    {
      "cell_type": "markdown",
      "source": [
        "**4. `pop()`**\n",
        "\n",
        "The `pop()` method removes and returns an arbitrary element from the set. Since sets are unordered, you cannot predict which element will be removed. If the set is empty, it raises a KeyError."
      ],
      "metadata": {
        "id": "A26NRdePXtyM"
      }
    },
    {
      "cell_type": "code",
      "source": [
        "#Example\n",
        "my_set = {1, 2, 3, 4}\n",
        "removed_element = my_set.pop()\n",
        "print(removed_element)\n",
        "print(my_set)\n",
        "\n",
        "empty_set = set()\n",
        "#empty_set.pop()"
      ],
      "metadata": {
        "id": "e4sQcLjuX591"
      },
      "execution_count": null,
      "outputs": []
    },
    {
      "cell_type": "code",
      "source": [
        "my_set = {11,1, 2, 3, 4}\n",
        "removed_element = my_set.pop()\n",
        "print(removed_element)\n",
        "print(my_set)\n",
        "\n",
        "empty_set = set()\n",
        "#empty_set.pop()"
      ],
      "metadata": {
        "id": "JOgmZPeuVJiN"
      },
      "execution_count": null,
      "outputs": []
    },
    {
      "cell_type": "markdown",
      "source": [
        " **Adding New Elements to a Set**\n",
        "\n",
        "You want to add new elements to a set dynamically as you encounter them."
      ],
      "metadata": {
        "id": "ETDoiJ5uYaI1"
      }
    },
    {
      "cell_type": "code",
      "source": [
        "#Example\n",
        "encountered_ids = {101, 102, 103}\n",
        "new_id = int(input(\"pls enter your id:\"))\n",
        "\n",
        "if new_id not in encountered_ids:\n",
        "    encountered_ids.add(new_id)\n",
        "    print(\"New ID added.\")\n",
        "else:\n",
        "    print(\"ID already exists.\")\n",
        "\n",
        "print(encountered_ids)"
      ],
      "metadata": {
        "id": "etiNjyI8YJD3"
      },
      "execution_count": null,
      "outputs": []
    },
    {
      "cell_type": "markdown",
      "source": [
        "---"
      ],
      "metadata": {
        "id": "ehVyBS34aZ4H"
      }
    },
    {
      "cell_type": "markdown",
      "source": [
        "# Operators"
      ],
      "metadata": {
        "id": "PCo1UVd1aa3A"
      }
    },
    {
      "cell_type": "markdown",
      "source": [
        "### Activity 8: Various Operators in Python\n"
      ],
      "metadata": {
        "id": "6ltFWWxwaiUl"
      }
    },
    {
      "cell_type": "markdown",
      "source": [
        "**1. Arithmetic Operators**\n",
        "Arithmetic operators are used to perform mathematical operations.\n",
        "\n",
        "**Operators:**\n",
        "\n",
        "- `+` : Addition\n",
        "- `-` : Subtraction\n",
        "- `*` : Multiplication\n",
        "- `/` : Division\n",
        "- `%` : Modulus\n",
        "- `**` : Exponentiation\n",
        "- `//` : Floor division"
      ],
      "metadata": {
        "id": "eUj8xIQla7q0"
      }
    },
    {
      "cell_type": "code",
      "source": [
        "#Example\n",
        "a = 10\n",
        "b = 3\n",
        "print(a + b)\n",
        "print(a - b)\n",
        "print(a * b)\n",
        "print(a / b)\n",
        "print(a % b)  # modulus\n",
        "print(a ** b)\n",
        "print(a // b) #floor division"
      ],
      "metadata": {
        "id": "htev3x4Kah5k"
      },
      "execution_count": null,
      "outputs": []
    },
    {
      "cell_type": "code",
      "source": [
        "7/3"
      ],
      "metadata": {
        "id": "lo7X2DrLXEEb"
      },
      "execution_count": null,
      "outputs": []
    },
    {
      "cell_type": "code",
      "source": [
        "7//3"
      ],
      "metadata": {
        "id": "7j44mInLWWzu"
      },
      "execution_count": null,
      "outputs": []
    },
    {
      "cell_type": "code",
      "source": [
        "10//4"
      ],
      "metadata": {
        "id": "v16trUaPWgXo"
      },
      "execution_count": null,
      "outputs": []
    },
    {
      "cell_type": "code",
      "source": [
        "-7//3"
      ],
      "metadata": {
        "id": "Z7l8D57iWlBu"
      },
      "execution_count": null,
      "outputs": []
    },
    {
      "cell_type": "code",
      "source": [
        "9//3"
      ],
      "metadata": {
        "id": "hG7l668iW3xt"
      },
      "execution_count": null,
      "outputs": []
    },
    {
      "cell_type": "markdown",
      "source": [
        "**NOTE:**\n",
        "\n",
        "The `// `operator in Python is known as the floor division operator. It performs division and returns the largest possible integer that is less than or equal to the result. This is sometimes called integer division because it essentially truncates the decimal part and returns the integer part of the quotient.\n",
        "\n"
      ],
      "metadata": {
        "id": "4aze5_qtCJpn"
      }
    },
    {
      "cell_type": "code",
      "source": [
        "#Calculate the area and perimeter of a rectangle with given length and width.\n",
        "l = int(input(\"pls enter length:\"))\n",
        "w = int(input(\"pls enter width:\"))\n",
        "a = l*w\n",
        "p = 2*(l+w)\n",
        "print(f\"area:{a},perimeter:{p}\")\n"
      ],
      "metadata": {
        "id": "tvUbPwHrbv4K"
      },
      "execution_count": null,
      "outputs": []
    },
    {
      "cell_type": "markdown",
      "source": [
        "**2. Comparison Operators**\n",
        "\n",
        "Comparison operators compare values and return a boolean result.\n",
        "\n",
        "Operators:\n",
        "\n",
        "- `==` : Equal to\n",
        "- `!=` : Not equal to\n",
        "- `>`  : Greater than\n",
        "- `<`  : Less than\n",
        "- `>=` : Greater than or equal to\n",
        "- `<=` : Less than or equal to"
      ],
      "metadata": {
        "id": "q1xIU_CZcEQ2"
      }
    },
    {
      "cell_type": "code",
      "source": [
        "#Example\n",
        "a = 10\n",
        "b = 20\n",
        "print(a == b)\n",
        "print(a != b)\n",
        "print(a > b)\n",
        "print(a < b)\n",
        "print(a >= b)\n",
        "print(a <= b)\n"
      ],
      "metadata": {
        "id": "bmDI6OzwczTB"
      },
      "execution_count": null,
      "outputs": []
    },
    {
      "cell_type": "code",
      "source": [
        "5<=5"
      ],
      "metadata": {
        "id": "jeJCO4HQYs4G"
      },
      "execution_count": null,
      "outputs": []
    },
    {
      "cell_type": "markdown",
      "source": [
        "Write a program that takes two numbers as input and checks if they are equal."
      ],
      "metadata": {
        "id": "5OSU6U2QdMfV"
      }
    },
    {
      "cell_type": "code",
      "source": [
        "#Example\n",
        "num1 = int(input(\"Enter first number: \"))\n",
        "num2 = int(input(\"Enter second number: \"))\n",
        "print(f\"Are the numbers equal? {num1 == num2}\")"
      ],
      "metadata": {
        "id": "0y1JAuEmdJnJ"
      },
      "execution_count": null,
      "outputs": []
    },
    {
      "cell_type": "markdown",
      "source": [
        "**3. Assignment Operators**\n",
        "\n",
        "Assignment operators are used to assign values to variables.\n",
        "\n",
        "Operators:\n",
        "\n",
        "- `=` : Assign\n",
        "- `+=` : Add and assign\n",
        "- `-=` : Subtract and assign\n",
        "- `*=` : Multiply and assign\n",
        "- `/=` : Divide and assign\n",
        "- `%= `: Modulus and assign\n",
        "- `**=` : Exponentiation and assign\n",
        "- `//=` : Floor division and assign"
      ],
      "metadata": {
        "id": "-xg-nFj0dXbo"
      }
    },
    {
      "cell_type": "code",
      "source": [
        "a = 10\n",
        "a+=5\n",
        "a"
      ],
      "metadata": {
        "id": "QhblK-W4Z103"
      },
      "execution_count": null,
      "outputs": []
    },
    {
      "cell_type": "code",
      "source": [
        "a-=3\n",
        "a"
      ],
      "metadata": {
        "id": "ZeIoC7OLZ6Gs"
      },
      "execution_count": null,
      "outputs": []
    },
    {
      "cell_type": "code",
      "source": [
        "a = 10\n",
        "a-=3\n",
        "a"
      ],
      "metadata": {
        "id": "tGAeFeOCZ89V"
      },
      "execution_count": null,
      "outputs": []
    },
    {
      "cell_type": "code",
      "source": [
        "#Example\n",
        "a = 10\n",
        "\n",
        "a += 5\n",
        "print(a)  # 15\n",
        "\n",
        "a -= 3\n",
        "print(a)  # 12\n",
        "\n",
        "a *= 2\n",
        "print(a)  # 24\n",
        "\n",
        "a /= 4\n",
        "print(a)  # 6.0\n",
        "\n",
        "a %= 5\n",
        "print(a)  #1.0\n",
        "\n",
        "a **= 3\n",
        "print(a)  #1.0\n",
        "\n",
        "a //= 2\n",
        "print(a)  # 0.0"
      ],
      "metadata": {
        "id": "FC4Z-VyFkgia"
      },
      "execution_count": null,
      "outputs": []
    },
    {
      "cell_type": "markdown",
      "source": [
        "**4. Logical Operators**\n",
        "\n",
        "Logical operators are used to combine conditional statements.\n",
        "\n",
        "Operators:\n",
        "\n",
        "- `and` : Returns True if both statements are true\n",
        "- `or `: Returns True if one of the statements is true\n",
        "- `not` : Reverses the result, returns False if the result is true"
      ],
      "metadata": {
        "id": "LRWUM4rrkvIC"
      }
    },
    {
      "cell_type": "code",
      "source": [
        "#Example\n",
        "a = True\n",
        "b = False\n",
        "print(a and b)  # false\n",
        "print(a or b)  #true\n",
        "print(not a) #false\n"
      ],
      "metadata": {
        "id": "3BCOAx5Jk4PX"
      },
      "execution_count": null,
      "outputs": []
    },
    {
      "cell_type": "markdown",
      "source": [
        "Write a program that checks if a number is both greater than 5 and less than 15."
      ],
      "metadata": {
        "id": "jS7uEK2fk-On"
      }
    },
    {
      "cell_type": "code",
      "source": [
        "#Example\n",
        "num = int(input(\"Enter a number: \"))\n",
        "print(f\"Is the number between 5 and 15? {num > 5 and num < 15}\")"
      ],
      "metadata": {
        "id": "v9-D8qIfk99Z"
      },
      "execution_count": null,
      "outputs": []
    },
    {
      "cell_type": "markdown",
      "source": [
        "**5. Membership Operators**\n",
        "\n",
        "Membership operators are used to test if a sequence contains an element.\n",
        "\n",
        "Operators:\n",
        "\n",
        "- `in `: Returns True if a sequence with the specified value is present\n",
        "- `not in` : Returns True if a sequence with the specified value is not present"
      ],
      "metadata": {
        "id": "UHDF48Nvlen-"
      }
    },
    {
      "cell_type": "code",
      "source": [
        "#Example\n",
        "x = [\"apple\", \"banana\"]\n",
        "print(\"banana\" in x)\n",
        "print(\"cherry\" not in x)"
      ],
      "metadata": {
        "id": "-xHrty4elmjV"
      },
      "execution_count": null,
      "outputs": []
    },
    {
      "cell_type": "markdown",
      "source": [
        "**6. Identity Operators**\n",
        "\n",
        "Identity operators compare the memory locations of two objects.\n",
        "\n",
        "Operators:\n",
        "\n",
        "- `is` : Returns True if both variables are the same object\n",
        "- `is not` : Returns True if both variables are not the same object"
      ],
      "metadata": {
        "id": "-nc09w8rlxoM"
      }
    },
    {
      "cell_type": "code",
      "source": [
        "#Example\n",
        "a = [\"apple\", \"banana\"]\n",
        "b = [\"apple\", \"banana\"]\n",
        "c = a\n",
        "print(a is c)  # Output: True\n",
        "print(a is b)  # Output: False\n",
        "print(a == b)  # Output: True\n"
      ],
      "metadata": {
        "id": "eRhryrQxl7s0"
      },
      "execution_count": null,
      "outputs": []
    },
    {
      "cell_type": "code",
      "source": [
        "c"
      ],
      "metadata": {
        "id": "mnyMuMPpcfNl"
      },
      "execution_count": null,
      "outputs": []
    },
    {
      "cell_type": "code",
      "source": [
        "id(a)"
      ],
      "metadata": {
        "id": "PEqt0Wvkcha0"
      },
      "execution_count": null,
      "outputs": []
    },
    {
      "cell_type": "code",
      "source": [
        "id(b)"
      ],
      "metadata": {
        "colab": {
          "base_uri": "https://localhost:8080/"
        },
        "id": "UJ8yjOYDckIM",
        "outputId": "064fc76e-f683-4900-e4b4-174f9a1e4641"
      },
      "execution_count": null,
      "outputs": [
        {
          "output_type": "execute_result",
          "data": {
            "text/plain": [
              "133843031897984"
            ]
          },
          "metadata": {},
          "execution_count": 127
        }
      ]
    },
    {
      "cell_type": "code",
      "source": [
        "id(c)"
      ],
      "metadata": {
        "id": "xQg96KtOcme1"
      },
      "execution_count": null,
      "outputs": []
    },
    {
      "cell_type": "markdown",
      "source": [
        "1. Understanding the is operator:\n",
        "\n",
        "- The `is` operator checks if two variables point to the same object in memory. It evaluates to True if both variables refer to the exact same object.\n",
        "\n",
        "2. Understanding the == operator:\n",
        "\n",
        "- The `==` operator checks if the values of two variables are equal. It evaluates to True if the values contained in both variables are the same."
      ],
      "metadata": {
        "id": "9up2VdAAFY0i"
      }
    },
    {
      "cell_type": "markdown",
      "source": [
        "**Mutable vs Immutable Types:**\n",
        "\n",
        "Compare variables of mutable types (like lists) and immutable types (like strings or integers) using `is` and` ==`."
      ],
      "metadata": {
        "id": "YoinlVZlGlpO"
      }
    },
    {
      "cell_type": "code",
      "source": [
        "#Example\n",
        "str1 = \"hello\"\n",
        "str2 = \"hello\"\n",
        "print(str1 is str2)  # Output: True (because of interning)\n",
        "print(str1 == str2)  # Output: True\n",
        "\n",
        "int1 = 1000\n",
        "int2 = 1000\n",
        "print(int1 is int2)  # Output: False (no interning for larger integers)\n",
        "print(int1 == int2)  # Output: True"
      ],
      "metadata": {
        "id": "YS0998olGu4L"
      },
      "execution_count": null,
      "outputs": []
    },
    {
      "cell_type": "code",
      "source": [
        "a = 5\n",
        "b = 5\n",
        "a is b"
      ],
      "metadata": {
        "id": "NBej5M4kdVBt"
      },
      "execution_count": null,
      "outputs": []
    },
    {
      "cell_type": "markdown",
      "source": [
        "###**Interning**\n",
        "\n",
        "Interning is an optimization technique used by Python (and some other programming languages) to manage memory efficiently and speed up the performance of certain operations. It involves reusing the same memory location for immutable objects that have the same value, instead of creating a new object each time.\n",
        "\n",
        "**How Interning Works:**\n",
        "\n",
        "1. **Strings:** In Python, small strings and strings that look like identifiers (e.g., variable names) are automatically interned. This means that if two string literals have the same value, Python will store them in the same memory location.\n",
        "2. **Integers:** Small integers (typically in the range from -5 to 256) are also automatically interned by Python. This means that any integer within this range will refer to the same memory location.\n",
        "\n",
        "\n",
        "**Benefits of Interning:**\n",
        "\n",
        "- **Memory Efficiency:** By reusing objects, Python saves memory because it doesn't need to allocate new memory for identical values.\n",
        "- **Performance Improvement:** Comparisons of interned objects are faster because Python can just compare memory addresses instead of comparing values.\n",
        "\n",
        "**When Interning Does Not Apply:**\n",
        "\n",
        "- For larger integers (outside the range of -5 to 256), Python does not intern by default.\n",
        "- For strings created at runtime (e.g., through concatenation or other operations), interning is not guaranteed unless explicitly requested using the intern() function from the sys module."
      ],
      "metadata": {
        "id": "nlRGsL7vHf_R"
      }
    },
    {
      "cell_type": "code",
      "source": [
        "#Example\n",
        "list1 = [4, 5, 6]\n",
        "list2 = list1\n",
        "list3 = list1.copy()\n",
        "\n",
        "print(list1 is list2)  #true\n",
        "print(list1 == list2)  # true\n",
        "\n",
        "print(list1 is list3)  #false\n",
        "print(list1 == list3)  #true\n",
        "\n",
        "list1.append(7)\n",
        "print(list1 == list2)  #true\n",
        "print(list1 == list3)  #false"
      ],
      "metadata": {
        "id": "yPgkaiseG9X9"
      },
      "execution_count": null,
      "outputs": []
    },
    {
      "cell_type": "code",
      "source": [
        "id(list1)"
      ],
      "metadata": {
        "id": "dvJalz4rfLhy"
      },
      "execution_count": null,
      "outputs": []
    },
    {
      "cell_type": "code",
      "source": [
        "id(list2)"
      ],
      "metadata": {
        "id": "VheadqoAfN1K"
      },
      "execution_count": null,
      "outputs": []
    },
    {
      "cell_type": "markdown",
      "source": [
        "**7. Operator Precedence**\n",
        "\n",
        "Operator precedence determines the order in which operators are evaluated in expressions. When multiple operators are used in an expression, the operator with the highest precedence is evaluated first. If two operators have the same precedence, their associativity determines the order in which they are evaluated.\n",
        "\n"
      ],
      "metadata": {
        "id": "xthBWqExmJOJ"
      }
    },
    {
      "cell_type": "code",
      "source": [
        "#Example\n",
        "a = 5 + 2 * 3\n",
        "print(a)\n",
        "\n",
        "b = (5 + 2) * 3\n",
        "print(b)"
      ],
      "metadata": {
        "id": "qr8tQAWtmNyR",
        "collapsed": true
      },
      "execution_count": null,
      "outputs": []
    },
    {
      "cell_type": "markdown",
      "source": [
        "Write a program to demonstrate the use of parentheses to change the order of operations."
      ],
      "metadata": {
        "id": "rzlJSis-mSN-"
      }
    },
    {
      "cell_type": "code",
      "source": [
        "#Example\n",
        "result1 = 10 + 2 * 5\n",
        "result2 = (10 + 2) * 5\n",
        "print(f\"Without parentheses: {result1}\")\n",
        "print(f\"With parentheses: {result2}\")"
      ],
      "metadata": {
        "id": "w9CvckzpmURy"
      },
      "execution_count": null,
      "outputs": []
    },
    {
      "cell_type": "markdown",
      "source": [
        "**8. Escape Operators**\n",
        "Escape characters are used to represent whitespace characters or characters that are difficult to include directly in a string.\n",
        "\n",
        "Examples:\n",
        "\n",
        "- `\\n` : Newline\n",
        "- `\\t` : Tab\n",
        "- `\\\\` : Backslash\n",
        "- `\\'` : Single quote\n",
        "- `\\\"` : Double quote"
      ],
      "metadata": {
        "id": "UtJn_o6Qm0RC"
      }
    },
    {
      "cell_type": "code",
      "source": [
        "#Example\n",
        "print(\"Hello\\nWorld\")  # Newline\n",
        "print(\"Hello\\tWorld\")  # Tab\n",
        "\n",
        "print(\"Hello\\'World\")  # Single quote\n",
        "print(\"Hello\\\"World\")  # Double quote"
      ],
      "metadata": {
        "id": "woYNwCtSm-R1"
      },
      "execution_count": null,
      "outputs": []
    },
    {
      "cell_type": "code",
      "source": [
        "print('Hello\\\\world')\n"
      ],
      "metadata": {
        "id": "_KWw0wa9g_ez"
      },
      "execution_count": null,
      "outputs": []
    },
    {
      "cell_type": "code",
      "source": [
        "print('Hello\\world')"
      ],
      "metadata": {
        "colab": {
          "base_uri": "https://localhost:8080/"
        },
        "id": "ZgCmUND-hEsn",
        "outputId": "49cafed4-a6f3-4c39-d22d-545c73e140eb"
      },
      "execution_count": null,
      "outputs": [
        {
          "output_type": "stream",
          "name": "stdout",
          "text": [
            "Hello\\world\n"
          ]
        }
      ]
    },
    {
      "cell_type": "code",
      "source": [
        "print(\"hello\\naveen\")"
      ],
      "metadata": {
        "colab": {
          "base_uri": "https://localhost:8080/"
        },
        "id": "Kvl6Qb68hUzT",
        "outputId": "19e0a92d-f7e5-415a-f0d7-3fde1811fe42"
      },
      "execution_count": null,
      "outputs": [
        {
          "output_type": "stream",
          "name": "stdout",
          "text": [
            "hello\n",
            "aveen\n"
          ]
        }
      ]
    },
    {
      "cell_type": "code",
      "source": [
        "print(\"hello\\\\naveen\")"
      ],
      "metadata": {
        "colab": {
          "base_uri": "https://localhost:8080/"
        },
        "id": "Slmed8hmhZfy",
        "outputId": "6db2acd3-23c7-474e-e253-a66986183a4c"
      },
      "execution_count": null,
      "outputs": [
        {
          "output_type": "stream",
          "name": "stdout",
          "text": [
            "hello\\naveen\n"
          ]
        }
      ]
    },
    {
      "cell_type": "markdown",
      "source": [
        "\n",
        "Write a program that prints a string containing a tab, newline, and backslash."
      ],
      "metadata": {
        "id": "LwaGGMwWnE6V"
      }
    },
    {
      "cell_type": "code",
      "source": [
        "#Example\n",
        "print(\"Hello\\tWorld\\nThis is a backslash: \\\\\")"
      ],
      "metadata": {
        "colab": {
          "base_uri": "https://localhost:8080/"
        },
        "id": "H3aWpEMrnCmy",
        "outputId": "eca05bb5-49a4-42cc-9327-172fb6bb4bfa"
      },
      "execution_count": null,
      "outputs": [
        {
          "output_type": "stream",
          "name": "stdout",
          "text": [
            "Hello\tWorld\n",
            "This is a backslash: \\\n"
          ]
        }
      ]
    },
    {
      "cell_type": "code",
      "source": [
        "my_list = [1, 2, 2, 3, 4, 4, 5]\n",
        "\n",
        "# Get unique values using list comprehension\n",
        "unique_list = []\n",
        "[unique_list.append(x) for x in my_list if x not in unique_list]\n",
        "\n",
        "print(unique_list)"
      ],
      "metadata": {
        "id": "MPizqYn3kYjq"
      },
      "execution_count": null,
      "outputs": []
    }
  ]
}