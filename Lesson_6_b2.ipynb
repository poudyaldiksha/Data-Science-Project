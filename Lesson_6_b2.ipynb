{
  "nbformat": 4,
  "nbformat_minor": 0,
  "metadata": {
    "colab": {
      "provenance": [],
      "include_colab_link": true
    },
    "kernelspec": {
      "name": "python3",
      "display_name": "Python 3"
    },
    "language_info": {
      "name": "python"
    }
  },
  "cells": [
    {
      "cell_type": "markdown",
      "metadata": {
        "id": "view-in-github",
        "colab_type": "text"
      },
      "source": [
        "<a href=\"https://colab.research.google.com/github/poudyaldiksha/Data-Science-project/blob/main/Lesson_6_b2.ipynb\" target=\"_parent\"><img src=\"https://colab.research.google.com/assets/colab-badge.svg\" alt=\"Open In Colab\"/></a>"
      ]
    },
    {
      "cell_type": "markdown",
      "source": [
        "# Lesson 6: List Comprehension, Numpy"
      ],
      "metadata": {
        "id": "mriLK0LaIeMq"
      }
    },
    {
      "cell_type": "markdown",
      "source": [
        "---"
      ],
      "metadata": {
        "id": "u4COdcwqMkJK"
      }
    },
    {
      "cell_type": "markdown",
      "source": [
        " ## List Comprehension\n",
        "\n",
        " It is one of the great features of Python programming as it can create the most complicated lists through only a few lines of code."
      ],
      "metadata": {
        "id": "fVYquR0aMYuA"
      }
    },
    {
      "cell_type": "markdown",
      "source": [
        "### Activity 1: The List Comprehension Method\n",
        "\n",
        "The list comprehension method creates a Python list in a single line of code. It does not solve a new problem. It only provides a new syntax to solve an existing problem.\n",
        "\n",
        "The core component of a list comprehension is the `for` loop. To create a list using the list comprehension method, first, write the square brackets `[]`. Then inside the brackets, use the `for` loop.\n",
        "\n",
        "**Syntax:**\n",
        "```python\n",
        "[expression for variable_name in list_or_sequence]\n",
        "```\n",
        "\n",
        "\n",
        "\n",
        "\n",
        "Let's create a list of the first `10` natural numbers using the list comprehension method."
      ],
      "metadata": {
        "id": "rMTqjGnUMzrU"
      }
    },
    {
      "cell_type": "code",
      "source": [
        "for i in range(1,11):\n",
        "  print(i)"
      ],
      "metadata": {
        "id": "mrvmbUJKUzl7",
        "colab": {
          "base_uri": "https://localhost:8080/"
        },
        "outputId": "a3f2565b-bd22-42d3-c643-321ac8e6968b"
      },
      "execution_count": null,
      "outputs": [
        {
          "output_type": "stream",
          "name": "stdout",
          "text": [
            "1\n",
            "2\n",
            "3\n",
            "4\n",
            "5\n",
            "6\n",
            "7\n",
            "8\n",
            "9\n",
            "10\n"
          ]
        }
      ]
    },
    {
      "cell_type": "code",
      "source": [
        "# Create a Python list containing the first 10 natural numbers using the 'for' loop.\n",
        "emp_list = []\n",
        "for i in range(1,11):\n",
        "    emp_list.append(i)\n",
        "print(emp_list)"
      ],
      "metadata": {
        "id": "Xjzef-mnM-Zf",
        "colab": {
          "base_uri": "https://localhost:8080/"
        },
        "outputId": "61a3fa1e-5c70-4954-b95d-fc4ee2733143"
      },
      "execution_count": null,
      "outputs": [
        {
          "output_type": "stream",
          "name": "stdout",
          "text": [
            "[1, 2, 3, 4, 5, 6, 7, 8, 9, 10]\n"
          ]
        }
      ]
    },
    {
      "cell_type": "code",
      "source": [
        " #Create a Python list containing the first 10 natural numbers using the list comprehension method.\n",
        "\n",
        "emp_list2 = [ i**2 for i in range(1,11)]\n",
        "emp_list2"
      ],
      "metadata": {
        "id": "KkBrcW1fNEO2",
        "colab": {
          "base_uri": "https://localhost:8080/"
        },
        "outputId": "dcd5389f-a7f8-466f-b2a1-4c201d0321da"
      },
      "execution_count": null,
      "outputs": [
        {
          "output_type": "execute_result",
          "data": {
            "text/plain": [
              "[1, 4, 9, 16, 25, 36, 49, 64, 81, 100]"
            ]
          },
          "metadata": {},
          "execution_count": 5
        }
      ]
    },
    {
      "cell_type": "markdown",
      "source": [
        "The list comprehension `[i for i in range(1, 11)]` should be read as \"*Append `i` to the list, for every value of `i` in the range of `1` to `10`.*\"\n",
        "\n",
        "You will notice that the list comprehension eliminated the need of `append()` function.\n",
        "\n"
      ],
      "metadata": {
        "id": "g6RJ0neANZJd"
      }
    },
    {
      "cell_type": "code",
      "source": [
        "old_list = [ 10,20,30,40,50]\n",
        "new_list = []\n",
        "for i in old_list:\n",
        "  new_list.append(i)\n",
        "print(new_list)\n"
      ],
      "metadata": {
        "id": "Xsetwf6OV07Q",
        "colab": {
          "base_uri": "https://localhost:8080/"
        },
        "outputId": "b6e786fb-e4d3-434d-f6ad-901b3c798f33"
      },
      "execution_count": null,
      "outputs": [
        {
          "output_type": "stream",
          "name": "stdout",
          "text": [
            "[10, 20, 30, 40, 50]\n"
          ]
        }
      ]
    },
    {
      "cell_type": "code",
      "source": [
        "old_list = [ 10,20,30,40,50]\n",
        "emp_3 = [i for i in old_list]\n",
        "emp_3"
      ],
      "metadata": {
        "colab": {
          "base_uri": "https://localhost:8080/"
        },
        "id": "ZGLd4qbBPUa3",
        "outputId": "e2982e9b-d8c8-4450-c548-ad3c10c2fb08"
      },
      "execution_count": null,
      "outputs": [
        {
          "output_type": "execute_result",
          "data": {
            "text/plain": [
              "[10, 20, 30, 40, 50]"
            ]
          },
          "metadata": {},
          "execution_count": 7
        }
      ]
    },
    {
      "cell_type": "code",
      "source": [
        "# Copy items to a new list using list comprehension method\n",
        "\n",
        "old_list = [50,67,89,87,34]\n",
        "new_list = [ i for i in old_list]\n",
        "new_list"
      ],
      "metadata": {
        "id": "VTx8KdWVNivi"
      },
      "execution_count": null,
      "outputs": []
    },
    {
      "cell_type": "markdown",
      "source": [
        "**Using conditional statement in list comprehension:**\n",
        "\n",
        "You can also use a conditional statement in a list comprehension.\n",
        "\n",
        "**Syntax:**\n",
        "```python\n",
        "[expression for variable_name in list_or_sequence if condition]\n",
        "```"
      ],
      "metadata": {
        "id": "7t038F8eN6EX"
      }
    },
    {
      "cell_type": "code",
      "source": [
        "# Example:\n",
        "cube = [ i**3 for i in [1,2,3,4,5] if i>2]\n",
        "cube"
      ],
      "metadata": {
        "id": "s67YFEBVOGnK",
        "colab": {
          "base_uri": "https://localhost:8080/"
        },
        "outputId": "2995ab0a-f640-4083-c9a1-e7a8b4efd090"
      },
      "execution_count": null,
      "outputs": [
        {
          "output_type": "execute_result",
          "data": {
            "text/plain": [
              "[27, 64, 125]"
            ]
          },
          "metadata": {},
          "execution_count": 8
        }
      ]
    },
    {
      "cell_type": "code",
      "source": [
        "#Create a list of even numbers from 1 to 20 using the conventional list creation method.\n",
        "even_numbers = []\n",
        "for i in range(1,21):\n",
        "  if i % 2 == 0:\n",
        "    even_numbers.append(i)\n",
        "even_numbers"
      ],
      "metadata": {
        "id": "bDZ9DByLOSfR",
        "colab": {
          "base_uri": "https://localhost:8080/"
        },
        "outputId": "ea0955d7-f743-4309-d24b-d625df338563"
      },
      "execution_count": null,
      "outputs": [
        {
          "output_type": "execute_result",
          "data": {
            "text/plain": [
              "[2, 4, 6, 8, 10, 12, 14, 16, 18, 20]"
            ]
          },
          "metadata": {},
          "execution_count": 9
        }
      ]
    },
    {
      "cell_type": "code",
      "source": [
        "#Create a list of even numbers from 1 and 20 using the list comprehension method.\n",
        "\n",
        "even_num = [i for i in range(1,21) if i%2==0]\n",
        "even_num\n"
      ],
      "metadata": {
        "id": "nmrrWyg7OaEg",
        "colab": {
          "base_uri": "https://localhost:8080/"
        },
        "outputId": "a330a9aa-b780-4701-f21c-a7aae63a18ec"
      },
      "execution_count": null,
      "outputs": [
        {
          "output_type": "execute_result",
          "data": {
            "text/plain": [
              "[2, 4, 6, 8, 10, 12, 14, 16, 18, 20]"
            ]
          },
          "metadata": {},
          "execution_count": 10
        }
      ]
    },
    {
      "cell_type": "markdown",
      "source": [
        "The list comprehension `[i for i in range(1, 21) if i % 2 == 0]` should be read as \"*Add `i` to the list, for every value of `i` in the range of numbers from `1` to `20`, if `i` is divisible by 2*\"."
      ],
      "metadata": {
        "id": "baXYOE7iOhSS"
      }
    },
    {
      "cell_type": "markdown",
      "source": [
        "### Activity 2: Nested Lists Using List Comprehension\n",
        "\n",
        "We can also create nested lists using the list comprehension method.\n",
        "\n",
        "The creation of nested lists manually is a tedious job. We have to take care of indentation so that the list is readable in the code form. You may miss out on commas, brackets, spaces, etc. while creating a nested list. Hence, the manual nested list creation process becomes time-consuming.\n",
        "\n",
        "Using list comprehension method, we can create a nested list more neatly and quickly.\n",
        "\n",
        "Suppose you have two lists and you want to join them into one nested list, then you can use the list comprehension method.\n"
      ],
      "metadata": {
        "id": "2SKdOg9zOl_s"
      }
    },
    {
      "cell_type": "markdown",
      "source": [
        " Let's consider an example with cars, where we have lists of car models, their engine sizes (in liters), fuel efficiency (in kilometers per liter), and top speeds (in kilometers per hour).\n",
        "\n",
        "We will create a nested list using list comprehension to store this data.\n",
        "\n",
        "\n",
        "```\n",
        "car_models = ['Toyota Camry', 'Honda Accord', 'Ford Mustang', 'Chevrolet Malibu', 'BMW 3 Series']\n",
        "engine_sizes = [2.5, 1.5, 5.0, 2.0, 3.0]\n",
        "fuel_efficiency = [12.3, 14.0, 6.4, 11.5, 10.6]  \n",
        "top_speeds = [210, 201, 249, 193, 249]  per hour\n",
        "```"
      ],
      "metadata": {
        "id": "rmj3kZbeSigU"
      }
    },
    {
      "cell_type": "code",
      "source": [
        "cars = [ ['Toyota Camry',2.5,12.3,210]]\n",
        "cars"
      ],
      "metadata": {
        "colab": {
          "base_uri": "https://localhost:8080/"
        },
        "id": "dtvb-QtAQp7t",
        "outputId": "c739cfaa-bafd-4d61-ee3c-13644934c1f9"
      },
      "execution_count": null,
      "outputs": [
        {
          "output_type": "execute_result",
          "data": {
            "text/plain": [
              "[['Toyota Camry', 2.5, 12.3, 210]]"
            ]
          },
          "metadata": {},
          "execution_count": 12
        }
      ]
    },
    {
      "cell_type": "code",
      "source": [
        "# Define lists for car data\n",
        "car_models = ['Toyota Camry', 'Honda Accord', 'Ford Mustang', 'Chevrolet Malibu', 'BMW 3 Series']\n",
        "engine_sizes = [2.5, 1.5, 5.0, 2.0, 3.0]\n",
        "fuel_efficiency = [12.3, 14.0, 6.4, 11.5, 10.6]  # Fuel efficiency in kilometers per liter\n",
        "top_speeds = [210, 201, 249, 193]  # Top speeds in kilometers per hour\n",
        "\n",
        "n = len(car_models)\n",
        "\n",
        "car_data = [ [car_models[i],engine_sizes[i],fuel_efficiency[i]  ] for i in range(n)]\n",
        "car_data\n",
        "\n"
      ],
      "metadata": {
        "id": "uMqw2QlEUTuR",
        "colab": {
          "base_uri": "https://localhost:8080/"
        },
        "outputId": "315a80e6-25d8-4ca0-a709-67b0f50a8ca3"
      },
      "execution_count": null,
      "outputs": [
        {
          "output_type": "execute_result",
          "data": {
            "text/plain": [
              "[['Toyota Camry', 2.5, 12.3],\n",
              " ['Honda Accord', 1.5, 14.0],\n",
              " ['Ford Mustang', 5.0, 6.4],\n",
              " ['Chevrolet Malibu', 2.0, 11.5],\n",
              " ['BMW 3 Series', 3.0, 10.6]]"
            ]
          },
          "metadata": {},
          "execution_count": 13
        }
      ]
    },
    {
      "cell_type": "markdown",
      "source": [
        "Now, let's create a nested list using the list comprehension method which has 4 identical sublists containing `0` as its every item.\n",
        "\n",
        "Here's the desired output:\n",
        "\n",
        "```\n",
        "[[0, 0, 0], [0, 0, 0], [0, 0, 0], [0, 0, 0]]\n",
        "```"
      ],
      "metadata": {
        "id": "o0O8SfWYUxOi"
      }
    },
    {
      "cell_type": "code",
      "source": [
        "zeros = [0 for i in range(3)]\n",
        "zeros"
      ],
      "metadata": {
        "colab": {
          "base_uri": "https://localhost:8080/"
        },
        "id": "A_dIyTC0RIOY",
        "outputId": "41ca7ffd-a023-4f2e-9c47-59c0b66b53f2"
      },
      "execution_count": null,
      "outputs": [
        {
          "output_type": "execute_result",
          "data": {
            "text/plain": [
              "[0, 0, 0]"
            ]
          },
          "metadata": {},
          "execution_count": 17
        }
      ]
    },
    {
      "cell_type": "code",
      "source": [
        "zeros2 = [[0 for i in range(3)] for i in range(4)]\n",
        "zeros2"
      ],
      "metadata": {
        "colab": {
          "base_uri": "https://localhost:8080/"
        },
        "id": "KjEN6Ab4ReD-",
        "outputId": "7003ed02-cf75-4366-c4a3-11279ad1bba5"
      },
      "execution_count": null,
      "outputs": [
        {
          "output_type": "execute_result",
          "data": {
            "text/plain": [
              "[[0, 0, 0], [0, 0, 0], [0, 0, 0], [0, 0, 0]]"
            ]
          },
          "metadata": {},
          "execution_count": 18
        }
      ]
    },
    {
      "cell_type": "code",
      "source": [
        "zeros3 = [[[0 for i in range(3)] for i in range(4)] for i in range(3)]\n",
        "zeros3"
      ],
      "metadata": {
        "colab": {
          "base_uri": "https://localhost:8080/"
        },
        "id": "aDUVf-UMRsJ9",
        "outputId": "03d89a8a-812a-4c52-fd1e-c569eac62680"
      },
      "execution_count": null,
      "outputs": [
        {
          "output_type": "execute_result",
          "data": {
            "text/plain": [
              "[[[0, 0, 0], [0, 0, 0], [0, 0, 0], [0, 0, 0]],\n",
              " [[0, 0, 0], [0, 0, 0], [0, 0, 0], [0, 0, 0]],\n",
              " [[0, 0, 0], [0, 0, 0], [0, 0, 0], [0, 0, 0]]]"
            ]
          },
          "metadata": {},
          "execution_count": 19
        }
      ]
    },
    {
      "cell_type": "code",
      "source": [
        "#Create a nested Python list using the list comprehension method,\n",
        "#which contains 4 identical lists containing 0 as its every item.\n"
      ],
      "metadata": {
        "id": "2oB0YyudUxk6"
      },
      "execution_count": null,
      "outputs": []
    },
    {
      "cell_type": "code",
      "source": [
        "lis1 = [ 1,2,3,4]\n",
        "lis1 * 3"
      ],
      "metadata": {
        "colab": {
          "base_uri": "https://localhost:8080/"
        },
        "id": "eOnM1_glSNao",
        "outputId": "9e77adf6-2528-469c-9758-90da6680853f"
      },
      "execution_count": null,
      "outputs": [
        {
          "output_type": "execute_result",
          "data": {
            "text/plain": [
              "[1, 2, 3, 4, 1, 2, 3, 4, 1, 2, 3, 4]"
            ]
          },
          "metadata": {},
          "execution_count": 20
        }
      ]
    },
    {
      "cell_type": "code",
      "source": [
        "type(lis1)"
      ],
      "metadata": {
        "colab": {
          "base_uri": "https://localhost:8080/"
        },
        "id": "atQcRFVsTUiB",
        "outputId": "3eeb94e9-6ccc-48f0-ed59-ec737c9830a9"
      },
      "execution_count": null,
      "outputs": [
        {
          "output_type": "execute_result",
          "data": {
            "text/plain": [
              "list"
            ]
          },
          "metadata": {},
          "execution_count": 24
        }
      ]
    },
    {
      "cell_type": "code",
      "source": [
        "lis2 = [5,6,7,8]\n",
        "lis1 +lis2"
      ],
      "metadata": {
        "colab": {
          "base_uri": "https://localhost:8080/"
        },
        "id": "5Wsi03e2SWm_",
        "outputId": "37a7394d-9b69-46e7-b12a-319e30a7b5d4"
      },
      "execution_count": null,
      "outputs": [
        {
          "output_type": "execute_result",
          "data": {
            "text/plain": [
              "[1, 2, 3, 4, 5, 6, 7, 8]"
            ]
          },
          "metadata": {},
          "execution_count": 21
        }
      ]
    },
    {
      "cell_type": "code",
      "source": [
        "import numpy as np\n",
        "lis1_arr = np.array(lis1)\n",
        "lis1_arr"
      ],
      "metadata": {
        "colab": {
          "base_uri": "https://localhost:8080/"
        },
        "id": "_tP_2nMASpQ0",
        "outputId": "eb9731ee-5ca7-4838-bc57-c8996ed5146b"
      },
      "execution_count": null,
      "outputs": [
        {
          "output_type": "execute_result",
          "data": {
            "text/plain": [
              "array([1, 2, 3, 4])"
            ]
          },
          "metadata": {},
          "execution_count": 22
        }
      ]
    },
    {
      "cell_type": "code",
      "source": [
        "type(lis1_arr)"
      ],
      "metadata": {
        "colab": {
          "base_uri": "https://localhost:8080/"
        },
        "id": "8U-wrQcCTRje",
        "outputId": "569a0732-8d08-4772-c9d3-63ea77d1b90c"
      },
      "execution_count": null,
      "outputs": [
        {
          "output_type": "execute_result",
          "data": {
            "text/plain": [
              "numpy.ndarray"
            ]
          },
          "metadata": {},
          "execution_count": 23
        }
      ]
    },
    {
      "cell_type": "code",
      "source": [
        "lis1_arr * 3"
      ],
      "metadata": {
        "colab": {
          "base_uri": "https://localhost:8080/"
        },
        "id": "n2N-PsVaTWsM",
        "outputId": "511a09ec-1c3f-43e4-90d7-9d39cfc5cc89"
      },
      "execution_count": null,
      "outputs": [
        {
          "output_type": "execute_result",
          "data": {
            "text/plain": [
              "array([ 3,  6,  9, 12])"
            ]
          },
          "metadata": {},
          "execution_count": 25
        }
      ]
    },
    {
      "cell_type": "markdown",
      "source": [
        "##NumPy Arrays"
      ],
      "metadata": {
        "id": "H6Ju6wuUXQcT"
      }
    },
    {
      "cell_type": "markdown",
      "source": [
        "An array is also a data-structure which contains multiple values. Working with NumPy arrays is much easier than working with Python lists.\n",
        "\n",
        "The term NumPy stands for Numeric (or Numerical) Python. It is one of the most popular modules amongst Statisticians and Data Scientists across the globe to perform heavy mathematical computations. NumPy arrays are also faster than Python lists in terms of code execution time.\n",
        "\n",
        "For all practical purposes, **an array is the same as a list**. Fundamentally, they have been programmed differently by the inventors of Python language. We are **NOT** required to know how they were created. We only need to know how to apply them in different situations.\n"
      ],
      "metadata": {
        "id": "_s1SJsbXXNTL"
      }
    },
    {
      "cell_type": "markdown",
      "source": [
        "#### Activity 1: NumPy Arrays - The `ones()` & `zeros()` Functions\n",
        "\n",
        "\n",
        "\n",
        "To create such an array, you first need to `import` the `numpy` module at the beginning of the code. Then use the `ones()` function from the `numpy` module.\n",
        "\n",
        "The `ones()` function requires two inputs. The first input should be the required dimension of the array and the second input should define the data-type of the items in the required array.\n"
      ],
      "metadata": {
        "id": "nrO3aSTnXiwm"
      }
    },
    {
      "cell_type": "code",
      "source": [
        "#Create an array containing '1' as its items using the 'ones()' function from the 'numpy' module.\n",
        "\n",
        "ones = np.ones(4)\n",
        "ones"
      ],
      "metadata": {
        "id": "COP4KSXCXjnm",
        "colab": {
          "base_uri": "https://localhost:8080/"
        },
        "outputId": "3dae6d07-556f-4d3f-f80f-6d8a782194a0"
      },
      "execution_count": null,
      "outputs": [
        {
          "output_type": "execute_result",
          "data": {
            "text/plain": [
              "array([1., 1., 1., 1.])"
            ]
          },
          "metadata": {},
          "execution_count": 26
        }
      ]
    },
    {
      "cell_type": "code",
      "source": [
        "\n",
        "ones = np.ones(4,dtype=int)\n",
        "ones"
      ],
      "metadata": {
        "colab": {
          "base_uri": "https://localhost:8080/"
        },
        "id": "OiEP8mI2UaSU",
        "outputId": "f30e99ed-ae3b-4d5f-ba63-ffafba81accb"
      },
      "execution_count": null,
      "outputs": [
        {
          "output_type": "execute_result",
          "data": {
            "text/plain": [
              "array([1, 1, 1, 1])"
            ]
          },
          "metadata": {},
          "execution_count": 27
        }
      ]
    },
    {
      "cell_type": "code",
      "source": [
        "ones = np.ones((2,5),dtype=int)\n",
        "ones"
      ],
      "metadata": {
        "colab": {
          "base_uri": "https://localhost:8080/"
        },
        "id": "xB2_W0A9UhGq",
        "outputId": "f77fc95f-bfae-444d-87b7-5cdc2fb3a966"
      },
      "execution_count": null,
      "outputs": [
        {
          "output_type": "execute_result",
          "data": {
            "text/plain": [
              "array([[1, 1, 1, 1, 1],\n",
              "       [1, 1, 1, 1, 1]])"
            ]
          },
          "metadata": {},
          "execution_count": 28
        }
      ]
    },
    {
      "cell_type": "code",
      "source": [
        "ones = np.ones((2,5,3),dtype=int)\n",
        "ones"
      ],
      "metadata": {
        "colab": {
          "base_uri": "https://localhost:8080/"
        },
        "id": "SiAex8WoU63W",
        "outputId": "42bbc3d4-d2ee-49fc-f76a-319afea8fe36"
      },
      "execution_count": null,
      "outputs": [
        {
          "output_type": "execute_result",
          "data": {
            "text/plain": [
              "array([[[1, 1, 1],\n",
              "        [1, 1, 1],\n",
              "        [1, 1, 1],\n",
              "        [1, 1, 1],\n",
              "        [1, 1, 1]],\n",
              "\n",
              "       [[1, 1, 1],\n",
              "        [1, 1, 1],\n",
              "        [1, 1, 1],\n",
              "        [1, 1, 1],\n",
              "        [1, 1, 1]]])"
            ]
          },
          "metadata": {},
          "execution_count": 29
        }
      ]
    },
    {
      "cell_type": "markdown",
      "metadata": {
        "id": "rCnmusCAc6gI"
      },
      "source": [
        "**Note:**\n",
        "\n",
        "1. Always import the `numpy` module at the beginning of the code with `np` as its alias (or nickname). Throughout the course, we will always refer to the `numpy` module as `np` unless otherwise specified.\n",
        "\n",
        "2. The de facto data-type of an item in a NumPy array is `float`.\n",
        "\n",
        "Using the `type()` function, you can verify whether an array is a NumPy array or not."
      ]
    },
    {
      "cell_type": "code",
      "source": [
        "np.full((3,4),88898)"
      ],
      "metadata": {
        "colab": {
          "base_uri": "https://localhost:8080/"
        },
        "id": "DWo2XrkEVDpB",
        "outputId": "da014f61-0bfe-472b-dc96-5257061be4e9"
      },
      "execution_count": null,
      "outputs": [
        {
          "output_type": "execute_result",
          "data": {
            "text/plain": [
              "array([[88898, 88898, 88898, 88898],\n",
              "       [88898, 88898, 88898, 88898],\n",
              "       [88898, 88898, 88898, 88898]])"
            ]
          },
          "metadata": {},
          "execution_count": 31
        }
      ]
    },
    {
      "cell_type": "code",
      "metadata": {
        "id": "AXL0BiNXc7iK",
        "colab": {
          "base_uri": "https://localhost:8080/"
        },
        "outputId": "223f4f5f-5c93-446c-b346-343a2dd7413e"
      },
      "source": [
        "#  Using the 'type()' function, verify whether the 'ones' array is a NumPy array or not.\n",
        "type(ones)"
      ],
      "execution_count": null,
      "outputs": [
        {
          "output_type": "execute_result",
          "data": {
            "text/plain": [
              "numpy.ndarray"
            ]
          },
          "metadata": {},
          "execution_count": 32
        }
      ]
    },
    {
      "cell_type": "code",
      "metadata": {
        "id": "lD8__Mj7oT6G",
        "colab": {
          "base_uri": "https://localhost:8080/"
        },
        "outputId": "dc5ef347-4cc5-4454-c43b-76b5e96bea9a"
      },
      "source": [
        "# Using 'zeros()' function, create a NumPy array having 4 blocks, 2 rows and 3 columns.\n",
        "#The items should be int data-type.\n",
        "z = np.zeros((4,2,3))\n",
        "z"
      ],
      "execution_count": null,
      "outputs": [
        {
          "output_type": "execute_result",
          "data": {
            "text/plain": [
              "array([[[0., 0., 0.],\n",
              "        [0., 0., 0.]],\n",
              "\n",
              "       [[0., 0., 0.],\n",
              "        [0., 0., 0.]],\n",
              "\n",
              "       [[0., 0., 0.],\n",
              "        [0., 0., 0.]],\n",
              "\n",
              "       [[0., 0., 0.],\n",
              "        [0., 0., 0.]]])"
            ]
          },
          "metadata": {},
          "execution_count": 36
        }
      ]
    },
    {
      "cell_type": "code",
      "source": [
        "z_int = np.zeros((4,2,3),dtype= int)\n",
        "z_int"
      ],
      "metadata": {
        "colab": {
          "base_uri": "https://localhost:8080/"
        },
        "id": "DvOCeyW2WHnp",
        "outputId": "ffef0f08-568f-4011-aee5-2a3185dc6f04"
      },
      "execution_count": null,
      "outputs": [
        {
          "output_type": "execute_result",
          "data": {
            "text/plain": [
              "array([[[0, 0, 0],\n",
              "        [0, 0, 0]],\n",
              "\n",
              "       [[0, 0, 0],\n",
              "        [0, 0, 0]],\n",
              "\n",
              "       [[0, 0, 0],\n",
              "        [0, 0, 0]],\n",
              "\n",
              "       [[0, 0, 0],\n",
              "        [0, 0, 0]]])"
            ]
          },
          "metadata": {},
          "execution_count": 39
        }
      ]
    },
    {
      "cell_type": "markdown",
      "source": [
        "In case you want to populate your array with something other than 0s and 1s, you use full()"
      ],
      "metadata": {
        "id": "MU3pV_IqAmVe"
      }
    },
    {
      "cell_type": "markdown",
      "metadata": {
        "id": "5MTE0KcDqqUe"
      },
      "source": [
        "---"
      ]
    },
    {
      "cell_type": "markdown",
      "metadata": {
        "id": "r9A3Qj0cqrCA"
      },
      "source": [
        "#### Activity 2: The `dtype` Keyword\n",
        "\n",
        "To check the data-type of the values stored in a NumPy array, you can use the `dtype` keyword.\n"
      ]
    },
    {
      "cell_type": "code",
      "source": [
        "type(z)"
      ],
      "metadata": {
        "colab": {
          "base_uri": "https://localhost:8080/"
        },
        "id": "essWTAKwV3hf",
        "outputId": "642b87ea-1a25-4f23-e783-5d0e2139dd10"
      },
      "execution_count": null,
      "outputs": [
        {
          "output_type": "execute_result",
          "data": {
            "text/plain": [
              "numpy.ndarray"
            ]
          },
          "metadata": {},
          "execution_count": 38
        }
      ]
    },
    {
      "cell_type": "code",
      "metadata": {
        "id": "pxd0yIn5eE9J",
        "colab": {
          "base_uri": "https://localhost:8080/"
        },
        "outputId": "744d37a1-4bea-4861-98ee-240d5875a63c"
      },
      "source": [
        "# Using the 'dtype' keyword\n",
        "z.dtype"
      ],
      "execution_count": null,
      "outputs": [
        {
          "output_type": "execute_result",
          "data": {
            "text/plain": [
              "dtype('float64')"
            ]
          },
          "metadata": {},
          "execution_count": 37
        }
      ]
    },
    {
      "cell_type": "code",
      "source": [
        "z_int.dtype"
      ],
      "metadata": {
        "colab": {
          "base_uri": "https://localhost:8080/"
        },
        "id": "XzUVo__SWOaF",
        "outputId": "10bd8f7d-fbd5-45ea-fd93-d73c6e69c600"
      },
      "execution_count": null,
      "outputs": [
        {
          "output_type": "execute_result",
          "data": {
            "text/plain": [
              "dtype('int64')"
            ]
          },
          "metadata": {},
          "execution_count": 40
        }
      ]
    },
    {
      "cell_type": "markdown",
      "metadata": {
        "id": "YqEeGauMg6Gd"
      },
      "source": [
        "\n",
        "\n",
        "**Difference Between The `type()` Function & The `dtype` Keyword**\n",
        "\n",
        "The `type()` function is a function of Python. It returns the type of Python object. The data-types or more accurately the **primitive data-types** `int`, `float`, `str` and `bool` are actually Python objects. Similarly, Python lists, NumPy module, `random` modules are also Python objects. The `type()` function will tell you what type of Python objects they are."
      ]
    },
    {
      "cell_type": "code",
      "metadata": {
        "id": "0anhlDeF4HeP",
        "colab": {
          "base_uri": "https://localhost:8080/"
        },
        "outputId": "fcb890e2-243f-4dbe-a589-96a8c03de9b8"
      },
      "source": [
        "#Run the code shown below to see that the 'type()' function returns the type of Python object.\n",
        "import random\n",
        "import numpy\n",
        "\n",
        "# 1. The 'int' Python object.\n",
        "print(type(2020))\n",
        "\n",
        "# 2. The 'float' Python object.\n",
        "print(type(3.14))\n",
        "\n",
        "# 3. The 'str' Python object.\n",
        "print(type('Earth'))\n",
        "\n",
        "# 4. The 'list' Python object\n",
        "print(type([i for i in range(1, 11)]))\n",
        "\n",
        "# 5. 'numpy' is a 'module' Python object.\n",
        "print(type(numpy))\n",
        "\n",
        "# 6. 'random' is a 'module' Python object.\n",
        "print(type(random))"
      ],
      "execution_count": null,
      "outputs": [
        {
          "output_type": "stream",
          "name": "stdout",
          "text": [
            "<class 'int'>\n",
            "<class 'float'>\n",
            "<class 'str'>\n",
            "<class 'list'>\n",
            "<class 'module'>\n",
            "<class 'module'>\n"
          ]
        }
      ]
    },
    {
      "cell_type": "code",
      "source": [
        "print(type(np))"
      ],
      "metadata": {
        "colab": {
          "base_uri": "https://localhost:8080/"
        },
        "id": "2o84sRrJW6Fg",
        "outputId": "775834f0-3a10-45b5-8f22-ccf946bf3d60"
      },
      "execution_count": null,
      "outputs": [
        {
          "output_type": "stream",
          "name": "stdout",
          "text": [
            "<class 'module'>\n"
          ]
        }
      ]
    },
    {
      "cell_type": "markdown",
      "metadata": {
        "id": "qikzHXnYobUR"
      },
      "source": [
        "---"
      ]
    },
    {
      "cell_type": "markdown",
      "metadata": {
        "id": "qkZj_ZVTiHz9"
      },
      "source": [
        "#### Activity 3: The `ndim` And `shape` Keywords\n",
        "\n",
        "**The `ndim` Keyword:** Using the `ndim` keyword, you can find out the dimension of a NumPy array."
      ]
    },
    {
      "cell_type": "code",
      "source": [
        "z"
      ],
      "metadata": {
        "colab": {
          "base_uri": "https://localhost:8080/"
        },
        "id": "UngGqa49XK5Q",
        "outputId": "06066c3c-d759-4383-967a-ddf92f912bb5"
      },
      "execution_count": null,
      "outputs": [
        {
          "output_type": "execute_result",
          "data": {
            "text/plain": [
              "array([[[0., 0., 0.],\n",
              "        [0., 0., 0.]],\n",
              "\n",
              "       [[0., 0., 0.],\n",
              "        [0., 0., 0.]],\n",
              "\n",
              "       [[0., 0., 0.],\n",
              "        [0., 0., 0.]],\n",
              "\n",
              "       [[0., 0., 0.],\n",
              "        [0., 0., 0.]]])"
            ]
          },
          "metadata": {},
          "execution_count": 45
        }
      ]
    },
    {
      "cell_type": "code",
      "metadata": {
        "id": "aKuQhbixiMVK",
        "colab": {
          "base_uri": "https://localhost:8080/"
        },
        "outputId": "5951e4cd-7f1e-4854-c863-66270cb5d5d5"
      },
      "source": [
        "#Using the 'ndim' array\n",
        "z.ndim"
      ],
      "execution_count": null,
      "outputs": [
        {
          "output_type": "execute_result",
          "data": {
            "text/plain": [
              "3"
            ]
          },
          "metadata": {},
          "execution_count": 46
        }
      ]
    },
    {
      "cell_type": "markdown",
      "metadata": {
        "id": "tC0fYlbmlRxH"
      },
      "source": [
        "**The `shape` Keyword:** Using the `shape` keyword, you can find out the number of blocks, rows and columns present in NumPy arrays."
      ]
    },
    {
      "cell_type": "code",
      "metadata": {
        "id": "f8jxBActlY0o",
        "colab": {
          "base_uri": "https://localhost:8080/"
        },
        "outputId": "33085901-afc0-4bb4-f4be-f9a6a6fb0608"
      },
      "source": [
        "#Using the 'shape' keyword find out the number of blocks, rows and columns.\n",
        "z.shape\n"
      ],
      "execution_count": null,
      "outputs": [
        {
          "output_type": "execute_result",
          "data": {
            "text/plain": [
              "(4, 2, 3)"
            ]
          },
          "metadata": {},
          "execution_count": 47
        }
      ]
    },
    {
      "cell_type": "markdown",
      "metadata": {
        "id": "jW-6nwfUlQi1"
      },
      "source": [
        "---"
      ]
    },
    {
      "cell_type": "markdown",
      "metadata": {
        "id": "83zFWveBmVT4"
      },
      "source": [
        "#### Activity 4: The `arange()` And `linspace()` Functions^^\n",
        "\n",
        "The are `arange()` and `linspace()` functions in NumPy module create an array of numbers such that the difference between a pair of any two consecutive numbers in the array is constant. However, there is a slight difference in their outputs.\n",
        "\n",
        "**The `arange()` Function:** It returns a one-dimensional array containing numbers between two specific numbers. It is similar to the `range()` function in the `for` loop."
      ]
    },
    {
      "cell_type": "code",
      "source": [
        "for i in range(1,10,3):\n",
        "    print(i)"
      ],
      "metadata": {
        "colab": {
          "base_uri": "https://localhost:8080/"
        },
        "id": "406ZxZKCXsl7",
        "outputId": "395edf1e-cf49-46ba-f839-d3cd1c2a1dc0"
      },
      "execution_count": null,
      "outputs": [
        {
          "output_type": "stream",
          "name": "stdout",
          "text": [
            "1\n",
            "4\n",
            "7\n"
          ]
        }
      ]
    },
    {
      "cell_type": "code",
      "metadata": {
        "id": "RvOk2XS6mz7g",
        "colab": {
          "base_uri": "https://localhost:8080/"
        },
        "outputId": "9de2f590-c23f-44ce-d47b-06abe3ada646"
      },
      "source": [
        "# Create a one-dimensional array containing numbers between 5 and 20 using the 'arange()' function in the NumPy module.\n",
        "arr_1 = np.arange(5,21)\n",
        "arr_1\n"
      ],
      "execution_count": null,
      "outputs": [
        {
          "output_type": "execute_result",
          "data": {
            "text/plain": [
              "array([ 5,  6,  7,  8,  9, 10, 11, 12, 13, 14, 15, 16, 17, 18, 19, 20])"
            ]
          },
          "metadata": {},
          "execution_count": 48
        }
      ]
    },
    {
      "cell_type": "code",
      "source": [
        "arr11 = np.arange(5,21,2)\n",
        "arr11"
      ],
      "metadata": {
        "colab": {
          "base_uri": "https://localhost:8080/"
        },
        "id": "uRhb4YcjXyxH",
        "outputId": "c01fdc9b-f3b4-4ad9-ad9a-ebf55542907e"
      },
      "execution_count": null,
      "outputs": [
        {
          "output_type": "execute_result",
          "data": {
            "text/plain": [
              "array([ 5,  7,  9, 11, 13, 15, 17, 19])"
            ]
          },
          "metadata": {},
          "execution_count": 50
        }
      ]
    },
    {
      "cell_type": "markdown",
      "metadata": {
        "id": "17OYVXuAm2Jl"
      },
      "source": [
        "Here, the `arange()` function has created an array of numbers from `5` to `20`. The difference between a pair of any two consecutive numbers is `1`. The `arange()` function will not include the last number specified in the array created.\n",
        "\n",
        "If you want the difference between two consecutive numbers to be greater than `1` (say `4`) in an array, then you can specify the difference as an additional input to the `arange()` function."
      ]
    },
    {
      "cell_type": "code",
      "metadata": {
        "id": "MlDrsatOm4uU",
        "colab": {
          "base_uri": "https://localhost:8080/"
        },
        "outputId": "2d4b5c9d-ed21-45cd-cc68-efea7d5453d7"
      },
      "source": [
        "#Create an array of numbers from 1 to 24 such that the difference between two consecutive numbers is 4.\n",
        "arr12 = np.arange(1,25,4)\n",
        "arr12"
      ],
      "execution_count": null,
      "outputs": [
        {
          "output_type": "execute_result",
          "data": {
            "text/plain": [
              "array([ 1,  5,  9, 13, 17, 21])"
            ]
          },
          "metadata": {},
          "execution_count": 51
        }
      ]
    },
    {
      "cell_type": "markdown",
      "metadata": {
        "id": "5_r2bBl4m7cm"
      },
      "source": [
        "As you can see, the `arange()` function has created an array of numbers from `1` to `24` such that the difference between two consecutive numbers is `4`.\n",
        "\n",
        "**Note:** If the difference between two consecutive numbers is not specified, then the `arange()` function will assume that the difference is `1`.\n"
      ]
    },
    {
      "cell_type": "markdown",
      "metadata": {
        "id": "UnR5FyRpnAWy"
      },
      "source": [
        "\n",
        "**The `linspace()` Function:** This function creates an array containing a fixed number of numbers between two specific numbers such that the difference between any two consecutive numbers in the array is constant. This will be clear to you with an example.\n",
        "\n",
        "Suppose you want to create an array containing exactly `4` numbers between the numbers `1` and `25` such that all the difference between any two consecutive numbers is constant, then you can use the `linspace()` function."
      ]
    },
    {
      "cell_type": "code",
      "source": [
        "arr12 = np.arange(1,25,4)\n",
        "arr12"
      ],
      "metadata": {
        "colab": {
          "base_uri": "https://localhost:8080/"
        },
        "id": "AFAI7n_4YTYj",
        "outputId": "788a3a9d-f6f2-4969-8409-706a9264472b"
      },
      "execution_count": null,
      "outputs": [
        {
          "output_type": "execute_result",
          "data": {
            "text/plain": [
              "array([ 1,  5,  9, 13, 17, 21])"
            ]
          },
          "metadata": {},
          "execution_count": 53
        }
      ]
    },
    {
      "cell_type": "code",
      "metadata": {
        "id": "SCdhTcEinE9y",
        "colab": {
          "base_uri": "https://localhost:8080/"
        },
        "outputId": "1b3e4914-4b95-473d-b7ab-8830db8ee382"
      },
      "source": [
        "# Create an array containing 4 numbers between 1 to 25.\n",
        "arr4 = np.linspace(1,25,4)\n",
        "arr4"
      ],
      "execution_count": null,
      "outputs": [
        {
          "output_type": "execute_result",
          "data": {
            "text/plain": [
              "array([ 1.,  9., 17., 25.])"
            ]
          },
          "metadata": {},
          "execution_count": 52
        }
      ]
    },
    {
      "cell_type": "code",
      "source": [
        "arr44 = np.linspace(1,10,2)\n",
        "arr44"
      ],
      "metadata": {
        "colab": {
          "base_uri": "https://localhost:8080/"
        },
        "id": "KTsaP4rlYhK4",
        "outputId": "c5056eaf-0e59-4ce4-c01b-88581f5f8090"
      },
      "execution_count": null,
      "outputs": [
        {
          "output_type": "execute_result",
          "data": {
            "text/plain": [
              "array([ 1., 10.])"
            ]
          },
          "metadata": {},
          "execution_count": 54
        }
      ]
    },
    {
      "cell_type": "code",
      "source": [
        "arr44 = np.linspace(1,10,4)\n",
        "arr44"
      ],
      "metadata": {
        "colab": {
          "base_uri": "https://localhost:8080/"
        },
        "id": "xIA6AawgYttx",
        "outputId": "596d8918-c54f-47a7-ce76-f613f36914a5"
      },
      "execution_count": null,
      "outputs": [
        {
          "output_type": "execute_result",
          "data": {
            "text/plain": [
              "array([ 1.,  4.,  7., 10.])"
            ]
          },
          "metadata": {},
          "execution_count": 56
        }
      ]
    },
    {
      "cell_type": "code",
      "source": [
        "arr44 = np.linspace(1,10,5)\n",
        "arr44"
      ],
      "metadata": {
        "colab": {
          "base_uri": "https://localhost:8080/"
        },
        "id": "bkeVcvVPYxm6",
        "outputId": "792e8b52-c796-49a5-ccc0-174dad81ef1c"
      },
      "execution_count": null,
      "outputs": [
        {
          "output_type": "execute_result",
          "data": {
            "text/plain": [
              "array([ 1.  ,  3.25,  5.5 ,  7.75, 10.  ])"
            ]
          },
          "metadata": {},
          "execution_count": 57
        }
      ]
    },
    {
      "cell_type": "code",
      "source": [
        "arr44 = np.linspace(1,10,6)\n",
        "arr44"
      ],
      "metadata": {
        "colab": {
          "base_uri": "https://localhost:8080/"
        },
        "id": "J8_3JDcxZNy6",
        "outputId": "4e11d96c-0c6d-43dd-b714-77d55e1e038b"
      },
      "execution_count": null,
      "outputs": [
        {
          "output_type": "execute_result",
          "data": {
            "text/plain": [
              "array([ 1. ,  2.8,  4.6,  6.4,  8.2, 10. ])"
            ]
          },
          "metadata": {},
          "execution_count": 58
        }
      ]
    },
    {
      "cell_type": "code",
      "source": [
        "arr444 = np.arange(1,10,2)\n",
        "arr444"
      ],
      "metadata": {
        "colab": {
          "base_uri": "https://localhost:8080/"
        },
        "id": "eMzDwEAmYoVR",
        "outputId": "0d1868a6-c30f-4b5a-a329-35db43ff9789"
      },
      "execution_count": null,
      "outputs": [
        {
          "output_type": "execute_result",
          "data": {
            "text/plain": [
              "array([1, 3, 5, 7, 9])"
            ]
          },
          "metadata": {},
          "execution_count": 55
        }
      ]
    },
    {
      "cell_type": "code",
      "source": [
        "arr44 = np.linspace(5,15)\n",
        "arr44"
      ],
      "metadata": {
        "colab": {
          "base_uri": "https://localhost:8080/"
        },
        "id": "Hx24GSG_ZGht",
        "outputId": "f66b727e-1a80-4c92-f6ae-71e9af6acf03"
      },
      "execution_count": null,
      "outputs": [
        {
          "output_type": "execute_result",
          "data": {
            "text/plain": [
              "array([ 5.        ,  5.20408163,  5.40816327,  5.6122449 ,  5.81632653,\n",
              "        6.02040816,  6.2244898 ,  6.42857143,  6.63265306,  6.83673469,\n",
              "        7.04081633,  7.24489796,  7.44897959,  7.65306122,  7.85714286,\n",
              "        8.06122449,  8.26530612,  8.46938776,  8.67346939,  8.87755102,\n",
              "        9.08163265,  9.28571429,  9.48979592,  9.69387755,  9.89795918,\n",
              "       10.10204082, 10.30612245, 10.51020408, 10.71428571, 10.91836735,\n",
              "       11.12244898, 11.32653061, 11.53061224, 11.73469388, 11.93877551,\n",
              "       12.14285714, 12.34693878, 12.55102041, 12.75510204, 12.95918367,\n",
              "       13.16326531, 13.36734694, 13.57142857, 13.7755102 , 13.97959184,\n",
              "       14.18367347, 14.3877551 , 14.59183673, 14.79591837, 15.        ])"
            ]
          },
          "metadata": {},
          "execution_count": 60
        }
      ]
    },
    {
      "cell_type": "markdown",
      "metadata": {
        "id": "aNIZgk9NnF1G"
      },
      "source": [
        "As you can see, the `linspace()` function has created an array containing `4` numbers between `1` and `25` (including `25`) such that the difference between two consecutive numbers is constant. Take a pair of any two consecutive numbers in `array5`, the difference between them will be `8.`\n",
        "\n",
        "Notice the difference between the outputs of the `arange()` and `linspace()` functions for exactly the same inputs. The `arange()` function returns `6` numbers such that the difference between them is exactly `4` whereas the `linspace()` function returns exactly `4` numbers such that the difference between two consecutive numbers is constant.\n",
        "\n",
        "In other words:\n",
        "\n",
        "- In the `arange()` function, you specify the value of the difference between two consecutive numbers as the third input.\n",
        "\n",
        "- Whereas, in the `linspace()` function, you specify the length of the array to be created as the third input.\n",
        "\n",
        "Let's create another array using the `linspace()` function to get a better understanding. Let's create an array containing `10` numbers between `1` and `25` such that the difference between two consecutive numbers is constant.\n"
      ]
    },
    {
      "cell_type": "code",
      "metadata": {
        "id": "Yma1-oPkFXuU"
      },
      "source": [
        "#Create an array containing 10 numbers between 1 and 25 such that the difference between two consecutive numbers is constant.\n"
      ],
      "execution_count": null,
      "outputs": []
    },
    {
      "cell_type": "markdown",
      "metadata": {
        "id": "LjM6JCndGMR9"
      },
      "source": [
        "Take a pair of any two consecutive numbers in the `array5`, the difference between them will be `2.66666666`"
      ]
    },
    {
      "cell_type": "markdown",
      "metadata": {
        "id": "KQ0PGPSitkjx"
      },
      "source": [
        "---"
      ]
    },
    {
      "cell_type": "markdown",
      "metadata": {
        "id": "i5XfedwAtmQn"
      },
      "source": [
        "#### Activity 5: The `reshape()` Function\n",
        "\n",
        "\n",
        "The `reshape()` function reshapes an array from one configuration to another without changing the items.\n",
        "\n"
      ]
    },
    {
      "cell_type": "code",
      "metadata": {
        "id": "TVSPwGGJuZUb",
        "colab": {
          "base_uri": "https://localhost:8080/"
        },
        "outputId": "14530ea9-eab0-426e-8f3f-a898b4d55fb5"
      },
      "source": [
        "# Reshape example\n",
        "zeros = np.zeros((4,2,3))\n",
        "print(zeros)"
      ],
      "execution_count": null,
      "outputs": [
        {
          "output_type": "stream",
          "name": "stdout",
          "text": [
            "[[[0. 0. 0.]\n",
            "  [0. 0. 0.]]\n",
            "\n",
            " [[0. 0. 0.]\n",
            "  [0. 0. 0.]]\n",
            "\n",
            " [[0. 0. 0.]\n",
            "  [0. 0. 0.]]\n",
            "\n",
            " [[0. 0. 0.]\n",
            "  [0. 0. 0.]]]\n"
          ]
        }
      ]
    },
    {
      "cell_type": "code",
      "source": [
        "z_reshape = zeros.reshape(6,4)\n",
        "z_reshape"
      ],
      "metadata": {
        "colab": {
          "base_uri": "https://localhost:8080/"
        },
        "id": "4vqxjX6DZyzz",
        "outputId": "700d09be-107b-48db-97c5-bfe50decc3a1"
      },
      "execution_count": null,
      "outputs": [
        {
          "output_type": "execute_result",
          "data": {
            "text/plain": [
              "array([[0., 0., 0., 0.],\n",
              "       [0., 0., 0., 0.],\n",
              "       [0., 0., 0., 0.],\n",
              "       [0., 0., 0., 0.],\n",
              "       [0., 0., 0., 0.],\n",
              "       [0., 0., 0., 0.]])"
            ]
          },
          "metadata": {},
          "execution_count": 64
        }
      ]
    },
    {
      "cell_type": "markdown",
      "metadata": {
        "id": "UR-_4ugcudOM"
      },
      "source": [
        "\n",
        "\n",
        "This operation is only valid when the number of items in the new configuration is exactly the same as the number of items in the original configuration.\n",
        "\n",
        "The `reshape()` function in NumPy is used to give a new shape to an array without changing its data. It is a very powerful function, especially when you need to manipulate the dimensions of an array for various operations, such as feeding data into machine learning models or preparing data for visualization.\n"
      ]
    },
    {
      "cell_type": "markdown",
      "metadata": {
        "id": "PABm6WB9mUbu"
      },
      "source": [
        "---"
      ]
    },
    {
      "cell_type": "markdown",
      "metadata": {
        "id": "bNXJRQFk3vyp"
      },
      "source": [
        "#### Activity 6: The `random.randint()` Function\n",
        "\n",
        "The NumPy module also has its `random.randint()` function. It takes two inputs. The first input is the range of two integers between which a random number is to be created. The second input is the `size` parameter which defines the number of random integers to be created.\n",
        "\n",
        "**Syntax:** `np.random.randint(num1, num2, size=N)`\n",
        "\n",
        " where `num1` and `num2` are starting numbers and `N` is the number of items to be contained in the array."
      ]
    },
    {
      "cell_type": "code",
      "metadata": {
        "id": "EjiLbM0y31Gi"
      },
      "source": [
        "#Create a one-dimensional NumPy array containing 15 random integers between 50 and 100.\n",
        "arr_7 = np.random.randint(50,100,size = 15)\n",
        "arr_7"
      ],
      "execution_count": null,
      "outputs": []
    },
    {
      "cell_type": "markdown",
      "metadata": {
        "id": "GUc7b6_L36CD"
      },
      "source": [
        "Similarly, you can create a multi-dimensional NumPy array containing random integers by specifying the dimensions of the array to be created in the `size` parameter."
      ]
    },
    {
      "cell_type": "code",
      "metadata": {
        "id": "wjVrnDj334Ww"
      },
      "source": [
        "# Create a two-dimensional NumPy array containing 15 random integers between 50 and 100.\n",
        "arr_7 = np.random.randint(50,100,(4,3))\n",
        "arr_7"
      ],
      "execution_count": null,
      "outputs": []
    },
    {
      "cell_type": "code",
      "metadata": {
        "id": "1wjZETPp39rR"
      },
      "source": [
        "# Student Action: Create a three-dimensional NumPy array containing 40 random integers between 50 and 100.\n",
        "arr_7 = np.random.randint(50,100,(4,3,7))\n",
        "arr_7"
      ],
      "execution_count": null,
      "outputs": []
    },
    {
      "cell_type": "markdown",
      "metadata": {
        "id": "EbGXKH-c3uJh"
      },
      "source": [
        "---"
      ]
    },
    {
      "cell_type": "markdown",
      "metadata": {
        "id": "V_OCAj0f3paN"
      },
      "source": [
        "#### Activity 7: The `array()` Function^\n",
        "\n",
        "We can convert a Python list into a NumPy array. To do this, use the `array()` function which takes a Python list as an input.\n",
        "\n"
      ]
    },
    {
      "cell_type": "code",
      "metadata": {
        "id": "ekUreHwA4AuX"
      },
      "source": [
        "# Convert a Python list into a NumPy array using the 'array()' function.\n",
        "list7 = [1,2,3]\n",
        "arr_list7 = np.array(list7)\n",
        "arr_list7"
      ],
      "execution_count": null,
      "outputs": []
    },
    {
      "cell_type": "markdown",
      "metadata": {
        "id": "EqudPIx11ZHd"
      },
      "source": [
        "To check whether a Python list is converted into a NumPy array or not, you can use the `type()` function."
      ]
    },
    {
      "cell_type": "code",
      "metadata": {
        "id": "VOEbjYwC1nF7"
      },
      "source": [
        "#Verify whether the array created is a NumPy array or a Python list.\n",
        "type(arr_list7)"
      ],
      "execution_count": null,
      "outputs": []
    },
    {
      "cell_type": "markdown",
      "metadata": {
        "id": "2doxkX1qyC9S"
      },
      "source": [
        "---"
      ]
    },
    {
      "cell_type": "markdown",
      "metadata": {
        "id": "yDM2ZGP6J00k"
      },
      "source": [
        "#### Activity 8: The `list()` Function\n",
        "\n",
        "We can convert a NumPy array into a Python list using the `list()` function.\n",
        "\n"
      ]
    },
    {
      "cell_type": "code",
      "metadata": {
        "id": "SkKJekR5KOad"
      },
      "source": [
        "#Convert a NumPy array into a Python list using the 'list()' function.\n",
        "list_9 = list(arr_list7)\n",
        "list_9"
      ],
      "execution_count": null,
      "outputs": []
    },
    {
      "cell_type": "code",
      "metadata": {
        "id": "us1-glqEKZ_m"
      },
      "source": [
        "# Verify whether the converted array to list is Python list or not.\n",
        "type(list_9)"
      ],
      "execution_count": null,
      "outputs": []
    },
    {
      "cell_type": "markdown",
      "metadata": {
        "id": "4R2D_nX5Kzg5"
      },
      "source": [
        "As you can see, the output is `list`. Hence, we successfully converted the NumPy array to a Python list using the `list()` function."
      ]
    },
    {
      "cell_type": "markdown",
      "metadata": {
        "id": "ws2P98KAIuML"
      },
      "source": [
        "#### Activity 9: Array Indexing"
      ]
    },
    {
      "cell_type": "code",
      "metadata": {
        "id": "ypWtXFi4IPfT"
      },
      "source": [
        "# Guess the output\n",
        "arr = np.array([1, 2, 3, 4])\n",
        "\n",
        "print(arr[1])"
      ],
      "execution_count": null,
      "outputs": []
    },
    {
      "cell_type": "code",
      "metadata": {
        "id": "a70KrTmFIku9"
      },
      "source": [
        "# Get third and fourth elements from the above array and add them.\n"
      ],
      "execution_count": null,
      "outputs": []
    },
    {
      "cell_type": "markdown",
      "metadata": {
        "id": "DzjD4Fb8I4ej"
      },
      "source": [
        "\n",
        "**Access 2-D Arrays**\n",
        "\n",
        "To access elements from 2-D arrays we can use comma separated integers representing the dimension and the index of the element.\n",
        "\n"
      ]
    },
    {
      "cell_type": "code",
      "metadata": {
        "id": "-jCQAYY5I_zZ"
      },
      "source": [
        "# Guess the output\n",
        "arr = np.array([[1,2,3,4,5], [6,7,8,9,10]])\n",
        "\n",
        "print(arr[0, 1])\n"
      ],
      "execution_count": null,
      "outputs": []
    },
    {
      "cell_type": "code",
      "metadata": {
        "id": "7abJ0H4ZJV0i"
      },
      "source": [
        "# Guess the output\n",
        "arr = np.array([[1,2,3,4,5], [6,7,8,9,10]])\n",
        "\n",
        "print(arr[1, 4])"
      ],
      "execution_count": null,
      "outputs": []
    },
    {
      "cell_type": "markdown",
      "metadata": {
        "id": "pqp__68xJ7W4"
      },
      "source": [
        "**Negative Indexing**"
      ]
    },
    {
      "cell_type": "code",
      "metadata": {
        "id": "d_IFSJkpJ3_k"
      },
      "source": [
        "# Guess the output\n",
        "arr = np.array([[1,2,3,4,5], [6,7,8,9,10]])\n",
        "\n",
        "print( arr[1, -1])"
      ],
      "execution_count": null,
      "outputs": []
    },
    {
      "cell_type": "markdown",
      "metadata": {
        "id": "REgWA5vxJetL"
      },
      "source": [
        "**Access 3-D Arrays**\n",
        "\n",
        "To access elements from 3-D arrays we can use comma separated integers representing the dimensions and the index of the element.\n",
        "\n"
      ]
    },
    {
      "cell_type": "code",
      "metadata": {
        "id": "BeWTzLIfJfFe"
      },
      "source": [
        "# Guess the output\n",
        "arr = np.array([[[1, 2, 3], [4, 5, 6]], [[7, 8, 9], [10, 11, 12]]])\n",
        "\n",
        "print(arr[0, 1, 2])"
      ],
      "execution_count": null,
      "outputs": []
    },
    {
      "cell_type": "markdown",
      "metadata": {
        "id": "b6ilCLg_KIHt"
      },
      "source": [
        "**NumPy Array Slicing**"
      ]
    },
    {
      "cell_type": "code",
      "metadata": {
        "id": "ohhC0AYaKMl5"
      },
      "source": [
        "# Guess the output\n",
        "arr = np.array([1, 2, 3, 4, 5, 6, 7])\n",
        "\n",
        "print(arr[4:])"
      ],
      "execution_count": null,
      "outputs": []
    },
    {
      "cell_type": "code",
      "metadata": {
        "id": "YNzqdmtjKXm-"
      },
      "source": [
        "# Guess the output\n",
        "arr = np.array([1, 2, 3, 4, 5, 6, 7])\n",
        "\n",
        "print(arr[:4])"
      ],
      "execution_count": null,
      "outputs": []
    },
    {
      "cell_type": "code",
      "metadata": {
        "id": "JnFDnQn9KaV_"
      },
      "source": [
        "# Guess the output\n",
        "arr = np.array([1, 2, 3, 4, 5, 6, 7])\n",
        "\n",
        "print(arr[-3:-1])"
      ],
      "execution_count": null,
      "outputs": []
    },
    {
      "cell_type": "code",
      "metadata": {
        "id": "4suMUVtmKll6"
      },
      "source": [
        "# Guess the output\n",
        "arr = np.array([1, 2, 3, 4, 5, 6, 7])\n",
        "\n",
        "print(arr[::2])"
      ],
      "execution_count": null,
      "outputs": []
    },
    {
      "cell_type": "markdown",
      "metadata": {
        "id": "igGX7G4MKvhN"
      },
      "source": [
        "**Slicing 2-D Arrays**"
      ]
    },
    {
      "cell_type": "code",
      "metadata": {
        "id": "vD481RuUKxJs"
      },
      "source": [
        "# Guess the output\n",
        "arr = np.array([[1, 2, 3, 4, 5], [6, 7, 8, 9, 10]])\n",
        "\n",
        "print(arr[1, 1:4])"
      ],
      "execution_count": null,
      "outputs": []
    },
    {
      "cell_type": "code",
      "metadata": {
        "id": "T5IMn-ZoK3tL"
      },
      "source": [
        "# Guess the output\n",
        "arr = np.array([[1, 2, 3, 4, 5], [6, 7, 8, 9, 10]])\n",
        "\n",
        "print(arr[0:2, 2])"
      ],
      "execution_count": null,
      "outputs": []
    },
    {
      "cell_type": "code",
      "metadata": {
        "id": "HE-K5w01K6aF"
      },
      "source": [
        "# Guess the output\n",
        "arr = np.array([[1, 2, 3, 4, 5], [6, 7, 8, 9, 10]])\n",
        "\n",
        "print(arr[0:2, 1:4])"
      ],
      "execution_count": null,
      "outputs": []
    },
    {
      "cell_type": "markdown",
      "metadata": {
        "id": "6RiqcCeWLAAr"
      },
      "source": [
        "**Slicing 3-D Arrays**"
      ]
    },
    {
      "cell_type": "markdown",
      "metadata": {
        "id": "64jKQjiupTeA"
      },
      "source": [
        "**Slicing**\n",
        "\n",
        "![image.png](data:image/png;base64,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)"
      ]
    },
    {
      "cell_type": "code",
      "metadata": {
        "id": "YwO7n2v8aYif"
      },
      "source": [
        "# create a above 3-d array and slice red elements\n",
        "array = np.arange(0,45).reshape(3,3,5)\n",
        "print(array[1:, 0:2 , 1:4])"
      ],
      "execution_count": null,
      "outputs": []
    },
    {
      "cell_type": "markdown",
      "metadata": {
        "id": "T--9ZuaMMQKi"
      },
      "source": [
        "Make a copy, change the original array, and display both arrays:"
      ]
    },
    {
      "cell_type": "code",
      "metadata": {
        "id": "WFJtQ7nEMUYC"
      },
      "source": [
        "# guess the output\n",
        "arr = np.array([1, 2, 3, 4, 5])\n",
        "x = arr.copy()\n",
        "arr[0] = 42\n",
        "\n",
        "print(arr)\n",
        "print(x)"
      ],
      "execution_count": null,
      "outputs": []
    },
    {
      "cell_type": "markdown",
      "metadata": {
        "id": "LSdqSR7BPAMw"
      },
      "source": [
        "**Sorting Arrays**\n",
        "\n",
        "Sorting means putting elements in an ordered sequence.\n",
        "\n",
        "Ordered sequence is any sequence that has an order corresponding to elements, like numeric or alphabetical, ascending or descending.\n",
        "\n",
        "The NumPy ndarray object has a function called `sort()`, that will sort a specified array."
      ]
    },
    {
      "cell_type": "code",
      "metadata": {
        "id": "87nEp4wOPAus"
      },
      "source": [
        "# guess the output\n",
        "arr = np.array([3, 2, 0, 1])\n",
        "\n",
        "print(np.sort(arr))"
      ],
      "execution_count": null,
      "outputs": []
    },
    {
      "cell_type": "code",
      "metadata": {
        "id": "jYvkG1UQPOr6"
      },
      "source": [
        "# guess the output\n",
        "arr = np.array(['banana', 'cherry', 'apple'])\n",
        "\n",
        "print(np.sort(arr))"
      ],
      "execution_count": null,
      "outputs": []
    },
    {
      "cell_type": "code",
      "metadata": {
        "id": "_MKV475XPYfR"
      },
      "source": [
        "# guess the output\n",
        "arr = np.array([True, False, True])\n",
        "\n",
        "print(np.sort(arr))"
      ],
      "execution_count": null,
      "outputs": []
    },
    {
      "cell_type": "code",
      "metadata": {
        "id": "ZMkKRII_Psrq"
      },
      "source": [
        "# sorting 2-d array\n",
        "arr = np.array([[3, 2, 4], [5, 0, 1]])\n",
        "\n",
        "print(np.sort(arr))"
      ],
      "execution_count": null,
      "outputs": []
    },
    {
      "cell_type": "markdown",
      "metadata": {
        "id": "Uy976KL9PiIf"
      },
      "source": [
        "**Note:** This method returns a copy of the array, leaving the original array unchanged."
      ]
    }
  ]
}