{
  "nbformat": 4,
  "nbformat_minor": 0,
  "metadata": {
    "colab": {
      "provenance": [],
      "include_colab_link": true
    },
    "kernelspec": {
      "name": "python3",
      "display_name": "Python 3"
    }
  },
  "cells": [
    {
      "cell_type": "markdown",
      "metadata": {
        "id": "view-in-github",
        "colab_type": "text"
      },
      "source": [
        "<a href=\"https://colab.research.google.com/github/poudyaldiksha/Data-Science-project/blob/main/Lesson_35_b2.ipynb\" target=\"_parent\"><img src=\"https://colab.research.google.com/assets/colab-badge.svg\" alt=\"Open In Colab\"/></a>"
      ]
    },
    {
      "cell_type": "markdown",
      "metadata": {
        "id": "Vcvmc_dgH1Ry"
      },
      "source": [
        "# Lesson 35 :Expected Value,Continuous Random Variable, Probability Density Function"
      ]
    },
    {
      "cell_type": "markdown",
      "metadata": {
        "id": "aI_I1LXxI5Lg"
      },
      "source": [
        "---"
      ]
    },
    {
      "cell_type": "markdown",
      "metadata": {
        "id": "R5R3b_48nKTP"
      },
      "source": [
        "#### Recap\n",
        "\n",
        "In the MCQ test illustration, The probabilities of the random variables $X = 0, 1, 2, 3, 4$ are\n",
        "\n",
        "- $P(X = 0) = {}^4C_0 \\times \\left(\\frac{1}{4}\\right)^0 \\times \\left(\\frac{3}{4}\\right)^4$\n",
        "\n",
        "- $P(X = 1) = {}^4C_1 \\times \\frac{1}{4} \\times \\left(\\frac{3}{4}\\right)^3$\n",
        "\n",
        "- $P(X = 2) = {}^4C_2 \\times \\left(\\frac{1}{4}\\right)^2 \\times \\left(\\frac{3}{4}\\right)^2$\n",
        "\n",
        "- $P(X = 3) = {}^4C_3 \\times \\left(\\frac{1}{4}\\right)^3 \\times \\frac{3}{4}$\n",
        "\n",
        "- $P(X = 4) = {}^4C_4 \\times \\left(\\frac{1}{4}\\right)^4 \\times \\left(\\frac{3}{4}\\right)^0$\n",
        "\n",
        "In general, in any experiment having total $n$ possible trials, the probability of success in $r$ trials out of $n$ trials is given by\n",
        "\n",
        "$$P(X = r) = {}^nC_r \\times s^r \\times f^{n - r}$$\n",
        "\n",
        "where\n",
        "\n",
        "- ${}^nC_{r} = \\frac{n!}{(n-r)! \\times r!} = {}^nC_{n - r}$\n",
        "\n",
        "- $n$ is a natural number and $r$ is a whole number but $r \\le n$\n",
        "\n",
        "- $s$ denotes the probability of **success**\n",
        "\n",
        "- $f$ denotes the probability of **failure** and $s + f = 1$\n",
        "\n",
        "In the context of the MCQ test illustration,\n",
        "\n",
        "- $n$ is the total number of questions in an MCQ test\n",
        "\n",
        "- $r$ is the number of questions to be solved correctly by fluke out of $n$ questions\n",
        "\n",
        "- ${}^nC_r$ is the number of ways in which $r$ questions can be solved out of $n$ questions correctly by fluke\n",
        "\n",
        "- **success** is choosing the one correct option out of four options and the **failure** is choosing an incorrect option.\n",
        "\n",
        "\n",
        "This is called **binomial distribution**. In other words, the distribution of two terms.\n",
        "\n",
        "Also, the sum of all the probabilities will be equal to one, i.e.,\n",
        "\n",
        "$P(X = 0) + P(X = 1) + P(X = 2) + \\dots + P(X = n - 1) + P(X = n) = 1$\n"
      ]
    },
    {
      "cell_type": "code",
      "metadata": {
        "id": "CBXukb_QpBnS"
      },
      "source": [
        "# finding factorial\n",
        "\n",
        "def factorial(a):\n",
        "    b=1\n",
        "    for i in range(1,a+1):\n",
        "        b=b*i\n",
        "    return b\n",
        "\n",
        "# finding probability\n",
        "def probability(n,r,s):\n",
        "  ncr = factorial(n)/(factorial(n-r) * factorial(r))\n",
        "  p = ncr * s**r * (1-s)**(n-r)\n",
        "  return p"
      ],
      "execution_count": null,
      "outputs": []
    },
    {
      "cell_type": "code",
      "metadata": {
        "id": "E3fvlDF48Z1-",
        "colab": {
          "base_uri": "https://localhost:8080/"
        },
        "outputId": "cd1aed1e-3770-4e12-cd27-a6bdff4c59a8"
      },
      "source": [
        "# The probability of solving say 10 questions correctly by fluke in an MCQ test having 100 questions\n",
        "probability(100, 1, 0.25)"
      ],
      "execution_count": null,
      "outputs": [
        {
          "output_type": "execute_result",
          "data": {
            "text/plain": [
              "1.0690673951271679e-11"
            ]
          },
          "metadata": {},
          "execution_count": 12
        }
      ]
    },
    {
      "cell_type": "code",
      "source": [
        "probability(100, 15, 0.25)"
      ],
      "metadata": {
        "colab": {
          "base_uri": "https://localhost:8080/"
        },
        "id": "gIYqsiuukXWr",
        "outputId": "acaa91c1-dc91-4d8f-cae6-367943d2d0a5"
      },
      "execution_count": null,
      "outputs": [
        {
          "output_type": "execute_result",
          "data": {
            "text/plain": [
              "0.005662505854661217"
            ]
          },
          "metadata": {},
          "execution_count": 13
        }
      ]
    },
    {
      "cell_type": "markdown",
      "metadata": {
        "id": "gguw7YCDz3gz"
      },
      "source": [
        "---"
      ]
    },
    {
      "cell_type": "markdown",
      "metadata": {
        "id": "iQEsRHRn95Kc"
      },
      "source": [
        "### Activity 1: Expected Value\n",
        "\n",
        "Let's find out the average number of questions that can be solved correctly by fluke.\n",
        "\n",
        "For this, we need to use the concept of expected value. The expected value is the sum of the product of the random variables with their corresponding probabilities.\n",
        "\n",
        "Let $X$ be a random variable denoting $N$ events $x_1, x_2, x_3 \\dots x_N$ and let $p(x_1), p(x_2), p(x_3) \\dots p(x_N)$ be their corresponding probabilities, then the expected value $E(X)$ is given by\n",
        "\n",
        "$$E(X) = x_1 p(x_1) + x_2 p(x_2) + x_3 p(x_3) + \\dots + x_N p(x_N)$$\n",
        "\n",
        "With this idea in mind, let's now try to find out the average number of questions that can be solved correctly by fluke in an MCQ test having 100 questions.\n"
      ]
    },
    {
      "cell_type": "code",
      "source": [
        "import numpy as np\n",
        "np.sum([2,3,4,5])"
      ],
      "metadata": {
        "colab": {
          "base_uri": "https://localhost:8080/"
        },
        "id": "coTJwog1fELe",
        "outputId": "5cac88f5-770a-4f79-c7bc-65fbb1bb0a44"
      },
      "execution_count": null,
      "outputs": [
        {
          "output_type": "execute_result",
          "data": {
            "text/plain": [
              "14"
            ]
          },
          "metadata": {},
          "execution_count": 14
        }
      ]
    },
    {
      "cell_type": "code",
      "source": [
        "a= np.arange(1,4)\n",
        "b = np.arange(2,5)\n",
        "print(a,b)\n",
        "np.sum(a*b)"
      ],
      "metadata": {
        "colab": {
          "base_uri": "https://localhost:8080/"
        },
        "id": "J73nGqx9e1pI",
        "outputId": "be8a0873-3f33-4671-b3b7-e477793820be"
      },
      "execution_count": null,
      "outputs": [
        {
          "output_type": "stream",
          "name": "stdout",
          "text": [
            "[1 2 3] [2 3 4]\n"
          ]
        },
        {
          "output_type": "execute_result",
          "data": {
            "text/plain": [
              "20"
            ]
          },
          "metadata": {},
          "execution_count": 16
        }
      ]
    },
    {
      "cell_type": "code",
      "source": [
        "q = [1,2,3]\n",
        "w= np.arange(2,5)\n",
        "print(q,w)\n",
        "np.sum(q*w)"
      ],
      "metadata": {
        "colab": {
          "base_uri": "https://localhost:8080/"
        },
        "id": "yPU9lO6Mmdr7",
        "outputId": "db974e3d-21e3-456e-e537-d2b04a2c5757"
      },
      "execution_count": null,
      "outputs": [
        {
          "output_type": "stream",
          "name": "stdout",
          "text": [
            "[1, 2, 3] [2 3 4]\n"
          ]
        },
        {
          "output_type": "execute_result",
          "data": {
            "text/plain": [
              "20"
            ]
          },
          "metadata": {},
          "execution_count": 17
        }
      ]
    },
    {
      "cell_type": "code",
      "metadata": {
        "id": "OhZvFKmdz4Xw",
        "colab": {
          "base_uri": "https://localhost:8080/"
        },
        "outputId": "69b7ce6e-d615-4987-d6a8-1dbe3a130d19"
      },
      "source": [
        "#Find the average number of questions that can be solved correctly by fluke in an MCQ test having 100 questions.\n",
        "import numpy as np\n",
        "r_v = np.arange(101)\n",
        "#print(r_v)\n",
        "probably_list =[probability(100,i,0.25)  for i in range(101)]\n",
        "#print(probably_list)\n",
        "expected_value= np.sum(r_v * probably_list)\n",
        "expected_value"
      ],
      "execution_count": null,
      "outputs": [
        {
          "output_type": "execute_result",
          "data": {
            "text/plain": [
              "25.0"
            ]
          },
          "metadata": {},
          "execution_count": 18
        }
      ]
    },
    {
      "cell_type": "markdown",
      "metadata": {
        "id": "I88z7qE1aF7C"
      },
      "source": [
        "\n",
        "\n",
        "**KeyPoint:** The expected value gives a theoretical average. The actual average may differ from the theoretical average by some margin. E.g., in an MCQ test having 100 questions, the expected value tells us that on an average, we can expect to solve 25 questions correctly by fluke.\n",
        "\n",
        "Interestingly, in the case of a binomial distribution, the expected value is the highly likely event. Let's verify this fact by finding out the most likely event in the case of solving questions correctly by fluke in an MCQ test containing 100 questions.\n"
      ]
    },
    {
      "cell_type": "code",
      "metadata": {
        "id": "vmv85wf-1WgS"
      },
      "source": [
        "# Find the most likely event and its probability.\n",
        "probably_list =[probability(100,i,0.25)  for i in range(101)]\n",
        "probably_list"
      ],
      "execution_count": null,
      "outputs": []
    },
    {
      "cell_type": "code",
      "source": [
        "p= np.max(probably_list)\n",
        "p"
      ],
      "metadata": {
        "colab": {
          "base_uri": "https://localhost:8080/"
        },
        "id": "fcv7c_8EgHLk",
        "outputId": "b0ae35ee-fa78-4802-c653-3b7d2423eba1"
      },
      "execution_count": null,
      "outputs": [
        {
          "output_type": "execute_result",
          "data": {
            "text/plain": [
              "0.09179969176683679"
            ]
          },
          "metadata": {},
          "execution_count": 20
        }
      ]
    },
    {
      "cell_type": "code",
      "source": [
        "probably_list.index(p)"
      ],
      "metadata": {
        "colab": {
          "base_uri": "https://localhost:8080/"
        },
        "id": "YIigOem0gNvO",
        "outputId": "ce7e032f-6d91-4591-f0c5-358925ff1768"
      },
      "execution_count": null,
      "outputs": [
        {
          "output_type": "execute_result",
          "data": {
            "text/plain": [
              "25"
            ]
          },
          "metadata": {},
          "execution_count": 21
        }
      ]
    },
    {
      "cell_type": "markdown",
      "metadata": {
        "id": "A7BdV-Hs5iCW"
      },
      "source": [
        "So in case of the binomial distribution, the most likely event is the same as the expected value.\n"
      ]
    },
    {
      "cell_type": "code",
      "metadata": {
        "id": "4fu6_G9z0Wiu",
        "colab": {
          "base_uri": "https://localhost:8080/",
          "height": 357
        },
        "outputId": "f842a945-1e6d-420f-f6f6-4d855acfac37"
      },
      "source": [
        "# Create a line plot of random variables and their corresponding probabilities in the case of an MCQ test having 100 questions.\n",
        "import matplotlib.pyplot as plt\n",
        "plt.figure(figsize=(18,5))\n",
        "plt.plot(r_v,probably_list)\n",
        "plt.axvline(25)\n",
        "plt.grid()\n",
        "plt.show()"
      ],
      "execution_count": null,
      "outputs": [
        {
          "output_type": "display_data",
          "data": {
            "text/plain": [
              "<Figure size 1800x500 with 1 Axes>"
            ],
            "image/png": "[encoded data removed]"
          },
          "metadata": {}
        }
      ]
    },
    {
      "cell_type": "markdown",
      "metadata": {
        "id": "-cZnSdHq9-03"
      },
      "source": [
        "---"
      ]
    },
    {
      "cell_type": "code",
      "source": [
        "#Find the average number of questions that can be solved correctly by fluke in an MCQ test having 100 questions.\n",
        "import numpy as np\n",
        "r_v1 = np.arange(11)\n",
        "#print(r_v)\n",
        "probably_list =[probability(10,i,0.25)  for i in range(11)]\n",
        "#print(probably_list)\n",
        "expected_value= np.sum(r_v * probably_list)\n",
        "expected_value"
      ],
      "metadata": {
        "colab": {
          "base_uri": "https://localhost:8080/"
        },
        "id": "DyfR8veTnfeH",
        "outputId": "71a60363-e0dc-4f4a-c478-72df10e62b51"
      },
      "execution_count": null,
      "outputs": [
        {
          "output_type": "execute_result",
          "data": {
            "text/plain": [
              "2.5"
            ]
          },
          "metadata": {},
          "execution_count": 24
        }
      ]
    },
    {
      "cell_type": "code",
      "source": [
        "probably_list1 =[probability(10,i,0.25)  for i in range(11)]\n",
        "probably_list1"
      ],
      "metadata": {
        "colab": {
          "base_uri": "https://localhost:8080/"
        },
        "id": "Tq7i8jt_nmbs",
        "outputId": "e8fef1bc-3ada-4b2a-b31f-315f177c3a7f"
      },
      "execution_count": null,
      "outputs": [
        {
          "output_type": "execute_result",
          "data": {
            "text/plain": [
              "[0.056313514709472656,\n",
              " 0.1877117156982422,\n",
              " 0.2815675735473633,\n",
              " 0.25028228759765625,\n",
              " 0.1459980010986328,\n",
              " 0.058399200439453125,\n",
              " 0.016222000122070312,\n",
              " 0.00308990478515625,\n",
              " 0.00038623809814453125,\n",
              " 2.86102294921875e-05,\n",
              " 9.5367431640625e-07]"
            ]
          },
          "metadata": {},
          "execution_count": 26
        }
      ]
    },
    {
      "cell_type": "code",
      "source": [
        "plt.figure(figsize=(18,5))\n",
        "plt.plot(r_v1,probably_list1)\n",
        "plt.axvline(2.5)\n",
        "plt.grid()\n",
        "plt.show()"
      ],
      "metadata": {
        "colab": {
          "base_uri": "https://localhost:8080/",
          "height": 357
        },
        "id": "zfv-oxGhnqTq",
        "outputId": "bfd19916-0277-42a4-c015-6345b1c34881"
      },
      "execution_count": null,
      "outputs": [
        {
          "output_type": "display_data",
          "data": {
            "text/plain": [
              "<Figure size 1800x500 with 1 Axes>"
            ],
            "image/png": "[encoded data removed]"
          },
          "metadata": {}
        }
      ]
    },
    {
      "cell_type": "markdown",
      "metadata": {
        "id": "LMN_q3mq9_w2"
      },
      "source": [
        "### Activity 2: Probability of Gambling.\n",
        "\n",
        "Suppose that you play a game in which you roll two standard 6-sided dice. You win INR 3000 if the sum of the numbers on the dice is 2 and lose INR 100 otherwise. How much do you expect to win on average per trial?\n",
        "\n",
        "\n"
      ]
    },
    {
      "cell_type": "code",
      "metadata": {
        "id": "6589lwa2klft"
      },
      "source": [
        "#Calculate your expected winnings after rolling two dice in the above proble\n",
        "\n",
        "\n"
      ],
      "execution_count": null,
      "outputs": []
    },
    {
      "cell_type": "markdown",
      "source": [
        "\n",
        "\n",
        "\n",
        "So, let us define a random variable $X = x$ where $x$ some event. Let $x_1$ denotes that you win INR 3000 after rolling two dice. This is possible only if the outcome of rolling two dice is two $1s$, i.e., $\\{1, 1\\}$.\n",
        "\n",
        "Similarly, let $x_2$ denotes that you lose INR 100 after rolling two dice. This is possible when the outcome is not two $1s$, i.e., $x_2 = \\{1', 1'\\}$\n",
        "\n",
        "\n",
        "\n",
        "So, your expected winnings after playing one game of rolling two dice are\n",
        "\n",
        "$E(X) = x_1 p(x_1) + x_2 p(x_2)$\n"
      ],
      "metadata": {
        "id": "k61g1HngCB4x"
      }
    },
    {
      "cell_type": "markdown",
      "metadata": {
        "id": "vqpQXzLLmb-n"
      },
      "source": [
        "---"
      ]
    },
    {
      "cell_type": "markdown",
      "metadata": {
        "id": "DsYdc6jOjcmL"
      },
      "source": [
        "### Activity 3: Continuous Random Variable\n",
        "\n",
        "Now let's learn the concept of a continuous random variable. But first, recall the bell curve example. The heights of people follow the **normal distribution**. If you create a histogram to plot the heights of 10,000 individuals, the arrangement of the bars in the histogram will appear to form a **bell shape**.\n"
      ]
    },
    {
      "cell_type": "code",
      "metadata": {
        "id": "RCq4dtszjfel",
        "colab": {
          "base_uri": "https://localhost:8080/"
        },
        "outputId": "82f48756-3500-4f65-aa19-5bd016ce3b5d"
      },
      "source": [
        "# Run the code below.\n",
        "# NumPy array containing 10,000 random normally distributed numbers having a mean of 165 cm and a standard deviation.\n",
        "import numpy as np\n",
        "import matplotlib.pyplot as plt\n",
        "import seaborn as sns\n",
        "\n",
        "height_mean = 165\n",
        "height_std = 15\n",
        "heights = np.random.normal(height_mean, height_std, size=10000)\n",
        "heights[:10]"
      ],
      "execution_count": null,
      "outputs": [
        {
          "output_type": "execute_result",
          "data": {
            "text/plain": [
              "array([175.06392136, 157.82165395, 144.5916346 , 173.57546221,\n",
              "       163.59564799, 133.08842002, 173.93810786, 164.0793654 ,\n",
              "       171.72303824, 166.1168248 ])"
            ]
          },
          "metadata": {},
          "execution_count": 28
        }
      ]
    },
    {
      "cell_type": "markdown",
      "metadata": {
        "id": "F4nR3pOfjgGE"
      },
      "source": [
        "The `np.random.normal()` function takes mean, standard deviation and size (number of numbers to be generated) as inputs and returns a numpy array containing normally distributed random numbers whose mean and standard deviation is very close to the provided mean and standard deviation values."
      ]
    },
    {
      "cell_type": "code",
      "metadata": {
        "id": "kjmh3p5DjlAQ",
        "colab": {
          "base_uri": "https://localhost:8080/",
          "height": 324
        },
        "outputId": "52582496-f8a5-4cd8-d798-4b5b93b6adc9"
      },
      "source": [
        "# Run the code below.\n",
        "# Histogram for the heights.\n",
        "plt.figure(figsize=(18,4))\n",
        "plt.title('Histogram for Heights (in cm)')\n",
        "plt.hist(heights, bins='sturges', edgecolor='black') # 'sturges' is one of the ways to compute the number of bins in a histogram.\n",
        "plt.axvline(np.mean(heights), color='green', label=f'Mean height = {np.mean(heights):.2f} cm', linewidth=2) # Creates a vertical line\n",
        "plt.axhline(1000,color='yellow',label='horizontal')\n",
        "plt.xlabel('Height (in cm)')\n",
        "plt.ylabel(\"Number of observations\")\n",
        "plt.legend()\n",
        "plt.show()"
      ],
      "execution_count": null,
      "outputs": [
        {
          "output_type": "display_data",
          "data": {
            "text/plain": [
              "<Figure size 1800x400 with 1 Axes>"
            ],
            "image/png": "[encoded data removed]"
          },
          "metadata": {}
        }
      ]
    },
    {
      "cell_type": "code",
      "metadata": {
        "id": "1MKqLi9xjo6N",
        "colab": {
          "base_uri": "https://localhost:8080/",
          "height": 570
        },
        "outputId": "8d76cbe9-0bd7-4ce6-f032-46f06459a427"
      },
      "source": [
        "# Run the code below.\n",
        "# Bell curve using the 'distplot()' function.\n",
        "plt.figure(figsize=(12, 4), dpi=96)\n",
        "plt.title(\"Bell Curve for Heights (in cm)\")\n",
        "sns.distplot(heights, hist=False, bins='sturges') # 'sturges' is one of the ways to compute the number of bins in a histogram.\n",
        "plt.axvline(np.mean(heights), color='red', label=f'Mean height = {np.mean(heights):.2f} cm', linewidth=2)\n",
        "plt.axvline(150)\n",
        "plt.axvline(180)\n",
        "plt.ylabel(\"Probability density\") # The 'y-axis' on the bell curve represent the probability density.\n",
        "plt.legend()\n",
        "plt.grid( axis='y', color='lightgrey')\n",
        "plt.show()"
      ],
      "execution_count": null,
      "outputs": [
        {
          "output_type": "stream",
          "name": "stderr",
          "text": [
            "<ipython-input-30-7b333decac6f>:5: UserWarning: \n",
            "\n",
            "`distplot` is a deprecated function and will be removed in seaborn v0.14.0.\n",
            "\n",
            "Please adapt your code to use either `displot` (a figure-level function with\n",
            "similar flexibility) or `kdeplot` (an axes-level function for kernel density plots).\n",
            "\n",
            "For a guide to updating your code to use the new functions, please see\n",
            "https://gist.github.com/mwaskom/de44147ed2974457ad6372750bbe5751\n",
            "\n",
            "  sns.distplot(heights, hist=False, bins='sturges') # 'sturges' is one of the ways to compute the number of bins in a histogram.\n"
          ]
        },
        {
          "output_type": "display_data",
          "data": {
            "text/plain": [
              "<Figure size 1152x384 with 1 Axes>"
            ],
            "image/png": "[encoded data removed]"
          },
          "metadata": {}
        }
      ]
    },
    {
      "cell_type": "markdown",
      "metadata": {
        "id": "kN4SmQjwjnmv"
      },
      "source": [
        "Recall that\n",
        "\n",
        "- Approx. $68 \\text{%}$ of the values lie between $\\mu - \\sigma$ and $\\mu + \\sigma$. In other words, approx. $68 \\text{%}$ of the values lie within **one-sigma** around the mean.\n",
        "\n",
        "- Approx. $95 \\text{%}$ of the values lie between $\\mu - 2 \\sigma$ and $\\mu + 2 \\sigma$. In other words, approx. $95 \\text{%}$ of the values lie within **two-sigma** around the mean.\n",
        "\n",
        "- Approx. $99.7 \\text{%}$ of the values lie between $\\mu - 3 \\sigma$ and $\\mu + 3 \\sigma$. In other words, approx. $99.7 \\text{%}$ of the values lie within **three-sigma** around the mean.\n",
        "\n",
        "where $\\mu$ and $\\sigma$ are mean and standard deviation respectively.\n",
        "\n",
        "In the bell curve above, you can see the probability density values on the $y-$axis. We will now learn how to calculate these probability density values for which we need to understand a very simple concept called a **continuous random variable**.\n",
        "\n",
        "Let's say you want to figure out the likelihood that someone's height falls within the range of 150 cm to 180 cm. At first, you might list possible heights as 150, 151, 152, and so on up to 180 cm. However, height isn't restricted to whole numbers; it could be any value, like 157.768 cm. This means that height could be any number, whether it's an integer or a decimal, within that range.\n",
        "\n",
        "In fact, between any two numbers, no matter how close they are, there are infinitely many possible values. For example, even between 150 and 151, there are countless numbers. These values, which aren’t limited to whole numbers, are known as continuous values.\n",
        "\n",
        "In probability, to represent these kinds of continuous values, we use something called a **continuous random variable**.\n",
        "\n",
        "So, in the case of finding the probability that a person's height would be between 150 cm and 180 cm, you need to define a random variable $X$ where $150 \\le X \\le 180$. Hence, we need to find the probability of the random variable $150 \\le X \\le 180$.\n",
        "\n"
      ]
    },
    {
      "cell_type": "markdown",
      "metadata": {
        "id": "vePowveJlIEt"
      },
      "source": [
        "---"
      ]
    },
    {
      "cell_type": "markdown",
      "metadata": {
        "id": "Dy6PgobxlI0n"
      },
      "source": [
        "### Activity 4: Probability Density Function\n",
        "\n",
        "To calculate the probability of a continuous random variable, we have to use the **Probability Density Function (PDF)**, i.e.,\n",
        "\n",
        "\n",
        "$$\\rho(x) = \\frac{1}{\\sigma \\sqrt{2 \\pi}}e^{-\\frac{1}{2\\sigma^2}(x - \\mu)^2}$$\n",
        "\n",
        "where,\n",
        "\n",
        "- $\\rho (x)$ which is read as **Rho** is dependent on the value of $x$ which is some arbitrary value of the random variable $X$\n",
        "\n",
        "- $\\sigma$ is the standard deviation of the sample. In this case, $\\sigma$ is the standard deviation of the height values\n",
        "\n",
        "- $\\mu$ is the mean value of the sample. In this case, $\\mu$ is the mean height\n",
        "\n",
        "- $e = 2.71$ and $\\pi = 3.14$\n",
        "\n",
        "Let's create a Python function to calculate the individual probabilities of all the heights and store them in an array."
      ]
    },
    {
      "cell_type": "code",
      "metadata": {
        "id": "xwSkuuW3lUia"
      },
      "source": [
        "#  Create a Python function to calculate the individual probabilities of all the heights.\n",
        "def pdf(x,u,s):\n",
        "    p1 = 1/s*np.sqrt((2*np.pi))\n",
        "    p2 = np.exp(-(x-u)**2/(2*(s**2)))\n",
        "    return p1*p2\n",
        "\n",
        "\n"
      ],
      "execution_count": null,
      "outputs": []
    },
    {
      "cell_type": "code",
      "source": [
        "#  Create a Python function to calculate the individual probabilities of all the heights.\n",
        "def pdf1(x,u,s):\n",
        "    p1 = 1/s*np.sqrt((2*np.pi))\n",
        "    p2 = -(x-u)**2/(2*(s**2))\n",
        "    return p1* np.exp(p2)"
      ],
      "metadata": {
        "id": "_GPGWfrvsi5j"
      },
      "execution_count": null,
      "outputs": []
    },
    {
      "cell_type": "markdown",
      "metadata": {
        "id": "OYVUnpknUnds"
      },
      "source": [
        "Now, sorted the values in the `heights` array using the `sort()` function in the NumPy module.\n",
        "\n",
        "**Syntax:** `numpy.sort(numpy_array)`\n",
        "\n",
        "Then calculate the individual probability values for all the heights using the probability density function that you created above."
      ]
    },
    {
      "cell_type": "code",
      "metadata": {
        "id": "J3gCx-FclWz0",
        "colab": {
          "base_uri": "https://localhost:8080/"
        },
        "outputId": "d50a7f9c-1b03-4ee5-d01a-8662031cf61f"
      },
      "source": [
        "# Sort the 'heights' array and then calculate the individual probabilities of all the heights.\n",
        "sorted_heights = np.sort(heights)\n",
        "sorted_heights"
      ],
      "execution_count": null,
      "outputs": [
        {
          "output_type": "execute_result",
          "data": {
            "text/plain": [
              "array([110.5382273 , 111.56268041, 111.80601191, ..., 215.1997904 ,\n",
              "       216.94191826, 225.04036736])"
            ]
          },
          "metadata": {},
          "execution_count": 34
        }
      ]
    },
    {
      "cell_type": "code",
      "source": [
        "y_axis = pdf(sorted_heights,np.mean(sorted_heights),np.std(sorted_heights))\n",
        "y_axis"
      ],
      "metadata": {
        "colab": {
          "base_uri": "https://localhost:8080/"
        },
        "id": "Ohknxe6Xo2aP",
        "outputId": "ccd79e21-1217-4acd-cb0e-8c5a733b9d53"
      },
      "execution_count": null,
      "outputs": [
        {
          "output_type": "execute_result",
          "data": {
            "text/plain": [
              "array([2.72284423e-04, 3.46212982e-04, 3.66293470e-04, ...,\n",
              "       6.30887548e-04, 4.26702728e-04, 5.82166796e-05])"
            ]
          },
          "metadata": {},
          "execution_count": 35
        }
      ]
    },
    {
      "cell_type": "markdown",
      "metadata": {
        "id": "3SWUXBB_VCUD"
      },
      "source": [
        "Now, let's plot the `sorted_heights` and `prob_array` values to see if we can get a bell curve."
      ]
    },
    {
      "cell_type": "code",
      "metadata": {
        "id": "qqx5PEC5lY1o",
        "colab": {
          "base_uri": "https://localhost:8080/",
          "height": 355
        },
        "outputId": "fe3a8f20-f5a9-453a-d442-909fc85f7289"
      },
      "source": [
        "#Create a line plot for the sorted heights and the corresponding probability values.\n",
        "\n",
        "plt.figure(figsize=(18,5))\n",
        "plt.plot(sorted_heights,y_axis)\n",
        "plt.axvline(150)\n",
        "plt.axvline(180)\n",
        "plt.show()"
      ],
      "execution_count": null,
      "outputs": [
        {
          "output_type": "display_data",
          "data": {
            "text/plain": [
              "<Figure size 1800x500 with 1 Axes>"
            ],
            "image/png": "[encoded data removed]"
          },
          "metadata": {}
        }
      ]
    },
    {
      "cell_type": "markdown",
      "metadata": {
        "id": "S1IZsslYldC9"
      },
      "source": [
        "The above curve looks almost exactly like the bell curve we created using the `distplot()` function of the `seaborn` module. It is called a probability density curve or normal distribution or bell curve. Every point on the above curve can be represented using the probability density function, i.e., $\\rho(x) = \\frac{1}{\\sigma \\sqrt{2 \\pi}}e^{-\\frac{1}{2\\sigma^2}(x - \\mu)^2}$\n",
        "\n",
        "To calculate probabilities of a continuous random variable, we have to calculate the area of the region that lies below the curve. Hence, to find the probability of the random variable $150 \\le X \\le 180$, we need to calculate the area of the shaded region too\n",
        "\n",
        "\n",
        "The region in the  curve wii be enclosed between $X = 150, X = 180$ and $\\rho(x) = \\frac{1}{\\sigma \\sqrt{2 \\pi}}e^{-\\frac{1}{2\\sigma^2}(x - \\mu)^2}$\n",
        "\n",
        "To find the area of a region, we use integration. In this case, we need to find the area of the shaded region enclosed between $X = 150, X = 180$ and $\\rho(x) = \\frac{1}{\\sigma \\sqrt{2 \\pi}}e^{-\\frac{1}{2\\sigma^2}(x - \\mu)^2}$.\n",
        "\n",
        "Therefore, the expression to calculate the area of a region is given as\n",
        "\n",
        "$$A = \\int_{X = 150}^{X = 180} \\rho(x) $$\n",
        "\n",
        "In this case, the area represents the probability, so the above expression becomes\n",
        "\n",
        "$$P(150 \\le X \\le 180) = \\int_{150}^{180} \\rho (x) dx$$\n",
        "\n",
        "After substituting the values of $\\mu$ and $\\sigma$ in the PDF, we get\n",
        "\n",
        "$$\\Rightarrow \\rho (x) = \\frac{1}{15 \\sqrt{2 \\pi}}e^{-\\frac{1}{450} (x - 165)^2}$$\n",
        "\n",
        "Therefore\n",
        "\n",
        "$$\\Rightarrow P(150 \\le X \\le 180) = \\int_{150}^{180} \\frac{1}{15 \\sqrt{2 \\pi}}e^{-\\frac{1}{450} (x - 165)^2} dx$$\n",
        "\n",
        "If we can solve the above integration, we will get the probability of a person having a height between 150 cm and 180 cm.\n",
        "\n",
        "To solve the above integration, we have to import the `integrate` module from the `scipy` package. Then we need to use the `quad()` function. It takes the following input:\n",
        "\n",
        "1. The function which needs to be integrated. In this case, the PDF, i.e., `prob_density_func` function needs to be integrated,\n",
        "\n",
        "2. The lower and upper limits of the random variable. In this case, $X = 150$ and $X = 180$ are lower and upper limits respectively.\n",
        "\n",
        "3. The parameters of the above probability density function which needs to be integrated. In this case, the parameters of the `prob_density_func` are the mean height = 165 cm and the standard deviation height = 180 cm.\n",
        "\n",
        "The `quad()` function returns a tuple in which the first item is the required area of the region (or probability value).\n"
      ]
    },
    {
      "cell_type": "code",
      "source": [
        "np.mean(heights)"
      ],
      "metadata": {
        "id": "UyruFcBRsVFM"
      },
      "execution_count": null,
      "outputs": []
    },
    {
      "cell_type": "code",
      "source": [
        "np.std(heights)"
      ],
      "metadata": {
        "id": "pXw2MiYPsXqX"
      },
      "execution_count": null,
      "outputs": []
    },
    {
      "cell_type": "code",
      "source": [
        "def pdf(x,u,s):\n",
        "    p1 = 1/(s*np.sqrt((2*np.pi)))\n",
        "    p2 = np.exp(-(x-u)**2/(2*(s**2)))\n",
        "    return p1*p2"
      ],
      "metadata": {
        "id": "GsXhyhZEtAGz"
      },
      "execution_count": null,
      "outputs": []
    },
    {
      "cell_type": "code",
      "source": [
        "def pdf3(x,u,s):\n",
        "  part1 = 1/(s*np.sqrt(2*np.pi))\n",
        "  part2 = np.exp(-(x-u)**2/(2*s**2))\n",
        "  return part1 * part2"
      ],
      "metadata": {
        "id": "cMZhrACes3wV"
      },
      "execution_count": null,
      "outputs": []
    },
    {
      "cell_type": "code",
      "metadata": {
        "id": "0SOxCLCVlgGa",
        "colab": {
          "base_uri": "https://localhost:8080/"
        },
        "outputId": "707a2160-dc7a-458a-fe49-921bdec13082"
      },
      "source": [
        "#  Find the probability of the random variable 150 <= X <= 180.\n",
        "from scipy import integrate\n",
        "d = integrate.quad(pdf, 150,180,(np.mean(heights),np.std(heights)))\n",
        "d\n"
      ],
      "execution_count": null,
      "outputs": [
        {
          "output_type": "execute_result",
          "data": {
            "text/plain": [
              "(4.26319501616891, 4.733097265417941e-14)"
            ]
          },
          "metadata": {},
          "execution_count": 37
        }
      ]
    },
    {
      "cell_type": "markdown",
      "metadata": {
        "id": "QM_926i6liUy"
      },
      "source": [
        "The area of the curve enclosed between $X = 150, X = 180$ and $\\rho(x) = \\frac{1}{\\sigma \\sqrt{2 \\pi}}e^{-\\frac{1}{2\\sigma^2}(x - \\mu)^2}$ is $0.68$ which is also the probability of a person having a height between 150 cm and 180 cm. In terms of percentage, the probability of a person having a height between 150 cm and 180 cm is $68 \\%$ approx.\n",
        "\n",
        "We already learnt that $68 \\%$ values between **one-sigma** about mean in a normal distribution. In this class, we have kind of verified this fact using the concept of continuous random variable and probability density function.\n",
        "\n",
        "Similarly, you can verify the probability values for the **two-sigma** and **three-sigma** cases."
      ]
    },
    {
      "cell_type": "code",
      "metadata": {
        "id": "qnQPjDfdlokR"
      },
      "source": [
        "#  Find the probability of the random variable 135 <= X <= 195.\n",
        "d = integrate.quad(pdf, 135,195,(np.mean(heights),np.std(heights)))\n",
        "d"
      ],
      "execution_count": null,
      "outputs": []
    },
    {
      "cell_type": "code",
      "metadata": {
        "id": "d1GRabk-lq5A"
      },
      "source": [
        "# Find the probability of the random variable 120 <= X <= 210.\n"
      ],
      "execution_count": null,
      "outputs": []
    },
    {
      "cell_type": "code",
      "metadata": {
        "id": "iKKfJB6Rls4u"
      },
      "source": [
        "#  Find the probability of the random variable 121 <= X <= 147.\n"
      ],
      "execution_count": null,
      "outputs": []
    },
    {
      "cell_type": "markdown",
      "metadata": {
        "id": "_LuEG2lFGT-i"
      },
      "source": [
        "---"
      ]
    },
    {
      "cell_type": "markdown",
      "metadata": {
        "id": "AH-TE52klwyr"
      },
      "source": [
        "---"
      ]
    },
    {
      "cell_type": "markdown",
      "metadata": {
        "id": "JdQnRq5elzy9"
      },
      "source": [
        "### Activity 5: Fill Area Using the `fill_between()` Function\n",
        "\n",
        "Let's create the bell curve using the `matplotlib.pyplot` module.\n",
        "\n",
        "\n",
        "To create the curve, you need to follow the steps described below.\n",
        "\n",
        "1. Slice the `heights` array such that the resulting array containing heights between 150 cm and 180 cm.\n",
        "\n",
        "2. Create the line plot between `sorted_heights` and `prob_array` arrays using the `plot()` function. The curve should look like a bell-shaped curve.\n",
        "\n",
        "3. Use the `fill_between()` function to fill the area below the PDF, $X = 150$ and $X = 180$. It takes the following values as inputs:\n",
        "\n",
        "  - `x` which should be an array containing the values for the horizontal axis. In this case, the sorted `numpy` array containing heights values between $X = 150$ and $X = 180$.\n",
        "\n",
        "  - `y1` is an array containing the values corresponding to the values in `x` array. In this case the probability density values for the heights between 150 cm and 180 cm.\n",
        "\n",
        "  - `alpha` (optional) to provide translucency to the shaded region. Its value ranges between 0 and 1.\n",
        "\n",
        "4. Use the `axvline()` function to draw vertical lines at $X = 150$ and $X = 180$."
      ]
    },
    {
      "cell_type": "code",
      "metadata": {
        "id": "wP8XaTXImHp9"
      },
      "source": [
        "\n",
        "#Create the above bell curve.\n",
        "plt.figure(figsize=(15,5))\n",
        "plt.plot(sorted_heights,y_axis)\n",
        "plt.axvline(150)\n",
        "plt.axvline(180)\n",
        "# filling area\n",
        "\n",
        "\n",
        "new_array=sorted_heights[(sorted_heights>=150)&(sorted_heights<=180)]\n",
        "probability = pdf(new_array,np.mean(sorted_heights),np.std(sorted_heights))\n",
        "plt.fill_between(x=new_array,y1=probability,facecolor='orange',alpha = 0.5)\n",
        "plt.show()\n"
      ],
      "execution_count": null,
      "outputs": []
    },
    {
      "cell_type": "markdown",
      "metadata": {
        "id": "K9i8ELLMm9f0"
      },
      "source": [
        "---"
      ]
    },
    {
      "cell_type": "markdown",
      "metadata": {
        "id": "wAvB4qAz-hgi"
      },
      "source": [
        "---"
      ]
    }
  ]
}