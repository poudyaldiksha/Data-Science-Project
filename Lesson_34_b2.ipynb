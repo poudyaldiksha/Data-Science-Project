{
  "nbformat": 4,
  "nbformat_minor": 0,
  "metadata": {
    "colab": {
      "provenance": [],
      "include_colab_link": true
    },
    "kernelspec": {
      "name": "python3",
      "display_name": "Python 3"
    }
  },
  "cells": [
    {
      "cell_type": "markdown",
      "metadata": {
        "id": "view-in-github",
        "colab_type": "text"
      },
      "source": [
        "<a href=\"https://colab.research.google.com/github/poudyaldiksha/Data-Science-project/blob/main/Lesson_34_b2.ipynb\" target=\"_parent\"><img src=\"https://colab.research.google.com/assets/colab-badge.svg\" alt=\"Open In Colab\"/></a>"
      ]
    },
    {
      "cell_type": "markdown",
      "metadata": {
        "id": "Vcvmc_dgH1Ry"
      },
      "source": [
        "# Lesson 34: Random Variable & Binomial Distribution"
      ]
    },
    {
      "cell_type": "markdown",
      "metadata": {
        "id": "hUKKRWg8ncnj"
      },
      "source": [
        "#### Activity 1: Random Variable\n",
        "\n",
        "A random variable defines your set of favourable outcomes in an experiment. Let's understand this concept with the help of an example.\n",
        "\n",
        "Consider that you are attempting an MCQ (Multiple Choice Questions) test having 4 questions.\n",
        "\n",
        "1. choose a color?\n",
        "(a) **red**\n",
        "(b) **blue**\n",
        "(c) **green**\n",
        "(d) **black**\n",
        "\n",
        "2. choose a number?\n",
        "(a) **37**\n",
        "(b) **90**\n",
        "(c) **78**\n",
        "(d) **28**\n",
        "\n",
        "3. choose a place?\n",
        "(a) **Venice**\n",
        "(b) **Italy**\n",
        "(c) **Greece**\n",
        "(d) **Rome**\n",
        "\n",
        "4. choose a alphabet?\n",
        "(a) **Y**\n",
        "(b) **O**\n",
        "(c) **R**\n",
        "(d) **B**\n",
        "\n",
        "\n",
        "\n",
        "Each question has 4 options out of which only one option is correct. Using random variables, you can find the probability of solving\n",
        "\n",
        "- 0 questions correctly by fluke.\n",
        "\n",
        "- 1 question correctly by fluke.\n",
        "\n",
        "- 2 questions correctly by fluke.\n",
        "\n",
        "- 3 questions correctly by fluke.\n",
        "\n",
        "- 4 questions correctly by fluke.\n",
        "\n",
        "To represent the above five cases mathematically, you can define a **random variable** $X$ where $X$ denotes solving the number of questions correctly by fluke. Therefore,\n",
        "\n",
        "- $X = 0$ denotes solving 0 questions correctly by fluke.\n",
        "\n",
        "- $X = 1$ denotes solving 1 question correctly by fluke.\n",
        "\n",
        "- $X = 2$ denotes solving 2 questions correctly by fluke.\n",
        "\n",
        "- $X = 3$ denotes solving 3 questions correctly by fluke.\n",
        "\n",
        "- $X = 4$ denotes solving 4 questions correctly by fluke.\n",
        "\n"
      ]
    },
    {
      "cell_type": "markdown",
      "metadata": {
        "id": "MWMHXF61MgPm"
      },
      "source": [
        "**Probability of Solving Zero Questions Correctly**\n",
        "\n",
        "Let's find out the probability of solving zero questions correctly. This can be done in one way that is to choose an incorrect option for all the questions $1, 2, 3$ and $4$.\n",
        "\n",
        "So in this case, the random variable $X = 0$ represents the set $\\{1', 2', 3', 4'\\}$\n",
        "\n",
        "where\n",
        "\n",
        "- $1'$ denotes solving the first question incorrectly\n",
        "\n",
        "- $2'$ denotes solving the second question incorrectly\n",
        "\n",
        "- $3'$ denotes solving the third question incorrectly\n",
        "\n",
        "- $4'$ denotes solving the fourth question incorrectly\n",
        "\n",
        "Now, every question has only one correct choice (or option) out of four choices. So, the probability of selecting a correct choice for a question is $\\frac{1}{4}$. Hence, the probability of selecting an incorrect choice for the question is $\\frac{3}{4}$.\n",
        "\n",
        "\n",
        "So, the probability of\n",
        "\n",
        "- solving the first question incorrectly is $P(1') = \\frac{3}{4}$\n",
        "\n",
        "- solving the second question incorrectly is $P(2') = \\frac{3}{4}$\n",
        "\n",
        "- solving the third question incorrectly is $P(3') = \\frac{3}{4}$\n",
        "\n",
        "- solving the fourth question incorrectly is $P(4') = \\frac{3}{4}$\n",
        "\n",
        "Therefore, the probability of solving no questions correctly is\n",
        "\n",
        "$$P(X=0) = P(1') \\times P(2') \\times P(3') \\times P(4')$$\n",
        "\n",
        "$$\\Rightarrow P(X=0) = \\frac{3}{4} \\times \\frac{3}{4} \\times \\frac{3}{4} \\times \\frac{3}{4} = \\left(\\frac{3}{4}\\right)^4$$\n",
        "\n",
        "In terms of random variable, you can read it as the probability of a random variable $X = 0$ is $$P(X=0) = \\left(\\frac{3}{4}\\right)^4$$\n"
      ]
    },
    {
      "cell_type": "code",
      "source": [
        "(3/4)** 100"
      ],
      "metadata": {
        "colab": {
          "base_uri": "https://localhost:8080/"
        },
        "id": "ykMrOuKAchif",
        "outputId": "1b45cc4a-1b9a-4c8c-ac53-97f8b73bf5e0"
      },
      "execution_count": null,
      "outputs": [
        {
          "output_type": "execute_result",
          "data": {
            "text/plain": [
              "3.207202185381504e-13"
            ]
          },
          "metadata": {},
          "execution_count": 3
        }
      ]
    },
    {
      "cell_type": "code",
      "source": [
        "# 1. a) red\n",
        "# 2. b) 90\n",
        "# 3. b) Italy\n",
        "# 4. c) R"
      ],
      "metadata": {
        "id": "YpzdoQJAXj6D"
      },
      "execution_count": null,
      "outputs": []
    },
    {
      "cell_type": "code",
      "metadata": {
        "id": "WxpPR4LaoC6R",
        "colab": {
          "base_uri": "https://localhost:8080/"
        },
        "outputId": "fac05dd9-1b18-44f8-e095-603fe65d7ea9"
      },
      "source": [
        "# Calculate the probability of solving zero questions correctly by fluke.\n",
        "prob_zero_ques = 0.75 ** 4\n",
        "prob_zero_ques"
      ],
      "execution_count": null,
      "outputs": [
        {
          "output_type": "execute_result",
          "data": {
            "text/plain": [
              "0.31640625"
            ]
          },
          "metadata": {},
          "execution_count": 2
        }
      ]
    },
    {
      "cell_type": "markdown",
      "metadata": {
        "id": "NsGEFvuvof9l"
      },
      "source": [
        "It is quite unlikely that you would solve zero questions correctly by fluke because the probability value is less than 0.5.\n",
        "\n",
        "\n",
        "**Probability of Solving 1 Question Correctly**\n",
        "\n",
        "Let's find out the probability of solving one question correctly. Here we can define a random variable $X$ where $X = 1$ which denotes solving 1 question correctly by fluke.\n",
        "\n",
        "In other words, you are choosing the correct option for one of the four questions. This can be done in the following four ways:\n",
        "\n",
        "- Solve question 1 **correctly** and questions 2, 3 and 4 incorrectly.\n",
        "\n",
        "- Solve question 2 **correctly** and questions 1, 3 and 4 incorrectly.\n",
        "\n",
        "- Solve question 3 **correctly** and questions 1, 2 and 4 incorrectly.\n",
        "\n",
        "- Solve question 4 **correctly** and questions 1, 2 and 3 incorrectly.\n",
        "\n",
        "Mathematically, the above four cases can be written as\n",
        "\n",
        "$$\\{\\{1, 2', 3', 4'\\}, \\{2, 1', 3', 4'\\}, \\{3, 1', 2', 4'\\}, \\{4, 1', 2', 3'\\}\\}$$\n",
        "\n",
        "This entire set can be denoted by the random variable $X = 1$ where\n",
        "\n",
        "- the set $\\{1, 2', 3', 4'\\}$ denotes solving question 1 **correctly** and questions 2, 3 and 4 incorrectly.\n",
        "\n",
        "- the set $\\{2, 1', 3', 4'\\}$ denotes solving question 2 **correctly** and questions 1, 3 and 4 incorrectly.\n",
        "\n",
        "- the set $\\{3, 1', 2', 4'\\}$ denotes solving question 3 **correctly** and questions 1, 2 and 4 incorrectly.\n",
        "\n",
        "- the set $\\{4, 1', 2', 3'\\}$ denotes solving question 4 **correctly** and questions 1, 2, and 3 incorrectly.\n",
        "\n",
        "Every question has only one correct choice (or option) out of four choices. So, the probability of selecting a correct choice is $\\frac{1}{4}$. Hence, the probability of selecting an incorrect choice is $\\frac{3}{4}$\n",
        "\n",
        "\n",
        "So the probability of\n",
        "\n",
        "- solving question 1 **correctly** and questions 2, 3 and 4 incorrectly is $P(\\{1, 2', 3', 4'\\}) = \\frac{1}{4} \\times \\frac{3}{4} \\times \\frac{3}{4} \\times \\frac{3}{4} = \\frac{1}{4} \\times \\left(\\frac{3}{4}\\right)^3$\n",
        "\n",
        "- solving question 2 **correctly** and questions 1, 3 and 4 incorrectly is $P(\\{2, 1', 3', 4'\\}) = \\frac{1}{4} \\times \\frac{3}{4} \\times \\frac{3}{4} \\times \\frac{3}{4} = \\frac{1}{4} \\times \\left(\\frac{3}{4}\\right)^3$\n",
        "\n",
        "- solving question 3 **correctly** and questions 1, 2 and 4 incorrectly is $P(\\{3, 1', 2', 4'\\}) = \\frac{1}{4} \\times \\frac{3}{4} \\times \\frac{3}{4} \\times \\frac{3}{4} = \\frac{1}{4} \\times \\left(\\frac{3}{4}\\right)^3$\n",
        "\n",
        "- solving question 4 **correctly** and questions 1, 2, and 3 incorrectly is $P(\\{4, 1', 2', 3'\\}) = \\frac{1}{4} \\times \\frac{3}{4} \\times \\frac{3}{4} \\times \\frac{3}{4} = \\frac{1}{4} \\times \\left(\\frac{3}{4}\\right)^3$\n",
        "\n",
        "Therefore, the probability of solving one question correctly is\n",
        "\n",
        "$$P(X = 1) = P(\\{1, 2', 3', 4'\\}) + P(\\{2, 1', 3', 4'\\}) + P(\\{3, 1', 2', 4'\\}) + P(\\{4, 1', 2', 3'\\})$$\n",
        "\n",
        "$$\\Rightarrow P(X = 1) = \\frac{1}{4} \\times \\left(\\frac{3}{4}\\right)^3 + \\frac{1}{4} \\times \\left(\\frac{3}{4}\\right)^3 + \\frac{1}{4} \\times \\left(\\frac{3}{4}\\right)^3 + \\frac{1}{4} \\times \\left(\\frac{3}{4}\\right)^3$$\n",
        "\n",
        "$$\\Rightarrow P(X = 1) = 4 \\times \\frac{1}{4} \\times \\left(\\frac{3}{4}\\right)^3$$\n",
        "\n",
        "Let's not simplify the above expression. You will soon get to know the reason.\n",
        "\n",
        "In terms of random variable, you can read it as the probability of a random variable $X = 1$ is $$P(X = 1) = 4 \\times \\frac{1}{4} \\times \\left(\\frac{3}{4}\\right)^3$$\n"
      ]
    },
    {
      "cell_type": "code",
      "metadata": {
        "id": "RvlBmKC13NmW",
        "colab": {
          "base_uri": "https://localhost:8080/"
        },
        "outputId": "99fb9dd6-bf46-4dba-9fa5-6ff271183ec6"
      },
      "source": [
        "#  Calculate the probability of solving 1 question correctly by fluke.\n",
        "prob_one_ques = 0.75 ** 3\n",
        "prob_one_ques"
      ],
      "execution_count": null,
      "outputs": [
        {
          "output_type": "execute_result",
          "data": {
            "text/plain": [
              "0.421875"
            ]
          },
          "metadata": {},
          "execution_count": 4
        }
      ]
    },
    {
      "cell_type": "markdown",
      "metadata": {
        "id": "2V_8Npnc5Jke"
      },
      "source": [
        "It is quite unlikely that you would solve 1 question correctly by fluke because the probability value is less than 0.5.\n",
        "\n",
        "**Probability of Solving 2 Questions Correctly**\n",
        "\n",
        "Let's find out the probability of solving two questions correctly. Here we can define a random variable $X$ where $X = 2$ which denotes solving 2 questions correctly by fluke.\n",
        "\n",
        "In other words, you are choosing the correct option for one of the four questions. This can be done in the following six ways:\n",
        "\n",
        "- Solve questions 1 & 2 **correctly** and questions 3 & 4 incorrectly.\n",
        "\n",
        "- Solve questions 1 & 3 **correctly** and questions 2 & 4 incorrectly.\n",
        "\n",
        "- Solve questions 1 & 4 **correctly** and questions 2 & 3 incorrectly.\n",
        "\n",
        "- Solve questions 2 & 3 **correctly** and questions 1 & 4 incorrectly.\n",
        "\n",
        "- Solve questions 2 & 4 **correctly** and questions 1 & 3 incorrectly.\n",
        "\n",
        "- Solve questions 3 & 4 **correctly** and questions 1 & 2 incorrectly.\n",
        "\n",
        "Mathematically, the above six cases can be written as\n",
        "\n",
        "$$\\{\\{1, 2, 3', 4'\\}, \\{1, 3, 2', 4'\\}, \\{1, 4, 2', 3'\\}, \\{2, 3, 1', 4'\\}, \\{2, 4, 1', 3'\\}, \\{3, 4, 1', 2'\\}\\}$$\n",
        "\n",
        "This entire set can be denoted by the random variable $X = 2$ where\n",
        "\n",
        "1. the set $\\{1, 2, 3', 4'\\}$ denotes solving questions 1 & 2 **correctly** and questions 3 & 4 incorrectly.\n",
        "\n",
        "2. the set $\\{1, 3, 2', 4'\\}$ denotes solving questions 1 & 3 **correctly** and questions 2 & 4 incorrectly.\n",
        "\n",
        "3. the set $\\{1, 4, 2', 3'\\}$ denotes solving questions 1 & 4 **correctly** and questions 2 & 3 incorrectly.\n",
        "\n",
        "4. the set $\\{2, 3, 1', 4'\\}$ denotes solving questions 2 & 3 **correctly** and questions 1 & 4 incorrectly.\n",
        "\n",
        "5. the set $\\{2, 4, 1', 3'\\}$ denotes solving questions 2 & 4 **correctly** and questions 1 & 3 incorrectly.\n",
        "\n",
        "6. the set $\\{3, 4, 1', 2'\\}$ denotes solving questions 3 & 4 **correctly** and questions 1 & 2 incorrectly.\n",
        "\n",
        "Every question has only one correct choice (or option) out of four choices. So, the probability of selecting a correct choice is $\\frac{1}{4}$. Hence, the probability of selecting an incorrect choice is $\\frac{3}{4}$\n",
        "\n",
        "So the probability of\n",
        "\n",
        "1. solving questions 1 & 2 **correctly** and questions 3 & 4 incorrectly is $P(\\{1, 2, 3', 4'\\}) = \\frac{1}{4} \\times \\frac{1}{4} \\times \\frac{3}{4} \\times \\frac{3}{4} = \\left(\\frac{1}{4}\\right)^2 \\times \\left(\\frac{3}{4}\\right)^2$\n",
        "\n",
        "2. solving questions 1 & 3 **correctly** and questions 2 & 4 incorrectly is $P(\\{1, 3, 2', 4'\\}) = \\frac{1}{4} \\times \\frac{1}{4} \\times \\frac{3}{4} \\times \\frac{3}{4} = \\left(\\frac{1}{4}\\right)^2 \\times \\left(\\frac{3}{4}\\right)^2$\n",
        "\n",
        "3. solving questions 1 & 4 **correctly** and questions 2 & 3 incorrectly is $P(\\{1, 4, 2', 3'\\})= \\frac{1}{4} \\times \\frac{1}{4} \\times \\frac{3}{4} \\times \\frac{3}{4} = \\left(\\frac{1}{4}\\right)^2 \\times \\left(\\frac{3}{4}\\right)^2$\n",
        "\n",
        "4. solving questions 2 & 3 **correctly** and questions 1 & 4 incorrectly is $P(\\{2, 3, 1', 4'\\}) = \\frac{1}{4} \\times \\frac{1}{4} \\times \\frac{3}{4} \\times \\frac{3}{4} = \\left(\\frac{1}{4}\\right)^2 \\times \\left(\\frac{3}{4}\\right)^2$\n",
        "\n",
        "5. solving questions 2 & 4 **correctly** and questions 1 & 3 incorrectly is $P(\\{2, 4, 1', 3'\\}) = \\frac{1}{4} \\times \\frac{1}{4} \\times \\frac{3}{4} \\times \\frac{3}{4} = \\left(\\frac{1}{4}\\right)^2 \\times \\left(\\frac{3}{4}\\right)^2$\n",
        "\n",
        "6. solving questions 3 & 4 **correctly** and questions 1 & 2 incorrectly is $P(\\{3, 4, 1', 2'\\}) = \\frac{1}{4} \\times \\frac{1}{4} \\times \\frac{3}{4} \\times \\frac{3}{4} = \\left(\\frac{1}{4}\\right)^2 \\times \\left(\\frac{3}{4}\\right)^2$\n",
        "\n",
        "Therefore, the probability of solving two questions correctly is\n",
        "\n",
        "$$P(X = 2) = P(\\{1, 2, 3', 4'\\}) + P(\\{1, 3, 2', 4'\\}) + P(\\{1, 4, 2', 3'\\}) + P(\\{2, 3, 1', 4'\\}) + P(\\{2, 4, 1', 3'\\}) + P(\\{3, 4, 1', 2'\\})$$\n",
        "\n",
        "$$\\Rightarrow P(X = 2) = \\left(\\frac{1}{4}\\right)^2 \\times \\left(\\frac{3}{4}\\right)^2 + \\left(\\frac{1}{4}\\right)^2 \\times \\left(\\frac{3}{4}\\right)^2 + \\left(\\frac{1}{4}\\right)^2 \\times \\left(\\frac{3}{4}\\right)^2 + \\left(\\frac{1}{4}\\right)^2 \\times \\left(\\frac{3}{4}\\right)^2 + \\left(\\frac{1}{4}\\right)^2 \\times \\left(\\frac{3}{4}\\right)^2 + \\left(\\frac{1}{4}\\right)^2 \\times \\left(\\frac{3}{4}\\right)^2$$\n",
        "\n",
        "$$\\Rightarrow P(X = 2) = 6 \\times \\left(\\frac{1}{4}\\right)^2 \\times \\left(\\frac{3}{4}\\right)^2$$\n",
        "\n",
        "Let's not simplify the above expression. You will soon get to know the reason.\n",
        "\n",
        "In terms of random variable, you can read it as the probability of a random variable $X = 2$ is $$P(X = 2) = 6 \\times \\left(\\frac{1}{4}\\right)^2 \\times \\left(\\frac{3}{4}\\right)^2$$\n"
      ]
    },
    {
      "cell_type": "code",
      "metadata": {
        "id": "-b_k-y5RNxKn",
        "colab": {
          "base_uri": "https://localhost:8080/"
        },
        "outputId": "ad189af8-89dd-44bf-9120-af8a8e94c764"
      },
      "source": [
        "# Calculate the probability of solving 2 questions correctly by fluke.\n",
        "prob_two_ques = 6 * (0.25 ** 2) * (0.75 ** 2)\n",
        "prob_two_ques"
      ],
      "execution_count": null,
      "outputs": [
        {
          "output_type": "execute_result",
          "data": {
            "text/plain": [
              "0.2109375"
            ]
          },
          "metadata": {},
          "execution_count": 5
        }
      ]
    },
    {
      "cell_type": "markdown",
      "metadata": {
        "id": "_epq9WMUOVVd"
      },
      "source": [
        "It is very unlikely that you would solve 2 questions correctly by fluke because the probability value is less than 0.5.\n",
        "\n",
        "\n",
        "**Probability of Solving 3 Questions Correctly**\n",
        "\n",
        "Let's find out the probability of solving 3 questions correctly. Here we can define a random variable $X$ where $X = 3$ which denotes solving 3 questions correctly by fluke.\n",
        "\n",
        "In other words, you are solving for one out of the four questions incorrectly. This can be done in the following four ways:\n",
        "\n",
        "- Solve question 1 **incorrectly** and questions 2, 3 and 4 correctly.\n",
        "\n",
        "- Solve question 2 **incorrectly** and questions 1, 3 and 4 correctly.\n",
        "\n",
        "- Solve question 3 **incorrectly** and questions 1, 2 and 4 correctly.\n",
        "\n",
        "- Solve question 4 **incorrectly** and questions 1, 2 and 3 correctly.\n",
        "\n",
        "Mathematically, the above four cases can be written as\n",
        "\n",
        "$$\\{\\{1', 2, 3, 4\\}, \\{2', 1, 3, 4\\}, \\{3', 1, 2, 4\\}, \\{4', 1, 2, 3\\}\\}$$\n",
        "\n",
        "This entire set can be denoted by the random variable $X = 3$ where\n",
        "\n",
        "- the set $\\{1', 2, 3, 4\\}$ denotes solving question 1 **incorrectly** and questions 2, 3 and 4 correctly.\n",
        "\n",
        "- the set $\\{2', 1, 3, 4\\}$ denotes solving question 2 **incorrectly** and questions 1, 3 and 4 correctly.\n",
        "\n",
        "- the set $\\{3', 1, 2, 4\\}$ denotes solving question 3 **incorrectly** and questions 1, 2 and 4 correctly.\n",
        "\n",
        "- the set $\\{4', 1, 2, 3\\}$ denotes solving question 4 **incorrectly** and questions 1, 2, and 3 correctly.\n",
        "\n",
        "Every question has only one correct choice (or option) out of four choices. So, the probability of selecting a correct choice is $\\frac{1}{4}$. Hence, the probability of selecting an incorrect choice is $\\frac{3}{4}$\n",
        "\n",
        "\n",
        "So the probability of\n",
        "\n",
        "- solving question 1 **incorrectly** and questions 2, 3 and 4 correctly is $P(\\{1', 2, 3, 4\\}) = \\frac{3}{4} \\times \\frac{1}{4} \\times \\frac{1}{4} \\times \\frac{1}{4} = \\left(\\frac{1}{4}\\right)^3 \\times \\frac{3}{4}$\n",
        "\n",
        "- solving question 2 **incorrectly** and questions 1, 3 and 4 correctly is $P(\\{2', 1, 3, 4\\}) = \\frac{3}{4} \\times \\frac{1}{4} \\times \\frac{1}{4} \\times \\frac{1}{4} = \\left(\\frac{1}{4}\\right)^3 \\times \\frac{3}{4}$\n",
        "\n",
        "- solving question 3 **incorrectly** and questions 1, 2 and 4 correctly is $P(\\{3', 1, 2, 4\\})= \\frac{3}{4} \\times \\frac{1}{4} \\times \\frac{1}{4} \\times \\frac{1}{4} = \\left(\\frac{1}{4}\\right)^3 \\times \\frac{3}{4}$\n",
        "\n",
        "- solving question 4 **incorrectly** and questions 1, 2, and 3 correctly is $P(\\{4', 1, 2, 3\\}) = \\frac{3}{4} \\times \\frac{1}{4} \\times \\frac{1}{4} \\times \\frac{1}{4} = \\left(\\frac{1}{4}\\right)^3 \\times \\frac{3}{4}$\n",
        "\n",
        "Therefore, the probability of solving three questions correctly is\n",
        "\n",
        "$$P(X = 3) = P(\\{1', 2, 3, 4\\}) + P(\\{2', 1, 3, 4\\}) + P(\\{3', 1, 2, 4\\}) + P(\\{4', 1, 2, 3\\})$$\n",
        "\n",
        "$$\\Rightarrow P(X = 3) = \\left(\\frac{1}{4}\\right)^3 \\times \\frac{3}{4} + \\left(\\frac{1}{4}\\right)^3 \\times \\frac{3}{4} + \\left(\\frac{1}{4}\\right)^3 \\times \\frac{3}{4} + \\left(\\frac{1}{4}\\right)^3 \\times \\frac{3}{4}$$\n",
        "\n",
        "$$\\Rightarrow P(X = 3) = 4 \\times \\left(\\frac{1}{4}\\right)^3 \\times \\frac{3}{4}$$\n",
        "\n",
        "Let's not simplify the above expression further. You will soon know why.\n",
        "\n",
        "In terms of random variable, you can read it as the probability of a random variable $X = 3$ is $$P(X = 3) = 4 \\times \\left(\\frac{1}{4}\\right)^3 \\times \\frac{3}{4}$$\n"
      ]
    },
    {
      "cell_type": "code",
      "metadata": {
        "id": "BbaKQxVXYGR6",
        "colab": {
          "base_uri": "https://localhost:8080/"
        },
        "outputId": "6dc89450-c9d4-43c7-faaa-89daad313101"
      },
      "source": [
        "# Calculate the probability of solving 3 questions correctly by fluke.\n",
        "prob_three_ques = 4 * (0.25 ** 3) * 0.75\n",
        "prob_three_ques"
      ],
      "execution_count": null,
      "outputs": [
        {
          "output_type": "execute_result",
          "data": {
            "text/plain": [
              "0.046875"
            ]
          },
          "metadata": {},
          "execution_count": 6
        }
      ]
    },
    {
      "cell_type": "markdown",
      "metadata": {
        "id": "joqyY6JbYfeu"
      },
      "source": [
        "**Probability of Solving All Questions Correctly**\n",
        "\n",
        "Let's find out the probability of solving all four questions correctly. Here we can define a random variable $X$ where $X = 4$ which denotes solving 4 questions correctly by fluke.\n",
        "\n",
        "So in this case, the random variable $X = 4$ represents the set $\\{1, 2, 3, 4\\}$\n",
        "\n",
        "where\n",
        "\n",
        "- $1$ denotes solving the first question correctly\n",
        "\n",
        "- $2$ denotes solving the second question correctly\n",
        "\n",
        "- $3$ denotes solving the third question correctly\n",
        "\n",
        "- $4$ denotes solving the fourth question correctly\n",
        "\n",
        "So the probability of\n",
        "\n",
        "1. solving the first question correctly is $P(1) = \\frac{1}{4}$\n",
        "\n",
        "2. solving the second question correctly is $P(2) = \\frac{1}{4}$\n",
        "\n",
        "3. solving the third question correctly is $P(3) = \\frac{1}{4}$\n",
        "\n",
        "4. solving the fourth question correctly is $P(4) = \\frac{1}{4}$\n",
        "\n",
        "Therefore, the probability of solving all the questions correctly is\n",
        "\n",
        "$$P(X = 4) = P(1) \\times P(2) \\times P(3) \\times P(4)$$\n",
        "\n",
        "$$\\Rightarrow P(X = 4) = \\frac{1}{4} \\times \\frac{1}{4} \\times \\frac{1}{4} \\times \\frac{1}{4} = \\left(\\frac{1}{4}\\right)^4$$\n",
        "\n",
        "In terms of random variable, you can read it as the probability of a random variable $X = 4$ is $$P(X = 4) = \\left(\\frac{1}{4}\\right)^4$$\n",
        "\n",
        "\n",
        "\n"
      ]
    },
    {
      "cell_type": "code",
      "metadata": {
        "id": "vEBJi4pAaCwf",
        "colab": {
          "base_uri": "https://localhost:8080/"
        },
        "outputId": "0008d095-97d5-456a-aa5c-4b7fd35a0c1d"
      },
      "source": [
        "# Calculate the probability of solving all the questions correctly by fluke.\n",
        "prob_four_ques = 0.25 ** 4\n",
        "prob_four_ques"
      ],
      "execution_count": null,
      "outputs": [
        {
          "output_type": "execute_result",
          "data": {
            "text/plain": [
              "0.00390625"
            ]
          },
          "metadata": {},
          "execution_count": 7
        }
      ]
    },
    {
      "cell_type": "markdown",
      "metadata": {
        "id": "8b27Tx9BzMBL"
      },
      "source": [
        "---"
      ]
    },
    {
      "cell_type": "markdown",
      "metadata": {
        "id": "R5R3b_48nKTP"
      },
      "source": [
        "#### Activity 2: Binomial Distribution\n",
        "\n",
        "Let's look at the probabilities of the random variables $X = 0, 1, 2, 3, 4$ again\n",
        "\n",
        "- $P(X = 0) = 1 \\times \\left(\\frac{3}{4}\\right)^4$\n",
        "\n",
        "- $P(X = 1) = 4 \\times \\frac{1}{4} \\times \\left(\\frac{3}{4}\\right)^3$\n",
        "\n",
        "- $P(X = 2) = 6 \\times \\left(\\frac{1}{4}\\right)^2 \\times \\left(\\frac{3}{4}\\right)^2$\n",
        "\n",
        "- $P(X = 3) = 4 \\times \\left(\\frac{1}{4}\\right)^3 \\times \\frac{3}{4}$\n",
        "\n",
        "- $P(X = 4) = 1 \\times \\left(\\frac{1}{4}\\right)^4$\n",
        "\n",
        "Consider the expression,\n",
        "\n",
        "$${}^nC_{r} = \\frac{n!}{(n-r)! \\times r!}$$\n",
        "\n",
        "Therefore, the numbers $1, 4, 6, 4, 1$ in the above probabilities can also be written as ${}^4C_0, {}^4C_1, {}^4C_2, {}^4C_3, {}^4C_4$ respectively, where\n",
        "\n",
        "- ${}^4C_0$ denotes the **number of ways** in which you can solve **0 questions correctly out of 4 questions**. $$\\therefore {}^4C_0 = \\frac{4!}{4! \\times 0!} = 1$$\n",
        "\n",
        "- ${}^4C_1$ denotes the **number of ways** in which you can solve **1 question correctly out of 4 questions**. $$\\therefore {}^4C_1 = \\frac{4!}{3! \\times 1!} = \\frac{4 \\times 3 \\times 2 \\times 1}{3 \\times 2 \\times 1} = 4$$\n",
        "\n",
        "- ${}^4C_2$ denotes the **number of ways** in which you can solve **2 questions correctly out of 4 questions**. $$\\therefore {}^4C_2 = \\frac{4!}{2! \\times 2!} = \\frac{4 \\times 3 \\times 2 \\times 1}{2 \\times 1 \\times 2 \\times 1} = 6$$\n",
        "\n",
        "- ${}^4C_3$ denotes the **number of ways** in which you can solve **3 questions correctly out of 4 questions**. $$\\therefore {}^4C_3 = \\frac{4!}{1! \\times 3!}= \\frac{4 \\times 3 \\times 2 \\times 1}{3 \\times 2 \\times 1} = 4$$\n",
        "\n",
        "- ${}^4C_4$ denotes the **number of ways** in which you can solve **4 questions correctly out of 4 questions**. $$\\therefore {}^4C_4 = \\frac{4!}{0! \\times 4!}= 1$$\n",
        "\n",
        "If you look closely, in general,\n",
        "\n",
        "$${}^nC_{r} = \\frac{n!}{(n-r)! \\times r!} = {}^nC_{n - r}$$\n",
        "\n",
        "where $n$ is a natural number and $r$ is a whole number but $r \\le n$.\n",
        "\n",
        "In the context of this question,\n",
        "\n",
        "- $n$ is the total number of questions in an MCQ test\n",
        "\n",
        "- $r$ is the number of questions to be solved correctly by fluke out of $n$ questions\n",
        "\n",
        "- ${}^nC_r$ is the number of ways in which $r$ questions can be solved out of $n$ questions correctly by fluke\n",
        "\n",
        "Once again let's look at the probabilities of the random variables $X = 0, 1, 2, 3, 4$\n",
        "\n",
        "- The $P(X = 0)$ expression can also be written as $P(X = 0) = {}^4C_0 \\times \\left(\\frac{1}{4}\\right)^0 \\times \\left(\\frac{3}{4}\\right)^4$\n",
        "\n",
        "- The $P(X = 1)$ expression can also be written as $P(X = 1) = {}^4C_1 \\times \\frac{1}{4} \\times \\left(\\frac{3}{4}\\right)^3$\n",
        "\n",
        "- The $P(X = 2)$ expression can also be written as $P(X = 2) = {}^4C_2 \\times \\left(\\frac{1}{4}\\right)^2 \\times \\left(\\frac{3}{4}\\right)^2$\n",
        "\n",
        "- The $P(X = 3)$ expression can also be written as $P(X = 3) = {}^4C_3 \\times \\left(\\frac{1}{4}\\right)^3 \\times \\frac{3}{4}$\n",
        "\n",
        "- The $P(X = 4)$ expression can also be written as $P(X = 4) = {}^4C_4 \\times \\left(\\frac{1}{4}\\right)^4 \\times \\left(\\frac{3}{4}\\right)^0$\n",
        "\n",
        "In general, in any experiment having total $n$ possible trials, the probability of success in $r$ trials out of $n$ trials is given by\n",
        "\n",
        "$$P(X = r) = {}^nC_r \\times s^r \\times f^{n - r}$$\n",
        "\n",
        "where $s$ denotes the probability of **success**, $f$ denotes the probability of **failure** and $s + f = 1$\n",
        "\n",
        "In our MCQ test problem, **success** is choosing the one correct option out of four options and the **failure** is choosing an incorrect option.\n",
        "\n",
        "\n",
        "This is called **binomial distribution**. In other words, distribution of two terms.\n",
        "\n",
        "Also, the sum of all the probabilities will be equal to one, i.e. ,\n",
        "\n",
        "$P(X = 0) + P(X = 1) + P(X = 2) + \\dots + P(X = n - 1) + P(X = n) = 1$\n",
        "\n",
        "$${}^nC_0 \\times s^0 \\times f^{n - 0}$$\n",
        "\n",
        "$$+$$\n",
        "\n",
        "$${}^nC_1 \\times s^1 \\times f^{n - 1}$$\n",
        "\n",
        "$$+$$\n",
        "\n",
        "$${}^nC_r \\times s^r \\times f^{n - r}$$\n",
        "\n",
        "$$\\dots$$\n",
        "\n",
        "$$\\dots$$\n",
        "\n",
        "$$\\dots$$\n",
        "\n",
        "$${}^nC_{n - 1} \\times s^{n - 1} \\times f^{1}$$\n",
        "\n",
        "$$+$$\n",
        "\n",
        "$${}^nC_n \\times s^n \\times f^0$$\n",
        "\n",
        "$$= 1$$"
      ]
    },
    {
      "cell_type": "code",
      "metadata": {
        "id": "3FoYr3g9B1eI",
        "colab": {
          "base_uri": "https://localhost:8080/"
        },
        "outputId": "27a52aa7-d261-4568-b693-ad37df90b9d7"
      },
      "source": [
        "# Find the sum of all the probabilities calculated above.\n",
        "prob_zero_ques + prob_one_ques + prob_two_ques + prob_three_ques + prob_four_ques"
      ],
      "execution_count": null,
      "outputs": [
        {
          "output_type": "execute_result",
          "data": {
            "text/plain": [
              "1.0"
            ]
          },
          "metadata": {},
          "execution_count": 8
        }
      ]
    },
    {
      "cell_type": "markdown",
      "metadata": {
        "id": "nTZhaOceF0x9"
      },
      "source": [
        "We can also create functions to calculate the factorial value of a number $n$ and to get the probability of a random variable $X = r$."
      ]
    },
    {
      "cell_type": "code",
      "source": [
        "for i in range(1,6):\n",
        "    print(i)"
      ],
      "metadata": {
        "colab": {
          "base_uri": "https://localhost:8080/"
        },
        "id": "K8DrA2uyi5YD",
        "outputId": "af6daf79-aeb9-4c6b-a73c-f4079a645a6d"
      },
      "execution_count": null,
      "outputs": [
        {
          "output_type": "stream",
          "name": "stdout",
          "text": [
            "1\n",
            "2\n",
            "3\n",
            "4\n",
            "5\n"
          ]
        }
      ]
    },
    {
      "cell_type": "code",
      "source": [
        "# finding factorial\n",
        "\n",
        "def factorial(a):\n",
        "    b=1\n",
        "    for i in range(1,a+1):\n",
        "        b=b*i\n",
        "    return b\n",
        "\n"
      ],
      "metadata": {
        "id": "HixawrDQtwAX"
      },
      "execution_count": null,
      "outputs": []
    },
    {
      "cell_type": "code",
      "source": [
        "factorial(87)"
      ],
      "metadata": {
        "colab": {
          "base_uri": "https://localhost:8080/"
        },
        "id": "Oj897kgnhzSS",
        "outputId": "ab796b75-73ec-4782-91d0-81c78c712d38",
        "collapsed": true
      },
      "execution_count": null,
      "outputs": [
        {
          "output_type": "execute_result",
          "data": {
            "text/plain": [
              "2107757298379527717213600518699389595229783738061356212322972511214654115727593174080683423236414793504734471782400000000000000000000"
            ]
          },
          "metadata": {},
          "execution_count": 15
        }
      ]
    },
    {
      "cell_type": "code",
      "source": [
        "# finding probability\n",
        "def probability(n,r,s):\n",
        "  ncr = factorial(n)/(factorial(n-r) * factorial(r))\n",
        "  p = ncr * s**r * (1-s)**(n-r)\n",
        "  return p"
      ],
      "metadata": {
        "id": "s_3Z1R6X9QKA"
      },
      "execution_count": null,
      "outputs": []
    },
    {
      "cell_type": "code",
      "source": [
        "probability(4,4,0.25)"
      ],
      "metadata": {
        "colab": {
          "base_uri": "https://localhost:8080/"
        },
        "id": "lGjzYZdg9YRm",
        "outputId": "c27b9c7d-5805-47f7-87b8-88580c0b1b56"
      },
      "execution_count": null,
      "outputs": [
        {
          "output_type": "execute_result",
          "data": {
            "text/plain": [
              "0.00390625"
            ]
          },
          "metadata": {},
          "execution_count": 17
        }
      ]
    },
    {
      "cell_type": "code",
      "source": [
        "probability(4,2,0.25)"
      ],
      "metadata": {
        "colab": {
          "base_uri": "https://localhost:8080/"
        },
        "id": "zvjd_6U1kprc",
        "outputId": "36679db4-4968-49fe-9cd6-eb3eae196578"
      },
      "execution_count": null,
      "outputs": [
        {
          "output_type": "execute_result",
          "data": {
            "text/plain": [
              "0.2109375"
            ]
          },
          "metadata": {},
          "execution_count": 18
        }
      ]
    },
    {
      "cell_type": "code",
      "source": [
        "probability(100,50,0.25)"
      ],
      "metadata": {
        "colab": {
          "base_uri": "https://localhost:8080/"
        },
        "id": "4V8oxeUFi0On",
        "outputId": "5f1395cb-e223-4fa3-a77a-02445bee178a"
      },
      "execution_count": null,
      "outputs": [
        {
          "output_type": "execute_result",
          "data": {
            "text/plain": [
              "4.5073108750863835e-08"
            ]
          },
          "metadata": {},
          "execution_count": 19
        }
      ]
    },
    {
      "cell_type": "code",
      "source": [
        "probability(100,15,0.25)"
      ],
      "metadata": {
        "colab": {
          "base_uri": "https://localhost:8080/"
        },
        "id": "jbuA5mbEkzKj",
        "outputId": "1b9ec02f-2e5a-4041-e9fe-4bbe79f1da1c"
      },
      "execution_count": null,
      "outputs": [
        {
          "output_type": "execute_result",
          "data": {
            "text/plain": [
              "0.005662505854661217"
            ]
          },
          "metadata": {},
          "execution_count": 20
        }
      ]
    },
    {
      "cell_type": "markdown",
      "metadata": {
        "id": "LAEZ8qsN9Zi8"
      },
      "source": [
        "In the above code:\n",
        "\n",
        "1. First, we are creating a function to calculate the factorial of a number. It takes an integer as an input for which the factorial value needs to be calculated.\n",
        "\n",
        "   - A factorial value is valid only for a non-negative integer. So the function should return 0 for negative integers.\n",
        "\n",
        "   - For positive integers, the function should return the factorial of a number.\n",
        "\n",
        "\n",
        "2. Then we are creating a function to calculate the probability of a random variable. It takes the total number of trials `num_trials`, a random variable `random_var` and the probability of success `prob_success` as inputs\n",
        "\n",
        "   - First, we calculate the value of ${}^nC_{r} = \\frac{n!}{(n - r)! \\times r!}$ which we store in the `num_trials_choose_random_var` variable.\n",
        "\n",
        "   - Then we calculate the probability of random variable $P(X = r) = {}^nC_r \\times s^r \\times f^{n - r}$ which we store in the `prob_random_var` variable.\n",
        "\n",
        "   - The function returns the value of `prob_random_var`.\n",
        "\n",
        "   - Note that the probability of failure is `1 - prob_success`.\n",
        "\n"
      ]
    },
    {
      "cell_type": "markdown",
      "metadata": {
        "id": "eJHrPOaaGWFa"
      },
      "source": [
        "What will be the probability of solving say 50 questions correctly by fluke in an MCQ test having 100 questions?"
      ]
    },
    {
      "cell_type": "code",
      "metadata": {
        "id": "E3fvlDF48Z1-",
        "colab": {
          "base_uri": "https://localhost:8080/"
        },
        "outputId": "55e17db3-aba5-4d01-dbde-d6bdb2962870"
      },
      "source": [
        "# Solve the above question.\n",
        "\n",
        "probability(100,50,0.25)\n"
      ],
      "execution_count": null,
      "outputs": [
        {
          "output_type": "execute_result",
          "data": {
            "text/plain": [
              "4.5073108750863835e-08"
            ]
          },
          "metadata": {},
          "execution_count": 21
        }
      ]
    },
    {
      "cell_type": "code",
      "source": [
        "probability(10,5,0.5)"
      ],
      "metadata": {
        "colab": {
          "base_uri": "https://localhost:8080/"
        },
        "id": "rFJncPVDlcUV",
        "outputId": "88153e93-56d3-4426-ec7b-37e1f681a8ca"
      },
      "execution_count": null,
      "outputs": [
        {
          "output_type": "execute_result",
          "data": {
            "text/plain": [
              "0.24609375"
            ]
          },
          "metadata": {},
          "execution_count": 22
        }
      ]
    },
    {
      "cell_type": "markdown",
      "metadata": {
        "id": "_LuEG2lFGT-i"
      },
      "source": [
        "---"
      ]
    },
    {
      "cell_type": "markdown",
      "metadata": {
        "id": "33941shg1gdZ"
      },
      "source": [
        "\n",
        "\n",
        "\n",
        "### **Binomial Distribution Key Points**\n",
        "A binomial distribution means, when it satisfies these four conditions\n",
        "\n",
        "1.A fixed number of trials\n",
        "\n",
        "2.Each trial is independent of the others\n",
        "\n",
        "3.There are only two outcomes\n",
        "\n",
        "4.The probability of each outcome remains constant from trial to trial.\n",
        "\n",
        "These can be summarized as: An experiment with a fixed number of independent trials, each of which can only have two possible outcomes.\n",
        "\n",
        "The fact that each trial is independent actually means that the probabilities remain constant.\n",
        "\n",
        "**Examples of binomial experiments**\n",
        "\n",
        "1.Tossing a coin 20 times to see how many tails occur.\n",
        "\n",
        "2.Asking 200 people if they watch ABC news.\n",
        "\n",
        "3.Rolling a die to see if a 5 appears.\n",
        "\n",
        "**Examples which aren't binomial experiments**\n",
        "1.Rolling a die until a 6 appears (not a fixed number of trials)\n",
        "\n",
        "2.Asking 20 people how old they are (not two outcomes)\n",
        "\n",
        "3.Drawing 5 cards from a deck for a poker hand (done without replacement, so not independent)"
      ]
    },
    {
      "cell_type": "markdown",
      "metadata": {
        "id": "vR6LyPro1f7h"
      },
      "source": [
        "---"
      ]
    },
    {
      "cell_type": "markdown",
      "metadata": {
        "id": "iQEsRHRn95Kc"
      },
      "source": [
        "### Activity 1: Expected Value\n",
        "\n",
        "Let's find out the average number of questions that can be solved correctly by fluke.\n",
        "\n",
        "For this, we need to use the concept of expected value. The expected value is the sum of the product of the random variables with their corresponding probabilities.\n",
        "\n",
        "Let $X$ be a random variable denoting $N$ events $x_1, x_2, x_3 \\dots x_N$ and let $p(x_1), p(x_2), p(x_3) \\dots p(x_N)$ be their corresponding probabilities, then the expected value $E(X)$ is given by\n",
        "\n",
        "$$E(X) = x_1 p(x_1) + x_2 p(x_2) + x_3 p(x_3) + \\dots + x_N p(x_N)$$\n",
        "\n",
        "With this idea in mind, let's now try to find out the average number of questions that can be solved correctly by fluke in an MCQ test having 100 questions.\n"
      ]
    },
    {
      "cell_type": "code",
      "metadata": {
        "id": "OhZvFKmdz4Xw"
      },
      "source": [
        "#Find the average number of questions that can be solved correctly by fluke in an MCQ test having 100 questions.\n",
        "import numpy as np\n",
        "r_v = np.arange(101)\n",
        "#print(r_v)\n",
        "probably_list =[probability(100,i,0.25)  for i in range(101)]\n",
        "#print(probably_list)\n",
        "expected_value= np.sum(r_v * probably_list)\n",
        "expected_value"
      ],
      "execution_count": null,
      "outputs": []
    },
    {
      "cell_type": "markdown",
      "metadata": {
        "id": "I88z7qE1aF7C"
      },
      "source": [
        "\n",
        "\n",
        "**KeyPoint:** The expected value gives a theoretical average. The actual average may differ from the theoretical average by some margin. E.g., in an MCQ test having 100 questions, the expected value tells us that on an average, we can expect to solve 25 questions correctly by fluke.\n",
        "\n",
        "Interestingly, in the case of a binomial distribution, the expected value is the highly likely event. Let's verify this fact by finding out the most likely event in the case of solving questions correctly by fluke in an MCQ test containing 100 questions.\n"
      ]
    },
    {
      "cell_type": "code",
      "metadata": {
        "id": "vmv85wf-1WgS"
      },
      "source": [
        "# Find the most likely event and its probability.\n",
        "probably_list =[probability(100,i,0.25)  for i in range(101)]\n",
        "probably_list"
      ],
      "execution_count": null,
      "outputs": []
    },
    {
      "cell_type": "code",
      "source": [
        "p= np.max(probably_list)\n",
        "p"
      ],
      "metadata": {
        "id": "fcv7c_8EgHLk"
      },
      "execution_count": null,
      "outputs": []
    },
    {
      "cell_type": "code",
      "source": [
        "probably_list.index(p)"
      ],
      "metadata": {
        "id": "YIigOem0gNvO"
      },
      "execution_count": null,
      "outputs": []
    },
    {
      "cell_type": "markdown",
      "metadata": {
        "id": "A7BdV-Hs5iCW"
      },
      "source": [
        "So in case of the binomial distribution, the most likely event is the same as the expected value.\n"
      ]
    },
    {
      "cell_type": "code",
      "metadata": {
        "id": "4fu6_G9z0Wiu"
      },
      "source": [
        "# Create a line plot of random variables and their corresponding probabilities in the case of an MCQ test having 100 questions.\n",
        "import matplotlib.pyplot as plt\n",
        "plt.figure(figsize=(18,5))\n",
        "plt.plot(r_v,probably_list)\n",
        "plt.axvline(25)\n",
        "plt.grid()\n",
        "plt.show()"
      ],
      "execution_count": null,
      "outputs": []
    },
    {
      "cell_type": "markdown",
      "metadata": {
        "id": "-cZnSdHq9-03"
      },
      "source": [
        "---"
      ]
    },
    {
      "cell_type": "markdown",
      "metadata": {
        "id": "LMN_q3mq9_w2"
      },
      "source": [
        "### Activity 2: Probability of Gambling.\n",
        "\n",
        "Suppose that you play a game in which you roll two standard 6-sided dice. You win INR 3000 if the sum of the numbers on the dice is 2 and lose INR 100 otherwise. How much do you expect to win on average per trial?\n",
        "\n",
        "\n"
      ]
    },
    {
      "cell_type": "code",
      "metadata": {
        "id": "6589lwa2klft"
      },
      "source": [
        "#Calculate your expected winnings after rolling two dice in the above proble\n",
        "\n",
        "\n"
      ],
      "execution_count": null,
      "outputs": []
    },
    {
      "cell_type": "markdown",
      "source": [
        "\n",
        "\n",
        "\n",
        "So, let us define a random variable $X = x$ where $x$ some event. Let $x_1$ denotes that you win INR 3000 after rolling two dice. This is possible only if the outcome of rolling two dice is two $1s$, i.e., $\\{1, 1\\}$.\n",
        "\n",
        "Similarly, let $x_2$ denotes that you lose INR 100 after rolling two dice. This is possible when the outcome is not two $1s$, i.e., $x_2 = \\{1', 1'\\}$\n",
        "\n",
        "\n",
        "\n",
        "So, your expected winnings after playing one game of rolling two dice are\n",
        "\n",
        "$E(X) = x_1 p(x_1) + x_2 p(x_2)$\n"
      ],
      "metadata": {
        "id": "k61g1HngCB4x"
      }
    }
  ]
}