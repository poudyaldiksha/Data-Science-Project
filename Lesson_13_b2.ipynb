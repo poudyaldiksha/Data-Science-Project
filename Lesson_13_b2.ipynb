{
  "nbformat": 4,
  "nbformat_minor": 0,
  "metadata": {
    "colab": {
      "provenance": [],
      "include_colab_link": true
    },
    "kernelspec": {
      "name": "python3",
      "display_name": "Python 3"
    },
    "language_info": {
      "name": "python"
    }
  },
  "cells": [
    {
      "cell_type": "markdown",
      "metadata": {
        "id": "view-in-github",
        "colab_type": "text"
      },
      "source": [
        "<a href=\"https://colab.research.google.com/github/poudyaldiksha/Data-Science-project/blob/main/Lesson_13_b2.ipynb\" target=\"_parent\"><img src=\"https://colab.research.google.com/assets/colab-badge.svg\" alt=\"Open In Colab\"/></a>"
      ]
    },
    {
      "cell_type": "markdown",
      "source": [
        "# Lesson 13: String Methods and Functions- II"
      ],
      "metadata": {
        "id": "eOhbMQeHz2_X"
      }
    },
    {
      "cell_type": "markdown",
      "source": [
        "**Strings**\n",
        "\n",
        "So far, we have been calling strings a data-type. But technically, in Python, a string is another data structure just like a list, a tuple, and a dictionary. Therefore, it means a string also stores data. Essentially, a string is an array containing some items. Any character (whether a letter, a number, or a special symbol like space, brackets, etc.) enclosed within double quotes `(\"\")` or single quotes `('')` is considered a string.\n",
        "\n"
      ],
      "metadata": {
        "id": "atxmVzTBvIsj"
      }
    },
    {
      "cell_type": "markdown",
      "source": [
        "### Activity 1: Generate a password"
      ],
      "metadata": {
        "id": "swCaQ-E4R_Hd"
      }
    },
    {
      "cell_type": "markdown",
      "metadata": {
        "id": "Ve4pjwAKkx6I"
      },
      "source": [
        "Let's write a code to create a 12 character long password containing a combination of lowercase & uppercase English letters numbers and special characters.\n",
        "\n",
        "For this exercise, we have to import the `string` module that contains the following string constants.\n",
        "\n",
        "1. `string.ascii_lowercase`: A constant string of lowercase letters, i.e.,`'abcdefghijklmnopqrstuvwxyz'`\n",
        "\n",
        "2. `string.ascii_uppercase`: A constant string of uppercase letters, i.e., `'ABCDEFGHIJKLMNOPQRSTUVWXYZ'`\n",
        "\n",
        "3. `string.ascii_letters`: A constant string containing the concatenation of the `ascii_lowercase` and `ascii_uppercase` constants, i.e., `'abcdefghijklmnopqrstuvwxyzABCDEFGHIJKLMNOPQRSTUVWXYZ'`\n",
        "\n",
        "4. `string.digits`: A constant string of the digits, i.e, `'0123456789'`\n",
        "\n",
        "5. `string.punctuation`: A constant string of ASCII characters which are considered as punctuation characters, i.e., ``!\"#$%&'()*+,-./:;<=>?@[\\]^_`{|}~``\n",
        "\n",
        "The constants are those values which are universally true. E.g., value of `pi = 3.141` etc.\n",
        "\n",
        "Of course, you can create all of the above on your own by typing them individually. But then it would be tedious."
      ]
    },
    {
      "cell_type": "markdown",
      "source": [
        "American Standard Code for Information Interchange"
      ],
      "metadata": {
        "id": "8fG-xkwt4VZh"
      }
    },
    {
      "cell_type": "code",
      "source": [
        "import string\n",
        "string.ascii_letters"
      ],
      "metadata": {
        "colab": {
          "base_uri": "https://localhost:8080/",
          "height": 35
        },
        "id": "LtJkWZBlIQdg",
        "outputId": "95240fac-ec23-46e0-b0f3-01d20eacd473"
      },
      "execution_count": null,
      "outputs": [
        {
          "output_type": "execute_result",
          "data": {
            "text/plain": [
              "'abcdefghijklmnopqrstuvwxyzABCDEFGHIJKLMNOPQRSTUVWXYZ'"
            ],
            "application/vnd.google.colaboratory.intrinsic+json": {
              "type": "string"
            }
          },
          "metadata": {},
          "execution_count": 19
        }
      ]
    },
    {
      "cell_type": "code",
      "source": [
        "string.punctuation"
      ],
      "metadata": {
        "colab": {
          "base_uri": "https://localhost:8080/",
          "height": 35
        },
        "id": "fK8DYtbUIVbB",
        "outputId": "270e4ab2-e429-4c92-97ce-35987bbf4195"
      },
      "execution_count": null,
      "outputs": [
        {
          "output_type": "execute_result",
          "data": {
            "text/plain": [
              "'!\"#$%&\\'()*+,-./:;<=>?@[\\\\]^_`{|}~'"
            ],
            "application/vnd.google.colaboratory.intrinsic+json": {
              "type": "string"
            }
          },
          "metadata": {},
          "execution_count": 2
        }
      ]
    },
    {
      "cell_type": "code",
      "source": [
        "string.digits"
      ],
      "metadata": {
        "colab": {
          "base_uri": "https://localhost:8080/",
          "height": 35
        },
        "id": "Qwp4mnTSIZJ2",
        "outputId": "da18bc5b-b5fa-4c2a-e842-addf7f6bb928"
      },
      "execution_count": null,
      "outputs": [
        {
          "output_type": "execute_result",
          "data": {
            "text/plain": [
              "'0123456789'"
            ],
            "application/vnd.google.colaboratory.intrinsic+json": {
              "type": "string"
            }
          },
          "metadata": {},
          "execution_count": 3
        }
      ]
    },
    {
      "cell_type": "code",
      "source": [
        "a = string.ascii_letters+string.punctuation+string.digits\n",
        "a"
      ],
      "metadata": {
        "colab": {
          "base_uri": "https://localhost:8080/",
          "height": 35
        },
        "id": "wEIytwG24d-D",
        "outputId": "32ba8d20-8356-4ce1-eab2-90dac5b006b3"
      },
      "execution_count": null,
      "outputs": [
        {
          "output_type": "execute_result",
          "data": {
            "text/plain": [
              "'abcdefghijklmnopqrstuvwxyzABCDEFGHIJKLMNOPQRSTUVWXYZ!\"#$%&\\'()*+,-./:;<=>?@[\\\\]^_`{|}~0123456789'"
            ],
            "application/vnd.google.colaboratory.intrinsic+json": {
              "type": "string"
            }
          },
          "metadata": {},
          "execution_count": 28
        }
      ]
    },
    {
      "cell_type": "code",
      "source": [
        "len(a)"
      ],
      "metadata": {
        "colab": {
          "base_uri": "https://localhost:8080/"
        },
        "id": "r0w5YJ4g4rKb",
        "outputId": "53c2d609-d303-440b-b977-04ffcc9a61c7"
      },
      "execution_count": null,
      "outputs": [
        {
          "output_type": "execute_result",
          "data": {
            "text/plain": [
              "94"
            ]
          },
          "metadata": {},
          "execution_count": 22
        }
      ]
    },
    {
      "cell_type": "code",
      "source": [
        "import random\n",
        "random.randint(1,6)\n"
      ],
      "metadata": {
        "colab": {
          "base_uri": "https://localhost:8080/"
        },
        "id": "5ONcB4Sk45YW",
        "outputId": "a9d3d56d-a7d8-4318-d26b-4b9f6e0e4a76"
      },
      "execution_count": null,
      "outputs": [
        {
          "output_type": "execute_result",
          "data": {
            "text/plain": [
              "2"
            ]
          },
          "metadata": {},
          "execution_count": 26
        }
      ]
    },
    {
      "cell_type": "code",
      "source": [
        "a"
      ],
      "metadata": {
        "colab": {
          "base_uri": "https://localhost:8080/",
          "height": 35
        },
        "id": "-F-VQelG5a9f",
        "outputId": "ed406e22-43a8-4429-865d-e76f71940de1"
      },
      "execution_count": null,
      "outputs": [
        {
          "output_type": "execute_result",
          "data": {
            "text/plain": [
              "'abcdefghijklmnopqrstuvwxyzABCDEFGHIJKLMNOPQRSTUVWXYZ!\"#$%&\\'()*+,-./:;<=>?@[\\\\]^_`{|}~0123456789'"
            ],
            "application/vnd.google.colaboratory.intrinsic+json": {
              "type": "string"
            }
          },
          "metadata": {},
          "execution_count": 29
        }
      ]
    },
    {
      "cell_type": "code",
      "source": [
        "import random\n",
        "emp_lis =[]\n",
        "for i in range(0,13):\n",
        "    emp_lis.append(a[random.randint(0,95)])\n",
        "print(emp_lis)\n",
        "new_password = \"\".join(emp_lis)\n",
        "new_password\n"
      ],
      "metadata": {
        "colab": {
          "base_uri": "https://localhost:8080/",
          "height": 53
        },
        "id": "j689YTHt4vqt",
        "outputId": "64096cbb-162a-4e57-e5dc-4785a01227c0"
      },
      "execution_count": null,
      "outputs": [
        {
          "output_type": "stream",
          "name": "stdout",
          "text": [
            "['>', '.', \"'\", 'D', '0', '%', '1', 'f', '+', 'S', ']', '_', '7']\n"
          ]
        },
        {
          "output_type": "execute_result",
          "data": {
            "text/plain": [
              "\">.'D0%1f+S]_7\""
            ],
            "application/vnd.google.colaboratory.intrinsic+json": {
              "type": "string"
            }
          },
          "metadata": {},
          "execution_count": 39
        }
      ]
    },
    {
      "cell_type": "code",
      "metadata": {
        "id": "l7UvAgLqthax",
        "colab": {
          "base_uri": "https://localhost:8080/",
          "height": 53
        },
        "outputId": "389a5b16-0e0f-45f3-b52c-ac7e3756d7ed"
      },
      "source": [
        "# Write a code to generate a 12 character long random password containing a combination of lowercase &\n",
        "# uppercase English letters numbers and special characters.\n",
        "\n",
        "import random\n",
        "big_string = string.ascii_letters + string.digits + string.punctuation\n",
        "print(big_string)\n",
        "password = []\n",
        "for i in range (0,12):\n",
        " char = random.randint(0,len(big_string))\n",
        " password.append(big_string[char])\n",
        "\n",
        "\n",
        "\n",
        "\n",
        "newpassword = \"\".join(password)\n",
        "newpassword\n"
      ],
      "execution_count": null,
      "outputs": [
        {
          "output_type": "stream",
          "name": "stdout",
          "text": [
            "abcdefghijklmnopqrstuvwxyzABCDEFGHIJKLMNOPQRSTUVWXYZ0123456789!\"#$%&'()*+,-./:;<=>?@[\\]^_`{|}~\n"
          ]
        },
        {
          "output_type": "execute_result",
          "data": {
            "text/plain": [
              "'Fn#(W`]x./}z'"
            ],
            "application/vnd.google.colaboratory.intrinsic+json": {
              "type": "string"
            }
          },
          "metadata": {},
          "execution_count": 40
        }
      ]
    },
    {
      "cell_type": "code",
      "source": [
        "\n",
        "# Using list comprehension to generate password\n",
        "password = [random.choice(big_string) for  i in range(12)]\n",
        "newpassword = \"\".join(password)\n",
        "\n",
        "\n",
        "print(newpassword)"
      ],
      "metadata": {
        "colab": {
          "base_uri": "https://localhost:8080/"
        },
        "id": "GZnhiVNSO-zC",
        "outputId": "1bdb8880-5f3a-4045-85af-69bc85bd4c98"
      },
      "execution_count": null,
      "outputs": [
        {
          "output_type": "stream",
          "name": "stdout",
          "text": [
            "OPG$cZ2,K,F(\n"
          ]
        }
      ]
    },
    {
      "cell_type": "code",
      "source": [
        "a = string.ascii_letters +string.digits + string.punctuation\n",
        "print(\"alphanumeric string:\\n\\t\",a,\"\\n\\n\",\"length:\",len(a))\n",
        "rand_char = [a[random.randint(0,len(a) - 1)] for i in range(12)]\n",
        "print(rand_char)\n",
        "passw= \"\".join(rand_char)\n",
        "print(\"\\npassword:\\t\",passw)"
      ],
      "metadata": {
        "colab": {
          "base_uri": "https://localhost:8080/"
        },
        "id": "qJmGpyl7PIc0",
        "outputId": "486667a8-0b17-4570-8967-5f8bc5609eaa"
      },
      "execution_count": null,
      "outputs": [
        {
          "output_type": "stream",
          "name": "stdout",
          "text": [
            "alphanumeric string:\n",
            "\t abcdefghijklmnopqrstuvwxyzABCDEFGHIJKLMNOPQRSTUVWXYZ0123456789!\"#$%&'()*+,-./:;<=>?@[\\]^_`{|}~ \n",
            "\n",
            " length: 94\n",
            "['#', 'g', 'Y', 'k', 'm', '?', '$', '+', 'Y', '*', '~', '\"']\n",
            "\n",
            "password:\t #gYkm?$+Y*~\"\n"
          ]
        }
      ]
    },
    {
      "cell_type": "markdown",
      "metadata": {
        "id": "VqSTUpO-o-8X"
      },
      "source": [
        "In the above code:\n",
        "\n",
        "- An alphanumeric string is created by concatenating the `string.ascii_letters, string.digits, string.punctuation` constants.\n",
        "\n",
        "- A list is created using the list comprehension method:\n",
        "\n",
        "    - By first generating 12 random integers between `0` and `93`. They act as indices for any 12 items of the alphanumeric string.\n",
        "\n",
        "    - Then, by adding the items to the list that are retrieved from the alphanumeric string.\n",
        "\n",
        "- The `join()` function joins the items of the above list about an empty string."
      ]
    },
    {
      "cell_type": "markdown",
      "metadata": {
        "id": "ASoiuhx3yPzV"
      },
      "source": [
        "---"
      ]
    },
    {
      "cell_type": "markdown",
      "metadata": {
        "id": "JEnaq7CeyQ9Q"
      },
      "source": [
        "### Activity 2: The `capitalize(), lower(), upper()` & `title()` Functions\n",
        "\n",
        "The `capitalize()` function, capitalizes only the item at `index = 0` provided that the item is a lowercase English letter. The syntax is `string.capitalize()`."
      ]
    },
    {
      "cell_type": "code",
      "metadata": {
        "id": "ln7sQZkV9h-_",
        "colab": {
          "base_uri": "https://localhost:8080/"
        },
        "outputId": "574a3681-f339-46fb-e898-51244496f50d"
      },
      "source": [
        "# Example: Capitalizing the first character of a string\n",
        "text = \"python programming is fun\"\n",
        "capitalized_text = text.capitalize()\n",
        "print(capitalized_text)"
      ],
      "execution_count": null,
      "outputs": [
        {
          "output_type": "stream",
          "name": "stdout",
          "text": [
            "Python programming is fun\n"
          ]
        }
      ]
    },
    {
      "cell_type": "code",
      "source": [
        "# Example: Capitalizing the first character of a string\n",
        "text = \" python programming is fun\"\n",
        "capitalized_text = text.capitalize()\n",
        "print(capitalized_text)"
      ],
      "metadata": {
        "colab": {
          "base_uri": "https://localhost:8080/"
        },
        "id": "DdTQtnc97f6r",
        "outputId": "c9d9a137-fca9-4b77-fa82-6009aabf9d5b"
      },
      "execution_count": null,
      "outputs": [
        {
          "output_type": "stream",
          "name": "stdout",
          "text": [
            " python programming is fun\n"
          ]
        }
      ]
    },
    {
      "cell_type": "markdown",
      "metadata": {
        "id": "CyONvRyCJCB-"
      },
      "source": [
        "`lower()` and `upper()` Functions:\n",
        "\n",
        "The `lower()` function converts all characters in a string to lowercase, while `upper()` converts them to uppercase.\n",
        "\n"
      ]
    },
    {
      "cell_type": "code",
      "metadata": {
        "id": "2nFS5jxiw0Kt",
        "colab": {
          "base_uri": "https://localhost:8080/"
        },
        "outputId": "d2fb4f56-dd0f-48f4-a5a9-541df7475745"
      },
      "source": [
        "# Example: Converting a string to lowercase and uppercase\n",
        "text = \"Hello World\"\n",
        "lowercase_text = text.lower()\n",
        "uppercase_text = text.upper()\n",
        "print(lowercase_text)  # Output: 'hello world'\n",
        "print(uppercase_text)"
      ],
      "execution_count": null,
      "outputs": [
        {
          "output_type": "stream",
          "name": "stdout",
          "text": [
            "hello world\n",
            "HELLO WORLD\n"
          ]
        }
      ]
    },
    {
      "cell_type": "markdown",
      "source": [
        "`title()` Function:\n",
        "\n",
        "The `title()` function capitalizes the first letter of each word in a string."
      ],
      "metadata": {
        "id": "3IX9rcivSjS7"
      }
    },
    {
      "cell_type": "code",
      "metadata": {
        "id": "G3NPpHQPZwMK",
        "colab": {
          "base_uri": "https://localhost:8080/"
        },
        "outputId": "bd18820e-3aac-4c95-b265-1494901ba891"
      },
      "source": [
        "# Example: Converting a string to title case\n",
        "text = \"python programming is awesome\"\n",
        "title_case_text = text.title()\n",
        "print(title_case_text)"
      ],
      "execution_count": null,
      "outputs": [
        {
          "output_type": "stream",
          "name": "stdout",
          "text": [
            "Python Programming Is Awesome\n"
          ]
        }
      ]
    },
    {
      "cell_type": "markdown",
      "metadata": {
        "id": "jw7jMsa2NQ1q"
      },
      "source": [
        "---"
      ]
    },
    {
      "cell_type": "markdown",
      "metadata": {
        "id": "DtKI0JeVN9U5"
      },
      "source": [
        "### Activity 3: The `isupper(), islower()` & `istitle()` Functions\n",
        "\n",
        "The `istitle()` function returns `True` if the words in a string are in a title case. Otherwise, it returns `False`."
      ]
    },
    {
      "cell_type": "code",
      "metadata": {
        "id": "9Rg7h5KHNipJ",
        "colab": {
          "base_uri": "https://localhost:8080/"
        },
        "outputId": "76c59aaa-681d-4131-979c-7c8b7cda90b7"
      },
      "source": [
        "# Example: Checking if a string is in title case\n",
        "text = \"python Programming Is Fun\"\n",
        "print(text.istitle())"
      ],
      "execution_count": null,
      "outputs": [
        {
          "output_type": "stream",
          "name": "stdout",
          "text": [
            "False\n"
          ]
        }
      ]
    },
    {
      "cell_type": "markdown",
      "metadata": {
        "id": "FXNvpkRgPQto"
      },
      "source": [
        "While applying the `istitle()` function on each English letter one-by-one, it returns `True` if the letter is in uppercase. Otherwise, it returns `False`."
      ]
    },
    {
      "cell_type": "markdown",
      "source": [
        "`isupper()` and `islower()` Functions\n",
        "The `isupper()` function checks if all characters in a string are uppercase, while `islower()` checks if all are lowercase."
      ],
      "metadata": {
        "id": "Cg8GPuvqS8IV"
      }
    },
    {
      "cell_type": "code",
      "metadata": {
        "id": "soYffnhONsmM",
        "colab": {
          "base_uri": "https://localhost:8080/"
        },
        "outputId": "f6e94727-feec-430b-e38d-12d2d01ce6dd"
      },
      "source": [
        "# Example: Checking if a string is uppercase or lowercase\n",
        "uppercase_text = \"PYTHON\"\n",
        "lowercase_text = \"pythOn\"\n",
        "print(uppercase_text.isupper())\n",
        "print(lowercase_text.islower())"
      ],
      "execution_count": null,
      "outputs": [
        {
          "output_type": "stream",
          "name": "stdout",
          "text": [
            "True\n",
            "False\n"
          ]
        }
      ]
    },
    {
      "cell_type": "markdown",
      "metadata": {
        "id": "Mcn0DPyIQK4h"
      },
      "source": [
        "Similarly, the `isupper()` function returns `True` if an English letter is in uppercase and the `islower()` function returns `True` if an English letter is in lowercase. Otherwise, they return `False`."
      ]
    },
    {
      "cell_type": "markdown",
      "metadata": {
        "id": "UChMXLiTaWe3"
      },
      "source": [
        "---"
      ]
    },
    {
      "cell_type": "markdown",
      "metadata": {
        "id": "FppweQm1RI-U"
      },
      "source": [
        "### Activity 4: The `ljust(), rjust()` & `center()` Functions\n",
        "\n",
        "The `ljust()` function returns a fixed-length string padded with some special character and justifies (or aligns) it on the left-hand side of the output console.\n",
        "\n",
        "The syntax is:\n",
        "\n",
        " `string.ljust(length, character)`\n",
        "\n",
        "Let's write a code to get the following output using the `ljust()` function.\n",
        "\n",
        "```\n",
        "1000\n",
        "2000\n",
        "3000\n",
        "4000\n",
        "5000\n",
        "```\n",
        "\n",
        "Each item in the above output is a string of length `4` padded with `0` and left justified.\n"
      ]
    },
    {
      "cell_type": "code",
      "source": [
        "for i in range(1,6):\n",
        "    print(\"i\".ljust(4,\"0\"))\n"
      ],
      "metadata": {
        "colab": {
          "base_uri": "https://localhost:8080/"
        },
        "id": "HzhOaRtX8z_v",
        "outputId": "8c018d22-554d-458c-b200-6c310ac3bedd"
      },
      "execution_count": null,
      "outputs": [
        {
          "output_type": "stream",
          "name": "stdout",
          "text": [
            "i000\n",
            "i000\n",
            "i000\n",
            "i000\n",
            "i000\n"
          ]
        }
      ]
    },
    {
      "cell_type": "code",
      "source": [
        "for i in range(1,6):\n",
        "    print(str(i).ljust(4,\"0\"))"
      ],
      "metadata": {
        "colab": {
          "base_uri": "https://localhost:8080/"
        },
        "id": "yy2kdUNB9MAM",
        "outputId": "17230604-7277-43c5-dd90-07f400fb5692"
      },
      "execution_count": null,
      "outputs": [
        {
          "output_type": "stream",
          "name": "stdout",
          "text": [
            "1000\n",
            "2000\n",
            "3000\n",
            "4000\n",
            "5000\n"
          ]
        }
      ]
    },
    {
      "cell_type": "code",
      "metadata": {
        "id": "5fL3Lxkklr0q",
        "colab": {
          "base_uri": "https://localhost:8080/",
          "height": 35
        },
        "outputId": "389cc0c4-897a-4ea7-99ae-652c498b2d3c"
      },
      "source": [
        "\"1\".ljust(4,\"0\")"
      ],
      "execution_count": null,
      "outputs": [
        {
          "output_type": "execute_result",
          "data": {
            "text/plain": [
              "'1000'"
            ],
            "application/vnd.google.colaboratory.intrinsic+json": {
              "type": "string"
            }
          },
          "metadata": {},
          "execution_count": 53
        }
      ]
    },
    {
      "cell_type": "code",
      "source": [
        "\"a\".ljust(6,\"#\")"
      ],
      "metadata": {
        "colab": {
          "base_uri": "https://localhost:8080/",
          "height": 35
        },
        "id": "Eo3w2fK38i4N",
        "outputId": "413db6c0-a6d3-417b-8930-2d6f3f2b7be4"
      },
      "execution_count": null,
      "outputs": [
        {
          "output_type": "execute_result",
          "data": {
            "text/plain": [
              "'a#####'"
            ],
            "application/vnd.google.colaboratory.intrinsic+json": {
              "type": "string"
            }
          },
          "metadata": {},
          "execution_count": 54
        }
      ]
    },
    {
      "cell_type": "code",
      "metadata": {
        "id": "cuyFG-I2VaBP"
      },
      "source": [
        "# Activity: Write a code to get the above output using the 'ljust()' function.\n"
      ],
      "execution_count": null,
      "outputs": []
    },
    {
      "cell_type": "markdown",
      "metadata": {
        "id": "ZXwRU3aaWjxQ"
      },
      "source": [
        "**The `rjust()` function** returns a fixed-length string padded with some special character and justifies (or aligns) it on the right-hand side of the output console. The syntax is `string.rjust(length, character)`\n",
        "\n",
        "Now, write a code to get the following output using the `rjust()` function.\n",
        "\n",
        "```\n",
        "00001\n",
        "00002\n",
        "00003\n",
        "00004\n",
        "00005\n",
        "```\n",
        "\n",
        "Each item in the above output is a string of length `5` padded with `0` and right justified."
      ]
    },
    {
      "cell_type": "code",
      "source": [
        "for i in range(1,6):\n",
        "    print(str(i).rjust(5,\"0\"))"
      ],
      "metadata": {
        "colab": {
          "base_uri": "https://localhost:8080/"
        },
        "id": "gkBs4BDI9S-f",
        "outputId": "00f6ee97-6689-4dbd-8744-e9b8bfc3272c"
      },
      "execution_count": null,
      "outputs": [
        {
          "output_type": "stream",
          "name": "stdout",
          "text": [
            "00001\n",
            "00002\n",
            "00003\n",
            "00004\n",
            "00005\n"
          ]
        }
      ]
    },
    {
      "cell_type": "code",
      "source": [
        "# Activity: Write a code to get the above output using the 'rjust()' function.\n",
        "for i in range(1,6):\n",
        "  print(str(i).rjust(4,\"0\"))"
      ],
      "metadata": {
        "id": "SbmbjJMOT6P9"
      },
      "execution_count": null,
      "outputs": []
    },
    {
      "cell_type": "markdown",
      "metadata": {
        "id": "BC-_dts8XKQ5"
      },
      "source": [
        "**The `center()` function** returns a fixed-length string padded with some special character and justifies (or aligns) it at the center of the output console. The syntax is `string.center(length, character)`\n",
        "\n"
      ]
    },
    {
      "cell_type": "code",
      "source": [
        "# Example: Centering a string with padding characters\n",
        "text = \"Python\"\n",
        "centered_text = text.center(10, '#')\n",
        "print(centered_text)"
      ],
      "metadata": {
        "id": "3vybBcRRUMry",
        "colab": {
          "base_uri": "https://localhost:8080/"
        },
        "outputId": "b3dee37a-b236-4f1a-a018-921a2d6f4482"
      },
      "execution_count": null,
      "outputs": [
        {
          "output_type": "stream",
          "name": "stdout",
          "text": [
            "##Python##\n"
          ]
        }
      ]
    },
    {
      "cell_type": "code",
      "source": [
        "text = \"Python\"\n",
        "centered_text = text.center(15,\"@\")\n",
        "print(centered_text)\n",
        "len(centered_text)"
      ],
      "metadata": {
        "colab": {
          "base_uri": "https://localhost:8080/"
        },
        "id": "ff4hQX7z9k2I",
        "outputId": "2a73e16e-7a98-4a71-ed3a-cde70e0bbca5"
      },
      "execution_count": null,
      "outputs": [
        {
          "output_type": "stream",
          "name": "stdout",
          "text": [
            "@@@@@Python@@@@\n"
          ]
        },
        {
          "output_type": "execute_result",
          "data": {
            "text/plain": [
              "15"
            ]
          },
          "metadata": {},
          "execution_count": 65
        }
      ]
    },
    {
      "cell_type": "markdown",
      "metadata": {
        "id": "1gvWPJgHZY2R"
      },
      "source": [
        "**Note:** If the `character` value is not defined in the `ljust(), rjust()` and `center()` functions, then they take whitespace as the default character."
      ]
    },
    {
      "cell_type": "markdown",
      "metadata": {
        "id": "BXxvHiMXZHyC"
      },
      "source": [
        "---"
      ]
    },
    {
      "cell_type": "markdown",
      "metadata": {
        "id": "Wql1_zNhFaYO"
      },
      "source": [
        "### Activity 5: The `replace()` Function\n",
        "\n",
        "If you want to replace an item in a string with some other item, then you can use the `replace()` function.\n",
        "\n",
        "**Syntax:** `string.replace(item_to_be_replaced, new_item)`\n",
        "\n",
        "Let's learn this concept with the help of an example. Consider the text below.\n",
        "\n",
        "*Who invented the sole? How can we scientifically prove that a sole exists? If the sole is an energy, then what kind of energy it is? The laws of physics state that energy can neither be created nor be destroyed. So, if the sole is an energy, then how does it transfer from one form to another after the death of a person? We know that the laws of physics are universally true. So, it means either the sole is not an energy or it doesn't exist.*\n",
        "\n",
        "The word *soul* has been mistakenly reported as *sole* by a machine because they are *homophone*. Two or more words having the same pronunciation are called *homophone*.\n",
        "\n",
        "We can replace the word *sole* with *soul* using the `replace()` function."
      ]
    },
    {
      "cell_type": "code",
      "metadata": {
        "id": "-SSWzWCWFzQX"
      },
      "source": [
        "# Replace the word 'sole' with 'soul' in the given paragraph.\n",
        "a = \"\"\"\n",
        "Who invented the sole? How can we scientifically prove that a sole exists?\n",
        "If the sole is an energy, then what kind of energy it is?\n",
        "The laws of physics state that energy can neither be created nor be destroyed.\n",
        "So, if the sole is an energy, then how does it transfer from one form to another after the death of a person?\n",
        "We know that the laws of physics are universally true. So, it means either the sole is not an energy or it doesn't exist.\n",
        "\"\"\"\n"
      ],
      "execution_count": null,
      "outputs": []
    },
    {
      "cell_type": "code",
      "source": [
        "a = a.replace(\"sole\",\"soul\")\n",
        "print(a)"
      ],
      "metadata": {
        "colab": {
          "base_uri": "https://localhost:8080/"
        },
        "id": "KE07Ibu2-RNz",
        "outputId": "63cb55a0-a042-46bb-889d-ea196a361e87"
      },
      "execution_count": null,
      "outputs": [
        {
          "output_type": "stream",
          "name": "stdout",
          "text": [
            "\n",
            "Who invented the soul? How can we scientifically prove that a soul exists?\n",
            "If the soul is an energy, then what kind of energy it is?\n",
            "The laws of physics state that energy can neither be created nor be destroyed.\n",
            "So, if the soul is an energy, then how does it transfer from one form to another after the death of a person?\n",
            "We know that the laws of physics are universally true. So, it means either the soul is not an energy or it doesn't exist.\n",
            "\n"
          ]
        }
      ]
    },
    {
      "cell_type": "code",
      "source": [
        "a"
      ],
      "metadata": {
        "colab": {
          "base_uri": "https://localhost:8080/",
          "height": 89
        },
        "id": "XIpJGnUuH1CN",
        "outputId": "fb8073a4-a1e8-4173-bb39-b4227195ba3f"
      },
      "execution_count": null,
      "outputs": [
        {
          "output_type": "execute_result",
          "data": {
            "text/plain": [
              "\"\\nWho invented the soul? How can we scientifically prove that a soul exists?\\nIf the soul is an energy, then what kind of energy it is?\\nThe laws of physics state that energy can neither be created nor be destroyed.\\nSo, if the soul is an energy, then how does it transfer from one form to another after the death of a person?\\nWe know that the laws of physics are universally true. So, it means either the soul is not an energy or it doesn't exist.\\n\""
            ],
            "application/vnd.google.colaboratory.intrinsic+json": {
              "type": "string"
            }
          },
          "metadata": {},
          "execution_count": 87
        }
      ]
    },
    {
      "cell_type": "code",
      "source": [
        "a = a.split(\"\\n\")\n",
        "a"
      ],
      "metadata": {
        "colab": {
          "base_uri": "https://localhost:8080/"
        },
        "id": "gHOgmUIEIHDw",
        "outputId": "f67ab85b-7d64-4c82-ae2c-0ca239ac2b63"
      },
      "execution_count": null,
      "outputs": [
        {
          "output_type": "execute_result",
          "data": {
            "text/plain": [
              "['',\n",
              " 'Who invented the soul? How can we scientifically prove that a soul exists?',\n",
              " 'If the soul is an energy, then what kind of energy it is?',\n",
              " 'The laws of physics state that energy can neither be created nor be destroyed.',\n",
              " 'So, if the soul is an energy, then how does it transfer from one form to another after the death of a person?',\n",
              " \"We know that the laws of physics are universally true. So, it means either the soul is not an energy or it doesn't exist.\",\n",
              " '']"
            ]
          },
          "metadata": {},
          "execution_count": 88
        }
      ]
    },
    {
      "cell_type": "code",
      "source": [
        "type(a)"
      ],
      "metadata": {
        "colab": {
          "base_uri": "https://localhost:8080/"
        },
        "id": "mDJrgHuqIxb6",
        "outputId": "8729a1cc-740f-4ceb-a281-02df6f491723"
      },
      "execution_count": null,
      "outputs": [
        {
          "output_type": "execute_result",
          "data": {
            "text/plain": [
              "list"
            ]
          },
          "metadata": {},
          "execution_count": 89
        }
      ]
    },
    {
      "cell_type": "code",
      "source": [
        "len(a)"
      ],
      "metadata": {
        "colab": {
          "base_uri": "https://localhost:8080/"
        },
        "id": "EBK8C2dpIeWF",
        "outputId": "431afc1a-0c48-412e-b234-a5a32bd8e5f3"
      },
      "execution_count": null,
      "outputs": [
        {
          "output_type": "execute_result",
          "data": {
            "text/plain": [
              "7"
            ]
          },
          "metadata": {},
          "execution_count": 90
        }
      ]
    },
    {
      "cell_type": "code",
      "source": [
        "a.remove(a[0])"
      ],
      "metadata": {
        "id": "S9OTkD2xIq9y"
      },
      "execution_count": null,
      "outputs": []
    },
    {
      "cell_type": "code",
      "source": [
        "a"
      ],
      "metadata": {
        "colab": {
          "base_uri": "https://localhost:8080/"
        },
        "id": "IYZeF4iPJBOn",
        "outputId": "94eeba18-9d2e-499d-ac5c-ec2dfdd72be1"
      },
      "execution_count": null,
      "outputs": [
        {
          "output_type": "execute_result",
          "data": {
            "text/plain": [
              "['Who invented the soul? How can we scientifically prove that a soul exists?',\n",
              " 'If the soul is an energy, then what kind of energy it is?',\n",
              " 'The laws of physics state that energy can neither be created nor be destroyed.',\n",
              " 'So, if the soul is an energy, then how does it transfer from one form to another after the death of a person?',\n",
              " \"We know that the laws of physics are universally true. So, it means either the soul is not an energy or it doesn't exist.\",\n",
              " '']"
            ]
          },
          "metadata": {},
          "execution_count": 92
        }
      ]
    },
    {
      "cell_type": "code",
      "source": [
        "a.remove(a[-1])"
      ],
      "metadata": {
        "id": "XlaIYi1cJE6t"
      },
      "execution_count": null,
      "outputs": []
    },
    {
      "cell_type": "code",
      "source": [
        "a"
      ],
      "metadata": {
        "colab": {
          "base_uri": "https://localhost:8080/"
        },
        "id": "a9ffu30xJN44",
        "outputId": "df08e0a3-d2f9-429a-9f05-e24bc4601595"
      },
      "execution_count": null,
      "outputs": [
        {
          "output_type": "execute_result",
          "data": {
            "text/plain": [
              "['Who invented the soul? How can we scientifically prove that a soul exists?',\n",
              " 'If the soul is an energy, then what kind of energy it is?',\n",
              " 'The laws of physics state that energy can neither be created nor be destroyed.',\n",
              " 'So, if the soul is an energy, then how does it transfer from one form to another after the death of a person?',\n",
              " \"We know that the laws of physics are universally true. So, it means either the soul is not an energy or it doesn't exist.\"]"
            ]
          },
          "metadata": {},
          "execution_count": 94
        }
      ]
    },
    {
      "cell_type": "markdown",
      "source": [
        "`string.rjust(length, character)`"
      ],
      "metadata": {
        "id": "VRdIpqTGADmn"
      }
    },
    {
      "cell_type": "code",
      "source": [
        "len(a[-1])"
      ],
      "metadata": {
        "colab": {
          "base_uri": "https://localhost:8080/"
        },
        "id": "AgziHa2gAMpl",
        "outputId": "8decdaa7-9fb8-4e35-97a3-b7f1452ea725"
      },
      "execution_count": null,
      "outputs": [
        {
          "output_type": "execute_result",
          "data": {
            "text/plain": [
              "121"
            ]
          },
          "metadata": {},
          "execution_count": 95
        }
      ]
    },
    {
      "cell_type": "code",
      "source": [
        "q= \"you\".rjust(10,\"@\")\n",
        "print(q)"
      ],
      "metadata": {
        "colab": {
          "base_uri": "https://localhost:8080/"
        },
        "id": "hD940IOlAqNo",
        "outputId": "60835edf-a325-480a-b37d-db1b5dc1ad1c"
      },
      "execution_count": null,
      "outputs": [
        {
          "output_type": "stream",
          "name": "stdout",
          "text": [
            "@@@@@@@you\n"
          ]
        }
      ]
    },
    {
      "cell_type": "code",
      "source": [
        "for i in a:\n",
        "    j = i.strip(\" \")\n",
        "    print(j.rjust(len(a[-1]),\" \"))"
      ],
      "metadata": {
        "colab": {
          "base_uri": "https://localhost:8080/"
        },
        "id": "IzuXaF1_JZCJ",
        "outputId": "b684d715-25d3-43b2-ad48-1185e012a923"
      },
      "execution_count": null,
      "outputs": [
        {
          "output_type": "stream",
          "name": "stdout",
          "text": [
            "                                               Who invented the soul? How can we scientifically prove that a soul exists?\n",
            "                                                                If the soul is an energy, then what kind of energy it is?\n",
            "                                           The laws of physics state that energy can neither be created nor be destroyed.\n",
            "            So, if the soul is an energy, then how does it transfer from one form to another after the death of a person?\n",
            "We know that the laws of physics are universally true. So, it means either the soul is not an energy or it doesn't exist.\n"
          ]
        }
      ]
    },
    {
      "cell_type": "code",
      "source": [
        "for i in a:\n",
        "    print(i.ljust(len(a[-1]),\"*\"))"
      ],
      "metadata": {
        "colab": {
          "base_uri": "https://localhost:8080/"
        },
        "id": "HtmP5dnsKGan",
        "outputId": "2e82c6ab-9090-4e95-b23f-e2bb92b84a7e"
      },
      "execution_count": null,
      "outputs": [
        {
          "output_type": "stream",
          "name": "stdout",
          "text": [
            "Who invented the soul? How can we scientifically prove that a soul exists?***********************************************\n",
            "If the soul is an energy, then what kind of energy it is?****************************************************************\n",
            "The laws of physics state that energy can neither be created nor be destroyed.*******************************************\n",
            "So, if the soul is an energy, then how does it transfer from one form to another after the death of a person?************\n",
            "We know that the laws of physics are universally true. So, it means either the soul is not an energy or it doesn't exist.\n"
          ]
        }
      ]
    },
    {
      "cell_type": "code",
      "source": [
        "a"
      ],
      "metadata": {
        "colab": {
          "base_uri": "https://localhost:8080/"
        },
        "id": "yEPfWhoxBj6t",
        "outputId": "cf1c6868-a3fc-469a-8ea7-923dcb18f6a8"
      },
      "execution_count": null,
      "outputs": [
        {
          "output_type": "execute_result",
          "data": {
            "text/plain": [
              "['Who invented the soul? How can we scientifically prove that a soul exists?',\n",
              " 'If the soul is an energy, then what kind of energy it is?',\n",
              " 'The laws of physics state that energy can neither be created nor be destroyed.',\n",
              " 'So, if the soul is an energy, then how does it transfer from one form to another after the death of a person?',\n",
              " \"We know that the laws of physics are universally true. So, it means either the soul is not an energy or it doesn't exist.\"]"
            ]
          },
          "metadata": {},
          "execution_count": 99
        }
      ]
    },
    {
      "cell_type": "markdown",
      "source": [
        "**Note:** If you print a multiline string without using the `print()` function, then you will get a single-line string containing the newline `\\n` character. In fact, this is how all the multiline strings are stored in Python."
      ],
      "metadata": {
        "id": "PfoEekpOylQy"
      }
    },
    {
      "cell_type": "markdown",
      "metadata": {
        "id": "g7Ke-E7hpwS8"
      },
      "source": [
        "---"
      ]
    },
    {
      "cell_type": "markdown",
      "metadata": {
        "id": "WZuh0OGvpxqo"
      },
      "source": [
        "### Activity 6: The Escape Character (`\\`)\n",
        "\n",
        "Sometimes you might have to create a string which would contain a combination of single quotes (`''`), double quotes (`\"\"`) or an apostrophe (`'`). In such cases, Python will terminate the string before it is complete. To create such strings, you can use the **escape character** represented by backslash sign (`\\`).\n"
      ]
    },
    {
      "cell_type": "code",
      "source": [
        "print(\"nagour's orange\")"
      ],
      "metadata": {
        "colab": {
          "base_uri": "https://localhost:8080/"
        },
        "id": "imBkaxQwB4Sy",
        "outputId": "6e59d32a-4ad9-4852-81d9-5cfbb13bd1ef"
      },
      "execution_count": null,
      "outputs": [
        {
          "output_type": "stream",
          "name": "stdout",
          "text": [
            "nagour's orange\n"
          ]
        }
      ]
    },
    {
      "cell_type": "code",
      "source": [
        "# Example: Creating a string with single quotes using the escape character\n",
        "print( \"She said 'That's fine' and left.\")"
      ],
      "metadata": {
        "colab": {
          "base_uri": "https://localhost:8080/"
        },
        "id": "RYFI7M9MCELU",
        "outputId": "c37e677d-9d22-4f92-c63c-134094808438"
      },
      "execution_count": null,
      "outputs": [
        {
          "output_type": "stream",
          "name": "stdout",
          "text": [
            "She said 'That's fine' and left.\n"
          ]
        }
      ]
    },
    {
      "cell_type": "code",
      "metadata": {
        "id": "1fm0xW6ip2_V",
        "colab": {
          "base_uri": "https://localhost:8080/"
        },
        "outputId": "bdfa2ef9-21fa-4e26-efd8-10eb82493618"
      },
      "source": [
        "# Example: Creating a string with single quotes using the escape character\n",
        "sentence_single_quotes = 'She said \\'That\\'s fine\\' and left.'\n",
        "print(sentence_single_quotes)"
      ],
      "execution_count": null,
      "outputs": [
        {
          "output_type": "stream",
          "name": "stdout",
          "text": [
            "She said 'That's fine' and left.\n"
          ]
        }
      ]
    },
    {
      "cell_type": "markdown",
      "metadata": {
        "id": "g15ezx0gdLHR"
      },
      "source": [
        "To create the given string using single-quotes, you will have to put one backslash before `'That...` as shown below\n",
        "\n",
        "`\\'That...`\n",
        "\n",
        "and one backslash before `' and...\"` as shown below\n",
        "\n",
        "`\\' and...'`"
      ]
    },
    {
      "cell_type": "markdown",
      "metadata": {
        "id": "0OMi1V9osRiW"
      },
      "source": [
        "---"
      ]
    },
    {
      "cell_type": "markdown",
      "metadata": {
        "id": "uSbF9A2m8Hm4"
      },
      "source": [
        "### Activity 7: The `format()` Function\n",
        "\n",
        "The `format()` function allows you to format strings by placing placeholders in the string and replacing them with specified values.\n",
        "\n",
        "**Syntax:**\n",
        "\n",
        "`formatted_string = \"String with {} placeholders\".format(value)`\n",
        "\n",
        "Here's a breakdown of its components:\n",
        "\n",
        "- `{}`: This is a placeholder where values will be inserted.\n",
        "- `.format(value)`: This method replaces the placeholder {} with the value provided.\n"
      ]
    },
    {
      "cell_type": "code",
      "source": [
        "#Example\n",
        "\n",
        "name = input(\"please enter your name:\")\n",
        "age = input(\"please mention your age:\")\n",
        "formatted_string = \"My name is {} and I am {} years old.\".format(name, age)\n",
        "print(formatted_string)"
      ],
      "metadata": {
        "id": "3DtvncOmg6da",
        "colab": {
          "base_uri": "https://localhost:8080/"
        },
        "outputId": "3a0b69d5-35a5-4efc-9666-d31b9d4a3020"
      },
      "execution_count": null,
      "outputs": [
        {
          "output_type": "stream",
          "name": "stdout",
          "text": [
            "please enter your name:john\n",
            "please mention your age:john\n",
            "My name is john and I am john years old.\n"
          ]
        }
      ]
    },
    {
      "cell_type": "code",
      "source": [
        "# Example: Formatting a Greeting Message\n",
        "#Data\n",
        "name = \"Alice\"\n",
        "age = 25\n",
        "city = \"New York\"\n",
        "\n",
        "# Using format() function\n",
        "greeting = \"Hello, my name is {}. I am {} years old and I live in {}.\".format(name, age, city)\n",
        "\n",
        "# Printing the formatted string\n",
        "print(greeting)"
      ],
      "metadata": {
        "id": "IwQMXy6pKtY_",
        "colab": {
          "base_uri": "https://localhost:8080/"
        },
        "outputId": "b79efe39-5b54-48c5-c0f9-d5195969a09f"
      },
      "execution_count": null,
      "outputs": [
        {
          "output_type": "stream",
          "name": "stdout",
          "text": [
            "Hello, my name is Alice. I am 25 years old and I live in New York.\n"
          ]
        }
      ]
    },
    {
      "cell_type": "markdown",
      "source": [
        "**Labelling Placeholders**\n",
        "\n",
        "When there are too many placeholders to fill, you might lose a track of what value to put to what placeholder. In such cases, the better approach is to label the placeholders in such a way that they describe the values to put to the placeholders."
      ],
      "metadata": {
        "id": "Ne6ZdUEnK4Ya"
      }
    },
    {
      "cell_type": "code",
      "source": [
        "# Example: Formatting a Greeting Message\n",
        "#Data\n",
        "name = \"Alice\"\n",
        "age = 25\n",
        "city = \"New York\"\n",
        "\n",
        "# Using format() function\n",
        "greeting = \"Hello, my name is {a}. I am {b} years old and I live in {c}.\".format(a = name, b=age, c=city)\n",
        "\n",
        "# Printing the formatted string\n",
        "print(greeting)"
      ],
      "metadata": {
        "id": "VlT4m4gThSD_",
        "colab": {
          "base_uri": "https://localhost:8080/"
        },
        "outputId": "5c225f48-0706-45d5-d649-b445f86c4581"
      },
      "execution_count": null,
      "outputs": [
        {
          "output_type": "stream",
          "name": "stdout",
          "text": [
            "Hello, my name is Alice. I am 25 years old and I live in New York.\n"
          ]
        }
      ]
    },
    {
      "cell_type": "code",
      "source": [
        "#Example: Formatting a Product Listing\n",
        "\n",
        "# Data\n",
        "product = \"Laptop\"\n",
        "price = 79999\n",
        "quantity = 5\n",
        "\n",
        "# Using format() function with labeled placeholders\n",
        "product_listing = \"Product: {product}, Price: {price}, Quantity: {quantity}\".format(\n",
        "    product=product, price=price, quantity=quantity)\n",
        "\n",
        "# Printing the formatted string\n",
        "print(product_listing)"
      ],
      "metadata": {
        "id": "E1yvwsUxKzO5",
        "colab": {
          "base_uri": "https://localhost:8080/"
        },
        "outputId": "ce3fa9b0-e6b1-4812-f56b-0b73c0e61f0e"
      },
      "execution_count": null,
      "outputs": [
        {
          "output_type": "stream",
          "name": "stdout",
          "text": [
            "Product: Laptop, Price: 79999, Quantity: 5\n"
          ]
        }
      ]
    },
    {
      "cell_type": "markdown",
      "source": [
        "As you can see, we have labelled the placeholders with the to determine which value to assign to which placeholder. Then, using the `format()` function, we have assigned the values to their respective placeholders.\n"
      ],
      "metadata": {
        "id": "Lwy-95VJixWw"
      }
    },
    {
      "cell_type": "markdown",
      "metadata": {
        "id": "lmAATGWoRaoh"
      },
      "source": [
        "### Activity 8: Zero Padding\n",
        "\n",
        "Zero padding is a technique used to ensure that numbers are displayed with a fixed width by adding leading zeros if necessary. This is particularly useful when you want to align numbers in a table or when you need to format numbers in a specific way.\n",
        "\n",
        "You can print a single-digit number as an $n$-digit number, such that the first $(n - 1)$ digits are zeros, using the `format()` function. E.g., you can print 5 as 005. To do this, you have to put the `:0n` flag inside a placeholder where `n` is the number of digits to be displayed in the final number.\n",
        "\n",
        "\n",
        "To zero pad a number using the `format()` function, you use the `:0n` flag inside the placeholder. Here, n is the total width of the final number, including the zeros and the original number.\n",
        "\n",
        "**Syntax:** `\"{:0n}\".format(number)`\n",
        "\n",
        "`{}` is the placeholder for the value to be formatted.\n",
        "\n",
        "`:` introduces the format specification.\n",
        "\n",
        "`0` indicates that you want to pad with zeros.\n",
        "\n",
        "`n` is the total width of the final number.\n"
      ]
    },
    {
      "cell_type": "code",
      "source": [
        "print(\"{:05}\".format(\"t\"))"
      ],
      "metadata": {
        "id": "4gXwV2p0eNt7",
        "colab": {
          "base_uri": "https://localhost:8080/"
        },
        "outputId": "9ccbab86-1020-48ab-b3a2-ecd0bfbb875c"
      },
      "execution_count": null,
      "outputs": [
        {
          "output_type": "stream",
          "name": "stdout",
          "text": [
            "t0000\n"
          ]
        }
      ]
    },
    {
      "cell_type": "code",
      "source": [
        "print(\"{:05}\".format(\"2\"))"
      ],
      "metadata": {
        "colab": {
          "base_uri": "https://localhost:8080/"
        },
        "id": "rene10hbNrz1",
        "outputId": "893efb02-8557-49a7-afe3-4f1c9ad6b888"
      },
      "execution_count": null,
      "outputs": [
        {
          "output_type": "stream",
          "name": "stdout",
          "text": [
            "20000\n"
          ]
        }
      ]
    },
    {
      "cell_type": "code",
      "source": [
        "t= \"{:05}\".format(2)\n",
        "type(t)"
      ],
      "metadata": {
        "id": "RdbmCqSPNvOu"
      },
      "execution_count": null,
      "outputs": []
    },
    {
      "cell_type": "code",
      "source": [
        "print(\"{:05}\".format(2))"
      ],
      "metadata": {
        "id": "cva_lYW4N4Xa"
      },
      "execution_count": null,
      "outputs": []
    },
    {
      "cell_type": "code",
      "source": [
        "a = \"{:05}\".format(\"2\")\n",
        "type(a)"
      ],
      "metadata": {
        "id": "g-XiArvvOl8s"
      },
      "execution_count": null,
      "outputs": []
    },
    {
      "cell_type": "code",
      "metadata": {
        "id": "X3fcNxgeUnSM"
      },
      "source": [
        "#Print the natural numbers between 5 and 15 as three-digit numbers.\n",
        "for i in range(5,16):\n",
        "  print(\"{:03}\".format(i))"
      ],
      "execution_count": null,
      "outputs": []
    },
    {
      "cell_type": "markdown",
      "source": [
        "**Aligning Numbers in a Table**\n",
        "When printing numbers in a table, zero padding ensures that all numbers align correctly in their respective columns, making the table easier to read."
      ],
      "metadata": {
        "id": "l-DFhAcAGr3k"
      }
    },
    {
      "cell_type": "code",
      "source": [
        "#Example\n",
        "numbers = [1, 23, 456, 7890]\n",
        "for num in numbers:\n",
        "    print(\"{:04}\".format(num))"
      ],
      "metadata": {
        "id": "bMHS-gCgGme3"
      },
      "execution_count": null,
      "outputs": []
    },
    {
      "cell_type": "code",
      "source": [
        "#Example\n",
        "data = [\n",
        "    [1, 23, 456],\n",
        "    [78, 9, 345],\n",
        "    [12, 34, 5]\n",
        "]\n",
        "\n",
        "# Print the table with zero-padded numbers\n",
        "for row in data:\n",
        "    for number in row:\n",
        "        print(\"{:04}\".format(number), end=\",\")\n",
        "    print()"
      ],
      "metadata": {
        "id": "q_1-Q_15HKeV"
      },
      "execution_count": null,
      "outputs": []
    },
    {
      "cell_type": "markdown",
      "source": [
        "**Formatting Dates**\n",
        "Zero padding is often used in date formatting to ensure that day and month numbers are always two digits.\n",
        "\n"
      ],
      "metadata": {
        "id": "m39Wdfh-G1Nw"
      }
    },
    {
      "cell_type": "code",
      "source": [
        "#Example\n",
        "day = 7\n",
        "month = 3\n",
        "year = 2024\n",
        "formatted_date = \"{:02}/{:02}/{}\".format(day, month, year)\n",
        "print(formatted_date)"
      ],
      "metadata": {
        "colab": {
          "base_uri": "https://localhost:8080/"
        },
        "id": "wyJFDQJdG0sb",
        "outputId": "ac64a574-705b-4320-a53b-6a405c21073a"
      },
      "execution_count": null,
      "outputs": [
        {
          "output_type": "stream",
          "name": "stdout",
          "text": [
            "07/03/2024\n"
          ]
        }
      ]
    },
    {
      "cell_type": "markdown",
      "metadata": {
        "id": "zyv1zQ-OchO0"
      },
      "source": [
        "---"
      ]
    },
    {
      "cell_type": "markdown",
      "metadata": {
        "id": "1y6V_VjtSJKA"
      },
      "source": [
        "### Activity 9: Digits After Decimal\n",
        "\n",
        "\n",
        "Similarly `format()` function in Python allows you to control the number of digits displayed after the decimal point. This is particularly useful when you need to present numerical data in a standardized format, such as rounding values to a specific precision for reporting or display purposes.\n",
        "\n",
        "\n",
        "\n",
        "To do this, you have to put the `:.nf` flag inside a placeholder where `n` is the number of digits to be displayed after the decimal point.\n",
        "\n",
        "**Syntax:** `\"{:.nf}\".format(number)`\n",
        "\n",
        "`{} `is the placeholder for the value to be formatted.\n",
        "\n",
        "`:` introduces the format specification.\n",
        "\n",
        "`.n` specifies the number of digits after the decimal point.\n",
        "\n",
        "`f `indicates that the number is a floating-point number."
      ]
    },
    {
      "cell_type": "code",
      "source": [
        "print(\"{:.3f}\".format(5.6783456))"
      ],
      "metadata": {
        "id": "QHjJtyH0eYJa",
        "colab": {
          "base_uri": "https://localhost:8080/"
        },
        "outputId": "24e87194-679b-4635-d1e7-42946effee35"
      },
      "execution_count": null,
      "outputs": [
        {
          "output_type": "stream",
          "name": "stdout",
          "text": [
            "5.678\n"
          ]
        }
      ]
    },
    {
      "cell_type": "code",
      "source": [
        "print(\"{:.1f}\".format(5.6783456))"
      ],
      "metadata": {
        "id": "C9BnvJTreaT-",
        "colab": {
          "base_uri": "https://localhost:8080/"
        },
        "outputId": "247db6ba-fc23-4833-c198-eb965d7bd556"
      },
      "execution_count": null,
      "outputs": [
        {
          "output_type": "stream",
          "name": "stdout",
          "text": [
            "5.7\n"
          ]
        }
      ]
    },
    {
      "cell_type": "markdown",
      "source": [
        "Let's say you have a list of average monthly temperatures (in Celsius) for a city and you want to print them rounded to one decimal place."
      ],
      "metadata": {
        "id": "I0rH0gjqIXUN"
      }
    },
    {
      "cell_type": "code",
      "metadata": {
        "id": "9wiB5tbDYtFL",
        "colab": {
          "base_uri": "https://localhost:8080/"
        },
        "outputId": "cd932871-3601-43f2-c32c-814d510e538d"
      },
      "source": [
        "temperatures = [23.456, 24.789, 22.334, 21.567, 23.987]\n",
        "\n",
        "# Using format() function to display temperatures rounded to one decimal place\n",
        "for temp in temperatures:\n",
        "    formatted_temp = \"{:.1f}\".format(temp)\n",
        "    print(formatted_temp)"
      ],
      "execution_count": null,
      "outputs": [
        {
          "output_type": "stream",
          "name": "stdout",
          "text": [
            "23.5\n",
            "24.8\n",
            "22.3\n",
            "21.6\n",
            "24.0\n"
          ]
        }
      ]
    },
    {
      "cell_type": "markdown",
      "metadata": {
        "id": "9wMFHOlAclWs"
      },
      "source": [
        "---"
      ]
    },
    {
      "cell_type": "markdown",
      "metadata": {
        "id": "Ib4wDLMobzq2"
      },
      "source": [
        "###  Activity 10: Commas After Digits\n",
        "When dealing with large numbers, it's often useful to format them with commas to make them easier to read. The `format()` function in Python provides a simple way to insert commas in large numbers.\n",
        "\n",
        "To do this, you need to put the `:,` flag inside a placeholder.\n",
        "\n",
        "**Syntax:** `\"{:,}\".format(number)`"
      ]
    },
    {
      "cell_type": "code",
      "source": [
        "print(\"{:,}\".format(2898392090909099999090900))\n"
      ],
      "metadata": {
        "id": "XKzuI5czeiE9",
        "colab": {
          "base_uri": "https://localhost:8080/"
        },
        "outputId": "9634ff48-30ac-416c-9b01-326bde354490"
      },
      "execution_count": null,
      "outputs": [
        {
          "output_type": "stream",
          "name": "stdout",
          "text": [
            "2,898,392,090,909,099,999,090,900\n"
          ]
        }
      ]
    },
    {
      "cell_type": "markdown",
      "source": [
        "\n",
        "Let's Consider a list of population data for different countries. You can format each population number with commas for clarity.\n",
        "\n"
      ],
      "metadata": {
        "id": "f080xs5aJRy0"
      }
    },
    {
      "cell_type": "code",
      "metadata": {
        "id": "_i1G90u9dSlO",
        "colab": {
          "base_uri": "https://localhost:8080/"
        },
        "outputId": "93ee1383-7f57-42cc-d53c-97786333c6e2"
      },
      "source": [
        "#Example\n",
        "populations = [331002651, 1380004385, 212559417, 145934462]\n",
        "\n",
        "# Using format() function to add commas to each population number\n",
        "for population in populations:\n",
        "    formatted_population = \"{:,}\".format(population)\n",
        "    print(formatted_population)"
      ],
      "execution_count": null,
      "outputs": [
        {
          "output_type": "stream",
          "name": "stdout",
          "text": [
            "331,002,651\n",
            "1,380,004,385\n",
            "212,559,417\n",
            "145,934,462\n"
          ]
        }
      ]
    },
    {
      "cell_type": "markdown",
      "metadata": {
        "id": "ktVEwIyve-Ac"
      },
      "source": [
        "In the above case, you can also print digits after the decimal point along with the commas."
      ]
    },
    {
      "cell_type": "markdown",
      "metadata": {
        "id": "iPN_Ns0gTmRx"
      },
      "source": [
        "### Activity 11: The `f-strings`\n",
        "\n",
        "The `f-strings` is a cleaner and a faster way of formatting a string as compared to the `format()` function. The concepts of zero paddings, digits after the decimal point, commas after digits etc. are also applicable in case of the formatting through `f` literal in the exact same way.  However, the `f-strings` are applicable only to the newer versions of Python, specifically, version 3.6 and above. f-strings provide a more readable and concise way to embed expressions inside string literals using curly braces `{}`.\n",
        "\n",
        "Introduction of `f-string` does not necessarily mean that the `format()` function has become irrelevant. Many Python programmers still use the `format()` function to make their code compatible with the older versions of Python. It is also more convenient while working with multiline strings.\n",
        "\n",
        "Before we learn formatting through the literal `f`, let's check the Python version installed on Colab notebooks by Google. You can do this by writing the `!python --version` bash command.\n",
        "\n",
        "**Note:**\n",
        "\n",
        "1. Every notebook has the same version of Python installed.\n",
        "\n",
        "2. If you are working on a terminal window of a Linux/Unix based machine, then you don't have to use the exclamation mark in the bash command, i.e., the command becomes `python --version`."
      ]
    },
    {
      "cell_type": "markdown",
      "source": [
        "**Why Use f-strings?**\n",
        "- Readability: `f-strings` are more readable and easier to understand.\n",
        "- Performance: `f-strings` are faster than the `format()` function.\n",
        "- Flexibility: All formatting options available in the `format()` function are also available in `f-strings`.\n"
      ],
      "metadata": {
        "id": "QZIlSoOyVABh"
      }
    },
    {
      "cell_type": "code",
      "metadata": {
        "id": "O6BSGQXnrtMQ",
        "colab": {
          "base_uri": "https://localhost:8080/"
        },
        "outputId": "e48b9d72-caa0-4ca9-d91a-dbffb959aa1e"
      },
      "source": [
        "#Check the version of Python installed on Colab notebooks.\n",
        "!python --version"
      ],
      "execution_count": null,
      "outputs": [
        {
          "output_type": "stream",
          "name": "stdout",
          "text": [
            "Python 3.10.12\n"
          ]
        }
      ]
    },
    {
      "cell_type": "code",
      "source": [
        "# formatting using f literal\n",
        "name = \"Diksha\"\n",
        "age = 25\n",
        "greeting = f\"Hello, my name is {name} and I am {age} years old.\"\n",
        "print(greeting)"
      ],
      "metadata": {
        "colab": {
          "base_uri": "https://localhost:8080/"
        },
        "id": "OkRVXclyVfep",
        "outputId": "2a289bc2-305f-45b1-c9fa-444d76c0cc15"
      },
      "execution_count": null,
      "outputs": [
        {
          "output_type": "stream",
          "name": "stdout",
          "text": [
            "Hello, my name is Diksha and I am 25 years old.\n"
          ]
        }
      ]
    },
    {
      "cell_type": "markdown",
      "source": [
        "Notice how variables name and age are directly embedded inside the string using curly braces `{}`.\n",
        "\n"
      ],
      "metadata": {
        "id": "pKutybZ2bMNi"
      }
    },
    {
      "cell_type": "code",
      "source": [
        "#formatting using format() function\n",
        "a = \"diksha\"\n",
        "b = 15\n",
        "greet=\"hello, my name is {} and I am {}\".format(a,b)\n",
        "greet"
      ],
      "metadata": {
        "colab": {
          "base_uri": "https://localhost:8080/",
          "height": 35
        },
        "id": "MfcocPdxUKUm",
        "outputId": "70252e96-5009-4446-bf4e-9bdef9b450e1"
      },
      "execution_count": null,
      "outputs": [
        {
          "output_type": "execute_result",
          "data": {
            "text/plain": [
              "'hello, my name is diksha and I am 15'"
            ],
            "application/vnd.google.colaboratory.intrinsic+json": {
              "type": "string"
            }
          },
          "metadata": {},
          "execution_count": 90
        }
      ]
    },
    {
      "cell_type": "markdown",
      "source": [
        "**Zero Padding with f-strings**\n",
        "\n",
        "You can use f-strings to format numbers with leading zeros. The syntax is the same as with the `format()` function:"
      ],
      "metadata": {
        "id": "2OQmEgeTbbIZ"
      }
    },
    {
      "cell_type": "code",
      "source": [
        "#Example\n",
        "number = 5\n",
        "formatted_number = f\"{number:03}\"\n",
        "print(formatted_number)"
      ],
      "metadata": {
        "colab": {
          "base_uri": "https://localhost:8080/"
        },
        "id": "aqS3q6a5bgOH",
        "outputId": "d8497464-4ed2-4477-fb4d-83dad7638b64"
      },
      "execution_count": null,
      "outputs": [
        {
          "output_type": "stream",
          "name": "stdout",
          "text": [
            "005\n"
          ]
        }
      ]
    },
    {
      "cell_type": "code",
      "source": [
        "f\"{3:05}\""
      ],
      "metadata": {
        "colab": {
          "base_uri": "https://localhost:8080/",
          "height": 35
        },
        "id": "BVhVK1vASu4y",
        "outputId": "88cb31ef-f3cb-44bc-8a20-e411b92055f7"
      },
      "execution_count": null,
      "outputs": [
        {
          "output_type": "execute_result",
          "data": {
            "text/plain": [
              "'00003'"
            ],
            "application/vnd.google.colaboratory.intrinsic+json": {
              "type": "string"
            }
          },
          "metadata": {},
          "execution_count": 96
        }
      ]
    },
    {
      "cell_type": "code",
      "source": [
        "\"${:03}\".format(5)"
      ],
      "metadata": {
        "colab": {
          "base_uri": "https://localhost:8080/",
          "height": 35
        },
        "id": "pzJeJJedSftc",
        "outputId": "735c436f-f02f-4860-e918-0baf00c1fc20"
      },
      "execution_count": null,
      "outputs": [
        {
          "output_type": "execute_result",
          "data": {
            "text/plain": [
              "'$005'"
            ],
            "application/vnd.google.colaboratory.intrinsic+json": {
              "type": "string"
            }
          },
          "metadata": {},
          "execution_count": 101
        }
      ]
    },
    {
      "cell_type": "markdown",
      "source": [
        "**Rounding Off Decimals with f-strings**\n",
        "\n",
        "You can control the number of digits after the decimal point in floating-point numbers:"
      ],
      "metadata": {
        "id": "WuUH_EUIboKK"
      }
    },
    {
      "cell_type": "code",
      "source": [
        "#Example\n",
        "pi = 3.14159\n",
        "formatted_pi = f\"{pi:.2f}\"\n",
        "print(formatted_pi)"
      ],
      "metadata": {
        "colab": {
          "base_uri": "https://localhost:8080/"
        },
        "id": "eQjpMqpLbvZN",
        "outputId": "424f1f1e-db3a-471f-8ece-a893b37c73a7"
      },
      "execution_count": null,
      "outputs": [
        {
          "output_type": "stream",
          "name": "stdout",
          "text": [
            "3.14\n"
          ]
        }
      ]
    },
    {
      "cell_type": "markdown",
      "source": [
        "**Adding Commas with f-strings**\n",
        "\n",
        "For large numbers, you can add commas to separate thousands:"
      ],
      "metadata": {
        "id": "we6KCGYGb0lp"
      }
    },
    {
      "cell_type": "code",
      "source": [
        "#Example\n",
        "large_number = 1234567890\n",
        "formatted_number = f\"{large_number:,}\"\n",
        "print(formatted_number)"
      ],
      "metadata": {
        "colab": {
          "base_uri": "https://localhost:8080/"
        },
        "id": "tdSgx8tmb4-1",
        "outputId": "60a67d48-f7d5-4d7b-a687-8ca5cdb80fd0"
      },
      "execution_count": null,
      "outputs": [
        {
          "output_type": "stream",
          "name": "stdout",
          "text": [
            "1,234,567,890\n"
          ]
        }
      ]
    },
    {
      "cell_type": "markdown",
      "source": [
        "Imagine you are creating a price list for a store. You want to format the prices to include two decimal places and commas."
      ],
      "metadata": {
        "id": "DNLEfnOxb_aq"
      }
    },
    {
      "cell_type": "code",
      "source": [
        "#Example\n",
        "prices = [1234.5, 56789.123, 987654.321]\n",
        "formatted_prices = [f\"${price:,.2f}\" for price in prices]\n",
        "for price in formatted_prices:\n",
        "    print(price)"
      ],
      "metadata": {
        "colab": {
          "base_uri": "https://localhost:8080/"
        },
        "id": "FELPEC92cB41",
        "outputId": "0a56e2c3-6e08-4680-ba7b-8d121b82f529"
      },
      "execution_count": null,
      "outputs": [
        {
          "output_type": "stream",
          "name": "stdout",
          "text": [
            "$1,234.50\n",
            "$56,789.12\n",
            "$987,654.32\n"
          ]
        }
      ]
    },
    {
      "cell_type": "markdown",
      "source": [
        "You are creating a scoreboard for a game. You want to display the scores with leading zeros so that they are always three digits long."
      ],
      "metadata": {
        "id": "rhhk_1PAcLCZ"
      }
    },
    {
      "cell_type": "code",
      "source": [
        "#Example\n",
        "scores = [7, 42, 105]\n",
        "formatted_scores = [f\"{score:03}\" for score in scores]\n",
        "for score in formatted_scores:\n",
        "    print(score)\n"
      ],
      "metadata": {
        "colab": {
          "base_uri": "https://localhost:8080/"
        },
        "id": "ETJfyxHfcNzp",
        "outputId": "4c28aabf-641f-4756-94a5-50bb5987dc92"
      },
      "execution_count": null,
      "outputs": [
        {
          "output_type": "stream",
          "name": "stdout",
          "text": [
            "007\n",
            "042\n",
            "105\n"
          ]
        }
      ]
    },
    {
      "cell_type": "markdown",
      "source": [
        "Format a list of dates to include leading zeros for single-digit days and months."
      ],
      "metadata": {
        "id": "r48EuO7vcnXO"
      }
    },
    {
      "cell_type": "code",
      "source": [
        "#Example\n",
        "dates = [(1, 2, 2024), (12, 11, 2023), (7, 8, 2025)]\n",
        "formatted_dates = [f\"{day:02}/{month:02}/{year}\" for day, month, year in dates]\n",
        "for date in formatted_dates:\n",
        "    print(date)"
      ],
      "metadata": {
        "colab": {
          "base_uri": "https://localhost:8080/"
        },
        "id": "pR0FhFKxce-u",
        "outputId": "ef2975b0-60f6-4750-b656-f7d6ba7c7771"
      },
      "execution_count": null,
      "outputs": [
        {
          "output_type": "stream",
          "name": "stdout",
          "text": [
            "01/02/2024\n",
            "12/11/2023\n",
            "07/08/2025\n"
          ]
        }
      ]
    },
    {
      "cell_type": "markdown",
      "metadata": {
        "id": "n6UohjVSsS9N"
      },
      "source": [
        "The literal `f`, works exactly like the `format()` function. You simply have to write a final version of a string containing placeholders. The placeholders need to be labelled with the variable names that contain the values to be placed in the respective placeholders.\n",
        "\n"
      ]
    },
    {
      "cell_type": "markdown",
      "metadata": {
        "id": "4wmQBtbRSoWm"
      },
      "source": [
        "---"
      ]
    },
    {
      "cell_type": "markdown",
      "metadata": {
        "id": "axbwCPPkSpRh"
      },
      "source": [
        "### Activity 12: Mathematical Operations Inside Placeholders\n",
        "\n",
        "You can also perform mathematical operations inside the placeholders.\n",
        "\n",
        "In Python, `f-strings` (formatted string literals) offer a powerful feature where you can embed expressions, including mathematical operations, directly inside the placeholders. This makes it convenient to compute values on-the-fly and include them in your formatted strings. Let's explore this feature in detail with examples."
      ]
    },
    {
      "cell_type": "markdown",
      "source": [
        "**Mathematical Operations Inside f-strings**\n",
        "\n",
        "You can perform mathematical operations directly inside the curly braces `{}` of an `f-string`. This allows you to compute values and format them dynamically within your string."
      ],
      "metadata": {
        "id": "heQDDakaeBdg"
      }
    },
    {
      "cell_type": "markdown",
      "source": [
        "Let's start with a simple example of adding two numbers inside an `f-string`:"
      ],
      "metadata": {
        "id": "P7LN_C0neJJQ"
      }
    },
    {
      "cell_type": "code",
      "source": [
        "#Example 1: Addition\n",
        "a = 10\n",
        "b = 20\n",
        "result = f\"The sum of {a} and {b} is {a + b}.\"\n",
        "print(result)"
      ],
      "metadata": {
        "colab": {
          "base_uri": "https://localhost:8080/"
        },
        "id": "wHnkMLvieN13",
        "outputId": "ee45068d-31fa-4519-9d25-83db2115c2b2"
      },
      "execution_count": null,
      "outputs": [
        {
          "output_type": "stream",
          "name": "stdout",
          "text": [
            "The sum of 10 and 20 is 30.\n"
          ]
        }
      ]
    },
    {
      "cell_type": "markdown",
      "source": [
        "You can also perform multiplication and division operations:"
      ],
      "metadata": {
        "id": "QvbxuygceWuK"
      }
    },
    {
      "cell_type": "code",
      "source": [
        "#You can also perform mathematical operations inside the placeholders.\n",
        "print(f\"{2 * 10}\")"
      ],
      "metadata": {
        "colab": {
          "base_uri": "https://localhost:8080/"
        },
        "id": "V0ZJmYc3dKsx",
        "outputId": "6c853743-1de9-47eb-b386-9a4a6266bfc0"
      },
      "execution_count": null,
      "outputs": [
        {
          "output_type": "stream",
          "name": "stdout",
          "text": [
            "20\n"
          ]
        }
      ]
    },
    {
      "cell_type": "code",
      "source": [
        "#Example 2: Multiplication and Division\n",
        "num1 = 15\n",
        "num2 = 3\n",
        "result_mult = f\"The product of {num1} and {num2} is {num1 * num2}.\"\n",
        "result_div = f\"The division of {num1} by {num2} is {num1 / num2}.\"\n",
        "print(result_mult)\n",
        "print(result_div)\n"
      ],
      "metadata": {
        "colab": {
          "base_uri": "https://localhost:8080/"
        },
        "id": "B_0j1H8ZeaFa",
        "outputId": "10b9a92f-5762-4c21-f9da-e9915107d70f"
      },
      "execution_count": null,
      "outputs": [
        {
          "output_type": "stream",
          "name": "stdout",
          "text": [
            "The product of 15 and 3 is 45.\n",
            "The division of 15 by 3 is 5.0.\n"
          ]
        }
      ]
    },
    {
      "cell_type": "code",
      "source": [
        "#example\n",
        "num_of_pens = 5\n",
        "cost_of_each = 3\n",
        "total_cost = \" Since you have purchased {} pens, total cost is {} Rs \"\n",
        "print(total_cost.format(num_of_pens, num_of_pens * cost_of_each))"
      ],
      "metadata": {
        "colab": {
          "base_uri": "https://localhost:8080/"
        },
        "id": "Tq9EErKIdMa8",
        "outputId": "9bb5ec6f-fa24-457f-d980-ddc1b550348f"
      },
      "execution_count": null,
      "outputs": [
        {
          "output_type": "stream",
          "name": "stdout",
          "text": [
            " Since you have purchased 5 pens, total cost is 15 Rs \n"
          ]
        }
      ]
    },
    {
      "cell_type": "code",
      "source": [
        "# temperature conversion\n",
        "fahrenheit = 98.6\n",
        "celsius = (fahrenheit - 32) * 5 / 9\n",
        "result = f\"{fahrenheit} degrees Fahrenheit is {celsius:.2f} degrees Celsius.\"\n",
        "print(result)"
      ],
      "metadata": {
        "colab": {
          "base_uri": "https://localhost:8080/"
        },
        "id": "BDAx_NuLels8",
        "outputId": "6f0b8858-ee56-48bf-f9b8-f3dd01e8d0a8"
      },
      "execution_count": null,
      "outputs": [
        {
          "output_type": "stream",
          "name": "stdout",
          "text": [
            "98.6 degrees Fahrenheit is 37.00 degrees Celsius.\n"
          ]
        }
      ]
    },
    {
      "cell_type": "code",
      "source": [
        "#simple interest calculator\n",
        "principal = 1000\n",
        "rate = 5\n",
        "time = 2\n",
        "simple_interest = principal * rate * time / 100\n",
        "result = f\"Simple Interest: {simple_interest}.\"\n",
        "print(result)"
      ],
      "metadata": {
        "colab": {
          "base_uri": "https://localhost:8080/"
        },
        "id": "1uUFP-ccergc",
        "outputId": "eab94f06-7bfa-471c-eed4-8dd8671cfd0c"
      },
      "execution_count": null,
      "outputs": [
        {
          "output_type": "stream",
          "name": "stdout",
          "text": [
            "Simple Interest: 100.0.\n"
          ]
        }
      ]
    }
  ]
}