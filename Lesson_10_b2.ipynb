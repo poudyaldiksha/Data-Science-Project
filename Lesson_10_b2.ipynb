{
  "nbformat": 4,
  "nbformat_minor": 0,
  "metadata": {
    "colab": {
      "provenance": [],
      "include_colab_link": true
    },
    "kernelspec": {
      "name": "python3",
      "display_name": "Python 3"
    },
    "language_info": {
      "name": "python"
    }
  },
  "cells": [
    {
      "cell_type": "markdown",
      "metadata": {
        "id": "view-in-github",
        "colab_type": "text"
      },
      "source": [
        "<a href=\"https://colab.research.google.com/github/poudyaldiksha/Data-Science-project/blob/main/Lesson_10_b2.ipynb\" target=\"_parent\"><img src=\"https://colab.research.google.com/assets/colab-badge.svg\" alt=\"Open In Colab\"/></a>"
      ]
    },
    {
      "cell_type": "markdown",
      "source": [
        "# Lesson 10: Python Dictionaries II\n",
        "\n"
      ],
      "metadata": {
        "id": "83FXo2hbBzyP"
      }
    },
    {
      "cell_type": "markdown",
      "source": [
        "**What are Data Structures?**\n",
        "\n",
        "In Python, data structures are used to store and organize data. They help in managing large amounts of data efficiently. Here are the main types of data structures in Python:\n",
        "\n",
        "**Built-in Data Structures:**\n",
        "- List: Ordered, mutable collection of items. Example: [1, 2, 3]\n",
        "- Tuple: Ordered, immutable collection of items. Example: (1, 2, 3)\n",
        "- Dictionary: Unordered collection of key-value pairs. Example: {'a': 1, 'b': 2}\n",
        "- Set: Unordered collection of unique items. Example: {1, 2, 3}"
      ],
      "metadata": {
        "id": "cVZzRHYabvj6"
      }
    },
    {
      "cell_type": "markdown",
      "source": [
        "**NOTE**\n",
        "\n",
        "NumPy arrays are not considered built-in data structures in Python because they are not part of the Python standard library. Instead, they are provided by an external library called NumPy, which needs to be installed separately"
      ],
      "metadata": {
        "id": "Irz7jaDUt3PL"
      }
    },
    {
      "cell_type": "markdown",
      "source": [
        "### Activity 1: Python Dictionary\n",
        "\n",
        "Similar to a Python list, a Python dictionary is also a data structure, i.e., it stores multiple values in it. **A python dictionary is a collection of key-value pairs** where each key-value pair collectively constitutes an item stored in it.\n",
        "\n",
        "So far, you learnt about Python lists in detail. In this class , you will learn about a Python dictionary and its usefulness in terms of data storage.\n",
        "\n",
        "An example of a key-value pair would be a specification of a laptop, as shown in the table below.\n",
        "\n",
        "|Key         |Value                  |\n",
        "|------------|-----------------------|\n",
        "|Ram         |16 GB                  |\n",
        "|Storage     |512 GB SSD             |\n",
        "|Graphics Card|NVIDIA GTX 1650       |\n",
        "|Display     |15.6 inches            |\n",
        "|Battery     |4000 mAh               |\n",
        "|Weight      |1.8 kg                 |\n",
        "|Price (INR) |96000                  |\n",
        "|Fast Charge |True                   |\n",
        "|Processor   |Intel Core i7          |\n",
        "\n",
        "Using the example shown in the table here, let's create a dictionary as a collection of key-value pairs.\n",
        "\n",
        "A dictionary is created using curly brackets (`{}`). A key and its corresponding value are mapped using the colon (`:`) sign and each key-value pair is separated by a comma."
      ],
      "metadata": {
        "id": "gfcBCLUSuo2a"
      }
    },
    {
      "cell_type": "code",
      "source": [
        "# Activity: Create a sample dictionary\n",
        "diet = { \"breakfast\" : \" dosa\", \"lunch\" : \" roti\", \"dinner \" : \"rice\"}\n",
        "diet\n"
      ],
      "metadata": {
        "colab": {
          "base_uri": "https://localhost:8080/"
        },
        "id": "xaTFTkONCRMw",
        "outputId": "1d0fa30b-ab45-4746-8e8f-655e264cc5a1"
      },
      "execution_count": null,
      "outputs": [
        {
          "output_type": "execute_result",
          "data": {
            "text/plain": [
              "{'breakfast': ' dosa', 'lunch': ' roti', 'dinner ': 'rice'}"
            ]
          },
          "metadata": {},
          "execution_count": 2
        }
      ]
    },
    {
      "cell_type": "code",
      "source": [
        "type(diet)"
      ],
      "metadata": {
        "colab": {
          "base_uri": "https://localhost:8080/"
        },
        "id": "FrgzpwNKUAcw",
        "outputId": "55070752-7887-47a2-a3fe-8e024edb3f74"
      },
      "execution_count": null,
      "outputs": [
        {
          "output_type": "execute_result",
          "data": {
            "text/plain": [
              "dict"
            ]
          },
          "metadata": {},
          "execution_count": 3
        }
      ]
    },
    {
      "cell_type": "code",
      "source": [
        "a ={\"t\":\"a\"}\n",
        "type(a)"
      ],
      "metadata": {
        "colab": {
          "base_uri": "https://localhost:8080/"
        },
        "id": "xuBz9wUpHro3",
        "outputId": "3bae0843-d597-4047-a884-d075df288369"
      },
      "execution_count": null,
      "outputs": [
        {
          "output_type": "execute_result",
          "data": {
            "text/plain": [
              "dict"
            ]
          },
          "metadata": {},
          "execution_count": 5
        }
      ]
    },
    {
      "cell_type": "code",
      "source": [
        "student = { \"name\" : \"john\",\n",
        "             \"age\": 25,\n",
        "             \"city\": \"newyork\"}\n",
        "student"
      ],
      "metadata": {
        "id": "DoCBkRLWUFYp"
      },
      "execution_count": null,
      "outputs": []
    },
    {
      "cell_type": "code",
      "source": [
        "#Create a dictionary as a collection of key-value pairs containing the items shown in the table above.\n",
        "\n",
        "laptop_specs = {\n",
        "    \"Ram\": \"16 GB\",# First key-value pair\n",
        "    \"Storage\": \"512 GB SSD\",# Second key-value pair\n",
        "    \"Graphics Card\": \"NVIDIA GTX 1650\",# Third key-value pair\n",
        "    \"Display\": \"15.6 inches\",# Fourth key-value pair\n",
        "    \"Battery\": \"4000 mAh\", # Fifth key-value pair\n",
        "    \"Weight\": \"1.8 kg\",# Sixth key-value pair\n",
        "    \"Price (INR)\": 96000,# Seventh key-value pair\n",
        "    \"Fast Charge\": True,# Eighth key-value pair\n",
        "\n",
        "\n",
        "}\n",
        "\n",
        "# Printing he dictionary\n",
        "laptop_specs"
      ],
      "metadata": {
        "colab": {
          "base_uri": "https://localhost:8080/"
        },
        "id": "MHRBQ63-wIqb",
        "outputId": "4d2c4f07-e68e-4fcb-e35c-fca683046b3c"
      },
      "execution_count": null,
      "outputs": [
        {
          "output_type": "execute_result",
          "data": {
            "text/plain": [
              "{'Ram': '16 GB',\n",
              " 'Storage': '512 GB SSD',\n",
              " 'Graphics Card': 'NVIDIA GTX 1650',\n",
              " 'Display': '15.6 inches',\n",
              " 'Battery': '4000 mAh',\n",
              " 'Weight': '1.8 kg',\n",
              " 'Price (INR)': 96000,\n",
              " 'Fast Charge': True}"
            ]
          },
          "metadata": {},
          "execution_count": 6
        }
      ]
    },
    {
      "cell_type": "markdown",
      "source": [
        "In the above code, we have created a Python dictionary and stored it in `laptop_specs` variable. The dictionary contains 8 key-value pairs separated by a comma. The keys are of `string` data-type and the values are a mix of `string`, `int` and `bool` data types.\n",
        "\n",
        "**Note:**\n",
        "-  Even though you store an item (a key-value pair) in a specific order, a Python dictionary disregards the order. Hence, unlike a Python list, a Python dictionary is a data structure containing an **unordered** collection of items.\n",
        "-  lists maintain order based on their indices, dictionaries do not guarantee any specific order for their elements.\n",
        "-  It means that you can't retreive an item from a dictionary using indices.\n"
      ],
      "metadata": {
        "id": "BgL50K0sxwqM"
      }
    },
    {
      "cell_type": "markdown",
      "source": [
        "\n",
        "\n",
        "Behavior in Google Colab (or similar environments):\n",
        "\n",
        "- In environments like Google Colab, you might notice that dictionaries sometimes appear to maintain the order in which items were added.\n",
        "- This is due to how the environment or specific Python versions implement dictionaries. It can give the impression of order, but this behavior is not guaranteed in all Python environments or versions.\n",
        "\n",
        "**Important Note:**\n",
        "\n",
        "- When learning and using dictionaries, it’s important to understand and expect this unordered behavior, even if specific environments may show them differently.\n"
      ],
      "metadata": {
        "id": "q4YWix7z0CCv"
      }
    },
    {
      "cell_type": "markdown",
      "source": [
        "### Activity 2: Empty Python Dictionary\n",
        "\n",
        "You can also create an empty dictionary$—$a dictionary which does not have any key-value pair$—$by simply writing curly brackets `{}` only."
      ],
      "metadata": {
        "id": "_WTJA3pT0bFC"
      }
    },
    {
      "cell_type": "code",
      "source": [
        "# Create an empty dictionary.\n",
        "emp_dict = {}\n",
        "emp_dict"
      ],
      "metadata": {
        "colab": {
          "base_uri": "https://localhost:8080/"
        },
        "id": "w3BOk34m0az4",
        "outputId": "2f76a8b9-30f2-40dd-d391-6507c80326ff"
      },
      "execution_count": null,
      "outputs": [
        {
          "output_type": "execute_result",
          "data": {
            "text/plain": [
              "{}"
            ]
          },
          "metadata": {},
          "execution_count": 7
        }
      ]
    },
    {
      "cell_type": "code",
      "source": [
        "type(emp_dict)"
      ],
      "metadata": {
        "colab": {
          "base_uri": "https://localhost:8080/"
        },
        "id": "wv3-Hy2vIa_K",
        "outputId": "e87c0835-aaee-40a5-ee43-7642610b9e43"
      },
      "execution_count": null,
      "outputs": [
        {
          "output_type": "execute_result",
          "data": {
            "text/plain": [
              "dict"
            ]
          },
          "metadata": {},
          "execution_count": 8
        }
      ]
    },
    {
      "cell_type": "markdown",
      "source": [
        "### Activity 3: Important Points About Python Dictionary\n",
        "\n",
        "Here are some of the important points about a Python dictionary:\n",
        "\n",
        "1. A key in a Python dictionary can be a `str` (string), `int` (integer), `float` (a floating-point number) and a `bool` (boolean) data-type. Additionally, it can also be a tuple. In general, any immutable Python object can be a key in a Python dictionary. The term **immutable** means **unchangeable**.\n",
        "\n",
        "2. Any Python object (whether mutable or immutable) or a data-type can be a value in a Python dictionary.\n",
        "\n",
        "Let's go through a few examples for keys and values in a Python dictionary.\n",
        "\n",
        "**Booleans as keys**"
      ],
      "metadata": {
        "id": "zcloh3Om0sHG"
      }
    },
    {
      "cell_type": "code",
      "source": [
        "# Create a Python dictionary whose keys are 'True' and 'False'. You can assign them any values.\n",
        "bool_as_keys = { True : \"yes \", False :\"no\"}\n",
        "bool_as_keys"
      ],
      "metadata": {
        "colab": {
          "base_uri": "https://localhost:8080/"
        },
        "id": "3sZfoFqk0_Dm",
        "outputId": "45c8ff44-0814-43a1-b6fc-313533b8f827"
      },
      "execution_count": null,
      "outputs": [
        {
          "output_type": "execute_result",
          "data": {
            "text/plain": [
              "{True: 'yes ', False: 'no'}"
            ]
          },
          "metadata": {},
          "execution_count": 9
        }
      ]
    },
    {
      "cell_type": "markdown",
      "metadata": {
        "id": "KLyYUQloNDbm"
      },
      "source": [
        "**Float-point numbers as keys**"
      ]
    },
    {
      "cell_type": "code",
      "metadata": {
        "id": "Lvln1LueNEAl",
        "colab": {
          "base_uri": "https://localhost:8080/"
        },
        "outputId": "90ae6a17-1785-467d-b560-0d63fded49b9"
      },
      "source": [
        "#Create a Python dictionary whose keys are some floating-point numbers. You can assign them any values.\n",
        "float_as_key = {3.14:\"pi\",2.71:\"e\"}\n",
        "float_as_key"
      ],
      "execution_count": null,
      "outputs": [
        {
          "output_type": "execute_result",
          "data": {
            "text/plain": [
              "{3.14: 'pi', 2.71: 'e'}"
            ]
          },
          "metadata": {},
          "execution_count": 10
        }
      ]
    },
    {
      "cell_type": "markdown",
      "metadata": {
        "id": "hUPhZrCuNPBf"
      },
      "source": [
        "**Integers as keys**"
      ]
    },
    {
      "cell_type": "code",
      "metadata": {
        "id": "n8hEcX31NMMb",
        "colab": {
          "base_uri": "https://localhost:8080/"
        },
        "outputId": "07e9ca68-387f-4706-bd70-10aceaef917f"
      },
      "source": [
        "#Create a Python dictionary whose keys are integer values. You can assign them any values.\n",
        "i = { 1:\"one\",2:\"two\"}\n",
        "i"
      ],
      "execution_count": null,
      "outputs": [
        {
          "output_type": "execute_result",
          "data": {
            "text/plain": [
              "{1: 'one', 2: 'two'}"
            ]
          },
          "metadata": {},
          "execution_count": 11
        }
      ]
    },
    {
      "cell_type": "markdown",
      "metadata": {
        "id": "KZfgcSgTNQPc"
      },
      "source": [
        "**Tuples as keys**"
      ]
    },
    {
      "cell_type": "code",
      "metadata": {
        "id": "a_cP7ej7NUrd",
        "colab": {
          "base_uri": "https://localhost:8080/"
        },
        "outputId": "391c332f-8ba8-4ded-e3ce-9301994a8bdb"
      },
      "source": [
        "# Create a Python dictionary whose keys are some tuples. You can assign them any values.\n",
        "t = {(2,4,6):\"even\",(3,5,7):\"odd\"}\n",
        "t"
      ],
      "execution_count": null,
      "outputs": [
        {
          "output_type": "execute_result",
          "data": {
            "text/plain": [
              "{(2, 4, 6): 'even', (3, 5, 7): 'odd'}"
            ]
          },
          "metadata": {},
          "execution_count": 12
        }
      ]
    },
    {
      "cell_type": "markdown",
      "metadata": {
        "id": "wCjwng15NaLp"
      },
      "source": [
        "**Lists as values**"
      ]
    },
    {
      "cell_type": "code",
      "metadata": {
        "id": "2Z90nsMNNa2B"
      },
      "source": [
        "# Create a Python dictionary whose values are some lists.\n",
        "l = { \"prime\": [2,3,5,7,11],\"odd\":[1,3,5,7,9]}\n",
        "l"
      ],
      "execution_count": null,
      "outputs": []
    },
    {
      "cell_type": "markdown",
      "metadata": {
        "id": "VpJMLu59NfeC"
      },
      "source": [
        "**Dictionaries as values**"
      ]
    },
    {
      "cell_type": "code",
      "source": [
        "diet"
      ],
      "metadata": {
        "id": "-I_vkfzYXun6",
        "collapsed": true
      },
      "execution_count": null,
      "outputs": []
    },
    {
      "cell_type": "code",
      "source": [
        "# Create a Python dictionary whose values are some other dictionaries.\n",
        "a = {\"rina\": diet, \"john\": {\"a\": 34,\"b\":45}}\n",
        "a"
      ],
      "metadata": {
        "id": "ouWf6koH_9Qf"
      },
      "execution_count": null,
      "outputs": []
    },
    {
      "cell_type": "markdown",
      "metadata": {
        "id": "7knd5IaTNmYK"
      },
      "source": [
        "**Tuples as values**\n",
        "\n",
        "You will learn about tuples in detail in the upcoming classes."
      ]
    },
    {
      "cell_type": "code",
      "metadata": {
        "id": "2vnuhu8ONliv"
      },
      "source": [
        "# Create a Python dictionary whose values are tuples.\n",
        "l = { \"prime\": (2,3,5,7,11),\"odd\":(1,3,5,7,9)}\n",
        "l"
      ],
      "execution_count": null,
      "outputs": []
    },
    {
      "cell_type": "markdown",
      "metadata": {
        "id": "L20L60oENq6y"
      },
      "source": [
        "**Note:**\n",
        "\n",
        "- A **key** in a dictionary must be unique. In other words, two items in a dictionary cannot have the same **key**.\n",
        "- If a dictionary contains two items having the same key, then the item at the **higher index** will be accepted by the dictionary and the item at the **lower index** will be discarded.\n"
      ]
    },
    {
      "cell_type": "code",
      "metadata": {
        "id": "X8uuoiS7Numn",
        "colab": {
          "base_uri": "https://localhost:8080/"
        },
        "outputId": "fe8c2a4a-0e48-4952-a28d-9583e8c563a1"
      },
      "source": [
        "# Create a dictionary having two identical keys but different values.\n",
        "dict_with_identical_keys = {'Super': 'Man', 'Hot' : 'Chocolate', 'Super' : 'Woman'}\n",
        "dict_with_identical_keys"
      ],
      "execution_count": null,
      "outputs": [
        {
          "output_type": "execute_result",
          "data": {
            "text/plain": [
              "{'Super': 'Woman', 'Hot': 'Chocolate'}"
            ]
          },
          "metadata": {},
          "execution_count": 13
        }
      ]
    },
    {
      "cell_type": "code",
      "source": [
        "#Activity\n",
        "dict_with_identical_keys = {'Apple': 'Fruit', 'Apple': 'Tech Company', 'Banana': 'Fruit'}\n",
        "dict_with_identical_keys"
      ],
      "metadata": {
        "colab": {
          "base_uri": "https://localhost:8080/"
        },
        "id": "7SoQQnWWGbn1",
        "outputId": "324201b0-c8ec-4270-bc96-702d72f1bd9c"
      },
      "execution_count": null,
      "outputs": [
        {
          "output_type": "execute_result",
          "data": {
            "text/plain": [
              "{'Apple': 'Tech Company', 'Banana': 'Fruit'}"
            ]
          },
          "metadata": {},
          "execution_count": 14
        }
      ]
    },
    {
      "cell_type": "markdown",
      "metadata": {
        "id": "vPS6tLnvN0BG"
      },
      "source": [
        "As you can see, the latest value for a key overrides its previous value.\n",
        "\n",
        "**Note:** Two different keys in a dictionary can have the same value."
      ]
    },
    {
      "cell_type": "code",
      "metadata": {
        "id": "ioxsPx6pN3VH",
        "colab": {
          "base_uri": "https://localhost:8080/"
        },
        "outputId": "31eacbb8-5804-46f5-9d7e-9cf865d67195"
      },
      "source": [
        "# Create a dictionary having two identical values but different keys.\n",
        "dict_with_identical_values = {'Super' : 'Man', 'Hot' : 'Chocolate', 'Bat' : 'Man'}\n",
        "dict_with_identical_values"
      ],
      "execution_count": null,
      "outputs": [
        {
          "output_type": "execute_result",
          "data": {
            "text/plain": [
              "{'Super': 'Man', 'Hot': 'Chocolate', 'Bat': 'Man'}"
            ]
          },
          "metadata": {},
          "execution_count": 15
        }
      ]
    },
    {
      "cell_type": "code",
      "source": [
        "#Activity\n",
        "dict_with_identical_values = {'Apple': 'Fruit', 'Orange': 'Fruit', 'Banana': 'Fruit'}\n",
        "dict_with_identical_values\n"
      ],
      "metadata": {
        "colab": {
          "base_uri": "https://localhost:8080/"
        },
        "id": "Oss0wxkcGxUa",
        "outputId": "ef18cca7-86d1-4bb4-906b-6fbbc41082d8"
      },
      "execution_count": null,
      "outputs": [
        {
          "output_type": "execute_result",
          "data": {
            "text/plain": [
              "{'Apple': 'Fruit', 'Orange': 'Fruit', 'Banana': 'Fruit'}"
            ]
          },
          "metadata": {},
          "execution_count": 16
        }
      ]
    },
    {
      "cell_type": "code",
      "source": [
        "len(dict_with_identical_values)"
      ],
      "metadata": {
        "colab": {
          "base_uri": "https://localhost:8080/"
        },
        "id": "u6bOtPd1JgX6",
        "outputId": "544da4b3-4691-485f-a431-ed17edfde7d2"
      },
      "execution_count": null,
      "outputs": [
        {
          "output_type": "execute_result",
          "data": {
            "text/plain": [
              "3"
            ]
          },
          "metadata": {},
          "execution_count": 18
        }
      ]
    },
    {
      "cell_type": "markdown",
      "source": [
        "### Activity 4: Dictionary Length\n",
        "The length of a dictionary is the number of key-value pairs contained in the dictionary.\n",
        "\n",
        "To calculate the length of a dictionary (or number of key-value pairs contained in a dictionary), you can use the `len()`  function."
      ],
      "metadata": {
        "id": "YnZrkT7EIR5v"
      }
    },
    {
      "cell_type": "code",
      "metadata": {
        "id": "J-Z09gTba5Gt",
        "colab": {
          "base_uri": "https://localhost:8080/"
        },
        "outputId": "64fa8a5d-6c3b-4462-b982-c6011348bd08"
      },
      "source": [
        "# Calculate the length of the 'laptop_specs' dictionary.\n",
        "len(laptop_specs)"
      ],
      "execution_count": null,
      "outputs": [
        {
          "output_type": "execute_result",
          "data": {
            "text/plain": [
              "8"
            ]
          },
          "metadata": {},
          "execution_count": 19
        }
      ]
    },
    {
      "cell_type": "markdown",
      "metadata": {
        "id": "XveK9Hlq1FJ8"
      },
      "source": [
        "---"
      ]
    },
    {
      "cell_type": "markdown",
      "metadata": {
        "id": "-zt8rlVq1GZ2"
      },
      "source": [
        "###Activity 5: The `keys()` Function\n",
        "To get a list of all the keys in a dictionary, you can use the `keys()` function using the `dictionary_name.keys()` method.\n",
        "\n"
      ]
    },
    {
      "cell_type": "code",
      "source": [
        "laptop_specs"
      ],
      "metadata": {
        "colab": {
          "base_uri": "https://localhost:8080/"
        },
        "id": "cxWeYc0KJsjR",
        "outputId": "f11a5331-0a8f-489b-d3a9-c2ae9c2d6b88"
      },
      "execution_count": null,
      "outputs": [
        {
          "output_type": "execute_result",
          "data": {
            "text/plain": [
              "{'Ram': '16 GB',\n",
              " 'Storage': '512 GB SSD',\n",
              " 'Graphics Card': 'NVIDIA GTX 1650',\n",
              " 'Display': '15.6 inches',\n",
              " 'Battery': '4000 mAh',\n",
              " 'Weight': '1.8 kg',\n",
              " 'Price (INR)': 96000,\n",
              " 'Fast Charge': True}"
            ]
          },
          "metadata": {},
          "execution_count": 20
        }
      ]
    },
    {
      "cell_type": "code",
      "source": [
        "laptop_specs.keys()"
      ],
      "metadata": {
        "colab": {
          "base_uri": "https://localhost:8080/"
        },
        "id": "-8JcGkbkJ0Ei",
        "outputId": "57254104-49cd-4702-9d26-362c37fef592"
      },
      "execution_count": null,
      "outputs": [
        {
          "output_type": "execute_result",
          "data": {
            "text/plain": [
              "dict_keys(['Ram', 'Storage', 'Graphics Card', 'Display', 'Battery', 'Weight', 'Price (INR)', 'Fast Charge'])"
            ]
          },
          "metadata": {},
          "execution_count": 21
        }
      ]
    },
    {
      "cell_type": "code",
      "metadata": {
        "id": "1ZzL1vPh1l4x",
        "colab": {
          "base_uri": "https://localhost:8080/"
        },
        "outputId": "01b16382-4ba1-4536-b993-9959f47d59d4"
      },
      "source": [
        "#Get the list of all the keys contained in 'laptop_specs' dictionary.\n",
        "s= laptop_specs.keys()\n",
        "type(s)"
      ],
      "execution_count": null,
      "outputs": [
        {
          "output_type": "execute_result",
          "data": {
            "text/plain": [
              "dict_keys"
            ]
          },
          "metadata": {},
          "execution_count": 22
        }
      ]
    },
    {
      "cell_type": "markdown",
      "metadata": {
        "id": "YWuUG13w1o3N"
      },
      "source": [
        "\n",
        "\n",
        "**Note** that the list returned by the `keys()` function is not the same as a Python list. It behaves differently as compared to a conventional Python list.\n",
        "\n",
        "You can also use a `for` loop to print all the keys of a dictionary one after the other.\n"
      ]
    },
    {
      "cell_type": "code",
      "metadata": {
        "id": "7779cZ6_aVte",
        "colab": {
          "base_uri": "https://localhost:8080/"
        },
        "outputId": "675fe8fb-1822-4b17-ae69-6c88efe38274"
      },
      "source": [
        "# Get the list of all the keys contained in 'laptop_specs' dictionary using 'for' loop.\n",
        "for i in laptop_specs.keys():\n",
        "    print(i)"
      ],
      "execution_count": null,
      "outputs": [
        {
          "output_type": "stream",
          "name": "stdout",
          "text": [
            "Ram\n",
            "Storage\n",
            "Graphics Card\n",
            "Display\n",
            "Battery\n",
            "Weight\n",
            "Price (INR)\n",
            "Fast Charge\n"
          ]
        }
      ]
    },
    {
      "cell_type": "markdown",
      "metadata": {
        "id": "LLFdNjdeZ1HR"
      },
      "source": [
        "Actually, even if you don't use the `keys()` function, you can retrieve all the keys from a Python dictionary using a `for` loop. Let's retrieve all the keys from the `laptop_specs` dictionary without using the `keys()` function."
      ]
    },
    {
      "cell_type": "code",
      "metadata": {
        "id": "pSm5-vrcZ_nH",
        "colab": {
          "base_uri": "https://localhost:8080/"
        },
        "outputId": "17815c8a-401c-4818-c2d9-58292d1e1f78"
      },
      "source": [
        "# Retrieve all the keys present in 'laptop_specs' dictionary without using the 'keys()' function but using 'for' loop.\n",
        "for i in laptop_specs:\n",
        "    print(i)"
      ],
      "execution_count": null,
      "outputs": [
        {
          "output_type": "stream",
          "name": "stdout",
          "text": [
            "Ram\n",
            "Storage\n",
            "Graphics Card\n",
            "Display\n",
            "Battery\n",
            "Weight\n",
            "Price (INR)\n",
            "Fast Charge\n"
          ]
        }
      ]
    },
    {
      "cell_type": "markdown",
      "metadata": {
        "id": "axkkh0lFbN9m"
      },
      "source": [
        "---"
      ]
    },
    {
      "cell_type": "markdown",
      "metadata": {
        "id": "zX2UYla-ZZr7"
      },
      "source": [
        "### Activity 6: Getting A Value For A Key\n",
        "\n",
        "Now let's learn how to retrieve a value for a key from a Python dictionary. There are two methods to do this. They are:\n",
        "\n",
        "1. The square brackets method\n",
        "\n",
        "2. The `get()` function\n",
        "\n",
        "\n",
        "**Method I: The Square Brackets**\n",
        "\n",
        "For a key, in a dictionary, you can retrieve its corresponding value by using the `dictionary_name[key]` method where `dictionary_name` is the variable storing a Python dictionary and `key` is the key stored in the dictionary.\n"
      ]
    },
    {
      "cell_type": "code",
      "source": [
        "laptop_specs[\"Ram\"]"
      ],
      "metadata": {
        "colab": {
          "base_uri": "https://localhost:8080/",
          "height": 35
        },
        "id": "yycb5JqkahYe",
        "outputId": "ff06f35c-6dc8-4888-f98e-bbcc27f26b13"
      },
      "execution_count": null,
      "outputs": [
        {
          "output_type": "execute_result",
          "data": {
            "text/plain": [
              "'16 GB'"
            ],
            "application/vnd.google.colaboratory.intrinsic+json": {
              "type": "string"
            }
          },
          "metadata": {},
          "execution_count": 25
        }
      ]
    },
    {
      "cell_type": "code",
      "metadata": {
        "id": "r9YReDgvYbnJ",
        "colab": {
          "base_uri": "https://localhost:8080/"
        },
        "outputId": "faa3a0b9-5dc7-4a99-d960-60ad8e07f9d3"
      },
      "source": [
        "# Print the corresponding values to each key contained in the 'my_dict' dictionary.\n",
        "\n",
        "# Value for the first key.\n",
        "print(laptop_specs['Ram'])\n",
        "\n",
        "# Value for the second key.\n",
        "print(laptop_specs['Storage'])\n",
        "\n",
        "# Value for the third key.\n",
        "print(laptop_specs['Graphics Card'])\n",
        "\n",
        "print(laptop_specs['Display'])\n",
        "\n",
        "# Value for the fifth key.\n",
        "print(laptop_specs['Battery'])\n",
        "# Value for the sixth key.\n",
        "print(laptop_specs['Weight'])\n",
        "\n",
        "# Value for the seventh key.\n",
        "print(laptop_specs['Price (INR)'])\n",
        "\n",
        "# Value for the eighth key.\n",
        "print(laptop_specs['Fast Charge'])\n",
        "\n"
      ],
      "execution_count": null,
      "outputs": [
        {
          "output_type": "stream",
          "name": "stdout",
          "text": [
            "16 GB\n",
            "512 GB SSD\n",
            "NVIDIA GTX 1650\n",
            "15.6 inches\n",
            "4000 mAh\n",
            "1.8 kg\n",
            "96000\n",
            "True\n"
          ]
        }
      ]
    },
    {
      "cell_type": "markdown",
      "metadata": {
        "id": "b4je-GXVgeC2"
      },
      "source": [
        "Instead of retrieving all the values one-by-one, you can get them using a `for` loop along with keys enclosed in square brackets."
      ]
    },
    {
      "cell_type": "code",
      "source": [
        "laptop_specs.keys()"
      ],
      "metadata": {
        "colab": {
          "base_uri": "https://localhost:8080/"
        },
        "id": "s1USjbhfKvg0",
        "outputId": "461431b5-4024-4ba8-e7c2-f14262c81ec1"
      },
      "execution_count": null,
      "outputs": [
        {
          "output_type": "execute_result",
          "data": {
            "text/plain": [
              "dict_keys(['Ram', 'Storage', 'Graphics Card', 'Display', 'Battery', 'Weight', 'Price (INR)', 'Fast Charge'])"
            ]
          },
          "metadata": {},
          "execution_count": 28
        }
      ]
    },
    {
      "cell_type": "code",
      "source": [
        "laptop_specs[\"Ram\"]"
      ],
      "metadata": {
        "colab": {
          "base_uri": "https://localhost:8080/",
          "height": 35
        },
        "id": "QEMOCl64KxgE",
        "outputId": "cda7d33f-66ed-47f3-db55-6d04a83c7848"
      },
      "execution_count": null,
      "outputs": [
        {
          "output_type": "execute_result",
          "data": {
            "text/plain": [
              "'16 GB'"
            ],
            "application/vnd.google.colaboratory.intrinsic+json": {
              "type": "string"
            }
          },
          "metadata": {},
          "execution_count": 29
        }
      ]
    },
    {
      "cell_type": "code",
      "source": [
        "for i in laptop_specs.keys()"
      ],
      "metadata": {
        "id": "M8FXz6G_KrK_"
      },
      "execution_count": null,
      "outputs": []
    },
    {
      "cell_type": "code",
      "source": [
        "d = [1,2,3]\n",
        "d[2]"
      ],
      "metadata": {
        "colab": {
          "base_uri": "https://localhost:8080/"
        },
        "id": "8io4jKLXK8xV",
        "outputId": "8859dead-9ac8-4d84-8315-63576400e72f"
      },
      "execution_count": null,
      "outputs": [
        {
          "output_type": "execute_result",
          "data": {
            "text/plain": [
              "3"
            ]
          },
          "metadata": {},
          "execution_count": 31
        }
      ]
    },
    {
      "cell_type": "code",
      "metadata": {
        "id": "Quj1UIqZvr4y",
        "colab": {
          "base_uri": "https://localhost:8080/"
        },
        "outputId": "add73554-02ac-4cf6-af04-0430c8d10672"
      },
      "source": [
        "# Print all the values contained in the 'laptop_specs' dictionary using a 'for' loop, 'keys()' function & square brackets.\n",
        "for i in laptop_specs.keys():\n",
        "    print(laptop_specs[i])"
      ],
      "execution_count": null,
      "outputs": [
        {
          "output_type": "stream",
          "name": "stdout",
          "text": [
            "16 GB\n",
            "512 GB SSD\n",
            "NVIDIA GTX 1650\n",
            "15.6 inches\n",
            "4000 mAh\n",
            "1.8 kg\n",
            "96000\n",
            "True\n"
          ]
        }
      ]
    },
    {
      "cell_type": "code",
      "metadata": {
        "id": "SI_Eiwvlndcz",
        "colab": {
          "base_uri": "https://localhost:8080/"
        },
        "outputId": "fff753eb-56d3-4ed3-a566-ad91241c8069"
      },
      "source": [
        "# Print all the values stored in the 'laptop_specs' dictionary using 'for' loop & the square brackets.\n",
        "for i in laptop_specs:\n",
        "    print(laptop_specs[i])\n"
      ],
      "execution_count": null,
      "outputs": [
        {
          "output_type": "stream",
          "name": "stdout",
          "text": [
            "16 GB\n",
            "512 GB SSD\n",
            "NVIDIA GTX 1650\n",
            "15.6 inches\n",
            "4000 mAh\n",
            "1.8 kg\n",
            "96000\n",
            "True\n"
          ]
        }
      ]
    },
    {
      "cell_type": "markdown",
      "metadata": {
        "id": "d5v0XkTloRql"
      },
      "source": [
        "**Note:** In a way, the keys act like indices for a Python dictionary. Unlike a Python list, a Python dictionary does not have indices of their own because a dictionary is an **unordered** collection of items. An only ordered collection of items have indices. Also, since a Python dictionary does not have indices, it is best to use `for` loop over `while` loop to iterate through each item that is stored in a dictionary."
      ]
    },
    {
      "cell_type": "markdown",
      "metadata": {
        "id": "_Rv7qabdcnoD"
      },
      "source": [
        "**Method II: The `get()` Function**\n",
        "\n",
        "You can also use the `get()` function to get a value of a key by using the `dictionary_name.get(key)` method.\n"
      ]
    },
    {
      "cell_type": "code",
      "metadata": {
        "id": "oV_NMDsjgS86",
        "colab": {
          "base_uri": "https://localhost:8080/"
        },
        "outputId": "97301d05-ede1-4e0d-a346-8c850741034c"
      },
      "source": [
        "# Print the corresponding values to each key contained in the 'my_dict' dictionary using the 'get()' function.\n",
        "\n",
        "# Value for the first key.\n",
        "print(laptop_specs.get('Ram'))\n",
        "\n",
        "# Value for the second key.\n",
        "print(laptop_specs.get('Storage'))\n",
        "\n",
        "# Value for the third key.\n",
        "print(laptop_specs.get('Graphics Card'))\n"
      ],
      "execution_count": null,
      "outputs": [
        {
          "output_type": "stream",
          "name": "stdout",
          "text": [
            "16 GB\n",
            "512 GB SSD\n",
            "NVIDIA GTX 1650\n"
          ]
        }
      ]
    },
    {
      "cell_type": "markdown",
      "metadata": {
        "id": "A9GPlohcvxU7"
      },
      "source": [
        "\n",
        "Similarly, you can also use the `get()` function with `for` loop to get the value for a key."
      ]
    },
    {
      "cell_type": "code",
      "metadata": {
        "id": "dOQoESx4wmOr",
        "colab": {
          "base_uri": "https://localhost:8080/"
        },
        "outputId": "a2625fc3-973f-42b5-f0c6-b0f4fc4ad031"
      },
      "source": [
        "# Print all the values contained in the 'laptop_specs' dictionary using 'for' loop and the 'get()' function.\n",
        "for i in laptop_specs.keys():\n",
        "    print(laptop_specs.get(i))"
      ],
      "execution_count": null,
      "outputs": [
        {
          "output_type": "stream",
          "name": "stdout",
          "text": [
            "16 GB\n",
            "512 GB SSD\n",
            "NVIDIA GTX 1650\n",
            "15.6 inches\n",
            "4000 mAh\n",
            "1.8 kg\n",
            "96000\n",
            "True\n"
          ]
        }
      ]
    },
    {
      "cell_type": "markdown",
      "metadata": {
        "id": "sYV3l7iRwrn8"
      },
      "source": [
        "In the code above, `for` loop iterates through each key in the list generated by the `keys()` function. Then, the `get()` function returns the value for a key. Finally, the `print()` function prints the corresponding value for each key."
      ]
    },
    {
      "cell_type": "markdown",
      "metadata": {
        "id": "M2XeNqgIGHjy"
      },
      "source": [
        "---"
      ]
    },
    {
      "cell_type": "markdown",
      "metadata": {
        "id": "qRMpE6OVGLic"
      },
      "source": [
        "### Activity 7: The `values()` Function\n",
        "\n",
        "Let's learn how to get the collection of all the values contained in a Python dictionary. You can do this by using the `values()` function.\n",
        "\n",
        "**Syntax:** `dictionary_name.values()`\n"
      ]
    },
    {
      "cell_type": "code",
      "metadata": {
        "id": "lDEhrMF_F4By",
        "colab": {
          "base_uri": "https://localhost:8080/"
        },
        "outputId": "b770ae30-9f0b-4178-8217-0813d8159634"
      },
      "source": [
        "#  Retrieve a collection of all the values stored in the 'laptop_specs' dictionary using the 'values()' function.\n",
        "laptop_specs.values()"
      ],
      "execution_count": null,
      "outputs": [
        {
          "output_type": "execute_result",
          "data": {
            "text/plain": [
              "dict_values(['16 GB', '512 GB SSD', 'NVIDIA GTX 1650', '15.6 inches', '4000 mAh', '1.8 kg', 96000, True])"
            ]
          },
          "metadata": {},
          "execution_count": 34
        }
      ]
    },
    {
      "cell_type": "code",
      "source": [
        "s = laptop_specs.values()\n",
        "type(s)"
      ],
      "metadata": {
        "colab": {
          "base_uri": "https://localhost:8080/"
        },
        "id": "edlcEfKwLVAp",
        "outputId": "ac14dd4e-c357-4d95-b82e-15a5765e2217"
      },
      "execution_count": null,
      "outputs": [
        {
          "output_type": "execute_result",
          "data": {
            "text/plain": [
              "dict_values"
            ]
          },
          "metadata": {},
          "execution_count": 35
        }
      ]
    },
    {
      "cell_type": "markdown",
      "metadata": {
        "id": "syJQsIZkGIP9"
      },
      "source": [
        "As you can see, the `values()` function has returned a list of all the values contained in the `my_dict` dictionary.\n",
        "\n",
        "**Note** that the list returned by the `values()` function is not the same as a Python list. This list behaves differently as compared to a conventional Python list.\n",
        "\n"
      ]
    },
    {
      "cell_type": "markdown",
      "metadata": {
        "id": "GjesGxsJEmnT"
      },
      "source": [
        "---"
      ]
    },
    {
      "cell_type": "markdown",
      "metadata": {
        "id": "Gl6PMYFzdcuY"
      },
      "source": [
        "### Activity 8: The `items()` Function\n",
        "\n",
        "You can also retrieve all the key-value pairs from a dictionary as a collection of tuples by using the `items()` function.\n",
        "\n",
        "**Syntax:** `dictionary_name.items()` method.\n"
      ]
    },
    {
      "cell_type": "code",
      "metadata": {
        "id": "g4St23LCckp5",
        "colab": {
          "base_uri": "https://localhost:8080/"
        },
        "outputId": "c7265408-ef3a-4639-f81d-e52beef33b06"
      },
      "source": [
        "# Retrieve all the items stored in the 'laptop_specs' dictionary as a collection of tuples.\n",
        "laptop_specs.items()"
      ],
      "execution_count": null,
      "outputs": [
        {
          "output_type": "execute_result",
          "data": {
            "text/plain": [
              "dict_items([('Ram', '16 GB'), ('Storage', '512 GB SSD'), ('Graphics Card', 'NVIDIA GTX 1650'), ('Display', '15.6 inches'), ('Battery', '4000 mAh'), ('Weight', '1.8 kg'), ('Price (INR)', 96000), ('Fast Charge', True)])"
            ]
          },
          "metadata": {},
          "execution_count": 36
        }
      ]
    },
    {
      "cell_type": "markdown",
      "metadata": {
        "id": "5D2Ibq31fKvA"
      },
      "source": [
        "As you can see, the `items()` function has returned a list of key-value pairs contained in the dictionary. Each key-value pair is a tuple because a pair is written inside the common brackets, i.e., `()`.\n",
        "\n",
        "**Note** that the list returned by the `items()` function is not the same as a Python list. This list behaves differently as compared to a conventional Python list.\n",
        "\n",
        "You can also use a `for` loop to print each item contained in the list returned by the `items()` function.\n"
      ]
    },
    {
      "cell_type": "code",
      "metadata": {
        "id": "568a8Stm_u8s",
        "colab": {
          "base_uri": "https://localhost:8080/"
        },
        "outputId": "01cc8feb-efc1-45d1-e88b-5d9cf890d9fb"
      },
      "source": [
        "# Loop through each item stored in the list returned by the 'items()' function.\n",
        "for item in laptop_specs.items():\n",
        "  print(item)\n",
        "type(item)"
      ],
      "execution_count": null,
      "outputs": [
        {
          "output_type": "stream",
          "name": "stdout",
          "text": [
            "('Ram', '16 GB')\n",
            "('Storage', '512 GB SSD')\n",
            "('Graphics Card', 'NVIDIA GTX 1650')\n",
            "('Display', '15.6 inches')\n",
            "('Battery', '4000 mAh')\n",
            "('Weight', '1.8 kg')\n",
            "('Price (INR)', 96000)\n",
            "('Fast Charge', True)\n"
          ]
        },
        {
          "output_type": "execute_result",
          "data": {
            "text/plain": [
              "tuple"
            ]
          },
          "metadata": {},
          "execution_count": 39
        }
      ]
    },
    {
      "cell_type": "markdown",
      "metadata": {
        "id": "tuA8xI7dl4kT"
      },
      "source": [
        "As you can see, using `for` loop, we have retrieved every tuple containing a key-value pair, from the `laptop_specs` dictionary.\n",
        "\n",
        "You can also simultaneously iterate through each key-value contained in the list returned by the `items()` function."
      ]
    },
    {
      "cell_type": "code",
      "source": [
        "for i,j in laptop_specs.items():\n",
        "    print(i,j)"
      ],
      "metadata": {
        "colab": {
          "base_uri": "https://localhost:8080/"
        },
        "id": "CDxhgvNNdY0P",
        "outputId": "855ba741-6b87-46e3-f52d-c31d3a65c496"
      },
      "execution_count": null,
      "outputs": [
        {
          "output_type": "stream",
          "name": "stdout",
          "text": [
            "Ram 16 GB\n",
            "Storage 512 GB SSD\n",
            "Graphics Card NVIDIA GTX 1650\n",
            "Display 15.6 inches\n",
            "Battery 4000 mAh\n",
            "Weight 1.8 kg\n",
            "Price (INR) 96000\n",
            "Fast Charge True\n"
          ]
        }
      ]
    },
    {
      "cell_type": "code",
      "metadata": {
        "id": "lMH9ZUKBDDE8",
        "colab": {
          "base_uri": "https://localhost:8080/"
        },
        "outputId": "9e59e565-3ead-4972-f10e-79febc03bb87"
      },
      "source": [
        "# Simultaneously iterate through each key-value pair contained in the list returned by the 'items()' function.\n",
        "for key, value in laptop_specs.items():\n",
        "  print(key, value)"
      ],
      "execution_count": null,
      "outputs": [
        {
          "output_type": "stream",
          "name": "stdout",
          "text": [
            "Ram 16 GB\n",
            "Storage 512 GB SSD\n",
            "Graphics Card NVIDIA GTX 1650\n",
            "Display 15.6 inches\n",
            "Battery 4000 mAh\n",
            "Weight 1.8 kg\n",
            "Price (INR) 96000\n",
            "Fast Charge True\n"
          ]
        }
      ]
    },
    {
      "cell_type": "markdown",
      "metadata": {
        "id": "xx5v38qXDWoW"
      },
      "source": [
        "As you can see, in the `for` loop, the `key` variable iterates through each key in each item and the `value` variable iterates through each value in each item contained in the list,\n",
        "\n",
        "\n",
        "Then, the `print()` function prints the values stored in the `key` and `value` variables.\n",
        "\n",
        "If you apply the same method of retrieving key-value pairs simultaneously directly from the `laptop_specs` dictionary, then you will get `ValueError`."
      ]
    },
    {
      "cell_type": "code",
      "metadata": {
        "id": "gXr9YOhVhDIG",
        "colab": {
          "base_uri": "https://localhost:8080/"
        },
        "outputId": "7f2b2d00-f163-4ddc-c80c-39465c58cbb4"
      },
      "source": [
        "#Simultaneously retrieve all the key-value pairs directly from the 'laptop_specs' dictionary.\n",
        "for key in laptop_specs:\n",
        "  print(key)"
      ],
      "execution_count": null,
      "outputs": [
        {
          "output_type": "stream",
          "name": "stdout",
          "text": [
            "Ram\n",
            "Storage\n",
            "Graphics Card\n",
            "Display\n",
            "Battery\n",
            "Weight\n",
            "Price (INR)\n",
            "Fast Charge\n"
          ]
        }
      ]
    },
    {
      "cell_type": "markdown",
      "metadata": {
        "id": "GvX5Y3Ojhmmr"
      },
      "source": [
        "Hence, to simultaneously iterate through multiple items (or key-value pairs), it is best to have each item (or key-value pair) as a collection of tuples. You will learn about tuples in detail in the upcoming classes.\n"
      ]
    },
    {
      "cell_type": "markdown",
      "metadata": {
        "id": "gLsIDUXaxQtu"
      },
      "source": [
        "### Activity 9: Adding New Item\n",
        "\n",
        "Let's also add the Processor of the laptop to the `laptop_specs` dictionary. So the new item is `\"Processor\"` and the corresponding value is `'Intel Core i7'`.\n",
        "\n",
        "To add a new item to a dictionary, you simply have to use the square brackets as shown in the syntax below.\n",
        "\n",
        "**Syntax:** `dictionary_name[key] = value`\n",
        "\n",
        "where `dictionary_name` is some variable storing a dictionary."
      ]
    },
    {
      "cell_type": "code",
      "execution_count": null,
      "metadata": {
        "colab": {
          "base_uri": "https://localhost:8080/"
        },
        "id": "CMM1DD7Vu9MB",
        "outputId": "5556b874-bcf3-4894-fcff-07b6fb051a6b"
      },
      "outputs": [
        {
          "output_type": "execute_result",
          "data": {
            "text/plain": [
              "{'Ram': '16 GB',\n",
              " 'Storage': '512 GB SSD',\n",
              " 'Graphics Card': 'NVIDIA GTX 1650',\n",
              " 'Display': '15.6 inches',\n",
              " 'Battery': '4000 mAh',\n",
              " 'Weight': '1.8 kg',\n",
              " 'Price (INR)': 96000,\n",
              " 'Fast Charge': True,\n",
              " 'processor': 'Intel Core i7'}"
            ]
          },
          "metadata": {},
          "execution_count": 43
        }
      ],
      "source": [
        "# Add 'processor' and 'Intel Core i7' as keys and values respectively to the 'laptop_specs' dictionary.\n",
        "laptop_specs[\"processor\"] = \"Intel Core i7\"\n",
        "laptop_specs"
      ]
    },
    {
      "cell_type": "markdown",
      "metadata": {
        "id": "WYvjalPzou0g"
      },
      "source": [
        "---"
      ]
    },
    {
      "cell_type": "markdown",
      "metadata": {
        "id": "fpiX_GCR2c4x"
      },
      "source": [
        "### Activity 10: The `zip()` Function\n",
        "\n",
        "Sometimes you may require to create a dictionary from two Python lists. Consider the two lists shown below.\n",
        "\n",
        "```\n",
        "car_companies = ['Maruti Suzuki', 'Honda', 'Hyundai', 'Ford', 'Volkswagen']\n",
        "car_models = [\n",
        "                ['Baleno', 'Vitara Brezza', 'Ciaz'],\n",
        "                'City',\n",
        "                ['Verna', 'Creta'],\n",
        "                ['Figo', 'EcoSport', 'Aspire'],\n",
        "                ['Polo', 'Tiguan', 'Vento']\n",
        "              ]\n",
        "```\n",
        "\n",
        "The `car_companies` list contains the name of the car manufacturers. The `car_models` list contains the models of cars manufactured by them.\n",
        "\n",
        "Let's create a dictionary which maps every car model to its corresponding manufacturer. Let's store it in the `cars_dict`.\n",
        "\n",
        "To create a dictionary from two lists, use the `zip()` and `dict()` function using the following syntax.\n",
        "\n",
        "**Syntax:** `dictionary_name = dict(zip(list1, list2))`\n",
        "\n",
        "where the `zip()` function joins the lists `list1` and `list2` but the `dict()` function converts the resulting object into a dictionary."
      ]
    },
    {
      "cell_type": "code",
      "source": [
        "import numpy as np\n",
        "a = np.array([\"a\",\"b\",\"c\"])\n",
        "a.ndim"
      ],
      "metadata": {
        "colab": {
          "base_uri": "https://localhost:8080/"
        },
        "collapsed": true,
        "id": "laGPMYy3NMTJ",
        "outputId": "d928c609-3532-48f4-8701-43cf8fbd08ca"
      },
      "execution_count": null,
      "outputs": [
        {
          "output_type": "execute_result",
          "data": {
            "text/plain": [
              "1"
            ]
          },
          "metadata": {},
          "execution_count": 50
        }
      ]
    },
    {
      "cell_type": "code",
      "source": [
        "car_models = [\n",
        "                ['Baleno', 'Vitara Brezza', 'Ciaz'],\n",
        "                'City',\n",
        "                ['Verna', 'Creta'],\n",
        "                ['Figo', 'EcoSport', 'Aspire'],\n",
        "                ['Polo', 'Tiguan', 'Vento']\n",
        "              ]\n",
        "len(car_models)"
      ],
      "metadata": {
        "colab": {
          "base_uri": "https://localhost:8080/"
        },
        "id": "9_aSmKejM11P",
        "outputId": "cd1bab47-66c5-4a13-d089-14d20f11cfa1"
      },
      "execution_count": null,
      "outputs": [
        {
          "output_type": "execute_result",
          "data": {
            "text/plain": [
              "5"
            ]
          },
          "metadata": {},
          "execution_count": 45
        }
      ]
    },
    {
      "cell_type": "code",
      "source": [
        "a = [\"a\",\"b\",\"c\"]\n",
        "a[1]"
      ],
      "metadata": {
        "colab": {
          "base_uri": "https://localhost:8080/",
          "height": 35
        },
        "id": "9qup2mHrN5Kn",
        "outputId": "ac6eb13e-6a5c-432b-8ccb-cb6f63060cb0"
      },
      "execution_count": null,
      "outputs": [
        {
          "output_type": "execute_result",
          "data": {
            "text/plain": [
              "'b'"
            ],
            "application/vnd.google.colaboratory.intrinsic+json": {
              "type": "string"
            }
          },
          "metadata": {},
          "execution_count": 53
        }
      ]
    },
    {
      "cell_type": "code",
      "source": [
        "b = [ [\"1,2,3\"],[1,2,3],[\"a\",\"b\"]]\n",
        "b[2][1]"
      ],
      "metadata": {
        "colab": {
          "base_uri": "https://localhost:8080/",
          "height": 35
        },
        "id": "H3Aw0gsIN83n",
        "outputId": "5e4e265c-12ee-4e8c-d0ae-821523f7ea34"
      },
      "execution_count": null,
      "outputs": [
        {
          "output_type": "execute_result",
          "data": {
            "text/plain": [
              "'b'"
            ],
            "application/vnd.google.colaboratory.intrinsic+json": {
              "type": "string"
            }
          },
          "metadata": {},
          "execution_count": 55
        }
      ]
    },
    {
      "cell_type": "code",
      "source": [],
      "metadata": {
        "id": "iqJ8UgNuOPHm"
      },
      "execution_count": null,
      "outputs": []
    },
    {
      "cell_type": "code",
      "source": [
        "car_models[4][0]"
      ],
      "metadata": {
        "colab": {
          "base_uri": "https://localhost:8080/",
          "height": 35
        },
        "id": "DSTOJp7NNrKY",
        "outputId": "02b4c820-4e87-45bb-b1f1-7679012003b9"
      },
      "execution_count": null,
      "outputs": [
        {
          "output_type": "execute_result",
          "data": {
            "text/plain": [
              "'Polo'"
            ],
            "application/vnd.google.colaboratory.intrinsic+json": {
              "type": "string"
            }
          },
          "metadata": {},
          "execution_count": 49
        }
      ]
    },
    {
      "cell_type": "code",
      "execution_count": null,
      "metadata": {
        "id": "9b2Kpf8532G1",
        "colab": {
          "base_uri": "https://localhost:8080/"
        },
        "outputId": "dcf63ded-d0d8-4f77-9db9-d26640e44768"
      },
      "outputs": [
        {
          "output_type": "execute_result",
          "data": {
            "text/plain": [
              "{'Maruti Suzuki': ['Baleno', 'Vitara Brezza', 'Ciaz'],\n",
              " 'Honda': 'City',\n",
              " 'Hyundai': ['Verna', 'Creta'],\n",
              " 'Ford': ['Figo', 'EcoSport', 'Aspire'],\n",
              " 'Volkswagen': ['Polo', 'Tiguan', 'Vento']}"
            ]
          },
          "metadata": {},
          "execution_count": 67
        }
      ],
      "source": [
        "#Create a new dictionary by joining the 'car_companies' & 'car_models' lists. Store it in the 'cars_dict' variable.\n",
        "car_companies = ['Maruti Suzuki', 'Honda', 'Hyundai', 'Ford', 'Volkswagen']\n",
        "car_models = [\n",
        "                ['Baleno', 'Vitara Brezza', 'Ciaz'],\n",
        "                'City',\n",
        "                ['Verna', 'Creta'],\n",
        "                ['Figo', 'EcoSport', 'Aspire'],\n",
        "                ['Polo', 'Tiguan', 'Vento']\n",
        "              ]\n",
        "\n",
        "cars_dict = dict(zip(car_companies,car_models))\n",
        "cars_dict\n",
        "\n"
      ]
    },
    {
      "cell_type": "code",
      "source": [
        "#  list cannot be a dictionary keys but tuples can be\n",
        "car_companies_tup = ['Maruti Suzuki', 'Honda', 'Hyundai', 'Ford', 'Volkswagen']\n",
        "car_models_tup = (\n",
        "                ('Baleno', 'Vitara Brezza', 'Ciaz'),\n",
        "                'City',\n",
        "                ('Verna', 'Creta'),\n",
        "                ('Figo', 'EcoSport', 'Aspire'),\n",
        "                ('Polo', 'Tiguan', 'Vento')\n",
        ")\n",
        "\n",
        "cars_dict_tup = dict(zip(car_models,car_companies))\n",
        "cars_dict_tup"
      ],
      "metadata": {
        "colab": {
          "base_uri": "https://localhost:8080/"
        },
        "id": "LdlCXYb2PVmS",
        "outputId": "a0e43ad8-5ce6-40da-8ed8-fb9d8c3cd7d1"
      },
      "execution_count": null,
      "outputs": [
        {
          "output_type": "execute_result",
          "data": {
            "text/plain": [
              "{('Baleno', 'Vitara Brezza', 'Ciaz'): 'Maruti Suzuki',\n",
              " 'City': 'Honda',\n",
              " ('Verna', 'Creta'): 'Hyundai',\n",
              " ('Figo', 'EcoSport', 'Aspire'): 'Ford',\n",
              " ('Polo', 'Tiguan', 'Vento'): 'Volkswagen'}"
            ]
          },
          "metadata": {},
          "execution_count": 65
        }
      ]
    },
    {
      "cell_type": "code",
      "source": [
        "cars_dict2 = dict(zip(car_models,car_companies))\n",
        "cars_dict2"
      ],
      "metadata": {
        "colab": {
          "base_uri": "https://localhost:8080/"
        },
        "id": "WJoehAz0PMD_",
        "outputId": "773e2254-5af5-4252-ee17-824e5a3facc4"
      },
      "execution_count": null,
      "outputs": [
        {
          "output_type": "execute_result",
          "data": {
            "text/plain": [
              "{('Baleno', 'Vitara Brezza', 'Ciaz'): 'Maruti Suzuki',\n",
              " 'City': 'Honda',\n",
              " ('Verna', 'Creta'): 'Hyundai',\n",
              " ('Figo', 'EcoSport', 'Aspire'): 'Ford',\n",
              " ('Polo', 'Tiguan', 'Vento'): 'Volkswagen'}"
            ]
          },
          "metadata": {},
          "execution_count": 61
        }
      ]
    },
    {
      "cell_type": "code",
      "source": [
        "cars_list = list(zip(car_companies,car_models))\n",
        "cars_list"
      ],
      "metadata": {
        "colab": {
          "base_uri": "https://localhost:8080/"
        },
        "id": "mDtc_HHSZKVh",
        "outputId": "b558bae8-e86b-4954-d476-e9d56e26a5bd"
      },
      "execution_count": null,
      "outputs": [
        {
          "output_type": "execute_result",
          "data": {
            "text/plain": [
              "[('Maruti Suzuki', ('Baleno', 'Vitara Brezza', 'Ciaz')),\n",
              " ('Honda', 'City'),\n",
              " ('Hyundai', ('Verna', 'Creta')),\n",
              " ('Ford', ('Figo', 'EcoSport', 'Aspire')),\n",
              " ('Volkswagen', ('Polo', 'Tiguan', 'Vento'))]"
            ]
          },
          "metadata": {},
          "execution_count": 63
        }
      ]
    },
    {
      "cell_type": "code",
      "source": [
        "cars_tuple = tuple(zip(car_companies,car_models))\n",
        "cars_tuple"
      ],
      "metadata": {
        "colab": {
          "base_uri": "https://localhost:8080/"
        },
        "id": "NZA-xZkjcB3S",
        "outputId": "f2abe494-b2e0-4bb1-d103-999e72e501cc"
      },
      "execution_count": null,
      "outputs": [
        {
          "output_type": "execute_result",
          "data": {
            "text/plain": [
              "(('Maruti Suzuki', ('Baleno', 'Vitara Brezza', 'Ciaz')),\n",
              " ('Honda', 'City'),\n",
              " ('Hyundai', ('Verna', 'Creta')),\n",
              " ('Ford', ('Figo', 'EcoSport', 'Aspire')),\n",
              " ('Volkswagen', ('Polo', 'Tiguan', 'Vento')))"
            ]
          },
          "metadata": {},
          "execution_count": 64
        }
      ]
    },
    {
      "cell_type": "markdown",
      "metadata": {
        "id": "Cd62Z0sZ4O8m"
      },
      "source": [
        "As you can see, a new dictionary called `cars_dict` has been created using the `zip()` and `dict()` functions.\n",
        "\n",
        "The `zip()` function maps items of the first list with the items of the second list such that former become **keys** and later become the corresponding **values** of the keys.\n",
        "\n",
        "**Note** that the first item contained in the first list becomes **key** for the first item in the second list and the second item in the first list becomes **key** for the second item in the second list and so on.\n",
        "\n",
        "Instead of using the `dict()` function, if you use the `list()` function on top of the `zip()` function, you will get a Python list containing the items of the two lists as a collection of key-value pairs in tuples.\n"
      ]
    },
    {
      "cell_type": "code",
      "execution_count": null,
      "metadata": {
        "id": "7WtNy6Tg4MLp"
      },
      "outputs": [],
      "source": [
        "# Create a new list by joining the 'car_companies' & 'car_models' lists. Store it in the 'cars_list' variable.\n"
      ]
    },
    {
      "cell_type": "markdown",
      "metadata": {
        "id": "cUNElrS-5igB"
      },
      "source": [
        "As you can see, the `zip()` function has clubbed the items of the `car_companies` and `car_models` as a key-value pair in a tuple and the `list()` function has created a list containing tuples."
      ]
    },
    {
      "cell_type": "markdown",
      "metadata": {
        "id": "AGegRjBNCzL8"
      },
      "source": [
        "---"
      ]
    },
    {
      "cell_type": "markdown",
      "metadata": {
        "id": "fzB2DstZCzzJ"
      },
      "source": [
        "#### Activity 11: List Comprehension For Dictionaries\n",
        "\n",
        "You can also use the list comprehension method to create a Python dictionary.\n",
        "\n",
        "Let's again map all the `car_models` items to the `car_companies` items by creating a new dictionary using the `zip()` function and the list comprehension method."
      ]
    },
    {
      "cell_type": "code",
      "source": [
        "a = [u for u in range(1,10)]\n",
        "a"
      ],
      "metadata": {
        "colab": {
          "base_uri": "https://localhost:8080/"
        },
        "id": "H8bbt7bncXbN",
        "outputId": "89e3a2bc-0b3b-458a-cac7-c9a5aa5e155d"
      },
      "execution_count": null,
      "outputs": [
        {
          "output_type": "execute_result",
          "data": {
            "text/plain": [
              "[1, 2, 3, 4, 5, 6, 7, 8, 9]"
            ]
          },
          "metadata": {},
          "execution_count": 81
        }
      ]
    },
    {
      "cell_type": "code",
      "source": [
        "a = []\n",
        "for u in range(1,10):\n",
        "    a.append(u)\n",
        "a\n",
        "print(u)"
      ],
      "metadata": {
        "colab": {
          "base_uri": "https://localhost:8080/"
        },
        "id": "NZHp7WBCSG6A",
        "outputId": "735e313b-90c6-490a-f5df-2e6e86d5a124"
      },
      "execution_count": null,
      "outputs": [
        {
          "output_type": "stream",
          "name": "stdout",
          "text": [
            "9\n"
          ]
        }
      ]
    },
    {
      "cell_type": "code",
      "source": [
        "n = { i:k for i, k in zip(car_companies,car_models)}\n",
        "n\n"
      ],
      "metadata": {
        "colab": {
          "base_uri": "https://localhost:8080/"
        },
        "id": "ur1D9e9ock6f",
        "outputId": "2829c2b5-a561-469c-c99c-16bf3bfee8d3"
      },
      "execution_count": null,
      "outputs": [
        {
          "output_type": "execute_result",
          "data": {
            "text/plain": [
              "{'Maruti Suzuki': ['Baleno', 'Vitara Brezza', 'Ciaz'],\n",
              " 'Honda': 'City',\n",
              " 'Hyundai': ['Verna', 'Creta'],\n",
              " 'Ford': ['Figo', 'EcoSport', 'Aspire'],\n",
              " 'Volkswagen': ['Polo', 'Tiguan', 'Vento']}"
            ]
          },
          "metadata": {},
          "execution_count": 74
        }
      ]
    },
    {
      "cell_type": "code",
      "execution_count": null,
      "metadata": {
        "id": "j0R8zYnHDN4Y",
        "colab": {
          "base_uri": "https://localhost:8080/"
        },
        "outputId": "f533aa33-96c6-4f21-c0ee-18b185e99961"
      },
      "outputs": [
        {
          "output_type": "execute_result",
          "data": {
            "text/plain": [
              "{'Maruti Suzuki': ['Baleno', 'Vitara Brezza', 'Ciaz'],\n",
              " 'Honda': 'City',\n",
              " 'Hyundai': ['Verna', 'Creta'],\n",
              " 'Ford': ['Figo', 'EcoSport', 'Aspire'],\n",
              " 'Volkswagen': ['Polo', 'Tiguan', 'Vento']}"
            ]
          },
          "metadata": {},
          "execution_count": 75
        }
      ],
      "source": [
        "#Create a new dictionary using the list comprehension method to map all the 'car_models' items to the car_companies items.\n",
        "new_cars_dict = {key : value for key, value in zip(car_companies, car_models)}\n",
        "new_cars_dict"
      ]
    },
    {
      "cell_type": "code",
      "source": [
        "#exam_1 = {p : q for p, q in zip(car_companies, car_models)}\n",
        "#print(p,q)"
      ],
      "metadata": {
        "id": "AO8pH0v2RiM1"
      },
      "execution_count": null,
      "outputs": []
    },
    {
      "cell_type": "markdown",
      "metadata": {
        "id": "zNrhvG8vDlsE"
      },
      "source": [
        "The above list comprehension should be read as \"*For every key & value in the object returned by the `zip()` function, add them to the dictionary*\". To add the key-value pair, you simply need to write `key` followed by the colon (`:`) sign, followed by `value`.\n",
        "\n",
        "**Syntax:** `{key : value for key, value in zip(list1, list2)}`\n",
        "\n",
        "The variables `key` and `value` are dummy variables. You can use any variable in their places.\n",
        "\n",
        "E.g., `{x : y for x, y in zip(list1, list2)}, {p : q for p, q in zip(list1, list2)}` etc."
      ]
    },
    {
      "cell_type": "markdown",
      "metadata": {
        "id": "Dgc-gAEr0YwE"
      },
      "source": [
        "---"
      ]
    },
    {
      "cell_type": "markdown",
      "metadata": {
        "id": "Gha1iu2O6LBD"
      },
      "source": [
        "### Activity 12: Removing Item From Dictionary\n",
        "\n",
        "To remove an item from a dictionary, you can use the `pop()` function. Inside the `pop()` function, you have to provide the key for which the key-value pair must be removed from the dictionary.\n",
        "\n"
      ]
    },
    {
      "cell_type": "code",
      "source": [
        "a = [1,2,3,4,5,6]\n",
        "a.pop()"
      ],
      "metadata": {
        "colab": {
          "base_uri": "https://localhost:8080/"
        },
        "id": "b3faFrsGdD-h",
        "outputId": "9bb214b1-f9b8-44ea-bca7-ef5851a346ca"
      },
      "execution_count": null,
      "outputs": [
        {
          "output_type": "execute_result",
          "data": {
            "text/plain": [
              "6"
            ]
          },
          "metadata": {},
          "execution_count": 86
        }
      ]
    },
    {
      "cell_type": "code",
      "source": [
        "laptop_specs"
      ],
      "metadata": {
        "colab": {
          "base_uri": "https://localhost:8080/"
        },
        "id": "HN7nXwoCddq_",
        "outputId": "2743125a-e8e2-4ddd-b060-1059c038c666"
      },
      "execution_count": null,
      "outputs": [
        {
          "output_type": "execute_result",
          "data": {
            "text/plain": [
              "{'Ram': '16 GB',\n",
              " 'Storage': '512 GB SSD',\n",
              " 'Graphics Card': 'NVIDIA GTX 1650',\n",
              " 'Display': '15.6 inches',\n",
              " 'Battery': '4000 mAh',\n",
              " 'Weight': '1.8 kg',\n",
              " 'Price (INR)': 96000,\n",
              " 'Fast Charge': True}"
            ]
          },
          "metadata": {},
          "execution_count": 30
        }
      ]
    },
    {
      "cell_type": "code",
      "execution_count": null,
      "metadata": {
        "id": "ypB9Evth5HKH",
        "colab": {
          "base_uri": "https://localhost:8080/",
          "height": 35
        },
        "outputId": "689d7991-057c-43b8-8ead-b69cea6925eb"
      },
      "outputs": [
        {
          "output_type": "execute_result",
          "data": {
            "text/plain": [
              "'16 GB'"
            ],
            "application/vnd.google.colaboratory.intrinsic+json": {
              "type": "string"
            }
          },
          "metadata": {},
          "execution_count": 87
        }
      ],
      "source": [
        "#`Remove the item 'Ram' : '16 GB' from the 'laptop_specs' dictionary.\n",
        "laptop_specs.pop(\"Ram\")"
      ]
    },
    {
      "cell_type": "code",
      "source": [
        "laptop_specs"
      ],
      "metadata": {
        "colab": {
          "base_uri": "https://localhost:8080/"
        },
        "id": "MMw7w0y0S9Vm",
        "outputId": "4a90125f-8306-4e86-fd7d-9d1dda009058"
      },
      "execution_count": null,
      "outputs": [
        {
          "output_type": "execute_result",
          "data": {
            "text/plain": [
              "{'Storage': '512 GB SSD',\n",
              " 'Graphics Card': 'NVIDIA GTX 1650',\n",
              " 'Display': '15.6 inches',\n",
              " 'Battery': '4000 mAh',\n",
              " 'Weight': '1.8 kg',\n",
              " 'Price (INR)': 96000,\n",
              " 'Fast Charge': True,\n",
              " 'processor': 'Intel Core i7'}"
            ]
          },
          "metadata": {},
          "execution_count": 88
        }
      ]
    },
    {
      "cell_type": "markdown",
      "metadata": {
        "id": "BwhK5JtH66Va"
      },
      "source": [
        "\n",
        "**Note:** The `pop()` function for a Python dictionary is different from the `pop()` function in Python list. In the case of dictionary, it takes the key of a key-value pair to remove the pair.\n",
        "\n",
        "**Syntax:** `python_dictionary.pop(key)`\n",
        "\n",
        "There is another function called the `popitem()` to remove an item from a dictionary. However, it removes only the last item from a dictionary."
      ]
    },
    {
      "cell_type": "code",
      "execution_count": null,
      "metadata": {
        "id": "Rq41rO9VqfxF",
        "colab": {
          "base_uri": "https://localhost:8080/"
        },
        "outputId": "fd41f9b9-cf7b-462d-9828-03c87854b888"
      },
      "outputs": [
        {
          "output_type": "execute_result",
          "data": {
            "text/plain": [
              "('processor', 'Intel Core i7')"
            ]
          },
          "metadata": {},
          "execution_count": 89
        }
      ],
      "source": [
        "# Remove the last item from the dictionary.\n",
        "laptop_specs.popitem()"
      ]
    },
    {
      "cell_type": "markdown",
      "metadata": {
        "id": "GQ_1YaWR7Y96"
      },
      "source": [
        "---"
      ]
    },
    {
      "cell_type": "code",
      "source": [
        "del laptop_specs[\"Weight\"]"
      ],
      "metadata": {
        "id": "Ow2CZxJoeyzo"
      },
      "execution_count": null,
      "outputs": []
    },
    {
      "cell_type": "markdown",
      "metadata": {
        "id": "PJaqkLfk7cSX"
      },
      "source": [
        "#### Activity 13: Update Dictionary Item\n",
        "\n",
        "Let's say the display of the laptop, whose specifications are listed in the `Display` dictionary, changes to 17.8. So, the Display item in the `laptop_specs` dictionary must be updated.\n",
        "\n",
        "To update an item in a dictionary, you need to enclose the key for that item in square brackets followed by the equals to sign, followed by the updated value as shown in the following syntax.\n",
        "\n",
        "**Syntax:** `dictionary_name[key] = new_value`"
      ]
    },
    {
      "cell_type": "code",
      "source": [
        "laptop_specs"
      ],
      "metadata": {
        "colab": {
          "base_uri": "https://localhost:8080/"
        },
        "id": "c_NrV0VzTTDE",
        "outputId": "d63bfa32-14e0-42f9-b803-ee287376235e"
      },
      "execution_count": null,
      "outputs": [
        {
          "output_type": "execute_result",
          "data": {
            "text/plain": [
              "{'Storage': '512 GB SSD',\n",
              " 'Graphics Card': 'NVIDIA GTX 1650',\n",
              " 'Display': '15.6 inches',\n",
              " 'Battery': '4000 mAh',\n",
              " 'Weight': '1.8 kg',\n",
              " 'Price (INR)': 96000,\n",
              " 'Fast Charge': True}"
            ]
          },
          "metadata": {},
          "execution_count": 90
        }
      ]
    },
    {
      "cell_type": "code",
      "execution_count": null,
      "metadata": {
        "id": "cXk13ZOR64Li"
      },
      "outputs": [],
      "source": [
        "#  Update the price of the smartphone in the 'my_dict' dictionary.\n",
        "laptop_specs[\"Display\"] = \"17.8 inches\""
      ]
    },
    {
      "cell_type": "code",
      "source": [
        "laptop_specs"
      ],
      "metadata": {
        "colab": {
          "base_uri": "https://localhost:8080/"
        },
        "id": "HWbgfqu-Tlw1",
        "outputId": "7c4f4005-44ae-4bb2-d68d-14af27e6a4ea"
      },
      "execution_count": null,
      "outputs": [
        {
          "output_type": "execute_result",
          "data": {
            "text/plain": [
              "{'Storage': '512 GB SSD',\n",
              " 'Graphics Card': 'NVIDIA GTX 1650',\n",
              " 'Display': '17.8 inches',\n",
              " 'Battery': '4000 mAh',\n",
              " 'Weight': '1.8 kg',\n",
              " 'Price (INR)': 96000,\n",
              " 'Fast Charge': True}"
            ]
          },
          "metadata": {},
          "execution_count": 92
        }
      ]
    },
    {
      "cell_type": "code",
      "source": [
        "laptop_specs[\"a\"] = \"b\""
      ],
      "metadata": {
        "id": "s865OTbDTocI"
      },
      "execution_count": null,
      "outputs": []
    },
    {
      "cell_type": "code",
      "source": [
        "laptop_specs"
      ],
      "metadata": {
        "colab": {
          "base_uri": "https://localhost:8080/"
        },
        "id": "06cgVUWVTtAX",
        "outputId": "d6e4cdba-7cfa-4a01-b873-091f94f739a5"
      },
      "execution_count": null,
      "outputs": [
        {
          "output_type": "execute_result",
          "data": {
            "text/plain": [
              "{'Storage': '512 GB SSD',\n",
              " 'Graphics Card': 'NVIDIA GTX 1650',\n",
              " 'Display': '17.8 inches',\n",
              " 'Battery': '4000 mAh',\n",
              " 'Weight': '1.8 kg',\n",
              " 'Price (INR)': 96000,\n",
              " 'Fast Charge': True,\n",
              " 'a': 'b'}"
            ]
          },
          "metadata": {},
          "execution_count": 94
        }
      ]
    },
    {
      "cell_type": "markdown",
      "metadata": {
        "id": "f_0ozJJZ8iFC"
      },
      "source": [
        "---"
      ]
    },
    {
      "cell_type": "markdown",
      "metadata": {
        "id": "cI72YLG98teC"
      },
      "source": [
        "### Activity 14: The `in` & `not in` Keywords\n",
        "\n",
        "To check whether a key exists in a dictionary or not, you can use the `in` keyword. If a key exists in the dictionary, then the `in` keyword will return `True`, else it will return `False`. Similarly, if a key exists in the dictionary, then the `not in` keyword will return `False`, else it will return `True`.\n",
        "\n",
        "You have already used them in `for` loops many times.\n",
        "\n",
        "**Syntax:** `key in dictionary_name`\n",
        "\n",
        "**Syntax:** `key not in dictionary_name`\n",
        "\n",
        "Let's find out whether the keys, `'Honda'` and `'Audi'` exist in the `cars_dict` or not.\n"
      ]
    },
    {
      "cell_type": "code",
      "source": [
        "\"b\" in laptop_specs\n",
        "# its working only for keys"
      ],
      "metadata": {
        "colab": {
          "base_uri": "https://localhost:8080/"
        },
        "id": "cg7a_RH8T4bM",
        "outputId": "f6a039bd-8da0-4207-d5fe-c1cef2a46e65"
      },
      "execution_count": null,
      "outputs": [
        {
          "output_type": "execute_result",
          "data": {
            "text/plain": [
              "False"
            ]
          },
          "metadata": {},
          "execution_count": 99
        }
      ]
    },
    {
      "cell_type": "code",
      "execution_count": null,
      "metadata": {
        "id": "fncaZ5cJ8Bna",
        "colab": {
          "base_uri": "https://localhost:8080/"
        },
        "outputId": "bea6f950-6b65-46ff-822b-e1d518078553"
      },
      "outputs": [
        {
          "output_type": "execute_result",
          "data": {
            "text/plain": [
              "True"
            ]
          },
          "metadata": {},
          "execution_count": 95
        }
      ],
      "source": [
        "# Check whether the item 'Honda' exists in the 'cars_dict' dictionary using the 'in' keyword.\n",
        "\"Honda\" in cars_dict"
      ]
    },
    {
      "cell_type": "code",
      "execution_count": null,
      "metadata": {
        "id": "n_eQpnNK9Ypt",
        "colab": {
          "base_uri": "https://localhost:8080/"
        },
        "outputId": "9bd19e66-5644-4624-efcf-98d01a3b9787"
      },
      "outputs": [
        {
          "output_type": "execute_result",
          "data": {
            "text/plain": [
              "True"
            ]
          },
          "metadata": {},
          "execution_count": 96
        }
      ],
      "source": [
        "#Check whether the item 'Audi' exists in the 'cars_dict' dictionary using the 'in' keyword.\n",
        "\"Audi\" not in cars_dict"
      ]
    },
    {
      "cell_type": "markdown",
      "metadata": {
        "id": "HSFyfWCixII2"
      },
      "source": [
        "---"
      ]
    },
    {
      "cell_type": "markdown",
      "metadata": {
        "id": "kTI9sh0MxJ8F"
      },
      "source": [
        "### Activity 15: The `update()` Function\n",
        "\n",
        "\n",
        "The `update()` function is applied on a dictionary and it's input is another dictionary wherein both the dictionary may or may not contain the same keys. The `update()` function performs two operations:\n",
        "\n",
        "1. It updates the existing key-value pair in a dictionary if a key exists.\n",
        "\n",
        "2. It adds the key-value pairs which do not exist in a dictionary.\n",
        "\n",
        "Consider the two dictionaries:\n",
        "\n",
        "```\n",
        "cars_dict = {'Ford': ['Figo', 'EcoSport', 'Aspire'],\n",
        "              'Honda': 'City',\n",
        "              'Hyundai': ['Verna', 'Creta'],\n",
        "              'Maruti Suzuki': ['Baleno', 'Vitara Brezza', 'Ciaz'],\n",
        "              'Volkswagen': ['Polo', 'Tiguan', 'Vento']}\n",
        "\n",
        "supercars = {\"Ford\": \"Mustang GT\",\n",
        "             \"Lamborghini\": [\"Huracan\", \"Aventador\", \"Elemento\"],\n",
        "             \"Koenigsegg\": [\"Agera\", \"Gemera\", \"Regera\"],\n",
        "             \"Bugatti\": \"Veyron\"}\n",
        "```\n",
        "\n",
        "When the `update()` function is applied on the `cars_dict` dictionary with the `supercars` dictionary as input, it updates the value of the `Ford` key and adds the other key-value pairs of the `supercars` dictionary to the `car_dict` dictionary."
      ]
    },
    {
      "cell_type": "code",
      "execution_count": null,
      "metadata": {
        "id": "yXKYodGnxKlg"
      },
      "outputs": [],
      "source": [
        "# Create the 'supercars' dictionary and update the 'cars_dict' dictionary with the key-value pairs of the 'supercars' dictionary.\n",
        "cars_dict = {'Ford': ['Figo', 'EcoSport', 'Aspire'],\n",
        "              'Honda': 'City',\n",
        "              'Hyundai': ['Verna', 'Creta'],\n",
        "              'Maruti Suzuki': ['Baleno', 'Vitara Brezza', 'Ciaz'],\n",
        "              'Volkswagen': ['Polo', 'Tiguan', 'Vento']}\n",
        "\n",
        "supercars = {\"Ford\": \"Mustang GT\",\n",
        "             \"Lamborghini\": [\"Huracan\", \"Aventador\", \"Elemento\"],\n",
        "             \"Koenigsegg\": [\"Agera\", \"Gemera\", \"Regera\"],\n",
        "             \"Bugatti\": \"Veyron\"}\n"
      ]
    },
    {
      "cell_type": "code",
      "source": [
        "cars_dict.update(supercars)"
      ],
      "metadata": {
        "id": "ULZY2gYigCTO"
      },
      "execution_count": null,
      "outputs": []
    },
    {
      "cell_type": "code",
      "source": [
        "cars_dict"
      ],
      "metadata": {
        "colab": {
          "base_uri": "https://localhost:8080/"
        },
        "id": "lu6Gz-3pgH1b",
        "outputId": "622498a3-bd2f-4ad6-c0e3-ef3c3e9a5bc2"
      },
      "execution_count": null,
      "outputs": [
        {
          "output_type": "execute_result",
          "data": {
            "text/plain": [
              "{'Ford': 'Mustang GT',\n",
              " 'Honda': 'City',\n",
              " 'Hyundai': ['Verna', 'Creta'],\n",
              " 'Maruti Suzuki': ['Baleno', 'Vitara Brezza', 'Ciaz'],\n",
              " 'Volkswagen': ['Polo', 'Tiguan', 'Vento'],\n",
              " 'Lamborghini': ['Huracan', 'Aventador', 'Elemento'],\n",
              " 'Koenigsegg': ['Agera', 'Gemera', 'Regera'],\n",
              " 'Bugatti': 'Veyron'}"
            ]
          },
          "metadata": {},
          "execution_count": 102
        }
      ]
    },
    {
      "cell_type": "markdown",
      "metadata": {
        "id": "v5DkeL326Khx"
      },
      "source": [
        "---"
      ]
    },
    {
      "cell_type": "markdown",
      "metadata": {
        "id": "A0_wuVs6EBzJ"
      },
      "source": [
        "#### Activity 16: The `clear()` Function\n",
        "\n",
        "The `clear()` function simply clears or deletes all the key-values pairs from a dictionary."
      ]
    },
    {
      "cell_type": "code",
      "execution_count": null,
      "metadata": {
        "id": "M43N32aXD-OH"
      },
      "outputs": [],
      "source": [
        "#Clear the contents of the  dictionary.\n",
        "cars_dict.clear()"
      ]
    },
    {
      "cell_type": "code",
      "source": [
        "cars_dict"
      ],
      "metadata": {
        "id": "eohh7DVcggIq",
        "outputId": "ea9212aa-48be-4e35-b6bf-ebbfed96533a",
        "colab": {
          "base_uri": "https://localhost:8080/"
        }
      },
      "execution_count": null,
      "outputs": [
        {
          "output_type": "execute_result",
          "data": {
            "text/plain": [
              "{}"
            ]
          },
          "metadata": {},
          "execution_count": 104
        }
      ]
    }
  ]
}