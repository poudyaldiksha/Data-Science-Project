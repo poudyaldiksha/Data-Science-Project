{
  "nbformat": 4,
  "nbformat_minor": 0,
  "metadata": {
    "colab": {
      "provenance": []
    },
    "kernelspec": {
      "name": "python3",
      "display_name": "Python 3"
    },
    "language_info": {
      "name": "python"
    }
  },
  "cells": [
    {
      "cell_type": "markdown",
      "source": [
        "# Lesson 1: Introduction to Python,Basic Arithmetic Operations, Variables and data-types"
      ],
      "metadata": {
        "id": "w8UDhz3ViCmO"
      }
    },
    {
      "cell_type": "code",
      "source": [
        "8+3"
      ],
      "metadata": {
        "colab": {
          "base_uri": "https://localhost:8080/"
        },
        "id": "J0ck3NOVxm0u",
        "outputId": "e7a0f8b7-6805-4717-8359-1839ecc2738a"
      },
      "execution_count": null,
      "outputs": [
        {
          "output_type": "execute_result",
          "data": {
            "text/plain": [
              "11"
            ]
          },
          "metadata": {},
          "execution_count": 1
        }
      ]
    },
    {
      "cell_type": "code",
      "source": [],
      "metadata": {
        "id": "044w_me3xuub"
      },
      "execution_count": null,
      "outputs": []
    },
    {
      "cell_type": "markdown",
      "source": [
        "\"Lesson 1\" oct 1"
      ],
      "metadata": {
        "id": "3MVYNIy6xwei"
      }
    },
    {
      "cell_type": "markdown",
      "source": [
        "##**Road map to Data Science:**\n",
        "\n",
        "1. **Programming Language:** We’ll start with Python, which is  the top-rated programming language for data science( we will cover basics, data structures in python, numpy and pandas library).\n",
        "\n",
        "2. **Basic Math, Statistics, and Probability:** These are essential for understanding and working with **data**.\n",
        "\n",
        "3. **Exploratory Data Analysis (EDA):** We’ll learn how to explore data and uncover patterns and perform data manipulations.  \n",
        "\n",
        "4. **Data Visualization and SQL:** We’ll use tools like Seaborn, Matplotlib, plotly for visualization.\n",
        "\n",
        "5. **Machine Learning Algorithms:** using `sklearn` deploying models for predictions and also you will learn math behind it.\n"
      ],
      "metadata": {
        "id": "GYr8kierBOF-"
      }
    },
    {
      "cell_type": "markdown",
      "source": [
        "\n",
        "\n",
        "\n",
        "##**Introduction to Python**:\n",
        "\n",
        "Python is a high-level, interpreted, and interactive programming language that is known for its readability and simplicity.\n",
        "Python is an excellent language for beginners. It's used to develop a wide range of applications, from simple scripts to complex web applications and games."
      ],
      "metadata": {
        "id": "9lO0-fiwwE1m"
      }
    },
    {
      "cell_type": "markdown",
      "source": [
        "####**Python Operators**\n",
        "Operators in Python are special symbols that perform operations on variables and values. Let's explore the different types of operators with simple examples.\n",
        "\n"
      ],
      "metadata": {
        "id": "C8K5-L-NzF8C"
      }
    },
    {
      "cell_type": "markdown",
      "source": [
        "#### Activity 1: Basic Arithmetic Operations"
      ],
      "metadata": {
        "id": "qIEgFQtX8nJu"
      }
    },
    {
      "cell_type": "code",
      "source": [
        "# Addition (+) : Adds two numbers.\n",
        "#addition\n",
        "2+5"
      ],
      "metadata": {
        "id": "FIS55z8IyBJJ",
        "colab": {
          "base_uri": "https://localhost:8080/"
        },
        "outputId": "56a6238d-fa8d-457f-c261-e9b3d6866c76"
      },
      "execution_count": null,
      "outputs": [
        {
          "output_type": "execute_result",
          "data": {
            "text/plain": [
              "7"
            ]
          },
          "metadata": {},
          "execution_count": 2
        }
      ]
    },
    {
      "cell_type": "code",
      "source": [
        "#Subtraction (-): Subtracts one number from another.\n",
        "#4-2\n",
        "4-2"
      ],
      "metadata": {
        "id": "rap7DPEYyBFF",
        "colab": {
          "base_uri": "https://localhost:8080/"
        },
        "outputId": "08197cc6-d7bc-42b3-af5b-672f8312ba51"
      },
      "execution_count": null,
      "outputs": [
        {
          "output_type": "execute_result",
          "data": {
            "text/plain": [
              "2"
            ]
          },
          "metadata": {},
          "execution_count": 5
        }
      ]
    },
    {
      "cell_type": "code",
      "source": [
        "# Multiplication (*): Multiplies two numbers.\n",
        "3*2"
      ],
      "metadata": {
        "id": "0P_Nh3MVyA_k",
        "colab": {
          "base_uri": "https://localhost:8080/"
        },
        "outputId": "99b05f6a-488d-42a4-f609-93e7dc075d11"
      },
      "execution_count": null,
      "outputs": [
        {
          "output_type": "execute_result",
          "data": {
            "text/plain": [
              "6"
            ]
          },
          "metadata": {},
          "execution_count": 6
        }
      ]
    },
    {
      "cell_type": "code",
      "source": [
        "type(3*2)"
      ],
      "metadata": {
        "colab": {
          "base_uri": "https://localhost:8080/"
        },
        "id": "45AWZ-Hb0TY3",
        "outputId": "c8ac88fd-26b4-4209-c917-3439df04b09f"
      },
      "execution_count": null,
      "outputs": [
        {
          "output_type": "execute_result",
          "data": {
            "text/plain": [
              "int"
            ]
          },
          "metadata": {},
          "execution_count": 8
        }
      ]
    },
    {
      "cell_type": "code",
      "source": [
        "# Division (/): Divides one number by another.\n",
        "6/2"
      ],
      "metadata": {
        "id": "VUsAg9qLyA80",
        "colab": {
          "base_uri": "https://localhost:8080/"
        },
        "outputId": "1989ebac-ab82-4bc2-a7d5-606b307dd011"
      },
      "execution_count": null,
      "outputs": [
        {
          "output_type": "execute_result",
          "data": {
            "text/plain": [
              "3.0"
            ]
          },
          "metadata": {},
          "execution_count": 7
        }
      ]
    },
    {
      "cell_type": "code",
      "source": [
        "type(4/2)"
      ],
      "metadata": {
        "colab": {
          "base_uri": "https://localhost:8080/"
        },
        "id": "UQyljz6j0YOO",
        "outputId": "12d4db52-2d8b-4f85-e619-f3340bf8fe68"
      },
      "execution_count": null,
      "outputs": [
        {
          "output_type": "execute_result",
          "data": {
            "text/plain": [
              "float"
            ]
          },
          "metadata": {},
          "execution_count": 9
        }
      ]
    },
    {
      "cell_type": "code",
      "source": [
        "# Modulus (%): Returns the remainder of a division.\n",
        "4%2"
      ],
      "metadata": {
        "id": "R8mmgH9NyA5H",
        "colab": {
          "base_uri": "https://localhost:8080/"
        },
        "outputId": "ce6ca4b9-44f8-4744-d362-e2a29b7f6ac4"
      },
      "execution_count": null,
      "outputs": [
        {
          "output_type": "execute_result",
          "data": {
            "text/plain": [
              "0"
            ]
          },
          "metadata": {},
          "execution_count": 10
        }
      ]
    },
    {
      "cell_type": "code",
      "source": [
        "5%2"
      ],
      "metadata": {
        "colab": {
          "base_uri": "https://localhost:8080/"
        },
        "id": "YpI7d08n0ypG",
        "outputId": "b99e799c-c075-4c82-852b-4e6b15ed0ac6"
      },
      "execution_count": null,
      "outputs": [
        {
          "output_type": "execute_result",
          "data": {
            "text/plain": [
              "1"
            ]
          },
          "metadata": {},
          "execution_count": 11
        }
      ]
    },
    {
      "cell_type": "code",
      "source": [
        "# Exponentiation (**): Raises one number to the power of another.\n",
        "4**2"
      ],
      "metadata": {
        "id": "bIy59pRnyA1u",
        "colab": {
          "base_uri": "https://localhost:8080/"
        },
        "outputId": "fffcfbf7-04a6-4ab7-af60-13c119eddad9"
      },
      "execution_count": null,
      "outputs": [
        {
          "output_type": "execute_result",
          "data": {
            "text/plain": [
              "16"
            ]
          },
          "metadata": {},
          "execution_count": 12
        }
      ]
    },
    {
      "cell_type": "code",
      "source": [
        "# Floor Division (//): Divides one number by another and rounds down to the nearest integer.\n",
        "5//2"
      ],
      "metadata": {
        "id": "Lv3X7FlNyAqc",
        "colab": {
          "base_uri": "https://localhost:8080/"
        },
        "outputId": "a824ab3b-d527-4f69-b915-e1d592f42148"
      },
      "execution_count": null,
      "outputs": [
        {
          "output_type": "execute_result",
          "data": {
            "text/plain": [
              "2"
            ]
          },
          "metadata": {},
          "execution_count": 13
        }
      ]
    },
    {
      "cell_type": "code",
      "source": [
        "# write any text\n",
        "\"python\""
      ],
      "metadata": {
        "id": "ccHjmxjT1My8",
        "colab": {
          "base_uri": "https://localhost:8080/",
          "height": 35
        },
        "outputId": "681cb421-4554-497e-99d7-dce823cdcc84"
      },
      "execution_count": null,
      "outputs": [
        {
          "output_type": "execute_result",
          "data": {
            "text/plain": [
              "'python'"
            ],
            "application/vnd.google.colaboratory.intrinsic+json": {
              "type": "string"
            }
          },
          "metadata": {},
          "execution_count": 15
        }
      ]
    },
    {
      "cell_type": "code",
      "source": [
        "# text is called as strings\n",
        "'python'\n",
        "\"rises\""
      ],
      "metadata": {
        "colab": {
          "base_uri": "https://localhost:8080/",
          "height": 35
        },
        "id": "zLKXVVH41qsx",
        "outputId": "893b2578-1a24-40c5-8962-5fa005740c69"
      },
      "execution_count": null,
      "outputs": [
        {
          "output_type": "execute_result",
          "data": {
            "text/plain": [
              "'rises'"
            ],
            "application/vnd.google.colaboratory.intrinsic+json": {
              "type": "string"
            }
          },
          "metadata": {},
          "execution_count": 17
        }
      ]
    },
    {
      "cell_type": "code",
      "source": [],
      "metadata": {
        "id": "X0Ngw_y22Cdl"
      },
      "execution_count": null,
      "outputs": []
    },
    {
      "cell_type": "markdown",
      "source": [
        "text----Strings\n",
        "double quotation(\" \") or single quotations(' ')"
      ],
      "metadata": {
        "id": "xBE7oBEZ6siE"
      }
    },
    {
      "cell_type": "markdown",
      "source": [
        "#### Activity 2: Working with Strings\n",
        "Now, let’s play around with strings:"
      ],
      "metadata": {
        "id": "ZidYQrri85RQ"
      }
    },
    {
      "cell_type": "code",
      "source": [
        "#addition\n",
        "4+5"
      ],
      "metadata": {
        "colab": {
          "base_uri": "https://localhost:8080/"
        },
        "id": "NQ6P8e4l2ci5",
        "outputId": "ec6e82a8-e632-49ff-9c58-a15a89227a39"
      },
      "execution_count": null,
      "outputs": [
        {
          "output_type": "execute_result",
          "data": {
            "text/plain": [
              "9"
            ]
          },
          "metadata": {},
          "execution_count": 18
        }
      ]
    },
    {
      "cell_type": "code",
      "source": [
        "\"earth \" + \"3\""
      ],
      "metadata": {
        "colab": {
          "base_uri": "https://localhost:8080/",
          "height": 35
        },
        "id": "rAC0ViyF2x6_",
        "outputId": "f32fa893-4da0-4028-e97d-b93b1ef362df"
      },
      "execution_count": null,
      "outputs": [
        {
          "output_type": "execute_result",
          "data": {
            "text/plain": [
              "'earth 3'"
            ],
            "application/vnd.google.colaboratory.intrinsic+json": {
              "type": "string"
            }
          },
          "metadata": {},
          "execution_count": 21
        }
      ]
    },
    {
      "cell_type": "code",
      "source": [
        "\"earth\" + str(3)"
      ],
      "metadata": {
        "colab": {
          "base_uri": "https://localhost:8080/",
          "height": 35
        },
        "id": "abI5dSBm3P0H",
        "outputId": "8140d8ec-b69f-4c79-eb45-b2832c56d1b8"
      },
      "execution_count": null,
      "outputs": [
        {
          "output_type": "execute_result",
          "data": {
            "text/plain": [
              "'earth3'"
            ],
            "application/vnd.google.colaboratory.intrinsic+json": {
              "type": "string"
            }
          },
          "metadata": {},
          "execution_count": 22
        }
      ]
    },
    {
      "cell_type": "code",
      "source": [
        "# Concatenation\n",
        "\"earth\" + \"home\""
      ],
      "metadata": {
        "id": "exhJJgyd84lH",
        "colab": {
          "base_uri": "https://localhost:8080/",
          "height": 35
        },
        "outputId": "c711c0e8-5edd-436b-8679-4ddc44209c87"
      },
      "execution_count": null,
      "outputs": [
        {
          "output_type": "execute_result",
          "data": {
            "text/plain": [
              "'earthhome'"
            ],
            "application/vnd.google.colaboratory.intrinsic+json": {
              "type": "string"
            }
          },
          "metadata": {},
          "execution_count": 19
        }
      ]
    },
    {
      "cell_type": "code",
      "source": [
        "# Repetition\n",
        "\"earth\" * 3"
      ],
      "metadata": {
        "id": "oiX177AK9Zwc",
        "colab": {
          "base_uri": "https://localhost:8080/",
          "height": 35
        },
        "outputId": "b1cc909c-41a7-4308-d59c-2abc7ff34874"
      },
      "execution_count": null,
      "outputs": [
        {
          "output_type": "execute_result",
          "data": {
            "text/plain": [
              "'earthearthearth'"
            ],
            "application/vnd.google.colaboratory.intrinsic+json": {
              "type": "string"
            }
          },
          "metadata": {},
          "execution_count": 24
        }
      ]
    },
    {
      "cell_type": "code",
      "source": [
        "\"a\" * 10"
      ],
      "metadata": {
        "colab": {
          "base_uri": "https://localhost:8080/",
          "height": 35
        },
        "id": "dqHXGYlX3k_p",
        "outputId": "1ebb0027-04fc-4917-a4d6-493546683377"
      },
      "execution_count": null,
      "outputs": [
        {
          "output_type": "execute_result",
          "data": {
            "text/plain": [
              "'aaaaaaaaaa'"
            ],
            "application/vnd.google.colaboratory.intrinsic+json": {
              "type": "string"
            }
          },
          "metadata": {},
          "execution_count": 25
        }
      ]
    },
    {
      "cell_type": "code",
      "source": [
        "# tuple\n",
        "a = \"earth\", 3\n",
        "type(a)"
      ],
      "metadata": {
        "colab": {
          "base_uri": "https://localhost:8080/"
        },
        "id": "VDwgSf6E3rky",
        "outputId": "b3544e03-b5a2-42d8-ba2a-87f1905042f4"
      },
      "execution_count": null,
      "outputs": [
        {
          "output_type": "execute_result",
          "data": {
            "text/plain": [
              "tuple"
            ]
          },
          "metadata": {},
          "execution_count": 30
        }
      ]
    },
    {
      "cell_type": "markdown",
      "source": [
        "####Activity 3: Mixing Types\n",
        "Finally, let’s see how Python handles different data types:\n"
      ],
      "metadata": {
        "id": "IkcXgiP_-lD6"
      }
    },
    {
      "cell_type": "code",
      "source": [
        "# Adding an integer and a string\n",
        "\"3\" + \"a\""
      ],
      "metadata": {
        "id": "_DT5Ksqc-khO",
        "colab": {
          "base_uri": "https://localhost:8080/",
          "height": 35
        },
        "outputId": "4375fdfa-0323-4b57-d539-5b34e7759818"
      },
      "execution_count": null,
      "outputs": [
        {
          "output_type": "execute_result",
          "data": {
            "text/plain": [
              "'3a'"
            ],
            "application/vnd.google.colaboratory.intrinsic+json": {
              "type": "string"
            }
          },
          "metadata": {},
          "execution_count": 31
        }
      ]
    },
    {
      "cell_type": "code",
      "source": [
        "# Converting a number to a string to concatenate\n",
        "str(4)"
      ],
      "metadata": {
        "id": "9A79tIAJ-4ok",
        "colab": {
          "base_uri": "https://localhost:8080/",
          "height": 35
        },
        "outputId": "db151056-d579-4a65-bd85-67de897a568e"
      },
      "execution_count": null,
      "outputs": [
        {
          "output_type": "execute_result",
          "data": {
            "text/plain": [
              "'4'"
            ],
            "application/vnd.google.colaboratory.intrinsic+json": {
              "type": "string"
            }
          },
          "metadata": {},
          "execution_count": 32
        }
      ]
    },
    {
      "cell_type": "code",
      "source": [
        "\"3\""
      ],
      "metadata": {
        "colab": {
          "base_uri": "https://localhost:8080/",
          "height": 35
        },
        "id": "HAXXTbIc4oM8",
        "outputId": "8fd6a0e5-4cb5-4a0e-a2c7-98807fbca186"
      },
      "execution_count": null,
      "outputs": [
        {
          "output_type": "execute_result",
          "data": {
            "text/plain": [
              "'3'"
            ],
            "application/vnd.google.colaboratory.intrinsic+json": {
              "type": "string"
            }
          },
          "metadata": {},
          "execution_count": 33
        }
      ]
    },
    {
      "cell_type": "code",
      "source": [
        "type(\"3\")"
      ],
      "metadata": {
        "colab": {
          "base_uri": "https://localhost:8080/"
        },
        "id": "pilGHFqJ4tCi",
        "outputId": "adf56272-8cf3-48ce-ecab-ec08dc6b20f6"
      },
      "execution_count": null,
      "outputs": [
        {
          "output_type": "execute_result",
          "data": {
            "text/plain": [
              "str"
            ]
          },
          "metadata": {},
          "execution_count": 35
        }
      ]
    },
    {
      "cell_type": "code",
      "source": [
        "type(True)"
      ],
      "metadata": {
        "colab": {
          "base_uri": "https://localhost:8080/"
        },
        "id": "65Uei0WP4-e6",
        "outputId": "ca0ba437-290d-45c3-8bb7-127837cf9aa8"
      },
      "execution_count": null,
      "outputs": [
        {
          "output_type": "execute_result",
          "data": {
            "text/plain": [
              "bool"
            ]
          },
          "metadata": {},
          "execution_count": 36
        }
      ]
    },
    {
      "cell_type": "code",
      "source": [
        "type(\"True\")"
      ],
      "metadata": {
        "colab": {
          "base_uri": "https://localhost:8080/"
        },
        "id": "ceGdRJF05Btz",
        "outputId": "a3df8f97-1a8c-4b67-95ff-e80e5eb299ce"
      },
      "execution_count": null,
      "outputs": [
        {
          "output_type": "execute_result",
          "data": {
            "text/plain": [
              "str"
            ]
          },
          "metadata": {},
          "execution_count": 37
        }
      ]
    },
    {
      "cell_type": "code",
      "source": [
        "type(9.456)"
      ],
      "metadata": {
        "colab": {
          "base_uri": "https://localhost:8080/"
        },
        "id": "aZ_iVXpq5EVF",
        "outputId": "1f9197a0-f2e8-42bf-84ba-c472d7d4b38f"
      },
      "execution_count": null,
      "outputs": [
        {
          "output_type": "execute_result",
          "data": {
            "text/plain": [
              "float"
            ]
          },
          "metadata": {},
          "execution_count": 38
        }
      ]
    },
    {
      "cell_type": "markdown",
      "source": [
        "#### Activity 4: Variables And Data-Types\n",
        "\n",
        "**Variables:** Names that you can assign values to, allowing you to\n",
        "reuse them later on.\n",
        "\n",
        "\n",
        "\n",
        "**Python Identifiers**\n",
        "\n",
        "Python identifiers are names used to identify variables, functions, classes, modules, and other objects in Python code. Here are some key points about Python identifiers:\n",
        "\n",
        "**Rules for naming variables:**\n",
        "• Have to start with a letters `a-z, A-Z or underscore (_)`\n",
        "\n",
        "• No special characters are allowed\n",
        "\n",
        "• Can't contain spaces\n",
        "\n",
        "• Can't be Python keywords\n",
        "\n",
        "• Are case sensitive\n",
        "\n",
        "As a good practice, name a variable in such a way that it reflects the nature of the value stored in it.\n",
        "\n",
        "\n",
        "**What are data-types in Python?**\n",
        "\n",
        "\n",
        "• **Integer (INT):** Number without decimal points\n",
        "\n",
        "• **Floating Point Number:** Number having digits after decimal points\n",
        "\n",
        "• **String:** Value enclosed between `single(' ')` or` doube quotes(\" \")`\n",
        "\n",
        "• **Boolean:** Either True or False values\n",
        "\n",
        "\n",
        "\n",
        "**NOTE:**\n",
        "<font color=\"Green\">\n",
        "<ol><li>The `T` in `True` and `F` in `False` must be capital because Python is case-sensitive.</li>\n",
        "\n",
        "<li> A variable can store only one value at a time.</li>\n",
        "</font></ol>\n",
        "\n",
        "Now, let's practice Python variables by storing the various information\n",
        "\n",
        "\n"
      ],
      "metadata": {
        "id": "Rb5fTf-D_a5h"
      }
    },
    {
      "cell_type": "code",
      "source": [
        "a = 6"
      ],
      "metadata": {
        "id": "m9unnbo16WJf"
      },
      "execution_count": null,
      "outputs": []
    },
    {
      "cell_type": "code",
      "source": [
        "a = 10"
      ],
      "metadata": {
        "id": "xgK4diUs9Fap"
      },
      "execution_count": null,
      "outputs": []
    },
    {
      "cell_type": "code",
      "source": [
        "A = 23"
      ],
      "metadata": {
        "id": "eykBqxjuVxb6"
      },
      "execution_count": null,
      "outputs": []
    },
    {
      "cell_type": "code",
      "source": [
        "abc123 = 10"
      ],
      "metadata": {
        "id": "qRpiSYTZVYKJ"
      },
      "execution_count": null,
      "outputs": []
    },
    {
      "cell_type": "code",
      "source": [
        "abc = 453"
      ],
      "metadata": {
        "id": "M23DqCNOVaDx"
      },
      "execution_count": null,
      "outputs": []
    },
    {
      "cell_type": "code",
      "source": [
        "_abc = 987"
      ],
      "metadata": {
        "id": "8ntPyRF7Vcmq"
      },
      "execution_count": null,
      "outputs": []
    },
    {
      "cell_type": "code",
      "source": [
        "ABC = 767"
      ],
      "metadata": {
        "id": "56Mkbx0PVfAe"
      },
      "execution_count": null,
      "outputs": []
    },
    {
      "cell_type": "code",
      "source": [
        "a = 5"
      ],
      "metadata": {
        "id": "rAUgaA4N8HKZ"
      },
      "execution_count": null,
      "outputs": []
    },
    {
      "cell_type": "code",
      "source": [
        "# not valid variable names:\n",
        "# 123abc\n",
        "# abc@\n",
        "# for\n",
        "# a b"
      ],
      "metadata": {
        "id": "b9joZaDbVnRD"
      },
      "execution_count": null,
      "outputs": []
    },
    {
      "cell_type": "code",
      "source": [
        "help(\"keywords\")"
      ],
      "metadata": {
        "id": "w8nr0jJ49WNt"
      },
      "execution_count": null,
      "outputs": []
    },
    {
      "cell_type": "code",
      "source": [
        "# Activity: Create 4 different variables and store the  name, age,  Gender(True for female, False for male)and time right now in the variables.\n",
        "# 1. Store a string value in a variable\n",
        "\n",
        "# 2. Store an integer value in a variable.\n",
        "\n",
        "# 3. Store a float-point number in a variable.\n",
        "\n",
        "# 4. Store a boolean value in a number.\n",
        "# Python can also store a boolean value, i.e., either True or False.\n",
        "# The 'Yes' or 'No' values are generally represented as True or False in Python. It cannot understand Yes or No.\n",
        "\n",
        "\n",
        "\n",
        "# If we run the code cell, we won't get any output. But the values will be assigned to these 4 variables."
      ],
      "metadata": {
        "id": "h6pW_gqn_aXc"
      },
      "execution_count": null,
      "outputs": []
    },
    {
      "cell_type": "markdown",
      "source": [
        "**Function**: to do a task\n",
        "\n",
        "1) Pre defined function/ ready made function\n",
        "2) User defined functions\n"
      ],
      "metadata": {
        "id": "BE5PsqcY-5z9"
      }
    },
    {
      "cell_type": "markdown",
      "source": [
        "#### Activity 5: The `print()` Function\n",
        "Let's print `\"Hello Earth\"` message using the `print()` function. The text `\"Hello Earth\"` is an input to the `print()` function. The output would also be the same.\n",
        "\n",
        "When using the `print()` function, enclose the text that you need to print either in single-quotes (`''`) or in double-quotes (`\"\"`).\n",
        "\n",
        "To run the code, either click on the `Play` button on the left-hand side of the code cell or press the `shift` and `enter` keys together while you are active in the code cell."
      ],
      "metadata": {
        "id": "R2I3b_cuuuLX"
      }
    },
    {
      "cell_type": "code",
      "source": [
        "# Activity: Print \"Hello Earth\" message to a player using the 'print()' function.\n",
        "\n"
      ],
      "metadata": {
        "id": "Gv4nt9zXvG7Y"
      },
      "execution_count": null,
      "outputs": []
    },
    {
      "cell_type": "code",
      "source": [
        "#Activity: Print above created variables\n"
      ],
      "metadata": {
        "id": "PkLg_NPqIv4W"
      },
      "execution_count": null,
      "outputs": []
    },
    {
      "cell_type": "code",
      "source": [
        "#print(\"nagpur's orange\")"
      ],
      "metadata": {
        "id": "wiJY8DEFLPNA"
      },
      "execution_count": null,
      "outputs": []
    },
    {
      "cell_type": "code",
      "source": [
        "#print('nagpur's orange')"
      ],
      "metadata": {
        "id": "KbJckedfAC5b"
      },
      "execution_count": null,
      "outputs": []
    },
    {
      "cell_type": "code",
      "source": [
        "#print('nagpur \"orange\"')"
      ],
      "metadata": {
        "id": "39T_9mChsk1K"
      },
      "execution_count": null,
      "outputs": []
    },
    {
      "cell_type": "code",
      "source": [
        "#print(\"nagpur\\'s \\\"orange\\\"\")"
      ],
      "metadata": {
        "id": "KMAckyWxsmaG"
      },
      "execution_count": null,
      "outputs": []
    },
    {
      "cell_type": "markdown",
      "source": [
        "#### Activity 6: The `input()` Function\n",
        "\n",
        "To take input from a user in Python, you can use another function called `input()`.\n",
        "\n",
        "\n",
        " Inside the `input()` function, you can also write a message to the player to display the message before taking the required input.\n",
        "\n",
        " **Note**\n",
        "The `input()` function takes input in the form of string."
      ],
      "metadata": {
        "id": "nuVkPvIEsER6"
      }
    },
    {
      "cell_type": "code",
      "source": [
        "#Activity: Take input from a user and store it in the variable.\n"
      ],
      "metadata": {
        "id": "dV67WzlCsT9P"
      },
      "execution_count": null,
      "outputs": []
    },
    {
      "cell_type": "markdown",
      "source": [
        "#### Activity 7: More about `print()` Function\n",
        "\n",
        "The print function is one of the most commonly used functions in Python. It allows you to display text and variables on the screen.\n",
        "\n",
        "\n",
        "*You can print multiple entities using the `print()` function by separating them with a comma.*\n",
        "\n",
        "**NOTE:**\n",
        "<font color=\"green\"><ul><li>The text written after the hash (`#`) symbol is not a code. </li><li>Anything written after `#` is read as a plain text by Python. Such plain texts are called **comments** written by a coder to briefly explain the code.</li><li> A syntax is like a grammar of a programing language. It is a standard protocol that must be followed while writing code.</li><li>We can escape characters in python by using backslash </li></font></ul>\n"
      ],
      "metadata": {
        "id": "vhf4eC2xJi2l"
      }
    },
    {
      "cell_type": "code",
      "source": [
        "# simple print statement\n",
        "print(\"Hello\",\" how\",\" are\",\"you\")"
      ],
      "metadata": {
        "id": "MursKuZ4J2hw"
      },
      "execution_count": null,
      "outputs": []
    },
    {
      "cell_type": "markdown",
      "source": [
        "**Using the sep Keyword**\n",
        "\n",
        "The sep keyword in the print function specifies the separator between multiple arguments. By default, it is a space."
      ],
      "metadata": {
        "id": "wTPkzoSKKIJv"
      }
    },
    {
      "cell_type": "code",
      "source": [
        "# using 'sep' keyword\n",
        "print(\"Hello\",\"how\",\"are\",\"you\",sep=\"&&&&\")"
      ],
      "metadata": {
        "id": "25N8HynJKUR5"
      },
      "execution_count": null,
      "outputs": []
    },
    {
      "cell_type": "code",
      "source": [
        "#Use the sep keyword to print a date in the format DD-MM-YYYY.\n",
        "print(\"26\",\"06\",\"2024\",sep=\"-\")"
      ],
      "metadata": {
        "id": "8NVEX36wL6D9"
      },
      "execution_count": null,
      "outputs": []
    },
    {
      "cell_type": "markdown",
      "source": [
        "**Newline Character \\n**\n",
        "The newline character \\n is used to insert a new line in the output."
      ],
      "metadata": {
        "id": "ToY_aoACLZZ4"
      }
    },
    {
      "cell_type": "code",
      "source": [
        "# newline character (\\n)\n",
        "print(\"c:docs\\naveen\")"
      ],
      "metadata": {
        "id": "zr3kG2n1LcTE"
      },
      "execution_count": null,
      "outputs": []
    },
    {
      "cell_type": "code",
      "source": [
        "# try more examples using \\n\n",
        "print(\"c:docs\\\\naveen\")"
      ],
      "metadata": {
        "id": "cmSICzsYMP4h"
      },
      "execution_count": null,
      "outputs": []
    },
    {
      "cell_type": "code",
      "source": [
        "print(r\"c:docs\\naveen\\n\\n\")"
      ],
      "metadata": {
        "id": "YhuMZU6_CROb"
      },
      "execution_count": null,
      "outputs": []
    },
    {
      "cell_type": "markdown",
      "source": [
        "**Using the end Keyword**\n",
        "\n",
        "The end keyword in the print function specifies what to print at the end. By default, it is a newline character (\\n)."
      ],
      "metadata": {
        "id": "fxPfBedgKcj5"
      }
    },
    {
      "cell_type": "code",
      "source": [
        "# using 'end' keyword\n",
        "print(\"hello\")\n",
        "print(\"how\")\n",
        "print(\"are\")\n",
        "print(\"you\")"
      ],
      "metadata": {
        "id": "88Gcry7lKgEy"
      },
      "execution_count": null,
      "outputs": []
    },
    {
      "cell_type": "code",
      "source": [
        "# Use the end keyword to print a sentence in a single line using two print statements.\n",
        "print(\"hello\", end=\"*\")\n",
        "print(\"how\",end=\"*\")\n",
        "print(\"are\",end=\"*\")\n",
        "print(\"you\")"
      ],
      "metadata": {
        "id": "PpHYWsMkMDTf"
      },
      "execution_count": null,
      "outputs": []
    },
    {
      "cell_type": "markdown",
      "source": [
        "**Additional Tips for Using the print Function**\n",
        "\n",
        "You can combine sep and end keywords for more complex output formatting.\n",
        "The print function can handle multiple arguments and will concatenate them with spaces unless specified otherwise."
      ],
      "metadata": {
        "id": "Q1Zx2gtFMalV"
      }
    },
    {
      "cell_type": "code",
      "source": [
        "# Combining sep and end\n",
        "print(\"Python\", \"is\", \"awesome\", sep=\" \", end=\"@\" )\n",
        "print(\"python\",\"is\",\"easy\")\n"
      ],
      "metadata": {
        "id": "wCORcQhuMg6d"
      },
      "execution_count": null,
      "outputs": []
    }
  ]
}