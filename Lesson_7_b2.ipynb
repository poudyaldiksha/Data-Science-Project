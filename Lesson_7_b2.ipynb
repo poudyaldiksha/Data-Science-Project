{
  "nbformat": 4,
  "nbformat_minor": 0,
  "metadata": {
    "colab": {
      "provenance": [],
      "include_colab_link": true
    },
    "kernelspec": {
      "name": "python3",
      "display_name": "Python 3"
    },
    "language_info": {
      "name": "python"
    }
  },
  "cells": [
    {
      "cell_type": "markdown",
      "metadata": {
        "id": "view-in-github",
        "colab_type": "text"
      },
      "source": [
        "<a href=\"https://colab.research.google.com/github/poudyaldiksha/Data-Science-project/blob/main/Lesson_7_b2.ipynb\" target=\"_parent\"><img src=\"https://colab.research.google.com/assets/colab-badge.svg\" alt=\"Open In Colab\"/></a>"
      ]
    },
    {
      "cell_type": "code",
      "source": [
        "a = [1,2,3]\n",
        "a * 3"
      ],
      "metadata": {
        "colab": {
          "base_uri": "https://localhost:8080/"
        },
        "id": "IzGuHWfaqrtg",
        "outputId": "604bf5d9-5dbe-4cd5-e242-29b591dd0fdb"
      },
      "execution_count": null,
      "outputs": [
        {
          "output_type": "execute_result",
          "data": {
            "text/plain": [
              "[1, 2, 3, 1, 2, 3, 1, 2, 3]"
            ]
          },
          "metadata": {},
          "execution_count": 51
        }
      ]
    },
    {
      "cell_type": "code",
      "source": [
        "type(a)"
      ],
      "metadata": {
        "colab": {
          "base_uri": "https://localhost:8080/"
        },
        "id": "nOw7_uHmr7ch",
        "outputId": "3ee3e936-09a0-4c37-b7b6-8733a0b7e49f"
      },
      "execution_count": null,
      "outputs": [
        {
          "output_type": "execute_result",
          "data": {
            "text/plain": [
              "list"
            ]
          },
          "metadata": {},
          "execution_count": 53
        }
      ]
    },
    {
      "cell_type": "code",
      "source": [
        "b = [8,9,10]\n",
        "a + b"
      ],
      "metadata": {
        "colab": {
          "base_uri": "https://localhost:8080/"
        },
        "id": "exnxquyeq-Zp",
        "outputId": "c138c5f8-afc2-4cfb-bcfb-e0232451b313"
      },
      "execution_count": null,
      "outputs": [
        {
          "output_type": "execute_result",
          "data": {
            "text/plain": [
              "[1, 2, 3, 8, 9, 10]"
            ]
          },
          "metadata": {},
          "execution_count": 52
        }
      ]
    },
    {
      "cell_type": "code",
      "source": [
        "import numpy as np\n",
        "a_arr = np.array(a)\n",
        "print(type(a_arr))\n",
        "print(a_arr)\n",
        "a_arr*3"
      ],
      "metadata": {
        "colab": {
          "base_uri": "https://localhost:8080/"
        },
        "id": "N5Vg40l3rht_",
        "outputId": "cb034ec0-d02f-44f6-a3fc-5aec2606c049"
      },
      "execution_count": null,
      "outputs": [
        {
          "output_type": "stream",
          "name": "stdout",
          "text": [
            "<class 'numpy.ndarray'>\n",
            "[1 2 3]\n"
          ]
        },
        {
          "output_type": "execute_result",
          "data": {
            "text/plain": [
              "array([3, 6, 9])"
            ]
          },
          "metadata": {},
          "execution_count": 56
        }
      ]
    },
    {
      "cell_type": "markdown",
      "source": [
        "## Lesson 7: NumPy Arrays"
      ],
      "metadata": {
        "id": "H6Ju6wuUXQcT"
      }
    },
    {
      "cell_type": "markdown",
      "source": [
        "An array is also a data-structure which contains multiple values. Working with NumPy arrays is much easier than working with Python lists.\n",
        "\n",
        "The term NumPy stands for Numeric (or Numerical) Python. It is one of the most popular modules amongst Statisticians and Data Scientists across the globe to perform heavy mathematical computations. NumPy arrays are also faster than Python lists in terms of code execution time.\n",
        "\n",
        "For all practical purposes, **an array is the same as a list**. Fundamentally, they have been programmed differently by the inventors of Python language. We are **NOT** required to know how they were created. We only need to know how to apply them in different situations.\n"
      ],
      "metadata": {
        "id": "_s1SJsbXXNTL"
      }
    },
    {
      "cell_type": "markdown",
      "metadata": {
        "id": "PABm6WB9mUbu"
      },
      "source": [
        "---"
      ]
    },
    {
      "cell_type": "markdown",
      "metadata": {
        "id": "bNXJRQFk3vyp"
      },
      "source": [
        "#### Activity 1: The `random.randint()` Function\n",
        "\n",
        "The NumPy module also has its `random.randint()` function. It takes two inputs. The first input is the range of two integers between which a random number is to be created. The second input is the `size` parameter which defines the number of random integers to be created.\n",
        "\n",
        "**Syntax:** `np.random.randint(num1, num2, size=N)`\n",
        "\n",
        " where `num1` and `num2` are starting numbers and `N` is the number of items to be contained in the array."
      ]
    },
    {
      "cell_type": "code",
      "source": [
        "import random\n",
        "w = random.randint(1,10)\n",
        "w"
      ],
      "metadata": {
        "colab": {
          "base_uri": "https://localhost:8080/"
        },
        "id": "grQRo7Ikst97",
        "outputId": "a4309840-341a-4c70-a19b-37621a1b66c3"
      },
      "execution_count": null,
      "outputs": [
        {
          "output_type": "execute_result",
          "data": {
            "text/plain": [
              "6"
            ]
          },
          "metadata": {},
          "execution_count": 61
        }
      ]
    },
    {
      "cell_type": "code",
      "metadata": {
        "id": "EjiLbM0y31Gi",
        "colab": {
          "base_uri": "https://localhost:8080/"
        },
        "outputId": "361b1161-2833-480a-df80-7243d599e6ad"
      },
      "source": [
        "#Create a one-dimensional NumPy array containing 15 random integers between 50 and 100.\n",
        "import numpy as np\n",
        "arr_1 = np.random.randint(50,100,size = 15)\n",
        "arr_1"
      ],
      "execution_count": null,
      "outputs": [
        {
          "output_type": "execute_result",
          "data": {
            "text/plain": [
              "array([89, 78, 68, 97, 62, 90, 75, 73, 93, 64, 89, 72, 97, 59, 97])"
            ]
          },
          "metadata": {},
          "execution_count": 62
        }
      ]
    },
    {
      "cell_type": "markdown",
      "metadata": {
        "id": "GUc7b6_L36CD"
      },
      "source": [
        "Similarly, you can create a multi-dimensional NumPy array containing random integers by specifying the dimensions of the array to be created in the `size` parameter."
      ]
    },
    {
      "cell_type": "code",
      "source": [
        "arr_ex = np.arange(1,9)\n",
        "arr_ex"
      ],
      "metadata": {
        "colab": {
          "base_uri": "https://localhost:8080/"
        },
        "id": "T4uWBw7zuBIm",
        "outputId": "f75fa77a-8066-496f-d082-973dbdabed72"
      },
      "execution_count": null,
      "outputs": [
        {
          "output_type": "execute_result",
          "data": {
            "text/plain": [
              "array([1, 2, 3, 4, 5, 6, 7, 8])"
            ]
          },
          "metadata": {},
          "execution_count": 70
        }
      ]
    },
    {
      "cell_type": "code",
      "source": [
        "arr_reshape = arr_ex.reshape((2,2,2))\n",
        "arr_reshape"
      ],
      "metadata": {
        "colab": {
          "base_uri": "https://localhost:8080/"
        },
        "id": "M5jHnIKkuUNp",
        "outputId": "af1d9cdb-7786-4075-97ac-6be6bbac38c8"
      },
      "execution_count": null,
      "outputs": [
        {
          "output_type": "execute_result",
          "data": {
            "text/plain": [
              "array([[[1, 2],\n",
              "        [3, 4]],\n",
              "\n",
              "       [[5, 6],\n",
              "        [7, 8]]])"
            ]
          },
          "metadata": {},
          "execution_count": 75
        }
      ]
    },
    {
      "cell_type": "code",
      "source": [
        "arr_ex = np.arange(1,9,5)\n",
        "arr_ex"
      ],
      "metadata": {
        "colab": {
          "base_uri": "https://localhost:8080/"
        },
        "id": "_UF0ub4PuK-S",
        "outputId": "25c09184-ec03-412b-97fc-49dc4e124083"
      },
      "execution_count": null,
      "outputs": [
        {
          "output_type": "execute_result",
          "data": {
            "text/plain": [
              "array([1, 6])"
            ]
          },
          "metadata": {},
          "execution_count": 68
        }
      ]
    },
    {
      "cell_type": "code",
      "source": [
        "arr_2 = np.random.randint(50,100,(3,5))\n",
        "arr_2"
      ],
      "metadata": {
        "colab": {
          "base_uri": "https://localhost:8080/"
        },
        "id": "OMRC3EE4tlrd",
        "outputId": "77a39798-9105-4c81-f428-a406776e304a"
      },
      "execution_count": null,
      "outputs": [
        {
          "output_type": "execute_result",
          "data": {
            "text/plain": [
              "array([[73, 67, 58, 55, 77],\n",
              "       [99, 63, 98, 54, 76],\n",
              "       [73, 69, 93, 78, 78]])"
            ]
          },
          "metadata": {},
          "execution_count": 64
        }
      ]
    },
    {
      "cell_type": "code",
      "metadata": {
        "id": "wjVrnDj334Ww",
        "colab": {
          "base_uri": "https://localhost:8080/"
        },
        "outputId": "f6c805e0-fb3d-45e4-83cb-2d5df3532b64"
      },
      "source": [
        "# Create a two-dimensional NumPy array containing 15 random integers between 50 and 100.\n",
        "arr_2 = np.random.randint(50,100,(4,3))\n",
        "arr_2"
      ],
      "execution_count": null,
      "outputs": [
        {
          "output_type": "execute_result",
          "data": {
            "text/plain": [
              "array([[66, 75, 81],\n",
              "       [75, 97, 55],\n",
              "       [93, 59, 93],\n",
              "       [88, 75, 58]])"
            ]
          },
          "metadata": {},
          "execution_count": 63
        }
      ]
    },
    {
      "cell_type": "code",
      "metadata": {
        "id": "1wjZETPp39rR",
        "colab": {
          "base_uri": "https://localhost:8080/"
        },
        "outputId": "ddbc3de4-ed16-4113-e376-a8bb2ff883b6"
      },
      "source": [
        "#  Create a three-dimensional NumPy array containing 40 random integers between 50 and 100.\n",
        "arr_3 = np.random.randint(50,100,(4,2,5))\n",
        "arr_3"
      ],
      "execution_count": null,
      "outputs": [
        {
          "output_type": "execute_result",
          "data": {
            "text/plain": [
              "array([[[90, 51, 80, 77, 72],\n",
              "        [59, 89, 71, 82, 62]],\n",
              "\n",
              "       [[84, 93, 92, 76, 77],\n",
              "        [53, 81, 56, 90, 98]],\n",
              "\n",
              "       [[72, 63, 76, 53, 82],\n",
              "        [55, 92, 70, 59, 94]],\n",
              "\n",
              "       [[84, 74, 63, 99, 78],\n",
              "        [53, 86, 80, 70, 79]]])"
            ]
          },
          "metadata": {},
          "execution_count": 73
        }
      ]
    },
    {
      "cell_type": "markdown",
      "metadata": {
        "id": "EbGXKH-c3uJh"
      },
      "source": [
        "---"
      ]
    },
    {
      "cell_type": "markdown",
      "metadata": {
        "id": "V_OCAj0f3paN"
      },
      "source": [
        "#### Activity 2: The `array()` Function\n",
        "\n",
        "We can convert a Python list into a NumPy array. To do this, use the `array()` function which takes a Python list as an input.\n",
        "\n"
      ]
    },
    {
      "cell_type": "code",
      "metadata": {
        "id": "ekUreHwA4AuX",
        "colab": {
          "base_uri": "https://localhost:8080/"
        },
        "outputId": "c782374e-f363-4cdb-cbc0-0aeb5f9de66e"
      },
      "source": [
        "# Convert a Python list into a NumPy array using the 'array()' function.\n",
        "list1 = [1,2,3]\n",
        "arr_list1 = np.array(list1)\n",
        "arr_list1"
      ],
      "execution_count": null,
      "outputs": [
        {
          "output_type": "execute_result",
          "data": {
            "text/plain": [
              "array([1, 2, 3])"
            ]
          },
          "metadata": {},
          "execution_count": 77
        }
      ]
    },
    {
      "cell_type": "code",
      "source": [
        "arr_list1 = np.array([5,7,8,9])\n",
        "arr_list1"
      ],
      "metadata": {
        "colab": {
          "base_uri": "https://localhost:8080/"
        },
        "id": "hsa-0lIJvZrj",
        "outputId": "f11383aa-cb2d-470a-f30a-c65784e132b3"
      },
      "execution_count": null,
      "outputs": [
        {
          "output_type": "execute_result",
          "data": {
            "text/plain": [
              "array([5, 7, 8, 9])"
            ]
          },
          "metadata": {},
          "execution_count": 76
        }
      ]
    },
    {
      "cell_type": "markdown",
      "metadata": {
        "id": "EqudPIx11ZHd"
      },
      "source": [
        "To check whether a Python list is converted into a NumPy array or not, you can use the `type()` function."
      ]
    },
    {
      "cell_type": "code",
      "metadata": {
        "id": "VOEbjYwC1nF7",
        "colab": {
          "base_uri": "https://localhost:8080/"
        },
        "outputId": "ffad6583-0a9e-4edc-f2da-b0a3ea6c98c1"
      },
      "source": [
        "#Verify whether the array created is a NumPy array or a Python list.\n",
        "type(arr_list1)"
      ],
      "execution_count": null,
      "outputs": [
        {
          "output_type": "execute_result",
          "data": {
            "text/plain": [
              "numpy.ndarray"
            ]
          },
          "metadata": {},
          "execution_count": 78
        }
      ]
    },
    {
      "cell_type": "markdown",
      "metadata": {
        "id": "2doxkX1qyC9S"
      },
      "source": [
        "---"
      ]
    },
    {
      "cell_type": "markdown",
      "metadata": {
        "id": "yDM2ZGP6J00k"
      },
      "source": [
        "#### Activity 3: The `list()` Function\n",
        "\n",
        "We can convert a NumPy array into a Python list using the `list()` function.\n",
        "\n"
      ]
    },
    {
      "cell_type": "code",
      "metadata": {
        "id": "SkKJekR5KOad",
        "colab": {
          "base_uri": "https://localhost:8080/"
        },
        "outputId": "a9f1191e-7688-42a5-c542-3feec08a457f"
      },
      "source": [
        "#Convert a NumPy array into a Python list using the 'list()' function.\n",
        "list_2 = list(arr_list1)\n",
        "list_2"
      ],
      "execution_count": null,
      "outputs": [
        {
          "output_type": "execute_result",
          "data": {
            "text/plain": [
              "[1, 2, 3]"
            ]
          },
          "metadata": {},
          "execution_count": 79
        }
      ]
    },
    {
      "cell_type": "code",
      "metadata": {
        "id": "us1-glqEKZ_m",
        "colab": {
          "base_uri": "https://localhost:8080/"
        },
        "outputId": "b41c1963-5ae0-4861-aab8-5807ab698eb7"
      },
      "source": [
        "# Verify whether the converted array to list is Python list or not.\n",
        "type(list_2)"
      ],
      "execution_count": null,
      "outputs": [
        {
          "output_type": "execute_result",
          "data": {
            "text/plain": [
              "list"
            ]
          },
          "metadata": {},
          "execution_count": 80
        }
      ]
    },
    {
      "cell_type": "markdown",
      "metadata": {
        "id": "4R2D_nX5Kzg5"
      },
      "source": [
        "As you can see, the output is `list`. Hence, we successfully converted the NumPy array to a Python list using the `list()` function."
      ]
    },
    {
      "cell_type": "markdown",
      "metadata": {
        "id": "8BsJfEKm2s29"
      },
      "source": [
        "#### Activity 4: Array Indexing"
      ]
    },
    {
      "cell_type": "markdown",
      "source": [
        "**Access 1-D Arrays**"
      ],
      "metadata": {
        "id": "tcvpHJboNDNh"
      }
    },
    {
      "cell_type": "code",
      "source": [
        "# Create an array\n",
        "\n",
        "arr = np.array([22,3,35,6,89])\n",
        "arr[2]"
      ],
      "metadata": {
        "colab": {
          "base_uri": "https://localhost:8080/"
        },
        "id": "18LqKrK8b4uC",
        "outputId": "26127c75-098a-47ec-8fee-d7b471db11f2"
      },
      "execution_count": null,
      "outputs": [
        {
          "output_type": "execute_result",
          "data": {
            "text/plain": [
              "35"
            ]
          },
          "metadata": {},
          "execution_count": 81
        }
      ]
    },
    {
      "cell_type": "code",
      "source": [
        "# Guess the output\n",
        "arr = np.array([22,3,35,6,89]) # 1-d array\n",
        "print(arr[1])"
      ],
      "metadata": {
        "colab": {
          "base_uri": "https://localhost:8080/"
        },
        "id": "plXcX04HLLyj",
        "outputId": "1381ee4d-6e06-46f5-cc73-ce25d32de4ae"
      },
      "execution_count": null,
      "outputs": [
        {
          "output_type": "stream",
          "name": "stdout",
          "text": [
            "3\n"
          ]
        }
      ]
    },
    {
      "cell_type": "code",
      "source": [
        "# Guess the output\n",
        "\n",
        "arr = np.array([22,3,35,6,89]) # 1-d array\n",
        "print(arr[-2])"
      ],
      "metadata": {
        "colab": {
          "base_uri": "https://localhost:8080/"
        },
        "id": "HT0wgR7zNPK5",
        "outputId": "75a57656-448c-4ec6-c04d-0872e5790e32"
      },
      "execution_count": null,
      "outputs": [
        {
          "output_type": "stream",
          "name": "stdout",
          "text": [
            "6\n"
          ]
        }
      ]
    },
    {
      "cell_type": "markdown",
      "source": [
        "**Access 2-D Arrays**"
      ],
      "metadata": {
        "id": "1dkCSHA8NMs5"
      }
    },
    {
      "cell_type": "code",
      "source": [
        "q = [[1,2,3,4,5], [6,7,8,9,10]]\n",
        "q[1]"
      ],
      "metadata": {
        "colab": {
          "base_uri": "https://localhost:8080/"
        },
        "id": "pi1-xJtVxEON",
        "outputId": "50180cf8-a354-4b02-ea27-3bb1d58be600"
      },
      "execution_count": null,
      "outputs": [
        {
          "output_type": "execute_result",
          "data": {
            "text/plain": [
              "[6, 7, 8, 9, 10]"
            ]
          },
          "metadata": {},
          "execution_count": 86
        }
      ]
    },
    {
      "cell_type": "code",
      "source": [
        "q[1][-1]"
      ],
      "metadata": {
        "colab": {
          "base_uri": "https://localhost:8080/"
        },
        "id": "VDxqk3BIxSLQ",
        "outputId": "181b0286-f45e-4f2a-a2a2-4f34f7432b4f"
      },
      "execution_count": null,
      "outputs": [
        {
          "output_type": "execute_result",
          "data": {
            "text/plain": [
              "10"
            ]
          },
          "metadata": {},
          "execution_count": 87
        }
      ]
    },
    {
      "cell_type": "code",
      "metadata": {
        "colab": {
          "base_uri": "https://localhost:8080/"
        },
        "outputId": "785b2834-532f-426f-c986-d6842f370f9c",
        "id": "PvLq7UCB2s2_"
      },
      "source": [
        "# Guess the output\n",
        "arr = np.array([[1,2,3,4,5], [6,7,8,9,10]]) #2-d array\n",
        "\n",
        "print( arr[1, -1])"
      ],
      "execution_count": null,
      "outputs": [
        {
          "output_type": "stream",
          "name": "stdout",
          "text": [
            "10\n"
          ]
        }
      ]
    },
    {
      "cell_type": "code",
      "source": [
        "# Guess the output\n",
        "arr = np.array([[1,2,3,4,5], [6,7,8,9,10]]) #2-d array\n",
        "\n",
        "print( arr[1, 3])"
      ],
      "metadata": {
        "colab": {
          "base_uri": "https://localhost:8080/"
        },
        "id": "Kt0VYcx-LyxG",
        "outputId": "7fbdccde-22a0-4ba4-93fe-b7bc8e15cbfc"
      },
      "execution_count": null,
      "outputs": [
        {
          "output_type": "stream",
          "name": "stdout",
          "text": [
            "9\n"
          ]
        }
      ]
    },
    {
      "cell_type": "code",
      "source": [
        "# Guess the output\n",
        "arr = np.array([[1,2,3,4,5], [6,7,8,9,10]]) #2-d array\n",
        "\n",
        "print( arr[:, 3])"
      ],
      "metadata": {
        "colab": {
          "base_uri": "https://localhost:8080/"
        },
        "id": "iUXB7t5TL4s7",
        "outputId": "bcc0bc4a-3962-4542-daa5-554f6e0e24f0"
      },
      "execution_count": null,
      "outputs": [
        {
          "output_type": "stream",
          "name": "stdout",
          "text": [
            "[4 9]\n"
          ]
        }
      ]
    },
    {
      "cell_type": "markdown",
      "metadata": {
        "id": "F9MwK8am2s3A"
      },
      "source": [
        "**Access 3-D Arrays**\n",
        "\n",
        "To access elements from 3-D arrays we can use comma separated integers representing the dimensions and the index of the element.\n",
        "\n"
      ]
    },
    {
      "cell_type": "code",
      "metadata": {
        "id": "o5vrVO8_2s3A"
      },
      "source": [
        "# Guess the output\n",
        "arr_5= np.array([[[1, 2, 3], [4, 5, 6]], [[7, 8, 9], [10, 11, 12]]]) # 3d array\n",
        "\n"
      ],
      "execution_count": null,
      "outputs": []
    },
    {
      "cell_type": "code",
      "source": [
        "arr_5.ndim"
      ],
      "metadata": {
        "colab": {
          "base_uri": "https://localhost:8080/"
        },
        "id": "rtz1LdBwv1aZ",
        "outputId": "00945d3e-3296-4d57-fb01-0b7cfe7dfd1a"
      },
      "execution_count": null,
      "outputs": [
        {
          "output_type": "execute_result",
          "data": {
            "text/plain": [
              "3"
            ]
          },
          "metadata": {},
          "execution_count": 90
        }
      ]
    },
    {
      "cell_type": "code",
      "source": [
        "arr_5.shape"
      ],
      "metadata": {
        "colab": {
          "base_uri": "https://localhost:8080/"
        },
        "id": "YWXmjH2Wv64b",
        "outputId": "8c76c9ce-e70c-460d-86de-6a5b69191bbc"
      },
      "execution_count": null,
      "outputs": [
        {
          "output_type": "execute_result",
          "data": {
            "text/plain": [
              "(2, 2, 3)"
            ]
          },
          "metadata": {},
          "execution_count": 91
        }
      ]
    },
    {
      "cell_type": "code",
      "source": [
        "print(arr_5[0, 1, 2])"
      ],
      "metadata": {
        "colab": {
          "base_uri": "https://localhost:8080/"
        },
        "id": "jA6gV8NYvzW9",
        "outputId": "96c1507d-2868-4a28-e30c-3ac92ce9396f"
      },
      "execution_count": null,
      "outputs": [
        {
          "output_type": "stream",
          "name": "stdout",
          "text": [
            "6\n"
          ]
        }
      ]
    },
    {
      "cell_type": "code",
      "source": [
        "# Guess the output\n",
        "arr_5= np.array([[[1, 2, 3], [4, 5, 6]], [[7, 8, 9], [10, 11, 12]]]) # 3d array\n",
        "\n",
        "print(arr_5[0, -1, -1])"
      ],
      "metadata": {
        "colab": {
          "base_uri": "https://localhost:8080/"
        },
        "id": "TCE_r8OUNZGc",
        "outputId": "243f5126-4dcf-4c95-a57f-15777fd83cb6"
      },
      "execution_count": null,
      "outputs": [
        {
          "output_type": "stream",
          "name": "stdout",
          "text": [
            "6\n"
          ]
        }
      ]
    },
    {
      "cell_type": "markdown",
      "metadata": {
        "id": "PTh-hZsJ2s3B"
      },
      "source": [
        "#### Activity 5: NumPy Array Slicing"
      ]
    },
    {
      "cell_type": "code",
      "metadata": {
        "colab": {
          "base_uri": "https://localhost:8080/"
        },
        "outputId": "06a5cfc1-58c0-409c-b2b7-f79ae654017e",
        "id": "4jms_JLW2s3B"
      },
      "source": [
        "# Guess the output\n",
        "arr_6 = np.array([1, 2, 3, 4, 5, 6, 7])\n",
        "\n",
        "print(arr_6[4:])"
      ],
      "execution_count": null,
      "outputs": [
        {
          "output_type": "stream",
          "name": "stdout",
          "text": [
            "[5 6 7]\n"
          ]
        }
      ]
    },
    {
      "cell_type": "code",
      "metadata": {
        "colab": {
          "base_uri": "https://localhost:8080/"
        },
        "outputId": "0066a6bc-f6d9-4b95-ae41-7f6e50c99878",
        "id": "ep-PZyG_2s3C"
      },
      "source": [
        "# Guess the output\n",
        "arr_7 = np.array([1, 2, 3, 4, 5, 6, 7])\n",
        "\n",
        "print(arr_7[:4])"
      ],
      "execution_count": null,
      "outputs": [
        {
          "output_type": "stream",
          "name": "stdout",
          "text": [
            "[1 2 3 4]\n"
          ]
        }
      ]
    },
    {
      "cell_type": "code",
      "metadata": {
        "colab": {
          "base_uri": "https://localhost:8080/"
        },
        "outputId": "afc5390e-35cf-4dfa-f8c4-be3673a6fa2b",
        "id": "dIg_pfrg2s3C"
      },
      "source": [
        "# Guess the output\n",
        "arr_8 = np.array([1, 2, 3, 4, 5, 6, 7])\n",
        "\n",
        "print(arr_8[-3:-1])"
      ],
      "execution_count": null,
      "outputs": [
        {
          "output_type": "stream",
          "name": "stdout",
          "text": [
            "[5 6]\n"
          ]
        }
      ]
    },
    {
      "cell_type": "code",
      "metadata": {
        "colab": {
          "base_uri": "https://localhost:8080/"
        },
        "outputId": "b9413378-28e1-4d28-a8c5-4e1d6bd16f08",
        "id": "feYgLgV82s3C"
      },
      "source": [
        "# Guess the output\n",
        "arr_9 = np.array([1, 2, 3, 4, 5, 6, 7])\n",
        "\n",
        "print(arr_9[::3])"
      ],
      "execution_count": null,
      "outputs": [
        {
          "output_type": "stream",
          "name": "stdout",
          "text": [
            "[1 4 7]\n"
          ]
        }
      ]
    },
    {
      "cell_type": "code",
      "source": [
        "arr_9[ :4]"
      ],
      "metadata": {
        "colab": {
          "base_uri": "https://localhost:8080/"
        },
        "id": "EAotKr5WxjyV",
        "outputId": "54e91a17-a425-4fc9-9879-58159d92a2a7"
      },
      "execution_count": null,
      "outputs": [
        {
          "output_type": "execute_result",
          "data": {
            "text/plain": [
              "array([1, 2, 3, 4])"
            ]
          },
          "metadata": {},
          "execution_count": 98
        }
      ]
    },
    {
      "cell_type": "markdown",
      "metadata": {
        "id": "zSRHdGcq2s3D"
      },
      "source": [
        "**Slicing 2-D Arrays**"
      ]
    },
    {
      "cell_type": "code",
      "metadata": {
        "colab": {
          "base_uri": "https://localhost:8080/"
        },
        "outputId": "feefcf5c-93f3-4986-e1d2-ce49316e3334",
        "id": "YEZiqDu52s3D"
      },
      "source": [
        "# Guess the output\n",
        "arr_10 = np.array([[1, 2, 3, 4, 5], [6, 7, 8, 9, 10]])\n",
        "\n",
        "print(arr_10[1, 1:4])"
      ],
      "execution_count": null,
      "outputs": [
        {
          "output_type": "stream",
          "name": "stdout",
          "text": [
            "[7 8 9]\n"
          ]
        }
      ]
    },
    {
      "cell_type": "code",
      "metadata": {
        "colab": {
          "base_uri": "https://localhost:8080/"
        },
        "outputId": "3b82de32-b079-4192-82dd-e9b8b296bee6",
        "id": "0usHp3q12s3D"
      },
      "source": [
        "# Guess the output\n",
        "arr_11 = np.array([[1, 2, 3, 4, 5], [6, 7, 8, 9, 10]])\n",
        "\n",
        "print(arr_11[0:2, 2])"
      ],
      "execution_count": null,
      "outputs": [
        {
          "output_type": "stream",
          "name": "stdout",
          "text": [
            "[3 8]\n"
          ]
        }
      ]
    },
    {
      "cell_type": "code",
      "source": [
        "arr_11[:,2]"
      ],
      "metadata": {
        "colab": {
          "base_uri": "https://localhost:8080/"
        },
        "id": "ptyoa5XjydM8",
        "outputId": "e44d3eb8-57b9-43bf-8805-f7b8fd23bf22"
      },
      "execution_count": null,
      "outputs": [
        {
          "output_type": "execute_result",
          "data": {
            "text/plain": [
              "array([3, 8])"
            ]
          },
          "metadata": {},
          "execution_count": 101
        }
      ]
    },
    {
      "cell_type": "code",
      "metadata": {
        "colab": {
          "base_uri": "https://localhost:8080/"
        },
        "outputId": "ab759fd2-ca59-4faf-9fef-cbc2d170b8bf",
        "id": "JyxAdj_42s3E"
      },
      "source": [
        "# Guess the output\n",
        "arr_12 = np.array([[1, 2, 3, 4, 5], [6, 7, 8, 9, 10]])\n",
        "\n",
        "print(arr_12[0:2, 1:4])"
      ],
      "execution_count": null,
      "outputs": [
        {
          "output_type": "stream",
          "name": "stdout",
          "text": [
            "[[2 3 4]\n",
            " [7 8 9]]\n"
          ]
        }
      ]
    },
    {
      "cell_type": "markdown",
      "metadata": {
        "id": "wPp-3s762s3E"
      },
      "source": [
        "**Slicing 3-D Arrays**"
      ]
    },
    {
      "cell_type": "markdown",
      "metadata": {
        "id": "oiagjzVx2s3E"
      },
      "source": [
        "**Slicing**\n",
        "\n",
        "![image.png](data:image/png;base64,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)"
      ]
    },
    {
      "cell_type": "code",
      "source": [
        "arr_13 = np.arange(0,45).reshape(3,3,5)\n",
        "arr_13"
      ],
      "metadata": {
        "colab": {
          "base_uri": "https://localhost:8080/"
        },
        "id": "1tujjEw7y1fY",
        "outputId": "d4c6721e-0310-411f-e496-158ef35473d7"
      },
      "execution_count": null,
      "outputs": [
        {
          "output_type": "execute_result",
          "data": {
            "text/plain": [
              "array([[[ 0,  1,  2,  3,  4],\n",
              "        [ 5,  6,  7,  8,  9],\n",
              "        [10, 11, 12, 13, 14]],\n",
              "\n",
              "       [[15, 16, 17, 18, 19],\n",
              "        [20, 21, 22, 23, 24],\n",
              "        [25, 26, 27, 28, 29]],\n",
              "\n",
              "       [[30, 31, 32, 33, 34],\n",
              "        [35, 36, 37, 38, 39],\n",
              "        [40, 41, 42, 43, 44]]])"
            ]
          },
          "metadata": {},
          "execution_count": 104
        }
      ]
    },
    {
      "cell_type": "code",
      "source": [
        "arr_13[:,[1,2],3]"
      ],
      "metadata": {
        "colab": {
          "base_uri": "https://localhost:8080/"
        },
        "id": "Lrnrksla1JpG",
        "outputId": "bc58aadd-49dd-40e6-93d5-2666cef86c0c"
      },
      "execution_count": null,
      "outputs": [
        {
          "output_type": "execute_result",
          "data": {
            "text/plain": [
              "array([[ 8, 13],\n",
              "       [23, 28],\n",
              "       [38, 43]])"
            ]
          },
          "metadata": {},
          "execution_count": 106
        }
      ]
    },
    {
      "cell_type": "code",
      "metadata": {
        "colab": {
          "base_uri": "https://localhost:8080/"
        },
        "outputId": "ab871746-efe1-43b1-cda2-047410b8d7e4",
        "id": "dWHr_TBn2s3F"
      },
      "source": [
        "# create a above 3-d array and slice red elements\n",
        "arr_13= np.arange(0,45).reshape(3,3,5)\n",
        "print(arr_13[1:, 0:2 , 1:4])"
      ],
      "execution_count": null,
      "outputs": [
        {
          "output_type": "stream",
          "name": "stdout",
          "text": [
            "[[[16 17 18]\n",
            "  [21 22 23]]\n",
            "\n",
            " [[31 32 33]\n",
            "  [36 37 38]]]\n"
          ]
        }
      ]
    },
    {
      "cell_type": "code",
      "source": [],
      "metadata": {
        "id": "qR06_osrzhyk"
      },
      "execution_count": null,
      "outputs": []
    },
    {
      "cell_type": "code",
      "source": [
        "arr_13"
      ],
      "metadata": {
        "colab": {
          "base_uri": "https://localhost:8080/"
        },
        "id": "UsD4Sx_z1k0v",
        "outputId": "64045911-e030-4777-f1b7-f4b03cf02ccb"
      },
      "execution_count": null,
      "outputs": [
        {
          "output_type": "execute_result",
          "data": {
            "text/plain": [
              "array([[[ 0,  1,  2,  3,  4],\n",
              "        [ 5,  6,  7,  8,  9],\n",
              "        [10, 11, 12, 13, 14]],\n",
              "\n",
              "       [[15, 16, 17, 18, 19],\n",
              "        [20, 21, 22, 23, 24],\n",
              "        [25, 26, 27, 28, 29]],\n",
              "\n",
              "       [[30, 31, 32, 33, 34],\n",
              "        [35, 36, 37, 38, 39],\n",
              "        [40, 41, 42, 43, 44]]])"
            ]
          },
          "metadata": {},
          "execution_count": 108
        }
      ]
    },
    {
      "cell_type": "code",
      "source": [
        "arr_13[:2, :2, 0:3]"
      ],
      "metadata": {
        "colab": {
          "base_uri": "https://localhost:8080/"
        },
        "id": "Wi1mV79K0N1V",
        "outputId": "ef6198a7-0a95-4740-fd49-4620c706048c"
      },
      "execution_count": null,
      "outputs": [
        {
          "output_type": "execute_result",
          "data": {
            "text/plain": [
              "array([[[ 0,  1,  2],\n",
              "        [ 5,  6,  7]],\n",
              "\n",
              "       [[15, 16, 17],\n",
              "        [20, 21, 22]]])"
            ]
          },
          "metadata": {},
          "execution_count": 109
        }
      ]
    },
    {
      "cell_type": "markdown",
      "metadata": {
        "id": "GjBFWW4D2s3G"
      },
      "source": [
        "#### Activity 6: Copying Arrays"
      ]
    },
    {
      "cell_type": "markdown",
      "source": [
        "When working with NumPy arrays, sometimes you might need to create a copy of an array to prevent changes to the original array. Here are a few ways to do that:\n",
        "- Assignment (No Copy)\n",
        "- Shallow Copy using `view()`\n",
        "- Deep Copy using `copy()`"
      ],
      "metadata": {
        "id": "VZl0Y4Opa5i6"
      }
    },
    {
      "cell_type": "markdown",
      "source": [
        "**1. Assignment (No Copy)**\n",
        "\n",
        "Assigning one array to another does not create a copy; it creates a reference to the same array. Any modifications to the new array will also affect the original array.\n",
        "\n",
        "\n"
      ],
      "metadata": {
        "id": "l456LBWLbL1z"
      }
    },
    {
      "cell_type": "code",
      "source": [
        "a = np.array([1,2,3])\n",
        "a[2] = 899890\n",
        "a"
      ],
      "metadata": {
        "colab": {
          "base_uri": "https://localhost:8080/"
        },
        "id": "_wr7H1qO2MDJ",
        "outputId": "42e3576f-a8b5-44fe-9cf6-ce4e46f25df2"
      },
      "execution_count": null,
      "outputs": [
        {
          "output_type": "execute_result",
          "data": {
            "text/plain": [
              "array([     1,      2, 899890])"
            ]
          },
          "metadata": {},
          "execution_count": 110
        }
      ]
    },
    {
      "cell_type": "code",
      "source": [
        "a = 5\n",
        "b = a\n",
        "print(id(a))\n",
        "print(id(b))"
      ],
      "metadata": {
        "colab": {
          "base_uri": "https://localhost:8080/"
        },
        "id": "VIMZw9k-2kgB",
        "outputId": "68520c2e-1b85-414b-e629-03fc0e12367c"
      },
      "execution_count": null,
      "outputs": [
        {
          "output_type": "stream",
          "name": "stdout",
          "text": [
            "133410226913648\n",
            "133410226913648\n"
          ]
        }
      ]
    },
    {
      "cell_type": "code",
      "source": [
        "a = 7\n",
        "print(id(a))\n",
        "print(id(b))"
      ],
      "metadata": {
        "colab": {
          "base_uri": "https://localhost:8080/"
        },
        "id": "7FgZIbBH2n2J",
        "outputId": "23d83d6b-cf7d-47c3-edb3-f1f6c021f75f"
      },
      "execution_count": null,
      "outputs": [
        {
          "output_type": "stream",
          "name": "stdout",
          "text": [
            "133410226913712\n",
            "133410226913648\n"
          ]
        }
      ]
    },
    {
      "cell_type": "code",
      "source": [
        "print(a)"
      ],
      "metadata": {
        "colab": {
          "base_uri": "https://localhost:8080/"
        },
        "id": "Usvv3Diq3K-k",
        "outputId": "3c070bc6-3015-4964-a085-c862c6283038"
      },
      "execution_count": null,
      "outputs": [
        {
          "output_type": "stream",
          "name": "stdout",
          "text": [
            "7\n"
          ]
        }
      ]
    },
    {
      "cell_type": "code",
      "source": [
        "x= 5\n",
        "\n",
        "print(id(x))"
      ],
      "metadata": {
        "colab": {
          "base_uri": "https://localhost:8080/"
        },
        "id": "qWxZSmXS3N9P",
        "outputId": "d95566ea-d02e-465c-9540-ecb3cbef07e9"
      },
      "execution_count": null,
      "outputs": [
        {
          "output_type": "stream",
          "name": "stdout",
          "text": [
            "133410226913648\n"
          ]
        }
      ]
    },
    {
      "cell_type": "code",
      "source": [
        "x= 7\n",
        "\n",
        "print(id(x))"
      ],
      "metadata": {
        "colab": {
          "base_uri": "https://localhost:8080/"
        },
        "id": "zGW3R7kM3VVU",
        "outputId": "19fd937e-1f42-4c1f-df81-d9d4de0d88c2"
      },
      "execution_count": null,
      "outputs": [
        {
          "output_type": "stream",
          "name": "stdout",
          "text": [
            "133410226913712\n"
          ]
        }
      ]
    },
    {
      "cell_type": "code",
      "source": [
        "t = 10\n",
        "print(id(t))"
      ],
      "metadata": {
        "colab": {
          "base_uri": "https://localhost:8080/"
        },
        "id": "KionUWdq3v86",
        "outputId": "bb686120-6442-4295-d9fc-e4844cf76899"
      },
      "execution_count": null,
      "outputs": [
        {
          "output_type": "stream",
          "name": "stdout",
          "text": [
            "133410226913808\n"
          ]
        }
      ]
    },
    {
      "cell_type": "code",
      "source": [
        "t = 1578979809\n",
        "print(id(t))"
      ],
      "metadata": {
        "colab": {
          "base_uri": "https://localhost:8080/"
        },
        "id": "sT3KXtkX30GP",
        "outputId": "b84e7ddb-813a-4dff-e000-67cade0f70a0"
      },
      "execution_count": null,
      "outputs": [
        {
          "output_type": "stream",
          "name": "stdout",
          "text": [
            "133408898282256\n"
          ]
        }
      ]
    },
    {
      "cell_type": "code",
      "source": [
        "h = 19\n",
        "print(id(h))\n"
      ],
      "metadata": {
        "colab": {
          "base_uri": "https://localhost:8080/"
        },
        "id": "k7RfvxOp4NKk",
        "outputId": "15fec06e-e02e-4822-e57e-59437d33ecef"
      },
      "execution_count": null,
      "outputs": [
        {
          "output_type": "stream",
          "name": "stdout",
          "text": [
            "133410226914096\n"
          ]
        }
      ]
    },
    {
      "cell_type": "code",
      "source": [
        "y = 19\n",
        "print(id(y))\n"
      ],
      "metadata": {
        "colab": {
          "base_uri": "https://localhost:8080/"
        },
        "id": "2amZOro84RxU",
        "outputId": "9e5576fc-4a2a-482f-8da6-6021be8fa473"
      },
      "execution_count": null,
      "outputs": [
        {
          "output_type": "stream",
          "name": "stdout",
          "text": [
            "133410226914096\n"
          ]
        }
      ]
    },
    {
      "cell_type": "code",
      "source": [
        "z = y\n",
        "print(id(z))"
      ],
      "metadata": {
        "colab": {
          "base_uri": "https://localhost:8080/"
        },
        "id": "3QX5Bvt04heh",
        "outputId": "f59ab4b2-3af7-4fc4-e404-3c5cb23c294d"
      },
      "execution_count": null,
      "outputs": [
        {
          "output_type": "stream",
          "name": "stdout",
          "text": [
            "133410226914096\n"
          ]
        }
      ]
    },
    {
      "cell_type": "code",
      "source": [
        "x"
      ],
      "metadata": {
        "colab": {
          "base_uri": "https://localhost:8080/"
        },
        "id": "nhV3By8s3ZbN",
        "outputId": "f8a07207-4663-4cef-a87f-28896e6a9277"
      },
      "execution_count": null,
      "outputs": [
        {
          "output_type": "execute_result",
          "data": {
            "text/plain": [
              "7"
            ]
          },
          "metadata": {},
          "execution_count": 120
        }
      ]
    },
    {
      "cell_type": "code",
      "metadata": {
        "colab": {
          "base_uri": "https://localhost:8080/"
        },
        "outputId": "05a6c5bb-d114-4f5a-c85c-8adc3228af0d",
        "id": "Jy_zV9wH2s3H"
      },
      "source": [
        "# activity: Make a copy by assignment\n",
        "arr1 = np.array([1,2,3,4,5])\n",
        "arr2 = arr1\n",
        "print(\"original arr\", arr1)\n",
        "print(\"assigned arr\",arr2)\n",
        "\n",
        "arr2[2] = 23\n",
        "\n",
        "print(\"\\nafter modification\\n\")\n",
        "\n",
        "print(\"original arr\", arr1)\n",
        "print(\"assigned arr\",arr2)\n",
        "\n"
      ],
      "execution_count": null,
      "outputs": [
        {
          "output_type": "stream",
          "name": "stdout",
          "text": [
            "original arr [1 2 3 4 5]\n",
            "assigned arr [1 2 3 4 5]\n",
            "\n",
            "after modification\n",
            "\n",
            "original arr [ 1  2 23  4  5]\n",
            "assigned arr [ 1  2 23  4  5]\n"
          ]
        }
      ]
    },
    {
      "cell_type": "markdown",
      "source": [
        "**2. Shallow Copy using `view()`**\n",
        "\n",
        "Shallow Copy creates a new array object that looks at the same data. Changes to the data in the view will affect the original array and vice versa.\n",
        "\n",
        "When you create a shallow copy of a NumPy array using `view()`, you're essentially creating a new array object that shares the same underlying data with the original array. This means that both arrays refer to the same data buffer in memory.\n",
        "\n"
      ],
      "metadata": {
        "id": "l8NGE0wLbuYi"
      }
    },
    {
      "cell_type": "code",
      "source": [
        "# Activity: Copying using view()\n",
        "arr1 = np.array([1,2,3,4,5])\n",
        "arr2 = arr1.view()\n",
        "print(\"original arr\", arr1)\n",
        "print(\"shallow copyarr\",arr2)\n",
        "\n",
        "arr2[2] = 23\n",
        "\n",
        "print(\"\\nafter modification\\n\")\n",
        "\n",
        "print(\"original arr\", arr1)\n",
        "print(\"shallow copy  arr\",arr2)\n"
      ],
      "metadata": {
        "colab": {
          "base_uri": "https://localhost:8080/"
        },
        "id": "iCKWs6uMbxjr",
        "outputId": "e1422553-f8b7-4955-ebc5-cd3e5ae99989"
      },
      "execution_count": null,
      "outputs": [
        {
          "output_type": "stream",
          "name": "stdout",
          "text": [
            "original arr [1 2 3 4 5]\n",
            "shallow copyarr [1 2 3 4 5]\n",
            "\n",
            "after modification\n",
            "\n",
            "original arr [ 1  2 23  4  5]\n",
            "shallow copy  arr [ 1  2 23  4  5]\n"
          ]
        }
      ]
    },
    {
      "cell_type": "markdown",
      "source": [
        "**3. Deep Copy using `copy()`**\n",
        "\n",
        "A deep copy creates a new array with a new data buffer. Changes to the new array will not affect the original array and vice versa."
      ],
      "metadata": {
        "id": "WpEEfGjgb2le"
      }
    },
    {
      "cell_type": "code",
      "source": [
        "#Activity: Copying using copy()\n",
        "arr1 = np.array([1,2,3,4,5])\n",
        "arr2 = arr1.copy()\n",
        "print(\"original arr\", arr1)\n",
        "print(\" copyarr\",arr2)\n",
        "\n",
        "arr2[2] = 23\n",
        "\n",
        "print(\"\\nafter modification\\n\")\n",
        "\n",
        "print(\"original arr\", arr1)\n",
        "print(\"copy  arr\",arr2)\n"
      ],
      "metadata": {
        "colab": {
          "base_uri": "https://localhost:8080/"
        },
        "id": "F_CRlPO1biaD",
        "outputId": "5bbe2886-58c3-41bc-eacd-6ca576bcb99a"
      },
      "execution_count": null,
      "outputs": [
        {
          "output_type": "stream",
          "name": "stdout",
          "text": [
            "original arr [1 2 3 4 5]\n",
            " copyarr [1 2 3 4 5]\n",
            "\n",
            "after modification\n",
            "\n",
            "original arr [1 2 3 4 5]\n",
            "copy  arr [ 1  2 23  4  5]\n"
          ]
        }
      ]
    },
    {
      "cell_type": "markdown",
      "source": [
        " In shallow copy , a copy of the original object is stored and only the reference address is finally copied.\n",
        "\n",
        " In deep copy, the copy of the original object and the repetitive copies both are stored."
      ],
      "metadata": {
        "id": "itQ6kdqHjXIx"
      }
    },
    {
      "cell_type": "markdown",
      "metadata": {
        "id": "l60gyEfj2s3I"
      },
      "source": [
        "#### Activity 7: Sorting Arrays\n",
        "\n",
        "Sorting means putting elements in an ordered sequence.\n",
        "\n",
        "Ordered sequence is any sequence that has an order corresponding to elements, like numeric or alphabetical, ascending or descending.\n",
        "\n",
        "The NumPy ndarray object has a function called `sort( )`, that will sort a specified array."
      ]
    },
    {
      "cell_type": "code",
      "metadata": {
        "id": "fH4AcL4F2s3I"
      },
      "source": [
        "# Activity:\n",
        "\n",
        "arr_15= np.array([-1/2,-1/4,2,0,1])\n",
        "print(np.sort(arr_15))\n"
      ],
      "execution_count": null,
      "outputs": []
    },
    {
      "cell_type": "code",
      "source": [
        "arr_16 = np.array([1,55,77,22,99])\n",
        "np.sort(arr_16)"
      ],
      "metadata": {
        "id": "JSk_nYGL3YEZ"
      },
      "execution_count": null,
      "outputs": []
    },
    {
      "cell_type": "markdown",
      "metadata": {
        "id": "NwptAKwp2s3J"
      },
      "source": [
        "**Note:** This method returns a copy of the array, leaving the original array unchanged."
      ]
    },
    {
      "cell_type": "markdown",
      "source": [
        "#### Activity 8: Array Length\n",
        "The length of an array (or array length) is:\n",
        "\n",
        "- The number of items in a one-dimensional array.\n",
        "\n",
        "- The number of rows in a two-dimensional array.\n",
        "\n",
        "- The number of blocks in a three-dimensional array.\n",
        "\n",
        "To calculate the length of a NumPy array, you can use the `len()` function.\n",
        "\n",
        "\n"
      ],
      "metadata": {
        "id": "pjH-aoZ1ogcL"
      }
    },
    {
      "cell_type": "code",
      "source": [
        "#Create a NumPy array for all the three different dimensions and calculate their lengths.\n",
        "one_dim_arr = np.arange(1,25)\n",
        "two_dim_arr = np.arange(1,29).reshape(2,14)\n",
        "three_dim_arr = np.arange(1,31).reshape(3,2,5)\n",
        "print(len(one_dim_arr))\n",
        "print(len(two_dim_arr))\n",
        "print((len(three_dim_arr)))"
      ],
      "metadata": {
        "id": "Zz37UN_-oqMG"
      },
      "execution_count": null,
      "outputs": []
    },
    {
      "cell_type": "markdown",
      "source": [
        "**Note:**  \n",
        "\n",
        " The `len()` function gives different outputs for multi-dimensional NumPy arrays."
      ],
      "metadata": {
        "id": "V0GpkqOVo0KE"
      }
    },
    {
      "cell_type": "markdown",
      "source": [
        "#### Activity 9: The `size` Keyword\n",
        "\n",
        "To find the number of items in a NumPy array, you can use the `size` keyword. Regardless of dimensions, the `size` keyword will always return the number of items in a NumPy array."
      ],
      "metadata": {
        "id": "78H5Qmd1o7ph"
      }
    },
    {
      "cell_type": "code",
      "source": [
        "# Compute the number of items in the above created NumPy arrays.\n",
        "print(one_dim_arr.size)\n",
        "print(two_dim_arr.size)\n",
        "print(three_dim_arr.size)"
      ],
      "metadata": {
        "id": "556F12QrpC_-"
      },
      "execution_count": null,
      "outputs": []
    },
    {
      "cell_type": "markdown",
      "source": [
        "#### Activity 10: Descriptive Statistics\n",
        "\n",
        "Using NumPy arrays, we can easily do some statistical calculations.\n",
        "\n",
        "Consider that  you are a laptop retailer and you have a few laptops in your inventory.\n",
        "\n",
        "|Laptop Model|Price (INR)|# Units Available|\n",
        "|-|-|-|\n",
        "|Dell Inspiron 15|\t45000|\t15|\n",
        "HP Pavilion 14| 55000| 12|\n",
        "Lenovo ThinkPad X1| 65000| 10|\n",
        "MacBook Air| 120000| 8|\n",
        "Asus ZenBook| 75000| 6|\n",
        "Acer Swift 3| 45000| 18|\n",
        "Microsoft Surface Laptop| 85000| 9|\n",
        "Razer Blade Stealth| 60000| 11|\n",
        "Samsung Galaxy Book| 70000| 7|\n",
        "Google Pixelbook Go| 80000| 5|\n",
        "\n",
        "Suppose you decided to do some analysis of your inventory. In the process, you want to find answers to the following questions:\n",
        "\n",
        "1. What is the total revenue generated from laptop sales?\n",
        "\n",
        "2. What is the average price of a laptop?\n",
        "\n",
        "3. What is the price of the cheapest laptop in the inventory?\n",
        "\n",
        "4. What is the price of the most expensive laptop in the inventory?\n",
        "\n",
        "5. What is the median price of a laptop?\n",
        "\n",
        "6. What is the most commonly occurring price of a laptop?\n",
        "\n",
        "You can answer all these questions in a few seconds by creating NumPy arrays and by applying the `sum(), mean(), median(), min()` and `max()` functions.\n",
        "\n",
        "\n",
        "```\n",
        "laptop_models = ['Dell Inspiron', 'HP Pavilion', 'Lenovo ThinkPad', 'Apple MacBook Pro', 'Asus ZenBook',\n",
        "                 'Acer Swift', 'Microsoft Surface', 'Razer Blade Stealth', 'Samsung Galaxy Book', 'Google Pixelbook Go]\n",
        "prices = [45000, 55000, 65000, 120000, 75000, 45000, 85000, 60000, 70000, 80000]\n",
        "units_sold = [15, 12, 10, 8, 6, 18, 9, 11, 7, 5]\n",
        "```"
      ],
      "metadata": {
        "id": "nN-DprF-p8fP"
      }
    },
    {
      "cell_type": "code",
      "source": [
        "#Create Arrays\n",
        "# Define lists for laptop data\n",
        "laptop_models = ['Dell Inspiron', 'HP Pavilion', 'Lenovo ThinkPad', 'Apple MacBook Pro', 'Asus ZenBook',\n",
        "                 'Acer Swift', 'Microsoft Surface', 'Razer Blade Stealth', 'Samsung Galaxy Book', 'Google Pixelbook Go']\n",
        "prices = [45000, 55000, 65000, 120000, 75000, 45000, 85000, 60000, 70000, 80000]\n",
        "units_sold = [15, 12, 10, 8, 6, 18, 9, 11, 7, 5]\n",
        "\n",
        "# Convert lists to NumPy arrays\n",
        "price_array =\n",
        "units_sold_array =\n"
      ],
      "metadata": {
        "id": "qsGEuT4dtz0H"
      },
      "execution_count": null,
      "outputs": []
    },
    {
      "cell_type": "code",
      "source": [
        "#Calculate Total Revenue\n",
        "total_price_for_each_laptop =\n",
        "print(total_price_for_each_laptop)\n",
        "\n",
        "total_revenue =\n",
        "print(\"total revenue:\",total_revenue)\n"
      ],
      "metadata": {
        "id": "RcjzRo_st3O4"
      },
      "execution_count": null,
      "outputs": []
    },
    {
      "cell_type": "code",
      "source": [
        "# Calculate Average price\n",
        "\n"
      ],
      "metadata": {
        "id": "9_W7nuU4uAnv"
      },
      "execution_count": null,
      "outputs": []
    },
    {
      "cell_type": "code",
      "source": [
        "#Find Cheapest and Most Expensive Laptop Prices\n",
        "print(\"expensive laptop:\",np.max(price_array))\n",
        "print(\"cheap\",np.min(price_array))"
      ],
      "metadata": {
        "id": "zZDqVltZuEwU"
      },
      "execution_count": null,
      "outputs": []
    },
    {
      "cell_type": "code",
      "source": [
        "#Calculate Median Price\n",
        "np.median(price_array)"
      ],
      "metadata": {
        "id": "7KWRxvE7uOcD"
      },
      "execution_count": null,
      "outputs": []
    },
    {
      "cell_type": "markdown",
      "source": [
        "The value which occurs the most number of times is called the **modal** value or simply **mode**.\n",
        "\n",
        "Unfortunately, the `numpy` module does not have a function to calculate the modal value. So, either we can create our own function which is a very complicated process or we can use the `mode()` function from the `scipy` library.\n",
        "\n",
        "\n",
        "In the `scipy` library, there is a module called `stats` which contains the `mode()` function. So we have to import the `stats` module from the `scipy` library."
      ],
      "metadata": {
        "id": "sEq0-JilutU7"
      }
    },
    {
      "cell_type": "code",
      "source": [
        "# Compute the modal value using the 'mode()' function from the 'scipy.stats' module.\n",
        "from scipy import stats\n",
        "stats.mode(prices)\n"
      ],
      "metadata": {
        "id": "NsKWINe1u0_r"
      },
      "execution_count": null,
      "outputs": []
    },
    {
      "cell_type": "markdown",
      "source": [
        "\n",
        "\n",
        "**Note:** `from library_name import module_name` is another way of importing a module. It is also a standard practice."
      ],
      "metadata": {
        "id": "sB5c3vMpu4IQ"
      }
    },
    {
      "cell_type": "markdown",
      "source": [
        "NumPy and SciPy are separate libraries, but often used together for scientific computing tasks. Here's how you can import specific modules or functions from NumPy:\n",
        "\n",
        "1. **Importing NumPy Alone:**\n",
        "\n",
        "```\n",
        "import numpy as np\n",
        "```\n",
        "This imports the entire NumPy library under the alias np, allowing you to access all its functions and modules using `np.<function>` or `np.<module>.<function>`.\n",
        "\n",
        "2. **Importing Specific Functions:**\n",
        "\n",
        "```\n",
        "from numpy import array, linspace\n",
        "\n",
        "```\n",
        "This imports only the `array()` and `linspace()` functions from NumPy. You can use them directly without prefixing with np.\n",
        "\n",
        "3. **Importing Submodules:**\n",
        "\n",
        "```\n",
        "from numpy import random\n",
        "```\n",
        "This imports the random submodule from NumPy, allowing you to use functions like random.randint() directly.\n",
        "\n"
      ],
      "metadata": {
        "id": "eyW7EWfw_GXB"
      }
    },
    {
      "cell_type": "markdown",
      "source": [
        "## **SciPy and NumPy**\n",
        "\n",
        "SciPy builds on top of NumPy and provides additional functionality for scientific and technical computing. It includes modules for optimization, integration, interpolation, and much more.\n",
        "\n",
        "Using Together: While you can use NumPy alone for basic array operations and mathematical functions, SciPy extends this by adding advanced algorithms and tools. Importing SciPy typically involves importing specific modules or functions as needed, similar to NumPy."
      ],
      "metadata": {
        "id": "-FFJnX8SAQb2"
      }
    },
    {
      "cell_type": "markdown",
      "source": [
        "####Activity 11: Mathematical Operations On A NumPy Array\n",
        "\n",
        "Performing mathematical operations on a NumPy array is easier compared to a Python list.\n",
        "\n"
      ],
      "metadata": {
        "id": "rf-jE7MXySCp"
      }
    },
    {
      "cell_type": "code",
      "source": [
        "#With radii of 15 circles,compute the area of every circle.\n",
        "\n",
        "\n"
      ],
      "metadata": {
        "id": "ipNPUcKOymD4"
      },
      "execution_count": null,
      "outputs": []
    },
    {
      "cell_type": "markdown",
      "source": [
        "Now, using the same approach, you create two NumPy arrays: one having radii (numbers from `5` to `15`) of `10` cylinders and another having their corresponding heights (numbers from `20` to `30`).\n",
        "\n",
        "**Note:** The volume of a cylinder is\n",
        "$\\pi r^{2}h$\n",
        ", where\n",
        "$h$\n",
        "is height of the cylinder and\n",
        "$r$\n",
        "is the radius of the cylinder."
      ],
      "metadata": {
        "id": "-WCA3g6fzb4V"
      }
    },
    {
      "cell_type": "code",
      "source": [
        "# Create two NumPy arrays. One having a radii of 10 cylinders and another having their corresponding heights.\n",
        "# Compute the volume of the 10 cylinders by multiplying the NumPy arrays and store the new NumPy array in the new variable.\n",
        "\n",
        "cyc_radii = np.arange(5,15)\n",
        "cyc_heights = np.arange(21,31)\n",
        "cyc_volume = np.pi *(cyc_radii ** 2)* cyc_heights\n",
        "cyc_volume"
      ],
      "metadata": {
        "id": "qFBEJBTUzoHJ"
      },
      "execution_count": null,
      "outputs": []
    },
    {
      "cell_type": "markdown",
      "source": [
        "#### Activity 12:Random Numbers: `random()`,`randn()`, `randint()`\n",
        "\n",
        "Random number generation is a crucial part of simulations, statistical analysis, and machine learning. NumPy provides several functions to generate random numbers:"
      ],
      "metadata": {
        "id": "-EhnRA-1CZB5"
      }
    },
    {
      "cell_type": "markdown",
      "source": [
        "`random():` Generates random floats in the half-open interval [0.0, 1.0)."
      ],
      "metadata": {
        "id": "kRiVvEVPDFRN"
      }
    },
    {
      "cell_type": "code",
      "source": [
        "# Generate a random float between 0 and 1\n",
        "random_float = np.random.random()\n",
        "print(\"Random float between 0 and 1:\", random_float)"
      ],
      "metadata": {
        "id": "2JmAllJuCYw8"
      },
      "execution_count": null,
      "outputs": []
    },
    {
      "cell_type": "markdown",
      "source": [
        "`rand():` Generates an array of specified shape with random floats in the half-open interval [0.0, 1.0)."
      ],
      "metadata": {
        "id": "eXlxUNLpDAAy"
      }
    },
    {
      "cell_type": "code",
      "source": [
        "# Generate a 3x3 array of random floats\n",
        "random_array = np.random.rand(3, 3)\n",
        "print(\"3x3 array of random floats:\\n\", random_array)"
      ],
      "metadata": {
        "id": "yk7fJ-nTCznd"
      },
      "execution_count": null,
      "outputs": []
    },
    {
      "cell_type": "markdown",
      "source": [
        "`randint():` Generates random integers from a low (inclusive) to high (exclusive) range.\n",
        "\n"
      ],
      "metadata": {
        "id": "lScSMiBkDQH2"
      }
    },
    {
      "cell_type": "code",
      "source": [
        "# Generate a random integer between 1 and 10\n",
        "random_integer = np.random.randint(1, 11)\n",
        "print(\"Random integer between 1 and 10:\", random_integer)"
      ],
      "metadata": {
        "id": "e-7i7vtlDKJV"
      },
      "execution_count": null,
      "outputs": []
    },
    {
      "cell_type": "markdown",
      "source": [
        "###Activity 13: `reshape(), ravel(), flatten()`"
      ],
      "metadata": {
        "id": "RPZtOgyg1NmU"
      }
    },
    {
      "cell_type": "markdown",
      "source": [
        "The `ravel() and flatten()` functions in NumPy both return a flattened array, but they have some key differences in terms of how they handle memory:\n",
        "\n",
        "`ravel()`\n",
        "\n",
        "- Returns a flattened array.\n",
        "- Returns a view whenever possible: This means that `ravel()` tries to avoid creating a new array if it can. If the array is already contiguous in memory, it will return a view of the original array. If it can't return a view, it will return a copy.\n",
        "- Changes to the raveled array may affect the original array if it returns a view.\n",
        "\n",
        "`flatten()`\n",
        "\n",
        "- Returns a flattened array.\n",
        "- Always returns a copy: This means that `flatten()` creates a new array and the changes to the flattened array will not affect the original array.\n",
        "- Does not affect the original array: Since it returns a copy, any modifications to the flattened array will not impact the original array."
      ],
      "metadata": {
        "id": "9kKj6PASndWv"
      }
    },
    {
      "cell_type": "code",
      "source": [
        "# Create a 2x2 array\n",
        "arr = np.array([[1, 2], [3, 4]])\n",
        "\n",
        "# Use ravel() to flatten the array\n",
        "raveled_arr = arr.ravel()\n",
        "print(\"Raveled array:\", raveled_arr)\n",
        "\n",
        "# Modify the raveled array\n",
        "raveled_arr[0] = 10\n",
        "print(\"Modified raveled array:\", raveled_arr)\n",
        "print(\"Original array after ravel modification:\", arr)\n",
        "\n",
        "# Use flatten() to flatten the array\n",
        "flattened_arr = arr.flatten()\n",
        "print(\"Flattened array:\", flattened_arr)\n",
        "\n",
        "# Modify the flattened array\n",
        "flattened_arr[0] = 20\n",
        "print(\"Modified flattened array:\", flattened_arr)\n",
        "print(\"Original array after flatten modification:\", arr)"
      ],
      "metadata": {
        "id": "9D6EeB5an-_i"
      },
      "execution_count": null,
      "outputs": []
    }
  ]
}