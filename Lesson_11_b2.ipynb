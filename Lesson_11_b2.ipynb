{
  "nbformat": 4,
  "nbformat_minor": 0,
  "metadata": {
    "colab": {
      "provenance": [],
      "include_colab_link": true
    },
    "kernelspec": {
      "name": "python3",
      "display_name": "Python 3"
    },
    "language_info": {
      "name": "python"
    }
  },
  "cells": [
    {
      "cell_type": "markdown",
      "metadata": {
        "id": "view-in-github",
        "colab_type": "text"
      },
      "source": [
        "<a href=\"https://colab.research.google.com/github/poudyaldiksha/Data-Science-project/blob/main/Lesson_11_b2.ipynb\" target=\"_parent\"><img src=\"https://colab.research.google.com/assets/colab-badge.svg\" alt=\"Open In Colab\"/></a>"
      ]
    },
    {
      "cell_type": "markdown",
      "source": [
        "# Lesson 11: Tuples I\n"
      ],
      "metadata": {
        "id": "eOhbMQeHz2_X"
      }
    },
    {
      "cell_type": "markdown",
      "source": [
        "\n",
        "**Understanding Python Tuples**\n",
        "\n",
        "So far, you have been introduced to two data structures: lists and dictionaries. Today, we will explore Python tuples in detail. Although we have encountered them before, we haven't discussed them extensively.\n",
        "\n",
        "In essence, Python tuples function similarly to Python lists, with one key distinction: tuples are immutable. This means the contents of a tuple cannot be altered. Once a tuple is created, you cannot add, update, or remove items.\n",
        "\n",
        "In summary, a Python tuple is an ordered and immutable collection of elements, whereas a Python list is an ordered but mutable collection.\n",
        "\n",
        "In practical scenarios, tuples are used to store fixed information that shouldn't change, such as a bank account number, email address, coordinates of a location, or any universally accepted fact, like water's composition of two hydrogen molecules and one oxygen molecule."
      ],
      "metadata": {
        "id": "t5iC3myB1ywh"
      }
    },
    {
      "cell_type": "markdown",
      "metadata": {
        "id": "UL4aH3IwkyTs"
      },
      "source": [
        "### Activity 1: Create Python Tuple\n",
        "\n",
        "\n",
        "Let's create a tuple that contains the names of the seven continents. They are:\n",
        "\n",
        "`(Africa, Antarctica, Asia, Europe, North America, Australia, South America)`\n",
        "\n",
        "To create a tuple, you need to write the items enclosed within parentheses (), ensuring that each item is separated by a comma."
      ]
    },
    {
      "cell_type": "code",
      "metadata": {
        "id": "sGXjP_9XLI0X",
        "colab": {
          "base_uri": "https://localhost:8080/"
        },
        "outputId": "c9e6de8e-08d6-4a3b-b5da-69fc631bfa16"
      },
      "source": [
        "# Create a tuple\n",
        "a = (1,2,3)\n",
        "a"
      ],
      "execution_count": null,
      "outputs": [
        {
          "output_type": "execute_result",
          "data": {
            "text/plain": [
              "(1, 2, 3)"
            ]
          },
          "metadata": {},
          "execution_count": 1
        }
      ]
    },
    {
      "cell_type": "code",
      "source": [
        "type(a)"
      ],
      "metadata": {
        "colab": {
          "base_uri": "https://localhost:8080/"
        },
        "id": "w7afn2wsSAH2",
        "outputId": "655253c6-690c-460f-c28d-8bb053433ee8"
      },
      "execution_count": null,
      "outputs": [
        {
          "output_type": "execute_result",
          "data": {
            "text/plain": [
              "tuple"
            ]
          },
          "metadata": {},
          "execution_count": 2
        }
      ]
    },
    {
      "cell_type": "markdown",
      "metadata": {
        "id": "mlP16hWpXgd3"
      },
      "source": [
        " To verify whether a data structure is a tuple or not, you can use the `type()` function."
      ]
    },
    {
      "cell_type": "code",
      "metadata": {
        "id": "uYRMrXEaXe51",
        "colab": {
          "base_uri": "https://localhost:8080/"
        },
        "outputId": "6e63d1fd-ec51-48dc-866a-6df300a75727"
      },
      "source": [
        "# Verify whether the data-structure stored in the 'continents' variable is a tuple or not.\n",
        "continents = (\"Africa\", \"Antarctica\", \"Asia\", \"Europe\", \"North America\", \"Australia\", \"South America\")\n",
        "continents"
      ],
      "execution_count": null,
      "outputs": [
        {
          "output_type": "execute_result",
          "data": {
            "text/plain": [
              "('Africa',\n",
              " 'Antarctica',\n",
              " 'Asia',\n",
              " 'Europe',\n",
              " 'North America',\n",
              " 'Australia',\n",
              " 'South America')"
            ]
          },
          "metadata": {},
          "execution_count": 3
        }
      ]
    },
    {
      "cell_type": "code",
      "source": [
        "len(continents)"
      ],
      "metadata": {
        "colab": {
          "base_uri": "https://localhost:8080/"
        },
        "id": "Vq0eMl6xSNIV",
        "outputId": "48907768-2da9-4df8-f6e7-f0af85c055e1"
      },
      "execution_count": null,
      "outputs": [
        {
          "output_type": "execute_result",
          "data": {
            "text/plain": [
              "7"
            ]
          },
          "metadata": {},
          "execution_count": 4
        }
      ]
    },
    {
      "cell_type": "code",
      "source": [
        "b = [ 1,4.5,\"a\",True]\n",
        "b"
      ],
      "metadata": {
        "colab": {
          "base_uri": "https://localhost:8080/"
        },
        "id": "GtRLIHwoSYmm",
        "outputId": "1e2c86b4-eeec-4aee-dde4-39fe46baf756"
      },
      "execution_count": null,
      "outputs": [
        {
          "output_type": "execute_result",
          "data": {
            "text/plain": [
              "[1, 4.5, 'a', True]"
            ]
          },
          "metadata": {},
          "execution_count": 5
        }
      ]
    },
    {
      "cell_type": "code",
      "source": [
        "b_tuple = ( 1,4.5,\"a\",True,[1,2])\n",
        "b_tuple"
      ],
      "metadata": {
        "colab": {
          "base_uri": "https://localhost:8080/"
        },
        "id": "JsIB2mvnSeaZ",
        "outputId": "42e49010-6e97-4165-9a19-50a2d1276550"
      },
      "execution_count": null,
      "outputs": [
        {
          "output_type": "execute_result",
          "data": {
            "text/plain": [
              "(1, 4.5, 'a', True, [1, 2])"
            ]
          },
          "metadata": {},
          "execution_count": 7
        }
      ]
    },
    {
      "cell_type": "markdown",
      "metadata": {
        "id": "YiIAzbVIY0Hq"
      },
      "source": [
        "Similar to a Python list, a Python tuple can also contain different types of items such as integer, float, string, list, boolean, tuple etc. Let's learn this concept with the help of an example.\n",
        "\n",
        "Consider the following properties of helium.\n",
        "\n",
        "|Properties of Water |Values|\n",
        "|-|-|\n",
        "|                  |                 |\n",
        "| Molecular formula     | H2O     |\n",
        "| Boiling point (°C)    | 100                     |\n",
        "| Density $\\left(\\frac{g}{cm3}\\right)$ | 1.0         |\n",
        "| Is it essential for life? | True                |\n",
        "| Common states of matter | [solid, liquid, gas]   |\n",
        "| Number of hydrogen atoms | 2                     |\n",
        "\n",
        "The `Values` column in the above list contains items of all the types.\n"
      ]
    },
    {
      "cell_type": "code",
      "metadata": {
        "id": "uU_TcNO7TxQy",
        "colab": {
          "base_uri": "https://localhost:8080/"
        },
        "outputId": "bbacdc2e-73c4-4119-91fb-bf9e54312bac"
      },
      "source": [
        "# Create a tuple containing all the properties of Water.\n",
        "water_props = ( \"h2O\",100,1.0,True,[\"solid\",\"liquid\",\"gas\"], 2)\n",
        "water_props"
      ],
      "execution_count": null,
      "outputs": [
        {
          "output_type": "execute_result",
          "data": {
            "text/plain": [
              "('h2O', 100, 1.0, True, ['solid', 'liquid', 'gas'], 2)"
            ]
          },
          "metadata": {},
          "execution_count": 8
        }
      ]
    },
    {
      "cell_type": "markdown",
      "metadata": {
        "id": "ZfCaFwjJYX2b"
      },
      "source": [
        "As you can see, a tuple can contain different types of items.\n"
      ]
    },
    {
      "cell_type": "markdown",
      "metadata": {
        "id": "9RV3-ZMkxrZG"
      },
      "source": [
        "---"
      ]
    },
    {
      "cell_type": "markdown",
      "metadata": {
        "id": "gCe9LYbXaSvI"
      },
      "source": [
        "### Activity 2: Tuple Length\n",
        "\n",
        "The length of a tuple (or tuple length) is the number of items contained in the tuple. To calculate the length of a tuple (or the number of items present in a tuple), you can use the `len()` function (the same function that you have been using for Python lists)."
      ]
    },
    {
      "cell_type": "code",
      "metadata": {
        "id": "J-Z09gTba5Gt",
        "colab": {
          "base_uri": "https://localhost:8080/"
        },
        "outputId": "54e6d06c-63ad-466f-9556-fb200f2f9b74"
      },
      "source": [
        "# Calculate the number of items contained in the tuple.\n",
        "len(water_props)"
      ],
      "execution_count": null,
      "outputs": [
        {
          "output_type": "execute_result",
          "data": {
            "text/plain": [
              "6"
            ]
          },
          "metadata": {},
          "execution_count": 9
        }
      ]
    },
    {
      "cell_type": "markdown",
      "metadata": {
        "id": "WuND4hQYa7Lw"
      },
      "source": [
        "The  item `['solid', 'liquid', 'gas']` is a list acting as a singular item contained in the `water_props` tuple."
      ]
    },
    {
      "cell_type": "markdown",
      "metadata": {
        "id": "2uI5LyWYNiXr"
      },
      "source": [
        "---"
      ]
    },
    {
      "cell_type": "markdown",
      "metadata": {
        "id": "mDDIaAO7xVrl"
      },
      "source": [
        "### Activity 3: Empty Tuple\n",
        "\n",
        "You can also create an empty tuple (a tuple having no item) by simply writing the common brackets (or parentheses)."
      ]
    },
    {
      "cell_type": "code",
      "metadata": {
        "id": "ouw082yTu95T",
        "colab": {
          "base_uri": "https://localhost:8080/"
        },
        "outputId": "45fd3149-4d36-4e35-d148-5cf61d230dfa"
      },
      "source": [
        "# Create an empty tuple.\n",
        "emp_tuple =()\n",
        "emp_tuple"
      ],
      "execution_count": null,
      "outputs": [
        {
          "output_type": "execute_result",
          "data": {
            "text/plain": [
              "()"
            ]
          },
          "metadata": {},
          "execution_count": 10
        }
      ]
    },
    {
      "cell_type": "code",
      "source": [
        "s = a,\n",
        "type(s)"
      ],
      "metadata": {
        "colab": {
          "base_uri": "https://localhost:8080/"
        },
        "id": "QI1yP_jcSy93",
        "outputId": "23c98651-a85d-4a05-e442-49a65fe9a475"
      },
      "execution_count": null,
      "outputs": [
        {
          "output_type": "execute_result",
          "data": {
            "text/plain": [
              "tuple"
            ]
          },
          "metadata": {},
          "execution_count": 12
        }
      ]
    },
    {
      "cell_type": "code",
      "source": [
        "type(emp_tuple)"
      ],
      "metadata": {
        "colab": {
          "base_uri": "https://localhost:8080/"
        },
        "id": "OtYPPRDqiukj",
        "outputId": "a94bf7ac-0ad9-44bf-e922-9245ef14f78a"
      },
      "execution_count": null,
      "outputs": [
        {
          "output_type": "execute_result",
          "data": {
            "text/plain": [
              "tuple"
            ]
          },
          "metadata": {},
          "execution_count": 11
        }
      ]
    },
    {
      "cell_type": "markdown",
      "source": [
        "### Activity 4: One-Item Tuple"
      ],
      "metadata": {
        "id": "wuFpGPAXNICq"
      }
    },
    {
      "cell_type": "markdown",
      "metadata": {
        "id": "KVm8f5k1vRh1"
      },
      "source": [
        "Interestingly, creating a tuple containing only one item is quite tricky. As an experiment, create the following five tuples containing only one item and check their types using the `type` function.\n",
        "\n",
        "```\n",
        "num_of_planets = (8)\n",
        "average_temperature = (25.5)\n",
        "liquid_state = ('water')\n",
        "is_habitat = (True)\n",
        "population_density = (567.8)\n",
        "colors = ([\"red\",\"yellow\"])\n",
        "```"
      ]
    },
    {
      "cell_type": "code",
      "source": [
        "num_of_planets = [8]\n",
        "print(type(num_of_planets))"
      ],
      "metadata": {
        "colab": {
          "base_uri": "https://localhost:8080/"
        },
        "id": "VPQYt7ssTNmq",
        "outputId": "fb9ee1f6-3bc8-4fdf-94f0-e86b9aa55150"
      },
      "execution_count": null,
      "outputs": [
        {
          "output_type": "stream",
          "name": "stdout",
          "text": [
            "<class 'list'>\n"
          ]
        }
      ]
    },
    {
      "cell_type": "code",
      "source": [
        "liquid_state = ['water']\n",
        "print(type(liquid_state))"
      ],
      "metadata": {
        "colab": {
          "base_uri": "https://localhost:8080/"
        },
        "id": "7uaAp7aBTf1p",
        "outputId": "8e0a2df7-d423-4567-fb7e-051fac609674"
      },
      "execution_count": null,
      "outputs": [
        {
          "output_type": "stream",
          "name": "stdout",
          "text": [
            "<class 'list'>\n"
          ]
        }
      ]
    },
    {
      "cell_type": "code",
      "metadata": {
        "id": "RSPj_JS0vZG3",
        "colab": {
          "base_uri": "https://localhost:8080/"
        },
        "outputId": "3ceaa6c6-5740-46ec-d217-c83f88947177"
      },
      "source": [
        "# Create the above five tuples and check their types.\n",
        "num_of_planets = (8)\n",
        "average_temperature = (25.5)\n",
        "liquid_state = ('water')\n",
        "is_habitat = (True)\n",
        "population_density = (567.8)\n",
        "colors = ([\"red\",\"yellow\"])\n",
        "\n",
        "print(type(num_of_planets))\n",
        "print(type(average_temperature))\n",
        "print(type(liquid_state))\n",
        "print(type(is_habitat))\n",
        "print(type(population_density))\n",
        "print(type(colors))"
      ],
      "execution_count": null,
      "outputs": [
        {
          "output_type": "stream",
          "name": "stdout",
          "text": [
            "<class 'int'>\n",
            "<class 'float'>\n",
            "<class 'str'>\n",
            "<class 'bool'>\n",
            "<class 'float'>\n",
            "<class 'list'>\n"
          ]
        }
      ]
    },
    {
      "cell_type": "markdown",
      "metadata": {
        "id": "g3Zw7bK-yI6m"
      },
      "source": [
        "As you can see, the `type()` function returns all the other types except for `tuple`. This is how the Python interpreter works. We can't do anything about it.\n",
        "\n",
        "Now, put a comma after the item in each of the above five tuples and check their types again."
      ]
    },
    {
      "cell_type": "code",
      "metadata": {
        "id": "EJYYKtsZyoFt",
        "colab": {
          "base_uri": "https://localhost:8080/"
        },
        "outputId": "c0a72fb2-e1ed-477e-d3c0-01e93e0f5906"
      },
      "source": [
        "# Create the above five tuples again by putting a comma after item in each tuple and check their types.\n",
        "num_of_planets = (8,)\n",
        "average_temperature = (25.5,)\n",
        "liquid_state = ('water',)\n",
        "is_habitat = (True,)\n",
        "population_density = (567.8,)\n",
        "colors = ([\"red\",\"yellow\"],)\n",
        "\n",
        "print(type(num_of_planets))\n",
        "print(type(average_temperature))\n",
        "print(type(liquid_state))\n",
        "print(type(is_habitat))\n",
        "print(type(population_density))\n",
        "print(type(colors))"
      ],
      "execution_count": null,
      "outputs": [
        {
          "output_type": "stream",
          "name": "stdout",
          "text": [
            "<class 'tuple'>\n",
            "<class 'tuple'>\n",
            "<class 'tuple'>\n",
            "<class 'tuple'>\n",
            "<class 'tuple'>\n",
            "<class 'tuple'>\n"
          ]
        }
      ]
    },
    {
      "cell_type": "markdown",
      "metadata": {
        "id": "5z7-el8VzNq7"
      },
      "source": [
        "As you can see, we have now created five tuples. Each of them contains only one item. Hence, the trick to create a tuple having only one item is to put a comma after the item.\n",
        "\n",
        "**Note:** Even if you don't enclose the items within parentheses but put a trailing comma, then also Python will create a tuple."
      ]
    },
    {
      "cell_type": "code",
      "metadata": {
        "id": "inB4D0glz5Us",
        "colab": {
          "base_uri": "https://localhost:8080/"
        },
        "outputId": "0d567c5f-0176-46eb-d93e-90d422400312"
      },
      "source": [
        "# Create two tuples without putting parentheses: one having only one item and another having at least two items.\n",
        "# Verify whether they both are tuples or not.\n",
        "a= 1,2\n",
        "\n",
        "type(a)"
      ],
      "execution_count": null,
      "outputs": [
        {
          "output_type": "execute_result",
          "data": {
            "text/plain": [
              "tuple"
            ]
          },
          "metadata": {},
          "execution_count": 17
        }
      ]
    },
    {
      "cell_type": "code",
      "source": [
        "b = 1,2,4\n",
        "type(b)"
      ],
      "metadata": {
        "colab": {
          "base_uri": "https://localhost:8080/"
        },
        "id": "Cp35aG1ST3l0",
        "outputId": "66256a16-e544-4db7-e811-708feb3fbfe3"
      },
      "execution_count": null,
      "outputs": [
        {
          "output_type": "execute_result",
          "data": {
            "text/plain": [
              "tuple"
            ]
          },
          "metadata": {},
          "execution_count": 18
        }
      ]
    },
    {
      "cell_type": "code",
      "source": [
        "c = 5,\n",
        "type(c)"
      ],
      "metadata": {
        "colab": {
          "base_uri": "https://localhost:8080/"
        },
        "id": "3AlcP6mJT7YL",
        "outputId": "63592d2b-f9fc-48b6-c014-81954b55d1c6"
      },
      "execution_count": null,
      "outputs": [
        {
          "output_type": "execute_result",
          "data": {
            "text/plain": [
              "tuple"
            ]
          },
          "metadata": {},
          "execution_count": 19
        }
      ]
    },
    {
      "cell_type": "code",
      "source": [
        "d = 5\n",
        "type(d)"
      ],
      "metadata": {
        "colab": {
          "base_uri": "https://localhost:8080/"
        },
        "id": "d-tYCmVjT-CV",
        "outputId": "aad979c5-d8c7-4baa-c093-05213fccd88b"
      },
      "execution_count": null,
      "outputs": [
        {
          "output_type": "execute_result",
          "data": {
            "text/plain": [
              "int"
            ]
          },
          "metadata": {},
          "execution_count": 20
        }
      ]
    },
    {
      "cell_type": "markdown",
      "metadata": {
        "id": "JfGAxG_i0MA6"
      },
      "source": [
        "As you can see, even without putting parentheses, we can create a tuple. This is a very unique property of a Python tuple."
      ]
    },
    {
      "cell_type": "markdown",
      "metadata": {
        "id": "axkkh0lFbN9m"
      },
      "source": [
        "---"
      ]
    },
    {
      "cell_type": "markdown",
      "metadata": {
        "id": "zX2UYla-ZZr7"
      },
      "source": [
        "### Activity 5: Tuple Indexing\n",
        "\n",
        "Tuple indexing is exactly the same as list indexing. Every item in a Python tuple, occupies a unique position called index.\n",
        "\n",
        "- The first item in a tuple occupies `index = 0`.\n",
        "\n",
        "- Similarly, the second item occupies `index = 1` and so on.\n",
        "\n",
        "- The last item occupies `index = (n - 1)`, where `n` is the number of items contained in a tuple.\n",
        "\n",
        "To get an item of a specific index, write the name of the variable storing the tuple followed by the index value enclosed between square brackets `[]`.\n",
        "\n",
        "**Syntax:** `tuple_name[index_value]`\n"
      ]
    },
    {
      "cell_type": "code",
      "source": [
        "water_props[0]"
      ],
      "metadata": {
        "colab": {
          "base_uri": "https://localhost:8080/",
          "height": 35
        },
        "id": "jJUmaBBKUsPa",
        "outputId": "3ece1653-da3f-45fe-bdec-d4109ce34099"
      },
      "execution_count": null,
      "outputs": [
        {
          "output_type": "execute_result",
          "data": {
            "text/plain": [
              "'h2O'"
            ],
            "application/vnd.google.colaboratory.intrinsic+json": {
              "type": "string"
            }
          },
          "metadata": {},
          "execution_count": 24
        }
      ]
    },
    {
      "cell_type": "code",
      "source": [
        "water_props[4]"
      ],
      "metadata": {
        "colab": {
          "base_uri": "https://localhost:8080/"
        },
        "id": "P9hxI_x6Uusg",
        "outputId": "c51450ff-004e-4e4a-a77e-d23e90526e33"
      },
      "execution_count": null,
      "outputs": [
        {
          "output_type": "execute_result",
          "data": {
            "text/plain": [
              "['solid', 'liquid', 'gas']"
            ]
          },
          "metadata": {},
          "execution_count": 25
        }
      ]
    },
    {
      "cell_type": "code",
      "source": [
        "water_props"
      ],
      "metadata": {
        "colab": {
          "base_uri": "https://localhost:8080/"
        },
        "id": "SNa11DqlkYpr",
        "outputId": "486610c6-f2eb-4888-e34f-9d190946780a"
      },
      "execution_count": null,
      "outputs": [
        {
          "output_type": "execute_result",
          "data": {
            "text/plain": [
              "('h2O', 100, 1.0, True, ['solid', 'liquid', 'gas'], 2)"
            ]
          },
          "metadata": {},
          "execution_count": 21
        }
      ]
    },
    {
      "cell_type": "code",
      "source": [
        "water_props[4][2]"
      ],
      "metadata": {
        "colab": {
          "base_uri": "https://localhost:8080/",
          "height": 35
        },
        "id": "6Qk5FTm_U4je",
        "outputId": "0a00bc13-2339-452d-c8b3-6b008011e2a3"
      },
      "execution_count": null,
      "outputs": [
        {
          "output_type": "execute_result",
          "data": {
            "text/plain": [
              "'gas'"
            ],
            "application/vnd.google.colaboratory.intrinsic+json": {
              "type": "string"
            }
          },
          "metadata": {},
          "execution_count": 27
        }
      ]
    },
    {
      "cell_type": "code",
      "metadata": {
        "id": "r9YReDgvYbnJ",
        "colab": {
          "base_uri": "https://localhost:8080/"
        },
        "outputId": "6f0d1a15-e82e-4d5d-a86f-702ad47ac20d"
      },
      "source": [
        "# Print all the items one-by-one contained in the 'water_props' tuple using the indexing method along with a 'for' loop.\n",
        "for i in water_props:\n",
        "    print(i)"
      ],
      "execution_count": null,
      "outputs": [
        {
          "output_type": "stream",
          "name": "stdout",
          "text": [
            "h2O\n",
            "100\n",
            "1.0\n",
            "True\n",
            "['solid', 'liquid', 'gas']\n",
            "2\n"
          ]
        }
      ]
    },
    {
      "cell_type": "code",
      "source": [
        "len(water_props)"
      ],
      "metadata": {
        "id": "DX2aA0fOUPOU"
      },
      "execution_count": null,
      "outputs": []
    },
    {
      "cell_type": "code",
      "source": [
        "for i in range(6):\n",
        "    print(i)"
      ],
      "metadata": {
        "colab": {
          "base_uri": "https://localhost:8080/"
        },
        "id": "eIWic2m9Ujsh",
        "outputId": "05cd6662-97c8-4326-8ff4-a0019031fcde"
      },
      "execution_count": null,
      "outputs": [
        {
          "output_type": "stream",
          "name": "stdout",
          "text": [
            "0\n",
            "1\n",
            "2\n",
            "3\n",
            "4\n",
            "5\n"
          ]
        }
      ]
    },
    {
      "cell_type": "code",
      "source": [
        "for i in range(len(water_props)):\n",
        "    print(water_props[i])"
      ],
      "metadata": {
        "colab": {
          "base_uri": "https://localhost:8080/"
        },
        "id": "Qa1ZvO19khKv",
        "outputId": "461786b8-2bae-4845-c48a-96c79d88e2e6"
      },
      "execution_count": null,
      "outputs": [
        {
          "output_type": "stream",
          "name": "stdout",
          "text": [
            "h2O\n",
            "100\n",
            "1.0\n",
            "True\n",
            "['solid', 'liquid', 'gas']\n",
            "2\n"
          ]
        }
      ]
    },
    {
      "cell_type": "markdown",
      "metadata": {
        "id": "_Rv7qabdcnoD"
      },
      "source": [
        "As you can see, you can get individual items by writing their indices enclosed between square brackets after the variable containing the tuple.\n",
        "\n",
        "Just like a Python list, you can use negative indexing as well to retrieve an item from a tuple.\n"
      ]
    },
    {
      "cell_type": "code",
      "metadata": {
        "id": "oV_NMDsjgS86",
        "colab": {
          "base_uri": "https://localhost:8080/"
        },
        "outputId": "25842c63-39d2-4ce2-ea40-d155c28b1b9e"
      },
      "source": [
        "# Print all the items one-by-one contained in the 'water_props' tuple using the negative indexing method along with a 'for' loop.\n",
        "for  i in range(6):\n",
        "    print(water_props[i - 6])"
      ],
      "execution_count": null,
      "outputs": [
        {
          "output_type": "stream",
          "name": "stdout",
          "text": [
            "h2O\n",
            "100\n",
            "1.0\n",
            "True\n",
            "['solid', 'liquid', 'gas']\n",
            "2\n"
          ]
        }
      ]
    },
    {
      "cell_type": "code",
      "metadata": {
        "id": "xgpEp-eQbW12",
        "colab": {
          "base_uri": "https://localhost:8080/"
        },
        "outputId": "dfaff31f-18c3-465d-f4f8-60aa89e4a62e"
      },
      "source": [
        "# Get all the items of the 'water_props' tuple in the reverse order\n",
        "# using the negative indexing method along with a 'for' loop.\n",
        "\n",
        "for i in range(6):\n",
        "    print(water_props[5 -i])"
      ],
      "execution_count": null,
      "outputs": [
        {
          "output_type": "stream",
          "name": "stdout",
          "text": [
            "2\n",
            "['solid', 'liquid', 'gas']\n",
            "True\n",
            "1.0\n",
            "100\n",
            "h2O\n"
          ]
        }
      ]
    },
    {
      "cell_type": "code",
      "source": [
        "for i in range(6):\n",
        "    print(water_props[-(i+1)])"
      ],
      "metadata": {
        "colab": {
          "base_uri": "https://localhost:8080/"
        },
        "id": "ra4Szu4NmI8M",
        "outputId": "421283ea-a257-4dec-bdbc-e5cc2aeee90f"
      },
      "execution_count": null,
      "outputs": [
        {
          "output_type": "stream",
          "name": "stdout",
          "text": [
            "2\n",
            "['solid', 'liquid', 'gas']\n",
            "True\n",
            "1.0\n",
            "100\n",
            "h2O\n"
          ]
        }
      ]
    },
    {
      "cell_type": "code",
      "source": [
        "water_props"
      ],
      "metadata": {
        "colab": {
          "base_uri": "https://localhost:8080/"
        },
        "id": "j0gETANQVM3J",
        "outputId": "9f4d3487-2e2a-41e9-9eb5-d847ef2b7eef"
      },
      "execution_count": null,
      "outputs": [
        {
          "output_type": "execute_result",
          "data": {
            "text/plain": [
              "('h2O', 100, 1.0, True, ['solid', 'liquid', 'gas'], 2)"
            ]
          },
          "metadata": {},
          "execution_count": 28
        }
      ]
    },
    {
      "cell_type": "markdown",
      "metadata": {
        "id": "ehuJdrrDdbf3"
      },
      "source": [
        "---"
      ]
    },
    {
      "cell_type": "markdown",
      "metadata": {
        "id": "Gl6PMYFzdcuY"
      },
      "source": [
        "### Activity 6: Tuple Slicing\n",
        "\n",
        "Again, tuple slicing is exactly the same as the list slicing. We will quickly go through this concept."
      ]
    },
    {
      "cell_type": "markdown",
      "source": [
        "The general form of the slicing syntax is `sequence[start:stop:step]`.\n",
        "- start: The index to start the slice. The slice starts from this index (inclusive). If omitted, it defaults to the beginning of the sequence.\n",
        "- stop: The index to end the slice. The slice goes up to, but does not include, this index. If omitted, it defaults to the end of the sequence.\n",
        "- step: The step size or stride. If omitted, it defaults to 1. A negative step size means slicing in reverse.\n",
        "\n",
        "**NOTE**\n",
        "- `tuple[:]`: This takes a slice of the entire tuple (i.e., it includes all elements from start to end)."
      ],
      "metadata": {
        "id": "RlfpmywVMqiV"
      }
    },
    {
      "cell_type": "code",
      "source": [
        "water_props"
      ],
      "metadata": {
        "colab": {
          "base_uri": "https://localhost:8080/"
        },
        "id": "DrcGZFJummqM",
        "outputId": "da018999-999c-4cbe-c84f-2d5c598a883d"
      },
      "execution_count": null,
      "outputs": [
        {
          "output_type": "execute_result",
          "data": {
            "text/plain": [
              "('h2O', 100, 1.0, True, ['solid', 'liquid', 'gas'], 2)"
            ]
          },
          "metadata": {},
          "execution_count": 64
        }
      ]
    },
    {
      "cell_type": "code",
      "metadata": {
        "id": "g4St23LCckp5",
        "colab": {
          "base_uri": "https://localhost:8080/"
        },
        "outputId": "a2682cf7-58b2-43f6-b331-7f4a409e4019"
      },
      "source": [
        "# Get the first four items\n",
        "water_props[: 4 ]"
      ],
      "execution_count": null,
      "outputs": [
        {
          "output_type": "execute_result",
          "data": {
            "text/plain": [
              "('h2O', 100, 1.0, True)"
            ]
          },
          "metadata": {},
          "execution_count": 32
        }
      ]
    },
    {
      "cell_type": "code",
      "metadata": {
        "id": "8awzIZSGfAz9",
        "colab": {
          "base_uri": "https://localhost:8080/"
        },
        "outputId": "13399299-e675-4acc-bbf2-43f4fc36c36a"
      },
      "source": [
        "# Get all the items in the reverse order.\n",
        "water_props[::-1]"
      ],
      "execution_count": null,
      "outputs": [
        {
          "output_type": "execute_result",
          "data": {
            "text/plain": [
              "(2, ['solid', 'liquid', 'gas'], True, 1.0, 100, 'h2O')"
            ]
          },
          "metadata": {},
          "execution_count": 33
        }
      ]
    },
    {
      "cell_type": "code",
      "metadata": {
        "id": "qOtYwIANhkZD",
        "colab": {
          "base_uri": "https://localhost:8080/"
        },
        "outputId": "c3efaa8c-d9e5-4272-f5b6-66b9c9f0c5bc"
      },
      "source": [
        "# Get the alternate items\n",
        "water_props[::2]"
      ],
      "execution_count": null,
      "outputs": [
        {
          "output_type": "execute_result",
          "data": {
            "text/plain": [
              "('h2O', 1.0, ['solid', 'liquid', 'gas'])"
            ]
          },
          "metadata": {},
          "execution_count": 34
        }
      ]
    },
    {
      "cell_type": "code",
      "metadata": {
        "id": "gtS9zNIejcqV",
        "colab": {
          "base_uri": "https://localhost:8080/"
        },
        "outputId": "62a6ab15-9bdc-481d-9038-1bd41189285d"
      },
      "source": [
        "#Get the last three items\n",
        "water_props[ -3 : -1]"
      ],
      "execution_count": null,
      "outputs": [
        {
          "output_type": "execute_result",
          "data": {
            "text/plain": [
              "(True, ['solid', 'liquid', 'gas'])"
            ]
          },
          "metadata": {},
          "execution_count": 36
        }
      ]
    },
    {
      "cell_type": "code",
      "source": [
        "water_props[3:]"
      ],
      "metadata": {
        "colab": {
          "base_uri": "https://localhost:8080/"
        },
        "id": "U8pV-obPnfkn",
        "outputId": "2ccad49e-8271-438c-f43f-03ab9fe28d62"
      },
      "execution_count": null,
      "outputs": [
        {
          "output_type": "execute_result",
          "data": {
            "text/plain": [
              "(True, ['solid', 'liquid', 'gas'], 2)"
            ]
          },
          "metadata": {},
          "execution_count": 37
        }
      ]
    },
    {
      "cell_type": "code",
      "source": [
        "water_props"
      ],
      "metadata": {
        "id": "q25yMar8notD"
      },
      "execution_count": null,
      "outputs": []
    },
    {
      "cell_type": "code",
      "metadata": {
        "id": "6SudkgSafxNx",
        "colab": {
          "base_uri": "https://localhost:8080/"
        },
        "outputId": "e544fc89-dd55-4cb2-d12c-460119e188de"
      },
      "source": [
        "# Get all the items from the tuple using negative indexing except for the first and the last items.\n",
        "water_props[1:5]"
      ],
      "execution_count": null,
      "outputs": [
        {
          "output_type": "execute_result",
          "data": {
            "text/plain": [
              "(100, 1.0, True, ['solid', 'liquid', 'gas'])"
            ]
          },
          "metadata": {},
          "execution_count": 38
        }
      ]
    },
    {
      "cell_type": "code",
      "source": [
        "water_props[-5:-1]"
      ],
      "metadata": {
        "colab": {
          "base_uri": "https://localhost:8080/"
        },
        "id": "lIJFf8JTnxcZ",
        "outputId": "a70bf13a-a236-4e82-977c-d429c01094e9"
      },
      "execution_count": null,
      "outputs": [
        {
          "output_type": "execute_result",
          "data": {
            "text/plain": [
              "(100, 1.0, True, ['solid', 'liquid', 'gas'])"
            ]
          },
          "metadata": {},
          "execution_count": 39
        }
      ]
    },
    {
      "cell_type": "code",
      "source": [
        "water_props"
      ],
      "metadata": {
        "colab": {
          "base_uri": "https://localhost:8080/"
        },
        "id": "Z8QRjtsEW7UI",
        "outputId": "093d2cde-e921-4bfa-e320-f252235907ca"
      },
      "execution_count": null,
      "outputs": [
        {
          "output_type": "execute_result",
          "data": {
            "text/plain": [
              "('h2O', 100, 1.0, True, ['solid', 'liquid', 'gas'], 2)"
            ]
          },
          "metadata": {},
          "execution_count": 40
        }
      ]
    },
    {
      "cell_type": "code",
      "metadata": {
        "id": "wN2ip7IXOA3a",
        "colab": {
          "base_uri": "https://localhost:8080/"
        },
        "outputId": "761979cd-3c20-47ca-d870-90987f297e78"
      },
      "source": [
        "#Get the second item of the list stored in the 'water_props' tuple.\n",
        "water_props[4][1:3]"
      ],
      "execution_count": null,
      "outputs": [
        {
          "output_type": "execute_result",
          "data": {
            "text/plain": [
              "['liquid', 'gas']"
            ]
          },
          "metadata": {},
          "execution_count": 41
        }
      ]
    },
    {
      "cell_type": "markdown",
      "metadata": {
        "id": "34tM0N5Pl4gc"
      },
      "source": [
        "---"
      ]
    },
    {
      "cell_type": "markdown",
      "metadata": {
        "id": "tBXa9yhPukbh"
      },
      "source": [
        "### Activity 7: The `index()` Function\n",
        "\n",
        "You can use the `index()` function to find out the index of an item in a tuple. The same function can also be used for a Python list.\n",
        "\n",
        "**Syntax:** `tuple_name.index(item)`"
      ]
    },
    {
      "cell_type": "code",
      "metadata": {
        "id": "TV_dXbgYlzxw",
        "colab": {
          "base_uri": "https://localhost:8080/"
        },
        "outputId": "3066fed1-0a49-4371-a19a-5c9d2cd548ee"
      },
      "source": [
        "# Get the index of the item 100 that is present in the  tuple.\n",
        "water_props.index(100)"
      ],
      "execution_count": null,
      "outputs": [
        {
          "output_type": "execute_result",
          "data": {
            "text/plain": [
              "1"
            ]
          },
          "metadata": {},
          "execution_count": 44
        }
      ]
    },
    {
      "cell_type": "markdown",
      "metadata": {
        "id": "ushE05W8PZSs"
      },
      "source": [
        "**Note:** The `index()` function throws `ValueError` if an item does not exist in the tuple."
      ]
    },
    {
      "cell_type": "markdown",
      "metadata": {
        "id": "73bW5MU8PwUm"
      },
      "source": [
        "---"
      ]
    },
    {
      "cell_type": "markdown",
      "metadata": {
        "id": "zKlZahzS8GuO"
      },
      "source": [
        "### Activity 8: The `count()` Function\n",
        "\n",
        "The `count()` function in tuple counts the number of times an item occurs in a tuple. The same function can also be used for a Python list.\n",
        "\n",
        "Here we have a tuple containing student grades in a class.\n",
        "\n",
        "`student_grades = ('A', 'B', 'C', 'A', 'A', 'B', 'B', 'C', 'A', 'B')`\n",
        "\n",
        "Find out how many times students got grades `A`, `B` and `C` in that particular class"
      ]
    },
    {
      "cell_type": "code",
      "source": [
        "# Define a tuple representing student grades in a class\n",
        "student_grades = ('A', 'B', 'C', 'A', 'A', 'B', 'B', 'C', 'A', 'B')\n",
        "\n",
        "\n",
        "# Count how many times each grade appears in the tuple\n",
        "count_A = student_grades.count('A')\n",
        "count_B = student_grades.count('B')\n",
        "count_C = student_grades.count('C')\n",
        "\n",
        "\n",
        "# Print the results\n",
        "print(\"Number of times 'A' appears in the tuple:\", count_A)\n",
        "print(\"Number of times 'B' appears in the tuple:\", count_B)\n",
        "print(\"Number of times 'C' appears in the tuple:\", count_C)\n"
      ],
      "metadata": {
        "id": "RiF-DJewRdWd",
        "colab": {
          "base_uri": "https://localhost:8080/"
        },
        "outputId": "aeebef6c-66da-46a6-87e6-0e1ee1bd6760"
      },
      "execution_count": null,
      "outputs": [
        {
          "output_type": "stream",
          "name": "stdout",
          "text": [
            "Number of times 'A' appears in the tuple: 4\n",
            "Number of times 'B' appears in the tuple: 4\n",
            "Number of times 'C' appears in the tuple: 2\n"
          ]
        }
      ]
    },
    {
      "cell_type": "markdown",
      "metadata": {
        "id": "44YH35S_RITK"
      },
      "source": [
        "---"
      ]
    },
    {
      "cell_type": "markdown",
      "metadata": {
        "id": "348_q6lxSZYV"
      },
      "source": [
        "### Activity 9: Add, Replace & Delete Item\n",
        "\n",
        "As discussed at the beginning of this class, we cannot add, replace (or update) & delete an item from a tuple. Let's verify this theory.\n",
        "\n",
        "Let's try to replace the item `2` contained in the `water_props` tuple with the string `'two'`. We should get an error."
      ]
    },
    {
      "cell_type": "code",
      "metadata": {
        "id": "ZvW7-FvETYqm",
        "collapsed": true,
        "colab": {
          "base_uri": "https://localhost:8080/",
          "height": 198
        },
        "outputId": "0fb6ea46-d9e2-493b-eecd-0a2beadd8303"
      },
      "source": [
        "# Try to replace the item 2 contained in the 'water_props' tuple with the string 'two'.\n",
        "index_of_2 = water_props.index(2)\n",
        "print(\"The item 2 exists at index =\", index_of_2)\n",
        "#water_props[index_of_2] = 'two'\n"
      ],
      "execution_count": null,
      "outputs": [
        {
          "output_type": "stream",
          "name": "stdout",
          "text": [
            "The item 2 exists at index = 5\n"
          ]
        },
        {
          "output_type": "error",
          "ename": "TypeError",
          "evalue": "'tuple' object does not support item assignment",
          "traceback": [
            "\u001b[0;31m---------------------------------------------------------------------------\u001b[0m",
            "\u001b[0;31mTypeError\u001b[0m                                 Traceback (most recent call last)",
            "\u001b[0;32m<ipython-input-79-aae463820423>\u001b[0m in \u001b[0;36m<cell line: 4>\u001b[0;34m()\u001b[0m\n\u001b[1;32m      2\u001b[0m \u001b[0mindex_of_2\u001b[0m \u001b[0;34m=\u001b[0m \u001b[0mwater_props\u001b[0m\u001b[0;34m.\u001b[0m\u001b[0mindex\u001b[0m\u001b[0;34m(\u001b[0m\u001b[0;36m2\u001b[0m\u001b[0;34m)\u001b[0m\u001b[0;34m\u001b[0m\u001b[0;34m\u001b[0m\u001b[0m\n\u001b[1;32m      3\u001b[0m \u001b[0mprint\u001b[0m\u001b[0;34m(\u001b[0m\u001b[0;34m\"The item 2 exists at index =\"\u001b[0m\u001b[0;34m,\u001b[0m \u001b[0mindex_of_2\u001b[0m\u001b[0;34m)\u001b[0m\u001b[0;34m\u001b[0m\u001b[0;34m\u001b[0m\u001b[0m\n\u001b[0;32m----> 4\u001b[0;31m \u001b[0mwater_props\u001b[0m\u001b[0;34m[\u001b[0m\u001b[0mindex_of_2\u001b[0m\u001b[0;34m]\u001b[0m \u001b[0;34m=\u001b[0m \u001b[0;34m'two'\u001b[0m\u001b[0;34m\u001b[0m\u001b[0;34m\u001b[0m\u001b[0m\n\u001b[0m",
            "\u001b[0;31mTypeError\u001b[0m: 'tuple' object does not support item assignment"
          ]
        }
      ]
    },
    {
      "cell_type": "code",
      "source": [
        "water_props"
      ],
      "metadata": {
        "colab": {
          "base_uri": "https://localhost:8080/"
        },
        "id": "rtAFcFOtX29T",
        "outputId": "6eb4272b-7b73-4b99-8302-e523113b4867"
      },
      "execution_count": null,
      "outputs": [
        {
          "output_type": "execute_result",
          "data": {
            "text/plain": [
              "('h2O', 100, 1.0, True, ['solid', 'liquid', 'gas'], 2)"
            ]
          },
          "metadata": {},
          "execution_count": 48
        }
      ]
    },
    {
      "cell_type": "code",
      "source": [
        "#water_props[5]= \"two\" # tuples are immutable, cannot update it"
      ],
      "metadata": {
        "id": "AbHF04pEXylp"
      },
      "execution_count": null,
      "outputs": []
    },
    {
      "cell_type": "markdown",
      "metadata": {
        "id": "csp3eeh3UBBr"
      },
      "source": [
        "As you can see, Python throws `TypeError` saying that `'tuple' object does not support item assignment`. Hence, we have verified that we cannot replace or update an existing item in a tuple.\n",
        "\n",
        "Let's try to delete the item `2` using the `del` keyword. It works for a Python list as well. There exists no `remove()` function for a Python tuple like the one that exists for a Python list.\n",
        "\n",
        "**Note:** Again you will get an error."
      ]
    },
    {
      "cell_type": "code",
      "metadata": {
        "id": "2cgn3b0pUuVL"
      },
      "source": [
        "# Try to delete the item\n",
        "#del water_props[5]"
      ],
      "execution_count": null,
      "outputs": []
    },
    {
      "cell_type": "markdown",
      "metadata": {
        "id": "g5QBOAkhVHyg"
      },
      "source": [
        "As you can see, Python throws `TypeError` saying that `'tuple' object doesn't support item deletion`. Hence, we have verified that we cannot delete an existing item from a tuple.\n",
        "\n",
        "There exists no function like the `append()` function (exists for a Python list) that can add an item to a tuple. But can concatenate or join two or more tuples.\n",
        "\n"
      ]
    },
    {
      "cell_type": "markdown",
      "metadata": {
        "id": "Gg7lopbA4jNM"
      },
      "source": [
        "###Activity 10: Concatenation\n",
        " we cannot add a new item to a tuple because tuples are immutable. However, we can join two tuples through concatenation.\n",
        "\n",
        "Recall that the process of joining two entities is called **concatenation**. This is exactly the same concept that you learnt for strings in one of the previous classes.\n",
        "\n",
        "```\n",
        "product1_sales = (120, 150, 180, 200, 220, 190, 210)  # Sales for Product 1\n",
        "product2_sales = (90, 100, 110, 120, 130, 140, 150)    # Sales for Product 2\n",
        "product3_sales = (80, 85, 90, 95, 100, 105, 110)       # Sales for Product 3\n",
        "```"
      ]
    },
    {
      "cell_type": "code",
      "source": [
        "a = [1,2,3]\n",
        "b = [4,5,6]\n",
        "a+b"
      ],
      "metadata": {
        "colab": {
          "base_uri": "https://localhost:8080/"
        },
        "id": "tWHfHrdsYM_G",
        "outputId": "a05f1f86-153f-4900-c7d1-1bfc21a5f658"
      },
      "execution_count": null,
      "outputs": [
        {
          "output_type": "execute_result",
          "data": {
            "text/plain": [
              "[1, 2, 3, 4, 5, 6]"
            ]
          },
          "metadata": {},
          "execution_count": 51
        }
      ]
    },
    {
      "cell_type": "code",
      "source": [
        "\"string\" +\"@@@@concatenation\""
      ],
      "metadata": {
        "colab": {
          "base_uri": "https://localhost:8080/",
          "height": 35
        },
        "id": "ii1XEayeYRR-",
        "outputId": "e25a4e1f-e127-4ef3-be78-c8e2b57665ec"
      },
      "execution_count": null,
      "outputs": [
        {
          "output_type": "execute_result",
          "data": {
            "text/plain": [
              "'string@@@@concatenation'"
            ],
            "application/vnd.google.colaboratory.intrinsic+json": {
              "type": "string"
            }
          },
          "metadata": {},
          "execution_count": 53
        }
      ]
    },
    {
      "cell_type": "code",
      "source": [
        "a = (1,2,3)\n",
        "b=(4,5,6)\n",
        "a+b"
      ],
      "metadata": {
        "colab": {
          "base_uri": "https://localhost:8080/"
        },
        "id": "4lFORj18YbZS",
        "outputId": "f7f61dde-70aa-4807-a728-31b32eaf97fa"
      },
      "execution_count": null,
      "outputs": [
        {
          "output_type": "execute_result",
          "data": {
            "text/plain": [
              "(1, 2, 3, 4, 5, 6)"
            ]
          },
          "metadata": {},
          "execution_count": 55
        }
      ]
    },
    {
      "cell_type": "code",
      "metadata": {
        "id": "gVXe2jSD6kXM",
        "colab": {
          "base_uri": "https://localhost:8080/"
        },
        "outputId": "c4eb2b3e-212e-4924-b86a-fbd8c85e972e"
      },
      "source": [
        "# Tuples representing monthly sales in thousands of dollars\n",
        "product1_sales = (120, 150, 180, 200, 220, 190, 210)  # Sales for Product 1\n",
        "product2_sales = (90, 100, 110, 120, 130, 140, 150)    # Sales for Product 2\n",
        "product3_sales = (80, 85, 90, 95, 100, 105, 110)       # Sales for Product 3\n",
        "\n",
        "\n",
        "# Concatenate the tuples to form a single tuple representing sales over months\n",
        "total_sales = product1_sales + product2_sales + product3_sales\n",
        "\n",
        "\n",
        "# Print the concatenated tuple\n",
        "print(\"Total sales across all products:\", total_sales)\n"
      ],
      "execution_count": null,
      "outputs": [
        {
          "output_type": "stream",
          "name": "stdout",
          "text": [
            "Total sales across all products: (120, 150, 180, 200, 220, 190, 210, 90, 100, 110, 120, 130, 140, 150, 80, 85, 90, 95, 100, 105, 110)\n"
          ]
        }
      ]
    },
    {
      "cell_type": "markdown",
      "metadata": {
        "id": "JYT-60Fk5vzq"
      },
      "source": [
        "Let's verify whether the resulting tuple is indeed a tuple or not."
      ]
    },
    {
      "cell_type": "code",
      "metadata": {
        "id": "QI_OtkElBQ2-",
        "colab": {
          "base_uri": "https://localhost:8080/"
        },
        "outputId": "0c89df78-6415-4b68-9de7-1a6ec5285620"
      },
      "source": [
        "# Verify whether the resulting tuple is indeed a tuple or not.\n",
        "type(total_sales)"
      ],
      "execution_count": null,
      "outputs": [
        {
          "output_type": "execute_result",
          "data": {
            "text/plain": [
              "tuple"
            ]
          },
          "metadata": {},
          "execution_count": 56
        }
      ]
    },
    {
      "cell_type": "markdown",
      "metadata": {
        "id": "uKRZTDv4EE0H"
      },
      "source": [
        "You can also concatenate multiple lists using the `+` operator."
      ]
    },
    {
      "cell_type": "markdown",
      "metadata": {
        "id": "B1qOlCGyGTgy"
      },
      "source": [
        "**Note:** You cannot concatenate multiple Python dictionaries, NumPy arrays and Pandas series among themselves using the `+` operator."
      ]
    },
    {
      "cell_type": "code",
      "source": [
        "#a ={1:2,3:5}\n",
        "#b ={4:5,6:7}\n",
        "#a+b you cannot concatenate dictionaries"
      ],
      "metadata": {
        "id": "08XtN6OuYoQ6"
      },
      "execution_count": null,
      "outputs": []
    },
    {
      "cell_type": "markdown",
      "metadata": {
        "id": "yNp0kFgFCwO1"
      },
      "source": [
        "---"
      ]
    },
    {
      "cell_type": "markdown",
      "metadata": {
        "id": "BtHTc0-qJgqz"
      },
      "source": [
        "### Activity 11: The `tuple()` Function\n",
        "\n",
        "You can convert a Python list / NumPy array / Pandas Series into a tuple using the `tuple()` function.\n",
        "\n",
        "Let's create a NumPy array of first 10 natural numbers and convert it into a tuple using the `tuple()` function."
      ]
    },
    {
      "cell_type": "code",
      "source": [
        "import numpy as np\n",
        "a =[1,2,3]\n",
        "a_array = np.array(a)\n",
        "a_array\n"
      ],
      "metadata": {
        "colab": {
          "base_uri": "https://localhost:8080/"
        },
        "id": "foWEMF9AY7nG",
        "outputId": "3686b781-f8eb-4792-b86c-a538f2a0b703"
      },
      "execution_count": null,
      "outputs": [
        {
          "output_type": "execute_result",
          "data": {
            "text/plain": [
              "array([1, 2, 3])"
            ]
          },
          "metadata": {},
          "execution_count": 59
        }
      ]
    },
    {
      "cell_type": "code",
      "source": [
        "a =(1,2,3)\n",
        "a_array = np.array(a)\n",
        "a_array"
      ],
      "metadata": {
        "colab": {
          "base_uri": "https://localhost:8080/"
        },
        "id": "heskbErlZFIz",
        "outputId": "26b46a1f-808d-4a6a-8c19-c14aaf7afb52"
      },
      "execution_count": null,
      "outputs": [
        {
          "output_type": "execute_result",
          "data": {
            "text/plain": [
              "array([1, 2, 3])"
            ]
          },
          "metadata": {},
          "execution_count": 60
        }
      ]
    },
    {
      "cell_type": "code",
      "source": [
        "a_arr_tup = tuple(a_array)\n",
        "a_arr_tup"
      ],
      "metadata": {
        "colab": {
          "base_uri": "https://localhost:8080/"
        },
        "id": "_LcsvtsuZKPF",
        "outputId": "33b22d80-4d0b-4b0b-e1a1-9b03f71e6232"
      },
      "execution_count": null,
      "outputs": [
        {
          "output_type": "execute_result",
          "data": {
            "text/plain": [
              "(1, 2, 3)"
            ]
          },
          "metadata": {},
          "execution_count": 61
        }
      ]
    },
    {
      "cell_type": "code",
      "source": [
        "num_array = np.arange(1, 11)\n",
        "\n",
        "print(num_array)"
      ],
      "metadata": {
        "colab": {
          "base_uri": "https://localhost:8080/"
        },
        "id": "HLmL-lJZZXx1",
        "outputId": "0e4cb319-4277-44ad-fa3f-3db580e42cea"
      },
      "execution_count": null,
      "outputs": [
        {
          "output_type": "stream",
          "name": "stdout",
          "text": [
            "[ 1  2  3  4  5  6  7  8  9 10]\n"
          ]
        }
      ]
    },
    {
      "cell_type": "code",
      "metadata": {
        "id": "z4KWEte9LJAC",
        "colab": {
          "base_uri": "https://localhost:8080/"
        },
        "outputId": "eb399e63-5f70-475f-a891-09ec64523886"
      },
      "source": [
        "#  Create a NumPy array containing the first 10 natural numbers and convert it into a tuple.\n",
        "# Also, verify whether the array is converted to a tuple or not.\n",
        "import numpy as np\n",
        "\n",
        "\n",
        "# Create a NumPy array.\n",
        "num_array = np.arange(1, 11)\n",
        "# Print the NumPy array.\n",
        "print(num_array)\n",
        "# Convert the NumPy array into a tuple.\n",
        "num_tuple = tuple(num_array)\n",
        "# Print the tuple.\n",
        "print(num_tuple)\n",
        "# Verify.\n",
        "type(num_tuple)\n",
        "\n"
      ],
      "execution_count": null,
      "outputs": [
        {
          "output_type": "stream",
          "name": "stdout",
          "text": [
            "[ 1  2  3  4  5  6  7  8  9 10]\n",
            "(1, 2, 3, 4, 5, 6, 7, 8, 9, 10)\n"
          ]
        },
        {
          "output_type": "execute_result",
          "data": {
            "text/plain": [
              "tuple"
            ]
          },
          "metadata": {},
          "execution_count": 63
        }
      ]
    },
    {
      "cell_type": "markdown",
      "metadata": {
        "id": "f0lMAKb0OJ7H"
      },
      "source": [
        "If you apply the `tuple()` function on a dictionary, the resulting tuple will contain only the keys of a dictionary.\n",
        "\n"
      ]
    },
    {
      "cell_type": "code",
      "metadata": {
        "id": "DuEl4mUNNr3h",
        "colab": {
          "base_uri": "https://localhost:8080/"
        },
        "outputId": "cab10811-e4bd-46a9-dfdc-e92df51d5524"
      },
      "source": [
        "# Apply the 'tuple()' function on the  dictionary.\n",
        "\n",
        "\n",
        "diet = { \"breakfast\" : \" dosa\", \"lunch\" : \" roti\", \"dinner \" : \"rice\"}\n",
        "diet\n",
        "\n",
        "\n",
        "my_tuple = tuple(diet)\n",
        "my_tuple\n",
        "\n"
      ],
      "execution_count": null,
      "outputs": [
        {
          "output_type": "execute_result",
          "data": {
            "text/plain": [
              "('breakfast', 'lunch', 'dinner ')"
            ]
          },
          "metadata": {},
          "execution_count": 64
        }
      ]
    },
    {
      "cell_type": "markdown",
      "metadata": {
        "id": "Bt8okA7QPCTW"
      },
      "source": [
        "As you can see, the `tuple()` function, when applied to a dictionary, returns a tuple containing only the keys of the dictionary.\n",
        "\n",
        "Similarly, you can also apply the `list()` function to convert a data-structure into a list. The `list()` function, when applied on a dictionary, also returns a list containing only the keys of the dictionary."
      ]
    },
    {
      "cell_type": "code",
      "metadata": {
        "id": "BfOdiqvuP0Vm",
        "colab": {
          "base_uri": "https://localhost:8080/"
        },
        "outputId": "050563c9-fda5-4e71-bc6c-f76b0a78ad07"
      },
      "source": [
        "\n",
        "# Apply the 'list()' function on the dictionary.\n",
        "my_list = list(diet)\n",
        "my_list\n",
        "\n",
        "\n"
      ],
      "execution_count": null,
      "outputs": [
        {
          "output_type": "execute_result",
          "data": {
            "text/plain": [
              "['breakfast', 'lunch', 'dinner ']"
            ]
          },
          "metadata": {},
          "execution_count": 65
        }
      ]
    },
    {
      "cell_type": "code",
      "source": [
        "tuple(diet.values())"
      ],
      "metadata": {
        "colab": {
          "base_uri": "https://localhost:8080/"
        },
        "id": "efs6jkBcaAhX",
        "outputId": "e002b406-8e3f-44dc-b0cb-d179fcc72685"
      },
      "execution_count": null,
      "outputs": [
        {
          "output_type": "execute_result",
          "data": {
            "text/plain": [
              "(' dosa', ' roti', 'rice')"
            ]
          },
          "metadata": {},
          "execution_count": 67
        }
      ]
    },
    {
      "cell_type": "code",
      "source": [
        "item_tuples = tuple(diet.items())"
      ],
      "metadata": {
        "id": "lz6eBqymaNyv"
      },
      "execution_count": null,
      "outputs": []
    },
    {
      "cell_type": "code",
      "source": [
        "item_tuples[2][0]"
      ],
      "metadata": {
        "colab": {
          "base_uri": "https://localhost:8080/",
          "height": 35
        },
        "id": "AZ6FRPXdaVE0",
        "outputId": "c1b5caa2-0d58-44a2-d47b-3ab3cb13f22e"
      },
      "execution_count": null,
      "outputs": [
        {
          "output_type": "execute_result",
          "data": {
            "text/plain": [
              "'dinner '"
            ],
            "application/vnd.google.colaboratory.intrinsic+json": {
              "type": "string"
            }
          },
          "metadata": {},
          "execution_count": 72
        }
      ]
    },
    {
      "cell_type": "markdown",
      "metadata": {
        "id": "6DFFERac6_nm"
      },
      "source": [
        "---"
      ]
    },
    {
      "cell_type": "markdown",
      "metadata": {
        "id": "0jVLzFYrCxxH"
      },
      "source": [
        "### Activity 12: Unpacking\n",
        "\n",
        "We can unpack or assign all the values to the same number of variables by writing them in one line.\n",
        "\n",
        "**Syntax:** `vb1, vb2, vb3, ..., vbN = (item1, item2, item3, ..., itemN)`\n",
        "\n",
        "where `vb1, vb2, vb3, ..., vbN` are `N` different variables and `item1, item2, item3, ..., itemN` are `N` different items stored in the tuple."
      ]
    },
    {
      "cell_type": "code",
      "source": [
        "a = 5\n",
        "b= 10\n",
        "c = 15\n",
        "print(a,b,c)"
      ],
      "metadata": {
        "colab": {
          "base_uri": "https://localhost:8080/"
        },
        "id": "Qf1XM6Qdaiy5",
        "outputId": "7d8118dc-eec5-4483-c427-47b49b15f454"
      },
      "execution_count": null,
      "outputs": [
        {
          "output_type": "stream",
          "name": "stdout",
          "text": [
            "5 10 15\n"
          ]
        }
      ]
    },
    {
      "cell_type": "code",
      "source": [
        "a,b,c = 5,10,15\n",
        "print(a,b,c)"
      ],
      "metadata": {
        "colab": {
          "base_uri": "https://localhost:8080/"
        },
        "id": "4Apmx_DcanLX",
        "outputId": "974e9bd7-b61e-41c8-b251-90f2a24db732"
      },
      "execution_count": null,
      "outputs": [
        {
          "output_type": "stream",
          "name": "stdout",
          "text": [
            "5 10 15\n"
          ]
        }
      ]
    },
    {
      "cell_type": "code",
      "metadata": {
        "id": "oLzm2gBpuhim",
        "colab": {
          "base_uri": "https://localhost:8080/"
        },
        "outputId": "154b634b-821b-40b1-cffc-57404796a930"
      },
      "source": [
        "# Create a tuple containing 5 items and assign their values to 5 differing variables.\n",
        "name, age, height, weight, city = ('john', 30, 175, 75, 'newyork')\n",
        "\n",
        "print(\"Name:\", name,\n",
        "      \"\\nAge:\", age,\n",
        "      \"\\nHeight (in cm):\", height,\n",
        "      \"\\nWeight (in kg):\", weight,\n",
        "      \"\\nCity:\", city)"
      ],
      "execution_count": null,
      "outputs": [
        {
          "output_type": "stream",
          "name": "stdout",
          "text": [
            "Name: john \n",
            "Age: 30 \n",
            "Height (in cm): 175 \n",
            "Weight (in kg): 75 \n",
            "City: newyork\n"
          ]
        }
      ]
    },
    {
      "cell_type": "code",
      "source": [
        "# Create a tuple containing 5 items and assign their values to 5 differing variables.\n",
        "name, age, height, weight, city = ['john', 30, 175, 75, 'newyork']\n",
        "\n",
        "print(\"Name:\", name,\n",
        "      \"\\nAge:\", age,\n",
        "      \"\\nHeight (in cm):\", height,\n",
        "      \"\\nWeight (in kg):\", weight,\n",
        "      \"\\nCity:\", city)"
      ],
      "metadata": {
        "colab": {
          "base_uri": "https://localhost:8080/"
        },
        "id": "Tq9GxZzeazby",
        "outputId": "a093b382-4056-40fc-cab9-88d9c9fa2c80"
      },
      "execution_count": null,
      "outputs": [
        {
          "output_type": "stream",
          "name": "stdout",
          "text": [
            "Name: john \n",
            "Age: 30 \n",
            "Height (in cm): 175 \n",
            "Weight (in kg): 75 \n",
            "City: newyork\n"
          ]
        }
      ]
    },
    {
      "cell_type": "markdown",
      "metadata": {
        "id": "kk4uK_shDt3a"
      },
      "source": [
        "The same method is also applicable for a list.\n",
        "\n",
        "**Note:** This method of unpacking values fails when the number of variables are less than or greater than the number of items in a tuple or a list."
      ]
    },
    {
      "cell_type": "markdown",
      "metadata": {
        "id": "NefMJbBW61Gt"
      },
      "source": [
        "---"
      ]
    },
    {
      "cell_type": "markdown",
      "metadata": {
        "id": "K3eBUNokDpkk"
      },
      "source": [
        "#### Activity 13: Changing Tuple Items\n",
        "\n",
        "We have already discussed that we cannot change the contents of a tuple. However, we can first convert the tuple into a list, then change the contents of the list and finally change the list back into a tuple.\n",
        "\n",
        "Let's create a tuple of English vowels which contains one consonant. To remove that consonant, we will first convert the tuple into a list using the `list()` function, then will remove the consonant by applying the `remove()` function and then convert the list back to a tuple using the `tuple()` function."
      ]
    },
    {
      "cell_type": "code",
      "metadata": {
        "id": "-8mTXvszEKKQ",
        "colab": {
          "base_uri": "https://localhost:8080/"
        },
        "outputId": "a5df6201-ca7f-4d81-9f75-35536945f5f1"
      },
      "source": [
        "# Create a tuple containing English vowels and then reverse the order of its items.\n",
        "# Create a tuple of vowels.\n",
        "vowels_tuple = ('a', 'e', 'i', 's', 'o', 'u')\n",
        "\n",
        "# Print the contents of the tuple before converting it into a list.\n",
        "print(\"Before Reversal:\", vowels_tuple)\n",
        "\n",
        "# Convert the tuple into a list.\n",
        "vowels_list = list(vowels_tuple)\n",
        "\n",
        "# Remove the consonant from the list.\n",
        "vowels_list.remove('s')\n",
        "\n",
        "# Convert the list into a tuple.\n",
        "vowels_tuple = tuple(vowels_list)\n",
        "\n",
        "# Print the items of the tuple after reversing their order.\n",
        "print(\"After Reversal:\", vowels_tuple[::-1])"
      ],
      "execution_count": null,
      "outputs": [
        {
          "output_type": "stream",
          "name": "stdout",
          "text": [
            "Before Reversal: ('a', 'e', 'i', 's', 'o', 'u')\n",
            "After Reversal: ('u', 'o', 'i', 'e', 'a')\n"
          ]
        }
      ]
    },
    {
      "cell_type": "markdown",
      "metadata": {
        "id": "-yZvM61OFnl_"
      },
      "source": [
        "- Similarly, you can apply other list functions by first converting a tuple into a list and then changing the list back to the tuple by applying the `tuple()` function.\n",
        "- This little hack is useful when the data entered in a tuple is wrong or undesirable.\n",
        "- However, this hack becomes a computationally heavy task in case of a huge dataset.\n",
        "- Imagine having 1 million (or 10 lakh) data points in a dataset that is not supposed to be changed. But then there is one mistake that needs to be corrected. You will have to first convert the entire tuple into a list, then correct the mistake in the item and then convert it back into a tuple. This exercise could lead to system failure in case of large datasets."
      ]
    },
    {
      "cell_type": "markdown",
      "metadata": {
        "id": "bISUwCYz6VMy"
      },
      "source": [
        "---"
      ]
    }
  ]
}