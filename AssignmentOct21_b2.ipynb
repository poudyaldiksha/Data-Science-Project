{
  "nbformat": 4,
  "nbformat_minor": 0,
  "metadata": {
    "colab": {
      "provenance": [],
      "include_colab_link": true
    },
    "kernelspec": {
      "name": "python3",
      "display_name": "Python 3"
    },
    "language_info": {
      "name": "python"
    }
  },
  "cells": [
    {
      "cell_type": "markdown",
      "metadata": {
        "id": "view-in-github",
        "colab_type": "text"
      },
      "source": [
        "<a href=\"https://colab.research.google.com/github/poudyaldiksha/Data-Science-project/blob/main/AssignmentOct21_b2.ipynb\" target=\"_parent\"><img src=\"https://colab.research.google.com/assets/colab-badge.svg\" alt=\"Open In Colab\"/></a>"
      ]
    },
    {
      "cell_type": "markdown",
      "source": [
        "#Assignment 1"
      ],
      "metadata": {
        "id": "vtpdwaGmTzn0"
      }
    },
    {
      "cell_type": "markdown",
      "source": [
        "### Activity 1: Multiplying numbers of the list\n",
        "\n",
        "Create a list which contains some numbers and multiply all the numbers in the list.\n",
        "\n",
        "**Constraint:** The list should not be empty.\n",
        "\n",
        "For Example:\n",
        "\n",
        "```\n",
        "list[1,2,3] will give '6'\n",
        "list[2,3,7] will give '42'\n",
        "```\n"
      ],
      "metadata": {
        "id": "d6I6nO3eROkZ"
      }
    },
    {
      "cell_type": "code",
      "source": [
        "import numpy\n",
        "list1 = [1, 2, 3]\n",
        "list2 = [2, 3, 7]\n",
        "\n",
        "# using numpy.prod() to get the multiplications\n",
        "result1 = numpy.prod(list1)\n",
        "result2 = numpy.prod(list2)\n",
        "print(result1)\n",
        "print(result2)\n"
      ],
      "metadata": {
        "id": "3nCDaSxHRe67",
        "colab": {
          "base_uri": "https://localhost:8080/"
        },
        "outputId": "211f272b-7ebb-4351-da6e-8347fe0d42fe"
      },
      "execution_count": null,
      "outputs": [
        {
          "output_type": "stream",
          "name": "stdout",
          "text": [
            "6\n",
            "42\n"
          ]
        }
      ]
    },
    {
      "cell_type": "markdown",
      "source": [
        "### Activity 2: Change Dimension of an Array and Convert the NumPy Array into a List\n",
        "\n",
        "Write a program to change the dimension of an array (say `my_arr =[1, 2, 3, 4, 5, 6, 7, 8, 9]`) into a 3 X 3 (3 rows and 3 columns) array and convert this NumPy array into a list.\n",
        "\n",
        "**For Example:**\n",
        "```\n",
        "Original array is [1 2 3 4 5 6 7 8 9]\n",
        "Dimension is (9,)\n",
        "Change array shape to (3, 3) -> 3 rows and 3 columns\n",
        "[[1 2 3]\n",
        " [4 5 6]\n",
        " [7 8 9]]```\n",
        "\n",
        "The data type of the converted variable is\n",
        " list"
      ],
      "metadata": {
        "id": "pEVqDpBvR2RL"
      }
    },
    {
      "cell_type": "code",
      "source": [
        "import numpy as np\n",
        "\n",
        "def main():\n",
        "    # initializing array\n",
        "    result = np.arange(1, 10)\n",
        "    print('Initialized array:')\n",
        "    print(result)\n",
        "\n",
        "    # resized array with dimensions in\n",
        "    # range of original array\n",
        "    result1 = np.resize(result, (3, 3))\n",
        "    print('3x3 array:')\n",
        "    print(result1)\n",
        "\n",
        "if __name__ == \"__main__\":\n",
        "    main()\n"
      ],
      "metadata": {
        "id": "soAqD_N3R7IC",
        "colab": {
          "base_uri": "https://localhost:8080/"
        },
        "outputId": "6f9ba42e-db1f-4930-84ea-b25ef7603d3a"
      },
      "execution_count": null,
      "outputs": [
        {
          "output_type": "stream",
          "name": "stdout",
          "text": [
            "Initialized array:\n",
            "[1 2 3 4 5 6 7 8 9]\n",
            "3x3 array:\n",
            "[[1 2 3]\n",
            " [4 5 6]\n",
            " [7 8 9]]\n"
          ]
        }
      ]
    },
    {
      "cell_type": "markdown",
      "source": [
        "### Activity 3: Find Square Root and Calculate the value of $c$\n",
        "\n",
        "Write a program to perform following two tasks:\n",
        "-  Print the square root of numbers in the list.\n",
        "- Compute the value of $c$ in the equation $c=\\sqrt(a^2 + b^2)$.\n",
        "\n",
        "**For Example**:\n",
        "\n",
        "```\n",
        "list1 = [4, 16, 9, 1, 25]\n",
        " output: [2   4    3   1    5 ]\n",
        "\n",
        "\n",
        "If a= 30\n",
        "   b= 42\n",
        "The value of c =  51.61395160225576\n",
        "```\n",
        "\n"
      ],
      "metadata": {
        "id": "qU2mVDeOR-si"
      }
    },
    {
      "cell_type": "code",
      "source": [
        "import numpy as geek\n",
        "\n",
        "# applying sqrt() method on integer numbers\n",
        "\n",
        "array1 = geek.sqrt([4, 16, 9, 1 , 25])\n",
        "\n",
        "print(\"squareroot of an array1 : \", array1)\n",
        "\n",
        "\n"
      ],
      "metadata": {
        "id": "h4o42YqFSCRV",
        "colab": {
          "base_uri": "https://localhost:8080/"
        },
        "outputId": "3a37435b-b4cd-4be6-c5ea-feace83ea6bd"
      },
      "execution_count": null,
      "outputs": [
        {
          "output_type": "stream",
          "name": "stdout",
          "text": [
            "squareroot of an array1 :  [2. 4. 3. 1. 5.]\n"
          ]
        }
      ]
    },
    {
      "cell_type": "markdown",
      "source": [
        "### Activity 4: Populate a Number List\n",
        "\n",
        "Write a program that populates a list by numbers that lies in the range of 0 - 49 and also divisible by 5. Use List Comprehension method.\n",
        "\n",
        "**Output**: `[0, 5, 10, 15, 20, 25, 30, 35, 40, 45]`\n"
      ],
      "metadata": {
        "id": "jr4VQWSPSJ-b"
      }
    },
    {
      "cell_type": "code",
      "source": [
        "divisible_by_5 = [num for num in range(50) if num % 5 == 0]\n",
        "print(divisible_by_5)\n",
        "\n"
      ],
      "metadata": {
        "id": "QWwonWM1SPNe",
        "colab": {
          "base_uri": "https://localhost:8080/"
        },
        "outputId": "cfad5ec5-7d75-46de-ec66-188e615f5e67"
      },
      "execution_count": null,
      "outputs": [
        {
          "output_type": "stream",
          "name": "stdout",
          "text": [
            "[0, 5, 10, 15, 20, 25, 30, 35, 40, 45]\n"
          ]
        }
      ]
    },
    {
      "cell_type": "markdown",
      "source": [
        "### Activity 5: Convert Fahrenheit into Celsius\n",
        "\n",
        "Write a program to convert the values in Fahrenheit degrees into Celsius degrees.\n",
        "\n",
        "**Formula**:\n",
        "\n",
        "```\n",
        "celsius = (fahrenheit - 32) / 1.8\n",
        "```\n",
        "\n",
        "**Example**:\n",
        "\n",
        "```\n",
        "Values in Fahrenheit degrees:\n",
        "[ 0  32   45.21]\n",
        "Values in Celsius degrees:\n",
        "[-17.78   0  7.34]\n",
        "```\n",
        "\n",
        "\n"
      ],
      "metadata": {
        "id": "dVrbAPimShKb"
      }
    },
    {
      "cell_type": "code",
      "source": [
        "def fahrenheit_to_celsius(fahrenheit):\n",
        "    celsius = (fahrenheit - 32) / 1.8\n",
        "    return celsius\n",
        "\n",
        "# Example usage\n",
        "fahrenheit = float(input(\"Enter temperature in Fahrenheit: \"))\n",
        "celsius = fahrenheit_to_celsius(fahrenheit)\n",
        "print(f\"The temperature in Celsius is {celsius:.2f}°C\")"
      ],
      "metadata": {
        "id": "9jg3F8HUSlgh",
        "colab": {
          "base_uri": "https://localhost:8080/"
        },
        "outputId": "3542a933-a97a-49f5-fdd9-201537146930"
      },
      "execution_count": null,
      "outputs": [
        {
          "output_type": "stream",
          "name": "stdout",
          "text": [
            "Enter temperature in Fahrenheit: 45.21\n",
            "The temperature in Celsius is 7.34°C\n"
          ]
        }
      ]
    },
    {
      "cell_type": "code",
      "source": [],
      "metadata": {
        "id": "y7BQ5IXMrCbh"
      },
      "execution_count": null,
      "outputs": []
    },
    {
      "cell_type": "markdown",
      "source": [
        "### Activity 6: Array containing Random Integers\n",
        "\n",
        "Create an array containing 40 random integers between 200 and 245 and  Print"
      ],
      "metadata": {
        "id": "uP0UjBp_Sx05"
      }
    },
    {
      "cell_type": "code",
      "source": [
        "import numpy as np\n",
        "\n",
        "# Creating an array of 40 random integers between 200 and 245\n",
        "random_integers = np.random.randint(200, 246, 40)\n",
        "\n",
        "# Printing the array\n",
        "print(random_integers)\n"
      ],
      "metadata": {
        "id": "SidKIuHDS1xL",
        "colab": {
          "base_uri": "https://localhost:8080/"
        },
        "outputId": "dc19e375-0892-418f-b8ea-8a0072762cd3"
      },
      "execution_count": null,
      "outputs": [
        {
          "output_type": "stream",
          "name": "stdout",
          "text": [
            "[212 230 221 208 244 221 226 204 201 239 230 228 217 208 219 234 232 216\n",
            " 217 244 220 200 221 213 239 200 213 240 238 214 230 244 200 240 207 219\n",
            " 212 214 228 212]\n"
          ]
        }
      ]
    },
    {
      "cell_type": "markdown",
      "source": [
        "#### Activity 6.2: Calculate Mean and Median\n",
        "\n",
        "Calculate the mean value and median value of the above Array."
      ],
      "metadata": {
        "id": "1X0pRLUDTCbe"
      }
    },
    {
      "cell_type": "code",
      "metadata": {
        "id": "2g8Itdkx0ZX5",
        "colab": {
          "base_uri": "https://localhost:8080/"
        },
        "outputId": "4f4a0a69-2666-47a1-ad73-bc3706f14ccc"
      },
      "source": [
        "import numpy\n",
        "\n",
        "speed = [212,230,221,208,244,221,226,204,201,239,230,228,217,208,219,234,232,216,217,244,220,200,221,213,239,200,213,240,238,214,230,244,200,240,207,219,212,214,228,212]\n",
        "\n",
        "x = numpy.mean(speed)\n",
        "\n",
        "print(x)\n",
        "\n",
        "import numpy\n",
        "\n",
        "speed = [212,230,221,208,244,221,226,204,201,239,230,228,217,208,219,234,232,216,217,244,220,200,221,213,239,200,213,240,238,214,230,244,200,240,207,219,212,214,228,212]\n",
        "\n",
        "x = numpy.median(speed)\n",
        "\n",
        "print(x)\n"
      ],
      "execution_count": null,
      "outputs": [
        {
          "output_type": "stream",
          "name": "stdout",
          "text": [
            "221.375\n",
            "219.5\n"
          ]
        }
      ]
    },
    {
      "cell_type": "markdown",
      "metadata": {
        "id": "2x82_lCI2yzK"
      },
      "source": [
        "---"
      ]
    },
    {
      "cell_type": "markdown",
      "metadata": {
        "id": "GzfCSkUq18qe"
      },
      "source": [
        "#### Activity 6.3: Find Minimum and Maximum\n",
        "\n",
        "Find the minimum and maximum value in the above Array."
      ]
    },
    {
      "cell_type": "code",
      "metadata": {
        "id": "GOnSoo392Bmu",
        "colab": {
          "base_uri": "https://localhost:8080/"
        },
        "outputId": "c1821160-7a3b-43cb-a45c-41c68bf49f66"
      },
      "source": [
        "# import necessary libraries\n",
        "import pandas as pd\n",
        "import numpy as np\n",
        "\n",
        "# defining series\n",
        "my_series = pd.Series([212,230,221,208,244,221,226,204,201,239,230,228,217,208,219,234,232,216,217,244,220,200,221,213,239,200,213,240,238,214,230,244,200,240,207,219,212,214,228,212])\n",
        "\n",
        "# using np.max() method\n",
        "max_val = np.max(my_series)\n",
        "\n",
        "# printing result\n",
        "print(max_val)\n",
        "\n",
        "# importing necessary libraries\n",
        "import pandas as pd\n",
        "import numpy as np\n",
        "\n",
        "# defining your series\n",
        "my_series = pd.Series([212,230,221,208,244,221,226,204,201,239,230,228,217,208,219,234,232,216,217,244,220,200,221,213,239,200,213,240,238,214,230,244,200,240,207,219,212,214,228,212])\n",
        "\n",
        "# using np.max() method\n",
        "max_val = np.min(my_series)\n",
        "\n",
        "# printing result\n",
        "print(max_val)\n"
      ],
      "execution_count": null,
      "outputs": [
        {
          "output_type": "stream",
          "name": "stdout",
          "text": [
            "244\n",
            "200\n"
          ]
        }
      ]
    },
    {
      "cell_type": "markdown",
      "metadata": {
        "id": "--MY5L-z2wFu"
      },
      "source": [
        "---"
      ]
    },
    {
      "cell_type": "markdown",
      "metadata": {
        "id": "yqhCzutD2WQ-"
      },
      "source": [
        "#### Activity 6.4: Arrange in Descending Order\n",
        "\n",
        "Arrange the values in descending order"
      ]
    },
    {
      "cell_type": "code",
      "metadata": {
        "id": "4c70mF7Y2dID",
        "colab": {
          "base_uri": "https://localhost:8080/"
        },
        "outputId": "ff23a470-3aed-4802-c0f2-35807f4b9f94"
      },
      "source": [
        "# a list of numbers\n",
        "my_numbers = [212,230,221,208,244,221,226,204,201,239,230,228,217,208,219,234,232,216,217,244,220,200,221,213,239,200,213,240,238,214,230,244,200,240,207,219,212,214,228,212]\n",
        "\n",
        "#sorting list in-place in descending order\n",
        "my_numbers.sort(reverse=True)\n",
        "\n",
        "#printing modified list\n",
        "print(my_numbers)\n"
      ],
      "execution_count": null,
      "outputs": [
        {
          "output_type": "stream",
          "name": "stdout",
          "text": [
            "[244, 244, 244, 240, 240, 239, 239, 238, 234, 232, 230, 230, 230, 228, 228, 226, 221, 221, 221, 220, 219, 219, 217, 217, 216, 214, 214, 213, 213, 212, 212, 212, 208, 208, 207, 204, 201, 200, 200, 200]\n"
          ]
        }
      ]
    },
    {
      "cell_type": "markdown",
      "metadata": {
        "id": "xJlPs9X9oeRw"
      },
      "source": [
        "---"
      ]
    },
    {
      "cell_type": "markdown",
      "metadata": {
        "id": "b4aeCDi0pkJz"
      },
      "source": [
        "### Activity 7: Find whether Two Lines are Parallel\n",
        "\n",
        "Given two lines, determine whether they are parallel or not.\n",
        "Lines are represented using a list [a, b, c] which corresponds to the straight line $ax+by=c$.\n",
        "\n",
        "\n",
        "\n",
        "**Hints:**\n",
        "- Two lines are parallel if their slopes are equal.\n",
        "\n",
        "- A line in the form of $ax+by=c$ has slope $\\frac {-a}{b}$.\n",
        "- Ignore the minus $(-)$ sign. Just calculate $\\frac {a}{b}$ for both lines and find out whether they are equal or not.\n",
        "\n",
        "\n",
        "**Example:**\n",
        "```\n",
        "line1 = [2,3,4]\n",
        "line2 = [4,6,8]\n",
        "\n",
        "Are lines parallel?\n",
        "True\n",
        "```\n"
      ]
    },
    {
      "cell_type": "code",
      "metadata": {
        "id": "d5ufKLNYzsIl",
        "colab": {
          "base_uri": "https://localhost:8080/"
        },
        "outputId": "14d334d8-6d47-4a78-ec78-0c9a4d8a4b88"
      },
      "source": [
        "def are_parallel(line1, line2):\n",
        "    # Extracting coefficients\n",
        "    a1, b1, _ = line1\n",
        "    a2, b2, _ = line2\n",
        "\n",
        "    # Avoiding division by zero for vertical lines\n",
        "    if b1 == 0 and b2 == 0:\n",
        "        return True  # Both lines are vertical, hence parallel\n",
        "    if b1 == 0 or b2 == 0:\n",
        "        return False  # One line is vertical, the other isn't\n",
        "\n",
        "    # Checking if the slopes (a/b) are equal\n",
        "    return a1 * b2 == a2 * b1\n",
        "\n",
        "# Example lines\n",
        "line1 = [2, 3, 4]  # 2x + 3y = 5\n",
        "line2 = [4, 6, 8]  # 4x + 6y = 7\n",
        "\n",
        "# Checking if they are parallel\n",
        "if are_parallel(line1, line2):\n",
        "    print(\"The lines are parallel.\")\n",
        "else:\n",
        "    print(\"The lines are not parallel.\")\n",
        "\n"
      ],
      "execution_count": null,
      "outputs": [
        {
          "output_type": "stream",
          "name": "stdout",
          "text": [
            "The lines are parallel.\n"
          ]
        }
      ]
    }
  ]
}