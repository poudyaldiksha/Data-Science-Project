{
  "nbformat": 4,
  "nbformat_minor": 0,
  "metadata": {
    "colab": {
      "provenance": [],
      "include_colab_link": true
    },
    "kernelspec": {
      "name": "python3",
      "display_name": "Python 3"
    }
  },
  "cells": [
    {
      "cell_type": "markdown",
      "metadata": {
        "id": "view-in-github",
        "colab_type": "text"
      },
      "source": [
        "<a href=\"https://colab.research.google.com/github/poudyaldiksha/Data-Science-project/blob/main/Lesson_40_b2.ipynb\" target=\"_parent\"><img src=\"https://colab.research.google.com/assets/colab-badge.svg\" alt=\"Open In Colab\"/></a>"
      ]
    },
    {
      "cell_type": "markdown",
      "metadata": {
        "id": "2FbiXuSJANTj"
      },
      "source": [
        "# Lesson 40: Simple Linear Regression - Model Evaluation - II\n",
        "\n",
        "\n",
        "\n"
      ]
    },
    {
      "cell_type": "markdown",
      "metadata": {
        "id": "iksDyXHTg-F8"
      },
      "source": [
        "\n",
        "\n",
        "Today, We will learn assumptions of linear Regression Model\n",
        "\n",
        "\n",
        "\n"
      ]
    },
    {
      "cell_type": "markdown",
      "metadata": {
        "id": "8ZI4n_qziUBb"
      },
      "source": [
        "---"
      ]
    },
    {
      "cell_type": "markdown",
      "metadata": {
        "id": "uE7EERr3iUsQ"
      },
      "source": [
        "### Recap"
      ]
    },
    {
      "cell_type": "code",
      "metadata": {
        "id": "ctPdsMcc5QzN",
        "colab": {
          "base_uri": "https://localhost:8080/"
        },
        "outputId": "0b9f018f-8c1e-4663-fcfb-663776a6ba54"
      },
      "source": [
        "# Run the code cell.\n",
        "import numpy as np\n",
        "import pandas as pd\n",
        "import matplotlib.pyplot as plt\n",
        "import seaborn as sns\n",
        "\n",
        "import warnings\n",
        "warnings.filterwarnings('ignore')\n",
        "\n",
        "# Loading the dataset.\n",
        "csv_file = '/content/AirQualityUCI.csv'\n",
        "df = pd.read_csv(csv_file, sep=';')\n",
        "\n",
        "\n",
        "# Dropping the 'Unnamed: 15' & 'Unnamed: 16' columns.\n",
        "df = df.drop(columns=['Unnamed: 15', 'Unnamed: 16'], axis=1)\n",
        "\n",
        "# Dropping the null values.\n",
        "df = df.dropna()\n",
        "\n",
        "# Creating a Pandas series containing 'datetime' objects.\n",
        "dt_series = pd.Series(data = [item.split(\"/\")[2] + \"-\" + item.split(\"/\")[1] + \"-\" + item.split(\"/\")[0] for item in df['Date']], index=df.index) + ' ' + pd.Series(data=[str(item).replace(\".\", \":\") for item in df['Time']], index=df.index)\n",
        "dt_series = pd.to_datetime(dt_series)\n",
        "\n",
        "# Remove the Date & Time columns from the DataFrame and insert the 'dt_series' in it.\n",
        "df = df.drop(columns=['Date', 'Time'], axis=1)\n",
        "df.insert(loc=0, column='DateTime', value=dt_series)\n",
        "\n",
        "# Get the Pandas series containing the year values as integers.\n",
        "year_series = dt_series.dt.year\n",
        "\n",
        "# Get the Pandas series containing the month values as integers.\n",
        "month_series = dt_series.dt.month\n",
        "\n",
        "# Get the Pandas series containing the day values as integers.\n",
        "day_series = dt_series.dt.day\n",
        "\n",
        "# Get the Pandas series containing the days of a week, i.e., Monday, Tuesday, Wednesday etc.\n",
        "day_name_series = dt_series.dt.day_name()\n",
        "\n",
        "# Add the 'Year', 'Month', 'Day' and 'Day Name' columns to the DataFrame.\n",
        "df['Year'] = year_series\n",
        "df['Month'] = month_series\n",
        "df['Day'] = day_series\n",
        "df['Day Name'] = day_name_series\n",
        "\n",
        "# Sort the DataFrame by the 'DateTime' values in the ascending order. Also, display the first 10 rows of the DataFrame.\n",
        "df = df.sort_values(by='DateTime')\n",
        "\n",
        "# Create a function to replace the commas with periods in a Pandas series.\n",
        "def comma_to_period(series):\n",
        "    new_series = pd.Series(data=[float(str(item).replace(',', '.')) for item in series], index=df.index)\n",
        "    return new_series\n",
        "\n",
        "# Apply the 'comma_to_period()' function on the ''CO(GT)', 'C6H6(GT)', 'T', 'RH' and 'AH' columns.\n",
        "cols_to_correct = ['CO(GT)', 'C6H6(GT)', 'T', 'RH', 'AH'] # Create a list of column names.\n",
        "for col in cols_to_correct: # Iterate through each column\n",
        "    df[col] = comma_to_period(df[col]) # Replace the original column with the new series.\n",
        "\n",
        "# Remove all the columns from the 'df' DataFrame containing more than 10% garbage value.\n",
        "df = df.drop(columns=['NMHC(GT)', 'CO(GT)', 'NOx(GT)', 'NO2(GT)'], axis=1)\n",
        "\n",
        "# Create a new DataFrame containing records for the years 2004 and 2005.\n",
        "aq_2004_df = df[df['Year'] == 2004]\n",
        "aq_2005_df = df[df['Year'] == 2005]\n",
        "\n",
        "# Replace the -200 value with the median values for each column having indices between 1 and -4 (excluding -4) for the 2004 year DataFrame.\n",
        "for col in aq_2004_df.columns[1:-4]:\n",
        "  median = aq_2004_df.loc[aq_2004_df[col] != -200, col].median()\n",
        "  aq_2004_df[col] = aq_2004_df[col].replace(to_replace=-200, value=median)\n",
        "\n",
        "# Repeat the same exercise for the 2005 year DataFrame.\n",
        "for col in aq_2005_df.columns[1:-4]:\n",
        "  median = aq_2005_df.loc[aq_2005_df[col] != -200, col].median()\n",
        "  aq_2005_df[col] = aq_2005_df[col].replace(to_replace=-200, value=median)\n",
        "\n",
        "# Group the DataFrames about the 'Month' column.\n",
        "group_2004_month = aq_2004_df.groupby(by='Month')\n",
        "group_2005_month = aq_2005_df.groupby(by='Month')\n",
        "\n",
        "# Concatenate the two DataFrames for 2004 and 2005 to obtain one DataFrame.\n",
        "df = pd.concat([aq_2004_df, aq_2005_df])\n",
        "\n",
        "# Information of the DataFrame.\n",
        "df.info()"
      ],
      "execution_count": null,
      "outputs": [
        {
          "output_type": "stream",
          "name": "stdout",
          "text": [
            "<class 'pandas.core.frame.DataFrame'>\n",
            "Index: 9357 entries, 0 to 9356\n",
            "Data columns (total 14 columns):\n",
            " #   Column         Non-Null Count  Dtype         \n",
            "---  ------         --------------  -----         \n",
            " 0   DateTime       9357 non-null   datetime64[ns]\n",
            " 1   PT08.S1(CO)    9357 non-null   float64       \n",
            " 2   C6H6(GT)       9357 non-null   float64       \n",
            " 3   PT08.S2(NMHC)  9357 non-null   float64       \n",
            " 4   PT08.S3(NOx)   9357 non-null   float64       \n",
            " 5   PT08.S4(NO2)   9357 non-null   float64       \n",
            " 6   PT08.S5(O3)    9357 non-null   float64       \n",
            " 7   T              9357 non-null   float64       \n",
            " 8   RH             9357 non-null   float64       \n",
            " 9   AH             9357 non-null   float64       \n",
            " 10  Year           9357 non-null   int32         \n",
            " 11  Month          9357 non-null   int32         \n",
            " 12  Day            9357 non-null   int32         \n",
            " 13  Day Name       9357 non-null   object        \n",
            "dtypes: datetime64[ns](1), float64(9), int32(3), object(1)\n",
            "memory usage: 986.9+ KB\n"
          ]
        }
      ]
    },
    {
      "cell_type": "markdown",
      "metadata": {
        "id": "XpefFKryHnV_"
      },
      "source": [
        "The description for all the columns containing data for air pollutants, temperature, relative humidity and absolute humidity is provided below.\n",
        "\n",
        "\n",
        "|Columns|Description|\n",
        "|-|-|\n",
        "|PT08.S1(CO)|PT08.S1 (tin oxide) hourly averaged sensor response (nominally $\\text{CO}$ targeted)|\n",
        "|C6H6(GT)|True hourly averaged Benzene concentration in $\\frac{\\mu g}{m^3}$|\n",
        "|PT08.S2(NMHC)|PT08.S2 (titania) hourly averaged sensor response (nominally $\\text{NMHC}$ targeted)|\n",
        "|PT08.S3(NOx)|PT08.S3 (tungsten oxide) hourly averaged sensor response (nominally $\\text{NO}_x$ targeted)|\n",
        "|PT08.S4(NO2)|PT08.S4 (tungsten oxide) hourly averaged sensor response (nominally $\\text{NO}_2$ targeted)|\n",
        "|PT08.S5(O3) |PT08.S5 (indium oxide) hourly averaged sensor response (nominally $\\text{O}_3$ targeted)|\n",
        "|T|Temperature in Â°C|\n",
        "|RH|Relative Humidity (%)|\n",
        "|AH|AH Absolute Humidity|"
      ]
    },
    {
      "cell_type": "code",
      "source": [
        "df.columns"
      ],
      "metadata": {
        "id": "6RzrHg3ZnK7m",
        "outputId": "81924235-e811-4132-f863-8f4c22aa7ed4",
        "colab": {
          "base_uri": "https://localhost:8080/"
        }
      },
      "execution_count": null,
      "outputs": [
        {
          "output_type": "execute_result",
          "data": {
            "text/plain": [
              "Index(['DateTime', 'PT08.S1(CO)', 'C6H6(GT)', 'PT08.S2(NMHC)', 'PT08.S3(NOx)',\n",
              "       'PT08.S4(NO2)', 'PT08.S5(O3)', 'T', 'RH', 'AH', 'Year', 'Month', 'Day',\n",
              "       'Day Name'],\n",
              "      dtype='object')"
            ]
          },
          "metadata": {},
          "execution_count": 41
        }
      ]
    },
    {
      "cell_type": "code",
      "metadata": {
        "id": "8kRDMaMHAfLv",
        "colab": {
          "base_uri": "https://localhost:8080/",
          "height": 599
        },
        "outputId": "c220440a-bd74-4ae6-c4f5-7bdb465d0e42"
      },
      "source": [
        "# Heatmap to pinpoint the columns in the 'df' DataFrame exhibiting high correlation.\n",
        "corr_df = df.iloc[:, 1:-4].corr()\n",
        "plt.figure(figsize = (10, 6), dpi = 96)\n",
        "sns.heatmap(data = corr_df, annot = True) # 'annot=True' fills the R values in the heatmap cells.\n",
        "plt.show()"
      ],
      "execution_count": null,
      "outputs": [
        {
          "output_type": "display_data",
          "data": {
            "text/plain": [
              "<Figure size 960x576 with 2 Axes>"
            ],
            "image/png": "[encoded data removed]"
          },
          "metadata": {}
        }
      ]
    },
    {
      "cell_type": "markdown",
      "metadata": {
        "id": "_oJqc-KisKSS"
      },
      "source": [
        "---"
      ]
    },
    {
      "cell_type": "markdown",
      "metadata": {
        "id": "8AFcyIZMSl07"
      },
      "source": [
        "#### Train-Test Split\n",
        "\n",
        "There is no fixed rule to what should be the size of train and test sets. However, the training set should always have more instances than the test set. So in general, you can have the 70% of instances in the train set and the remaining 30% in the test set. In general, you may split a DataFrame in such a way that a train set contains 67% to 80% of the instances.\n"
      ]
    },
    {
      "cell_type": "code",
      "metadata": {
        "id": "uYoe69GREXWK"
      },
      "source": [
        "# Splitting the DataFrame into the train and test sets.\n",
        "from sklearn.model_selection import train_test_split\n",
        "\n",
        "X = df['T'] # Pandas DataFrame containing only feature variables\n",
        "y = df['RH'] # Pandas Series containing the target variable\n",
        "\n",
        "X_train, X_test, y_train, y_test = train_test_split(X, y, test_size = 0.33, random_state = 42) # Test set will have 33% of the values."
      ],
      "execution_count": null,
      "outputs": []
    },
    {
      "cell_type": "markdown",
      "metadata": {
        "id": "qHuqeVfzgzj0"
      },
      "source": [
        "If you don't specify the `random_state` parameter in your code, then every time you run (or execute) your code, a new random value is generated and the train and test datasets will have different values each time.\n",
        "\n",
        "However, if a fixed value is assigned like `random_state = 42` then regardless of the number of times you execute your code, the result will be the same i.e., same values in train and test datasets.\n"
      ]
    },
    {
      "cell_type": "markdown",
      "metadata": {
        "id": "WJeag4CKuQ6u"
      },
      "source": [
        "---"
      ]
    },
    {
      "cell_type": "markdown",
      "metadata": {
        "id": "k_wsqePOuRm-"
      },
      "source": [
        "#### Model Training\n",
        "\n",
        "Let the equation of the best fit line be $$y = mx + c$$\n",
        "\n",
        "Here,\n",
        "- $y$ represents the relative humidity values on the $y$-axis\n",
        "- $x$ represents the temperatures values on the $x$-axis\n",
        "- $m$ is the slope of the line\n",
        "- $c$ is the intercept made by the line on the $y$-axis\n",
        "\n",
        "\n",
        "$$\\Rightarrow m = \\frac{\\sum(x_i - \\bar{x})(y_i - \\bar{y})}{\\sum (x_i - \\bar{x})^2}$$\n",
        "\n",
        "\n",
        "where\n",
        "- $x_i$ is each instance of the feature variable. In this case, $x_i$ represents each temperature value.\n",
        "\n",
        "- $\\bar{x}$ is the average (or mean) value of the feature variable. In this case, $\\bar{x}$ is the average temperature value.\n",
        "\n",
        "- $y_i$ is each instance of the target variable. In this case, $y_i$ represents each relative humidity value.\n",
        "\n",
        "- $\\bar{y}$ is the average (or mean) value of the target variable. In this case, $\\bar{y}$ is the average relative humidity value.\n",
        "\n",
        "- $n$ is the total number of instances.\n",
        "\n",
        "\n",
        "The intercept i.e. $c$ is given by\n",
        "$$c = \\bar{y} - m \\bar{x}$$\n",
        "\n",
        "\n",
        "**Note:** The differences between a value and the mean value is also referred to as **residuals** or **errors**.\n"
      ]
    },
    {
      "cell_type": "code",
      "metadata": {
        "id": "K7EwMovfMEeX",
        "colab": {
          "base_uri": "https://localhost:8080/"
        },
        "outputId": "98698222-3451-4dc2-9444-8e60900606aa"
      },
      "source": [
        "# Create the 'errors_product()' and 'squared_errors()' function.\n",
        "def errors_product():\n",
        "  prod = (X_train - X_train.mean()) * (y_train - y_train.mean())\n",
        "  return prod\n",
        "\n",
        "def squared_errors():\n",
        "  sq_errors = (X_train - X_train.mean()) ** 2\n",
        "  return sq_errors\n",
        "\n",
        "# Calculate the slope and intercept values for the best fit line.\n",
        "slope = errors_product().sum()/ squared_errors().sum()\n",
        "intercept = y_train.mean() - slope * X_train.mean()\n",
        "\n",
        "print(f\"Slope: {slope} \\nIntercept: {intercept}\")"
      ],
      "execution_count": null,
      "outputs": [
        {
          "output_type": "stream",
          "name": "stdout",
          "text": [
            "Slope: -1.112053910794772 \n",
            "Intercept: 69.69110324644876\n"
          ]
        }
      ]
    },
    {
      "cell_type": "markdown",
      "metadata": {
        "id": "Sli9EHDVMnVz"
      },
      "source": [
        "As you can see, we have obtained the slope and intercept values for the best fit line.\n",
        "\n",
        "Hence, the required equation of the best fit line is\n",
        "$$y = -1.1120x + 69.6911$$\n",
        "\n",
        "or\n",
        "$$\\text{relative humidity} =  -1.1120 \\times \\text{temperature} + 69.6911$$\n",
        "\n",
        "which is also the regression line.\n",
        "\n",
        "Let's plot this line along with the scatter plot to see how well it fits the points."
      ]
    },
    {
      "cell_type": "code",
      "metadata": {
        "id": "Yxk__XRLarjI"
      },
      "source": [
        "# Plot the regression line in the scatter plot between relative humidity and temperature values.\n",
        "plt.style.use('dark_background')\n",
        "plt.figure(figsize = (12, 5), dpi = 96)\n",
        "plt.title(\"Regression Line\", fontsize = 16)\n",
        "plt.scatter(df['T'], df['RH'])\n",
        "plt.plot(df['T'], slope * df['T'] + intercept, color = 'r', linewidth = 2, label = '$y = −1.1120x + 69.6911$')\n",
        "plt.xlabel(\"Temperature\")\n",
        "plt.ylabel(\"Relative Humidity\")\n",
        "plt.legend()\n",
        "plt.show()"
      ],
      "execution_count": null,
      "outputs": []
    },
    {
      "cell_type": "code",
      "source": [
        "sns.regplot(x = df['T'],y = df[\"RH\"])"
      ],
      "metadata": {
        "id": "5kF_BYpne6wx"
      },
      "execution_count": null,
      "outputs": []
    },
    {
      "cell_type": "markdown",
      "metadata": {
        "id": "bhZ6qy3FbgPj"
      },
      "source": [
        "From the naked eye observation, it seems the regression line that we obtained fits pretty well all the points in the scatter plot. But let's evaluate our model using Coefficient of Determination (R-squared)."
      ]
    },
    {
      "cell_type": "markdown",
      "metadata": {
        "id": "ksDGp9bxL-P1"
      },
      "source": [
        "---"
      ]
    },
    {
      "cell_type": "markdown",
      "metadata": {
        "id": "djhVITgL4kzR"
      },
      "source": [
        "#### Activity 1: Simple Linear Regression Using `sklearn` Module\n",
        "\n",
        "If the mathematical details of linear regression seem overwhelming, you can simplify the process by using the sklearn (Scikit-Learn) Python library, which offers a convenient way to implement linear regression models. `Scikit-Learn's linear_model` module allows you to fit a linear regression model with minimal effort, abstracting away the complex math behind the scenes.\n",
        "\n",
        "Before using `Scikit-Learn's LinearRegression class`, it's important to prepare your data correctly.\n",
        "\n",
        "Specifically, the input feature set and the target variable must be in the form of **two-dimensional arrays**. If your data is currently in one-dimensional arrays (e.g., a single column from a Pandas DataFrame), you'll need to reshape them into two dimensions.\n",
        "\n",
        "This reshaping is crucial because Scikit-Learn expects the input features to be a 2D array, where rows represent individual data points and columns represent different features."
      ]
    },
    {
      "cell_type": "code",
      "metadata": {
        "id": "55Lh8ea94kzS"
      },
      "source": [
        "#  Print the dimensions of the feature and target variable arrays/series.\n",
        "print(X_train.shape)\n",
        "print(y_train.shape)\n",
        "print(X_test.shape)\n",
        "print(y_test.shape)"
      ],
      "execution_count": null,
      "outputs": []
    },
    {
      "cell_type": "markdown",
      "metadata": {
        "id": "HVS-y_0T4kzS"
      },
      "source": [
        "To convert a one-dimensional array into a two-dimensional array, use the `reshape(-1, 1)` function of `numpy` module.\n",
        "\n",
        "The `reshape(-1, 1)` function does not work on a Pandas series. It works on a NumPy array. Hence, you need to create a NumPy array from a Pandas series. So, either you can convert a Pandas series into a NumPy array using the `array()` function of the `numpy` module or you can use the `values` attribute of the Pandas series object."
      ]
    },
    {
      "cell_type": "code",
      "metadata": {
        "colab": {
          "base_uri": "https://localhost:8080/"
        },
        "outputId": "cd43104e-0923-45a5-f093-c3af578bd015",
        "id": "yrZhkMEk4kzT"
      },
      "source": [
        "# Create two-dimensional NumPy arrays from one-dimensional Pandas series for the feature and target variables.\n",
        "print(type(X_train.values))\n",
        "\n",
        "X_train_reshaped = X_train.values.reshape(-1, 1)\n",
        "y_train_reshaped = y_train.values.reshape(-1, 1)\n",
        "X_test_reshaped = X_test.values.reshape(-1, 1)\n",
        "y_test_reshaped = y_test.values.reshape(-1, 1)\n",
        "\n",
        "print(X_train_reshaped.shape)\n",
        "print(y_train_reshaped.shape)\n",
        "print(X_test_reshaped.shape)\n",
        "print(y_test_reshaped.shape)"
      ],
      "execution_count": null,
      "outputs": [
        {
          "output_type": "stream",
          "name": "stdout",
          "text": [
            "<class 'numpy.ndarray'>\n",
            "(6269, 1)\n",
            "(6269, 1)\n",
            "(3088, 1)\n",
            "(3088, 1)\n"
          ]
        }
      ]
    },
    {
      "cell_type": "markdown",
      "metadata": {
        "id": "0p3FmbIK4kzT"
      },
      "source": [
        "Now, let's deploy a linear regression model using the `sklearn` module. For this, follow the steps given below:\n",
        "\n",
        "1. Import the `LinearRegression` class from the `sklearn.linear_model` module.\n",
        "2. Create an object of the `LinearRegression` class.\n",
        "3. Call the `fit()` function on the `LinearRegression` object with the input parameters as `X_train_reshaped` and `y_train_reshaped`.\n",
        "\n",
        "The `fit()` function of the `LinearRegression` class will calculate the slope and intercept of the best fit line which you can get by calling the `coef_` and `intercept_` attributes respectively on the `LinearRegression` object.\n",
        "\n",
        "**Syntax:**\n",
        "> For slope: `object_name.coef_`\n",
        "\n",
        "> For intercept: `object_name.intercept_`"
      ]
    },
    {
      "cell_type": "code",
      "source": [
        "help(LinearRegression)"
      ],
      "metadata": {
        "id": "A1q-UKJqf7bd"
      },
      "execution_count": null,
      "outputs": []
    },
    {
      "cell_type": "code",
      "metadata": {
        "colab": {
          "base_uri": "https://localhost:8080/"
        },
        "outputId": "674f1a22-f372-4139-bc62-68236d48a54f",
        "id": "d3Azrfsh4kzT"
      },
      "source": [
        "# Deploy linear regression model using the 'sklearn.linear_model' module.\n",
        "\n",
        "# 1. Import the 'LinearRegression' class from the 'sklearn.linear_model'.\n",
        "from sklearn.linear_model import LinearRegression\n",
        "\n",
        "# 2. Create an object of the 'LinearRegression' class.\n",
        "lin_reg = LinearRegression()\n",
        "\n",
        "# 3. Call the 'fit()' function\n",
        "lin_reg.fit(X_train_reshaped, y_train_reshaped) # training the model\n",
        "\n",
        "# 4. Print the slope and intercept values.\n",
        "print(lin_reg.coef_)\n",
        "print(lin_reg.intercept_)"
      ],
      "execution_count": null,
      "outputs": [
        {
          "output_type": "stream",
          "name": "stdout",
          "text": [
            "[[-1.11205391]]\n",
            "[69.69110325]\n"
          ]
        }
      ]
    },
    {
      "cell_type": "markdown",
      "metadata": {
        "id": "I9xDfGk44kzT"
      },
      "source": [
        "As you can see the slope and intercept values are the same as we got earlier without using the `sklearn` module to build a linear regression model.\n",
        "\n",
        "\n"
      ]
    },
    {
      "cell_type": "code",
      "source": [
        "y_test_pred = lin_reg.predict(X_test_reshaped)\n",
        "y_test_pred.shape"
      ],
      "metadata": {
        "id": "RxBaW7oEiNRs",
        "outputId": "ff4d6867-ead9-4723-e6a3-d21871c506d1",
        "colab": {
          "base_uri": "https://localhost:8080/"
        }
      },
      "execution_count": null,
      "outputs": [
        {
          "output_type": "execute_result",
          "data": {
            "text/plain": [
              "(3088, 1)"
            ]
          },
          "metadata": {},
          "execution_count": 9
        }
      ]
    },
    {
      "cell_type": "markdown",
      "metadata": {
        "id": "-nE9uAUmSZoF"
      },
      "source": [
        "#### Activity 2: The Coefficient of Determination (R-Squared)\n",
        "\n",
        "The R-squared ($R^2$) tells us how much of the variance in one variable explains the variance in another variable. It is usually reported in terms of percentage.\n",
        "\n",
        "Let's compute the coefficient of determination value which is one of the parameters that explains how much variation in one variable can be explained by the other variable through the linear regression model.\n",
        "\n",
        "$$R^2 = 1 - \\frac{\\text{SSE}}{\\text{SST}}$$\n",
        "\n",
        "where\n",
        "\n",
        "$$\\text{SSE} = \\sum(y - y_{\\text{pred}})^2$$\n",
        "\n",
        "and\n",
        "\n",
        "$$\\text{SST} = \\sum(y - \\bar{y})^2$$\n",
        "\n",
        "**SSE** stands for the sum of squared errors i.e. errors between the actual and the predicted values. Consider the image shown below. Let there be 6 points on the scatter plot between the $x$ and $y$ values.\n",
        "\n",
        "<center><img src = 'https://student-datasets-bucket.s3.ap-south-1.amazonaws.com/images/sse1.png' width = 700></center>\n",
        "\n",
        "Let there be a straight line which fits them the best as shown in the image below.\n",
        "\n",
        "<center><img src = 'https://student-datasets-bucket.s3.ap-south-1.amazonaws.com/images/sse2.png' width = 700></center>\n",
        "\n",
        "The points marked with the blue colour on the straight line are the corresponding predicted values to the red-coloured points. Let the arrows denote the distances between the blue and the red coloured points as shown in the image below.\n",
        "\n",
        "<center><img src = 'https://student-datasets-bucket.s3.ap-south-1.amazonaws.com/images/sse3.png' width = 700></center>\n",
        "\n",
        "The sum of these distances is the **squared sum of errors (SSE)**. These distances would have been lower if the red-coloured points were more close to the regression line as shown in the image below.\n",
        "\n",
        "<center><img src = 'https://student-datasets-bucket.s3.ap-south-1.amazonaws.com/images/sse4.png' width = 700></center>\n",
        "\n",
        "Hence, the SSE value would have been lower. The distance between the actual values and the predicted values are given by\n",
        "$$|y_i - \\hat{y_i}|$$\n",
        "where\n",
        "- $y_i$ is the $y$-coordinate of the actual value and\n",
        "- $\\hat{y_i}$ is the $y$-coordinate of the corresponding predicted value\n",
        "\n",
        "<center><img src = 'https://student-datasets-bucket.s3.ap-south-1.amazonaws.com/images/sse5.png' width = 700></center>\n",
        "\n",
        "Lower the **SSE** value, higher the $R^2$ value. Higher the $R^2$ value, better is accuracy.\n",
        "\n",
        "**SST** stands for the sum of squared **total** i.e. the errors between the actual values and their mean. Consider the image shown below.\n",
        "\n",
        "<center><img src = 'https://student-datasets-bucket.s3.ap-south-1.amazonaws.com/images/sst1.png' width = 700></center>\n",
        "\n",
        "The mean of the actual target variable values i.e. $\\bar{y}$ tries to fit all the points. The arrows represent the distances between the points and their mean values.\n",
        "\n",
        "The sum of these distances is the **squared sum of total (SST)**. They are given by\n",
        "$$|y_i - \\bar{y}|$$\n",
        "where\n",
        "- $y_i$ is the $y$-coordinate of the actual value and\n",
        "- $\\bar{y}$ is their mean value\n",
        "\n",
        "<center><img src = 'https://student-datasets-bucket.s3.ap-south-1.amazonaws.com/images/sst2.png' width = 700></center>\n",
        "\n",
        "Also, it is the maximum possible error because the mean line is the worst fit line unless the points follow uniform distribution.\n",
        "\n",
        "**Note:**\n",
        "\n",
        "1. The terms **error, residual, difference** mean the same thing.\n",
        "2. It goes without saying that the $R^2$ value will be between 0 and 1.\n",
        "\n",
        "\n",
        "Let's define a function to calculate the $R^2$ value which will take 2 input parameters; feature dataset `X` and target series `y`. Let's name this function `r_squared()`. It should return the coefficient of determination value`. The following operations are to be performed inside the function:\n",
        "\n",
        "1. Calculate the predicted values for the target variable using the $y = mx + c$ formula and store it in the `y_pred` variable.\n",
        "\n",
        "2. Calculate the squared errors between the actual `y` values and the predicted `y` values i.e `y_pred`. Store them in the `sq_error` variable.\n",
        "\n",
        "3. Calculate the squared total between the actual `y` values and the mean of the `y` values. Store them in the `sq_total` variable.\n",
        "\n",
        "4. Calculate the sum of both the `sq_error` and `sq_total` series and then calculate the $R^2$ value using its formula.\n",
        "\n",
        "\n",
        "Then calculate the $R^2$ value for the training set by using the `r_squared()` function."
      ]
    },
    {
      "cell_type": "code",
      "metadata": {
        "id": "78wbL35rMcCs"
      },
      "source": [
        "#  Calculate the r-squared value for the training set.\n",
        "def r_squared(X, y):\n",
        "    y_pred = slope * X + intercept\n",
        "    sq_error = (y - y_pred) ** 2\n",
        "    sq_total = (y - y.mean()) ** 2\n",
        "    sse = sq_error.sum() # Sum of squared errors\n",
        "    sst = sq_total.sum() # Sum of squared total\n",
        "    r_squared = 1 - (sse / sst)\n",
        "    return r_squared\n",
        "\n",
        "r_squared(X_train, y_train)"
      ],
      "execution_count": null,
      "outputs": []
    },
    {
      "cell_type": "code",
      "source": [
        "np.corrcoef(df[\"T\"],df[\"RH\"])[0][1]"
      ],
      "metadata": {
        "id": "mXWobVHhmUYS"
      },
      "execution_count": null,
      "outputs": []
    },
    {
      "cell_type": "code",
      "source": [
        "df.head()"
      ],
      "metadata": {
        "id": "NaabIuHrm4R_"
      },
      "execution_count": null,
      "outputs": []
    },
    {
      "cell_type": "markdown",
      "metadata": {
        "id": "GSe7v5c2H3xa"
      },
      "source": [
        "The $R^2$ value is 32.46% approximately which denotes that 32.46% of the variance between the relative humidity and temperature is explained by the linear regression but the remaining 67.54% of the variance is still there.\n",
        "\n",
        "Ideally, the $R^2$ value should be as close to 1 as possible for a best fit regression line.\n",
        "\n",
        "**Note:** The $R^2$ value is a square of the correlation coefficient.\n",
        "\n",
        "\n",
        "Let's calculate the square of the correlation coefficient to validate the above statement with the help of any one value by applying `np.corrcoef()` function on `X_train` and `y_train`."
      ]
    },
    {
      "cell_type": "code",
      "metadata": {
        "id": "oWDPhsxBMSzb",
        "colab": {
          "base_uri": "https://localhost:8080/"
        },
        "outputId": "8e992918-2788-45ea-89fb-7c270eed130f"
      },
      "source": [
        "# Calculate R-squared value by squaring the correlation coefficient value.\n",
        "np.corrcoef(X_train, y_train)[0][1] ** 2"
      ],
      "execution_count": null,
      "outputs": [
        {
          "output_type": "execute_result",
          "data": {
            "text/plain": [
              "0.3246891031812878"
            ]
          },
          "metadata": {},
          "execution_count": 44
        }
      ]
    },
    {
      "cell_type": "markdown",
      "metadata": {
        "id": "9isCJnvrIQCh"
      },
      "source": [
        "As it can be observed both the values are the same. Let's calculate the $R^2$ value for the test set as well."
      ]
    },
    {
      "cell_type": "code",
      "metadata": {
        "id": "cWGcEMeaMYUG",
        "colab": {
          "base_uri": "https://localhost:8080/"
        },
        "outputId": "cfac456c-b634-49fa-93d7-394b0086e3d8"
      },
      "source": [
        "# Calculate R-squared value for the test set.\n",
        "r_squared(X_test, y_test)"
      ],
      "execution_count": null,
      "outputs": [
        {
          "output_type": "execute_result",
          "data": {
            "text/plain": [
              "0.3462678878157639"
            ]
          },
          "metadata": {},
          "execution_count": 45
        }
      ]
    },
    {
      "cell_type": "markdown",
      "metadata": {
        "id": "vwQgAEe4IcTZ"
      },
      "source": [
        "---"
      ]
    },
    {
      "cell_type": "markdown",
      "metadata": {
        "id": "w6e6JwP-IbNj"
      },
      "source": [
        "#### Activity 3: MSE, RMSE, MAE\n",
        "\n",
        "Mean Squared Errors (MSE) is the mean of squares of the difference between the actual and the predicted values i.e.\n",
        "\n",
        "$$\\text{MSE} = \\frac{1}{n} \\sum(y_\\text{actual} - y_\\text{predicted})^2$$\n",
        "\n",
        "where\n",
        "- $y_\\text{actual}$ is the set of actual values of the target variable\n",
        "\n",
        "- $y_\\text{predicted}$ is the set of predicted values of the target variable obtained by deploying some kind of prediction model\n",
        "\n",
        "- $n$ is the total number of values\n",
        "\n",
        "Root Mean Squared Errors (RMSE) is the square root of the mean squared errors (MSE) i.e.\n",
        "\n",
        "$$\\text{RMSE} = \\sqrt{\\frac{1}{n} \\sum(y_\\text{actual} - y_\\text{predicted})^2}$$\n",
        "\n",
        "$$\\Rightarrow \\text{RMSE} = \\sqrt{\\text{MSE}}$$\n",
        "\n",
        "Mean Absolute Errors (MAE) is the mean of absolute values of the differences between the actual and the predicted values i.e.\n",
        "\n",
        "$$\\text{MAE} = \\frac{1}{n} \\sum \\left|y_\\text{actual}- y_\\text{predicted} \\right|$$\n",
        "\n",
        "Let's create `mean_sq_error()`,`root_mean_sq_error()` and `mean_abs_error` functions to calculate the MSE, RMSE and MAE values using the above formulae respectively."
      ]
    },
    {
      "cell_type": "code",
      "metadata": {
        "id": "RwRXmqzvIgSw"
      },
      "source": [
        "#  Create functions to calculate the MSE, RMSE and MAE values.\n",
        "def mean_sq_error(X, y_actual):\n",
        "    y_pred = slope * X + intercept\n",
        "    sq_error = (y_actual - y_pred) ** 2\n",
        "    mse = sq_error.sum() / len(y_actual)\n",
        "    return mse\n",
        "\n",
        "def root_mean_sq_error(X, y_actual):\n",
        "    y_pred = slope * X + intercept\n",
        "    sq_error = (y_actual - y_pred) ** 2\n",
        "    rmse = np.sqrt(sq_error.sum() / len(y_actual))\n",
        "    return rmse\n",
        "\n",
        "def mean_abs_error(X, y_actual):\n",
        "    y_pred = slope * X + intercept\n",
        "    abs_error = np.abs(y_actual - y_pred)\n",
        "    mae = np.sum(abs_error) / len(y_actual)\n",
        "    return mae"
      ],
      "execution_count": null,
      "outputs": []
    },
    {
      "cell_type": "markdown",
      "metadata": {
        "id": "89lO98kIXDlr"
      },
      "source": [
        "Let's call the functions created above to calculate the MSE, RMSE and MAE values for the train and test sets.\n",
        "\n",
        "Also, round up the result (or output) upto 3 decimal places."
      ]
    },
    {
      "cell_type": "code",
      "metadata": {
        "id": "Y30_iU5VIrIM"
      },
      "source": [
        "# Calculate the MSE, RMSE and MAE values on the train and test sets.\n",
        "print(f\"Train Set\\n{'-' * 50}\")\n",
        "print(f\"Mean Squared Error (MSE): {mean_sq_error(X_train, y_train):.3f}\")\n",
        "print(f\"Root Mean Squared Error (RMSE): {root_mean_sq_error(X_train, y_train):.3f}\")\n",
        "print(f\"Mean Absolute Error (MAE) {mean_abs_error(X_train, y_train):.3f}\")\n",
        "\n",
        "print(f\"\\n\\nTest Set\\n{'-' * 50}\")\n",
        "print(f\"Mean Squared Error (MSE): {mean_sq_error(X_test, y_test):.3f}\")\n",
        "print(f\"Root Mean Squared Error (RMSE): {root_mean_sq_error(X_test, y_test):.3f}\")\n",
        "print(f\"Mean Absolute Error (MAE) {mean_abs_error(X_test, y_test):.3f}\")\n"
      ],
      "execution_count": null,
      "outputs": []
    },
    {
      "cell_type": "markdown",
      "metadata": {
        "id": "Tf3UmvjAI4JZ"
      },
      "source": [
        "The closer the MSE, RMSE and MAE values are to zero, the better is accuracy of a regression-based prediction model. However, in the case of fractional values (or values between 0 and 1), MAE is a better metric to evaluate the accuracy of a regression-based prediction model. This is because squaring fractional values will take them even more close to zero, e.g. $0.1^2 = 0.01$"
      ]
    },
    {
      "cell_type": "markdown",
      "metadata": {
        "id": "2CbrW44G4Kv2"
      },
      "source": [
        "---"
      ]
    },
    {
      "cell_type": "markdown",
      "metadata": {
        "id": "fwak6KLSI5Zd"
      },
      "source": [
        "#### Activity 4:  Evaluate the linear regression model using`sklearn` Module\n",
        "\n"
      ]
    },
    {
      "cell_type": "markdown",
      "metadata": {
        "id": "405S6wT-K3S_"
      },
      "source": [
        "\n",
        "\n",
        "Now let's predict the values for both training and test sets and evaluate the model with the help of R-squared, MSE, RMSE and MAE parameters. For this, again you can use the `sklearn` module.\n",
        "\n",
        "1. Import `r2_score, mean_squared_error` and `mean_absolute_error` functions from the `sklearn.metrics` module.\n",
        "\n",
        "2. Calculate the predicted values (here `y_train_pred` and `y_test_pred`) for the feature variables (here `X_train_reshaped` and `X_test_reshaped`) by calling the `predict()` function on the `LinearRegression` object. The `predict()` function takes the feature variable set as an input.\n",
        "\n",
        "3. Calculate the $R^2$, MSE, RMSE and MAE values using the following syntax:\n",
        "   > `function_name(actual_target, predicted_target)`\n",
        "\n",
        "   E.g., `r2_score(y_train_reshaped, y_train_pred)`\n",
        "\n",
        "**Note:** The `sklearn.metrics` module does not have a dedicated function to calculate the RMSE value. However, it can be calculated by taking the square-root of the MSE value using `sqrt()` of the `numpy` module.\n"
      ]
    },
    {
      "cell_type": "code",
      "metadata": {
        "id": "FjNtJsmHLJLK",
        "colab": {
          "base_uri": "https://localhost:8080/"
        },
        "outputId": "be0991af-b9f7-45d0-bce9-30a738348c26"
      },
      "source": [
        "#  Evaluate the linear regression model using the 'r2_score', 'mean_squared_error' & 'mean_absolute_error' functions of the 'sklearn' module.\n",
        "from sklearn.metrics import r2_score, mean_squared_error, mean_absolute_error\n",
        "\n",
        "y_train_pred = lin_reg.predict(X_train_reshaped)\n",
        "y_test_pred = lin_reg.predict(X_test_reshaped)\n",
        "\n",
        "print(f\"Train Set\\n{'-' * 50}\")\n",
        "print(f\"R-squared: {r2_score(y_train_reshaped, y_train_pred):.3f}\")\n",
        "print(f\"Mean Squared Error: {mean_squared_error(y_train_reshaped, y_train_pred):.3f}\")\n",
        "print(f\"Root Mean Squared Error: {np.sqrt(mean_squared_error(y_train_reshaped, y_train_pred)):.3f}\")\n",
        "print(f\"Mean Absolute Error: {mean_absolute_error(y_train_reshaped, y_train_pred):.3f}\")\n",
        "\n",
        "print(f\"\\n\\nTest Set\\n{'-' * 50}\")\n",
        "print(f\"R-squared: {r2_score(y_test_reshaped, y_test_pred):.3f}\")\n",
        "print(f\"Mean Squared Error: {mean_squared_error(y_test_reshaped, y_test_pred):.3f}\")\n",
        "print(f\"Root Mean Squared Error: {np.sqrt(mean_squared_error(y_test_reshaped, y_test_pred)):.3f}\")\n",
        "print(f\"Mean Absolute Error: {mean_absolute_error(y_test_reshaped, y_test_pred):.3f}\")"
      ],
      "execution_count": null,
      "outputs": [
        {
          "output_type": "stream",
          "name": "stdout",
          "text": [
            "Train Set\n",
            "--------------------------------------------------\n",
            "R-squared: 0.325\n",
            "Mean Squared Error: 195.281\n",
            "Root Mean Squared Error: 13.974\n",
            "Mean Absolute Error: 11.289\n",
            "\n",
            "\n",
            "Test Set\n",
            "--------------------------------------------------\n",
            "R-squared: 0.346\n",
            "Mean Squared Error: 187.026\n",
            "Root Mean Squared Error: 13.676\n",
            "Mean Absolute Error: 11.150\n"
          ]
        }
      ]
    },
    {
      "cell_type": "markdown",
      "metadata": {
        "id": "VW-OLBrrmbcY"
      },
      "source": [
        "As it can be seen the R-squared, MSE, RMSE and MAE values are the same as we got earlier without using the `sklearn` module to build a linear regression model.\n"
      ]
    },
    {
      "cell_type": "markdown",
      "metadata": {
        "id": "37oHmXJ595tG"
      },
      "source": [
        "For a highly accurate regression model:\n",
        "\n",
        "- The $R^2$ squared value should be close to 1.\n",
        "\n",
        "- The MSE, RMSE and MAE values should be close to zero. However, in the case of fractional values (or values between 0 and 1), MAE is a better metric to evaluate the accuracy of a regression-based prediction model."
      ]
    },
    {
      "cell_type": "markdown",
      "source": [
        "#### Activity 4.1:  Correlation Coefficients: A Comparative Overview between pearson, spearman and kendall methods\n",
        "Correlation coefficients are statistical measures that quantify the strength and direction of the relationship between two variables. There are several types of correlation coefficients, each with its own characteristics and applications.\n",
        "\n",
        "**1. Pearson Correlation Coefficient (pearson and corr())**\n",
        "\n",
        "- Description: Measures the linear relationship between two variables.\n",
        "- Assumptions:\n",
        "  - Normally distributed data\n",
        "  - Linear relationship\n",
        "- Interpretation: Values range from -1 to 1:\n",
        "   - -1: Perfect negative correlation\n",
        "   - 0: No correlation\n",
        "   - 1: Perfect positive correlation\n",
        "- Usage: Suitable for normally distributed data with a linear relationship.\n",
        "\n",
        "\n",
        "**2. Spearman Rank Correlation Coefficient (spearman)**\n",
        "\n",
        "- Description: Measures the monotonic relationship between two variables, regardless of whether the relationship is linear.\n",
        "- Assumptions:\n",
        "   - No assumptions about data distribution\n",
        "- Interpretation: Values range from -1 to 1, with the same interpretation as Pearson.\n",
        "- Usage: Suitable for any type of data, including non-normally distributed data and non-linear relationships.\n",
        "\n",
        "**Monotonic Relationship**\n",
        "\n",
        "A monotonic relationship between two variables means that one variable consistently increases or decreases as the other variable increases. In other words, there's a consistent trend, either upward or downward, but the relationship doesn't have to be a straight line.\n",
        "\n",
        " **Key characteristics of a monotonic relationship:**\n",
        "\n",
        "- Consistent direction: If one variable increases, the other variable either consistently increases or consistently decreases.\n",
        "- No reversals: There are no instances where one variable increases while the other decreases.\n",
        "\n",
        "**Examples of monotonic relationships:**\n",
        "\n",
        "- Positive monotonic: As temperature increases, ice cream sales increase.\n",
        "- Negative monotonic: As the price of a product increases, demand for that product generally decreases.\n",
        "\n",
        "**Note:**\n",
        " A linear relationship is a special case of a monotonic relationship. In a linear relationship, the change in one variable is directly proportional to the change in the other variable. However, a monotonic relationship can be non-linear, as long as the direction of the relationship remains consistent.\n",
        "\n",
        "**In summary:**\n",
        "\n",
        " A monotonic relationship simply means that the two variables move in the same direction (increasing or decreasing) consistently, without any reversals. This relationship can be linear or non-linear.\n",
        "\n",
        "\n",
        "**3. Kendall Tau Correlation Coefficient (kendalltau)**\n",
        "\n",
        "- Description: Measures the concordance or discordance between two ranked lists of data.\n",
        "- Assumptions:\n",
        "   - No assumptions about data distribution\n",
        "- Interpretation: Values range from -1 to 1, with the same interpretation as Pearson and Spearman.\n",
        "- Usage: Suitable for any type of data, especially with outliers or non-linear relationships. Can be more efficient for large datasets.\n",
        "\n",
        "\n",
        "\n",
        "\n"
      ],
      "metadata": {
        "id": "VYx2iSi_5NN8"
      }
    },
    {
      "cell_type": "code",
      "source": [
        "# import scipy and set the data\n",
        "import numpy as np\n",
        "import scipy.stats as stats\n",
        "\n",
        "# Sample data\n",
        "x = df[\"T\"]\n",
        "y = df[\"RH\"]"
      ],
      "metadata": {
        "id": "BbCIM77D6WWQ"
      },
      "execution_count": null,
      "outputs": []
    },
    {
      "cell_type": "code",
      "source": [
        "# Calculate Pearson correlation coefficient\n",
        "correlation_pearson = stats.pearsonr(x, y)\n",
        "\n",
        "print(\"Pearson Correlation Coefficient:\", correlation_pearson)\n"
      ],
      "metadata": {
        "id": "hgfYw8TwgeZ-"
      },
      "execution_count": null,
      "outputs": []
    },
    {
      "cell_type": "code",
      "source": [
        "# Calculate Spearman rank correlation coefficient\n",
        "correlation_spearman = stats.spearmanr(x, y)\n",
        "\n",
        "print(\"Spearman Rank Correlation Coefficient:\", correlation_spearman)"
      ],
      "metadata": {
        "id": "BJpYcg2_ihLg"
      },
      "execution_count": null,
      "outputs": []
    },
    {
      "cell_type": "code",
      "source": [
        "# Calculate Kendall Tau correlation coefficient\n",
        "correlation_kendall = stats.kendalltau(x, y)\n",
        "\n",
        "print(\"Kendall Tau Correlation Coefficient:\", correlation_kendall)"
      ],
      "metadata": {
        "id": "LFhInfUX3nhW"
      },
      "execution_count": null,
      "outputs": []
    },
    {
      "cell_type": "code",
      "source": [
        "# np.corrcoef()\n",
        "correlation_numpy = np.corrcoef(x,y)[0][1]\n",
        "correlation_numpy"
      ],
      "metadata": {
        "id": "pIwd9H4zildx"
      },
      "execution_count": null,
      "outputs": []
    },
    {
      "cell_type": "code",
      "source": [
        "df.iloc[:,1:-4].corr()"
      ],
      "metadata": {
        "id": "9bcQg3Fsi5Tb"
      },
      "execution_count": null,
      "outputs": []
    },
    {
      "cell_type": "code",
      "source": [
        "# correlation between only T and RH\n",
        "df[\"T\"].corr(df[\"RH\"])"
      ],
      "metadata": {
        "id": "hTMChaF-jkEN"
      },
      "execution_count": null,
      "outputs": []
    },
    {
      "cell_type": "markdown",
      "source": [
        "**Interpreting Results:**\n",
        "\n",
        "- A value close to 1 or -1 indicates a strong linear or monotonic relationship, respectively.\n",
        "- A value close to 0 indicates a weak or no relationship.\n",
        "\n",
        "**Note:**\n",
        "- These tests are more suitable for large datasets.\n",
        "- Non-linear relationships: If the relationship is non-linear, these correlation coefficients might not accurately capture the relationship\n",
        "\n",
        "**Key Differences**\n",
        "\n",
        "- Assumptions: Pearson assumes normally distributed data and a linear relationship, while Spearman and Kendall Tau have no such assumptions.\n",
        "- Interpretation: All three coefficients measure the strength and direction of the relationship, but the specific interpretation (linear vs. monotonic) may vary.\n",
        "- Efficiency: Kendall Tau can be more efficient for large datasets, especially when dealing with outliers.\n",
        "\n",
        "\n",
        "**Choosing the Right Coefficient:**\n",
        "\n",
        "- If you are confident that your data is normally distributed and has a linear relationship, Pearson is a good choice.\n",
        "- If your data is not normally distributed or the relationship is non-linear, Spearman or Kendall Tau are more suitable.\n",
        "- For large datasets with outliers, Kendall Tau might be the most efficient option.\n",
        "- In some cases, it might be helpful to calculate all three coefficients and compare the results to gain a better understanding of the relationship between the variables."
      ],
      "metadata": {
        "id": "hYI3B4H24cld"
      }
    },
    {
      "cell_type": "markdown",
      "metadata": {
        "id": "EXTbITPt95tG"
      },
      "source": [
        "---"
      ]
    },
    {
      "cell_type": "markdown",
      "metadata": {
        "id": "mrYXoA63M0MR"
      },
      "source": [
        "#### Activity 5: Residual (Error) Analysis\n",
        "\n",
        "Before you can make a conclusion whether a prediction model is acceptable or not, you need to analyse residuals (or errors) to validate the assumptions of a linear regression model. Hence, the reliability of inference.\n",
        "\n",
        "In the residual analysis, you need to check if the error terms are normally distributed (which is infact, one of the major assumptions of linear regression). Why? Because, formally, a simple linear regression model is given as\n",
        "\n",
        "$$Y = \\beta_0 + \\beta_1 x + \\epsilon$$\n",
        "\n",
        "where\n",
        "\n",
        "- $x$ is the independent variable\n",
        "\n",
        "- $Y$ is the response to the independent variable (or predicted value or dependent variable)\n",
        "\n",
        "- $\\beta_0$ (intercept made by the best fit line with the $y$-axis) and $\\beta_1$ (slope of the best fit line) are called regression coefficients\n",
        "\n",
        "- **$\\epsilon$** is the random error obtained along with the predicted value\n",
        "\n",
        "**For a line to be the best fit line, the mean of random errors i.e. mean of $\\epsilon$ should be 0.**\n",
        "\n",
        "Let us plot the histogram of the error terms and see what it looks like."
      ]
    },
    {
      "cell_type": "markdown",
      "source": [
        "# <p style=\"padding:10px;background-color:#85BB65;margin:0;color:white;font-family:newtimeroman;font-size:150%;text-align:center;border-radius: 15px 50px;overflow:hidden;font-weight:500\">Assumptions Of Linear Regression</p>\n",
        "\n",
        "While Building our Linear Regression Model we have some assumptions which we need to keep in our mind to better regression line fit for our Model.\n",
        "\n",
        "Linear Regression is supervised machine Learning Algorithm in which one or more independent variable explain the dependent(Predictor) variable.\n",
        "\n",
        "**Assumptions of linear regression**\n",
        "\n",
        "\n",
        "* 1- Linearity\n",
        "* 2- Multicollinearity\n",
        "* 3- mean of residuals\n",
        "* 4- normality of residuals\n",
        "* 5- Error Term should be independent to each other\n",
        "* 6- hemoscedasticity / heteroscedasticity\n"
      ],
      "metadata": {
        "id": "tXTSAl68Pp9y"
      }
    },
    {
      "cell_type": "code",
      "metadata": {
        "id": "OfFDBNMDM87Z"
      },
      "source": [
        "# Create a histogram for the errors obtained in the predicted values for the train set.\n",
        "errors_train = y_train_reshaped - y_train_pred\n",
        "\n",
        "plt.figure(figsize = (12, 4), dpi = 96)\n",
        "plt.hist(errors_train, bins = 'sturges', edgecolor = 'm')\n",
        "plt.title(\"Histogram for Errors in the Prediction on Train Set\")\n",
        "plt.axvline(x = errors_train.mean(), label = f\"Mean of errors = {errors_train.mean():.3f}\", color = 'r')\n",
        "plt.xlabel(\"Train Set Errors\")\n",
        "plt.legend()\n",
        "plt.show()"
      ],
      "execution_count": null,
      "outputs": []
    },
    {
      "cell_type": "markdown",
      "metadata": {
        "id": "xVSsJDzwcoSo"
      },
      "source": [
        "The residuals (or errors) somewhat follow a normal distribution with a mean equal to 0 which is what required. If the mean of errors between the actual and the predicted values is not equal to zero, then you need to rebuild the linear regression model probably with a different independent (or feature) variable.\n",
        "\n",
        "Let's also create its normal distribution curve by applying the probability density function on the errors.\n",
        "\n",
        "$$\\rho(x) = \\frac{1}{\\sigma \\sqrt{2 \\pi}}e^{-\\frac{1}{2\\sigma^2}(x - \\mu)^2}$$"
      ]
    },
    {
      "cell_type": "code",
      "metadata": {
        "id": "HNAzm7qbdVpE"
      },
      "source": [
        "#  Create a normal distribution curve for the errors obtained in the predicted values for the train set.\n",
        "def prob_density_func(series):\n",
        "  CONST = 1 / (series.std() * np.sqrt(2 * np.pi))\n",
        "  power_of_e = - (series - series.mean()) ** 2 / (2 * series.var()) # 'pd.Series.var()' function returns the variance of the series.\n",
        "  new_array = CONST * np.exp(power_of_e)\n",
        "  return new_array\n",
        "\n",
        "plt.figure(figsize = (12, 4), dpi = 96)\n",
        "plt.scatter(errors_train, prob_density_func(errors_train))\n",
        "plt.title(\"Normal Distribution for Errors in the Prediction on Train Set\")\n",
        "plt.axvline(x = errors_train.mean(), label = f\"Mean of errors = {errors_train.mean():.3f}\", color = 'r')\n",
        "plt.xlabel(\"Train Set Errors\")\n",
        "plt.legend()\n",
        "plt.show()"
      ],
      "execution_count": null,
      "outputs": []
    },
    {
      "cell_type": "markdown",
      "metadata": {
        "id": "YmYjHd0Udli3"
      },
      "source": [
        "Clearly, the errors or residuals for the train set follow a normal distribution.\n",
        "\n",
        "**The `norm.pdf()` Function**\n",
        "\n",
        "You can also apply the probability density function using the `norm.pdf()` function of the `scipy.stats` module. To apply this function, you need to:\n",
        "\n",
        "- Import the `norm` object from the `scipy.stats` module.\n",
        "\n",
        "- Call the `pdf()` function on the `norm` object. It takes two inputs:\n",
        "\n",
        "  1. The mean of the values\n",
        "\n",
        "  2. The standard deviation of the values\n"
      ]
    },
    {
      "cell_type": "code",
      "metadata": {
        "id": "iycfP5sVDGBt"
      },
      "source": [
        "#  Apply the 'norm.pdf()' function to get the probabilities and then create a normal distribution curve again for the train set errors.\n",
        "from scipy.stats import norm\n",
        "\n",
        "plt.figure(figsize = (12, 4), dpi = 96)\n",
        "plt.scatter(errors_train, norm.pdf(errors_train, errors_train.mean(), errors_train.std()))\n",
        "plt.title(\"Normal Distribution for Errors in the Prediction on Train Set\")\n",
        "plt.axvline(x = errors_train.mean(), label = f\"Mean of errors = {errors_train.mean():.3f}\", color = 'r')\n",
        "plt.xlabel(\"Train Set Errors\")\n",
        "plt.legend()\n",
        "plt.show()"
      ],
      "execution_count": null,
      "outputs": []
    },
    {
      "cell_type": "markdown",
      "metadata": {
        "id": "vvU_RWHKNVMQ"
      },
      "source": [
        "Let's repeat the above exercises for the test set as well."
      ]
    },
    {
      "cell_type": "code",
      "metadata": {
        "id": "ksA5NLv6NQo2"
      },
      "source": [
        "#  Create a histogram for the errors obtained in the predicted values for the test set.\n",
        "errors_test = y_test_reshaped - y_test_pred\n",
        "\n",
        "plt.figure(figsize = (12, 4), dpi = 96)\n",
        "plt.hist(errors_test, bins = 'sturges', edgecolor = 'm')\n",
        "plt.title(\"Histogram for Errors in the Prediction on Test Set\")\n",
        "plt.axvline(x = errors_test.mean(), label = f\"Mean of errors = {errors_test.mean():.3f}\", color = 'r')\n",
        "plt.xlabel(\"Test Set Errors\")\n",
        "plt.legend()\n",
        "plt.show()"
      ],
      "execution_count": null,
      "outputs": []
    },
    {
      "cell_type": "markdown",
      "metadata": {
        "id": "Obopk_H2sAGD"
      },
      "source": [
        "Here the mean of errors is NOT zero. Hence, it shows that our prediction model is not accurate and we will have to rebuild it."
      ]
    },
    {
      "cell_type": "markdown",
      "metadata": {
        "id": "NiQIgSUHfzPh"
      },
      "source": [
        "---"
      ]
    },
    {
      "cell_type": "markdown",
      "metadata": {
        "id": "mXyUeSOgf0C_"
      },
      "source": [
        "#### Activity 6: Homoscedasticity & Heteroscedasticity\n",
        "\n",
        "In addition to checking for the mean of errors, you also need to check for the trend in the scatter plot between the errors and the feature and target variables. There should not be a trend.\n",
        "\n",
        "Let's create a scatter plot between the errors and the independent variable for the train set to see whether there is some kind of relationship between the two.\n",
        "\n",
        "![](https://media.geeksforgeeks.org/wp-content/uploads/20190425172205/hetero.jpg)\n"
      ]
    },
    {
      "cell_type": "code",
      "metadata": {
        "id": "GpIYJVYBbnl9"
      },
      "source": [
        "#  Create a scatter plot between the errors and the independent variable for the train set\n",
        "plt.figure(figsize = (12, 4), dpi = 96)\n",
        "plt.scatter(X_train, errors_train)\n",
        "plt.axhline(y = errors_train.mean(), color = 'r', label = f'Mean of errors = {errors_train.mean():.3f}')\n",
        "plt.legend()\n",
        "plt.show()"
      ],
      "execution_count": null,
      "outputs": []
    },
    {
      "cell_type": "markdown",
      "metadata": {
        "id": "DVhYwV6iW--W"
      },
      "source": [
        "There is hardly any noticeable trend between the errors in the train set and the independent variable. This means the variance in the errors for the train set is approximately constant i.e. it is not changing much except for the rightmost points in the scatter plot. Hence, there is **homoscedasticity** between the errors w.r.t. the feature. In literal terms, **homo** means **same** and **scedasticity** means variance. So homoscedasticity means the same or constant variance. Homoscedasticity is good for us.\n",
        "\n",
        "Now let's create a scatter plot between the errors and the target variable for the train set to see whether there is some kind of relationship between the two."
      ]
    },
    {
      "cell_type": "code",
      "metadata": {
        "id": "0THK909QcAUG"
      },
      "source": [
        "#  Create a scatter plot between the errors and the dependent variable for the train set.\n",
        "plt.figure(figsize = (12, 4), dpi = 96)\n",
        "plt.scatter(y_train, errors_train)\n",
        "plt.axhline(y = errors_train.mean(), color = 'r', label = f'Mean of errors = {errors_train.mean():.3f}')\n",
        "plt.legend()\n",
        "plt.show()"
      ],
      "execution_count": null,
      "outputs": []
    },
    {
      "cell_type": "markdown",
      "metadata": {
        "id": "NSnsj7WSLzuP"
      },
      "source": [
        "There is some clear trend between errors and the target variable for the train set. This means the variance in the error terms is varying from left-to-right. Hence, there is **heteroscedasticity** (not same variance) between in the errors w.r.t. the predicted values. This is not a good thing for us.\n",
        "\n",
        "So after going through all the necessary evaluation steps, we can say that our linear regression model i.e.\n",
        "\n",
        "$$\\text{relative humidity} = -1.1120 \\times \\text{temperature} + 69.6911$$\n",
        "\n",
        "is poor because of the following reasons:\n",
        "\n",
        "- $R^2$ value is low\n",
        "- MSE, RMSE, MAE values are high\n",
        "- The mean of errors for the test set is non-zero\n",
        "- Presence of heteroscedasticity between the errors in the train set and the predicted values\n",
        "\n",
        "Hence, we can need to rebuild the linear regression model with more feature (or independent) variables. This is where we have to implement multiple linear regression to build a more accurate prediction model."
      ]
    },
    {
      "cell_type": "markdown",
      "metadata": {
        "id": "OteilOLpI42_"
      },
      "source": [
        "---"
      ]
    },
    {
      "cell_type": "markdown",
      "metadata": {
        "id": "fLa3QhXwt52x"
      },
      "source": [
        "#### Activity 7: Multiple Linear Regression^\n",
        "\n",
        "In multiple linear regression, you have more than one feature to predict the target.\n",
        "\n",
        "$$Y = \\beta_0 + \\beta_1 x_1 + \\beta_2 x_2 + \\beta_3 x_3 + \\dots + \\beta_n x_n + \\epsilon$$\n",
        "\n",
        "where\n",
        "\n",
        "- $x_1, x_2, x_3, \\dots , x_n$ are independent variables or features\n",
        "\n",
        "- $Y$ is the response to the independent variable (or predicted value or dependent variable)\n",
        "\n",
        "- $\\beta_0, \\beta_1, \\beta_2, \\dots, \\beta_n$ are the corresponding regression coefficients of the independent variables\n",
        "\n",
        "- **$\\epsilon$** is the random error obtained along with the predicted value\n",
        "\n",
        "In this case, to predict relative humidity (the target to be predicted), we will consider all the features except for `'DateTime'` because it is not a numeric value. So the above regression equation becomes\n",
        "\n",
        "$$\\text{RH} = \\beta_0 + \\beta_1 \\space{} \\text{CO} + \\beta_2 \\space{} \\text{C}_6 \\text{H}_6 + \\beta_3 \\space{} \\text{NMHC} + \\beta_4 \\space{} \\text{NO}_x + \\beta_5 \\space{} \\text{NO}_2 + \\beta_6 \\space{} \\text{O}_3 + \\beta_7 \\space{} \\text{T} + \\beta_8 \\space{} \\text{AH} + \\beta_9 \\space{} \\text{year} + \\beta_{10} \\space{} \\text{month} + \\beta_{11} \\space{} \\text{day} + \\epsilon$$\n",
        "\n",
        "For illustration, consider only three features that are $\\text{CO}, \\text{T}$ and $\\text{AH}$ and coefficients 14, 2, -3 and 5. So the above equation becomes\n",
        "$$y = 14 + 2 x_1 -3 x_2 + 5 x_3$$\n",
        "\n",
        "or\n",
        "$$\\text{RH} = 14 + 2\\text{CO} -3 \\text{T} + 5 \\text{AH}$$\n",
        "\n",
        "So when\n",
        "\n",
        "- all three parameters are $0$, then the relative humidity will always be $14$\n",
        "\n",
        "- all three parameters are $1$, then the relative humidity is $14 + 2 - 3 + 5 = 18$\n",
        "\n",
        "Similarly, you can simulate all the possible cases for the above three parameters in the illustration.\n",
        "\n",
        "Now, you may not require all the 11 features to predict relative humidity values. You may have to eliminate a few of the above features. Soon you will get to know why.\n",
        "\n",
        "So our next task is to estimate the values of the coefficients that we will do in the next class."
      ]
    },
    {
      "cell_type": "markdown",
      "metadata": {
        "id": "u0ocVPMKMzFY"
      },
      "source": [
        "---"
      ]
    },
    {
      "cell_type": "markdown",
      "metadata": {
        "id": "DSqb_9yu-BgK"
      },
      "source": [
        "---"
      ]
    },
    {
      "cell_type": "markdown",
      "source": [
        "\n",
        " The linear regression equation considered is\n",
        "\n",
        "$$\\text{RH} = \\beta_0 + \\beta_1 \\space{} \\text{CO} + \\beta_2 \\space{} \\text{C}_6 \\text{H}_6 + \\beta_3 \\space{} \\text{NMHC} + \\beta_4 \\space{} \\text{NO}_x + \\beta_5 \\space{} \\text{NO}_2 + \\beta_6 \\space{} \\text{O}_3 + \\beta_7 \\space{} \\text{T} + \\beta_8 \\space{} \\text{AH} + \\beta_9 \\space{} \\text{year} + \\beta_{10} \\space{} \\text{month} + \\beta_{11} \\space{} \\text{day} + \\epsilon$$\n",
        "\n",
        "In this class, we will estimate the values of these coefficients and find out which columns are least significant by referring to their p-values.\n",
        "\n"
      ],
      "metadata": {
        "id": "WkXwFor1-lnE"
      }
    },
    {
      "cell_type": "markdown",
      "metadata": {
        "id": "tDcTnvSt-vtG"
      },
      "source": [
        "####  Multiple Linear Regression\n",
        "\n",
        "In multiple linear regression, you have more than one feature to predict the target.\n",
        "\n",
        "$$Y = \\beta_0 + \\beta_1 x_1 + \\beta_2 x_2 + \\beta_3 x_3 + \\dots + \\beta_n x_n + \\epsilon$$\n",
        "\n",
        "where\n",
        "\n",
        "- $x_1, x_2, x_3, \\dots , x_n$ are independent variables or features\n",
        "\n",
        "- $Y$ is the response to the independent variable (or predicted value or dependent variable)\n",
        "\n",
        "- $\\beta_0, \\beta_1, \\beta_2, \\dots, \\beta_n$ are the corresponding regression coefficients of the independent variables\n",
        "\n",
        "- **$\\epsilon$** is the random error obtained along with the predicted value\n",
        "\n",
        "In this case, to predict relative humidity (the target to be predicted), we will consider all the features except for `'DateTime'` because it is not a numeric value. So the above regression equation becomes\n",
        "\n",
        "$$\\text{RH} = \\beta_0 + \\beta_1 \\space{} \\text{CO} + \\beta_2 \\space{} \\text{C}_6 \\text{H}_6 + \\beta_3 \\space{} \\text{NMHC} + \\beta_4 \\space{} \\text{NO}_x + \\beta_5 \\space{} \\text{NO}_2 + \\beta_6 \\space{} \\text{O}_3 + \\beta_7 \\space{} \\text{T} + \\beta_8 \\space{} \\text{AH} + \\beta_9 \\space{} \\text{year} + \\beta_{10} \\space{} \\text{month} + \\beta_{11} \\space{} \\text{day} + \\epsilon$$\n",
        "\n",
        "For illustration, consider only three features that are $\\text{CO}, \\text{T}$ and $\\text{AH}$ and coefficients 14, 2, -3 and 5. So the above equation becomes\n",
        "$$y = 14 + 2 x_1 -3 x_2 + 5 x_3$$\n",
        "\n",
        "or\n",
        "$$\\text{RH} = 14 + 2\\text{CO} -3 \\text{T} + 5 \\text{AH}$$\n",
        "\n",
        "So when\n",
        "\n",
        "- all three parameters are $0$, then the relative humidity will always be $14$\n",
        "\n",
        "- all three parameters are $1$, then the relative humidity is $14 + 2 - 3 + 5 = 18$\n",
        "\n",
        "Similarly, you can simulate all the possible cases for the above three parameters in the illustration.\n",
        "\n",
        "Now, you may not require all the 11 features to predict relative humidity values. You may have to eliminate a few of the above features. Soon you will get to know why.\n",
        "\n",
        "So our next task is to estimate the values of the coefficients"
      ]
    },
    {
      "cell_type": "markdown",
      "source": [
        "---"
      ],
      "metadata": {
        "id": "eyJ1RqwQMrni"
      }
    },
    {
      "cell_type": "markdown",
      "metadata": {
        "id": "6myfsJox3Tz2"
      },
      "source": [
        "#### Activity 8: Multiple Linear Regression Model Using `sklearn` Module\n",
        "\n",
        "Let's jump right ahead to build a multiple linear regression model using the `sklearn` module. Later, we will also use the `statsmodels` module to build a linear regression model and also to assess whether a feature is useful or in technical terms **significant**.\n",
        "\n",
        "You will understand this as we progress. For the time being, let's first create a list of features."
      ]
    },
    {
      "cell_type": "code",
      "metadata": {
        "id": "kY8icFAocJN-",
        "collapsed": true
      },
      "source": [
        "#  Create a list of feature variables.\n",
        "features = list(df.columns.values[1:-1])\n",
        "features.remove('RH')\n",
        "features"
      ],
      "execution_count": null,
      "outputs": []
    },
    {
      "cell_type": "code",
      "source": [
        "df.head()"
      ],
      "metadata": {
        "id": "1q1f8aU4dNB8"
      },
      "execution_count": null,
      "outputs": []
    },
    {
      "cell_type": "markdown",
      "metadata": {
        "id": "JyJfAiaA4a7l"
      },
      "source": [
        "Now let's build a linear regression model using the `sklearn` module by including all the features listed above."
      ]
    },
    {
      "cell_type": "code",
      "metadata": {
        "id": "1uEW8X3DQQJi"
      },
      "source": [
        "#  Build a linear regression model using the sklearn module by including all the features listed above.\n",
        "\n",
        "from sklearn.model_selection import train_test_split\n",
        "from sklearn.linear_model import LinearRegression\n",
        "\n",
        "features = list(df.columns.values[1:13])\n",
        "features.remove(\"RH\")\n",
        "\n",
        "X = df[features]\n",
        "y = df['RH']\n",
        "\n",
        "# Splitting the DataFrame into the train and test sets.\n",
        "X_train, X_test, y_train, y_test = train_test_split(X, y, test_size = 0.33, random_state = 42) # Test set will have 33% of the values.\n",
        "\n",
        "y_train_reshaped = y_train.values.reshape(-1, 1)\n",
        "y_test_reshaped = y_test.values.reshape(-1, 1)\n",
        "\n",
        "# Build linear regression model using the 'sklearn.linear_model' module.\n",
        "sklearn_lin_reg = LinearRegression()\n",
        "sklearn_lin_reg.fit(X_train, y_train_reshaped)\n",
        "\n",
        "# Print the value of the intercept i.e. beta-sub-0.\n",
        "print(\"\\nConstant\".ljust(15, \" \"), f\"{sklearn_lin_reg.intercept_[0]:.6f}\")\n",
        "\n",
        "# Print the names of the features along with the values of their corresponding coefficients.\n",
        "for item in list(zip(X.columns.values, sklearn_lin_reg.coef_[0])):\n",
        "  print(f\"{item[0]}\".ljust(15, \" \"), f\"{item[1]:.6f}\")"
      ],
      "execution_count": null,
      "outputs": []
    },
    {
      "cell_type": "markdown",
      "metadata": {
        "id": "8CJzUnlZ54U6"
      },
      "source": [
        "As you can see, the coefficients for a few of the features have a very low value and the intercept ($\\beta_0$) is very high in comparison. We will analyse the significance of these values as we proceed forward. For the time being, let's compute the $R^2$, MSE, RMSE and MAE values."
      ]
    },
    {
      "cell_type": "code",
      "metadata": {
        "id": "-BxonYJweOlM"
      },
      "source": [
        "#  Evaluate the linear regression model using the 'r2_score', 'mean_squared_error' & 'mean_absolute_error' functions of the 'sklearn' module.\n",
        "from sklearn.metrics import r2_score, mean_squared_error, mean_absolute_error\n",
        "\n",
        "y_train_pred = sklearn_lin_reg.predict(X_train)\n",
        "y_test_pred = sklearn_lin_reg.predict(X_test)\n",
        "\n",
        "print(f\"Train Set\\n{'-' * 50}\")\n",
        "print(f\"R-squared: {r2_score(y_train_reshaped, y_train_pred):.3f}\")\n",
        "print(f\"Mean Squared Error: {mean_squared_error(y_train_reshaped, y_train_pred):.3f}\")\n",
        "print(f\"Root Mean Squared Error: {np.sqrt(mean_squared_error(y_train_reshaped, y_train_pred)):.3f}\")\n",
        "print(f\"Mean Absolute Error: {mean_absolute_error(y_train_reshaped, y_train_pred):.3f}\")\n",
        "\n",
        "print(f\"\\n\\nTest Set\\n{'-' * 50}\")\n",
        "print(f\"R-squared: {r2_score(y_test_reshaped, y_test_pred):.3f}\")\n",
        "print(f\"Mean Squared Error: {mean_squared_error(y_test_reshaped, y_test_pred):.3f}\")\n",
        "print(f\"Root Mean Squared Error: {np.sqrt(mean_squared_error(y_test_reshaped, y_test_pred)):.3f}\")\n",
        "print(f\"Mean Absolute Error: {mean_absolute_error(y_test_reshaped, y_test_pred):.3f}\")"
      ],
      "execution_count": null,
      "outputs": []
    },
    {
      "cell_type": "markdown",
      "metadata": {
        "id": "qJrNbyid6h2T"
      },
      "source": [
        "When we built the linear regression model with only the temperature as the independent variable, the $R^2$ value was 32.46% approximately. Now it has increased to 87.9% because of having more features which is a great improvement as the $R^2$ value should be close to 1. This means the unexplained variance in the regression model is only 12.1%. The MSE, RMSE and MAE values are also not too high.\n",
        "\n",
        "So by looking at these metrics, we may tend to think that we have built a very good model but how do we make sure. For this, we need to measure the significance of the coefficients of all the features including the constant as well. This is the point where we will use the `statsmodels.api` module in Python."
      ]
    },
    {
      "cell_type": "markdown",
      "metadata": {
        "id": "fr6JYLj5R2ZL"
      },
      "source": [
        "---"
      ]
    },
    {
      "cell_type": "markdown",
      "metadata": {
        "id": "xbMhZX8k7aB8"
      },
      "source": [
        "#### Activity 9: The `statsmodels.api` Module\n",
        "\n",
        "The `statsmodels` module is another Python module that you can use to build a linear regression model and also assess whether a feature is useful or in technical terms **significant**.\n",
        "\n",
        "Let's create data frames for the features and target again and also split them into train and test sets."
      ]
    },
    {
      "cell_type": "code",
      "metadata": {
        "id": "Ek8ldUtYSPOd"
      },
      "source": [
        "#  Create data frames for the features and target again and also split them into the train and test sets.\n",
        "X = df[features]\n",
        "y = df['RH']\n",
        "\n",
        "X_train, X_test, y_train, y_test = train_test_split(X, y, test_size = 0.33, random_state = 42) # Test set will have 33% of the values."
      ],
      "execution_count": null,
      "outputs": []
    },
    {
      "cell_type": "markdown",
      "metadata": {
        "id": "Z8VQPc-MDAHB"
      },
      "source": [
        "Now to build a linear regression model\n",
        "\n",
        "- Import the `statsmodels.api` module.\n",
        "\n",
        "- Call the `add_constant()` function of `statsmodels.api` module. It takes the feature set as an input. It initialises the $\\beta_0$ (or constant) with some arbitrary value and then seeks the best value for it through the **ordinary least squares** method which we shall discuss later.\n",
        "\n",
        "- Create an object of the `OLS` class and call the `fit()` function to build a linear regression model. The constructor of the `OLS` class takes the target and features as inputs (in that order) and builds a linear regression model.\n",
        "\n",
        "- Finally, use the `params` attribute of the `OLS` class to get the values of all the coefficients."
      ]
    },
    {
      "cell_type": "code",
      "metadata": {
        "id": "MyeNqK74emeV"
      },
      "source": [
        "# Build a linear regression model using the 'statsmodels.api' module.\n",
        "import statsmodels.api as sm\n",
        "\n",
        "# Add a constant to get an intercept\n",
        "X_train_sm = sm.add_constant(X_train)\n",
        "\n",
        "# Fit the regression line using 'OLS'\n",
        "sm_lin_reg = sm.OLS(y_train, X_train_sm).fit()\n",
        "\n",
        "# Print the parameters, i.e. the intercept and the slope of the regression line fitted\n",
        "sm_lin_reg.params"
      ],
      "execution_count": null,
      "outputs": []
    },
    {
      "cell_type": "markdown",
      "metadata": {
        "id": "NxdMWw-EObIa"
      },
      "source": [
        "The above values for the constant and the coefficients of all the features are almost the same as the ones obtained through the `sklearn` linear regression model."
      ]
    },
    {
      "cell_type": "code",
      "metadata": {
        "id": "AQhy8aQ3N-ye"
      },
      "source": [
        "# Subtract the constant and the coefficient values obtained through 'sklearn' from the ones obtained through 'statsmodels.api'.\n",
        "print(sm_lin_reg.params.values[0] - sklearn_lin_reg.intercept_[0])\n",
        "print(sm_lin_reg.params.values[1:] - sklearn_lin_reg.coef_)"
      ],
      "execution_count": null,
      "outputs": []
    },
    {
      "cell_type": "markdown",
      "metadata": {
        "id": "tn2qcZ7NPFHt"
      },
      "source": [
        "As you can see the above values are practically $0$ because their scale is at least $10^{-11}$ or $\\frac{1}{10^{11}}$\n",
        "\n",
        "Now let's print the statistical summary of the regression model that we built to find the significant features based on **p-value**."
      ]
    },
    {
      "cell_type": "code",
      "metadata": {
        "id": "8xsgOhbGeyEI"
      },
      "source": [
        "# Performing a summary operation lists out all the different parameters of the regression line fitted\n",
        "print(sm_lin_reg.summary())"
      ],
      "execution_count": null,
      "outputs": []
    },
    {
      "cell_type": "markdown",
      "metadata": {
        "id": "L0hlzWq2e0iu"
      },
      "source": [
        "For a feature to be statistically significant, the p-value should be equal to or less than 0.05. From the above table, `PT08.S3(NOx)` and `PT08.S5(O3)` have the p-values greater than 0.05. Hence, they are statistically insignificant for the regression model created. So you may have to eliminate these features.\n",
        "\n",
        "Also, read the second warning obtained in the summary. It says `The condition number is large, 5.25e+07. This might indicate that there are strong multicollinearity or other numerical problems.`\n",
        "\n",
        "So now it is the time to understand three important concepts to make sense of what we have done so far and what the results and the warnings mean. These concepts are:\n",
        "\n",
        "1. Ordinary Least Squares (OLS)\n",
        "2. Multicollinearity\n",
        "3. p-value\n",
        "\n",
        "Let's stop here and continue in the next class."
      ]
    }
  ]
}