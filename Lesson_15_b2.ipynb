{
  "nbformat": 4,
  "nbformat_minor": 0,
  "metadata": {
    "colab": {
      "provenance": [],
      "include_colab_link": true
    },
    "kernelspec": {
      "name": "python3",
      "display_name": "Python 3"
    },
    "language_info": {
      "name": "python"
    }
  },
  "cells": [
    {
      "cell_type": "markdown",
      "metadata": {
        "id": "view-in-github",
        "colab_type": "text"
      },
      "source": [
        "<a href=\"https://colab.research.google.com/github/poudyaldiksha/Data-Science-project/blob/main/Lesson_15_b2.ipynb\" target=\"_parent\"><img src=\"https://colab.research.google.com/assets/colab-badge.svg\" alt=\"Open In Colab\"/></a>"
      ]
    },
    {
      "cell_type": "markdown",
      "source": [
        "# Lesson 15: Operators, Data Analysis with Pandas"
      ],
      "metadata": {
        "id": "eOhbMQeHz2_X"
      }
    },
    {
      "cell_type": "markdown",
      "metadata": {
        "id": "0OMi1V9osRiW"
      },
      "source": [
        "---"
      ]
    },
    {
      "cell_type": "markdown",
      "source": [
        "### Activity 1: Membership Testing for sets\n",
        "\n",
        "Sets provide a fast way to check if an element is part of the collection.\n",
        "\n",
        "\n"
      ],
      "metadata": {
        "id": "upGCbBa3ERUU"
      }
    },
    {
      "cell_type": "code",
      "source": [
        "#Example\n",
        "my_set = {1, 2, 3}\n",
        "print(2 in my_set)\n",
        "print(4 in my_set)"
      ],
      "metadata": {
        "id": "Y8d3JJ1UEYBx",
        "colab": {
          "base_uri": "https://localhost:8080/"
        },
        "outputId": "bdadc053-6d69-4458-ed3c-be76b49b8f6a"
      },
      "execution_count": null,
      "outputs": [
        {
          "output_type": "stream",
          "name": "stdout",
          "text": [
            "True\n",
            "False\n"
          ]
        }
      ]
    },
    {
      "cell_type": "markdown",
      "source": [
        "### Activity 2: Creating an Empty Set\n",
        "\n",
        " Use the `set()` function."
      ],
      "metadata": {
        "id": "xa8eF2IlC5bb"
      }
    },
    {
      "cell_type": "code",
      "source": [
        "b = ()\n",
        "type(b)"
      ],
      "metadata": {
        "colab": {
          "base_uri": "https://localhost:8080/"
        },
        "id": "Su7d0ipOLRNy",
        "outputId": "4f685ba5-c8a0-4890-fab5-a347d4711d19"
      },
      "execution_count": null,
      "outputs": [
        {
          "output_type": "execute_result",
          "data": {
            "text/plain": [
              "tuple"
            ]
          },
          "metadata": {},
          "execution_count": 5
        }
      ]
    },
    {
      "cell_type": "code",
      "source": [
        "a = []\n",
        "type(a)"
      ],
      "metadata": {
        "colab": {
          "base_uri": "https://localhost:8080/"
        },
        "id": "y61e0EiwLO7_",
        "outputId": "eedbb902-827a-4c6e-fe7f-1b22edfad56a"
      },
      "execution_count": null,
      "outputs": [
        {
          "output_type": "execute_result",
          "data": {
            "text/plain": [
              "list"
            ]
          },
          "metadata": {},
          "execution_count": 4
        }
      ]
    },
    {
      "cell_type": "code",
      "source": [
        "w = {}\n",
        "type(w)"
      ],
      "metadata": {
        "colab": {
          "base_uri": "https://localhost:8080/"
        },
        "id": "5A8FxA7DLCMF",
        "outputId": "8862930d-960e-4f5f-f152-1cbb6181355f"
      },
      "execution_count": null,
      "outputs": [
        {
          "output_type": "execute_result",
          "data": {
            "text/plain": [
              "dict"
            ]
          },
          "metadata": {},
          "execution_count": 2
        }
      ]
    },
    {
      "cell_type": "code",
      "source": [
        "#Example\n",
        "empty_set = set()\n",
        "type(empty_set)"
      ],
      "metadata": {
        "id": "pErI7mM_C53w",
        "colab": {
          "base_uri": "https://localhost:8080/"
        },
        "outputId": "71389c32-b9a1-447c-b260-8ffd52617e4c"
      },
      "execution_count": null,
      "outputs": [
        {
          "output_type": "execute_result",
          "data": {
            "text/plain": [
              "set"
            ]
          },
          "metadata": {},
          "execution_count": 3
        }
      ]
    },
    {
      "cell_type": "markdown",
      "source": [
        "### Activity 3: `len()`, `add()`, `remove()`, `pop()`"
      ],
      "metadata": {
        "id": "LhS67TZhIzIY"
      }
    },
    {
      "cell_type": "markdown",
      "source": [
        "**1. `len()`**\n",
        "\n",
        "The `len()` function returns the number of elements in a set."
      ],
      "metadata": {
        "id": "a84TMaVOI6IY"
      }
    },
    {
      "cell_type": "code",
      "source": [
        "#Example\n",
        "my_set = {1, 2, 3, 4, 5, 6,6,6,6}\n",
        "print(len(my_set))\n",
        "my_set"
      ],
      "metadata": {
        "id": "EyG0v21xI5qo",
        "colab": {
          "base_uri": "https://localhost:8080/"
        },
        "outputId": "b656772c-2a93-4352-e911-cbadfc7d99df"
      },
      "execution_count": null,
      "outputs": [
        {
          "output_type": "stream",
          "name": "stdout",
          "text": [
            "6\n"
          ]
        },
        {
          "output_type": "execute_result",
          "data": {
            "text/plain": [
              "{1, 2, 3, 4, 5, 6}"
            ]
          },
          "metadata": {},
          "execution_count": 6
        }
      ]
    },
    {
      "cell_type": "markdown",
      "source": [
        "**2. `add()`**\n",
        "\n",
        "The `add()` method adds a single element to the set. If the element is already present, the set remains unchanged since sets do not allow duplicate elements."
      ],
      "metadata": {
        "id": "ezzmnFGPJGoj"
      }
    },
    {
      "cell_type": "code",
      "source": [
        "#Example\n",
        "my_set = {1, 2, 3}\n",
        "my_set.add(4)\n",
        "print(my_set)\n",
        "\n",
        "my_set.add(3)  # Adding a duplicate element\n",
        "print(my_set)"
      ],
      "metadata": {
        "id": "jAhBO6ztJMJ3",
        "colab": {
          "base_uri": "https://localhost:8080/"
        },
        "outputId": "7c3f8ec4-8a32-4c63-ed91-9d1e70b4efad"
      },
      "execution_count": null,
      "outputs": [
        {
          "output_type": "stream",
          "name": "stdout",
          "text": [
            "{1, 2, 3, 4}\n",
            "{1, 2, 3, 4}\n"
          ]
        }
      ]
    },
    {
      "cell_type": "markdown",
      "source": [
        "**3. `remove()`**\n",
        "\n",
        "The `remove()` method removes a specified element from the set. If the element is not present, it raises a KeyError."
      ],
      "metadata": {
        "id": "uz8ZSBQ7JUil"
      }
    },
    {
      "cell_type": "code",
      "source": [
        "#Example\n",
        "my_set = {1, 2, 3, 4}\n",
        "my_set.remove(3)\n",
        "print(my_set)\n",
        "\n",
        " # This will raise a KeyError"
      ],
      "metadata": {
        "id": "ZeCnyAAFJa9L",
        "colab": {
          "base_uri": "https://localhost:8080/"
        },
        "outputId": "15d78ab4-84bc-4b01-f570-effb67d67525"
      },
      "execution_count": null,
      "outputs": [
        {
          "output_type": "stream",
          "name": "stdout",
          "text": [
            "{1, 2, 4}\n"
          ]
        }
      ]
    },
    {
      "cell_type": "code",
      "source": [
        "#my_set.remove(5)"
      ],
      "metadata": {
        "id": "-9QIqcALLttd"
      },
      "execution_count": null,
      "outputs": []
    },
    {
      "cell_type": "markdown",
      "source": [
        "**Note:**\n",
        "To avoid the KeyError, you can use the `discard()` method, which works like `remove()` but does not raise an error if the element is not found."
      ],
      "metadata": {
        "id": "hqUdYiyTJiqe"
      }
    },
    {
      "cell_type": "code",
      "source": [
        "#Example\n",
        "my_set.discard(5)  # No error even though 5 is not in the set\n",
        "print(my_set)"
      ],
      "metadata": {
        "id": "dS1ysvjLXt-7",
        "colab": {
          "base_uri": "https://localhost:8080/"
        },
        "outputId": "22e1ec0b-76ee-44d3-a6d4-61af52f420d8"
      },
      "execution_count": null,
      "outputs": [
        {
          "output_type": "stream",
          "name": "stdout",
          "text": [
            "{1, 2, 4}\n"
          ]
        }
      ]
    },
    {
      "cell_type": "markdown",
      "source": [
        "**4. `pop()`**\n",
        "\n",
        "The `pop()` method removes and returns an arbitrary element from the set. Since sets are unordered, you cannot predict which element will be removed. If the set is empty, it raises a KeyError."
      ],
      "metadata": {
        "id": "A26NRdePXtyM"
      }
    },
    {
      "cell_type": "code",
      "source": [
        "m ={1,2,3,4,4,4}\n",
        "m"
      ],
      "metadata": {
        "colab": {
          "base_uri": "https://localhost:8080/"
        },
        "id": "MMANxwnhMNQ5",
        "outputId": "4ffafb8d-c259-4d53-bd01-d6a5c82672a9"
      },
      "execution_count": null,
      "outputs": [
        {
          "output_type": "execute_result",
          "data": {
            "text/plain": [
              "{1, 2, 3, 4}"
            ]
          },
          "metadata": {},
          "execution_count": 13
        }
      ]
    },
    {
      "cell_type": "code",
      "source": [
        "s = [ 1,2,3,4,4,4]\n",
        "s.remove(4)"
      ],
      "metadata": {
        "id": "UfWhluoQMS2b"
      },
      "execution_count": null,
      "outputs": []
    },
    {
      "cell_type": "code",
      "source": [
        "s"
      ],
      "metadata": {
        "colab": {
          "base_uri": "https://localhost:8080/"
        },
        "id": "yypSoAZkMYs_",
        "outputId": "336d1c76-2166-42bb-956c-1f762727d0cb"
      },
      "execution_count": null,
      "outputs": [
        {
          "output_type": "execute_result",
          "data": {
            "text/plain": [
              "[1, 2, 3, 4, 4]"
            ]
          },
          "metadata": {},
          "execution_count": 15
        }
      ]
    },
    {
      "cell_type": "code",
      "source": [
        "#Example\n",
        "my_set = {1, 2, 3, 4}\n",
        "removed_element = my_set.pop()\n",
        "print(removed_element)\n",
        "print(my_set)\n",
        "\n",
        "empty_set = set()\n",
        "#empty_set.pop()"
      ],
      "metadata": {
        "id": "e4sQcLjuX591",
        "colab": {
          "base_uri": "https://localhost:8080/"
        },
        "outputId": "7a3a7385-b5af-412a-8113-1d422d079303"
      },
      "execution_count": null,
      "outputs": [
        {
          "output_type": "stream",
          "name": "stdout",
          "text": [
            "1\n",
            "{2, 3, 4}\n"
          ]
        }
      ]
    },
    {
      "cell_type": "code",
      "source": [
        "my_set = {2,11, 3, 4, 5,9}\n",
        "removed_element = my_set.pop()\n",
        "print(removed_element)\n",
        "print(my_set)"
      ],
      "metadata": {
        "colab": {
          "base_uri": "https://localhost:8080/"
        },
        "id": "6KlkbrUFMo_s",
        "outputId": "10655634-4151-4b3b-c2d6-7ba2d45a512e"
      },
      "execution_count": null,
      "outputs": [
        {
          "output_type": "stream",
          "name": "stdout",
          "text": [
            "2\n",
            "{3, 4, 5, 9, 11}\n"
          ]
        }
      ]
    },
    {
      "cell_type": "code",
      "source": [
        "my_set = {11,1, 2, 3, 4}\n",
        "removed_element = my_set.pop()\n",
        "print(removed_element)\n",
        "print(my_set)\n"
      ],
      "metadata": {
        "id": "JOgmZPeuVJiN",
        "colab": {
          "base_uri": "https://localhost:8080/"
        },
        "outputId": "bc2cc823-346f-47e1-82d8-55de86847b5c"
      },
      "execution_count": null,
      "outputs": [
        {
          "output_type": "stream",
          "name": "stdout",
          "text": [
            "1\n",
            "{2, 3, 4, 11}\n"
          ]
        }
      ]
    },
    {
      "cell_type": "code",
      "source": [
        "\n",
        "empty_set = set()\n",
        "#empty_set.pop()"
      ],
      "metadata": {
        "id": "wepC3h8NM8v5"
      },
      "execution_count": null,
      "outputs": []
    },
    {
      "cell_type": "markdown",
      "source": [
        " **Adding New Elements to a Set**\n",
        "\n",
        "You want to add new elements to a set dynamically as you encounter them."
      ],
      "metadata": {
        "id": "ETDoiJ5uYaI1"
      }
    },
    {
      "cell_type": "code",
      "source": [
        "#Example\n",
        "a = input(\"please give a number\")\n",
        "a + 10\n",
        "a"
      ],
      "metadata": {
        "colab": {
          "base_uri": "https://localhost:8080/",
          "height": 216
        },
        "id": "ZAfszEiOOEUy",
        "outputId": "a48aabee-03c7-4436-cfa4-df7cfd64c42f"
      },
      "execution_count": null,
      "outputs": [
        {
          "name": "stdout",
          "output_type": "stream",
          "text": [
            "please give a number11\n"
          ]
        },
        {
          "output_type": "error",
          "ename": "TypeError",
          "evalue": "can only concatenate str (not \"int\") to str",
          "traceback": [
            "\u001b[0;31m---------------------------------------------------------------------------\u001b[0m",
            "\u001b[0;31mTypeError\u001b[0m                                 Traceback (most recent call last)",
            "\u001b[0;32m<ipython-input-41-ce73c3813616>\u001b[0m in \u001b[0;36m<cell line: 3>\u001b[0;34m()\u001b[0m\n\u001b[1;32m      1\u001b[0m \u001b[0;31m#Example\u001b[0m\u001b[0;34m\u001b[0m\u001b[0;34m\u001b[0m\u001b[0m\n\u001b[1;32m      2\u001b[0m \u001b[0ma\u001b[0m \u001b[0;34m=\u001b[0m \u001b[0minput\u001b[0m\u001b[0;34m(\u001b[0m\u001b[0;34m\"please give a number\"\u001b[0m\u001b[0;34m)\u001b[0m\u001b[0;34m\u001b[0m\u001b[0;34m\u001b[0m\u001b[0m\n\u001b[0;32m----> 3\u001b[0;31m \u001b[0ma\u001b[0m \u001b[0;34m+\u001b[0m \u001b[0;36m10\u001b[0m\u001b[0;34m\u001b[0m\u001b[0;34m\u001b[0m\u001b[0m\n\u001b[0m\u001b[1;32m      4\u001b[0m \u001b[0ma\u001b[0m\u001b[0;34m\u001b[0m\u001b[0;34m\u001b[0m\u001b[0m\n",
            "\u001b[0;31mTypeError\u001b[0m: can only concatenate str (not \"int\") to str"
          ]
        }
      ]
    },
    {
      "cell_type": "code",
      "source": [
        "#Example\n",
        "a = input(\"please give a number\")\n",
        "w =a + \"b\"\n",
        "w"
      ],
      "metadata": {
        "colab": {
          "base_uri": "https://localhost:8080/",
          "height": 53
        },
        "id": "nxQoF6UIOoY8",
        "outputId": "3462df56-ae59-4753-d2c5-94a00cb753ea"
      },
      "execution_count": null,
      "outputs": [
        {
          "name": "stdout",
          "output_type": "stream",
          "text": [
            "please give a number10\n"
          ]
        },
        {
          "output_type": "execute_result",
          "data": {
            "text/plain": [
              "'10b'"
            ],
            "application/vnd.google.colaboratory.intrinsic+json": {
              "type": "string"
            }
          },
          "metadata": {},
          "execution_count": 43
        }
      ]
    },
    {
      "cell_type": "code",
      "source": [
        "a = int(input(\"please give a number\")) # input fn always take input as string\n",
        "w =a + 10\n",
        "w"
      ],
      "metadata": {
        "colab": {
          "base_uri": "https://localhost:8080/"
        },
        "id": "Ko880f7jOzkh",
        "outputId": "c830f49d-be81-4f33-d33c-14ec93b8d843"
      },
      "execution_count": null,
      "outputs": [
        {
          "name": "stdout",
          "output_type": "stream",
          "text": [
            "please give a number21\n"
          ]
        },
        {
          "output_type": "execute_result",
          "data": {
            "text/plain": [
              "31"
            ]
          },
          "metadata": {},
          "execution_count": 44
        }
      ]
    },
    {
      "cell_type": "code",
      "source": [
        "#Example\n",
        "encountered_ids = {101, 102, 103}\n",
        "new_id = int(input(\"pls enter your id:\"))\n",
        "\n",
        "if new_id not in encountered_ids:\n",
        "    encountered_ids.add(new_id)\n",
        "    print(\"New ID added.\")\n",
        "else:\n",
        "    print(\"ID already exists.\")\n",
        "\n",
        "print(encountered_ids)"
      ],
      "metadata": {
        "id": "etiNjyI8YJD3",
        "colab": {
          "base_uri": "https://localhost:8080/"
        },
        "outputId": "f6a8e165-b855-45b7-a2de-1c9f8176adf6"
      },
      "execution_count": null,
      "outputs": [
        {
          "output_type": "stream",
          "name": "stdout",
          "text": [
            "pls enter your id:103\n",
            "ID already exists.\n",
            "{101, 102, 103}\n"
          ]
        }
      ]
    },
    {
      "cell_type": "markdown",
      "source": [
        "---"
      ],
      "metadata": {
        "id": "ehVyBS34aZ4H"
      }
    },
    {
      "cell_type": "markdown",
      "source": [
        "# Operators"
      ],
      "metadata": {
        "id": "PCo1UVd1aa3A"
      }
    },
    {
      "cell_type": "markdown",
      "source": [
        "### Activity 1: Various Operators in Python\n"
      ],
      "metadata": {
        "id": "6ltFWWxwaiUl"
      }
    },
    {
      "cell_type": "markdown",
      "source": [
        "**1. Arithmetic Operators**\n",
        "Arithmetic operators are used to perform mathematical operations.\n",
        "\n",
        "**Operators:**\n",
        "\n",
        "- `+` : Addition\n",
        "- `-` : Subtraction\n",
        "- `*` : Multiplication\n",
        "- `/` : Division\n",
        "- `%` : Modulus\n",
        "- `**` : Exponentiation\n",
        "- `//` : Floor division"
      ],
      "metadata": {
        "id": "eUj8xIQla7q0"
      }
    },
    {
      "cell_type": "code",
      "source": [
        "10%3"
      ],
      "metadata": {
        "colab": {
          "base_uri": "https://localhost:8080/"
        },
        "id": "t3RUFLEnPOLE",
        "outputId": "2db3bf81-3478-4bd3-c428-1d15e26495cf"
      },
      "execution_count": null,
      "outputs": [
        {
          "output_type": "execute_result",
          "data": {
            "text/plain": [
              "1"
            ]
          },
          "metadata": {},
          "execution_count": 46
        }
      ]
    },
    {
      "cell_type": "code",
      "source": [
        "2 ** 2"
      ],
      "metadata": {
        "colab": {
          "base_uri": "https://localhost:8080/"
        },
        "id": "aa9kQdbgPTHd",
        "outputId": "ea8fd943-c41e-40e6-ece9-19d8988a8641"
      },
      "execution_count": null,
      "outputs": [
        {
          "output_type": "execute_result",
          "data": {
            "text/plain": [
              "4"
            ]
          },
          "metadata": {},
          "execution_count": 47
        }
      ]
    },
    {
      "cell_type": "code",
      "source": [
        "#Example\n",
        "a = 10\n",
        "b = 3\n",
        "print(a + b)\n",
        "print(a - b)\n",
        "print(a * b)\n",
        "print(a / b)\n",
        "print(a % b)  # modulus\n",
        "print(a ** b)\n",
        "print(a // b) #floor division"
      ],
      "metadata": {
        "id": "htev3x4Kah5k",
        "colab": {
          "base_uri": "https://localhost:8080/"
        },
        "outputId": "8290f59c-c456-4a9d-f2bb-b1d56023f049"
      },
      "execution_count": null,
      "outputs": [
        {
          "output_type": "stream",
          "name": "stdout",
          "text": [
            "13\n",
            "7\n",
            "30\n",
            "3.3333333333333335\n",
            "1\n",
            "1000\n",
            "3\n"
          ]
        }
      ]
    },
    {
      "cell_type": "markdown",
      "source": [
        "**NOTE:**\n",
        "\n",
        "The `// `operator in Python is known as the floor division operator. It performs division and returns the largest possible integer that is less than or equal to the result. This is sometimes called integer division because it essentially truncates the decimal part and returns the integer part of the quotient.\n",
        "\n"
      ],
      "metadata": {
        "id": "4aze5_qtCJpn"
      }
    },
    {
      "cell_type": "code",
      "source": [
        "10/3"
      ],
      "metadata": {
        "colab": {
          "base_uri": "https://localhost:8080/"
        },
        "id": "C3QgmneuPfrr",
        "outputId": "dd17adcb-182f-44fd-f3eb-30c9917b2ca8"
      },
      "execution_count": null,
      "outputs": [
        {
          "output_type": "execute_result",
          "data": {
            "text/plain": [
              "3.3333333333333335"
            ]
          },
          "metadata": {},
          "execution_count": 48
        }
      ]
    },
    {
      "cell_type": "code",
      "source": [
        "10//3"
      ],
      "metadata": {
        "colab": {
          "base_uri": "https://localhost:8080/"
        },
        "id": "4o1oKQ0YPinI",
        "outputId": "913f0667-b4ab-4453-8c11-34fbfd3d1aeb"
      },
      "execution_count": null,
      "outputs": [
        {
          "output_type": "execute_result",
          "data": {
            "text/plain": [
              "3"
            ]
          },
          "metadata": {},
          "execution_count": 49
        }
      ]
    },
    {
      "cell_type": "code",
      "source": [
        "20/3"
      ],
      "metadata": {
        "colab": {
          "base_uri": "https://localhost:8080/"
        },
        "id": "UwpQFf7XPori",
        "outputId": "d9c3f634-ca8f-4fdc-f7d7-6ba7d593d604"
      },
      "execution_count": null,
      "outputs": [
        {
          "output_type": "execute_result",
          "data": {
            "text/plain": [
              "6.666666666666667"
            ]
          },
          "metadata": {},
          "execution_count": 52
        }
      ]
    },
    {
      "cell_type": "code",
      "source": [
        "17//3"
      ],
      "metadata": {
        "colab": {
          "base_uri": "https://localhost:8080/"
        },
        "id": "2PPw7GTpPlIr",
        "outputId": "a8197336-655f-4481-b621-5250aacc1b99"
      },
      "execution_count": null,
      "outputs": [
        {
          "output_type": "execute_result",
          "data": {
            "text/plain": [
              "5"
            ]
          },
          "metadata": {},
          "execution_count": 50
        }
      ]
    },
    {
      "cell_type": "code",
      "source": [
        "#Calculate the area and perimeter of a rectangle with given length and width.\n",
        "l = int(input(\"pls enter length:\"))\n",
        "w = int(input(\"pls enter width:\"))\n",
        "a = l*w\n",
        "p = 2*(l+w)\n",
        "print(f\"area of rectangle:{a},perimeter of the rectangle:{p}\")\n"
      ],
      "metadata": {
        "id": "tvUbPwHrbv4K",
        "colab": {
          "base_uri": "https://localhost:8080/"
        },
        "outputId": "94ababe9-eca2-4c6a-b1ae-2a54a706376f"
      },
      "execution_count": null,
      "outputs": [
        {
          "output_type": "stream",
          "name": "stdout",
          "text": [
            "pls enter length:2189892\n",
            "pls enter width:2989211\n",
            "area of rectangle:6546049255212,perimeter of the rectangle:10358206\n"
          ]
        }
      ]
    },
    {
      "cell_type": "markdown",
      "source": [
        "**2. Comparison Operators**\n",
        "\n",
        "Comparison operators compare values and return a boolean result.\n",
        "\n",
        "Operators:\n",
        "\n",
        "- `==` : Equal to\n",
        "- `!=` : Not equal to\n",
        "- `>`  : Greater than\n",
        "- `<`  : Less than\n",
        "- `>=` : Greater than or equal to\n",
        "- `<=` : Less than or equal to"
      ],
      "metadata": {
        "id": "q1xIU_CZcEQ2"
      }
    },
    {
      "cell_type": "code",
      "source": [
        "#Example\n",
        "a = 10\n",
        "b = 20\n",
        "print(a == b) # F\n",
        "print(a != b) # T\n",
        "print(a > b) # F\n",
        "print(a < b) # T\n",
        "print(a >= b) # F\n",
        "print(a <= b) # T\n"
      ],
      "metadata": {
        "id": "bmDI6OzwczTB",
        "colab": {
          "base_uri": "https://localhost:8080/"
        },
        "outputId": "5b6e71d8-dd01-43da-c4d7-01b8502af4ed"
      },
      "execution_count": null,
      "outputs": [
        {
          "output_type": "stream",
          "name": "stdout",
          "text": [
            "False\n",
            "True\n",
            "False\n",
            "True\n",
            "False\n",
            "True\n"
          ]
        }
      ]
    },
    {
      "cell_type": "markdown",
      "source": [
        "Write a program that takes two numbers as input and checks if they are equal."
      ],
      "metadata": {
        "id": "5OSU6U2QdMfV"
      }
    },
    {
      "cell_type": "code",
      "source": [
        "#Example\n",
        "num1 = int(input(\"Enter first number: \"))\n",
        "num2 = int(input(\"Enter second number: \"))\n",
        "print(f\"Are the numbers equal? {num1 == num2}\")"
      ],
      "metadata": {
        "id": "0y1JAuEmdJnJ",
        "colab": {
          "base_uri": "https://localhost:8080/"
        },
        "outputId": "fc24bd45-dd9b-42e5-b1d7-840409df86d5"
      },
      "execution_count": null,
      "outputs": [
        {
          "output_type": "stream",
          "name": "stdout",
          "text": [
            "Enter first number: 223\n",
            "Enter second number: 22\n",
            "Are the numbers equal? False\n"
          ]
        }
      ]
    },
    {
      "cell_type": "markdown",
      "source": [
        "**3. Assignment Operators**\n",
        "\n",
        "Assignment operators are used to assign values to variables.\n",
        "\n",
        "Operators:\n",
        "\n",
        "- `=` : Assign\n",
        "- `+=` : Add and assign\n",
        "- `-=` : Subtract and assign\n",
        "- `*=` : Multiply and assign\n",
        "- `/=` : Divide and assign\n",
        "- `%= `: Modulus and assign\n",
        "- `**=` : Exponentiation and assign\n",
        "- `//=` : Floor division and assign"
      ],
      "metadata": {
        "id": "-xg-nFj0dXbo"
      }
    },
    {
      "cell_type": "code",
      "source": [
        "a = 10\n",
        "a+=5\n",
        "a"
      ],
      "metadata": {
        "colab": {
          "base_uri": "https://localhost:8080/"
        },
        "id": "pf5Fmz3hQmjI",
        "outputId": "fd4f2433-c176-416e-8a79-e809a502a37e"
      },
      "execution_count": null,
      "outputs": [
        {
          "output_type": "execute_result",
          "data": {
            "text/plain": [
              "15"
            ]
          },
          "metadata": {},
          "execution_count": 58
        }
      ]
    },
    {
      "cell_type": "code",
      "source": [
        "#Example\n",
        "a = 10\n",
        "\n",
        "a += 5\n",
        "print(a)  # 15\n",
        "\n",
        "a -= 3\n",
        "print(a)  # 12\n",
        "\n",
        "a *= 2\n",
        "print(a)  # 24\n",
        "\n",
        "a /= 4\n",
        "print(a)  # 6.0\n",
        "\n",
        "a %= 5\n",
        "print(a)  #1.0\n",
        "\n",
        "a **= 3\n",
        "print(a)  #1.0\n",
        "\n",
        "a //= 2\n",
        "print(a)  # 0.0"
      ],
      "metadata": {
        "id": "FC4Z-VyFkgia",
        "colab": {
          "base_uri": "https://localhost:8080/"
        },
        "outputId": "dbe64233-5106-4e6f-9742-2f26323d5847"
      },
      "execution_count": null,
      "outputs": [
        {
          "output_type": "stream",
          "name": "stdout",
          "text": [
            "15\n",
            "12\n",
            "24\n",
            "6.0\n",
            "1.0\n",
            "1.0\n",
            "0.0\n"
          ]
        }
      ]
    },
    {
      "cell_type": "code",
      "source": [
        "1/2"
      ],
      "metadata": {
        "colab": {
          "base_uri": "https://localhost:8080/"
        },
        "id": "wH0UqXTeRDzl",
        "outputId": "cf12b025-fb52-45d5-b825-1bbf1b24a121"
      },
      "execution_count": null,
      "outputs": [
        {
          "output_type": "execute_result",
          "data": {
            "text/plain": [
              "0.5"
            ]
          },
          "metadata": {},
          "execution_count": 59
        }
      ]
    },
    {
      "cell_type": "code",
      "source": [
        "1//2"
      ],
      "metadata": {
        "colab": {
          "base_uri": "https://localhost:8080/"
        },
        "id": "LGXxSIZaRF9E",
        "outputId": "0ab30714-cebd-43e5-d0fc-040497d63a92"
      },
      "execution_count": null,
      "outputs": [
        {
          "output_type": "execute_result",
          "data": {
            "text/plain": [
              "0"
            ]
          },
          "metadata": {},
          "execution_count": 60
        }
      ]
    },
    {
      "cell_type": "markdown",
      "source": [
        "**4. Logical Operators**\n",
        "\n",
        "Logical operators are used to combine conditional statements.\n",
        "\n",
        "Operators:\n",
        "\n",
        "- `and` : Returns True if both statements are true\n",
        "- `or `: Returns True if one of the statements is true\n",
        "- `not` : Reverses the result, returns False if the result is true"
      ],
      "metadata": {
        "id": "LRWUM4rrkvIC"
      }
    },
    {
      "cell_type": "code",
      "source": [
        "#Example\n",
        "a = True\n",
        "b = False\n",
        "print(a and b)  # false\n",
        "print(a or b)  #true\n",
        "print(not a) #false\n"
      ],
      "metadata": {
        "id": "3BCOAx5Jk4PX",
        "colab": {
          "base_uri": "https://localhost:8080/"
        },
        "outputId": "6178e930-a910-43d2-95f1-15202fc6ffa3"
      },
      "execution_count": null,
      "outputs": [
        {
          "output_type": "stream",
          "name": "stdout",
          "text": [
            "False\n",
            "True\n",
            "False\n"
          ]
        }
      ]
    },
    {
      "cell_type": "markdown",
      "source": [
        "Write a program that checks if a number is both greater than 5 and less than 15."
      ],
      "metadata": {
        "id": "jS7uEK2fk-On"
      }
    },
    {
      "cell_type": "code",
      "source": [
        "#Example\n",
        "num = int(input(\"Enter a number: \"))\n",
        "print(f\"Is the number between 5 and 15? {num > 5 and num < 15}\")"
      ],
      "metadata": {
        "id": "v9-D8qIfk99Z",
        "colab": {
          "base_uri": "https://localhost:8080/"
        },
        "outputId": "54a2ba4f-7dbd-49d2-8557-765905cfb32e"
      },
      "execution_count": null,
      "outputs": [
        {
          "output_type": "stream",
          "name": "stdout",
          "text": [
            "Enter a number: 6778\n",
            "Is the number between 5 and 15? False\n"
          ]
        }
      ]
    },
    {
      "cell_type": "markdown",
      "source": [
        "**5. Membership Operators**\n",
        "\n",
        "Membership operators are used to test if a sequence contains an element.\n",
        "\n",
        "Operators:\n",
        "\n",
        "- `in `: Returns True if a sequence with the specified value is present\n",
        "- `not in` : Returns True if a sequence with the specified value is not present"
      ],
      "metadata": {
        "id": "UHDF48Nvlen-"
      }
    },
    {
      "cell_type": "code",
      "source": [
        "#Example\n",
        "x = [\"apple\", \"banana\"]\n",
        "print(\"banana\" in x)\n",
        "print(\"cherry\" not in x)"
      ],
      "metadata": {
        "id": "-xHrty4elmjV",
        "colab": {
          "base_uri": "https://localhost:8080/"
        },
        "outputId": "9d37e3b0-3b88-4810-c4a5-a1cfe8ebbb1b"
      },
      "execution_count": null,
      "outputs": [
        {
          "output_type": "stream",
          "name": "stdout",
          "text": [
            "True\n",
            "True\n"
          ]
        }
      ]
    },
    {
      "cell_type": "markdown",
      "source": [
        "**6. Identity Operators**\n",
        "\n",
        "Identity operators compare the memory locations of two objects.\n",
        "\n",
        "Operators:\n",
        "\n",
        "- `is` : Returns True if both variables are the same object\n",
        "- `is not` : Returns True if both variables are not the same object"
      ],
      "metadata": {
        "id": "-nc09w8rlxoM"
      }
    },
    {
      "cell_type": "code",
      "source": [
        "#Example\n",
        "a = [\"apple\", \"banana\"]\n",
        "b = [\"apple\", \"banana\"]\n",
        "c = a\n",
        "print(a is c)  # Output: True\n",
        "print(a is b)  # Output: False\n",
        "print(a == b)  # Output: True\n"
      ],
      "metadata": {
        "id": "eRhryrQxl7s0",
        "colab": {
          "base_uri": "https://localhost:8080/"
        },
        "outputId": "823cbb73-9be1-4d18-e98f-06caa4ab7b91"
      },
      "execution_count": null,
      "outputs": [
        {
          "output_type": "stream",
          "name": "stdout",
          "text": [
            "True\n",
            "False\n",
            "True\n"
          ]
        }
      ]
    },
    {
      "cell_type": "code",
      "source": [
        "id(a)"
      ],
      "metadata": {
        "colab": {
          "base_uri": "https://localhost:8080/"
        },
        "id": "LBsY_0BsSZSP",
        "outputId": "06d40f4b-f5a0-44c8-91ca-cb456ab86f86"
      },
      "execution_count": null,
      "outputs": [
        {
          "output_type": "execute_result",
          "data": {
            "text/plain": [
              "140627324220800"
            ]
          },
          "metadata": {},
          "execution_count": 67
        }
      ]
    },
    {
      "cell_type": "code",
      "source": [
        "id(b)"
      ],
      "metadata": {
        "colab": {
          "base_uri": "https://localhost:8080/"
        },
        "id": "35NMyyveSbB2",
        "outputId": "53486ac9-89d9-4469-f1a5-1089d5949a54"
      },
      "execution_count": null,
      "outputs": [
        {
          "output_type": "execute_result",
          "data": {
            "text/plain": [
              "140627295204480"
            ]
          },
          "metadata": {},
          "execution_count": 68
        }
      ]
    },
    {
      "cell_type": "code",
      "source": [
        "id(c)"
      ],
      "metadata": {
        "colab": {
          "base_uri": "https://localhost:8080/"
        },
        "id": "zh2fwS8FSc-I",
        "outputId": "36e17abf-659f-405f-f21e-3dad781bc1d3"
      },
      "execution_count": null,
      "outputs": [
        {
          "output_type": "execute_result",
          "data": {
            "text/plain": [
              "140627324220800"
            ]
          },
          "metadata": {},
          "execution_count": 69
        }
      ]
    },
    {
      "cell_type": "markdown",
      "source": [
        "1. Understanding the is operator:\n",
        "\n",
        "- The `is` operator checks if two variables point to the same object in memory. It evaluates to True if both variables refer to the exact same object.\n",
        "\n",
        "2. Understanding the == operator:\n",
        "\n",
        "- The `==` operator checks if the values of two variables are equal. It evaluates to True if the values contained in both variables are the same."
      ],
      "metadata": {
        "id": "9up2VdAAFY0i"
      }
    },
    {
      "cell_type": "markdown",
      "source": [
        "**Mutable vs Immutable Types:**\n",
        "\n",
        "Compare variables of mutable types (like lists) and immutable types (like strings or integers) using `is` and` ==`."
      ],
      "metadata": {
        "id": "YoinlVZlGlpO"
      }
    },
    {
      "cell_type": "code",
      "source": [
        "i = ( 1,2)\n",
        "t = (1,2)\n",
        "i == t\n"
      ],
      "metadata": {
        "colab": {
          "base_uri": "https://localhost:8080/"
        },
        "id": "8U__cxOGTVfF",
        "outputId": "8a25e5e2-1193-4410-cebe-04d056e5c7bb"
      },
      "execution_count": null,
      "outputs": [
        {
          "output_type": "execute_result",
          "data": {
            "text/plain": [
              "True"
            ]
          },
          "metadata": {},
          "execution_count": 72
        }
      ]
    },
    {
      "cell_type": "code",
      "source": [
        "id(i)"
      ],
      "metadata": {
        "colab": {
          "base_uri": "https://localhost:8080/"
        },
        "id": "R-wzEzJ1TsN_",
        "outputId": "babba2d9-4071-4eea-e57f-0843cb47b492"
      },
      "execution_count": null,
      "outputs": [
        {
          "output_type": "execute_result",
          "data": {
            "text/plain": [
              "140627314651904"
            ]
          },
          "metadata": {},
          "execution_count": 73
        }
      ]
    },
    {
      "cell_type": "code",
      "source": [
        "id(t)"
      ],
      "metadata": {
        "colab": {
          "base_uri": "https://localhost:8080/"
        },
        "id": "GWOXH-VmTtRY",
        "outputId": "965b822f-eec9-4fe8-915b-2dfd401dee93"
      },
      "execution_count": null,
      "outputs": [
        {
          "output_type": "execute_result",
          "data": {
            "text/plain": [
              "140627295202176"
            ]
          },
          "metadata": {},
          "execution_count": 74
        }
      ]
    },
    {
      "cell_type": "code",
      "source": [
        "#Example\n",
        "str1 = \"hello\"\n",
        "str2 = \"hello\"\n",
        "print(str1 is str2)  # Output: True (because of interning)\n",
        "print(str1 == str2)  # Output: True\n",
        "\n"
      ],
      "metadata": {
        "id": "YS0998olGu4L",
        "colab": {
          "base_uri": "https://localhost:8080/"
        },
        "outputId": "b66517ea-648b-4724-ef2a-698b6376cd71"
      },
      "execution_count": null,
      "outputs": [
        {
          "output_type": "stream",
          "name": "stdout",
          "text": [
            "True\n",
            "True\n"
          ]
        }
      ]
    },
    {
      "cell_type": "code",
      "source": [
        "int1 = 1000\n",
        "int2 = 1000\n",
        "print(int1 is int2)  # Output: False (no interning for larger integers)\n",
        "print(int1 == int2)  # Output: True"
      ],
      "metadata": {
        "colab": {
          "base_uri": "https://localhost:8080/"
        },
        "id": "8mqCe6vuS1Iv",
        "outputId": "9d759340-5ca2-4307-ce97-73bd2d4d7ed6"
      },
      "execution_count": null,
      "outputs": [
        {
          "output_type": "stream",
          "name": "stdout",
          "text": [
            "False\n",
            "True\n"
          ]
        }
      ]
    },
    {
      "cell_type": "code",
      "source": [
        "int1 =  50\n",
        "int2 = 50\n",
        "print(int1 is int2)  # Output: True (no interning for larger integers)\n",
        "print(int1 == int2)"
      ],
      "metadata": {
        "colab": {
          "base_uri": "https://localhost:8080/"
        },
        "id": "IEBDypMhT0PA",
        "outputId": "a3708d64-badd-49e7-ff51-3fa2f4511002"
      },
      "execution_count": null,
      "outputs": [
        {
          "output_type": "stream",
          "name": "stdout",
          "text": [
            "True\n",
            "True\n"
          ]
        }
      ]
    },
    {
      "cell_type": "markdown",
      "source": [
        "###**Interning**\n",
        "\n",
        "Interning is an optimization technique used by Python (and some other programming languages) to manage memory efficiently and speed up the performance of certain operations. It involves reusing the same memory location for immutable objects that have the same value, instead of creating a new object each time.\n",
        "\n",
        "**How Interning Works:**\n",
        "\n",
        "1. **Strings:** In Python, small strings and strings that look like identifiers (e.g., variable names) are automatically interned. This means that if two string literals have the same value, Python will store them in the same memory location.\n",
        "2. **Integers:** Small integers (typically in the range from -5 to 256) are also automatically interned by Python. This means that any integer within this range will refer to the same memory location.\n",
        "\n",
        "\n",
        "**Benefits of Interning:**\n",
        "\n",
        "- **Memory Efficiency:** By reusing objects, Python saves memory because it doesn't need to allocate new memory for identical values.\n",
        "- **Performance Improvement:** Comparisons of interned objects are faster because Python can just compare memory addresses instead of comparing values.\n",
        "\n",
        "**When Interning Does Not Apply:**\n",
        "\n",
        "- For larger integers (outside the range of -5 to 256), Python does not intern by default.\n",
        "- For strings created at runtime (e.g., through concatenation or other operations), interning is not guaranteed unless explicitly requested using the intern() function from the sys module."
      ],
      "metadata": {
        "id": "nlRGsL7vHf_R"
      }
    },
    {
      "cell_type": "code",
      "source": [
        "#Example\n",
        "list1 = [4, 5, 6]\n",
        "list2 = list1\n",
        "list3 = list1.copy()\n",
        "\n",
        "print(list1 is list2)  #true\n",
        "print(list1 == list2)  # true\n",
        "\n",
        "print(list1 is list3)  #false\n",
        "print(list1 == list3)  #true\n",
        "\n",
        "list1.append(7)\n",
        "print(list1 == list2)  #true\n",
        "print(list1 == list3)  #false"
      ],
      "metadata": {
        "id": "yPgkaiseG9X9"
      },
      "execution_count": null,
      "outputs": []
    },
    {
      "cell_type": "code",
      "source": [
        "id(list1)"
      ],
      "metadata": {
        "id": "dvJalz4rfLhy"
      },
      "execution_count": null,
      "outputs": []
    },
    {
      "cell_type": "code",
      "source": [
        "id(list2)"
      ],
      "metadata": {
        "id": "VheadqoAfN1K"
      },
      "execution_count": null,
      "outputs": []
    },
    {
      "cell_type": "markdown",
      "source": [
        "**7. Operator Precedence**\n",
        "\n",
        "Operator precedence determines the order in which operators are evaluated in expressions. When multiple operators are used in an expression, the operator with the highest precedence is evaluated first. If two operators have the same precedence, their associativity determines the order in which they are evaluated.\n",
        "\n"
      ],
      "metadata": {
        "id": "xthBWqExmJOJ"
      }
    },
    {
      "cell_type": "code",
      "source": [
        "2+ 3 * 3 /5 **2 +(8+3+4)"
      ],
      "metadata": {
        "colab": {
          "base_uri": "https://localhost:8080/"
        },
        "id": "0llQOisTUGyX",
        "outputId": "269b999c-34f6-420c-aa7c-8532f70fd161"
      },
      "execution_count": null,
      "outputs": [
        {
          "output_type": "execute_result",
          "data": {
            "text/plain": [
              "17.36"
            ]
          },
          "metadata": {},
          "execution_count": 78
        }
      ]
    },
    {
      "cell_type": "code",
      "source": [
        "#Example\n",
        "a = 5 + 2 * 3\n",
        "print(a)\n",
        "\n",
        "b = (5 + 2) * 3\n",
        "print(b)"
      ],
      "metadata": {
        "id": "qr8tQAWtmNyR",
        "collapsed": true,
        "colab": {
          "base_uri": "https://localhost:8080/"
        },
        "outputId": "9cf9ca27-4dec-4ac5-c972-814770fb3f55"
      },
      "execution_count": null,
      "outputs": [
        {
          "output_type": "stream",
          "name": "stdout",
          "text": [
            "11\n",
            "21\n"
          ]
        }
      ]
    },
    {
      "cell_type": "markdown",
      "source": [
        "Write a program to demonstrate the use of parentheses to change the order of operations."
      ],
      "metadata": {
        "id": "rzlJSis-mSN-"
      }
    },
    {
      "cell_type": "code",
      "source": [
        "#Example\n",
        "result1 = 10 + 2 * 5\n",
        "result2 = (10 + 2) * 5\n",
        "print(f\"Without parentheses: {result1}\")\n",
        "print(f\"With parentheses: {result2}\")"
      ],
      "metadata": {
        "id": "w9CvckzpmURy",
        "colab": {
          "base_uri": "https://localhost:8080/"
        },
        "outputId": "a2cf1217-00a2-4ced-9ada-56ec2bbfb01e"
      },
      "execution_count": null,
      "outputs": [
        {
          "output_type": "stream",
          "name": "stdout",
          "text": [
            "Without parentheses: 20\n",
            "With parentheses: 60\n"
          ]
        }
      ]
    },
    {
      "cell_type": "markdown",
      "source": [
        "**8. Escape Operators**\n",
        "Escape characters are used to represent whitespace characters or characters that are difficult to include directly in a string.\n",
        "\n",
        "Examples:\n",
        "\n",
        "- `\\n` : Newline\n",
        "- `\\t` : Tab\n",
        "- `\\\\` : Backslash\n",
        "- `\\'` : Single quote\n",
        "- `\\\"` : Double quote"
      ],
      "metadata": {
        "id": "UtJn_o6Qm0RC"
      }
    },
    {
      "cell_type": "code",
      "source": [
        "#Example\n",
        "print(\"Hello\\nWorld\")\n",
        "print(\"********\") # Newline\n",
        "print(\"Hello\\tWorld\")  # Tab\n",
        "print(\"********\")\n",
        "print(\"Hello\\'World\")  # Single quote\n",
        "print(\"********\")\n",
        "print(\"Hello\\\"World\")  # Double quote"
      ],
      "metadata": {
        "id": "woYNwCtSm-R1",
        "colab": {
          "base_uri": "https://localhost:8080/"
        },
        "outputId": "3e8503ca-fd0a-4819-ae9e-c911be3bb0e6"
      },
      "execution_count": null,
      "outputs": [
        {
          "output_type": "stream",
          "name": "stdout",
          "text": [
            "Hello\n",
            "World\n",
            "********\n",
            "Hello\tWorld\n",
            "********\n",
            "Hello'World\n",
            "********\n",
            "Hello\"World\n"
          ]
        }
      ]
    },
    {
      "cell_type": "code",
      "source": [
        "#Example\n",
        "print(\"Hello\\tWorld\\nThis is a backslash: \\\\\")"
      ],
      "metadata": {
        "colab": {
          "base_uri": "https://localhost:8080/"
        },
        "id": "H3aWpEMrnCmy",
        "outputId": "30ed8cc0-6fef-4b8b-aef9-4f16157c1851"
      },
      "execution_count": null,
      "outputs": [
        {
          "output_type": "stream",
          "name": "stdout",
          "text": [
            "Hello\tWorld\n",
            "This is a backslash: \\\n"
          ]
        }
      ]
    },
    {
      "cell_type": "markdown",
      "source": [
        "# Data Analysis with Pandas"
      ],
      "metadata": {
        "id": "LiPnVsCzEtJn"
      }
    },
    {
      "cell_type": "markdown",
      "source": [
        "## **Introduction to Data Analysis**\n",
        "\n",
        "Before diving into the technicalities of data analysis, it's important to appreciate the value and impact of understanding data. Data analysis is the process of examining, cleaning, transforming, and modeling data to discover useful information, draw conclusions, and support decision-making.\n",
        "\n",
        "Imagine you have access to data on monthly sales for every shop in your city. By analyzing this data, you might notice that during festivals, the sales of sweets, clothes, jewelry, and electronic products spike significantly. This observation can help businesses plan their inventory and marketing strategies better to capitalize on these peak periods.\n",
        "\n",
        "Similarly, if you analyze tourism data, you'll see that many families in India go on vacation in May and June. This trend aligns with the school summer vacations, and understanding this can help travel agencies and hotels plan their services accordingly.\n",
        "\n",
        "Data analysis allows us to uncover trends, patterns, and insights that can inform decisions in daily life, business, healthcare, engineering, and numerous other fields."
      ],
      "metadata": {
        "id": "AnpHqFC6E88n"
      }
    },
    {
      "cell_type": "markdown",
      "source": [
        "##**Why Pandas for Data Analysis?**\n",
        "When it comes to data analysis in Python, one of the most powerful and widely used libraries is Pandas. But why Pandas? Let's delve into its background and benefits:\n",
        "\n",
        "**1. History and Development:**\n",
        "\n",
        "- Pandas was developed by **Wes McKinney** in **2008** while he was working at AQR Capital Management. He needed a high-performance, flexible tool to perform quantitative analysis on financial data. The name \"Pandas\" is derived from the term **\"panel data,\"** an econometrics term for data sets that include observations over multiple time periods for the same individuals.\n",
        "- Since its inception, Pandas has grown rapidly in popularity and capability, becoming an essential tool for data scientists and analysts around the world.\n",
        "\n",
        "**2. Key Features and Advantages:**\n",
        "\n",
        "\n",
        "\n",
        "- **Ease of Use:** Pandas provides easy-to-use data structures and data analysis tools that make data manipulation simple and intuitive.\n",
        "- **Flexible Data Structures:** It introduces two main data structures, **Series** and **DataFrame**, which handle different types of data effectively.\n",
        "- **Data Cleaning and Preparation:** With Pandas, you can clean and prepare your data effortlessly, handling missing data, merging datasets, and reshaping data.\n",
        "- **Powerful Grouping and Aggregation:** Pandas allows for powerful data grouping, aggregation, and transformation operations, enabling complex data analysis tasks.\n",
        "- **Integration with Other Libraries:** Pandas integrates seamlessly with other popular Python libraries like NumPy, Matplotlib, and SciPy, enhancing its capabilities.\n",
        "- **Performance:** Built on top of NumPy, Pandas provides high-performance, fast, and efficient data manipulation."
      ],
      "metadata": {
        "id": "kJrGR6sGFJaV"
      }
    },
    {
      "cell_type": "markdown",
      "source": [
        "##**Introduction to Pandas Series**\n",
        "In this lesson, we'll start by learning about the Pandas Series, one of the core data structures in Pandas.\n",
        "\n",
        "**What is a Pandas Series?**\n",
        "\n",
        "A Pandas Series is a one-dimensional labeled array capable of holding any data type (integers, strings, floats, Python objects, etc.). It is similar to a column in a spreadsheet or a database table. And it is labeled and indexed, making it more powerful than a regular list.\n",
        "\n",
        "\n",
        "\n"
      ],
      "metadata": {
        "id": "K8SAWtPOF9Ng"
      }
    },
    {
      "cell_type": "markdown",
      "source": [
        "###Activity 1: Creating a Pandas Series\n",
        "\n",
        "Let's create a simple Pandas Series to understand its structure and features:\n",
        "\n",
        "To explore the concept of Pandas Series with an example. Suppose you have a collection of 20 books, and each book has a certain number of pages ranging from 150 to 500.\n",
        "(both inclusive).\n",
        "\n",
        "We can create a Pandas Series containing the number of pages in each book by first creating a Python list and then converting it to a Pandas Series. To create a Pandas Series, you need to import the Pandas module using the import keyword.\n",
        "\n",
        "`import pandas as pd`\n",
        "Here, `pd` is an alias (or nickname) for pandas\n",
        "\n",
        "**Note:** Unlike other functions, the `Series()` function begins with the uppercase letter S."
      ],
      "metadata": {
        "id": "wL-5se66fSwM"
      }
    },
    {
      "cell_type": "code",
      "source": [
        "#Activity\n",
        "import pandas as pd\n",
        "import random\n",
        "# Create a list of page numbers for 20 books\n",
        "page_numbers = [ random.randint(150,500) for i in range(20) ]\n",
        "#print(page_numbers)\n",
        "\n",
        "# Convert the list to a Pandas Series\n",
        "book_pages = pd.Series(page_numbers)\n",
        "book_pages\n"
      ],
      "metadata": {
        "id": "SB2LAxvEgOMf"
      },
      "execution_count": null,
      "outputs": []
    },
    {
      "cell_type": "code",
      "source": [
        "print(type(book_pages))"
      ],
      "metadata": {
        "id": "ofpKOZwkZ4T-"
      },
      "execution_count": null,
      "outputs": []
    },
    {
      "cell_type": "markdown",
      "source": [
        "The first column in the output represents the indices of all the items in the book_pages Pandas series. The second column contains the number of pages in the book. The data-type of each item is an `int`."
      ],
      "metadata": {
        "id": "_-Nf8tSuhVI_"
      }
    },
    {
      "cell_type": "code",
      "source": [
        "#Example\n",
        "x= pd.Series([1,2,3,4], index=(\"a\",\"b\",\"b\",\"d\"))\n",
        "x"
      ],
      "metadata": {
        "id": "5eCrmz3LmnUa"
      },
      "execution_count": null,
      "outputs": []
    },
    {
      "cell_type": "code",
      "source": [
        "x= pd.Series([1,2,3,4])\n",
        "x"
      ],
      "metadata": {
        "id": "9yLjaBwUangI"
      },
      "execution_count": null,
      "outputs": []
    },
    {
      "cell_type": "code",
      "source": [
        "#Example\n",
        "\n",
        "labels = ['a','b','c']\n",
        "my_data = [10,20,30]\n",
        "\n",
        "\n",
        "print(pd.Series(my_data))\n",
        "print('==================')\n",
        "print(pd.Series(my_data,index=labels))"
      ],
      "metadata": {
        "id": "pGy9in00nP1f"
      },
      "execution_count": null,
      "outputs": []
    },
    {
      "cell_type": "code",
      "source": [
        "#Example\n",
        "roll_num =[ 748847, 887283,889832]\n",
        "names=[\"rich\",\"courage\",\"shine\"]\n",
        "series1= pd.Series(roll_num,index=names)\n",
        "series1"
      ],
      "metadata": {
        "id": "QEFfl4eYnY3d"
      },
      "execution_count": null,
      "outputs": []
    },
    {
      "cell_type": "code",
      "source": [
        "# series of numbers from 11 to 20\n",
        "ser = pd.Series(data = range(11,21),index=range(11,21))\n",
        "ser"
      ],
      "metadata": {
        "id": "eYzgkhjondrU"
      },
      "execution_count": null,
      "outputs": []
    },
    {
      "cell_type": "code",
      "source": [
        "# example\n",
        "series2 = pd.Series([1,2,3,4,5], index = ['a', 'b', 'c', 'd', 'e'], dtype = float)\n",
        "print(series2)"
      ],
      "metadata": {
        "id": "AIos7cn60Q_V"
      },
      "execution_count": null,
      "outputs": []
    },
    {
      "cell_type": "markdown",
      "source": [
        "### Activity 2: Exploring the Pandas Series\n",
        "\n",
        "A Pandas Series can also contain items of multiple data types. Let's store the title of a book, its number of pages, the price, and whether it's available in paperback."
      ],
      "metadata": {
        "id": "cIGjv8adgqOb"
      }
    },
    {
      "cell_type": "code",
      "source": [
        "# Create a Pandas Series with mixed data types\n",
        "book_details = pd.Series([\"the book\",182,288.99,True])\n",
        "book_details"
      ],
      "metadata": {
        "id": "xv_Kx7Z4hBVk"
      },
      "execution_count": null,
      "outputs": []
    },
    {
      "cell_type": "code",
      "source": [
        "print(type(book_details))"
      ],
      "metadata": {
        "id": "cwu79KS4bzTh"
      },
      "execution_count": null,
      "outputs": []
    },
    {
      "cell_type": "markdown",
      "source": [
        "**Note:**\n",
        "\n",
        "Here, the data type is object. Pandas cannot return the data type of every individual item, so it returns object to represent a common data type for all items."
      ],
      "metadata": {
        "id": "9eCc4JEChHhd"
      }
    },
    {
      "cell_type": "markdown",
      "source": [
        "**Creating Empty Series**"
      ],
      "metadata": {
        "id": "UJ9vHvouzsNR"
      }
    },
    {
      "cell_type": "code",
      "source": [
        "#empty series\n",
        "emp_s = pd.Series([])\n",
        "print(emp_s)"
      ],
      "metadata": {
        "id": "EcRh4s7m0CsB"
      },
      "execution_count": null,
      "outputs": []
    },
    {
      "cell_type": "code",
      "source": [
        "emp_s = pd.Series(())\n",
        "print(emp_s)"
      ],
      "metadata": {
        "id": "wK15AAVhb78h"
      },
      "execution_count": null,
      "outputs": []
    },
    {
      "cell_type": "code",
      "source": [
        "emp_s = pd.Series({})\n",
        "print(emp_s)"
      ],
      "metadata": {
        "id": "SwlMp9htcCdI"
      },
      "execution_count": null,
      "outputs": []
    },
    {
      "cell_type": "markdown",
      "source": [
        "**Creating series from scalar values**"
      ],
      "metadata": {
        "id": "GGEpkEJ40Ygx"
      }
    },
    {
      "cell_type": "code",
      "source": [
        "#Example\n",
        "s = pd.Series(2)\n",
        "print(s)"
      ],
      "metadata": {
        "id": "PhkUzFO90bgP"
      },
      "execution_count": null,
      "outputs": []
    },
    {
      "cell_type": "code",
      "source": [
        "print(type(s))"
      ],
      "metadata": {
        "id": "xU6Uv4Gx0hnC"
      },
      "execution_count": null,
      "outputs": []
    },
    {
      "cell_type": "markdown",
      "source": [
        " **Creating series from python dictionary**"
      ],
      "metadata": {
        "id": "BozdL6o10sp7"
      }
    },
    {
      "cell_type": "code",
      "source": [
        "#example\n",
        "s_dict = pd.Series({'a':1, 'b':2, 'c':3})\n",
        "print(s_dict)"
      ],
      "metadata": {
        "id": "fDhT97YR0xex"
      },
      "execution_count": null,
      "outputs": []
    },
    {
      "cell_type": "markdown",
      "source": [
        "**Adding two series**\n"
      ],
      "metadata": {
        "id": "QfTAYkcB1A1j"
      }
    },
    {
      "cell_type": "code",
      "source": [
        "#example\n",
        "series1 = pd.Series([1,2,3,4,5])\n",
        "series2 = pd.Series([1,2,3,4,5])\n",
        "\n",
        "a = series1 + series2\n",
        "print(a)"
      ],
      "metadata": {
        "id": "8GS-TB5S1GvP"
      },
      "execution_count": null,
      "outputs": []
    },
    {
      "cell_type": "markdown",
      "source": [
        "**We can also add series using add() function:**"
      ],
      "metadata": {
        "id": "1XoNgjY11Pjz"
      }
    },
    {
      "cell_type": "code",
      "source": [
        "#example\n",
        "series1.add(series2)"
      ],
      "metadata": {
        "id": "2-UJlS6Z1U4Z"
      },
      "execution_count": null,
      "outputs": []
    },
    {
      "cell_type": "markdown",
      "source": [
        "### Activity 3: Finding the Number of Items\n",
        "You can use the size attribute to find the number of items in a Pandas Series.\n",
        "\n"
      ],
      "metadata": {
        "id": "Lujh-iPyhsUU"
      }
    },
    {
      "cell_type": "code",
      "source": [
        "book_pages"
      ],
      "metadata": {
        "id": "QVyRUDkFcspj"
      },
      "execution_count": null,
      "outputs": []
    },
    {
      "cell_type": "code",
      "source": [
        " #Find the number of items in the book_pages Pandas Series using the size attribute.\n",
        "print(book_pages.size)"
      ],
      "metadata": {
        "id": "Ch2BRiFVh305"
      },
      "execution_count": null,
      "outputs": []
    },
    {
      "cell_type": "markdown",
      "source": [
        "You can also use the shape attribute to find the number of rows and columns in a Pandas Series."
      ],
      "metadata": {
        "id": "TyE621OMiCCU"
      }
    },
    {
      "cell_type": "code",
      "source": [
        "#Find the number of rows and columns in the book_pages Pandas Series using the shape attribute.\n",
        "print(book_pages.shape)"
      ],
      "metadata": {
        "id": "xiWUE1w-iFEg"
      },
      "execution_count": null,
      "outputs": []
    },
    {
      "cell_type": "code",
      "source": [
        "a = book_pages.shape\n",
        "type(a)"
      ],
      "metadata": {
        "id": "293oqtbNc-u9",
        "collapsed": true
      },
      "execution_count": null,
      "outputs": []
    },
    {
      "cell_type": "code",
      "source": [
        "a[0]"
      ],
      "metadata": {
        "id": "KLwi3Qu2dHbP"
      },
      "execution_count": null,
      "outputs": []
    },
    {
      "cell_type": "markdown",
      "source": [
        "So, there are 20 rows and 1 column in the book_pages Pandas series."
      ],
      "metadata": {
        "id": "nMGUfPjljEhP"
      }
    },
    {
      "cell_type": "markdown",
      "source": [
        "### Activity 4: Calculating Mean, Min, and Max\n",
        "\n",
        "You can calculate the mean, minimum, and maximum values in a Pandas Series using the `mean()`, `min()`, and `max()` functions."
      ],
      "metadata": {
        "id": "zEXAg3Y0iMcg"
      }
    },
    {
      "cell_type": "code",
      "source": [
        "#Calculate the average number of pages in the book_pages Series.\n",
        "print(book_pages.mean())"
      ],
      "metadata": {
        "id": "EupSQA0jiWAv"
      },
      "execution_count": null,
      "outputs": []
    },
    {
      "cell_type": "code",
      "source": [
        "#Find the minimum and maximum number of pages in the book_pages Series.\n",
        "print(book_pages.min())\n",
        "print(book_pages.max())"
      ],
      "metadata": {
        "id": "zINnQBLVibe7"
      },
      "execution_count": null,
      "outputs": []
    },
    {
      "cell_type": "markdown",
      "source": [
        "\n",
        "###Activity 5: Viewing specific data using `head()` and `tail()` Functions\n",
        "\n",
        "To view the first few or the last few items in a Pandas Series, use the `head()` and `tail()` functions.\n",
        "\n",
        "Sometimes instead of looking at the full dataset, we just want to look at the first few rows or the last few rows of the dataset. In such cases, we can use the `head()` and `tail()` function.\n",
        "\n",
        "The `head()` function shows the first five and the `tail()` function shows the last five items in a Pandas series by default.\n"
      ],
      "metadata": {
        "id": "OT1m2WiWijo0"
      }
    },
    {
      "cell_type": "code",
      "source": [
        "#Print the first 5 items in the book_pages Series using the head() function.\n",
        "book_pages.head()"
      ],
      "metadata": {
        "id": "2JDrWqMvi0g6"
      },
      "execution_count": null,
      "outputs": []
    },
    {
      "cell_type": "code",
      "source": [
        "#Print the last 5 items in the book_pages Series using the tail() function.\n",
        "book_pages.tail()"
      ],
      "metadata": {
        "id": "jkkjhsHti6b9"
      },
      "execution_count": null,
      "outputs": []
    },
    {
      "cell_type": "markdown",
      "source": [
        "You can also specify the number of items to display."
      ],
      "metadata": {
        "id": "v2_c9wbXjZLF"
      }
    },
    {
      "cell_type": "code",
      "source": [
        " #Print the first 8 items in the book_pages Series using the head() function.\n",
        "book_pages.head(7)"
      ],
      "metadata": {
        "id": "ygS_Jk1-jb_d"
      },
      "execution_count": null,
      "outputs": []
    },
    {
      "cell_type": "markdown",
      "source": [
        "### Activity 6: The `head()` & `tail()` Functions With Negative Inputs\n",
        "\n",
        "Let `pd_series` be a Pandas series which contains `N` number of elements. Let `n` be some positive integer such that `n < N`.\n",
        "\n",
        "The `pd_series.head(-n)` operation will return the **first** `N - n` items contained in the `pd_series`.\n"
      ],
      "metadata": {
        "id": "AnW_0vwYmxKP"
      }
    },
    {
      "cell_type": "code",
      "source": [
        "# 'head()' with negative input.\n",
        "book_pages.head(-5).tail(1)"
      ],
      "metadata": {
        "id": "iXKDy94mm0SF"
      },
      "execution_count": null,
      "outputs": []
    },
    {
      "cell_type": "markdown",
      "source": [
        "The `pd_series.tail(-n)` operation will return the **last** `N - n` items contained in the `pd_series`."
      ],
      "metadata": {
        "id": "fIDF2k0pm3ce"
      }
    },
    {
      "cell_type": "code",
      "source": [
        "# 'tail()' with negative input.\n",
        "book_pages.tail(-5)"
      ],
      "metadata": {
        "id": "RIMS5bMpm5mI"
      },
      "execution_count": null,
      "outputs": []
    },
    {
      "cell_type": "markdown",
      "source": [
        "### Activity 7: Indexing a Pandas Series\n",
        "Indexing a Pandas Series is similar to indexing a Python list or a NumPy array.\n",
        "\n",
        "**Syntax:** `pandas_series[start_index:end_index:step_size]`"
      ],
      "metadata": {
        "id": "Fi2ibfn0jknb"
      }
    },
    {
      "cell_type": "code",
      "source": [
        "book_pages"
      ],
      "metadata": {
        "id": "pjeSKki_ftJp"
      },
      "execution_count": null,
      "outputs": []
    },
    {
      "cell_type": "code",
      "source": [
        "book_pages[10]"
      ],
      "metadata": {
        "colab": {
          "base_uri": "https://localhost:8080/"
        },
        "id": "Gij13Ummfwyq",
        "outputId": "c410d1dd-f22a-41ac-e539-99c1a04d17f3"
      },
      "execution_count": null,
      "outputs": [
        {
          "output_type": "execute_result",
          "data": {
            "text/plain": [
              "294"
            ]
          },
          "metadata": {},
          "execution_count": 45
        }
      ]
    },
    {
      "cell_type": "code",
      "source": [
        "# Retrieve items with indices ranging from 5 to 10\n",
        "book_pages[5:11]"
      ],
      "metadata": {
        "id": "bA1FXx41jkGS"
      },
      "execution_count": null,
      "outputs": []
    },
    {
      "cell_type": "code",
      "source": [
        "#Print the items ranging from indices 8 to 15.\n",
        "book_pages[8:16:2]\n"
      ],
      "metadata": {
        "id": "SzrJxjILjwFG"
      },
      "execution_count": null,
      "outputs": []
    },
    {
      "cell_type": "markdown",
      "source": [
        "### Activity 8: Using the `mode()` Function\n",
        "To find the most frequently occurring values in a Pandas Series, use the `mode()` function."
      ],
      "metadata": {
        "id": "x7ZzIqX6j9lz"
      }
    },
    {
      "cell_type": "code",
      "source": [
        "#Compute the modal value in the book_pages Series.\n",
        "book_pages.mode()"
      ],
      "metadata": {
        "id": "JpyURHGRkCXW"
      },
      "execution_count": null,
      "outputs": []
    }
  ]
}