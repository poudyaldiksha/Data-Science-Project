{
  "nbformat": 4,
  "nbformat_minor": 0,
  "metadata": {
    "colab": {
      "provenance": []
    },
    "kernelspec": {
      "name": "python3",
      "display_name": "Python 3"
    },
    "language_info": {
      "name": "python"
    }
  },
  "cells": [
    {
      "cell_type": "markdown",
      "source": [
        "# Lesson 2: Variables and Data-types,`print() Function`, `input() Function`,Type casting, While loops , Infinite While loop"
      ],
      "metadata": {
        "id": "X9r0Lu03hudX"
      }
    },
    {
      "cell_type": "markdown",
      "source": [
        "#### Activity 1: Variables And Data-Types\n",
        "\n",
        "**Variables:** Names that you can assign values to, allowing you to\n",
        "reuse them later on.\n",
        "\n",
        "\n",
        "\n",
        "**Python Identifiers**\n",
        "\n",
        "Python identifiers are names used to identify variables, functions, classes, modules, and other objects in Python code. Here are some key points about Python identifiers:\n",
        "\n",
        "**Rules for naming variables:**\n",
        "• Have to start with a letters `a-z, A-Z or underscore (_)`\n",
        "\n",
        "• No special characters are allowed\n",
        "\n",
        "• Can't contain spaces\n",
        "\n",
        "• Can't be Python keywords\n",
        "\n",
        "• Are case sensitive\n",
        "\n",
        "As a good practice, name a variable in such a way that it reflects the nature of the value stored in it.\n",
        "\n",
        "\n",
        "**What are data-types in Python?**\n",
        "\n",
        "\n",
        "• **Integer (INT):** Number without decimal points\n",
        "\n",
        "• **Floating Point Number:** Number having digits after decimal points\n",
        "\n",
        "• **String:** Value enclosed between `single(' ')` or` doube quotes(\" \")`\n",
        "\n",
        "• **Boolean:** Either True or False values\n",
        "\n",
        "\n",
        "\n",
        "**NOTE:**\n",
        "<font color=\"Green\">\n",
        "<ol><li>The `T` in `True` and `F` in `False` must be capital because Python is case-sensitive.</li>\n",
        "\n",
        "<li> A variable can store only one value at a time.</li>\n",
        "</font></ol>\n",
        "\n",
        "Now, let's practice Python variables by storing the various information\n",
        "\n",
        "\n"
      ],
      "metadata": {
        "id": "Rb5fTf-D_a5h"
      }
    },
    {
      "cell_type": "code",
      "source": [
        "a = 6"
      ],
      "metadata": {
        "id": "m9unnbo16WJf"
      },
      "execution_count": null,
      "outputs": []
    },
    {
      "cell_type": "code",
      "source": [
        "id(a)"
      ],
      "metadata": {
        "colab": {
          "base_uri": "https://localhost:8080/"
        },
        "id": "Ks3BXvC6DYZ2",
        "outputId": "87222ce8-0b18-4923-c72d-25d0baad9f75"
      },
      "execution_count": null,
      "outputs": [
        {
          "output_type": "execute_result",
          "data": {
            "text/plain": [
              "137608840642960"
            ]
          },
          "metadata": {},
          "execution_count": 11
        }
      ]
    },
    {
      "cell_type": "code",
      "source": [
        "a = 10"
      ],
      "metadata": {
        "id": "xgK4diUs9Fap"
      },
      "execution_count": null,
      "outputs": []
    },
    {
      "cell_type": "code",
      "source": [
        "a"
      ],
      "metadata": {
        "colab": {
          "base_uri": "https://localhost:8080/"
        },
        "id": "kj6WCCTwCod4",
        "outputId": "400643e3-8735-4c5c-f0d5-dcae0035b1ff"
      },
      "execution_count": null,
      "outputs": [
        {
          "output_type": "execute_result",
          "data": {
            "text/plain": [
              "10"
            ]
          },
          "metadata": {},
          "execution_count": 3
        }
      ]
    },
    {
      "cell_type": "code",
      "source": [
        "a = \" hey\""
      ],
      "metadata": {
        "id": "tRP4wMvzDjem"
      },
      "execution_count": null,
      "outputs": []
    },
    {
      "cell_type": "code",
      "source": [
        "a"
      ],
      "metadata": {
        "colab": {
          "base_uri": "https://localhost:8080/",
          "height": 35
        },
        "id": "j7PZNvesDl1d",
        "outputId": "10b9f185-0abb-41a5-a216-04c1a52837fa"
      },
      "execution_count": null,
      "outputs": [
        {
          "output_type": "execute_result",
          "data": {
            "text/plain": [
              "' hey'"
            ],
            "application/vnd.google.colaboratory.intrinsic+json": {
              "type": "string"
            }
          },
          "metadata": {},
          "execution_count": 13
        }
      ]
    },
    {
      "cell_type": "code",
      "source": [
        "b = 6"
      ],
      "metadata": {
        "id": "fHOpB43hC5GE"
      },
      "execution_count": null,
      "outputs": []
    },
    {
      "cell_type": "code",
      "source": [
        "id(b)"
      ],
      "metadata": {
        "colab": {
          "base_uri": "https://localhost:8080/"
        },
        "id": "jG8kNw3FC7S1",
        "outputId": "86242c68-d02a-44ec-fb32-135b19271df0"
      },
      "execution_count": null,
      "outputs": [
        {
          "output_type": "execute_result",
          "data": {
            "text/plain": [
              "137608840642960"
            ]
          },
          "metadata": {},
          "execution_count": 5
        }
      ]
    },
    {
      "cell_type": "code",
      "source": [
        "c = 6"
      ],
      "metadata": {
        "id": "8GDfXXCfDAU1"
      },
      "execution_count": null,
      "outputs": []
    },
    {
      "cell_type": "code",
      "source": [
        "id(c)"
      ],
      "metadata": {
        "colab": {
          "base_uri": "https://localhost:8080/"
        },
        "id": "mPh3W6sTDCdq",
        "outputId": "46dce0de-ded2-4290-b22d-996cd5f8e3bf"
      },
      "execution_count": null,
      "outputs": [
        {
          "output_type": "execute_result",
          "data": {
            "text/plain": [
              "137608840642960"
            ]
          },
          "metadata": {},
          "execution_count": 7
        }
      ]
    },
    {
      "cell_type": "code",
      "source": [
        "d = 3 * 2"
      ],
      "metadata": {
        "id": "_7jM_g1ODQsi"
      },
      "execution_count": null,
      "outputs": []
    },
    {
      "cell_type": "code",
      "source": [
        "id(d)"
      ],
      "metadata": {
        "colab": {
          "base_uri": "https://localhost:8080/"
        },
        "id": "MTel83oSDT0C",
        "outputId": "5dab0530-ab77-4e07-f634-7ec49841e34d"
      },
      "execution_count": null,
      "outputs": [
        {
          "output_type": "execute_result",
          "data": {
            "text/plain": [
              "137608840642960"
            ]
          },
          "metadata": {},
          "execution_count": 9
        }
      ]
    },
    {
      "cell_type": "code",
      "source": [
        "A = 23"
      ],
      "metadata": {
        "id": "eykBqxjuVxb6"
      },
      "execution_count": null,
      "outputs": []
    },
    {
      "cell_type": "code",
      "source": [
        "abc123 = 10"
      ],
      "metadata": {
        "id": "qRpiSYTZVYKJ"
      },
      "execution_count": null,
      "outputs": []
    },
    {
      "cell_type": "code",
      "source": [
        "e123abc = 1819"
      ],
      "metadata": {
        "id": "8STRqBtLDtaE"
      },
      "execution_count": null,
      "outputs": []
    },
    {
      "cell_type": "code",
      "source": [
        "abc = 453"
      ],
      "metadata": {
        "id": "M23DqCNOVaDx"
      },
      "execution_count": null,
      "outputs": []
    },
    {
      "cell_type": "code",
      "source": [
        "_abc = 987"
      ],
      "metadata": {
        "id": "8ntPyRF7Vcmq"
      },
      "execution_count": null,
      "outputs": []
    },
    {
      "cell_type": "code",
      "source": [
        "ABC = 767"
      ],
      "metadata": {
        "id": "56Mkbx0PVfAe"
      },
      "execution_count": null,
      "outputs": []
    },
    {
      "cell_type": "code",
      "source": [
        "agh_ = 10"
      ],
      "metadata": {
        "id": "b-_Z9aYYD1mU"
      },
      "execution_count": null,
      "outputs": []
    },
    {
      "cell_type": "code",
      "source": [
        "a_b = 10"
      ],
      "metadata": {
        "id": "j77h5Xm7D8mI"
      },
      "execution_count": null,
      "outputs": []
    },
    {
      "cell_type": "code",
      "source": [
        "a = 5"
      ],
      "metadata": {
        "id": "rAUgaA4N8HKZ"
      },
      "execution_count": null,
      "outputs": []
    },
    {
      "cell_type": "code",
      "source": [
        "false  = 78"
      ],
      "metadata": {
        "id": "V7E9bbQhEBfH"
      },
      "execution_count": null,
      "outputs": []
    },
    {
      "cell_type": "code",
      "source": [
        "# not valid variable names:\n",
        "# 123abc\n",
        "# abc@\n",
        "# for\n",
        "# a b"
      ],
      "metadata": {
        "id": "b9joZaDbVnRD"
      },
      "execution_count": null,
      "outputs": []
    },
    {
      "cell_type": "code",
      "source": [
        "help(\"keywords\")"
      ],
      "metadata": {
        "id": "w8nr0jJ49WNt",
        "colab": {
          "base_uri": "https://localhost:8080/"
        },
        "outputId": "092d4d17-349d-4a34-b9f0-3fb44ec43043"
      },
      "execution_count": null,
      "outputs": [
        {
          "output_type": "stream",
          "name": "stdout",
          "text": [
            "\n",
            "Here is a list of the Python keywords.  Enter any keyword to get more help.\n",
            "\n",
            "False               class               from                or\n",
            "None                continue            global              pass\n",
            "True                def                 if                  raise\n",
            "and                 del                 import              return\n",
            "as                  elif                in                  try\n",
            "assert              else                is                  while\n",
            "async               except              lambda              with\n",
            "await               finally             nonlocal            yield\n",
            "break               for                 not                 \n",
            "\n"
          ]
        }
      ]
    },
    {
      "cell_type": "code",
      "source": [
        "# Activity: Create 4 different variables and store the  name, age,\n",
        "#Gender(True for female, False for male)and time right now in the variables.\n",
        "\n",
        "# 1. Store a string value in a variable\n",
        "name = \"John\"\n",
        "\n",
        "\n",
        "# 2. Store an integer value in a variable.\n",
        "\n",
        "age = 24\n",
        "\n",
        "# 3. Store a float-point number in a variable.\n",
        "\n",
        "\n",
        "time = 9.18\n",
        "\n",
        "# 4. Store a boolean value in a number.\n",
        "# Python can also store a boolean value, i.e., either True or False.\n",
        "# The 'Yes' or 'No' values are generally represented as True or False in Python. It cannot understand Yes or No.\n",
        "\n",
        "gender = False\n",
        "\n",
        "# If we run the code cell, we won't get any output. But the values will be assigned to these 4 variables."
      ],
      "metadata": {
        "id": "h6pW_gqn_aXc"
      },
      "execution_count": null,
      "outputs": []
    },
    {
      "cell_type": "markdown",
      "source": [
        "**Function**: to do a task\n",
        "\n",
        "1) Pre defined function/ ready made function\n",
        "2) User defined functions\n"
      ],
      "metadata": {
        "id": "BE5PsqcY-5z9"
      }
    },
    {
      "cell_type": "markdown",
      "source": [
        "#### Activity 2: The `print()` Function\n",
        "\n",
        "The print function is one of the most commonly used functions in Python. It allows you to display text and variables on the screen.\n",
        "\n",
        "Let's print `\"Hello Earth\"` message using the `print()` function. The text `\"Hello Earth\"` is an input to the `print()` function. The output would also be the same.\n",
        "\n",
        "When using the `print()` function, enclose the text that you need to print either in single-quotes (`''`) or in double-quotes (`\"\"`).\n",
        "\n",
        "To run the code, either click on the `Play` button on the left-hand side of the code cell or press the `shift` and `enter` keys together while you are active in the code cell."
      ],
      "metadata": {
        "id": "R2I3b_cuuuLX"
      }
    },
    {
      "cell_type": "code",
      "source": [
        "# Activity: Print \"artificial intelligence\" message using the 'print()' function.\n",
        "\n",
        "print(\" artificial intelligence\")"
      ],
      "metadata": {
        "id": "Gv4nt9zXvG7Y",
        "colab": {
          "base_uri": "https://localhost:8080/"
        },
        "outputId": "586d4615-786f-4bcd-c3a8-4de9ab8bbae7"
      },
      "execution_count": null,
      "outputs": [
        {
          "output_type": "stream",
          "name": "stdout",
          "text": [
            " artificial intelligence\n"
          ]
        }
      ]
    },
    {
      "cell_type": "code",
      "source": [
        "#Activity: Print above created variables( from activity 1 )\n",
        "print(name, age, time, gender)"
      ],
      "metadata": {
        "id": "PkLg_NPqIv4W",
        "colab": {
          "base_uri": "https://localhost:8080/"
        },
        "outputId": "de57515b-6d09-48da-8747-8db089c06b2c"
      },
      "execution_count": null,
      "outputs": [
        {
          "output_type": "stream",
          "name": "stdout",
          "text": [
            "John 24 9.18 False\n"
          ]
        }
      ]
    },
    {
      "cell_type": "code",
      "source": [
        "print(\"name\", \"age\", \"time\", \"gender\")"
      ],
      "metadata": {
        "colab": {
          "base_uri": "https://localhost:8080/"
        },
        "id": "TlqmVRJOE9Fe",
        "outputId": "9f01b4a5-57f3-421b-cdda-6c0b8c6918bc"
      },
      "execution_count": null,
      "outputs": [
        {
          "output_type": "stream",
          "name": "stdout",
          "text": [
            "name age time gender\n"
          ]
        }
      ]
    },
    {
      "cell_type": "markdown",
      "source": [
        "\n",
        "\n",
        "*You can print multiple entities using the `print()` function by separating them with a comma.*\n",
        "\n",
        "**NOTE:**\n",
        "<font color=\"green\"><ul><li>The text written after the hash (`#`) symbol is not a code. </li><li>Anything written after `#` is read as a plain text by Python. Such plain texts are called **comments** written by a coder to briefly explain the code.</li><li> A syntax is like a grammar of a programing language. It is a standard protocol that must be followed while writing code.</li><li>We can escape characters in python by using backslash </li></font></ul>\n"
      ],
      "metadata": {
        "id": "B_YpmwzFEDVz"
      }
    },
    {
      "cell_type": "code",
      "source": [
        "# simple print statement\n",
        "print(\"Hello\",\"how\",\"are\",\"you\")"
      ],
      "metadata": {
        "colab": {
          "base_uri": "https://localhost:8080/"
        },
        "id": "MursKuZ4J2hw",
        "outputId": "069a6d96-594c-4280-940a-92062853cea6"
      },
      "execution_count": null,
      "outputs": [
        {
          "output_type": "stream",
          "name": "stdout",
          "text": [
            "Hello how are you\n"
          ]
        }
      ]
    },
    {
      "cell_type": "code",
      "source": [
        "print(\"nagpur's orange\")"
      ],
      "metadata": {
        "id": "wiJY8DEFLPNA",
        "colab": {
          "base_uri": "https://localhost:8080/"
        },
        "outputId": "6ac81fc6-b8e8-4714-aeb5-ea4bb44fd8b6"
      },
      "execution_count": null,
      "outputs": [
        {
          "output_type": "stream",
          "name": "stdout",
          "text": [
            "nagpur's orange\n"
          ]
        }
      ]
    },
    {
      "cell_type": "code",
      "source": [
        "#print('nagpur's orange') it throws error since 3 single quotations"
      ],
      "metadata": {
        "id": "KbJckedfAC5b"
      },
      "execution_count": null,
      "outputs": []
    },
    {
      "cell_type": "code",
      "source": [
        "print('nagpur \"orange\"')"
      ],
      "metadata": {
        "id": "39T_9mChsk1K",
        "colab": {
          "base_uri": "https://localhost:8080/"
        },
        "outputId": "563cbf67-2d4b-4f10-8592-97fa2bc2d790"
      },
      "execution_count": null,
      "outputs": [
        {
          "output_type": "stream",
          "name": "stdout",
          "text": [
            "nagpur \"orange\"\n"
          ]
        }
      ]
    },
    {
      "cell_type": "code",
      "source": [
        "print(\"nagpur\\'s \\\"orange\\\"\")"
      ],
      "metadata": {
        "id": "KMAckyWxsmaG",
        "colab": {
          "base_uri": "https://localhost:8080/"
        },
        "outputId": "5a45a4f7-c2ab-44c4-bb1e-612d87d6aca9"
      },
      "execution_count": null,
      "outputs": [
        {
          "output_type": "stream",
          "name": "stdout",
          "text": [
            "nagpur's \"orange\"\n"
          ]
        }
      ]
    },
    {
      "cell_type": "markdown",
      "source": [
        "**Using the sep Keyword**\n",
        "\n",
        "The sep keyword in the print function specifies the separator between multiple arguments. By default, it is a space."
      ],
      "metadata": {
        "id": "wTPkzoSKKIJv"
      }
    },
    {
      "cell_type": "code",
      "source": [
        "# using 'sep' keyword\n",
        "print(\"Hello\",\"how\",\"are\",\"you\")"
      ],
      "metadata": {
        "colab": {
          "base_uri": "https://localhost:8080/"
        },
        "id": "s-DkstRhF6mh",
        "outputId": "bccd0cc1-3b2b-43cf-ebcb-6142c7869534"
      },
      "execution_count": null,
      "outputs": [
        {
          "output_type": "stream",
          "name": "stdout",
          "text": [
            "Hello how are you\n"
          ]
        }
      ]
    },
    {
      "cell_type": "code",
      "source": [
        "# using 'sep' keyword\n",
        "print(\"Hello\",\"how\",\"are\",\"you\",sep=\"&&&&\")"
      ],
      "metadata": {
        "colab": {
          "base_uri": "https://localhost:8080/"
        },
        "id": "25N8HynJKUR5",
        "outputId": "a00cbe0b-27f8-4dbc-ea76-fdf2e6cf63d6"
      },
      "execution_count": null,
      "outputs": [
        {
          "output_type": "stream",
          "name": "stdout",
          "text": [
            "Hello&&&&how&&&&are&&&&you\n"
          ]
        }
      ]
    },
    {
      "cell_type": "code",
      "source": [
        "#Use the sep keyword to print a date in the format DD-MM-YYYY.\n",
        "print(\"26\",\"06\",\"2024\",sep=\"-\")"
      ],
      "metadata": {
        "colab": {
          "base_uri": "https://localhost:8080/"
        },
        "id": "8NVEX36wL6D9",
        "outputId": "1a0e2286-2514-4786-9085-ff21c9ad06d9"
      },
      "execution_count": null,
      "outputs": [
        {
          "output_type": "stream",
          "name": "stdout",
          "text": [
            "26-06-2024\n"
          ]
        }
      ]
    },
    {
      "cell_type": "markdown",
      "source": [
        "**Newline Character `\\n`**\n",
        "The newline character `\\n` is used to insert a new line in the output."
      ],
      "metadata": {
        "id": "ToY_aoACLZZ4"
      }
    },
    {
      "cell_type": "code",
      "source": [
        "# newline character (\\n)\n",
        "print(\"c:docs\\nagul\")"
      ],
      "metadata": {
        "colab": {
          "base_uri": "https://localhost:8080/"
        },
        "id": "zr3kG2n1LcTE",
        "outputId": "656f75e0-f0be-4511-9b7f-28cf854570a4"
      },
      "execution_count": null,
      "outputs": [
        {
          "output_type": "stream",
          "name": "stdout",
          "text": [
            "c:docs\n",
            "agul\n"
          ]
        }
      ]
    },
    {
      "cell_type": "code",
      "source": [
        "# try more examples using \\n\n",
        "print(\"c:docs\\\\nagul\")"
      ],
      "metadata": {
        "colab": {
          "base_uri": "https://localhost:8080/"
        },
        "id": "cmSICzsYMP4h",
        "outputId": "780abbcf-ba89-45f3-9bdf-c2119759c2fd"
      },
      "execution_count": null,
      "outputs": [
        {
          "output_type": "stream",
          "name": "stdout",
          "text": [
            "c:docs\\nagul\n"
          ]
        }
      ]
    },
    {
      "cell_type": "code",
      "source": [
        "# r - raw string\n",
        "print(r\"c:docs\\nagul\\n\\n\")"
      ],
      "metadata": {
        "colab": {
          "base_uri": "https://localhost:8080/"
        },
        "id": "YhuMZU6_CROb",
        "outputId": "f0f0dcec-cb63-4f7b-d96e-18a6800e191f"
      },
      "execution_count": null,
      "outputs": [
        {
          "output_type": "stream",
          "name": "stdout",
          "text": [
            "c:docs\\nagul\\n\\n\n"
          ]
        }
      ]
    },
    {
      "cell_type": "markdown",
      "source": [
        "**Using the end Keyword**\n",
        "\n",
        "The end keyword in the print function specifies what to print at the end. By default, it is a newline character (\\n)."
      ],
      "metadata": {
        "id": "fxPfBedgKcj5"
      }
    },
    {
      "cell_type": "code",
      "source": [
        "# using 'end' keyword\n",
        "print(\"hello\")\n",
        "print(\"how\")\n",
        "print(\"are\")\n",
        "print(\"you\")"
      ],
      "metadata": {
        "colab": {
          "base_uri": "https://localhost:8080/"
        },
        "id": "88Gcry7lKgEy",
        "outputId": "25cfdac1-d5ca-41c3-816f-e3ade748beb4"
      },
      "execution_count": null,
      "outputs": [
        {
          "output_type": "stream",
          "name": "stdout",
          "text": [
            "hello\n",
            "how\n",
            "are\n",
            "you\n"
          ]
        }
      ]
    },
    {
      "cell_type": "code",
      "source": [
        "# Use the end keyword to print a sentence in a single line using two print statements.\n",
        "print(\"hello\", end=\"*\")\n",
        "print(\"how\",end=\"*\")\n",
        "print(\"are\",end=\"*\")\n",
        "print(\"you\")"
      ],
      "metadata": {
        "colab": {
          "base_uri": "https://localhost:8080/"
        },
        "id": "PpHYWsMkMDTf",
        "outputId": "d7a18496-4378-4321-cd94-b526fa01bfc6"
      },
      "execution_count": null,
      "outputs": [
        {
          "output_type": "stream",
          "name": "stdout",
          "text": [
            "hello*how*are*you\n"
          ]
        }
      ]
    },
    {
      "cell_type": "markdown",
      "source": [
        "**Additional Tips for Using the print Function**\n",
        "\n",
        "You can combine sep and end keywords for more complex output formatting.\n",
        "The print function can handle multiple arguments and will concatenate them with spaces unless specified otherwise."
      ],
      "metadata": {
        "id": "Q1Zx2gtFMalV"
      }
    },
    {
      "cell_type": "code",
      "source": [
        "# Combining sep and end\n",
        "print(\"Python\", \"is\", \"awesome\", sep=\"%%\", end=\"@\" )\n",
        "print(\"python\",\"is\",\"easy\")\n"
      ],
      "metadata": {
        "colab": {
          "base_uri": "https://localhost:8080/"
        },
        "id": "wCORcQhuMg6d",
        "outputId": "a618aca7-f659-4fd2-8a85-3056f1514872"
      },
      "execution_count": null,
      "outputs": [
        {
          "output_type": "stream",
          "name": "stdout",
          "text": [
            "Python%%is%%awesome@python is easy\n"
          ]
        }
      ]
    },
    {
      "cell_type": "markdown",
      "source": [
        "#### Activity 3: The `input()` Function\n",
        "\n",
        "To take input from a user in Python, you can use another function called `input()`.\n",
        "\n",
        "\n",
        " Inside the `input()` function, you can also write a message to the player to display the message before taking the required input.\n",
        "\n",
        " **Note**\n",
        "The `input()` function takes input in the form of string."
      ],
      "metadata": {
        "id": "nuVkPvIEsER6"
      }
    },
    {
      "cell_type": "code",
      "source": [
        "#Activity: Take input from a user and store it in the variable.\n",
        "name_1 = input()\n",
        "name_1\n",
        "\n"
      ],
      "metadata": {
        "id": "dV67WzlCsT9P",
        "colab": {
          "base_uri": "https://localhost:8080/",
          "height": 53
        },
        "outputId": "ecfc431d-cfaf-412c-faf4-f5e64a32df69"
      },
      "execution_count": null,
      "outputs": [
        {
          "name": "stdout",
          "output_type": "stream",
          "text": [
            "kiran\n"
          ]
        },
        {
          "output_type": "execute_result",
          "data": {
            "text/plain": [
              "'kiran'"
            ],
            "application/vnd.google.colaboratory.intrinsic+json": {
              "type": "string"
            }
          },
          "metadata": {},
          "execution_count": 47
        }
      ]
    },
    {
      "cell_type": "code",
      "source": [
        "n = input(\"enter your name:\")\n",
        "n"
      ],
      "metadata": {
        "colab": {
          "base_uri": "https://localhost:8080/",
          "height": 53
        },
        "id": "XtFLq7mKHmC7",
        "outputId": "df12a395-2da1-4eab-af05-5dc58821b034"
      },
      "execution_count": null,
      "outputs": [
        {
          "name": "stdout",
          "output_type": "stream",
          "text": [
            "enter your name:kiran\n"
          ]
        },
        {
          "output_type": "execute_result",
          "data": {
            "text/plain": [
              "'kiran'"
            ],
            "application/vnd.google.colaboratory.intrinsic+json": {
              "type": "string"
            }
          },
          "metadata": {},
          "execution_count": 48
        }
      ]
    },
    {
      "cell_type": "markdown",
      "source": [
        "#### Activity 4: Combining `input()` with `print()`\n",
        "You can use the print function to create a more interactive and user-friendly experience by combining it with the input function."
      ],
      "metadata": {
        "id": "lyIGOivveGHT"
      }
    },
    {
      "cell_type": "code",
      "source": [
        "# Taking multiple inputs\n",
        "\n",
        "name_2 = input(\"enter your name:\")\n",
        "age_2 = input(\"enter your age\")\n",
        "print(\"hello\",name_2,\"you are\", age_2,\"years old\")"
      ],
      "metadata": {
        "colab": {
          "base_uri": "https://localhost:8080/"
        },
        "id": "ZoWJQATle0a0",
        "outputId": "996ce114-19c9-4704-e807-2f60831fe4df"
      },
      "execution_count": null,
      "outputs": [
        {
          "output_type": "stream",
          "name": "stdout",
          "text": [
            "enter your name:rani\n",
            "enter your age26\n",
            "hello rani you are 26 years old\n"
          ]
        }
      ]
    },
    {
      "cell_type": "markdown",
      "source": [
        "### Activity 5: Data-Type Conversion\n",
        "\n",
        "The `input()` function takes input in the form of string.\n",
        "\n",
        "You can check the data-type of a value using the `type()` function.\n",
        "If you need a different data type, you have to convert it."
      ],
      "metadata": {
        "id": "mllql0M_gz5K"
      }
    },
    {
      "cell_type": "code",
      "source": [
        "age = input(\"Enter your age: \")\n",
        "age\n",
        "age = int(age)"
      ],
      "metadata": {
        "colab": {
          "base_uri": "https://localhost:8080/"
        },
        "id": "oD0yJJ-oe4ry",
        "outputId": "8e5e982c-2d0b-469e-ca1c-ac4d921270ee"
      },
      "execution_count": null,
      "outputs": [
        {
          "name": "stdout",
          "output_type": "stream",
          "text": [
            "Enter your age: 56\n"
          ]
        }
      ]
    },
    {
      "cell_type": "code",
      "source": [
        "type(age)"
      ],
      "metadata": {
        "colab": {
          "base_uri": "https://localhost:8080/"
        },
        "id": "najh0sznDcsO",
        "outputId": "285715da-aed9-4bdf-b07f-6287f9ec7dce"
      },
      "execution_count": null,
      "outputs": [
        {
          "output_type": "execute_result",
          "data": {
            "text/plain": [
              "int"
            ]
          },
          "metadata": {},
          "execution_count": 53
        }
      ]
    },
    {
      "cell_type": "markdown",
      "source": [
        "You can see that the `type()` function returned `str` as an output. The `str` keyword denotes that a value is a string.\n",
        "\n",
        "Similarly,\n",
        "\n",
        "- `int` denotes an integer value.\n",
        "\n",
        "- `float` denotes a floating-point number.\n",
        "\n",
        "- `bool` denotes a boolean value.\n",
        "\n",
        "The `str` output by the `type()` function confirms that the `input()` function indeed takes an input value in the form of a string data-type.\n",
        "\n",
        "But we want an integer input. So, we can use the `int()` function. It converts a value into an integer value.\n",
        "\n",
        "Similarly, to convert any data-type into\n",
        "\n",
        "- a string, use the `str()` function.\n",
        "\n",
        "- a floating-point number, use the `float()` function.\n",
        "\n",
        "- a boolean, use the `bool()` function."
      ],
      "metadata": {
        "id": "gpHC4ljdjXyI"
      }
    },
    {
      "cell_type": "markdown",
      "source": [
        "**NOTE:**\n",
        "\n",
        "Type Casting: Always remember to convert the input to the required data type if you need to perform arithmetic operations."
      ],
      "metadata": {
        "id": "-JwjVVZSfVN9"
      }
    },
    {
      "cell_type": "code",
      "source": [
        "bool(false)"
      ],
      "metadata": {
        "colab": {
          "base_uri": "https://localhost:8080/"
        },
        "id": "MKNZxy0DJ81P",
        "outputId": "43a4d32a-cacb-4435-d144-d6daa34390e4"
      },
      "execution_count": null,
      "outputs": [
        {
          "output_type": "execute_result",
          "data": {
            "text/plain": [
              "True"
            ]
          },
          "metadata": {},
          "execution_count": 70
        }
      ]
    },
    {
      "cell_type": "code",
      "source": [
        "bool(0)"
      ],
      "metadata": {
        "colab": {
          "base_uri": "https://localhost:8080/"
        },
        "id": "ccSErV_ZKB-L",
        "outputId": "847995e4-0293-4f32-f8f1-f55b75c682fa"
      },
      "execution_count": null,
      "outputs": [
        {
          "output_type": "execute_result",
          "data": {
            "text/plain": [
              "False"
            ]
          },
          "metadata": {},
          "execution_count": 71
        }
      ]
    },
    {
      "cell_type": "code",
      "source": [
        "bool(8)"
      ],
      "metadata": {
        "colab": {
          "base_uri": "https://localhost:8080/"
        },
        "id": "Z0LYhZIUKFYS",
        "outputId": "c055a67d-0e44-4666-b595-cb2091a139ef"
      },
      "execution_count": null,
      "outputs": [
        {
          "output_type": "execute_result",
          "data": {
            "text/plain": [
              "True"
            ]
          },
          "metadata": {},
          "execution_count": 72
        }
      ]
    },
    {
      "cell_type": "code",
      "source": [],
      "metadata": {
        "id": "ACcR00kvKKow"
      },
      "execution_count": null,
      "outputs": []
    },
    {
      "cell_type": "code",
      "source": [
        "# lets do arithmetic operation\n",
        "number= input(\"enter a number\")\n",
        "int(number)+ 10"
      ],
      "metadata": {
        "colab": {
          "base_uri": "https://localhost:8080/"
        },
        "id": "0GG9iqiTfMXY",
        "outputId": "a47edd56-a40a-4d9c-871a-4676d9aa95d8"
      },
      "execution_count": null,
      "outputs": [
        {
          "name": "stdout",
          "output_type": "stream",
          "text": [
            "enter a number88\n"
          ]
        },
        {
          "output_type": "execute_result",
          "data": {
            "text/plain": [
              "98"
            ]
          },
          "metadata": {},
          "execution_count": 55
        }
      ]
    },
    {
      "cell_type": "code",
      "source": [
        "# can be converted to integer with this method too\n",
        "number= int(input(\"enter a number\"))\n",
        "number+ 10"
      ],
      "metadata": {
        "colab": {
          "base_uri": "https://localhost:8080/"
        },
        "id": "lItiCFcmD-9Y",
        "outputId": "af874b16-a642-4d9f-860b-20ff6b99e333"
      },
      "execution_count": null,
      "outputs": [
        {
          "name": "stdout",
          "output_type": "stream",
          "text": [
            "enter a number78\n"
          ]
        },
        {
          "output_type": "execute_result",
          "data": {
            "text/plain": [
              "88"
            ]
          },
          "metadata": {},
          "execution_count": 56
        }
      ]
    },
    {
      "cell_type": "code",
      "source": [
        "#Activity : Write a program that asks for the user's first name and last name, then prints a greeting message.\n",
        "first_name = input(\"enter your name:\")\n",
        "last_name = input(\"enter surname:\")\n",
        "print(\"hello\",\"mr\",first_name,last_name)"
      ],
      "metadata": {
        "colab": {
          "base_uri": "https://localhost:8080/"
        },
        "id": "97cIcpGJfyIE",
        "outputId": "cf501c64-87e3-43fd-c842-814d4055e291"
      },
      "execution_count": null,
      "outputs": [
        {
          "output_type": "stream",
          "name": "stdout",
          "text": [
            "enter your name:jkdksf\n",
            "enter surname:jkj\n",
            "hello mr jkdksf jkj\n"
          ]
        }
      ]
    },
    {
      "cell_type": "code",
      "source": [
        "#Activity : Write a program that asks for two numbers and prints their sum.\n",
        "num1 = int(input(\"Enter the first number: \"))\n",
        "num2 = int(input(\"Enter the second number: \"))\n",
        "\n",
        "\n",
        "print(\"The sum of\", num1, \"and\", num2, \"is\", num1 + num2)"
      ],
      "metadata": {
        "id": "9f7U-TCJf8Lm"
      },
      "execution_count": null,
      "outputs": []
    },
    {
      "cell_type": "code",
      "source": [
        "#Activity : Create a program that asks for the user's birth year and calculates their age.\n",
        "birth_year = int(input(\"enter your birth year:\"))\n",
        "current_year = 2024\n",
        "age = current_year - birth_year\n",
        "print(\"you are\",age,\"years old\")"
      ],
      "metadata": {
        "colab": {
          "base_uri": "https://localhost:8080/"
        },
        "id": "295tBL0OgMGD",
        "outputId": "a9cb972f-d0a6-4acb-cfef-c4315e764bff"
      },
      "execution_count": null,
      "outputs": [
        {
          "output_type": "stream",
          "name": "stdout",
          "text": [
            "enter your birth year:1960\n",
            "you are 64 years old\n"
          ]
        }
      ]
    },
    {
      "cell_type": "code",
      "source": [
        "# write a program to increment a value by 1\n",
        "t = 1\n",
        "t = t + 1"
      ],
      "metadata": {
        "id": "DwNIMKrXmqBd"
      },
      "execution_count": null,
      "outputs": []
    },
    {
      "cell_type": "code",
      "source": [
        "t"
      ],
      "metadata": {
        "colab": {
          "base_uri": "https://localhost:8080/"
        },
        "id": "W0lECwRZJPVL",
        "outputId": "ebc8783e-cf0d-4290-b772-90ffe5321677"
      },
      "execution_count": null,
      "outputs": [
        {
          "output_type": "execute_result",
          "data": {
            "text/plain": [
              "2"
            ]
          },
          "metadata": {},
          "execution_count": 62
        }
      ]
    },
    {
      "cell_type": "code",
      "source": [
        "w = 1"
      ],
      "metadata": {
        "id": "HxthQ4MZJS7g"
      },
      "execution_count": null,
      "outputs": []
    },
    {
      "cell_type": "code",
      "source": [
        "w = w+500"
      ],
      "metadata": {
        "id": "MasbzYWXJVLO"
      },
      "execution_count": null,
      "outputs": []
    },
    {
      "cell_type": "code",
      "source": [
        "w"
      ],
      "metadata": {
        "colab": {
          "base_uri": "https://localhost:8080/"
        },
        "id": "ikmnWTGqJYeh",
        "outputId": "a273b876-a235-4081-a454-2341277ff00e"
      },
      "execution_count": null,
      "outputs": [
        {
          "output_type": "execute_result",
          "data": {
            "text/plain": [
              "504"
            ]
          },
          "metadata": {},
          "execution_count": 69
        }
      ]
    },
    {
      "cell_type": "code",
      "source": [
        "bool(True)"
      ],
      "metadata": {
        "colab": {
          "base_uri": "https://localhost:8080/"
        },
        "id": "emdgRYtZKYMR",
        "outputId": "77157c8e-f21d-4848-d86e-e0a7e57a0d23"
      },
      "execution_count": null,
      "outputs": [
        {
          "output_type": "execute_result",
          "data": {
            "text/plain": [
              "True"
            ]
          },
          "metadata": {},
          "execution_count": 73
        }
      ]
    },
    {
      "cell_type": "code",
      "source": [
        "bool(False)"
      ],
      "metadata": {
        "colab": {
          "base_uri": "https://localhost:8080/"
        },
        "id": "vHkbVTYFKa0m",
        "outputId": "ef794d66-d11f-443a-832d-4289697378d5"
      },
      "execution_count": null,
      "outputs": [
        {
          "output_type": "execute_result",
          "data": {
            "text/plain": [
              "False"
            ]
          },
          "metadata": {},
          "execution_count": 74
        }
      ]
    },
    {
      "cell_type": "code",
      "source": [
        "# Activity: Print \"Hello Everyone!\" 5 times without using loops\n",
        "print(\"Hello everyone\")\n",
        "print(\"Hello everyone\")\n",
        "print(\"Hello everyone\")\n",
        "print(\"Hello everyone\")\n",
        "print(\"Hello everyone\")"
      ],
      "metadata": {
        "colab": {
          "base_uri": "https://localhost:8080/"
        },
        "id": "o-YARRMjmxsF",
        "outputId": "b192c919-26a3-4342-9cf4-dc5d303294e1"
      },
      "execution_count": null,
      "outputs": [
        {
          "output_type": "stream",
          "name": "stdout",
          "text": [
            "Hello everyone\n",
            "Hello everyone\n",
            "Hello everyone\n",
            "Hello everyone\n",
            "Hello everyone\n"
          ]
        }
      ]
    },
    {
      "cell_type": "markdown",
      "source": [
        "### Activity 6: While Loops\n",
        "\n",
        "A while loop repeats a block of code as long as a condition is true.\n",
        "\n",
        "**While Loops:**\n",
        "<font color=\"green\"><ul><li>The While Loop runs on a condition. </li><li>As long as the condition is True,while loop will run endlessly.</li><li> The moment, condition becomes FALSE, the while loops stops.</li> </li></font></ul>\n",
        "\n",
        "**Syntax of `while` loop:**\n",
        "```python\n",
        "while condition:\n",
        "  #code\n",
        "```"
      ],
      "metadata": {
        "id": "rPyEgUYFml2g"
      }
    },
    {
      "cell_type": "code",
      "source": [
        "a = 8\n",
        "b = 9"
      ],
      "metadata": {
        "id": "6DoPqMdZLDEO"
      },
      "execution_count": null,
      "outputs": []
    },
    {
      "cell_type": "markdown",
      "source": [
        "**What is Indentation?**\n",
        "\n",
        "\n",
        "**Indentation** refers to the spaces or tabs used at the beginning of a line of code. In Python, ***indentation** is crucial because it defines the blocks of code. Unlike many other programming languages that use `braces {}` to define blocks of code, Python uses indentation.\n",
        "\n",
        "**Why is Indentation Important?**\n",
        "\n",
        "\n",
        "**Syntax Requirement:**\n",
        " In Python, proper indentation is required for the program to run. Without it, the interpreter will throw an error.\n",
        "\n",
        "**Code Readability:**\n",
        "Indentation helps in making the code more readable and organized. It visually represents the structure and flow of the code.\n",
        "\n",
        "**What are Indentation Rules?**\n",
        "\n",
        "\n",
        "**Consistency:** Use the same number of spaces or tabs for indentation throughout your code. Mixing spaces and tabs can cause errors.\n",
        "\n",
        "**Standard Practice:**\n",
        "- The standard practice is to use 4 spaces or 2 spaces for each level of indentation.\n",
        "- Indentation Levels: Each block of code that belongs to a control structure (like `if`, `for`, `while`, etc.) must be indented."
      ],
      "metadata": {
        "id": "CPuavccY1WOy"
      }
    },
    {
      "cell_type": "code",
      "source": [
        "#Activity: Increase the value stored in a variable to 5 using the 'while' loop.\n",
        "a = 1\n",
        "while a<=5:\n",
        "    print(a)\n",
        "    a = a + 1\n",
        "\n",
        "\n"
      ],
      "metadata": {
        "colab": {
          "base_uri": "https://localhost:8080/"
        },
        "id": "5Ye5zo5ipBQB",
        "outputId": "95adf1c8-c68f-4f90-ae21-060091567538"
      },
      "execution_count": null,
      "outputs": [
        {
          "output_type": "stream",
          "name": "stdout",
          "text": [
            "1\n",
            "2\n",
            "3\n",
            "4\n",
            "5\n"
          ]
        }
      ]
    },
    {
      "cell_type": "code",
      "source": [
        "a = 1\n",
        "while a<5:\n",
        "    print(a)\n",
        "    a = a + 1"
      ],
      "metadata": {
        "colab": {
          "base_uri": "https://localhost:8080/"
        },
        "id": "Wwi8pngGMMwl",
        "outputId": "b44af215-4b82-47dc-a0ac-04b021112f3c"
      },
      "execution_count": null,
      "outputs": [
        {
          "output_type": "stream",
          "name": "stdout",
          "text": [
            "1\n",
            "2\n",
            "3\n",
            "4\n"
          ]
        }
      ]
    },
    {
      "cell_type": "code",
      "source": [
        "# Activity: Print \"Hello Everyone!\" 5 times using loops\n",
        "i = 1\n",
        "while i<= 5:\n",
        "  print(\"Hello Everyone\")\n",
        "  i +=1 # i = i + 1"
      ],
      "metadata": {
        "colab": {
          "base_uri": "https://localhost:8080/"
        },
        "id": "FAc_9BIYpIRy",
        "outputId": "0789f4dd-01f6-4b51-d9e0-3087b42fb69c"
      },
      "execution_count": null,
      "outputs": [
        {
          "output_type": "stream",
          "name": "stdout",
          "text": [
            "Hello Everyone\n",
            "Hello Everyone\n",
            "Hello Everyone\n",
            "Hello Everyone\n",
            "Hello Everyone\n"
          ]
        }
      ]
    },
    {
      "cell_type": "markdown",
      "source": [
        "**How does the `while` loop work here?**\n",
        "\n",
        "1. Here, we have set the value stored in the `i` variable equal to `0`.\n",
        "\n",
        "2. To initiate the `while` loop, we are providing a condition to the loop by saying that:\n",
        "\n",
        "*While the value of the `i` variable is less than 100, keep running the loop.*\n",
        "\n",
        " The moment the value of the `i` variable reaches 100, stop the loop.</i></font>\n",
        "\n",
        "3. The code in the next line, i.e., `i = i + 1` will increase the value of `i` by `1` unit until the value of `a` reaches `100`.\n",
        "\n",
        "4. Initially, the `i = 0`, so the `while` loop will check if the statement `i < 100` is `True` or `False`. At this point, the statement, `i < 100` is `True`, so the value of the `i` variable increases by `1`.\n",
        "\n",
        "5. In the next turn, the value of the `i` variable will be `1`. Similarly, the `while` loop next time again will check whether the condition is `True` or `False`. This process will continue until the value of the `i` variable reaches `100`."
      ],
      "metadata": {
        "id": "KKNnR2JXpZ5V"
      }
    },
    {
      "cell_type": "code",
      "source": [
        "#Activity : Write a program that prints numbers 3,5,7,9,11 using a while loop.\n",
        "a = 3\n",
        "while a<=12:\n",
        "    print(a)\n",
        "    a = a + 2\n",
        "\n"
      ],
      "metadata": {
        "colab": {
          "base_uri": "https://localhost:8080/"
        },
        "id": "CljFeFwrk_wG",
        "outputId": "4ef73666-6278-4e0f-f800-75f9e1da2d93"
      },
      "execution_count": null,
      "outputs": [
        {
          "output_type": "stream",
          "name": "stdout",
          "text": [
            "3\n",
            "5\n",
            "7\n",
            "9\n",
            "11\n"
          ]
        }
      ]
    },
    {
      "cell_type": "markdown",
      "source": [
        "#### Activity 7: Infinite `while` Loops\n",
        "\n",
        "An infinite `while` loop is a never-ending `while` loop.\n",
        "\n",
        "It does not have any stopping condition. In other words, **the condition specified in an infinite `while` loop is always true.** To stop an infinite `while` loop, you have to manually stop it by interrupting the code execution.\n",
        "\n",
        "For example, the `while True` is a never-ending loop. Because the condition `True` is always true.\n",
        "\n",
        "e.g:\n",
        "```python\n",
        "while True:\n",
        "  //statements\n",
        "```\n",
        "\n",
        "Consider a variable `num` whose initial value is `0`. Say, if you try to increase the value stored in the `num` variable using the `while` loop, then the value stored in the `num` variable will continuously keep increasing unless you stop the loop by pressing the **Stop** button on the left-hand side of the code cell.\n",
        "\n",
        "**Note:** After interrupting the code execution, Python will throw `KeyboardInterrupt` error. Ignore it! It's nothing to worry about."
      ],
      "metadata": {
        "id": "rXeFcDGBshz3"
      }
    },
    {
      "cell_type": "code",
      "source": [
        "#Activity : See how an infinite 'loop' runs endlessly until the coder interrupts the code execution.\n",
        "#i = 1\n",
        "#while True:\n",
        "   # i = i + 1"
      ],
      "metadata": {
        "colab": {
          "base_uri": "https://localhost:8080/",
          "height": 198
        },
        "id": "0ulffMgAs8Vb",
        "outputId": "8f69e2ab-ef35-4d40-969c-8175076d892d"
      },
      "execution_count": null,
      "outputs": [
        {
          "output_type": "error",
          "ename": "KeyboardInterrupt",
          "evalue": "",
          "traceback": [
            "\u001b[0;31m---------------------------------------------------------------------------\u001b[0m",
            "\u001b[0;31mKeyboardInterrupt\u001b[0m                         Traceback (most recent call last)",
            "\u001b[0;32m<ipython-input-91-01f23985cf00>\u001b[0m in \u001b[0;36m<cell line: 3>\u001b[0;34m()\u001b[0m\n\u001b[1;32m      1\u001b[0m \u001b[0;31m#Activity : See how an infinite 'loop' runs endlessly until the coder interrupts the code execution.\u001b[0m\u001b[0;34m\u001b[0m\u001b[0;34m\u001b[0m\u001b[0m\n\u001b[1;32m      2\u001b[0m \u001b[0mi\u001b[0m \u001b[0;34m=\u001b[0m \u001b[0;36m1\u001b[0m\u001b[0;34m\u001b[0m\u001b[0;34m\u001b[0m\u001b[0m\n\u001b[0;32m----> 3\u001b[0;31m \u001b[0;32mwhile\u001b[0m \u001b[0;32mTrue\u001b[0m\u001b[0;34m:\u001b[0m\u001b[0;34m\u001b[0m\u001b[0;34m\u001b[0m\u001b[0m\n\u001b[0m\u001b[1;32m      4\u001b[0m     \u001b[0mi\u001b[0m \u001b[0;34m=\u001b[0m \u001b[0mi\u001b[0m \u001b[0;34m+\u001b[0m \u001b[0;36m1\u001b[0m\u001b[0;34m\u001b[0m\u001b[0;34m\u001b[0m\u001b[0m\n",
            "\u001b[0;31mKeyboardInterrupt\u001b[0m: "
          ]
        }
      ]
    },
    {
      "cell_type": "markdown",
      "source": [
        "As you can see, we had to interrupt the code execution to stop the infinite `while` loop. Let's print the value stored in the `num` variable. It should contain a very high integer value."
      ],
      "metadata": {
        "id": "7KFNAX-HtH7I"
      }
    },
    {
      "cell_type": "code",
      "source": [
        "# Activity: Print the value stored in the 'num' variable.\n",
        "\n",
        "i"
      ],
      "metadata": {
        "colab": {
          "base_uri": "https://localhost:8080/"
        },
        "id": "VaSm0tyXtKYX",
        "outputId": "bbb402fc-f6e6-4ead-d9f7-82c2e8db0603"
      },
      "execution_count": null,
      "outputs": [
        {
          "output_type": "execute_result",
          "data": {
            "text/plain": [
              "82077081"
            ]
          },
          "metadata": {},
          "execution_count": 92
        }
      ]
    }
  ]
}