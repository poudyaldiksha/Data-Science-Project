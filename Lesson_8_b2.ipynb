{
  "nbformat": 4,
  "nbformat_minor": 0,
  "metadata": {
    "colab": {
      "provenance": [],
      "include_colab_link": true
    },
    "kernelspec": {
      "name": "python3",
      "display_name": "Python 3"
    },
    "language_info": {
      "name": "python"
    }
  },
  "cells": [
    {
      "cell_type": "markdown",
      "metadata": {
        "id": "view-in-github",
        "colab_type": "text"
      },
      "source": [
        "<a href=\"https://colab.research.google.com/github/poudyaldiksha/Data-Science-project/blob/main/Lesson_8_b2.ipynb\" target=\"_parent\"><img src=\"https://colab.research.google.com/assets/colab-badge.svg\" alt=\"Open In Colab\"/></a>"
      ]
    },
    {
      "cell_type": "markdown",
      "source": [
        "#Lesson 8: Numpy arrays -III"
      ],
      "metadata": {
        "id": "Q3U_8_SXB2Xn"
      }
    },
    {
      "cell_type": "markdown",
      "metadata": {
        "id": "GjBFWW4D2s3G"
      },
      "source": [
        "#### Activity 1: Copying Arrays"
      ]
    },
    {
      "cell_type": "markdown",
      "source": [
        "When working with NumPy arrays, sometimes you might need to create a copy of an array to prevent changes to the original array. Here are a few ways to do that:\n",
        "- Assignment (No Copy)\n",
        "- Shallow Copy using `view()`\n",
        "- Deep Copy using `copy()`"
      ],
      "metadata": {
        "id": "VZl0Y4Opa5i6"
      }
    },
    {
      "cell_type": "markdown",
      "source": [
        "**1. Assignment (No Copy)**\n",
        "\n",
        "Assigning one array to another does not create a copy; it creates a reference to the same array. Any modifications to the new array will also affect the original array.\n",
        "\n",
        "\n"
      ],
      "metadata": {
        "id": "l456LBWLbL1z"
      }
    },
    {
      "cell_type": "code",
      "metadata": {
        "colab": {
          "base_uri": "https://localhost:8080/"
        },
        "outputId": "fda0f297-6743-4489-acda-1c0e1e387dda",
        "id": "Jy_zV9wH2s3H"
      },
      "source": [
        "# activity: Make a copy by assignment\n",
        "import numpy as np\n",
        "arr1 = np.array([1,2,3,4,5])\n",
        "arr2 = arr1\n",
        "print(\"original arr\", arr1)\n",
        "print(\"assigned arr\",arr2)\n",
        "\n",
        "arr2[2] = 23\n",
        "\n",
        "print(\"\\nafter modification\\n\")\n",
        "\n",
        "print(\"original arr\", arr1)\n",
        "print(\"assigned arr\",arr2)\n",
        "\n"
      ],
      "execution_count": null,
      "outputs": [
        {
          "output_type": "stream",
          "name": "stdout",
          "text": [
            "original arr [1 2 3 4 5]\n",
            "assigned arr [1 2 3 4 5]\n",
            "\n",
            "after modification\n",
            "\n",
            "original arr [ 1  2 23  4  5]\n",
            "assigned arr [ 1  2 23  4  5]\n"
          ]
        }
      ]
    },
    {
      "cell_type": "markdown",
      "source": [
        "**2. Shallow Copy using `view()`**\n",
        "\n",
        "Shallow Copy creates a new array object that looks at the same data. Changes to the data in the view will affect the original array and vice versa.\n",
        "\n",
        "When you create a shallow copy of a NumPy array using `view()`, you're essentially creating a new array object that shares the same underlying data with the original array. This means that both arrays refer to the same data buffer in memory.\n",
        "\n"
      ],
      "metadata": {
        "id": "l8NGE0wLbuYi"
      }
    },
    {
      "cell_type": "code",
      "source": [
        "# Activity: Copying using view()\n",
        "arr1 = np.array([1,2,3,4,5])\n",
        "arr2 = arr1.view()\n",
        "print(\"original arr\", arr1)\n",
        "print(\"shallow copyarr\",arr2)\n",
        "\n",
        "arr2[2] = 23\n",
        "\n",
        "print(\"\\nafter modification\\n\")\n",
        "\n",
        "print(\"original arr\", arr1)\n",
        "print(\"shallow copy  arr\",arr2)\n"
      ],
      "metadata": {
        "colab": {
          "base_uri": "https://localhost:8080/"
        },
        "id": "iCKWs6uMbxjr",
        "outputId": "637df760-1959-40f1-877f-7aa3e7cf9c48"
      },
      "execution_count": null,
      "outputs": [
        {
          "output_type": "stream",
          "name": "stdout",
          "text": [
            "original arr [1 2 3 4 5]\n",
            "shallow copyarr [1 2 3 4 5]\n",
            "\n",
            "after modification\n",
            "\n",
            "original arr [ 1  2 23  4  5]\n",
            "shallow copy  arr [ 1  2 23  4  5]\n"
          ]
        }
      ]
    },
    {
      "cell_type": "markdown",
      "source": [
        "**3. Deep Copy using `copy()`**\n",
        "\n",
        "A deep copy creates a new array with a new data buffer. Changes to the new array will not affect the original array and vice versa."
      ],
      "metadata": {
        "id": "WpEEfGjgb2le"
      }
    },
    {
      "cell_type": "code",
      "source": [
        "#Activity: Copying using copy()\n",
        "arr1 = np.array([1,2,3,4,5])\n",
        "arr2 = arr1.copy()\n",
        "print(\"original arr\", arr1)\n",
        "print(\" copyarr\",arr2)\n",
        "\n",
        "arr2[2] = 23\n",
        "\n",
        "print(\"\\nafter modification\\n\")\n",
        "\n",
        "print(\"original arr\", arr1)\n",
        "print(\"copy  arr\",arr2)\n"
      ],
      "metadata": {
        "colab": {
          "base_uri": "https://localhost:8080/"
        },
        "id": "F_CRlPO1biaD",
        "outputId": "4d86f682-37f5-428b-8a86-3186d2deb1f9"
      },
      "execution_count": null,
      "outputs": [
        {
          "output_type": "stream",
          "name": "stdout",
          "text": [
            "original arr [1 2 3 4 5]\n",
            " copyarr [1 2 3 4 5]\n",
            "\n",
            "after modification\n",
            "\n",
            "original arr [1 2 3 4 5]\n",
            "copy  arr [ 1  2 23  4  5]\n"
          ]
        }
      ]
    },
    {
      "cell_type": "markdown",
      "source": [
        " In shallow copy , a copy of the original object is stored and only the reference address is finally copied.\n",
        "\n",
        " In deep copy, the copy of the original object and the repetitive copies both are stored."
      ],
      "metadata": {
        "id": "itQ6kdqHjXIx"
      }
    },
    {
      "cell_type": "markdown",
      "metadata": {
        "id": "l60gyEfj2s3I"
      },
      "source": [
        "#### Activity 2: Sorting Arrays\n",
        "\n",
        "Sorting means putting elements in an ordered sequence.\n",
        "\n",
        "Ordered sequence is any sequence that has an order corresponding to elements, like numeric or alphabetical, ascending or descending.\n",
        "\n",
        "The NumPy ndarray object has a function called `sort( )`, that will sort a specified array."
      ]
    },
    {
      "cell_type": "code",
      "metadata": {
        "id": "fH4AcL4F2s3I",
        "colab": {
          "base_uri": "https://localhost:8080/"
        },
        "outputId": "69df036a-b3a1-4344-a8eb-cce309dbcb5a"
      },
      "source": [
        "# Activity:\n",
        "\n",
        "arr_15= np.array([-1/2,-1/4,2,0,1])\n",
        "print(np.sort(arr_15)[::-1])\n"
      ],
      "execution_count": null,
      "outputs": [
        {
          "output_type": "stream",
          "name": "stdout",
          "text": [
            "[ 2.    1.    0.   -0.25 -0.5 ]\n"
          ]
        }
      ]
    },
    {
      "cell_type": "code",
      "source": [
        "arr_16 = np.array([1,55,77,22,99])\n",
        "arr_2 = np.sort(arr_16)\n",
        "\n",
        "arr_2[2] = 23\n",
        "\n",
        "print(\"\\nafter modification\\n\")\n",
        "\n",
        "print(\"original arr\", arr_16)\n",
        "print(\"copy  arr\",arr_2)\n"
      ],
      "metadata": {
        "id": "JSk_nYGL3YEZ",
        "colab": {
          "base_uri": "https://localhost:8080/"
        },
        "outputId": "4277e8bc-5507-48cc-8b99-81d05aeaab7b"
      },
      "execution_count": null,
      "outputs": [
        {
          "output_type": "stream",
          "name": "stdout",
          "text": [
            "\n",
            "after modification\n",
            "\n",
            "original arr [ 1 55 77 22 99]\n",
            "copy  arr [ 1 22 23 77 99]\n"
          ]
        }
      ]
    },
    {
      "cell_type": "markdown",
      "metadata": {
        "id": "NwptAKwp2s3J"
      },
      "source": [
        "**Note:** This method returns a copy of the array, leaving the original array unchanged."
      ]
    },
    {
      "cell_type": "markdown",
      "source": [
        "#### Activity 3: Array Length\n",
        "The length of an array (or array length) is:\n",
        "\n",
        "- The number of items in a one-dimensional array.\n",
        "\n",
        "- The number of rows in a two-dimensional array.\n",
        "\n",
        "- The number of blocks in a three-dimensional array.\n",
        "\n",
        "To calculate the length of a NumPy array, you can use the `len()` function.\n",
        "\n",
        "\n"
      ],
      "metadata": {
        "id": "pjH-aoZ1ogcL"
      }
    },
    {
      "cell_type": "code",
      "source": [
        "one_dim_arr = np.arange(1,25)\n",
        "one_dim_arr"
      ],
      "metadata": {
        "colab": {
          "base_uri": "https://localhost:8080/"
        },
        "id": "iW4VzItn1VBz",
        "outputId": "9fff004c-3199-4697-8708-8975687ecbef"
      },
      "execution_count": null,
      "outputs": [
        {
          "output_type": "execute_result",
          "data": {
            "text/plain": [
              "array([ 1,  2,  3,  4,  5,  6,  7,  8,  9, 10, 11, 12, 13, 14, 15, 16, 17,\n",
              "       18, 19, 20, 21, 22, 23, 24])"
            ]
          },
          "metadata": {},
          "execution_count": 11
        }
      ]
    },
    {
      "cell_type": "code",
      "source": [
        "np.arange(1,29).reshape(2,14)"
      ],
      "metadata": {
        "colab": {
          "base_uri": "https://localhost:8080/"
        },
        "id": "tyhDuz1E1gbi",
        "outputId": "bec3e4dd-9c92-40ef-cc28-cd0f9d1408c6"
      },
      "execution_count": null,
      "outputs": [
        {
          "output_type": "execute_result",
          "data": {
            "text/plain": [
              "array([[ 1,  2,  3,  4,  5,  6,  7,  8,  9, 10, 11, 12, 13, 14],\n",
              "       [15, 16, 17, 18, 19, 20, 21, 22, 23, 24, 25, 26, 27, 28]])"
            ]
          },
          "metadata": {},
          "execution_count": 12
        }
      ]
    },
    {
      "cell_type": "code",
      "source": [
        "np.arange(1,31).reshape(3,2,5)"
      ],
      "metadata": {
        "colab": {
          "base_uri": "https://localhost:8080/"
        },
        "id": "wbxtsO-B1oS3",
        "outputId": "38a1c858-4cd2-41d4-8a49-9b3232634ba3"
      },
      "execution_count": null,
      "outputs": [
        {
          "output_type": "execute_result",
          "data": {
            "text/plain": [
              "array([[[ 1,  2,  3,  4,  5],\n",
              "        [ 6,  7,  8,  9, 10]],\n",
              "\n",
              "       [[11, 12, 13, 14, 15],\n",
              "        [16, 17, 18, 19, 20]],\n",
              "\n",
              "       [[21, 22, 23, 24, 25],\n",
              "        [26, 27, 28, 29, 30]]])"
            ]
          },
          "metadata": {},
          "execution_count": 13
        }
      ]
    },
    {
      "cell_type": "code",
      "source": [
        "#Create a NumPy array for all the three different dimensions and calculate their lengths.\n",
        "one_dim_arr = np.arange(1,25) # 24\n",
        "two_dim_arr = np.arange(1,29).reshape(2,14) #2\n",
        "three_dim_arr = np.arange(1,31).reshape(3,2,5) #3\n",
        "print(len(one_dim_arr))\n",
        "print(len(two_dim_arr))\n",
        "print((len(three_dim_arr)))"
      ],
      "metadata": {
        "id": "Zz37UN_-oqMG",
        "colab": {
          "base_uri": "https://localhost:8080/"
        },
        "outputId": "aa5a9d86-67f1-4917-d30c-3942cfdf994e"
      },
      "execution_count": null,
      "outputs": [
        {
          "output_type": "stream",
          "name": "stdout",
          "text": [
            "24\n",
            "2\n",
            "3\n"
          ]
        }
      ]
    },
    {
      "cell_type": "markdown",
      "source": [
        "**Note:**  \n",
        "\n",
        " The `len()` function gives different outputs for multi-dimensional NumPy arrays."
      ],
      "metadata": {
        "id": "V0GpkqOVo0KE"
      }
    },
    {
      "cell_type": "markdown",
      "source": [
        "#### Activity 4: The `size` Keyword\n",
        "\n",
        "To find the number of items in a NumPy array, you can use the `size` keyword. Regardless of dimensions, the `size` keyword will always return the number of items in a NumPy array."
      ],
      "metadata": {
        "id": "78H5Qmd1o7ph"
      }
    },
    {
      "cell_type": "code",
      "source": [
        "# Compute the number of items in the above created NumPy arrays.\n",
        "print(one_dim_arr.size)\n",
        "print(two_dim_arr.size)\n",
        "print(three_dim_arr.size)"
      ],
      "metadata": {
        "id": "556F12QrpC_-",
        "colab": {
          "base_uri": "https://localhost:8080/"
        },
        "outputId": "73d434fc-3697-41f0-bd4f-3d80ac0ad887"
      },
      "execution_count": null,
      "outputs": [
        {
          "output_type": "stream",
          "name": "stdout",
          "text": [
            "24\n",
            "28\n",
            "30\n"
          ]
        }
      ]
    },
    {
      "cell_type": "markdown",
      "source": [
        "#### Activity 5: Descriptive Statistics\n",
        "\n",
        "Using NumPy arrays, we can easily do some statistical calculations.\n",
        "\n",
        "Consider that  you are a laptop retailer and you have a few laptops in your inventory.\n",
        "\n",
        "|Laptop Model|Price (INR)|# Units Available|\n",
        "|-|-|-|\n",
        "|Dell Inspiron 15|\t45000|\t15|\n",
        "HP Pavilion 14| 55000| 12|\n",
        "Lenovo ThinkPad X1| 65000| 10|\n",
        "MacBook Air| 120000| 8|\n",
        "Asus ZenBook| 75000| 6|\n",
        "Acer Swift 3| 45000| 18|\n",
        "Microsoft Surface Laptop| 85000| 9|\n",
        "Razer Blade Stealth| 60000| 11|\n",
        "Samsung Galaxy Book| 70000| 7|\n",
        "Google Pixelbook Go| 80000| 5|\n",
        "\n",
        "Suppose you decided to do some analysis of your inventory. In the process, you want to find answers to the following questions:\n",
        "\n",
        "1. What is the total revenue generated from laptop sales?\n",
        "\n",
        "2. What is the average price of a laptop?\n",
        "\n",
        "3. What is the price of the cheapest laptop in the inventory?\n",
        "\n",
        "4. What is the price of the most expensive laptop in the inventory?\n",
        "\n",
        "5. What is the median price of a laptop?\n",
        "\n",
        "6. What is the most commonly occurring price of a laptop?\n",
        "\n",
        "You can answer all these questions in a few seconds by creating NumPy arrays and by applying the `sum(), mean(), median(), min()` and `max()` functions.\n",
        "\n",
        "\n",
        "```\n",
        "laptop_models = ['Dell Inspiron', 'HP Pavilion', 'Lenovo ThinkPad', 'Apple MacBook Pro', 'Asus ZenBook',\n",
        "                 'Acer Swift', 'Microsoft Surface', 'Razer Blade Stealth', 'Samsung Galaxy Book', 'Google Pixelbook Go]\n",
        "prices = [45000, 55000, 65000, 120000, 75000, 45000, 85000, 60000, 70000, 80000]\n",
        "units_sold = [15, 12, 10, 8, 6, 18, 9, 11, 7, 5]\n",
        "```"
      ],
      "metadata": {
        "id": "nN-DprF-p8fP"
      }
    },
    {
      "cell_type": "code",
      "source": [
        "#Create Arrays\n",
        "# Define lists for laptop data\n",
        "laptop_models = ['Dell Inspiron', 'HP Pavilion', 'Lenovo ThinkPad', 'Apple MacBook Pro', 'Asus ZenBook',\n",
        "                 'Acer Swift', 'Microsoft Surface', 'Razer Blade Stealth', 'Samsung Galaxy Book', 'Google Pixelbook Go']\n",
        "prices = [45000, 55000, 65000, 120000, 75000, 45000, 85000, 60000, 70000, 80000]\n",
        "units_sold = [15, 12, 10, 8, 6, 18, 9, 11, 7, 5]\n",
        "\n",
        "# Convert lists to NumPy arrays\n",
        "price_array = np.array(prices)\n",
        "units_sold_array =np.array(units_sold)\n"
      ],
      "metadata": {
        "id": "qsGEuT4dtz0H"
      },
      "execution_count": null,
      "outputs": []
    },
    {
      "cell_type": "code",
      "source": [
        "a = np.array([1,2,3])\n",
        "b = np.array([4,5,6])\n",
        "print(a*b)\n",
        "total = np.sum(a * b)\n",
        "total"
      ],
      "metadata": {
        "colab": {
          "base_uri": "https://localhost:8080/"
        },
        "id": "IcqrVTlF4LJi",
        "outputId": "9ceed8b4-6b97-4da0-dab3-e2216fcb3382"
      },
      "execution_count": null,
      "outputs": [
        {
          "output_type": "stream",
          "name": "stdout",
          "text": [
            "[ 4 10 18]\n"
          ]
        },
        {
          "output_type": "execute_result",
          "data": {
            "text/plain": [
              "32"
            ]
          },
          "metadata": {},
          "execution_count": 25
        }
      ]
    },
    {
      "cell_type": "code",
      "source": [
        "#Calculate Total Revenue\n",
        "total_price_for_each_laptop = price_array * units_sold_array\n",
        "print(total_price_for_each_laptop)\n",
        "\n",
        "total_revenue = np.sum(total_price_for_each_laptop)\n",
        "print(\"total revenue:\",total_revenue)\n"
      ],
      "metadata": {
        "id": "RcjzRo_st3O4",
        "colab": {
          "base_uri": "https://localhost:8080/"
        },
        "outputId": "1fefa1b0-d7a7-4fae-9d86-fabe98e18bfb"
      },
      "execution_count": null,
      "outputs": [
        {
          "output_type": "stream",
          "name": "stdout",
          "text": [
            "[675000 660000 650000 960000 450000 810000 765000 660000 490000 400000]\n",
            "total revenue: 6520000\n"
          ]
        }
      ]
    },
    {
      "cell_type": "code",
      "source": [
        "# Calculate Average price\n",
        "np.mean(price_array)\n"
      ],
      "metadata": {
        "id": "9_W7nuU4uAnv",
        "colab": {
          "base_uri": "https://localhost:8080/"
        },
        "outputId": "dcad1c88-e93e-48da-d44d-20ee989d659e"
      },
      "execution_count": null,
      "outputs": [
        {
          "output_type": "execute_result",
          "data": {
            "text/plain": [
              "70000.0"
            ]
          },
          "metadata": {},
          "execution_count": 26
        }
      ]
    },
    {
      "cell_type": "code",
      "source": [
        "#Find Cheapest and Most Expensive Laptop Prices\n",
        "print(\"expensive laptop:\",np.max(price_array))\n",
        "print(\"cheap\",np.min(price_array))"
      ],
      "metadata": {
        "id": "zZDqVltZuEwU",
        "colab": {
          "base_uri": "https://localhost:8080/"
        },
        "outputId": "4e6173f7-9a75-485e-9b8c-6f83d255b4b4"
      },
      "execution_count": null,
      "outputs": [
        {
          "output_type": "stream",
          "name": "stdout",
          "text": [
            "expensive laptop: 120000\n",
            "cheap 45000\n"
          ]
        }
      ]
    },
    {
      "cell_type": "code",
      "source": [
        "#Calculate Median Price\n",
        "np.median(price_array)"
      ],
      "metadata": {
        "id": "7KWRxvE7uOcD",
        "colab": {
          "base_uri": "https://localhost:8080/"
        },
        "outputId": "dd497d9d-9cbf-449e-ba85-e80f9bfa1dab"
      },
      "execution_count": null,
      "outputs": [
        {
          "output_type": "execute_result",
          "data": {
            "text/plain": [
              "67500.0"
            ]
          },
          "metadata": {},
          "execution_count": 28
        }
      ]
    },
    {
      "cell_type": "markdown",
      "source": [
        "The value which occurs the most number of times is called the **modal** value or simply **mode**.\n",
        "\n",
        "Unfortunately, the `numpy` module does not have a function to calculate the modal value. So, either we can create our own function which is a very complicated process or we can use the `mode()` function from the `scipy` library.\n",
        "\n",
        "\n",
        "In the `scipy` library, there is a module called `stats` which contains the `mode()` function. So we have to import the `stats` module from the `scipy` library."
      ],
      "metadata": {
        "id": "sEq0-JilutU7"
      }
    },
    {
      "cell_type": "code",
      "source": [
        "# Compute the modal value using the 'mode()' function from the 'scipy.stats' module.\n",
        "from scipy import stats\n",
        "stats.mode(prices)\n"
      ],
      "metadata": {
        "id": "NsKWINe1u0_r",
        "colab": {
          "base_uri": "https://localhost:8080/"
        },
        "outputId": "cf25272a-a0af-4c93-a9d7-9ab02fadfbc3"
      },
      "execution_count": null,
      "outputs": [
        {
          "output_type": "execute_result",
          "data": {
            "text/plain": [
              "ModeResult(mode=45000, count=2)"
            ]
          },
          "metadata": {},
          "execution_count": 29
        }
      ]
    },
    {
      "cell_type": "markdown",
      "source": [
        "\n",
        "\n",
        "**Note:** `from library_name import module_name` is another way of importing a module. It is also a standard practice."
      ],
      "metadata": {
        "id": "sB5c3vMpu4IQ"
      }
    },
    {
      "cell_type": "markdown",
      "source": [
        "NumPy and SciPy are separate libraries, but often used together for scientific computing tasks. Here's how you can import specific modules or functions from NumPy:\n",
        "\n",
        "1. **Importing NumPy Alone:**\n",
        "\n",
        "```\n",
        "import numpy as np\n",
        "```\n",
        "This imports the entire NumPy library under the alias np, allowing you to access all its functions and modules using `np.<function>` or `np.<module>.<function>`.\n",
        "\n",
        "2. **Importing Specific Functions:**\n",
        "\n",
        "```\n",
        "from numpy import array, linspace\n",
        "\n",
        "```\n",
        "This imports only the `array()` and `linspace()` functions from NumPy. You can use them directly without prefixing with np.\n",
        "\n",
        "3. **Importing Submodules:**\n",
        "\n",
        "```\n",
        "from numpy import random\n",
        "```\n",
        "This imports the random submodule from NumPy, allowing you to use functions like `random.randint()` directly.\n",
        "\n"
      ],
      "metadata": {
        "id": "eyW7EWfw_GXB"
      }
    },
    {
      "cell_type": "markdown",
      "source": [
        "#### **SciPy and NumPy**\n",
        "\n",
        "SciPy builds on top of NumPy and provides additional functionality for scientific and technical computing. It includes modules for optimization, integration, interpolation, and much more.\n",
        "\n",
        "Using Together: While you can use NumPy alone for basic array operations and mathematical functions, SciPy extends this by adding advanced algorithms and tools. Importing SciPy typically involves importing specific modules or functions as needed, similar to NumPy."
      ],
      "metadata": {
        "id": "-FFJnX8SAQb2"
      }
    },
    {
      "cell_type": "markdown",
      "source": [
        "####Activity 6: Mathematical Operations On A NumPy Array\n",
        "\n",
        "Performing mathematical operations on a NumPy array is easier compared to a Python list.\n",
        "\n"
      ],
      "metadata": {
        "id": "rf-jE7MXySCp"
      }
    },
    {
      "cell_type": "code",
      "source": [
        "#With radii of 15 circles,compute the area of every circle.\n",
        "\n",
        "import random\n",
        "radii = [ random.randint(1,10) for i in range(0,15)] # list comprehension method\n",
        "print(radii)\n",
        "\n",
        "\n"
      ],
      "metadata": {
        "id": "ipNPUcKOymD4",
        "colab": {
          "base_uri": "https://localhost:8080/"
        },
        "outputId": "a3f82f0a-375b-4dc3-dd8d-a459ddb89672"
      },
      "execution_count": null,
      "outputs": [
        {
          "output_type": "stream",
          "name": "stdout",
          "text": [
            "[7, 5, 2, 3, 2, 1, 6, 9, 2, 8, 8, 5, 1, 6, 8]\n"
          ]
        }
      ]
    },
    {
      "cell_type": "code",
      "source": [
        "np_rad = np.array(radii)\n",
        "area_circles  = np.pi * (np_rad ** 2)\n",
        "area_circles\n"
      ],
      "metadata": {
        "colab": {
          "base_uri": "https://localhost:8080/"
        },
        "id": "O20WOcUy78hW",
        "outputId": "d82c52b6-9737-4f71-dbd0-0a105caf280d"
      },
      "execution_count": null,
      "outputs": [
        {
          "output_type": "execute_result",
          "data": {
            "text/plain": [
              "array([153.93804003,  78.53981634,  12.56637061,  28.27433388,\n",
              "        12.56637061,   3.14159265, 113.09733553, 254.46900494,\n",
              "        12.56637061, 201.06192983, 201.06192983,  78.53981634,\n",
              "         3.14159265, 113.09733553, 201.06192983])"
            ]
          },
          "metadata": {},
          "execution_count": 31
        }
      ]
    },
    {
      "cell_type": "code",
      "source": [
        "np.arange(1,10)"
      ],
      "metadata": {
        "colab": {
          "base_uri": "https://localhost:8080/"
        },
        "id": "1WxMTecJ8Z7R",
        "outputId": "942c561d-fb55-4a08-a11c-f728cfbdfd0e"
      },
      "execution_count": null,
      "outputs": [
        {
          "output_type": "execute_result",
          "data": {
            "text/plain": [
              "array([1, 2, 3, 4, 5, 6, 7, 8, 9])"
            ]
          },
          "metadata": {},
          "execution_count": 32
        }
      ]
    },
    {
      "cell_type": "code",
      "source": [
        "np.array(random.randint(1,10))"
      ],
      "metadata": {
        "colab": {
          "base_uri": "https://localhost:8080/"
        },
        "id": "szFgfOVT9Cx5",
        "outputId": "9437f12f-5c04-40e4-e72b-8454225127ab"
      },
      "execution_count": null,
      "outputs": [
        {
          "output_type": "execute_result",
          "data": {
            "text/plain": [
              "array(5)"
            ]
          },
          "metadata": {},
          "execution_count": 41
        }
      ]
    },
    {
      "cell_type": "code",
      "source": [
        "t = np.array([random.randint(1,10) for i in range(1,16)])\n",
        "t"
      ],
      "metadata": {
        "colab": {
          "base_uri": "https://localhost:8080/"
        },
        "id": "fEM0ptn58d00",
        "outputId": "ed7d2468-3899-4c44-a058-7b4c27b2a48b"
      },
      "execution_count": null,
      "outputs": [
        {
          "output_type": "execute_result",
          "data": {
            "text/plain": [
              "array([ 9,  7,  8,  6,  7, 10,  4,  8,  1,  5,  5,  8,  5,  3,  9])"
            ]
          },
          "metadata": {},
          "execution_count": 38
        }
      ]
    },
    {
      "cell_type": "code",
      "source": [
        "w = np.array((1,2,3))\n",
        "w"
      ],
      "metadata": {
        "colab": {
          "base_uri": "https://localhost:8080/"
        },
        "id": "wuVSIC4G81Yk",
        "outputId": "a6ec57f7-56de-4685-9128-371d3dc6e3f6"
      },
      "execution_count": null,
      "outputs": [
        {
          "output_type": "execute_result",
          "data": {
            "text/plain": [
              "array([1, 2, 3])"
            ]
          },
          "metadata": {},
          "execution_count": 39
        }
      ]
    },
    {
      "cell_type": "code",
      "source": [
        "d = (1,2,3)\n",
        "type(d)"
      ],
      "metadata": {
        "colab": {
          "base_uri": "https://localhost:8080/"
        },
        "id": "_pfuTOKA86S9",
        "outputId": "eee29c0a-d207-45fd-aff7-c1f90ee2e36e"
      },
      "execution_count": null,
      "outputs": [
        {
          "output_type": "execute_result",
          "data": {
            "text/plain": [
              "tuple"
            ]
          },
          "metadata": {},
          "execution_count": 40
        }
      ]
    },
    {
      "cell_type": "markdown",
      "source": [
        "Now, using the same approach, you create two NumPy arrays: one having radii (numbers from `5` to `15`) of `10` cylinders and another having their corresponding heights (numbers from `20` to `30`).\n",
        "\n",
        "**Note:** The volume of a cylinder is\n",
        "$\\pi r^{2}h$\n",
        ", where\n",
        "$h$\n",
        "is height of the cylinder and\n",
        "$r$\n",
        "is the radius of the cylinder."
      ],
      "metadata": {
        "id": "-WCA3g6fzb4V"
      }
    },
    {
      "cell_type": "code",
      "source": [
        "# Create two NumPy arrays. One having a radii of 10 cylinders and another having their corresponding heights.\n",
        "# Compute the volume of the 10 cylinders by multiplying the NumPy arrays and store the new NumPy array in the new variable.\n",
        "\n",
        "cyc_radii = np.arange(5,15)\n",
        "cyc_heights = np.arange(21,31)\n",
        "cyc_volume = np.pi *(cyc_radii ** 2)* cyc_heights\n",
        "cyc_volume"
      ],
      "metadata": {
        "id": "qFBEJBTUzoHJ",
        "colab": {
          "base_uri": "https://localhost:8080/"
        },
        "outputId": "31785ffc-0b5b-4f4f-f60e-52f7524dc2d7"
      },
      "execution_count": null,
      "outputs": [
        {
          "output_type": "execute_result",
          "data": {
            "text/plain": [
              "array([ 1649.33614313,  2488.14138164,  3540.5749206 ,  4825.48631591,\n",
              "        6361.72512352,  8168.14089933, 10263.58319928, 12666.90157927,\n",
              "       15396.94559524, 18472.56480311])"
            ]
          },
          "metadata": {},
          "execution_count": 42
        }
      ]
    },
    {
      "cell_type": "markdown",
      "source": [
        "#### Activity 7:Random Numbers: `random()`\n",
        "\n",
        "Random number generation is a crucial part of simulations, statistical analysis, and machine learning. NumPy provides several functions to generate random numbers:"
      ],
      "metadata": {
        "id": "BtPNLNyUEN1x"
      }
    },
    {
      "cell_type": "markdown",
      "source": [
        "`random():` Generates random floats in the half-open interval [0.0, 1.0)."
      ],
      "metadata": {
        "id": "KxuDYKMJEN1x"
      }
    },
    {
      "cell_type": "code",
      "source": [
        "# Create a random float value in between 0 and 1\n",
        "\n",
        "np.random.random()"
      ],
      "metadata": {
        "id": "K5GbLe7_Y6uX",
        "colab": {
          "base_uri": "https://localhost:8080/"
        },
        "outputId": "7167991a-411f-480d-c093-0ae0d82ce325"
      },
      "execution_count": null,
      "outputs": [
        {
          "output_type": "execute_result",
          "data": {
            "text/plain": [
              "0.6834905628457413"
            ]
          },
          "metadata": {},
          "execution_count": 43
        }
      ]
    },
    {
      "cell_type": "code",
      "source": [
        "# Create 2d random array  in between 0 and 1\n",
        "np.random.random((3,3))"
      ],
      "metadata": {
        "id": "nAXwAaBFhBbp",
        "colab": {
          "base_uri": "https://localhost:8080/"
        },
        "outputId": "64ee1349-a9cd-425c-ac10-f18fc9824892"
      },
      "execution_count": null,
      "outputs": [
        {
          "output_type": "execute_result",
          "data": {
            "text/plain": [
              "array([[0.84574695, 0.47455748, 0.94623725],\n",
              "       [0.41920685, 0.4574043 , 0.91878141],\n",
              "       [0.69040698, 0.52056293, 0.29869182]])"
            ]
          },
          "metadata": {},
          "execution_count": 44
        }
      ]
    },
    {
      "cell_type": "code",
      "source": [
        "# Generate a  3d random float between 0 and 1\n",
        "random_floats = np.random.random((2,3,2))\n",
        "print(\"Random floats:\", random_floats)"
      ],
      "metadata": {
        "colab": {
          "base_uri": "https://localhost:8080/"
        },
        "id": "KVHgR9ocEN1y",
        "outputId": "76bc0b7c-69eb-467c-f97c-ed838ed2d429"
      },
      "execution_count": null,
      "outputs": [
        {
          "output_type": "stream",
          "name": "stdout",
          "text": [
            "Random floats: [[[0.64665643 0.34185728]\n",
            "  [0.93332663 0.36611159]\n",
            "  [0.82811275 0.88594847]]\n",
            "\n",
            " [[0.53919727 0.1497775 ]\n",
            "  [0.53268819 0.89695101]\n",
            "  [0.88206585 0.27456677]]]\n"
          ]
        }
      ]
    },
    {
      "cell_type": "markdown",
      "source": [
        "### Activity 8: Random Numbers: `rand()`\n",
        "`numpy.rand():` Generates an array of specified shape with random floats in the half-open interval [0.0, 1.0)."
      ],
      "metadata": {
        "id": "9Qn6pxMnEN1z"
      }
    },
    {
      "cell_type": "code",
      "source": [
        "# create 1d array of 3 element\n",
        "np.random.rand()"
      ],
      "metadata": {
        "id": "kY7LEQ_MbN4r",
        "colab": {
          "base_uri": "https://localhost:8080/"
        },
        "outputId": "64b63341-c50b-423c-aaf6-1832fae07c36"
      },
      "execution_count": null,
      "outputs": [
        {
          "output_type": "execute_result",
          "data": {
            "text/plain": [
              "0.6252711127789757"
            ]
          },
          "metadata": {},
          "execution_count": 46
        }
      ]
    },
    {
      "cell_type": "code",
      "source": [
        "# Generate a 3x2 array of random floats\n",
        "np.random.rand(3,2)"
      ],
      "metadata": {
        "colab": {
          "base_uri": "https://localhost:8080/"
        },
        "outputId": "4c49345f-3783-4047-865c-2533fb8ee1e6",
        "id": "tn23FObjEN1z"
      },
      "execution_count": null,
      "outputs": [
        {
          "output_type": "execute_result",
          "data": {
            "text/plain": [
              "array([[0.24213486, 0.36553877],\n",
              "       [0.09625382, 0.67448575],\n",
              "       [0.63459276, 0.04957829]])"
            ]
          },
          "metadata": {},
          "execution_count": 47
        }
      ]
    },
    {
      "cell_type": "code",
      "source": [
        "# Generate a 2x3x2 array of random floats\n",
        "random_array = np.random.rand(2,3,2)\n",
        "print(\"Random array:\\n\", random_array)"
      ],
      "metadata": {
        "id": "trDSvqmlh5AN",
        "colab": {
          "base_uri": "https://localhost:8080/"
        },
        "outputId": "7c0381d4-f18c-4163-9235-8070e9257add"
      },
      "execution_count": null,
      "outputs": [
        {
          "output_type": "stream",
          "name": "stdout",
          "text": [
            "Random array:\n",
            " [[[0.73990988 0.67244684]\n",
            "  [0.3846179  0.29531674]\n",
            "  [0.47419445 0.03148758]]\n",
            "\n",
            " [[0.28646684 0.11064624]\n",
            "  [0.67939882 0.07827155]\n",
            "  [0.84560945 0.87013399]]]\n"
          ]
        }
      ]
    },
    {
      "cell_type": "markdown",
      "source": [
        "### Activity 9: Random Numbers: `randint()`\n",
        "`numpy.randint():` Generates random integers from a low (inclusive) to high (exclusive) range.\n",
        "\n"
      ],
      "metadata": {
        "id": "niNObHO9EN10"
      }
    },
    {
      "cell_type": "code",
      "source": [
        "# Generate a random integer between 1 and 10\n",
        "a = np.random.randint(1,10)\n",
        "type(a)"
      ],
      "metadata": {
        "id": "fC4BWnTIie-B",
        "colab": {
          "base_uri": "https://localhost:8080/"
        },
        "outputId": "623b8663-8884-4bb2-ed54-f36f3eb65fdc"
      },
      "execution_count": null,
      "outputs": [
        {
          "output_type": "execute_result",
          "data": {
            "text/plain": [
              "int"
            ]
          },
          "metadata": {},
          "execution_count": 49
        }
      ]
    },
    {
      "cell_type": "code",
      "source": [
        "# Generate 5 random integers between 1 and 10\n",
        "np.random.randint(1,10,5)"
      ],
      "metadata": {
        "colab": {
          "base_uri": "https://localhost:8080/"
        },
        "outputId": "f919b479-d1eb-4fd6-d255-29280b94a2b8",
        "id": "ALW4ZRlHEN10"
      },
      "execution_count": null,
      "outputs": [
        {
          "output_type": "execute_result",
          "data": {
            "text/plain": [
              "array([1, 9, 7, 5, 8])"
            ]
          },
          "metadata": {},
          "execution_count": 56
        }
      ]
    },
    {
      "cell_type": "code",
      "source": [
        "# Create 2d random array  in between 1 and 4\n",
        "np.random.randint(1,10,(4,4))"
      ],
      "metadata": {
        "id": "BAAm7qr7ZG0G",
        "colab": {
          "base_uri": "https://localhost:8080/"
        },
        "outputId": "ba18688e-694f-4189-f433-19d0db84c5b9"
      },
      "execution_count": null,
      "outputs": [
        {
          "output_type": "execute_result",
          "data": {
            "text/plain": [
              "array([[6, 4, 7, 4],\n",
              "       [8, 4, 6, 8],\n",
              "       [8, 9, 2, 4],\n",
              "       [5, 1, 5, 1]])"
            ]
          },
          "metadata": {},
          "execution_count": 54
        }
      ]
    },
    {
      "cell_type": "markdown",
      "source": [
        "\n",
        "`np.random.seed()` is a NumPy function that initializes the random number generator with a seed value . In the context of random number generation:\n",
        "\n",
        "- Random Number Generator (RNG) Initialization: Setting a seed with np.random.seed() ensures that the random numbers generated by NumPy's random module are reproducible.\n",
        "-  That means, if you use the same seed value before generating random numbers, you will get the same sequence of random numbers every time."
      ],
      "metadata": {
        "id": "87vdCKUyabkt"
      }
    },
    {
      "cell_type": "code",
      "source": [],
      "metadata": {
        "id": "--sXoJb7_0XH"
      },
      "execution_count": null,
      "outputs": []
    },
    {
      "cell_type": "code",
      "source": [
        "# Create 3d array with randaom values between 1 and 4 with seed value as 10\n",
        "np.random.seed(10)\n",
        "np.random.randint(1,10,(4,4))"
      ],
      "metadata": {
        "id": "fAjkyEQ5ZKTK",
        "colab": {
          "base_uri": "https://localhost:8080/"
        },
        "outputId": "44cc426f-e8a2-4e1a-f6b7-caec4e88ed84"
      },
      "execution_count": null,
      "outputs": [
        {
          "output_type": "execute_result",
          "data": {
            "text/plain": [
              "array([[5, 1, 2, 1],\n",
              "       [2, 9, 1, 9],\n",
              "       [7, 5, 4, 1],\n",
              "       [5, 7, 9, 2]])"
            ]
          },
          "metadata": {},
          "execution_count": 57
        }
      ]
    },
    {
      "cell_type": "code",
      "source": [
        "np.random.randint(1,10,(4,4))"
      ],
      "metadata": {
        "colab": {
          "base_uri": "https://localhost:8080/"
        },
        "id": "_84v82-_Dbmz",
        "outputId": "452d09de-9746-4399-f822-0e0c62966898"
      },
      "execution_count": null,
      "outputs": [
        {
          "output_type": "execute_result",
          "data": {
            "text/plain": [
              "array([[9, 5, 2, 4],\n",
              "       [7, 6, 4, 7],\n",
              "       [2, 5, 3, 7],\n",
              "       [8, 9, 9, 3]])"
            ]
          },
          "metadata": {},
          "execution_count": 58
        }
      ]
    },
    {
      "cell_type": "code",
      "source": [
        "2**32 - 1"
      ],
      "metadata": {
        "colab": {
          "base_uri": "https://localhost:8080/"
        },
        "id": "NLDjoFgo_gIl",
        "outputId": "24a01a3a-7bb2-4400-97eb-ab9044550541"
      },
      "execution_count": null,
      "outputs": [
        {
          "output_type": "execute_result",
          "data": {
            "text/plain": [
              "4294967295"
            ]
          },
          "metadata": {},
          "execution_count": 62
        }
      ]
    },
    {
      "cell_type": "code",
      "source": [
        "np.random.seed(4294967295)\n",
        "np.random.randint(1,10,(4,4))"
      ],
      "metadata": {
        "colab": {
          "base_uri": "https://localhost:8080/"
        },
        "id": "ovfirPn7DftQ",
        "outputId": "0c68b921-ec5a-4d73-803f-577fb6ba8a63"
      },
      "execution_count": null,
      "outputs": [
        {
          "output_type": "execute_result",
          "data": {
            "text/plain": [
              "array([[4, 3, 8, 5],\n",
              "       [1, 7, 1, 3],\n",
              "       [7, 8, 8, 7],\n",
              "       [6, 5, 1, 8]])"
            ]
          },
          "metadata": {},
          "execution_count": 63
        }
      ]
    },
    {
      "cell_type": "markdown",
      "source": [
        "If you run the  code with `np.random.seed(10)` set, you'll get the same arrays every time you run the code subsequently."
      ],
      "metadata": {
        "id": "2bjDA9Q0a7zF"
      }
    },
    {
      "cell_type": "markdown",
      "source": [
        "### Activity 10: Random Numbers: `choice()`\n",
        "`numpy.random.choice():`Generates a random sample from a given 1-D array."
      ],
      "metadata": {
        "id": "lX6eZuj_iH-l"
      }
    },
    {
      "cell_type": "code",
      "source": [
        "# Generates a random sample from a given 1-D array.\n",
        "list_1= [10, 20, 30, 40, 50]\n",
        "array_1 = np.array(list_1)\n",
        "random_sample = np.random.choice(array_1, size = 2)\n",
        "print(\"Random sample from array:\", random_sample)\n",
        "type(random_sample)"
      ],
      "metadata": {
        "id": "IX22pcQliEig",
        "colab": {
          "base_uri": "https://localhost:8080/"
        },
        "outputId": "cdd0253d-0fb1-4920-8502-13840b6a82b8"
      },
      "execution_count": null,
      "outputs": [
        {
          "output_type": "stream",
          "name": "stdout",
          "text": [
            "Random sample from array: [40 50]\n"
          ]
        },
        {
          "output_type": "execute_result",
          "data": {
            "text/plain": [
              "numpy.ndarray"
            ]
          },
          "metadata": {},
          "execution_count": 67
        }
      ]
    },
    {
      "cell_type": "code",
      "source": [
        "list_1= [10, 20, 30, 40, 50]\n",
        "\n",
        "random_sample = np.random.choice(list_1, size = 2)\n",
        "print(\"Random sample from array:\", random_sample)\n",
        "type(random_sample)"
      ],
      "metadata": {
        "colab": {
          "base_uri": "https://localhost:8080/"
        },
        "id": "cuKWX5fBER3_",
        "outputId": "c0a13364-fce5-4faa-e763-0481da949e21"
      },
      "execution_count": null,
      "outputs": [
        {
          "output_type": "stream",
          "name": "stdout",
          "text": [
            "Random sample from array: [40 20]\n"
          ]
        },
        {
          "output_type": "execute_result",
          "data": {
            "text/plain": [
              "numpy.ndarray"
            ]
          },
          "metadata": {},
          "execution_count": 68
        }
      ]
    },
    {
      "cell_type": "markdown",
      "source": [
        "### Activity 11: Random Numbers: `shuffle()`\n"
      ],
      "metadata": {
        "id": "GkgTj0iKorrT"
      }
    },
    {
      "cell_type": "code",
      "source": [
        "# Shuffle\n",
        "data = np.array([[1, 2], [3, 4], [5, 6], [7, 8], [9, 10]])\n",
        "np.random.shuffle(data)\n",
        "print(\"Shuffled data:\\n\", data)"
      ],
      "metadata": {
        "id": "irEk-53ModDc",
        "colab": {
          "base_uri": "https://localhost:8080/"
        },
        "outputId": "13c647b7-3183-4d93-b63f-e5bdf64d2f0b"
      },
      "execution_count": null,
      "outputs": [
        {
          "output_type": "stream",
          "name": "stdout",
          "text": [
            "Shuffled data:\n",
            " [[ 9 10]\n",
            " [ 5  6]\n",
            " [ 7  8]\n",
            " [ 1  2]\n",
            " [ 3  4]]\n"
          ]
        }
      ]
    },
    {
      "cell_type": "markdown",
      "source": [
        "###Activity 12: `reshape()`,` ravel()`,` flatten()`"
      ],
      "metadata": {
        "id": "IsTpOi5NEN13"
      }
    },
    {
      "cell_type": "code",
      "source": [
        "# Activity: Reshape()\n",
        "array_1 = np.arange(1,10).reshape(3,3)\n",
        "array_1"
      ],
      "metadata": {
        "id": "ioMGbjzF1FbO"
      },
      "execution_count": null,
      "outputs": []
    },
    {
      "cell_type": "code",
      "source": [
        "# Activity: Ravel()\n",
        "arr_ravel = array_1.ravel()\n",
        "arr_ravel"
      ],
      "metadata": {
        "id": "gqKrYUxf1-qg"
      },
      "execution_count": null,
      "outputs": []
    },
    {
      "cell_type": "code",
      "source": [
        "#Activity: Flatten()\n",
        "arr_flatten = array_1.flatten()\n",
        "arr_flatten"
      ],
      "metadata": {
        "id": "mMIkdS1x2CYG"
      },
      "execution_count": null,
      "outputs": []
    },
    {
      "cell_type": "markdown",
      "source": [
        "The ravel() and flatten() functions in NumPy both return a flattened array, but they have some key differences in terms of how they handle memory:\n",
        "\n",
        "`ravel()`\n",
        "\n",
        "- Returns a flattened array.\n",
        "- Returns a view whenever possible: This means that ravel() tries to avoid creating a new array if it can. If the array is already contiguous in memory, it will return a view of the original array. If it can't return a view, it will return a copy.\n",
        "- Changes to the raveled array may affect the original array if it returns a view.\n",
        "\n",
        "`flatten()`\n",
        "\n",
        "- Returns a flattened array.\n",
        "- Always returns a copy: This means that flatten() creates a new array and the changes to the flattened array will not affect the original array.\n",
        "- Does not affect the original array: Since it returns a copy, any modifications to the flattened array will not impact the original array."
      ],
      "metadata": {
        "id": "KMqgfQZ7EN14"
      }
    },
    {
      "cell_type": "code",
      "source": [
        "# Create a 2x2 array\n",
        "arr = np.array([[1, 2],\n",
        "                [3, 4]])\n",
        "\n",
        "# Use ravel() to flatten the array\n",
        "raveled_arr = arr.ravel()\n",
        "print(\"Raveled array:\", raveled_arr)\n",
        "\n",
        "# Modify the raveled array\n",
        "raveled_arr[0] = 10\n",
        "print(\"Modified raveled array:\", raveled_arr)\n",
        "print(\"Original array after ravel modification:\", arr)\n",
        "\n"
      ],
      "metadata": {
        "id": "_lVnHkJpEN14"
      },
      "execution_count": null,
      "outputs": []
    },
    {
      "cell_type": "code",
      "source": [
        "# Create a 2x2 array\n",
        "arr = np.array([[1, 2],\n",
        "                [3, 4]])\n",
        "\n",
        "# Use flatten() to flatten the array\n",
        "flattened_arr = arr.flatten()\n",
        "print(\"Flattened array:\", flattened_arr)\n",
        "\n",
        "# Modify the flattened array\n",
        "flattened_arr[0] = 20\n",
        "print(\"Modified flattened array:\", flattened_arr)\n",
        "print(\"Original array after flatten modification:\", arr)"
      ],
      "metadata": {
        "id": "HgCLNfwt2w9A",
        "collapsed": true
      },
      "execution_count": null,
      "outputs": []
    },
    {
      "cell_type": "code",
      "source": [
        "# Create a 2x3 array\n",
        "arr = np.array([[1, 2, 3], [4, 5, 6]])\n",
        "\n",
        "# C order (default)\n",
        "c_order = np.ravel(arr, order='C')\n",
        "print(\"C order:\", c_order)\n",
        "\n",
        "# F order\n",
        "f_order = np.ravel(arr, order='F')\n",
        "print(\"F order:\", f_order)"
      ],
      "metadata": {
        "id": "lGqO-ZsTusWB"
      },
      "execution_count": null,
      "outputs": []
    },
    {
      "cell_type": "markdown",
      "source": [
        "C Order: [1, 2, 3, 4, 5, 6]\n",
        "- Rows are stored sequentially: first row [1, 2, 3] followed by the second row [4, 5, 6].\n",
        "\n",
        "F Order: [1, 4, 2, 5, 3, 6]\n",
        "- Columns are stored sequentially: first column [1, 4], second column [2, 5], and third column [3, 6]."
      ],
      "metadata": {
        "id": "52lu_JN6uxl7"
      }
    },
    {
      "cell_type": "markdown",
      "source": [
        "**Practical Use Cases:**\n",
        "\n",
        "**C Order:**\n",
        "\n",
        "- Typically used when performing operations that process rows of an array.\n",
        "- Common in many numerical and scientific computations\n",
        "\n",
        "**F Order:**\n",
        "\n",
        "- Useful in linear algebra and matrix operations where column-wise processing is needed.\n",
        "\n"
      ],
      "metadata": {
        "id": "u-tgJDsyu7MM"
      }
    },
    {
      "cell_type": "markdown",
      "source": [
        "### Activity 13: Addition of arrays"
      ],
      "metadata": {
        "id": "wCWQ0Fdwpu12"
      }
    },
    {
      "cell_type": "code",
      "source": [
        "# Activity\n",
        "arr1 = np.arange(1,10).reshape(3,3)\n",
        "arr1"
      ],
      "metadata": {
        "id": "akpxqKHPunKq"
      },
      "execution_count": null,
      "outputs": []
    },
    {
      "cell_type": "code",
      "source": [
        "arr2 = np.arange(11,20).reshape(3,3)\n",
        "arr2"
      ],
      "metadata": {
        "id": "gwSTw3d6I05G"
      },
      "execution_count": null,
      "outputs": []
    },
    {
      "cell_type": "code",
      "source": [
        "arr1 + arr2"
      ],
      "metadata": {
        "id": "-Y3fuaSMI4ln"
      },
      "execution_count": null,
      "outputs": []
    },
    {
      "cell_type": "code",
      "source": [
        "np.add(arr1,arr2)"
      ],
      "metadata": {
        "id": "IJXVUuIcI7JM"
      },
      "execution_count": null,
      "outputs": []
    },
    {
      "cell_type": "code",
      "source": [
        "np.subtract(arr1,arr2)"
      ],
      "metadata": {
        "id": "868togPTI_xX"
      },
      "execution_count": null,
      "outputs": []
    },
    {
      "cell_type": "code",
      "source": [
        "np.multiply(arr1,arr2)"
      ],
      "metadata": {
        "id": "gFDxvA0DJOSB"
      },
      "execution_count": null,
      "outputs": []
    },
    {
      "cell_type": "code",
      "source": [
        "np.divide(arr1,arr2)"
      ],
      "metadata": {
        "id": "cQRZ45XkJUG1"
      },
      "execution_count": null,
      "outputs": []
    },
    {
      "cell_type": "code",
      "source": [
        "# Define two arrays\n",
        "array1 = np.array([[1, 2, 3], [4, 5, 6]])\n",
        "array2 = np.array([[7, 8, 9], [10, 11, 12]])\n",
        "\n",
        "# Add the arrays\n",
        "result_add = array1 + array2\n",
        "print(\"Addition:\\n\", result_add)"
      ],
      "metadata": {
        "id": "kQZ1b47GqJqq"
      },
      "execution_count": null,
      "outputs": []
    },
    {
      "cell_type": "markdown",
      "source": [
        "### Activity 14: Subtraction of Arrays"
      ],
      "metadata": {
        "id": "spaiJ5bKqJYs"
      }
    },
    {
      "cell_type": "code",
      "source": [
        "#Activity\n"
      ],
      "metadata": {
        "id": "iPPGma9uw_rZ"
      },
      "execution_count": null,
      "outputs": []
    },
    {
      "cell_type": "code",
      "source": [
        "\n",
        "# Define two arrays\n",
        "array1 = np.array([[1, 2, 3], [4, 5, 6]])\n",
        "array2 = np.array([[7, 8, 9], [10, 11, 12]])\n",
        "\n",
        "# Subtract the arrays\n",
        "result_subtract = array1 - array2\n",
        "print(\"Subtraction:\\n\", result_subtract)"
      ],
      "metadata": {
        "id": "BtCgLEeVqUQG"
      },
      "execution_count": null,
      "outputs": []
    },
    {
      "cell_type": "markdown",
      "source": [
        "### Activity 15: Multiplication of Arrays"
      ],
      "metadata": {
        "id": "r0IKrCySqVIy"
      }
    },
    {
      "cell_type": "code",
      "source": [
        "# Define two arrays\n",
        "array1 = np.array([[1, 2, 3], [4, 5, 6]])\n",
        "array2 = np.array([[7, 8, 9], [10, 11, 12]])\n",
        "\n",
        "# Multiply the arrays element-wise\n",
        "result_multiply = array1 * array2\n",
        "print(\"Element-wise Multiplication:\\n\", result_multiply)"
      ],
      "metadata": {
        "id": "ga2vrtJtqcEg"
      },
      "execution_count": null,
      "outputs": []
    },
    {
      "cell_type": "markdown",
      "source": [
        "### Activity 16: Division of Arrays"
      ],
      "metadata": {
        "id": "VelsWX46qgW2"
      }
    },
    {
      "cell_type": "code",
      "source": [
        "#Activity\n"
      ],
      "metadata": {
        "id": "78nVGhDrw64D"
      },
      "execution_count": null,
      "outputs": []
    },
    {
      "cell_type": "code",
      "source": [
        "\n",
        "# Define two arrays\n",
        "array1 = np.array([[1, 2, 3], [4, 5, 6]])\n",
        "array2 = np.array([[7, 8, 9], [10, 11, 12]])\n",
        "\n",
        "# Divide the arrays element-wise\n",
        "result_divide = array1 / array2\n",
        "print(\"Element-wise Division:\\n\", result_divide)"
      ],
      "metadata": {
        "id": "DYG-vcbMqlXj"
      },
      "execution_count": null,
      "outputs": []
    },
    {
      "cell_type": "markdown",
      "source": [
        "### Activity 17: Array Multiplication (using @ operator)"
      ],
      "metadata": {
        "id": "TkW-mUZbqsnl"
      }
    },
    {
      "cell_type": "markdown",
      "source": [
        "- The @ operator in Python for numpy arrays is used for matrix multiplication, which is also known as the dot product when applied to 2D arrays (matrices).\n",
        "- While the dot product of two vectors results in a scalar, the matrix multiplication of two matrices results in another matrix.\n",
        "\n",
        "Array Multiplication Using @ Operator\n",
        "In the context of numpy, when you use the @ operator with two 2D arrays (matrices), it performs matrix multiplication."
      ],
      "metadata": {
        "id": "oL0IOJiMxlvU"
      }
    },
    {
      "cell_type": "code",
      "source": [
        "# Define two vectors\n",
        "vector_a = np.array([1, 2, 3])\n",
        "vector_b = np.array([4, 5, 6])\n",
        "\n",
        "# Dot product using @ operator\n",
        "dot_product = vector_a @ vector_b\n",
        "\n",
        "print(\"Vector A:\", vector_a)\n",
        "print(\"Vector B:\", vector_b)\n",
        "print(\"Dot Product:\", dot_product)"
      ],
      "metadata": {
        "id": "y5mJ1rQIyF3p"
      },
      "execution_count": null,
      "outputs": []
    },
    {
      "cell_type": "code",
      "source": [
        "# Define two arrays\n",
        "array1 = np.array([[1, 2], [3, 4], [5, 6]])\n",
        "array2 = np.array([[7, 8], [9, 10]])\n",
        "\n",
        "# Matrix multiplication using @ operator\n",
        "result_matrix_multiplication = array1 @ array2\n",
        "print(\"Matrix Multiplication (using @ operator):\\n\", result_matrix_multiplication)"
      ],
      "metadata": {
        "id": "2qsx5jLhq1On"
      },
      "execution_count": null,
      "outputs": []
    },
    {
      "cell_type": "markdown",
      "source": [
        "Step-by-Step Calculation\n",
        "\n",
        "𝐶\n",
        "11 = (1 * 11) + (2 * 14) + (3 * 17) = 11 + 28 + 51 = 90\n",
        "\n",
        "Element\n",
        "\n",
        "𝐶\n",
        "12 = (1 * 12) + (2 * 15) + (3 * 18) = 12 + 30 + 54 = 96\n",
        "\n",
        "Element\n",
        "\n",
        "𝐶\n",
        "13 = (1 * 13) + (2 * 16) + (3 * 19)= 13 + 32 + 57 = 102\n",
        "\n",
        "Element\n",
        "\n",
        "𝐶\n",
        "21 =(4 * 11) + (5 * 14) + (6 * 17)= 44 + 70 + 102 = 216\n",
        "\n",
        "Element\n",
        "\n",
        "𝐶\n",
        "22 =(4 * 12)+(5 * 15)+(6 * 18)= 48 +75 + 108 =231\n",
        "\n",
        "\n",
        "Element\n",
        "\n",
        "𝐶\n",
        "23 =(4 * 13)+(5 * 16)+(6 * 19)= 52 + 80 + 114 = 246\n",
        "\n",
        "Element\n",
        "\n",
        "𝐶\n",
        "31 =(7 * 11)+(8 * 14)+(9 * 17)= 77 +112 +153 = 342\n",
        "\n",
        "Element\n",
        "\n",
        "𝐶\n",
        "32 =(7 * 12)+(8 * 15)+(9 * 18)= 84 + 120 +162 = 366\n",
        "\n",
        "Element\n",
        "\n",
        "𝐶\n",
        "33 =(7 * 13)+(8 * 16)+(9 * 19)= 91 + 128 + 171 = 390\n",
        "\n"
      ],
      "metadata": {
        "id": "g7R423Opy3k_"
      }
    },
    {
      "cell_type": "markdown",
      "source": [
        "### Activity 18: `argmax()` and `argmin()`"
      ],
      "metadata": {
        "id": "oerSJMKc3FDz"
      }
    },
    {
      "cell_type": "markdown",
      "source": [
        "- The `argmax()`function in NumPy is used to find the index of the maximum value in an array. It can be used with 1-dimensional arrays to return a single index or with multi-dimensional arrays to return indices along a specified axis.\n",
        "\n",
        "- The `argmin()`function in NumPy is used to find the index of the minimum value in an array."
      ],
      "metadata": {
        "id": "hRygWrhu3-I-"
      }
    },
    {
      "cell_type": "markdown",
      "source": [
        "**1D Array Example**\n",
        "For a 1D array, argmax() returns the index of the maximum value."
      ],
      "metadata": {
        "id": "DAQ52h-k5Rcb"
      }
    },
    {
      "cell_type": "code",
      "source": [
        "# For a 1D array, argmax() returns the index of the maximum value.\n",
        "arr3 =  np.array([1,3,7,2,5])\n",
        "np.max(arr3)"
      ],
      "metadata": {
        "id": "QIcbBDRV4EOq"
      },
      "execution_count": null,
      "outputs": []
    },
    {
      "cell_type": "code",
      "source": [
        "np.argmax(arr3)"
      ],
      "metadata": {
        "id": "1S8FBe_oLnuK"
      },
      "execution_count": null,
      "outputs": []
    },
    {
      "cell_type": "code",
      "source": [
        "np.argmin(arr3)"
      ],
      "metadata": {
        "id": "54cOx8ReLsEo"
      },
      "execution_count": null,
      "outputs": []
    },
    {
      "cell_type": "markdown",
      "source": [
        "**2D Array Example**\n",
        "\n",
        "For a 2D array, argmax() can be used to find the index of the maximum value along a specified axis."
      ],
      "metadata": {
        "id": "QWVJarhi5A0p"
      }
    },
    {
      "cell_type": "code",
      "source": [
        "arr = np.array([[1, 2, 3],\n",
        "                [4, 5, 6],\n",
        "                 [7, 8, 9]])\n",
        "\n",
        "# Find the index of the maximum value in the entire array\n",
        "index_of_max_flat = np.argmax(arr)\n",
        "\n",
        "# Find the index of the maximum value along each column\n",
        "index_of_max_axis0 = np.argmax(arr, axis=0)\n",
        "\n",
        "# Find the index of the maximum value along each row\n",
        "index_of_max_axis1 = np.argmax(arr, axis=1)\n",
        "\n",
        "print(\"Array:\")\n",
        "print(arr)\n",
        "print(\"\\nIndex of maximum value in the flattened array:\", index_of_max_flat)\n",
        "print(\"Index of maximum values along axis 0 (columns):\", index_of_max_axis0)\n",
        "print(\"Index of maximum values along axis 1 (rows):\", index_of_max_axis1)"
      ],
      "metadata": {
        "id": "euLR8YRe4QCd"
      },
      "execution_count": null,
      "outputs": []
    },
    {
      "cell_type": "code",
      "source": [
        "index_of_max_flat = np.argmax(arr)\n",
        "index_of_max_flat"
      ],
      "metadata": {
        "id": "WSKXnuLQMB1I"
      },
      "execution_count": null,
      "outputs": []
    },
    {
      "cell_type": "code",
      "source": [
        "arr.shape"
      ],
      "metadata": {
        "id": "_MtyRZl8L4gW"
      },
      "execution_count": null,
      "outputs": []
    },
    {
      "cell_type": "markdown",
      "source": [
        "**Multi-Dimensional Array Example**\n",
        "\n",
        "For higher-dimensional arrays, argmax() can still be applied along specified axes."
      ],
      "metadata": {
        "id": "8px0XcoH5JMw"
      }
    },
    {
      "cell_type": "code",
      "source": [
        "arr = np.array([[[1, 2, 3], [4, 5, 6]],\n",
        "               [[7, 8, 9], [10, 11, 12]]])\n",
        "\n",
        "# Find the index of the maximum value in the entire array\n",
        "index_of_max_flat = np.argmax(arr)\n",
        "\n",
        "# Find the index of the maximum value along the first axis\n",
        "index_of_max_axis0 = np.argmax(arr, axis=0)\n",
        "\n",
        "# Find the index of the maximum value along the second axis\n",
        "index_of_max_axis1 = np.argmax(arr, axis=1)\n",
        "\n",
        "print(\"Array:\")\n",
        "print(arr)\n",
        "print(\"\\nIndex of maximum value in the flattened array:\", index_of_max_flat)\n",
        "print(\"Index of maximum values along axis 0:\", index_of_max_axis0)\n",
        "print(\"Index of maximum values along axis 1:\", index_of_max_axis1)"
      ],
      "metadata": {
        "id": "68yJajar47vc"
      },
      "execution_count": null,
      "outputs": []
    },
    {
      "cell_type": "code",
      "source": [
        "arr = np.array([[[1, 2, 3], [4, 5, 6]],\n",
        "               [[7, 8, 9], [10, 11, 12]]])\n",
        "\n",
        "# Find the index of the maximum value in the entire array\n",
        "index_of_max_flat = np.argmax(arr)\n",
        "index_of_max_flat"
      ],
      "metadata": {
        "id": "neH-sEDZNJNq"
      },
      "execution_count": null,
      "outputs": []
    },
    {
      "cell_type": "code",
      "source": [
        "arr = np.array([[[1, 2, 3],\n",
        "                 [4, 5, 6]],\n",
        "\n",
        "               [[7, 8, 9],\n",
        "               [10, 11, 12]]])\n",
        "index_of_max_axis0 = np.argmax(arr, axis=0)\n",
        "index_of_max_axis0"
      ],
      "metadata": {
        "id": "Rq9cASpmNS_k"
      },
      "execution_count": null,
      "outputs": []
    },
    {
      "cell_type": "code",
      "source": [
        "arr_7 = np.array([[[19, 11, 31],\n",
        "                 [42, 5, 64]],\n",
        "\n",
        "               [[7, 80, 9],\n",
        "               [10, 111, 12]]])\n",
        "index_of_max_axis0 = np.argmax(arr_7, axis=0)\n",
        "index_of_max_axis0"
      ],
      "metadata": {
        "id": "h4YD8mQlN0DU"
      },
      "execution_count": null,
      "outputs": []
    },
    {
      "cell_type": "code",
      "source": [
        "arr_7 = np.array([[[19, 11, 31],\n",
        "                 [42, 5, 64]],\n",
        "\n",
        "               [[7, 80, 9],\n",
        "               [10, 111, 12]]])\n",
        "index_of_max_axis0 = np.argmax(arr_7, axis=1)\n",
        "index_of_max_axis0"
      ],
      "metadata": {
        "id": "GPqSXNhDOON7"
      },
      "execution_count": null,
      "outputs": []
    },
    {
      "cell_type": "markdown",
      "source": [
        "**Summary**\n",
        "\n",
        "- np.argmax(array) returns the index of the maximum value in a flattened array.\n",
        "- np.argmax(array, axis=0) returns the indices of the maximum values along the specified axis 0 (columns).\n",
        "- np.argmax(array, axis=1) returns the indices of the maximum values along the specified axis 1 (rows)."
      ],
      "metadata": {
        "id": "s5MYRLE64u2N"
      }
    },
    {
      "cell_type": "markdown",
      "source": [
        "### Activity 19: Concatenate Two array"
      ],
      "metadata": {
        "id": "QpuNs9cPcIJR"
      }
    },
    {
      "cell_type": "code",
      "source": [
        "# Concatenate using concatenate() function\n",
        "np.concatenate((arr1,arr2))"
      ],
      "metadata": {
        "id": "0LrMmbp7cH5o"
      },
      "execution_count": null,
      "outputs": []
    },
    {
      "cell_type": "markdown",
      "source": [
        "**Row wise concatenate**"
      ],
      "metadata": {
        "id": "HPWSaLzAcTR_"
      }
    },
    {
      "cell_type": "code",
      "source": [
        "# Activity\n",
        "np.concatenate((arr1,arr2), axis= 1)"
      ],
      "metadata": {
        "id": "ie4YTM5lcQmg"
      },
      "execution_count": null,
      "outputs": []
    },
    {
      "cell_type": "markdown",
      "source": [
        "**Column wise concatenate**"
      ],
      "metadata": {
        "id": "7dSlqroMmd9l"
      }
    },
    {
      "cell_type": "code",
      "source": [
        "#Activity\n",
        "np.concatenate((arr1,arr2), axis= 0)"
      ],
      "metadata": {
        "id": "WssbroD8mkxS"
      },
      "execution_count": null,
      "outputs": []
    },
    {
      "cell_type": "markdown",
      "source": [
        "**Concatenate Two array by using Stack function**\n",
        "`vstack()` and `hstack()` are functions in NumPy used for stacking arrays either vertically or horizontally, respectively."
      ],
      "metadata": {
        "id": "GHrYFAkqcX6Z"
      }
    },
    {
      "cell_type": "markdown",
      "source": [
        "**`np.vstack()`**\n",
        "\n",
        "- Function: np.vstack() stacks arrays vertically (row-wise).\n",
        "- Usage: It takes a sequence of arrays and stacks them vertically to make a single array. The arrays must have the same number of columns (i.e., the same shape along all but the first axis)."
      ],
      "metadata": {
        "id": "eLsg0h6mm_vm"
      }
    },
    {
      "cell_type": "code",
      "source": [
        "# np.vstack() it will concatenate two array vertically\n",
        "np.vstack((arr1,arr2))\n"
      ],
      "metadata": {
        "id": "IIUiS-CCcasY"
      },
      "execution_count": null,
      "outputs": []
    },
    {
      "cell_type": "code",
      "source": [
        "#Activity\n",
        "\n",
        "arr1 = np.array([[1, 2, 3],\n",
        "                 [4, 5, 6]])\n",
        "\n",
        "arr2 = np.array([[7, 8, 9],\n",
        "                 [10, 11, 12]])\n",
        "\n",
        "result = np.vstack((arr1, arr2))\n",
        "\n",
        "print(result)"
      ],
      "metadata": {
        "id": "cyYuWH0UnJaJ"
      },
      "execution_count": null,
      "outputs": []
    },
    {
      "cell_type": "markdown",
      "source": [
        "**`np.hstack()`**\n",
        "\n",
        "- Function: np.hstack() stacks arrays horizontally (column-wise).\n",
        "- Usage: It takes a sequence of arrays and stacks them horizontally to make a single array. The arrays must have the same number of rows (i.e., the same shape along all but the second axis)."
      ],
      "metadata": {
        "id": "o3NZcRMInHE1"
      }
    },
    {
      "cell_type": "code",
      "source": [
        "# np.hstack() it will concatenate two array horizontally\n",
        "np.hstack((arr1,arr2))\n"
      ],
      "metadata": {
        "id": "wso7ljBoccx_"
      },
      "execution_count": null,
      "outputs": []
    },
    {
      "cell_type": "code",
      "source": [
        "#Activity\n",
        "arr1 = np.array([[1, 2],\n",
        "                 [3, 4]])\n",
        "\n",
        "arr2 = np.array([[5, 6],\n",
        "                 [7, 8]])\n",
        "\n",
        "result = np.hstack((arr1, arr2))\n",
        "\n",
        "print(result)"
      ],
      "metadata": {
        "id": "nE0siuNbnXnd"
      },
      "execution_count": null,
      "outputs": []
    }
  ]
}